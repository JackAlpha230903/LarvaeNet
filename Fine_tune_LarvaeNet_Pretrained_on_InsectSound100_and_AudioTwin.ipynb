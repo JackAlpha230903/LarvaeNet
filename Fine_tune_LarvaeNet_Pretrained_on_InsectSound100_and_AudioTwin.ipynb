{
 "cells": [
  {
   "cell_type": "code",
   "execution_count": 9,
   "id": "37e9c92b-22ff-4696-b900-72ba025f4464",
   "metadata": {},
   "outputs": [
    {
     "name": "stdout",
     "output_type": "stream",
     "text": [
      "Using device: cuda\n"
     ]
    }
   ],
   "source": [
    "import os\n",
    "import random\n",
    "import pandas as pd\n",
    "import numpy as np\n",
    "import torch\n",
    "import torch.nn as nn\n",
    "import torch.nn.functional as F\n",
    "import torchaudio\n",
    "import torchaudio.transforms\n",
    "from torch.utils.data import Dataset, DataLoader, Subset\n",
    "from sklearn.model_selection import train_test_split\n",
    "# Import các thư viện metrics mới\n",
    "from sklearn.metrics import (\n",
    "    accuracy_score, precision_score, recall_score, f1_score,\n",
    "    classification_report, confusion_matrix, roc_auc_score,\n",
    "    roc_curve, auc\n",
    ")\n",
    "from torchvision.transforms import v2 as T\n",
    "from tqdm.auto import tqdm\n",
    "# Import Matplotlib để vẽ biểu đồ\n",
    "import matplotlib.pyplot as plt\n",
    "\n",
    "import warnings \n",
    "warnings.simplefilter(action='ignore', category=FutureWarning)\n",
    "\n",
    "device = torch.device(\"cuda\" if torch.cuda.is_available() else \"cpu\")\n",
    "print(f\"Using device: {device}\")\n",
    "SEED = 42\n",
    "random.seed(SEED)\n",
    "np.random.seed(SEED)\n",
    "torch.manual_seed(SEED)\n",
    "if torch.cuda.is_available():\n",
    "    torch.cuda.manual_seed_all(SEED)"
   ]
  },
  {
   "cell_type": "code",
   "execution_count": 2,
   "id": "9e885299-f6a8-428b-a735-c19d365a4596",
   "metadata": {},
   "outputs": [
    {
     "name": "stdout",
     "output_type": "stream",
     "text": [
      "Đã định nghĩa xong pipeline Augmentation mới cho Spectrogram.\n"
     ]
    }
   ],
   "source": [
    "class TimeShift(torch.nn.Module):\n",
    "    \"\"\" Dịch chuyển spectrogram theo trục thời gian một cách ngẫu nhiên. \"\"\"\n",
    "    def __init__(self, p=0.5, max_shift_percent=0.4):\n",
    "        super().__init__()\n",
    "        self.p = p\n",
    "        self.max_shift_percent = max_shift_percent\n",
    "\n",
    "    def forward(self, spec):\n",
    "        if torch.rand(1) < self.p:\n",
    "            time_steps = spec.shape[-1]\n",
    "            shift_amount = int(torch.rand(1) * self.max_shift_percent * time_steps)\n",
    "            if torch.rand(1) < 0.5:\n",
    "                shift_amount = -shift_amount\n",
    "            return torch.roll(spec, shifts=shift_amount, dims=-1)\n",
    "        return spec\n",
    "\n",
    "class SpecNoise(torch.nn.Module):\n",
    "    \"\"\" Thêm nhiễu Gaussian trực tiếp vào spectrogram. \"\"\"\n",
    "    def __init__(self, p=0.5, noise_level=0.05):\n",
    "        super().__init__()\n",
    "        self.p = p\n",
    "        self.noise_level = noise_level\n",
    "\n",
    "    def forward(self, spec):\n",
    "        if torch.rand(1) < self.p:\n",
    "            noise = torch.randn_like(spec) * self.noise_level\n",
    "            return spec + noise\n",
    "        return spec\n",
    "\n",
    "train_transform = T.Compose([\n",
    "    torchaudio.transforms.TimeMasking(time_mask_param=80),\n",
    "    torchaudio.transforms.FrequencyMasking(freq_mask_param=25),\n",
    "    TimeShift(p=0.5, max_shift_percent=0.4),\n",
    "    SpecNoise(p=0.3, noise_level=0.03),\n",
    "])\n",
    "\n",
    "val_transform = None\n",
    "print(\"Đã định nghĩa xong pipeline Augmentation mới cho Spectrogram.\")"
   ]
  },
  {
   "cell_type": "code",
   "execution_count": 4,
   "id": "e63f1247-905c-4390-8ce0-172ff05da9bc",
   "metadata": {},
   "outputs": [],
   "source": [
    "def mixup_data(x, y, alpha=0.4, use_cuda=True):\n",
    "    if alpha > 0: lam = np.random.beta(alpha, alpha)\n",
    "    else: lam = 1\n",
    "    batch_size = x.size()[0]\n",
    "    if use_cuda: index = torch.randperm(batch_size).cuda()\n",
    "    else: index = torch.randperm(batch_size)\n",
    "    mixed_x = lam * x + (1 - lam) * x[index, :]\n",
    "    y_a, y_b = y, y[index]\n",
    "    return mixed_x, y_a, y_b, lam\n",
    "\n",
    "def mixup_criterion(criterion, pred, y_a, y_b, lam):\n",
    "    return lam * criterion(pred, y_a) + (1 - lam) * criterion(pred, y_b)"
   ]
  },
  {
   "cell_type": "code",
   "execution_count": 5,
   "id": "bdbe66cf-681f-490f-824d-1b2e0d1606c6",
   "metadata": {},
   "outputs": [],
   "source": [
    "class DynamicGraphAttention(nn.Module):\n",
    "    def __init__(self, in_channels, num_nodes=32, heads=8, dropout=0.1):\n",
    "        super().__init__()\n",
    "        self.num_nodes, self.heads = num_nodes, heads\n",
    "        self.head_dim = in_channels // heads\n",
    "        self.dropout = nn.Dropout(dropout)\n",
    "        self.query = nn.Linear(in_channels, in_channels)\n",
    "        self.key = nn.Linear(in_channels, in_channels)\n",
    "        self.value = nn.Linear(in_channels, in_channels)\n",
    "        self.out = nn.Linear(in_channels, in_channels)\n",
    "        self.scale = nn.Parameter(torch.tensor(self.head_dim**-0.5))\n",
    "        self.pos_enc = nn.Parameter(torch.randn(1, num_nodes, in_channels))\n",
    "\n",
    "    def forward(self, x):\n",
    "        B, C, H, W = x.size()\n",
    "        x_flat = x.flatten(2).transpose(1, 2)\n",
    "        num_pixels = H * W\n",
    "        N = min(self.num_nodes, num_pixels)\n",
    "        _, indices = torch.topk(torch.norm(x_flat, dim=-1), N, dim=-1)\n",
    "        indices_expanded = indices.unsqueeze(-1).expand(-1, -1, C)\n",
    "        x_nodes = torch.gather(x_flat, 1, indices_expanded)\n",
    "        if self.pos_enc.size(1) >= N:\n",
    "            x_nodes = x_nodes + self.pos_enc[:, :N, :]\n",
    "        q = self.query(x_nodes).view(B, N, self.heads, self.head_dim).transpose(1, 2)\n",
    "        k = self.key(x_nodes).view(B, N, self.heads, self.head_dim).transpose(1, 2)\n",
    "        v = self.value(x_nodes).view(B, N, self.heads, self.head_dim).transpose(1, 2)\n",
    "        attn_weights = F.softmax(torch.matmul(q, k.transpose(-2, -1)) * self.scale, dim=-1)\n",
    "        attn_output = torch.matmul(self.dropout(attn_weights), v).transpose(1, 2).contiguous().view(B, N, C)\n",
    "        out_nodes = self.out(attn_output)\n",
    "        out_flat = torch.zeros_like(x_flat)\n",
    "        out_flat.scatter_(1, indices_expanded, out_nodes)\n",
    "        out = out_flat.transpose(1, 2).view(B, C, H, W)\n",
    "        return x + out\n",
    "\n",
    "class TemporalAttentionAggregator(nn.Module):\n",
    "    def __init__(self, in_channels, num_heads=4):\n",
    "        super().__init__()\n",
    "        self.attention_net = nn.MultiheadAttention(embed_dim=in_channels, num_heads=num_heads, batch_first=True)\n",
    "        self.norm = nn.LayerNorm(in_channels)\n",
    "\n",
    "    def forward(self, x):\n",
    "        if x.dim() != 4: raise ValueError(\"Input must be 4D tensor\")\n",
    "        B, C, H, W = x.size()\n",
    "        x_flat = x.flatten(2).transpose(1, 2)\n",
    "        x_norm = self.norm(x_flat)\n",
    "        attn_output, _ = self.attention_net(x_norm, x_norm, x_norm)\n",
    "        return torch.mean(attn_output, dim=1)\n",
    "\n",
    "class InvertedResidual(nn.Module):\n",
    "    def __init__(self, in_channels, out_channels, stride, expansion=6):\n",
    "        super().__init__()\n",
    "        hidden_dim = in_channels * expansion\n",
    "        self.use_residual = in_channels == out_channels and stride == 1\n",
    "        self.conv = nn.Sequential(\n",
    "            nn.Conv2d(in_channels, hidden_dim, 1, bias=False), nn.BatchNorm2d(hidden_dim), nn.SiLU(inplace=True),\n",
    "            nn.Conv2d(hidden_dim, hidden_dim, 3, stride, 1, groups=hidden_dim, bias=False), nn.BatchNorm2d(hidden_dim), nn.SiLU(inplace=True),\n",
    "            nn.Conv2d(hidden_dim, out_channels, 1, bias=False), nn.BatchNorm2d(out_channels)\n",
    "        )\n",
    "        self.se = nn.Sequential(\n",
    "            nn.AdaptiveAvgPool2d(1),\n",
    "            nn.Conv2d(out_channels, out_channels // 16, 1), nn.SiLU(),\n",
    "            nn.Conv2d(out_channels // 16, out_channels, 1), nn.Sigmoid()\n",
    "        )\n",
    "\n",
    "    def forward(self, x):\n",
    "        out = self.conv(x)\n",
    "        out = out * self.se(out)\n",
    "        return x + out if self.use_residual else out"
   ]
  },
  {
   "cell_type": "code",
   "execution_count": 16,
   "id": "782a855d-a155-4d43-b3db-4ba265adcd57",
   "metadata": {},
   "outputs": [
    {
     "name": "stdout",
     "output_type": "stream",
     "text": [
      "Đã định nghĩa xong kiến trúc model.\n"
     ]
    }
   ],
   "source": [
    "class PestLarvaNet_Medium_Encoder(nn.Module):\n",
    "    def __init__(self):\n",
    "        super().__init__()\n",
    "        self.config = [[1, 24, 2, 1], [6, 40, 3, 2], [6, 64, 3, 2], [6, 120, 3, 2], [6, 160, 2, 1]]\n",
    "        self.stem = nn.Sequential(\n",
    "            nn.Conv2d(1, 24, 3, 2, 1, bias=False),\n",
    "            nn.BatchNorm2d(24),\n",
    "            nn.SiLU(inplace=True)\n",
    "        )\n",
    "        layers = []\n",
    "        in_channels = 24\n",
    "        for t, c, n, s in self.config:\n",
    "            for i in range(n):\n",
    "                stride = s if i == 0 else 1\n",
    "                layers.append(InvertedResidual(in_channels, c, stride, expansion=t))\n",
    "                in_channels = c\n",
    "            if c == 40:\n",
    "                layers.append(DynamicGraphAttention(in_channels, num_nodes=32, heads=8))\n",
    "        self.body = nn.Sequential(*layers)\n",
    "        self.head_conv = nn.Conv2d(160, 384, 1, bias=False)\n",
    "        self.aggregator = TemporalAttentionAggregator(384, num_heads=8)\n",
    "    \n",
    "    def forward(self, x):\n",
    "        # Model xử lý đầu vào (B, H, W) -> (B, 1, H, W)\n",
    "        if x.dim() == 3:\n",
    "            x = x.unsqueeze(1)\n",
    "        x = self.stem(x)\n",
    "        x = self.body(x)\n",
    "        x = self.head_conv(x)\n",
    "        x = self.aggregator(x)\n",
    "        return x\n",
    "\n",
    "class PestLarvaNet_Medium_Classifier(nn.Module):\n",
    "    def __init__(self, num_classes, pretrained_weights_path=None):\n",
    "        super().__init__()\n",
    "        self.encoder = PestLarvaNet_Medium_Encoder()\n",
    "        self.classifier = nn.Sequential(\n",
    "            nn.Linear(384, 192),\n",
    "            nn.SiLU(inplace=True),\n",
    "            nn.Dropout(0.4),\n",
    "            nn.Linear(192, num_classes)\n",
    "        )\n",
    "        if pretrained_weights_path:\n",
    "            print(f\"Loading pretrained weights from: {pretrained_weights_path}\")\n",
    "            checkpoint = torch.load(pretrained_weights_path, map_location=device, weights_only=True)\n",
    "            # Adjust the checkpoint loading to handle encoder weights\n",
    "            state_dict = {k.replace('encoder.', ''): v for k, v in checkpoint.items() if k.startswith('encoder.')}\n",
    "            self.encoder.load_state_dict(state_dict, strict=False)\n",
    "\n",
    "    def forward(self, x):\n",
    "        x = self.encoder(x)\n",
    "        return self.classifier(x)\n",
    "\n",
    "print(\"Đã định nghĩa xong kiến trúc model.\")"
   ]
  },
  {
   "cell_type": "code",
   "execution_count": 17,
   "id": "a68249a0-6930-400e-a213-7cb3f2b50f17",
   "metadata": {},
   "outputs": [
    {
     "name": "stdout",
     "output_type": "stream",
     "text": [
      "Đã cập nhật xong SpectrogramDataset.\n",
      "Đã cập nhật xong SpectrogramDataset.\n"
     ]
    }
   ],
   "source": [
    "class SpectrogramDataset(Dataset):\n",
    "    # Sử dụng 'melspec_dir' trỏ trực tiếp đến thư mục chứa file .pt\n",
    "    def __init__(self, metadata_df, melspec_dir, transform=None, target_tdim=626):\n",
    "        super().__init__()\n",
    "        self.metadata = metadata_df\n",
    "        self.melspec_dir = melspec_dir \n",
    "        self.transform = transform\n",
    "        self.target_tdim = target_tdim\n",
    "        self.class_names = sorted(self.metadata['label'].unique())\n",
    "        self.class_to_id = {name: i for i, name in enumerate(self.class_names)}\n",
    "\n",
    "    def __len__(self):\n",
    "        return len(self.metadata)\n",
    "\n",
    "    def __getitem__(self, idx):\n",
    "        row = self.metadata.iloc[idx]\n",
    "        relative_path = row['file_path'] \n",
    "        file_path = os.path.join(self.melspec_dir, relative_path)\n",
    "        label = self.class_to_id[row['label']]\n",
    "        try:\n",
    "            spectrogram = torch.load(file_path).to(torch.float32) # (H, W)\n",
    "            current_tdim = spectrogram.shape[-1]\n",
    "            if current_tdim > self.target_tdim:\n",
    "                spectrogram = spectrogram[..., :self.target_tdim]\n",
    "            elif current_tdim < self.target_tdim:\n",
    "                spectrogram = F.pad(spectrogram, (0, self.target_tdim - current_tdim))\n",
    "            if self.transform:\n",
    "                spectrogram = self.transform(spectrogram)\n",
    "            return spectrogram, label\n",
    "        except Exception as e:\n",
    "            print(f\"Error loading or processing file {file_path}: {e}\")\n",
    "            return None\n",
    "\n",
    "def collate_fn_remove_none(batch):\n",
    "    batch = [item for item in batch if item is not None]\n",
    "    if not batch: \n",
    "        return torch.tensor([]), torch.tensor([]) \n",
    "    samples, labels = zip(*batch)\n",
    "    return torch.stack(samples), torch.tensor(labels)\n",
    "\n",
    "print(\"Đã cập nhật xong SpectrogramDataset.\")\n",
    "\n",
    "def collate_fn_remove_none(batch):\n",
    "    \"\"\" Lọc ra các item bị lỗi (None) từ __getitem__ trước khi tạo batch. \"\"\"\n",
    "    batch = [item for item in batch if item is not None]\n",
    "    if not batch: \n",
    "        # Trả về tensor rỗng nếu cả batch bị lỗi\n",
    "        return torch.tensor([]), torch.tensor([]) \n",
    "    samples, labels = zip(*batch)\n",
    "    # torch.stack sẽ tạo (B, H, W)\n",
    "    return torch.stack(samples), torch.tensor(labels)\n",
    "\n",
    "print(\"Đã cập nhật xong SpectrogramDataset.\")"
   ]
  },
  {
   "cell_type": "code",
   "execution_count": 18,
   "id": "3e9a92b2-5e42-4e45-9729-b505b5b3c71b",
   "metadata": {},
   "outputs": [],
   "source": [
    "def plot_roc_curve(val_labels, val_probs, class_names, save_path):\n",
    "    \"\"\"\n",
    "    Vẽ và lưu biểu đồ ROC Curve (One-vs-Rest) cho từng lớp.\n",
    "    \"\"\"\n",
    "    n_classes = len(class_names)\n",
    "    fpr = dict()\n",
    "    tpr = dict()\n",
    "    roc_auc = dict()\n",
    "\n",
    "    # Chuyển đổi labels sang one-hot\n",
    "    val_labels_one_hot = F.one_hot(torch.tensor(val_labels), num_classes=n_classes).numpy()\n",
    "\n",
    "    for i in range(n_classes):\n",
    "        fpr[i], tpr[i], _ = roc_curve(val_labels_one_hot[:, i], val_probs[:, i])\n",
    "        roc_auc[i] = auc(fpr[i], tpr[i])\n",
    "\n",
    "    plt.figure(figsize=(10, 8))\n",
    "    \n",
    "    # Vẽ đường ROC cho từng lớp\n",
    "    for i in range(n_classes):\n",
    "        plt.plot(fpr[i], tpr[i], label=f'Class {class_names[i]} (AUC = {roc_auc[i]:.4f})')\n",
    "\n",
    "    plt.plot([0, 1], [0, 1], 'k--', label='Chance (AUC = 0.50)')\n",
    "    plt.xlim([0.0, 1.0])\n",
    "    plt.ylim([0.0, 1.05])\n",
    "    plt.xlabel('False Positive Rate')\n",
    "    plt.ylabel('True Positive Rate')\n",
    "    plt.title(f'Multi-class (One-vs-Rest) ROC Curve')\n",
    "    plt.legend(loc=\"lower right\")\n",
    "    plt.grid(True)\n",
    "    plt.savefig(save_path)\n",
    "    plt.close() # Đóng plot để giải phóng bộ nhớ\n",
    "\n",
    "def train_and_evaluate(\n",
    "    model, \n",
    "    train_loader, \n",
    "    val_loader, \n",
    "    epochs, \n",
    "    results_dir,      # <<< THAY ĐỔI: Nhận thư mục output\n",
    "    run_base_name,    # <<< THAY ĐỔI: Nhận tên cơ sở (ví dụ: 'Model_A_data_25.0percent')\n",
    "    class_names \n",
    "):\n",
    "    optimizer = torch.optim.AdamW(model.parameters(), lr=1e-3, weight_decay=1e-4)\n",
    "    criterion = nn.CrossEntropyLoss()\n",
    "    scheduler = torch.optim.lr_scheduler.ReduceLROnPlateau(optimizer, 'max', factor=0.5, patience=5, verbose=False)\n",
    "    scaler = torch.cuda.amp.GradScaler(enabled=torch.cuda.is_available())\n",
    "    \n",
    "    best_f1_weighted = 0.0 \n",
    "    best_metrics_dict = {} # <<< MỚI: Lưu trữ dict metrics tốt nhất\n",
    "    \n",
    "    # <<< MỚI: Tạo đường dẫn động\n",
    "    metrics_csv_path = os.path.join(results_dir, f\"metrics_history_{run_base_name}.csv\")\n",
    "    best_checkpoint_path = os.path.join(results_dir, f\"Best_{run_base_name}.pth\")\n",
    "    report_path = os.path.join(results_dir, f\"Best_{run_base_name}_report.txt\")\n",
    "    cm_path = os.path.join(results_dir, f\"Best_{run_base_name}_confusion_matrix.csv\")\n",
    "    auc_plot_path = os.path.join(results_dir, f\"Best_{run_base_name}_AUC_ROC.png\")\n",
    "\n",
    "    # <<< MỚI: Header CSV đầy đủ\n",
    "    csv_header = [\n",
    "        'Epoch', 'Accuracy', \n",
    "        'Precision_micro', 'Precision_macro', 'Precision_w',\n",
    "        'Recall_micro', 'Recall_macro', 'Recall_w',\n",
    "        'F1_micro', 'F1_macro', 'F1_w',\n",
    "        'AUC_macro'\n",
    "    ]\n",
    "    if not os.path.exists(metrics_csv_path):\n",
    "        pd.DataFrame(columns=csv_header).to_csv(metrics_csv_path, index=False)\n",
    "        \n",
    "    for epoch in range(epochs):\n",
    "        model.train()\n",
    "        loop = tqdm(train_loader, desc=f\"Epoch {epoch+1}/{epochs}\", leave=False)\n",
    "        for inputs, labels in loop:\n",
    "            if inputs.shape[0] == 0: continue\n",
    "            inputs, labels = inputs.to(device), labels.to(device)\n",
    "            optimizer.zero_grad(set_to_none=True)\n",
    "            with torch.cuda.amp.autocast(enabled=torch.cuda.is_available()):\n",
    "                outputs = model(inputs)\n",
    "                loss = criterion(outputs, labels)\n",
    "            scaler.scale(loss).backward(); scaler.step(optimizer); scaler.update()\n",
    "            \n",
    "        model.eval()\n",
    "        val_preds, val_labels, val_probs = [], [], []\n",
    "        \n",
    "        with torch.no_grad():\n",
    "            for inputs, labels in val_loader:\n",
    "                if inputs.shape[0] == 0: continue\n",
    "                inputs, labels = inputs.to(device), labels.to(device)\n",
    "                with torch.cuda.amp.autocast(enabled=torch.cuda.is_available()):\n",
    "                    outputs = model(inputs)\n",
    "                probs = F.softmax(outputs, dim=1) \n",
    "                _, predicted = torch.max(outputs.data, 1)\n",
    "                val_preds.extend(predicted.cpu().numpy())\n",
    "                val_labels.extend(labels.cpu().numpy())\n",
    "                val_probs.extend(probs.cpu().numpy())\n",
    "                \n",
    "        if len(val_labels) > 0:\n",
    "            val_labels_np = np.array(val_labels)\n",
    "            val_preds_np = np.array(val_preds)\n",
    "            val_probs_np = np.array(val_probs)\n",
    "            \n",
    "            # <<< MỚI: Tính toán TẤT CẢ các chỉ số\n",
    "            metrics_data = {'Epoch': epoch + 1}\n",
    "            metrics_data['Accuracy'] = accuracy_score(val_labels_np, val_preds_np)\n",
    "            \n",
    "            # Precision\n",
    "            metrics_data['Precision_micro'] = precision_score(val_labels_np, val_preds_np, average='micro', zero_division=0)\n",
    "            metrics_data['Precision_macro'] = precision_score(val_labels_np, val_preds_np, average='macro', zero_division=0)\n",
    "            metrics_data['Precision_w'] = precision_score(val_labels_np, val_preds_np, average='weighted', zero_division=0)\n",
    "            \n",
    "            # Recall\n",
    "            metrics_data['Recall_micro'] = recall_score(val_labels_np, val_preds_np, average='micro', zero_division=0)\n",
    "            metrics_data['Recall_macro'] = recall_score(val_labels_np, val_preds_np, average='macro', zero_division=0)\n",
    "            metrics_data['Recall_w'] = recall_score(val_labels_np, val_preds_np, average='weighted', zero_division=0)\n",
    "            \n",
    "            # F1-Score\n",
    "            metrics_data['F1_micro'] = f1_score(val_labels_np, val_preds_np, average='micro', zero_division=0)\n",
    "            metrics_data['F1_macro'] = f1_score(val_labels_np, val_preds_np, average='macro', zero_division=0)\n",
    "            metrics_data['F1_w'] = f1_score(val_labels_np, val_preds_np, average='weighted', zero_division=0)\n",
    "            \n",
    "            # AUC\n",
    "            try:\n",
    "                metrics_data['AUC_macro'] = roc_auc_score(val_labels_np, val_probs_np, multi_class='ovr', average='macro')\n",
    "            except ValueError:\n",
    "                metrics_data['AUC_macro'] = 0.0\n",
    "\n",
    "            # Ghi vào file CSV (ghi MỌI epoch)\n",
    "            pd.DataFrame([metrics_data]).to_csv(metrics_csv_path, mode='a', header=False, index=False)\n",
    "\n",
    "            # Tiêu chí chính để lưu model (vẫn dùng F1-weighted)\n",
    "            current_f1_weighted = metrics_data['F1_w']\n",
    "            if current_f1_weighted > best_f1_weighted:\n",
    "                best_f1_weighted = current_f1_weighted\n",
    "                best_metrics_dict = metrics_data # <<< MỚI: Lưu lại dict metrics tốt nhất\n",
    "                \n",
    "                print(f\"\\nEpoch {epoch+1}: New best F1-weighted: {best_f1_weighted:.4f}\")\n",
    "                print(f\"  F1-Macro: {metrics_data['F1_macro']:.4f}, AUC-Macro: {metrics_data['AUC_macro']:.4f}, Accuracy: {metrics_data['Accuracy']:.4f}\")\n",
    "                print(f\"Saving best model artifacts to {results_dir}\")\n",
    "                \n",
    "                # Lưu Checkpoint\n",
    "                torch.save(model.state_dict(), best_checkpoint_path)\n",
    "                \n",
    "                # Lưu Báo cáo Phân loại (Classification Report)\n",
    "                report = classification_report(val_labels_np, val_preds_np, target_names=class_names, digits=4, zero_division=0)\n",
    "                with open(report_path, 'w', encoding='utf-8') as f:\n",
    "                    f.write(report)\n",
    "                    f.write(f\"\\n--- Summary Metrics ---\\n\")\n",
    "                    for key, val in best_metrics_dict.items():\n",
    "                        if key != 'Epoch': f.write(f\"{key}: {val:.4f}\\n\")\n",
    "                    \n",
    "                # Lưu Ma trận Nhầm lẫn (Confusion Matrix)\n",
    "                cm_df = pd.DataFrame(confusion_matrix(val_labels_np, val_preds_np), index=class_names, columns=class_names)\n",
    "                cm_df.to_csv(cm_path)\n",
    "                \n",
    "                # <<< MỚI: Vẽ và lưu biểu đồ AUC ROC\n",
    "                plot_roc_curve(val_labels_np, val_probs_np, class_names, auc_plot_path)\n",
    "\n",
    "            scheduler.step(current_f1_weighted) \n",
    "            \n",
    "    print(f\"Finished Training for this run. Best F1-weighted: {best_f1_weighted:.4f}\")\n",
    "    return best_metrics_dict # <<< THAY ĐỔI: Trả về dict đầy đủ"
   ]
  },
  {
   "cell_type": "code",
   "execution_count": 19,
   "id": "9c313997-7246-4aa4-be92-da24a1c8b8b9",
   "metadata": {},
   "outputs": [
    {
     "name": "stdout",
     "output_type": "stream",
     "text": [
      "Tất cả kết quả sẽ được lưu vào các thư mục con trong: C:\\Users\\PC\\Downloads\\Melspectrogram_finetune_NEW\n",
      "Preparing dataset...\n",
      "Number of classes: 8\n",
      "Data split: 11240 train, 2810 test.\n",
      "Class names: ['Gryllus_bimaculatus', 'Gryllus_campestris', 'Halyomorpha', 'Melolontha_melolontha', 'Myzus', 'Nezara', 'Trialeurodes', 'Tuta']\n"
     ]
    }
   ],
   "source": [
    "# --- CẤU HÌNH ĐƯỜNG DẪN ---\n",
    "# 1. MELSPEC_DIR: Đường dẫn đến thư mục CHỨA các file .pt\n",
    "MELSPEC_DIR = r'C:\\Users\\PC\\Downloads\\Melspectrogram_finetune_NEW\\Finetune_MelSpec' \n",
    "\n",
    "# 2. METADATA_PATH: Đường dẫn ĐẦY ĐỦ đến file .csv\n",
    "METADATA_PATH = r'C:\\Users\\PC\\Downloads\\Melspectrogram_finetune_NEW\\metadata_Finetune_MelSpec.csv'\n",
    "\n",
    "# 3. BASE_OUTPUT_DIR: Thư mục GỐC để lưu TẤT CẢ các thư mục kết quả\n",
    "#    (Lấy thư mục cha của file metadata)\n",
    "BASE_OUTPUT_DIR = os.path.dirname(METADATA_PATH)\n",
    "print(f\"Tất cả kết quả sẽ được lưu vào các thư mục con trong: {BASE_OUTPUT_DIR}\")\n",
    "\n",
    "# 4. (Giữ nguyên) Đường dẫn đến checkpoint PRETRAINED\n",
    "CHECKPOINT_BASE = r'C:\\Users\\PC\\PestLarvaNet\\SSL\\audiotwin_checkpoints_medium\\Final checkpoint'\n",
    "\n",
    "# --- (Code thực thi) ---\n",
    "checkpoint_files = [\n",
    "    'run_1_lp1e-04_ep1e-06_lb0.001_audiotwin_pestlarvanet_medium_epoch_100.pth',\n",
    "    'run_2_lp5e-04_ep1e-06_lb0.003_audiotwin_pestlarvanet_medium_epoch_100.pth',\n",
    "    'run_3_lp1e-03_ep1e-06_lb0.005_audiotwin_pestlarvanet_medium_epoch_100.pth',\n",
    "    'run_4_lp5e-03_ep1e-06_lb0.007_audiotwin_pestlarvanet_medium_epoch_100.pth',\n",
    "    'run_5_lp1e-02_ep1e-06_lb0.010_audiotwin_pestlarvanet_medium_epoch_100.pth'\n",
    "]\n",
    "DATA_PERCENTAGES = [0.25, 0.5, 1.0]\n",
    "results = {} \n",
    "\n",
    "print(\"Preparing dataset...\")\n",
    "full_metadata = pd.read_csv(METADATA_PATH)\n",
    "num_classes = len(full_metadata['label'].unique())\n",
    "print(f\"Number of classes: {num_classes}\")\n",
    "\n",
    "indices = np.arange(len(full_metadata))\n",
    "labels = full_metadata['label'].values\n",
    "\n",
    "# Chia train/test (80/20)\n",
    "train_indices, test_indices, _, _ = train_test_split(\n",
    "    indices, labels, test_size=0.2, random_state=SEED, stratify=labels\n",
    ")\n",
    "print(f\"Data split: {len(train_indices)} train, {len(test_indices)} test.\")\n",
    "\n",
    "# Tạo Test loader\n",
    "test_metadata = full_metadata.iloc[test_indices]\n",
    "test_dataset = SpectrogramDataset(metadata_df=test_metadata, melspec_dir=MELSPEC_DIR, transform=val_transform)\n",
    "test_loader = DataLoader(test_dataset, batch_size=32, num_workers=0, collate_fn=collate_fn_remove_none)\n",
    "\n",
    "# Lấy danh sách tên lớp\n",
    "class_names_list = test_dataset.class_names\n",
    "print(f\"Class names: {class_names_list}\")\n",
    "\n",
    "model_configs = {\n",
    "    f\"PestLarvaNet (AudioTwin Run {i+1})\": {\n",
    "        \"model_class\": PestLarvaNet_Medium_Classifier,\n",
    "        \"args\": {\"num_classes\": num_classes, \"pretrained_weights_path\": os.path.join(CHECKPOINT_BASE, checkpoint_files[i])}\n",
    "    } for i in range(len(checkpoint_files))\n",
    "}"
   ]
  },
  {
   "cell_type": "code",
   "execution_count": 20,
   "id": "1432070a-9bfe-43a4-9cc9-4008be13fddc",
   "metadata": {},
   "outputs": [
    {
     "name": "stdout",
     "output_type": "stream",
     "text": [
      "\n",
      "==================== Evaluating: PestLarvaNet (AudioTwin Run 1) ====================\n",
      "Lưu kết quả của model này vào: C:\\Users\\PC\\Downloads\\Melspectrogram_finetune_NEW\\PestLarvaNet_AudioTwin_Run_1\n",
      "--- Training with 25.0% of labeled data ---\n",
      "Loading pretrained weights from: C:\\Users\\PC\\PestLarvaNet\\SSL\\audiotwin_checkpoints_medium\\Final checkpoint\\run_1_lp1e-04_ep1e-06_lb0.001_audiotwin_pestlarvanet_medium_epoch_100.pth\n"
     ]
    },
    {
     "name": "stderr",
     "output_type": "stream",
     "text": [
      "C:\\Users\\PC\\anaconda3\\envs\\FallDeteNet\\lib\\site-packages\\torch\\optim\\lr_scheduler.py:62: UserWarning: The verbose parameter is deprecated. Please use get_last_lr() to access the learning rate.\n",
      "  warnings.warn(\n"
     ]
    },
    {
     "data": {
      "application/vnd.jupyter.widget-view+json": {
       "model_id": "2b55e551a5f94f81ba669b6898f591fb",
       "version_major": 2,
       "version_minor": 0
      },
      "text/plain": [
       "Epoch 1/100:   0%|          | 0/88 [00:00<?, ?it/s]"
      ]
     },
     "metadata": {},
     "output_type": "display_data"
    },
    {
     "name": "stdout",
     "output_type": "stream",
     "text": [
      "\n",
      "Epoch 1: New best F1-weighted: 0.4536\n",
      "  F1-Macro: 0.3937, AUC-Macro: 0.0000, Accuracy: 0.5078\n",
      "Saving best model artifacts to C:\\Users\\PC\\Downloads\\Melspectrogram_finetune_NEW\\PestLarvaNet_AudioTwin_Run_1\\data_25.0percent\n"
     ]
    },
    {
     "data": {
      "application/vnd.jupyter.widget-view+json": {
       "model_id": "1dc80b1711d149ffa3ca01175036a214",
       "version_major": 2,
       "version_minor": 0
      },
      "text/plain": [
       "Epoch 2/100:   0%|          | 0/88 [00:00<?, ?it/s]"
      ]
     },
     "metadata": {},
     "output_type": "display_data"
    },
    {
     "data": {
      "application/vnd.jupyter.widget-view+json": {
       "model_id": "68bca69c65834e958bedea7a5f52972e",
       "version_major": 2,
       "version_minor": 0
      },
      "text/plain": [
       "Epoch 3/100:   0%|          | 0/88 [00:00<?, ?it/s]"
      ]
     },
     "metadata": {},
     "output_type": "display_data"
    },
    {
     "name": "stdout",
     "output_type": "stream",
     "text": [
      "\n",
      "Epoch 3: New best F1-weighted: 0.4893\n",
      "  F1-Macro: 0.4129, AUC-Macro: 0.0000, Accuracy: 0.5349\n",
      "Saving best model artifacts to C:\\Users\\PC\\Downloads\\Melspectrogram_finetune_NEW\\PestLarvaNet_AudioTwin_Run_1\\data_25.0percent\n"
     ]
    },
    {
     "data": {
      "application/vnd.jupyter.widget-view+json": {
       "model_id": "56aa2e14379d4b5fad0c9dfeab69cf84",
       "version_major": 2,
       "version_minor": 0
      },
      "text/plain": [
       "Epoch 4/100:   0%|          | 0/88 [00:00<?, ?it/s]"
      ]
     },
     "metadata": {},
     "output_type": "display_data"
    },
    {
     "name": "stdout",
     "output_type": "stream",
     "text": [
      "\n",
      "Epoch 4: New best F1-weighted: 0.4965\n",
      "  F1-Macro: 0.4370, AUC-Macro: 0.0000, Accuracy: 0.5605\n",
      "Saving best model artifacts to C:\\Users\\PC\\Downloads\\Melspectrogram_finetune_NEW\\PestLarvaNet_AudioTwin_Run_1\\data_25.0percent\n"
     ]
    },
    {
     "data": {
      "application/vnd.jupyter.widget-view+json": {
       "model_id": "3fed7df88b2e4fdfae6465b4fa42adf9",
       "version_major": 2,
       "version_minor": 0
      },
      "text/plain": [
       "Epoch 5/100:   0%|          | 0/88 [00:00<?, ?it/s]"
      ]
     },
     "metadata": {},
     "output_type": "display_data"
    },
    {
     "name": "stdout",
     "output_type": "stream",
     "text": [
      "\n",
      "Epoch 5: New best F1-weighted: 0.5378\n",
      "  F1-Macro: 0.4700, AUC-Macro: 0.0000, Accuracy: 0.5854\n",
      "Saving best model artifacts to C:\\Users\\PC\\Downloads\\Melspectrogram_finetune_NEW\\PestLarvaNet_AudioTwin_Run_1\\data_25.0percent\n"
     ]
    },
    {
     "data": {
      "application/vnd.jupyter.widget-view+json": {
       "model_id": "b13ef5be41454227be128a4f1651655f",
       "version_major": 2,
       "version_minor": 0
      },
      "text/plain": [
       "Epoch 6/100:   0%|          | 0/88 [00:00<?, ?it/s]"
      ]
     },
     "metadata": {},
     "output_type": "display_data"
    },
    {
     "data": {
      "application/vnd.jupyter.widget-view+json": {
       "model_id": "98f00c15554340efbaa6806baa880fd4",
       "version_major": 2,
       "version_minor": 0
      },
      "text/plain": [
       "Epoch 7/100:   0%|          | 0/88 [00:00<?, ?it/s]"
      ]
     },
     "metadata": {},
     "output_type": "display_data"
    },
    {
     "data": {
      "application/vnd.jupyter.widget-view+json": {
       "model_id": "d78205d5a29b4d64b845e56a8b804109",
       "version_major": 2,
       "version_minor": 0
      },
      "text/plain": [
       "Epoch 8/100:   0%|          | 0/88 [00:00<?, ?it/s]"
      ]
     },
     "metadata": {},
     "output_type": "display_data"
    },
    {
     "name": "stdout",
     "output_type": "stream",
     "text": [
      "\n",
      "Epoch 8: New best F1-weighted: 0.5718\n",
      "  F1-Macro: 0.4994, AUC-Macro: 0.0000, Accuracy: 0.6093\n",
      "Saving best model artifacts to C:\\Users\\PC\\Downloads\\Melspectrogram_finetune_NEW\\PestLarvaNet_AudioTwin_Run_1\\data_25.0percent\n"
     ]
    },
    {
     "data": {
      "application/vnd.jupyter.widget-view+json": {
       "model_id": "fbd4b7c8fade4a79aee1b1bffa617064",
       "version_major": 2,
       "version_minor": 0
      },
      "text/plain": [
       "Epoch 9/100:   0%|          | 0/88 [00:00<?, ?it/s]"
      ]
     },
     "metadata": {},
     "output_type": "display_data"
    },
    {
     "data": {
      "application/vnd.jupyter.widget-view+json": {
       "model_id": "46975aee5c7c4dbfbb8eaef3c96a66af",
       "version_major": 2,
       "version_minor": 0
      },
      "text/plain": [
       "Epoch 10/100:   0%|          | 0/88 [00:00<?, ?it/s]"
      ]
     },
     "metadata": {},
     "output_type": "display_data"
    },
    {
     "data": {
      "application/vnd.jupyter.widget-view+json": {
       "model_id": "9dc9ccd27c5a41aab39dd3139faa5101",
       "version_major": 2,
       "version_minor": 0
      },
      "text/plain": [
       "Epoch 11/100:   0%|          | 0/88 [00:00<?, ?it/s]"
      ]
     },
     "metadata": {},
     "output_type": "display_data"
    },
    {
     "data": {
      "application/vnd.jupyter.widget-view+json": {
       "model_id": "523a304d18f746e293543e38011c7162",
       "version_major": 2,
       "version_minor": 0
      },
      "text/plain": [
       "Epoch 12/100:   0%|          | 0/88 [00:00<?, ?it/s]"
      ]
     },
     "metadata": {},
     "output_type": "display_data"
    },
    {
     "data": {
      "application/vnd.jupyter.widget-view+json": {
       "model_id": "157f934f878441f3ad20ed6862dd2651",
       "version_major": 2,
       "version_minor": 0
      },
      "text/plain": [
       "Epoch 13/100:   0%|          | 0/88 [00:00<?, ?it/s]"
      ]
     },
     "metadata": {},
     "output_type": "display_data"
    },
    {
     "data": {
      "application/vnd.jupyter.widget-view+json": {
       "model_id": "4e3b48c594fe4929b6cf89567c2c8a4e",
       "version_major": 2,
       "version_minor": 0
      },
      "text/plain": [
       "Epoch 14/100:   0%|          | 0/88 [00:00<?, ?it/s]"
      ]
     },
     "metadata": {},
     "output_type": "display_data"
    },
    {
     "data": {
      "application/vnd.jupyter.widget-view+json": {
       "model_id": "87aa4e1450e7414e85b7ba6b4de227f0",
       "version_major": 2,
       "version_minor": 0
      },
      "text/plain": [
       "Epoch 15/100:   0%|          | 0/88 [00:00<?, ?it/s]"
      ]
     },
     "metadata": {},
     "output_type": "display_data"
    },
    {
     "name": "stdout",
     "output_type": "stream",
     "text": [
      "\n",
      "Epoch 15: New best F1-weighted: 0.5842\n",
      "  F1-Macro: 0.5133, AUC-Macro: 0.0000, Accuracy: 0.6171\n",
      "Saving best model artifacts to C:\\Users\\PC\\Downloads\\Melspectrogram_finetune_NEW\\PestLarvaNet_AudioTwin_Run_1\\data_25.0percent\n"
     ]
    },
    {
     "data": {
      "application/vnd.jupyter.widget-view+json": {
       "model_id": "3b9f34a1aa3a427392077abd7a0e24fe",
       "version_major": 2,
       "version_minor": 0
      },
      "text/plain": [
       "Epoch 16/100:   0%|          | 0/88 [00:00<?, ?it/s]"
      ]
     },
     "metadata": {},
     "output_type": "display_data"
    },
    {
     "name": "stdout",
     "output_type": "stream",
     "text": [
      "\n",
      "Epoch 16: New best F1-weighted: 0.5919\n",
      "  F1-Macro: 0.5170, AUC-Macro: 0.0000, Accuracy: 0.6256\n",
      "Saving best model artifacts to C:\\Users\\PC\\Downloads\\Melspectrogram_finetune_NEW\\PestLarvaNet_AudioTwin_Run_1\\data_25.0percent\n"
     ]
    },
    {
     "data": {
      "application/vnd.jupyter.widget-view+json": {
       "model_id": "dc77ea8083994dcf8f6b25c673da2be5",
       "version_major": 2,
       "version_minor": 0
      },
      "text/plain": [
       "Epoch 17/100:   0%|          | 0/88 [00:00<?, ?it/s]"
      ]
     },
     "metadata": {},
     "output_type": "display_data"
    },
    {
     "data": {
      "application/vnd.jupyter.widget-view+json": {
       "model_id": "d56dc5c937414c8bacb46a9bba46f7f9",
       "version_major": 2,
       "version_minor": 0
      },
      "text/plain": [
       "Epoch 18/100:   0%|          | 0/88 [00:00<?, ?it/s]"
      ]
     },
     "metadata": {},
     "output_type": "display_data"
    },
    {
     "name": "stdout",
     "output_type": "stream",
     "text": [
      "\n",
      "Epoch 18: New best F1-weighted: 0.5942\n",
      "  F1-Macro: 0.5205, AUC-Macro: 0.0000, Accuracy: 0.6270\n",
      "Saving best model artifacts to C:\\Users\\PC\\Downloads\\Melspectrogram_finetune_NEW\\PestLarvaNet_AudioTwin_Run_1\\data_25.0percent\n"
     ]
    },
    {
     "data": {
      "application/vnd.jupyter.widget-view+json": {
       "model_id": "86921501a8884b918a912034722d33f1",
       "version_major": 2,
       "version_minor": 0
      },
      "text/plain": [
       "Epoch 19/100:   0%|          | 0/88 [00:00<?, ?it/s]"
      ]
     },
     "metadata": {},
     "output_type": "display_data"
    },
    {
     "data": {
      "application/vnd.jupyter.widget-view+json": {
       "model_id": "6f32c518f7884c0f8bf1828bc6d2ee10",
       "version_major": 2,
       "version_minor": 0
      },
      "text/plain": [
       "Epoch 20/100:   0%|          | 0/88 [00:00<?, ?it/s]"
      ]
     },
     "metadata": {},
     "output_type": "display_data"
    },
    {
     "name": "stdout",
     "output_type": "stream",
     "text": [
      "\n",
      "Epoch 20: New best F1-weighted: 0.5963\n",
      "  F1-Macro: 0.5384, AUC-Macro: 0.0000, Accuracy: 0.6260\n",
      "Saving best model artifacts to C:\\Users\\PC\\Downloads\\Melspectrogram_finetune_NEW\\PestLarvaNet_AudioTwin_Run_1\\data_25.0percent\n"
     ]
    },
    {
     "data": {
      "application/vnd.jupyter.widget-view+json": {
       "model_id": "724af69b25bb4ec19959437b36647f95",
       "version_major": 2,
       "version_minor": 0
      },
      "text/plain": [
       "Epoch 21/100:   0%|          | 0/88 [00:00<?, ?it/s]"
      ]
     },
     "metadata": {},
     "output_type": "display_data"
    },
    {
     "name": "stdout",
     "output_type": "stream",
     "text": [
      "\n",
      "Epoch 21: New best F1-weighted: 0.6044\n",
      "  F1-Macro: 0.5454, AUC-Macro: 0.0000, Accuracy: 0.6352\n",
      "Saving best model artifacts to C:\\Users\\PC\\Downloads\\Melspectrogram_finetune_NEW\\PestLarvaNet_AudioTwin_Run_1\\data_25.0percent\n"
     ]
    },
    {
     "data": {
      "application/vnd.jupyter.widget-view+json": {
       "model_id": "18a430b075b44993889c0feac34a37f1",
       "version_major": 2,
       "version_minor": 0
      },
      "text/plain": [
       "Epoch 22/100:   0%|          | 0/88 [00:00<?, ?it/s]"
      ]
     },
     "metadata": {},
     "output_type": "display_data"
    },
    {
     "data": {
      "application/vnd.jupyter.widget-view+json": {
       "model_id": "30f1d2a7be424e7ba6bd8c7a25f7e966",
       "version_major": 2,
       "version_minor": 0
      },
      "text/plain": [
       "Epoch 23/100:   0%|          | 0/88 [00:00<?, ?it/s]"
      ]
     },
     "metadata": {},
     "output_type": "display_data"
    },
    {
     "name": "stdout",
     "output_type": "stream",
     "text": [
      "\n",
      "Epoch 23: New best F1-weighted: 0.6165\n",
      "  F1-Macro: 0.5582, AUC-Macro: 0.0000, Accuracy: 0.6484\n",
      "Saving best model artifacts to C:\\Users\\PC\\Downloads\\Melspectrogram_finetune_NEW\\PestLarvaNet_AudioTwin_Run_1\\data_25.0percent\n"
     ]
    },
    {
     "data": {
      "application/vnd.jupyter.widget-view+json": {
       "model_id": "732266684a5a4cc2bd3afdc40e7e3600",
       "version_major": 2,
       "version_minor": 0
      },
      "text/plain": [
       "Epoch 24/100:   0%|          | 0/88 [00:00<?, ?it/s]"
      ]
     },
     "metadata": {},
     "output_type": "display_data"
    },
    {
     "name": "stdout",
     "output_type": "stream",
     "text": [
      "\n",
      "Epoch 24: New best F1-weighted: 0.6223\n",
      "  F1-Macro: 0.5630, AUC-Macro: 0.0000, Accuracy: 0.6416\n",
      "Saving best model artifacts to C:\\Users\\PC\\Downloads\\Melspectrogram_finetune_NEW\\PestLarvaNet_AudioTwin_Run_1\\data_25.0percent\n"
     ]
    },
    {
     "data": {
      "application/vnd.jupyter.widget-view+json": {
       "model_id": "15c8be2b6be740e4bad47cfcd997359e",
       "version_major": 2,
       "version_minor": 0
      },
      "text/plain": [
       "Epoch 25/100:   0%|          | 0/88 [00:00<?, ?it/s]"
      ]
     },
     "metadata": {},
     "output_type": "display_data"
    },
    {
     "name": "stdout",
     "output_type": "stream",
     "text": [
      "\n",
      "Epoch 25: New best F1-weighted: 0.6538\n",
      "  F1-Macro: 0.5974, AUC-Macro: 0.0000, Accuracy: 0.6730\n",
      "Saving best model artifacts to C:\\Users\\PC\\Downloads\\Melspectrogram_finetune_NEW\\PestLarvaNet_AudioTwin_Run_1\\data_25.0percent\n"
     ]
    },
    {
     "data": {
      "application/vnd.jupyter.widget-view+json": {
       "model_id": "8600a7daa7b94515b1b9351b11ae78b6",
       "version_major": 2,
       "version_minor": 0
      },
      "text/plain": [
       "Epoch 26/100:   0%|          | 0/88 [00:00<?, ?it/s]"
      ]
     },
     "metadata": {},
     "output_type": "display_data"
    },
    {
     "data": {
      "application/vnd.jupyter.widget-view+json": {
       "model_id": "a328b566f28b42fba8b1586c721e18ad",
       "version_major": 2,
       "version_minor": 0
      },
      "text/plain": [
       "Epoch 27/100:   0%|          | 0/88 [00:00<?, ?it/s]"
      ]
     },
     "metadata": {},
     "output_type": "display_data"
    },
    {
     "data": {
      "application/vnd.jupyter.widget-view+json": {
       "model_id": "2ed27f4c6cb54c53b9ae4699457af44a",
       "version_major": 2,
       "version_minor": 0
      },
      "text/plain": [
       "Epoch 28/100:   0%|          | 0/88 [00:00<?, ?it/s]"
      ]
     },
     "metadata": {},
     "output_type": "display_data"
    },
    {
     "data": {
      "application/vnd.jupyter.widget-view+json": {
       "model_id": "8698e6a9a7124ac380c03e01c781e2a9",
       "version_major": 2,
       "version_minor": 0
      },
      "text/plain": [
       "Epoch 29/100:   0%|          | 0/88 [00:00<?, ?it/s]"
      ]
     },
     "metadata": {},
     "output_type": "display_data"
    },
    {
     "name": "stdout",
     "output_type": "stream",
     "text": [
      "\n",
      "Epoch 29: New best F1-weighted: 0.6609\n",
      "  F1-Macro: 0.5999, AUC-Macro: 0.0000, Accuracy: 0.6836\n",
      "Saving best model artifacts to C:\\Users\\PC\\Downloads\\Melspectrogram_finetune_NEW\\PestLarvaNet_AudioTwin_Run_1\\data_25.0percent\n"
     ]
    },
    {
     "data": {
      "application/vnd.jupyter.widget-view+json": {
       "model_id": "233b24437083433d9ec75f1fdec64ac0",
       "version_major": 2,
       "version_minor": 0
      },
      "text/plain": [
       "Epoch 30/100:   0%|          | 0/88 [00:00<?, ?it/s]"
      ]
     },
     "metadata": {},
     "output_type": "display_data"
    },
    {
     "name": "stdout",
     "output_type": "stream",
     "text": [
      "\n",
      "Epoch 30: New best F1-weighted: 0.6666\n",
      "  F1-Macro: 0.6074, AUC-Macro: 0.0000, Accuracy: 0.6854\n",
      "Saving best model artifacts to C:\\Users\\PC\\Downloads\\Melspectrogram_finetune_NEW\\PestLarvaNet_AudioTwin_Run_1\\data_25.0percent\n"
     ]
    },
    {
     "data": {
      "application/vnd.jupyter.widget-view+json": {
       "model_id": "12e25188d1224704b30fc12d8f067a32",
       "version_major": 2,
       "version_minor": 0
      },
      "text/plain": [
       "Epoch 31/100:   0%|          | 0/88 [00:00<?, ?it/s]"
      ]
     },
     "metadata": {},
     "output_type": "display_data"
    },
    {
     "data": {
      "application/vnd.jupyter.widget-view+json": {
       "model_id": "c42d07b595a94bcf8589306c4fca7beb",
       "version_major": 2,
       "version_minor": 0
      },
      "text/plain": [
       "Epoch 32/100:   0%|          | 0/88 [00:00<?, ?it/s]"
      ]
     },
     "metadata": {},
     "output_type": "display_data"
    },
    {
     "data": {
      "application/vnd.jupyter.widget-view+json": {
       "model_id": "6ab79ca571e841b2bdd41d7c2e60779e",
       "version_major": 2,
       "version_minor": 0
      },
      "text/plain": [
       "Epoch 33/100:   0%|          | 0/88 [00:00<?, ?it/s]"
      ]
     },
     "metadata": {},
     "output_type": "display_data"
    },
    {
     "data": {
      "application/vnd.jupyter.widget-view+json": {
       "model_id": "a40c1e46de18443cb37ccbeea0211b92",
       "version_major": 2,
       "version_minor": 0
      },
      "text/plain": [
       "Epoch 34/100:   0%|          | 0/88 [00:00<?, ?it/s]"
      ]
     },
     "metadata": {},
     "output_type": "display_data"
    },
    {
     "data": {
      "application/vnd.jupyter.widget-view+json": {
       "model_id": "beff3df182a6465db9a801719e4ddeb1",
       "version_major": 2,
       "version_minor": 0
      },
      "text/plain": [
       "Epoch 35/100:   0%|          | 0/88 [00:00<?, ?it/s]"
      ]
     },
     "metadata": {},
     "output_type": "display_data"
    },
    {
     "data": {
      "application/vnd.jupyter.widget-view+json": {
       "model_id": "65ed891cded4453c90f00e96e58f32c7",
       "version_major": 2,
       "version_minor": 0
      },
      "text/plain": [
       "Epoch 36/100:   0%|          | 0/88 [00:00<?, ?it/s]"
      ]
     },
     "metadata": {},
     "output_type": "display_data"
    },
    {
     "name": "stdout",
     "output_type": "stream",
     "text": [
      "\n",
      "Epoch 36: New best F1-weighted: 0.6675\n",
      "  F1-Macro: 0.6071, AUC-Macro: 0.0000, Accuracy: 0.6907\n",
      "Saving best model artifacts to C:\\Users\\PC\\Downloads\\Melspectrogram_finetune_NEW\\PestLarvaNet_AudioTwin_Run_1\\data_25.0percent\n"
     ]
    },
    {
     "data": {
      "application/vnd.jupyter.widget-view+json": {
       "model_id": "dba51c2a921b44dcacbf3a3cc4458f4d",
       "version_major": 2,
       "version_minor": 0
      },
      "text/plain": [
       "Epoch 37/100:   0%|          | 0/88 [00:00<?, ?it/s]"
      ]
     },
     "metadata": {},
     "output_type": "display_data"
    },
    {
     "data": {
      "application/vnd.jupyter.widget-view+json": {
       "model_id": "064078e7958b4897bc9dc891c39ef5ff",
       "version_major": 2,
       "version_minor": 0
      },
      "text/plain": [
       "Epoch 38/100:   0%|          | 0/88 [00:00<?, ?it/s]"
      ]
     },
     "metadata": {},
     "output_type": "display_data"
    },
    {
     "data": {
      "application/vnd.jupyter.widget-view+json": {
       "model_id": "1ecabb17cbf64a6e90ea553797a1e09a",
       "version_major": 2,
       "version_minor": 0
      },
      "text/plain": [
       "Epoch 39/100:   0%|          | 0/88 [00:00<?, ?it/s]"
      ]
     },
     "metadata": {},
     "output_type": "display_data"
    },
    {
     "data": {
      "application/vnd.jupyter.widget-view+json": {
       "model_id": "17a17476aa9940e28155b0bb88e6a105",
       "version_major": 2,
       "version_minor": 0
      },
      "text/plain": [
       "Epoch 40/100:   0%|          | 0/88 [00:00<?, ?it/s]"
      ]
     },
     "metadata": {},
     "output_type": "display_data"
    },
    {
     "data": {
      "application/vnd.jupyter.widget-view+json": {
       "model_id": "2026587d416f43c59b40b6c040318159",
       "version_major": 2,
       "version_minor": 0
      },
      "text/plain": [
       "Epoch 41/100:   0%|          | 0/88 [00:00<?, ?it/s]"
      ]
     },
     "metadata": {},
     "output_type": "display_data"
    },
    {
     "name": "stdout",
     "output_type": "stream",
     "text": [
      "\n",
      "Epoch 41: New best F1-weighted: 0.6749\n",
      "  F1-Macro: 0.6215, AUC-Macro: 0.0000, Accuracy: 0.6851\n",
      "Saving best model artifacts to C:\\Users\\PC\\Downloads\\Melspectrogram_finetune_NEW\\PestLarvaNet_AudioTwin_Run_1\\data_25.0percent\n"
     ]
    },
    {
     "data": {
      "application/vnd.jupyter.widget-view+json": {
       "model_id": "4606b3b10a594c38acc34e972e6af6ca",
       "version_major": 2,
       "version_minor": 0
      },
      "text/plain": [
       "Epoch 42/100:   0%|          | 0/88 [00:00<?, ?it/s]"
      ]
     },
     "metadata": {},
     "output_type": "display_data"
    },
    {
     "name": "stdout",
     "output_type": "stream",
     "text": [
      "\n",
      "Epoch 42: New best F1-weighted: 0.6929\n",
      "  F1-Macro: 0.6396, AUC-Macro: 0.0000, Accuracy: 0.7011\n",
      "Saving best model artifacts to C:\\Users\\PC\\Downloads\\Melspectrogram_finetune_NEW\\PestLarvaNet_AudioTwin_Run_1\\data_25.0percent\n"
     ]
    },
    {
     "data": {
      "application/vnd.jupyter.widget-view+json": {
       "model_id": "9284a33a2a044401a14f266e7d7e5a60",
       "version_major": 2,
       "version_minor": 0
      },
      "text/plain": [
       "Epoch 43/100:   0%|          | 0/88 [00:00<?, ?it/s]"
      ]
     },
     "metadata": {},
     "output_type": "display_data"
    },
    {
     "data": {
      "application/vnd.jupyter.widget-view+json": {
       "model_id": "e4ab5b1c17cc4ef6920ef63b7621acdb",
       "version_major": 2,
       "version_minor": 0
      },
      "text/plain": [
       "Epoch 44/100:   0%|          | 0/88 [00:00<?, ?it/s]"
      ]
     },
     "metadata": {},
     "output_type": "display_data"
    },
    {
     "data": {
      "application/vnd.jupyter.widget-view+json": {
       "model_id": "3c4969fb2e9444eb9db08e32e2ec9c8e",
       "version_major": 2,
       "version_minor": 0
      },
      "text/plain": [
       "Epoch 45/100:   0%|          | 0/88 [00:00<?, ?it/s]"
      ]
     },
     "metadata": {},
     "output_type": "display_data"
    },
    {
     "data": {
      "application/vnd.jupyter.widget-view+json": {
       "model_id": "9dc7c7f078094828ab41babfb9c80b0a",
       "version_major": 2,
       "version_minor": 0
      },
      "text/plain": [
       "Epoch 46/100:   0%|          | 0/88 [00:00<?, ?it/s]"
      ]
     },
     "metadata": {},
     "output_type": "display_data"
    },
    {
     "data": {
      "application/vnd.jupyter.widget-view+json": {
       "model_id": "45d1ab3360c54692b333aebae4b825b0",
       "version_major": 2,
       "version_minor": 0
      },
      "text/plain": [
       "Epoch 47/100:   0%|          | 0/88 [00:00<?, ?it/s]"
      ]
     },
     "metadata": {},
     "output_type": "display_data"
    },
    {
     "name": "stdout",
     "output_type": "stream",
     "text": [
      "\n",
      "Epoch 47: New best F1-weighted: 0.7136\n",
      "  F1-Macro: 0.6704, AUC-Macro: 0.0000, Accuracy: 0.7181\n",
      "Saving best model artifacts to C:\\Users\\PC\\Downloads\\Melspectrogram_finetune_NEW\\PestLarvaNet_AudioTwin_Run_1\\data_25.0percent\n"
     ]
    },
    {
     "data": {
      "application/vnd.jupyter.widget-view+json": {
       "model_id": "12ab2f47b0be458dabded06cbbcc6cb3",
       "version_major": 2,
       "version_minor": 0
      },
      "text/plain": [
       "Epoch 48/100:   0%|          | 0/88 [00:00<?, ?it/s]"
      ]
     },
     "metadata": {},
     "output_type": "display_data"
    },
    {
     "data": {
      "application/vnd.jupyter.widget-view+json": {
       "model_id": "7e7c4297b00d44b881a085210c391924",
       "version_major": 2,
       "version_minor": 0
      },
      "text/plain": [
       "Epoch 49/100:   0%|          | 0/88 [00:00<?, ?it/s]"
      ]
     },
     "metadata": {},
     "output_type": "display_data"
    },
    {
     "data": {
      "application/vnd.jupyter.widget-view+json": {
       "model_id": "e0ce5af6e0584462b09681236e2623b5",
       "version_major": 2,
       "version_minor": 0
      },
      "text/plain": [
       "Epoch 50/100:   0%|          | 0/88 [00:00<?, ?it/s]"
      ]
     },
     "metadata": {},
     "output_type": "display_data"
    },
    {
     "data": {
      "application/vnd.jupyter.widget-view+json": {
       "model_id": "19aeb2f750b74499a8fa686967925f80",
       "version_major": 2,
       "version_minor": 0
      },
      "text/plain": [
       "Epoch 51/100:   0%|          | 0/88 [00:00<?, ?it/s]"
      ]
     },
     "metadata": {},
     "output_type": "display_data"
    },
    {
     "data": {
      "application/vnd.jupyter.widget-view+json": {
       "model_id": "fdec343c17d24813856fc077c8e26957",
       "version_major": 2,
       "version_minor": 0
      },
      "text/plain": [
       "Epoch 52/100:   0%|          | 0/88 [00:00<?, ?it/s]"
      ]
     },
     "metadata": {},
     "output_type": "display_data"
    },
    {
     "data": {
      "application/vnd.jupyter.widget-view+json": {
       "model_id": "6835368bf52a478b966deff2051d00b0",
       "version_major": 2,
       "version_minor": 0
      },
      "text/plain": [
       "Epoch 53/100:   0%|          | 0/88 [00:00<?, ?it/s]"
      ]
     },
     "metadata": {},
     "output_type": "display_data"
    },
    {
     "name": "stdout",
     "output_type": "stream",
     "text": [
      "\n",
      "Epoch 53: New best F1-weighted: 0.7163\n",
      "  F1-Macro: 0.6739, AUC-Macro: 0.0000, Accuracy: 0.7199\n",
      "Saving best model artifacts to C:\\Users\\PC\\Downloads\\Melspectrogram_finetune_NEW\\PestLarvaNet_AudioTwin_Run_1\\data_25.0percent\n"
     ]
    },
    {
     "data": {
      "application/vnd.jupyter.widget-view+json": {
       "model_id": "0e15d6147edf4024ac58073865723a0f",
       "version_major": 2,
       "version_minor": 0
      },
      "text/plain": [
       "Epoch 54/100:   0%|          | 0/88 [00:00<?, ?it/s]"
      ]
     },
     "metadata": {},
     "output_type": "display_data"
    },
    {
     "data": {
      "application/vnd.jupyter.widget-view+json": {
       "model_id": "f8bc108f78064154bd5908078d5643d3",
       "version_major": 2,
       "version_minor": 0
      },
      "text/plain": [
       "Epoch 55/100:   0%|          | 0/88 [00:00<?, ?it/s]"
      ]
     },
     "metadata": {},
     "output_type": "display_data"
    },
    {
     "data": {
      "application/vnd.jupyter.widget-view+json": {
       "model_id": "ab4d66e6f5dd46a399d09d69607540cb",
       "version_major": 2,
       "version_minor": 0
      },
      "text/plain": [
       "Epoch 56/100:   0%|          | 0/88 [00:00<?, ?it/s]"
      ]
     },
     "metadata": {},
     "output_type": "display_data"
    },
    {
     "name": "stdout",
     "output_type": "stream",
     "text": [
      "\n",
      "Epoch 56: New best F1-weighted: 0.7283\n",
      "  F1-Macro: 0.6851, AUC-Macro: 0.0000, Accuracy: 0.7363\n",
      "Saving best model artifacts to C:\\Users\\PC\\Downloads\\Melspectrogram_finetune_NEW\\PestLarvaNet_AudioTwin_Run_1\\data_25.0percent\n"
     ]
    },
    {
     "data": {
      "application/vnd.jupyter.widget-view+json": {
       "model_id": "0e5f149d2f8b4805b5f5982d5ffa4e64",
       "version_major": 2,
       "version_minor": 0
      },
      "text/plain": [
       "Epoch 57/100:   0%|          | 0/88 [00:00<?, ?it/s]"
      ]
     },
     "metadata": {},
     "output_type": "display_data"
    },
    {
     "data": {
      "application/vnd.jupyter.widget-view+json": {
       "model_id": "3887c63a9e00476e8c7c7cc11416cfde",
       "version_major": 2,
       "version_minor": 0
      },
      "text/plain": [
       "Epoch 58/100:   0%|          | 0/88 [00:00<?, ?it/s]"
      ]
     },
     "metadata": {},
     "output_type": "display_data"
    },
    {
     "data": {
      "application/vnd.jupyter.widget-view+json": {
       "model_id": "d33927ae060d4c34bb4f7ee4f4d5f012",
       "version_major": 2,
       "version_minor": 0
      },
      "text/plain": [
       "Epoch 59/100:   0%|          | 0/88 [00:00<?, ?it/s]"
      ]
     },
     "metadata": {},
     "output_type": "display_data"
    },
    {
     "name": "stdout",
     "output_type": "stream",
     "text": [
      "\n",
      "Epoch 59: New best F1-weighted: 0.7334\n",
      "  F1-Macro: 0.6920, AUC-Macro: 0.0000, Accuracy: 0.7391\n",
      "Saving best model artifacts to C:\\Users\\PC\\Downloads\\Melspectrogram_finetune_NEW\\PestLarvaNet_AudioTwin_Run_1\\data_25.0percent\n"
     ]
    },
    {
     "data": {
      "application/vnd.jupyter.widget-view+json": {
       "model_id": "0e7af0e775b34a36a92cb789f0c1d6f5",
       "version_major": 2,
       "version_minor": 0
      },
      "text/plain": [
       "Epoch 60/100:   0%|          | 0/88 [00:00<?, ?it/s]"
      ]
     },
     "metadata": {},
     "output_type": "display_data"
    },
    {
     "data": {
      "application/vnd.jupyter.widget-view+json": {
       "model_id": "57d694b4fd52415f8ed025023d271974",
       "version_major": 2,
       "version_minor": 0
      },
      "text/plain": [
       "Epoch 61/100:   0%|          | 0/88 [00:00<?, ?it/s]"
      ]
     },
     "metadata": {},
     "output_type": "display_data"
    },
    {
     "data": {
      "application/vnd.jupyter.widget-view+json": {
       "model_id": "ad9a2aea3df9452db836e62043531792",
       "version_major": 2,
       "version_minor": 0
      },
      "text/plain": [
       "Epoch 62/100:   0%|          | 0/88 [00:00<?, ?it/s]"
      ]
     },
     "metadata": {},
     "output_type": "display_data"
    },
    {
     "data": {
      "application/vnd.jupyter.widget-view+json": {
       "model_id": "b171545c8ce44e2da3b0bf74fa055893",
       "version_major": 2,
       "version_minor": 0
      },
      "text/plain": [
       "Epoch 63/100:   0%|          | 0/88 [00:00<?, ?it/s]"
      ]
     },
     "metadata": {},
     "output_type": "display_data"
    },
    {
     "data": {
      "application/vnd.jupyter.widget-view+json": {
       "model_id": "51f11173196e4bd6b8852826c75148a0",
       "version_major": 2,
       "version_minor": 0
      },
      "text/plain": [
       "Epoch 64/100:   0%|          | 0/88 [00:00<?, ?it/s]"
      ]
     },
     "metadata": {},
     "output_type": "display_data"
    },
    {
     "name": "stdout",
     "output_type": "stream",
     "text": [
      "\n",
      "Epoch 64: New best F1-weighted: 0.7391\n",
      "  F1-Macro: 0.6967, AUC-Macro: 0.0000, Accuracy: 0.7466\n",
      "Saving best model artifacts to C:\\Users\\PC\\Downloads\\Melspectrogram_finetune_NEW\\PestLarvaNet_AudioTwin_Run_1\\data_25.0percent\n"
     ]
    },
    {
     "data": {
      "application/vnd.jupyter.widget-view+json": {
       "model_id": "b00b525f665c42ca8be6bc1e6e1cc26b",
       "version_major": 2,
       "version_minor": 0
      },
      "text/plain": [
       "Epoch 65/100:   0%|          | 0/88 [00:00<?, ?it/s]"
      ]
     },
     "metadata": {},
     "output_type": "display_data"
    },
    {
     "data": {
      "application/vnd.jupyter.widget-view+json": {
       "model_id": "753889d8ce4c492e8ac442d612807f1d",
       "version_major": 2,
       "version_minor": 0
      },
      "text/plain": [
       "Epoch 66/100:   0%|          | 0/88 [00:00<?, ?it/s]"
      ]
     },
     "metadata": {},
     "output_type": "display_data"
    },
    {
     "data": {
      "application/vnd.jupyter.widget-view+json": {
       "model_id": "784db56d07224dff87b42ed18f84cda6",
       "version_major": 2,
       "version_minor": 0
      },
      "text/plain": [
       "Epoch 67/100:   0%|          | 0/88 [00:00<?, ?it/s]"
      ]
     },
     "metadata": {},
     "output_type": "display_data"
    },
    {
     "data": {
      "application/vnd.jupyter.widget-view+json": {
       "model_id": "c4fce84d0a1247a799f21b6a48106471",
       "version_major": 2,
       "version_minor": 0
      },
      "text/plain": [
       "Epoch 68/100:   0%|          | 0/88 [00:00<?, ?it/s]"
      ]
     },
     "metadata": {},
     "output_type": "display_data"
    },
    {
     "data": {
      "application/vnd.jupyter.widget-view+json": {
       "model_id": "86430ae3e3c04e979abe64184ba672b2",
       "version_major": 2,
       "version_minor": 0
      },
      "text/plain": [
       "Epoch 69/100:   0%|          | 0/88 [00:00<?, ?it/s]"
      ]
     },
     "metadata": {},
     "output_type": "display_data"
    },
    {
     "data": {
      "application/vnd.jupyter.widget-view+json": {
       "model_id": "bdb6d601d253449fb6a61871812a9c3a",
       "version_major": 2,
       "version_minor": 0
      },
      "text/plain": [
       "Epoch 70/100:   0%|          | 0/88 [00:00<?, ?it/s]"
      ]
     },
     "metadata": {},
     "output_type": "display_data"
    },
    {
     "data": {
      "application/vnd.jupyter.widget-view+json": {
       "model_id": "9a2346fad91f41a7852226edb8393dce",
       "version_major": 2,
       "version_minor": 0
      },
      "text/plain": [
       "Epoch 71/100:   0%|          | 0/88 [00:00<?, ?it/s]"
      ]
     },
     "metadata": {},
     "output_type": "display_data"
    },
    {
     "name": "stdout",
     "output_type": "stream",
     "text": [
      "\n",
      "Epoch 71: New best F1-weighted: 0.7513\n",
      "  F1-Macro: 0.7117, AUC-Macro: 0.0000, Accuracy: 0.7548\n",
      "Saving best model artifacts to C:\\Users\\PC\\Downloads\\Melspectrogram_finetune_NEW\\PestLarvaNet_AudioTwin_Run_1\\data_25.0percent\n"
     ]
    },
    {
     "data": {
      "application/vnd.jupyter.widget-view+json": {
       "model_id": "d56c54fb7e2f44f898a34ce3970aa3d5",
       "version_major": 2,
       "version_minor": 0
      },
      "text/plain": [
       "Epoch 72/100:   0%|          | 0/88 [00:00<?, ?it/s]"
      ]
     },
     "metadata": {},
     "output_type": "display_data"
    },
    {
     "data": {
      "application/vnd.jupyter.widget-view+json": {
       "model_id": "19549909613242e39bee4507caf8518b",
       "version_major": 2,
       "version_minor": 0
      },
      "text/plain": [
       "Epoch 73/100:   0%|          | 0/88 [00:00<?, ?it/s]"
      ]
     },
     "metadata": {},
     "output_type": "display_data"
    },
    {
     "name": "stdout",
     "output_type": "stream",
     "text": [
      "\n",
      "Epoch 73: New best F1-weighted: 0.7543\n",
      "  F1-Macro: 0.7207, AUC-Macro: 0.0000, Accuracy: 0.7544\n",
      "Saving best model artifacts to C:\\Users\\PC\\Downloads\\Melspectrogram_finetune_NEW\\PestLarvaNet_AudioTwin_Run_1\\data_25.0percent\n"
     ]
    },
    {
     "data": {
      "application/vnd.jupyter.widget-view+json": {
       "model_id": "81b3626084df405585efb9d34955100d",
       "version_major": 2,
       "version_minor": 0
      },
      "text/plain": [
       "Epoch 74/100:   0%|          | 0/88 [00:00<?, ?it/s]"
      ]
     },
     "metadata": {},
     "output_type": "display_data"
    },
    {
     "data": {
      "application/vnd.jupyter.widget-view+json": {
       "model_id": "14312ee39fac4d0ca3230b26539b5e50",
       "version_major": 2,
       "version_minor": 0
      },
      "text/plain": [
       "Epoch 75/100:   0%|          | 0/88 [00:00<?, ?it/s]"
      ]
     },
     "metadata": {},
     "output_type": "display_data"
    },
    {
     "data": {
      "application/vnd.jupyter.widget-view+json": {
       "model_id": "0c9b26a6785d408c829a3de72150f257",
       "version_major": 2,
       "version_minor": 0
      },
      "text/plain": [
       "Epoch 76/100:   0%|          | 0/88 [00:00<?, ?it/s]"
      ]
     },
     "metadata": {},
     "output_type": "display_data"
    },
    {
     "data": {
      "application/vnd.jupyter.widget-view+json": {
       "model_id": "565c86a9dd604090a3ec80e36d330649",
       "version_major": 2,
       "version_minor": 0
      },
      "text/plain": [
       "Epoch 77/100:   0%|          | 0/88 [00:00<?, ?it/s]"
      ]
     },
     "metadata": {},
     "output_type": "display_data"
    },
    {
     "name": "stdout",
     "output_type": "stream",
     "text": [
      "\n",
      "Epoch 77: New best F1-weighted: 0.7598\n",
      "  F1-Macro: 0.7240, AUC-Macro: 0.0000, Accuracy: 0.7598\n",
      "Saving best model artifacts to C:\\Users\\PC\\Downloads\\Melspectrogram_finetune_NEW\\PestLarvaNet_AudioTwin_Run_1\\data_25.0percent\n"
     ]
    },
    {
     "data": {
      "application/vnd.jupyter.widget-view+json": {
       "model_id": "7accc190f6d8484d8a00386cebd8c6f3",
       "version_major": 2,
       "version_minor": 0
      },
      "text/plain": [
       "Epoch 78/100:   0%|          | 0/88 [00:00<?, ?it/s]"
      ]
     },
     "metadata": {},
     "output_type": "display_data"
    },
    {
     "name": "stdout",
     "output_type": "stream",
     "text": [
      "\n",
      "Epoch 78: New best F1-weighted: 0.7645\n",
      "  F1-Macro: 0.7322, AUC-Macro: 0.0000, Accuracy: 0.7655\n",
      "Saving best model artifacts to C:\\Users\\PC\\Downloads\\Melspectrogram_finetune_NEW\\PestLarvaNet_AudioTwin_Run_1\\data_25.0percent\n"
     ]
    },
    {
     "data": {
      "application/vnd.jupyter.widget-view+json": {
       "model_id": "ac96b67f87064da28c6580bc1be98b44",
       "version_major": 2,
       "version_minor": 0
      },
      "text/plain": [
       "Epoch 79/100:   0%|          | 0/88 [00:00<?, ?it/s]"
      ]
     },
     "metadata": {},
     "output_type": "display_data"
    },
    {
     "data": {
      "application/vnd.jupyter.widget-view+json": {
       "model_id": "299d21936aea4e07866575d83e82d44d",
       "version_major": 2,
       "version_minor": 0
      },
      "text/plain": [
       "Epoch 80/100:   0%|          | 0/88 [00:00<?, ?it/s]"
      ]
     },
     "metadata": {},
     "output_type": "display_data"
    },
    {
     "data": {
      "application/vnd.jupyter.widget-view+json": {
       "model_id": "ccdd0078513141fda344a9dfde16aac1",
       "version_major": 2,
       "version_minor": 0
      },
      "text/plain": [
       "Epoch 81/100:   0%|          | 0/88 [00:00<?, ?it/s]"
      ]
     },
     "metadata": {},
     "output_type": "display_data"
    },
    {
     "data": {
      "application/vnd.jupyter.widget-view+json": {
       "model_id": "8b053601d30a44b6b48e1ee12b2ebc11",
       "version_major": 2,
       "version_minor": 0
      },
      "text/plain": [
       "Epoch 82/100:   0%|          | 0/88 [00:00<?, ?it/s]"
      ]
     },
     "metadata": {},
     "output_type": "display_data"
    },
    {
     "data": {
      "application/vnd.jupyter.widget-view+json": {
       "model_id": "7741fccfd2c8471eb224305e8c0de264",
       "version_major": 2,
       "version_minor": 0
      },
      "text/plain": [
       "Epoch 83/100:   0%|          | 0/88 [00:00<?, ?it/s]"
      ]
     },
     "metadata": {},
     "output_type": "display_data"
    },
    {
     "data": {
      "application/vnd.jupyter.widget-view+json": {
       "model_id": "01aa8119fa574a389bbb3e38d30ced12",
       "version_major": 2,
       "version_minor": 0
      },
      "text/plain": [
       "Epoch 84/100:   0%|          | 0/88 [00:00<?, ?it/s]"
      ]
     },
     "metadata": {},
     "output_type": "display_data"
    },
    {
     "data": {
      "application/vnd.jupyter.widget-view+json": {
       "model_id": "119230b2cbc640039537a8eb49bb6ffc",
       "version_major": 2,
       "version_minor": 0
      },
      "text/plain": [
       "Epoch 85/100:   0%|          | 0/88 [00:00<?, ?it/s]"
      ]
     },
     "metadata": {},
     "output_type": "display_data"
    },
    {
     "name": "stdout",
     "output_type": "stream",
     "text": [
      "\n",
      "Epoch 85: New best F1-weighted: 0.7728\n",
      "  F1-Macro: 0.7408, AUC-Macro: 0.0000, Accuracy: 0.7737\n",
      "Saving best model artifacts to C:\\Users\\PC\\Downloads\\Melspectrogram_finetune_NEW\\PestLarvaNet_AudioTwin_Run_1\\data_25.0percent\n"
     ]
    },
    {
     "data": {
      "application/vnd.jupyter.widget-view+json": {
       "model_id": "7c2ed2d7a92b43a7b52378e036b0e55b",
       "version_major": 2,
       "version_minor": 0
      },
      "text/plain": [
       "Epoch 86/100:   0%|          | 0/88 [00:00<?, ?it/s]"
      ]
     },
     "metadata": {},
     "output_type": "display_data"
    },
    {
     "name": "stdout",
     "output_type": "stream",
     "text": [
      "\n",
      "Epoch 86: New best F1-weighted: 0.7769\n",
      "  F1-Macro: 0.7466, AUC-Macro: 0.0000, Accuracy: 0.7772\n",
      "Saving best model artifacts to C:\\Users\\PC\\Downloads\\Melspectrogram_finetune_NEW\\PestLarvaNet_AudioTwin_Run_1\\data_25.0percent\n"
     ]
    },
    {
     "data": {
      "application/vnd.jupyter.widget-view+json": {
       "model_id": "9642824e3af643bda854b2c3c2446c3e",
       "version_major": 2,
       "version_minor": 0
      },
      "text/plain": [
       "Epoch 87/100:   0%|          | 0/88 [00:00<?, ?it/s]"
      ]
     },
     "metadata": {},
     "output_type": "display_data"
    },
    {
     "data": {
      "application/vnd.jupyter.widget-view+json": {
       "model_id": "a8c2397129804163a4a747c6c61d1267",
       "version_major": 2,
       "version_minor": 0
      },
      "text/plain": [
       "Epoch 88/100:   0%|          | 0/88 [00:00<?, ?it/s]"
      ]
     },
     "metadata": {},
     "output_type": "display_data"
    },
    {
     "data": {
      "application/vnd.jupyter.widget-view+json": {
       "model_id": "fecdc17736284bb0a56e8dccacb6310b",
       "version_major": 2,
       "version_minor": 0
      },
      "text/plain": [
       "Epoch 89/100:   0%|          | 0/88 [00:00<?, ?it/s]"
      ]
     },
     "metadata": {},
     "output_type": "display_data"
    },
    {
     "data": {
      "application/vnd.jupyter.widget-view+json": {
       "model_id": "1358347753124c03b5d674014069cc74",
       "version_major": 2,
       "version_minor": 0
      },
      "text/plain": [
       "Epoch 90/100:   0%|          | 0/88 [00:00<?, ?it/s]"
      ]
     },
     "metadata": {},
     "output_type": "display_data"
    },
    {
     "name": "stdout",
     "output_type": "stream",
     "text": [
      "\n",
      "Epoch 90: New best F1-weighted: 0.7820\n",
      "  F1-Macro: 0.7506, AUC-Macro: 0.0000, Accuracy: 0.7829\n",
      "Saving best model artifacts to C:\\Users\\PC\\Downloads\\Melspectrogram_finetune_NEW\\PestLarvaNet_AudioTwin_Run_1\\data_25.0percent\n"
     ]
    },
    {
     "data": {
      "application/vnd.jupyter.widget-view+json": {
       "model_id": "e3eb8d0e222c420a8686849b3182bfab",
       "version_major": 2,
       "version_minor": 0
      },
      "text/plain": [
       "Epoch 91/100:   0%|          | 0/88 [00:00<?, ?it/s]"
      ]
     },
     "metadata": {},
     "output_type": "display_data"
    },
    {
     "data": {
      "application/vnd.jupyter.widget-view+json": {
       "model_id": "a14045e41af3447583acdef97b74e897",
       "version_major": 2,
       "version_minor": 0
      },
      "text/plain": [
       "Epoch 92/100:   0%|          | 0/88 [00:00<?, ?it/s]"
      ]
     },
     "metadata": {},
     "output_type": "display_data"
    },
    {
     "data": {
      "application/vnd.jupyter.widget-view+json": {
       "model_id": "e11c68d1a02a458db145acdc8e0da78f",
       "version_major": 2,
       "version_minor": 0
      },
      "text/plain": [
       "Epoch 93/100:   0%|          | 0/88 [00:00<?, ?it/s]"
      ]
     },
     "metadata": {},
     "output_type": "display_data"
    },
    {
     "data": {
      "application/vnd.jupyter.widget-view+json": {
       "model_id": "2028fe1004294bc1991db0599a1bef20",
       "version_major": 2,
       "version_minor": 0
      },
      "text/plain": [
       "Epoch 94/100:   0%|          | 0/88 [00:00<?, ?it/s]"
      ]
     },
     "metadata": {},
     "output_type": "display_data"
    },
    {
     "data": {
      "application/vnd.jupyter.widget-view+json": {
       "model_id": "6837cd94665a42839304339bdd32f061",
       "version_major": 2,
       "version_minor": 0
      },
      "text/plain": [
       "Epoch 95/100:   0%|          | 0/88 [00:00<?, ?it/s]"
      ]
     },
     "metadata": {},
     "output_type": "display_data"
    },
    {
     "data": {
      "application/vnd.jupyter.widget-view+json": {
       "model_id": "1b248b62130f4fe4a7ec71331bb54ead",
       "version_major": 2,
       "version_minor": 0
      },
      "text/plain": [
       "Epoch 96/100:   0%|          | 0/88 [00:00<?, ?it/s]"
      ]
     },
     "metadata": {},
     "output_type": "display_data"
    },
    {
     "data": {
      "application/vnd.jupyter.widget-view+json": {
       "model_id": "3a919beaa815408a8796ea0c433fce20",
       "version_major": 2,
       "version_minor": 0
      },
      "text/plain": [
       "Epoch 97/100:   0%|          | 0/88 [00:00<?, ?it/s]"
      ]
     },
     "metadata": {},
     "output_type": "display_data"
    },
    {
     "data": {
      "application/vnd.jupyter.widget-view+json": {
       "model_id": "2442a9f003604385bba0ff09361314c9",
       "version_major": 2,
       "version_minor": 0
      },
      "text/plain": [
       "Epoch 98/100:   0%|          | 0/88 [00:00<?, ?it/s]"
      ]
     },
     "metadata": {},
     "output_type": "display_data"
    },
    {
     "name": "stdout",
     "output_type": "stream",
     "text": [
      "\n",
      "Epoch 98: New best F1-weighted: 0.7847\n",
      "  F1-Macro: 0.7560, AUC-Macro: 0.0000, Accuracy: 0.7854\n",
      "Saving best model artifacts to C:\\Users\\PC\\Downloads\\Melspectrogram_finetune_NEW\\PestLarvaNet_AudioTwin_Run_1\\data_25.0percent\n"
     ]
    },
    {
     "data": {
      "application/vnd.jupyter.widget-view+json": {
       "model_id": "ba856be5438a47cab7f84927a43f491b",
       "version_major": 2,
       "version_minor": 0
      },
      "text/plain": [
       "Epoch 99/100:   0%|          | 0/88 [00:00<?, ?it/s]"
      ]
     },
     "metadata": {},
     "output_type": "display_data"
    },
    {
     "data": {
      "application/vnd.jupyter.widget-view+json": {
       "model_id": "efe71ea2653247d0a1966215e3017c81",
       "version_major": 2,
       "version_minor": 0
      },
      "text/plain": [
       "Epoch 100/100:   0%|          | 0/88 [00:00<?, ?it/s]"
      ]
     },
     "metadata": {},
     "output_type": "display_data"
    },
    {
     "name": "stdout",
     "output_type": "stream",
     "text": [
      "Finished Training for this run. Best F1-weighted: 0.7847\n",
      "==> Results with 25.0% data: Best F1-Weighted = 0.7847\n",
      "--- Training with 50.0% of labeled data ---\n",
      "Loading pretrained weights from: C:\\Users\\PC\\PestLarvaNet\\SSL\\audiotwin_checkpoints_medium\\Final checkpoint\\run_1_lp1e-04_ep1e-06_lb0.001_audiotwin_pestlarvanet_medium_epoch_100.pth\n"
     ]
    },
    {
     "name": "stderr",
     "output_type": "stream",
     "text": [
      "C:\\Users\\PC\\anaconda3\\envs\\FallDeteNet\\lib\\site-packages\\torch\\optim\\lr_scheduler.py:62: UserWarning: The verbose parameter is deprecated. Please use get_last_lr() to access the learning rate.\n",
      "  warnings.warn(\n"
     ]
    },
    {
     "data": {
      "application/vnd.jupyter.widget-view+json": {
       "model_id": "a38c8148c91845ada25327add3dd98fe",
       "version_major": 2,
       "version_minor": 0
      },
      "text/plain": [
       "Epoch 1/100:   0%|          | 0/176 [00:00<?, ?it/s]"
      ]
     },
     "metadata": {},
     "output_type": "display_data"
    },
    {
     "name": "stdout",
     "output_type": "stream",
     "text": [
      "\n",
      "Epoch 1: New best F1-weighted: 0.5066\n",
      "  F1-Macro: 0.4292, AUC-Macro: 0.0000, Accuracy: 0.5452\n",
      "Saving best model artifacts to C:\\Users\\PC\\Downloads\\Melspectrogram_finetune_NEW\\PestLarvaNet_AudioTwin_Run_1\\data_50.0percent\n"
     ]
    },
    {
     "data": {
      "application/vnd.jupyter.widget-view+json": {
       "model_id": "9b2b0837f9b04970b6f44652a638be7f",
       "version_major": 2,
       "version_minor": 0
      },
      "text/plain": [
       "Epoch 2/100:   0%|          | 0/176 [00:00<?, ?it/s]"
      ]
     },
     "metadata": {},
     "output_type": "display_data"
    },
    {
     "data": {
      "application/vnd.jupyter.widget-view+json": {
       "model_id": "fb8dd662ae0247ae88786b479c3e8620",
       "version_major": 2,
       "version_minor": 0
      },
      "text/plain": [
       "Epoch 3/100:   0%|          | 0/176 [00:00<?, ?it/s]"
      ]
     },
     "metadata": {},
     "output_type": "display_data"
    },
    {
     "data": {
      "application/vnd.jupyter.widget-view+json": {
       "model_id": "5f083eabc20e494a8e8fbb903fc7de53",
       "version_major": 2,
       "version_minor": 0
      },
      "text/plain": [
       "Epoch 4/100:   0%|          | 0/176 [00:00<?, ?it/s]"
      ]
     },
     "metadata": {},
     "output_type": "display_data"
    },
    {
     "data": {
      "application/vnd.jupyter.widget-view+json": {
       "model_id": "2b74cc6f39d64df18261f896e68235d0",
       "version_major": 2,
       "version_minor": 0
      },
      "text/plain": [
       "Epoch 5/100:   0%|          | 0/176 [00:00<?, ?it/s]"
      ]
     },
     "metadata": {},
     "output_type": "display_data"
    },
    {
     "data": {
      "application/vnd.jupyter.widget-view+json": {
       "model_id": "d4c6b55e4f8e4a8f94db46c54ee6d143",
       "version_major": 2,
       "version_minor": 0
      },
      "text/plain": [
       "Epoch 6/100:   0%|          | 0/176 [00:00<?, ?it/s]"
      ]
     },
     "metadata": {},
     "output_type": "display_data"
    },
    {
     "name": "stdout",
     "output_type": "stream",
     "text": [
      "\n",
      "Epoch 6: New best F1-weighted: 0.5270\n",
      "  F1-Macro: 0.4439, AUC-Macro: 0.0000, Accuracy: 0.5811\n",
      "Saving best model artifacts to C:\\Users\\PC\\Downloads\\Melspectrogram_finetune_NEW\\PestLarvaNet_AudioTwin_Run_1\\data_50.0percent\n"
     ]
    },
    {
     "data": {
      "application/vnd.jupyter.widget-view+json": {
       "model_id": "f2965542da3342bb86990670477db663",
       "version_major": 2,
       "version_minor": 0
      },
      "text/plain": [
       "Epoch 7/100:   0%|          | 0/176 [00:00<?, ?it/s]"
      ]
     },
     "metadata": {},
     "output_type": "display_data"
    },
    {
     "data": {
      "application/vnd.jupyter.widget-view+json": {
       "model_id": "dfa337956d6c4f36969b8c557f8fcc32",
       "version_major": 2,
       "version_minor": 0
      },
      "text/plain": [
       "Epoch 8/100:   0%|          | 0/176 [00:00<?, ?it/s]"
      ]
     },
     "metadata": {},
     "output_type": "display_data"
    },
    {
     "data": {
      "application/vnd.jupyter.widget-view+json": {
       "model_id": "8f66ce8fee1c4f3485d5ca6832154ea3",
       "version_major": 2,
       "version_minor": 0
      },
      "text/plain": [
       "Epoch 9/100:   0%|          | 0/176 [00:00<?, ?it/s]"
      ]
     },
     "metadata": {},
     "output_type": "display_data"
    },
    {
     "data": {
      "application/vnd.jupyter.widget-view+json": {
       "model_id": "12a9f9782da24b1aa455e14fc102d0b6",
       "version_major": 2,
       "version_minor": 0
      },
      "text/plain": [
       "Epoch 10/100:   0%|          | 0/176 [00:00<?, ?it/s]"
      ]
     },
     "metadata": {},
     "output_type": "display_data"
    },
    {
     "data": {
      "application/vnd.jupyter.widget-view+json": {
       "model_id": "56a8199216d246a6ab746c7b3bec793e",
       "version_major": 2,
       "version_minor": 0
      },
      "text/plain": [
       "Epoch 11/100:   0%|          | 0/176 [00:00<?, ?it/s]"
      ]
     },
     "metadata": {},
     "output_type": "display_data"
    },
    {
     "name": "stdout",
     "output_type": "stream",
     "text": [
      "\n",
      "Epoch 11: New best F1-weighted: 0.5356\n",
      "  F1-Macro: 0.4615, AUC-Macro: 0.0000, Accuracy: 0.5644\n",
      "Saving best model artifacts to C:\\Users\\PC\\Downloads\\Melspectrogram_finetune_NEW\\PestLarvaNet_AudioTwin_Run_1\\data_50.0percent\n"
     ]
    },
    {
     "data": {
      "application/vnd.jupyter.widget-view+json": {
       "model_id": "1ba30ad43ceb4932b7e9d41f9f9d6ac0",
       "version_major": 2,
       "version_minor": 0
      },
      "text/plain": [
       "Epoch 12/100:   0%|          | 0/176 [00:00<?, ?it/s]"
      ]
     },
     "metadata": {},
     "output_type": "display_data"
    },
    {
     "data": {
      "application/vnd.jupyter.widget-view+json": {
       "model_id": "f32f9979c0124c07956afe52b517eadd",
       "version_major": 2,
       "version_minor": 0
      },
      "text/plain": [
       "Epoch 13/100:   0%|          | 0/176 [00:00<?, ?it/s]"
      ]
     },
     "metadata": {},
     "output_type": "display_data"
    },
    {
     "data": {
      "application/vnd.jupyter.widget-view+json": {
       "model_id": "b021d27f14b442b5a8dbf86caedec81e",
       "version_major": 2,
       "version_minor": 0
      },
      "text/plain": [
       "Epoch 14/100:   0%|          | 0/176 [00:00<?, ?it/s]"
      ]
     },
     "metadata": {},
     "output_type": "display_data"
    },
    {
     "name": "stdout",
     "output_type": "stream",
     "text": [
      "\n",
      "Epoch 14: New best F1-weighted: 0.5751\n",
      "  F1-Macro: 0.5064, AUC-Macro: 0.0000, Accuracy: 0.6103\n",
      "Saving best model artifacts to C:\\Users\\PC\\Downloads\\Melspectrogram_finetune_NEW\\PestLarvaNet_AudioTwin_Run_1\\data_50.0percent\n"
     ]
    },
    {
     "data": {
      "application/vnd.jupyter.widget-view+json": {
       "model_id": "44fa8eb9201e4956bbb9417f2266402b",
       "version_major": 2,
       "version_minor": 0
      },
      "text/plain": [
       "Epoch 15/100:   0%|          | 0/176 [00:00<?, ?it/s]"
      ]
     },
     "metadata": {},
     "output_type": "display_data"
    },
    {
     "name": "stdout",
     "output_type": "stream",
     "text": [
      "\n",
      "Epoch 15: New best F1-weighted: 0.5845\n",
      "  F1-Macro: 0.5287, AUC-Macro: 0.0000, Accuracy: 0.5993\n",
      "Saving best model artifacts to C:\\Users\\PC\\Downloads\\Melspectrogram_finetune_NEW\\PestLarvaNet_AudioTwin_Run_1\\data_50.0percent\n"
     ]
    },
    {
     "data": {
      "application/vnd.jupyter.widget-view+json": {
       "model_id": "db2cdcaceaf2446d8e99f1ffad8a10b1",
       "version_major": 2,
       "version_minor": 0
      },
      "text/plain": [
       "Epoch 16/100:   0%|          | 0/176 [00:00<?, ?it/s]"
      ]
     },
     "metadata": {},
     "output_type": "display_data"
    },
    {
     "data": {
      "application/vnd.jupyter.widget-view+json": {
       "model_id": "9a9ce7333f2444ad8ea15ca869261749",
       "version_major": 2,
       "version_minor": 0
      },
      "text/plain": [
       "Epoch 17/100:   0%|          | 0/176 [00:00<?, ?it/s]"
      ]
     },
     "metadata": {},
     "output_type": "display_data"
    },
    {
     "name": "stdout",
     "output_type": "stream",
     "text": [
      "\n",
      "Epoch 17: New best F1-weighted: 0.5897\n",
      "  F1-Macro: 0.5232, AUC-Macro: 0.0000, Accuracy: 0.6217\n",
      "Saving best model artifacts to C:\\Users\\PC\\Downloads\\Melspectrogram_finetune_NEW\\PestLarvaNet_AudioTwin_Run_1\\data_50.0percent\n"
     ]
    },
    {
     "data": {
      "application/vnd.jupyter.widget-view+json": {
       "model_id": "135e4639f2f64e36a5a4967d8352d4d2",
       "version_major": 2,
       "version_minor": 0
      },
      "text/plain": [
       "Epoch 18/100:   0%|          | 0/176 [00:00<?, ?it/s]"
      ]
     },
     "metadata": {},
     "output_type": "display_data"
    },
    {
     "name": "stdout",
     "output_type": "stream",
     "text": [
      "\n",
      "Epoch 18: New best F1-weighted: 0.5919\n",
      "  F1-Macro: 0.5201, AUC-Macro: 0.0000, Accuracy: 0.6235\n",
      "Saving best model artifacts to C:\\Users\\PC\\Downloads\\Melspectrogram_finetune_NEW\\PestLarvaNet_AudioTwin_Run_1\\data_50.0percent\n"
     ]
    },
    {
     "data": {
      "application/vnd.jupyter.widget-view+json": {
       "model_id": "8fccbf9164c04363b87964f001a0b063",
       "version_major": 2,
       "version_minor": 0
      },
      "text/plain": [
       "Epoch 19/100:   0%|          | 0/176 [00:00<?, ?it/s]"
      ]
     },
     "metadata": {},
     "output_type": "display_data"
    },
    {
     "data": {
      "application/vnd.jupyter.widget-view+json": {
       "model_id": "962fe43f90e9478ba2b1f50363502f7e",
       "version_major": 2,
       "version_minor": 0
      },
      "text/plain": [
       "Epoch 20/100:   0%|          | 0/176 [00:00<?, ?it/s]"
      ]
     },
     "metadata": {},
     "output_type": "display_data"
    },
    {
     "data": {
      "application/vnd.jupyter.widget-view+json": {
       "model_id": "6f2c474e9baf4b5980ce24b2e79d7910",
       "version_major": 2,
       "version_minor": 0
      },
      "text/plain": [
       "Epoch 21/100:   0%|          | 0/176 [00:00<?, ?it/s]"
      ]
     },
     "metadata": {},
     "output_type": "display_data"
    },
    {
     "data": {
      "application/vnd.jupyter.widget-view+json": {
       "model_id": "5ce811857bcb41c7b929ff030b7e8981",
       "version_major": 2,
       "version_minor": 0
      },
      "text/plain": [
       "Epoch 22/100:   0%|          | 0/176 [00:00<?, ?it/s]"
      ]
     },
     "metadata": {},
     "output_type": "display_data"
    },
    {
     "data": {
      "application/vnd.jupyter.widget-view+json": {
       "model_id": "265f6c06783a429a96533d996487a89e",
       "version_major": 2,
       "version_minor": 0
      },
      "text/plain": [
       "Epoch 23/100:   0%|          | 0/176 [00:00<?, ?it/s]"
      ]
     },
     "metadata": {},
     "output_type": "display_data"
    },
    {
     "data": {
      "application/vnd.jupyter.widget-view+json": {
       "model_id": "dcef28d6b552450a8b2fcad73e050669",
       "version_major": 2,
       "version_minor": 0
      },
      "text/plain": [
       "Epoch 24/100:   0%|          | 0/176 [00:00<?, ?it/s]"
      ]
     },
     "metadata": {},
     "output_type": "display_data"
    },
    {
     "data": {
      "application/vnd.jupyter.widget-view+json": {
       "model_id": "b543034bc9c046ae92c3b8f3bb3c4dfc",
       "version_major": 2,
       "version_minor": 0
      },
      "text/plain": [
       "Epoch 25/100:   0%|          | 0/176 [00:00<?, ?it/s]"
      ]
     },
     "metadata": {},
     "output_type": "display_data"
    },
    {
     "name": "stdout",
     "output_type": "stream",
     "text": [
      "\n",
      "Epoch 25: New best F1-weighted: 0.6076\n",
      "  F1-Macro: 0.5453, AUC-Macro: 0.0000, Accuracy: 0.6384\n",
      "Saving best model artifacts to C:\\Users\\PC\\Downloads\\Melspectrogram_finetune_NEW\\PestLarvaNet_AudioTwin_Run_1\\data_50.0percent\n"
     ]
    },
    {
     "data": {
      "application/vnd.jupyter.widget-view+json": {
       "model_id": "7df02a577fdc42eeacac7120e5e46562",
       "version_major": 2,
       "version_minor": 0
      },
      "text/plain": [
       "Epoch 26/100:   0%|          | 0/176 [00:00<?, ?it/s]"
      ]
     },
     "metadata": {},
     "output_type": "display_data"
    },
    {
     "name": "stdout",
     "output_type": "stream",
     "text": [
      "\n",
      "Epoch 26: New best F1-weighted: 0.6379\n",
      "  F1-Macro: 0.5693, AUC-Macro: 0.0000, Accuracy: 0.6694\n",
      "Saving best model artifacts to C:\\Users\\PC\\Downloads\\Melspectrogram_finetune_NEW\\PestLarvaNet_AudioTwin_Run_1\\data_50.0percent\n"
     ]
    },
    {
     "data": {
      "application/vnd.jupyter.widget-view+json": {
       "model_id": "b910fa66ea2c4bde8b163b487c862640",
       "version_major": 2,
       "version_minor": 0
      },
      "text/plain": [
       "Epoch 27/100:   0%|          | 0/176 [00:00<?, ?it/s]"
      ]
     },
     "metadata": {},
     "output_type": "display_data"
    },
    {
     "name": "stdout",
     "output_type": "stream",
     "text": [
      "\n",
      "Epoch 27: New best F1-weighted: 0.6429\n",
      "  F1-Macro: 0.5895, AUC-Macro: 0.0000, Accuracy: 0.6641\n",
      "Saving best model artifacts to C:\\Users\\PC\\Downloads\\Melspectrogram_finetune_NEW\\PestLarvaNet_AudioTwin_Run_1\\data_50.0percent\n"
     ]
    },
    {
     "data": {
      "application/vnd.jupyter.widget-view+json": {
       "model_id": "ffa9da51b8d74ec0b914bc34b8f33852",
       "version_major": 2,
       "version_minor": 0
      },
      "text/plain": [
       "Epoch 28/100:   0%|          | 0/176 [00:00<?, ?it/s]"
      ]
     },
     "metadata": {},
     "output_type": "display_data"
    },
    {
     "name": "stdout",
     "output_type": "stream",
     "text": [
      "\n",
      "Epoch 28: New best F1-weighted: 0.6638\n",
      "  F1-Macro: 0.5997, AUC-Macro: 0.0000, Accuracy: 0.6875\n",
      "Saving best model artifacts to C:\\Users\\PC\\Downloads\\Melspectrogram_finetune_NEW\\PestLarvaNet_AudioTwin_Run_1\\data_50.0percent\n"
     ]
    },
    {
     "data": {
      "application/vnd.jupyter.widget-view+json": {
       "model_id": "5fc98f296fb54b7782a1963705feac53",
       "version_major": 2,
       "version_minor": 0
      },
      "text/plain": [
       "Epoch 29/100:   0%|          | 0/176 [00:00<?, ?it/s]"
      ]
     },
     "metadata": {},
     "output_type": "display_data"
    },
    {
     "name": "stdout",
     "output_type": "stream",
     "text": [
      "\n",
      "Epoch 29: New best F1-weighted: 0.6649\n",
      "  F1-Macro: 0.5994, AUC-Macro: 0.0000, Accuracy: 0.6879\n",
      "Saving best model artifacts to C:\\Users\\PC\\Downloads\\Melspectrogram_finetune_NEW\\PestLarvaNet_AudioTwin_Run_1\\data_50.0percent\n"
     ]
    },
    {
     "data": {
      "application/vnd.jupyter.widget-view+json": {
       "model_id": "70d16c0a29a84f639f57c72a39060713",
       "version_major": 2,
       "version_minor": 0
      },
      "text/plain": [
       "Epoch 30/100:   0%|          | 0/176 [00:00<?, ?it/s]"
      ]
     },
     "metadata": {},
     "output_type": "display_data"
    },
    {
     "name": "stdout",
     "output_type": "stream",
     "text": [
      "\n",
      "Epoch 30: New best F1-weighted: 0.6700\n",
      "  F1-Macro: 0.6108, AUC-Macro: 0.0000, Accuracy: 0.6893\n",
      "Saving best model artifacts to C:\\Users\\PC\\Downloads\\Melspectrogram_finetune_NEW\\PestLarvaNet_AudioTwin_Run_1\\data_50.0percent\n"
     ]
    },
    {
     "data": {
      "application/vnd.jupyter.widget-view+json": {
       "model_id": "3c4dbd3def9c4553bfb0b4db5b79c2d8",
       "version_major": 2,
       "version_minor": 0
      },
      "text/plain": [
       "Epoch 31/100:   0%|          | 0/176 [00:00<?, ?it/s]"
      ]
     },
     "metadata": {},
     "output_type": "display_data"
    },
    {
     "name": "stdout",
     "output_type": "stream",
     "text": [
      "\n",
      "Epoch 31: New best F1-weighted: 0.7108\n",
      "  F1-Macro: 0.6666, AUC-Macro: 0.0000, Accuracy: 0.7171\n",
      "Saving best model artifacts to C:\\Users\\PC\\Downloads\\Melspectrogram_finetune_NEW\\PestLarvaNet_AudioTwin_Run_1\\data_50.0percent\n"
     ]
    },
    {
     "data": {
      "application/vnd.jupyter.widget-view+json": {
       "model_id": "a41ea37fa2604842b22663cf40a584ef",
       "version_major": 2,
       "version_minor": 0
      },
      "text/plain": [
       "Epoch 32/100:   0%|          | 0/176 [00:00<?, ?it/s]"
      ]
     },
     "metadata": {},
     "output_type": "display_data"
    },
    {
     "data": {
      "application/vnd.jupyter.widget-view+json": {
       "model_id": "35c608f94446430ba90fc8b67711a32e",
       "version_major": 2,
       "version_minor": 0
      },
      "text/plain": [
       "Epoch 33/100:   0%|          | 0/176 [00:00<?, ?it/s]"
      ]
     },
     "metadata": {},
     "output_type": "display_data"
    },
    {
     "data": {
      "application/vnd.jupyter.widget-view+json": {
       "model_id": "2c2ae1382f5b4043b06232e6f29729e3",
       "version_major": 2,
       "version_minor": 0
      },
      "text/plain": [
       "Epoch 34/100:   0%|          | 0/176 [00:00<?, ?it/s]"
      ]
     },
     "metadata": {},
     "output_type": "display_data"
    },
    {
     "name": "stdout",
     "output_type": "stream",
     "text": [
      "\n",
      "Epoch 34: New best F1-weighted: 0.7195\n",
      "  F1-Macro: 0.6709, AUC-Macro: 0.0000, Accuracy: 0.7288\n",
      "Saving best model artifacts to C:\\Users\\PC\\Downloads\\Melspectrogram_finetune_NEW\\PestLarvaNet_AudioTwin_Run_1\\data_50.0percent\n"
     ]
    },
    {
     "data": {
      "application/vnd.jupyter.widget-view+json": {
       "model_id": "8273b283006a4ec1961779833289f4a9",
       "version_major": 2,
       "version_minor": 0
      },
      "text/plain": [
       "Epoch 35/100:   0%|          | 0/176 [00:00<?, ?it/s]"
      ]
     },
     "metadata": {},
     "output_type": "display_data"
    },
    {
     "data": {
      "application/vnd.jupyter.widget-view+json": {
       "model_id": "f8eef0a45dd64930a02ca0418540cc5d",
       "version_major": 2,
       "version_minor": 0
      },
      "text/plain": [
       "Epoch 36/100:   0%|          | 0/176 [00:00<?, ?it/s]"
      ]
     },
     "metadata": {},
     "output_type": "display_data"
    },
    {
     "data": {
      "application/vnd.jupyter.widget-view+json": {
       "model_id": "f0f9dec236fb45dabe8dfb9da8e2f0a6",
       "version_major": 2,
       "version_minor": 0
      },
      "text/plain": [
       "Epoch 37/100:   0%|          | 0/176 [00:00<?, ?it/s]"
      ]
     },
     "metadata": {},
     "output_type": "display_data"
    },
    {
     "name": "stdout",
     "output_type": "stream",
     "text": [
      "\n",
      "Epoch 37: New best F1-weighted: 0.7315\n",
      "  F1-Macro: 0.6914, AUC-Macro: 0.0000, Accuracy: 0.7356\n",
      "Saving best model artifacts to C:\\Users\\PC\\Downloads\\Melspectrogram_finetune_NEW\\PestLarvaNet_AudioTwin_Run_1\\data_50.0percent\n"
     ]
    },
    {
     "data": {
      "application/vnd.jupyter.widget-view+json": {
       "model_id": "9f41b3f1e8274f3099d38a2ec63b0e69",
       "version_major": 2,
       "version_minor": 0
      },
      "text/plain": [
       "Epoch 38/100:   0%|          | 0/176 [00:00<?, ?it/s]"
      ]
     },
     "metadata": {},
     "output_type": "display_data"
    },
    {
     "name": "stdout",
     "output_type": "stream",
     "text": [
      "\n",
      "Epoch 38: New best F1-weighted: 0.7382\n",
      "  F1-Macro: 0.6976, AUC-Macro: 0.0000, Accuracy: 0.7434\n",
      "Saving best model artifacts to C:\\Users\\PC\\Downloads\\Melspectrogram_finetune_NEW\\PestLarvaNet_AudioTwin_Run_1\\data_50.0percent\n"
     ]
    },
    {
     "data": {
      "application/vnd.jupyter.widget-view+json": {
       "model_id": "bfa71bbf09da4144a4ab552b3b9ee9c5",
       "version_major": 2,
       "version_minor": 0
      },
      "text/plain": [
       "Epoch 39/100:   0%|          | 0/176 [00:00<?, ?it/s]"
      ]
     },
     "metadata": {},
     "output_type": "display_data"
    },
    {
     "data": {
      "application/vnd.jupyter.widget-view+json": {
       "model_id": "cee34667f5de4d9aba2b9a51d9001858",
       "version_major": 2,
       "version_minor": 0
      },
      "text/plain": [
       "Epoch 40/100:   0%|          | 0/176 [00:00<?, ?it/s]"
      ]
     },
     "metadata": {},
     "output_type": "display_data"
    },
    {
     "name": "stdout",
     "output_type": "stream",
     "text": [
      "\n",
      "Epoch 40: New best F1-weighted: 0.7649\n",
      "  F1-Macro: 0.7333, AUC-Macro: 0.0000, Accuracy: 0.7658\n",
      "Saving best model artifacts to C:\\Users\\PC\\Downloads\\Melspectrogram_finetune_NEW\\PestLarvaNet_AudioTwin_Run_1\\data_50.0percent\n"
     ]
    },
    {
     "data": {
      "application/vnd.jupyter.widget-view+json": {
       "model_id": "4019a6d54466401da07297d83d5a9926",
       "version_major": 2,
       "version_minor": 0
      },
      "text/plain": [
       "Epoch 41/100:   0%|          | 0/176 [00:00<?, ?it/s]"
      ]
     },
     "metadata": {},
     "output_type": "display_data"
    },
    {
     "data": {
      "application/vnd.jupyter.widget-view+json": {
       "model_id": "b91001ba899a483b83949dc36ae64338",
       "version_major": 2,
       "version_minor": 0
      },
      "text/plain": [
       "Epoch 42/100:   0%|          | 0/176 [00:00<?, ?it/s]"
      ]
     },
     "metadata": {},
     "output_type": "display_data"
    },
    {
     "data": {
      "application/vnd.jupyter.widget-view+json": {
       "model_id": "f8172fbde9ee43cb8e66bd0060c532c9",
       "version_major": 2,
       "version_minor": 0
      },
      "text/plain": [
       "Epoch 43/100:   0%|          | 0/176 [00:00<?, ?it/s]"
      ]
     },
     "metadata": {},
     "output_type": "display_data"
    },
    {
     "data": {
      "application/vnd.jupyter.widget-view+json": {
       "model_id": "29706ad9c1884390a59135536b643b71",
       "version_major": 2,
       "version_minor": 0
      },
      "text/plain": [
       "Epoch 44/100:   0%|          | 0/176 [00:00<?, ?it/s]"
      ]
     },
     "metadata": {},
     "output_type": "display_data"
    },
    {
     "data": {
      "application/vnd.jupyter.widget-view+json": {
       "model_id": "0571fa8a830f4dc8b2490248f8bdd5ae",
       "version_major": 2,
       "version_minor": 0
      },
      "text/plain": [
       "Epoch 45/100:   0%|          | 0/176 [00:00<?, ?it/s]"
      ]
     },
     "metadata": {},
     "output_type": "display_data"
    },
    {
     "name": "stdout",
     "output_type": "stream",
     "text": [
      "\n",
      "Epoch 45: New best F1-weighted: 0.7811\n",
      "  F1-Macro: 0.7526, AUC-Macro: 0.0000, Accuracy: 0.7822\n",
      "Saving best model artifacts to C:\\Users\\PC\\Downloads\\Melspectrogram_finetune_NEW\\PestLarvaNet_AudioTwin_Run_1\\data_50.0percent\n"
     ]
    },
    {
     "data": {
      "application/vnd.jupyter.widget-view+json": {
       "model_id": "d70a15e03dea4b1c9066eb9cf7d4a13f",
       "version_major": 2,
       "version_minor": 0
      },
      "text/plain": [
       "Epoch 46/100:   0%|          | 0/176 [00:00<?, ?it/s]"
      ]
     },
     "metadata": {},
     "output_type": "display_data"
    },
    {
     "data": {
      "application/vnd.jupyter.widget-view+json": {
       "model_id": "5af3095c25db43758e385ebba698a0f5",
       "version_major": 2,
       "version_minor": 0
      },
      "text/plain": [
       "Epoch 47/100:   0%|          | 0/176 [00:00<?, ?it/s]"
      ]
     },
     "metadata": {},
     "output_type": "display_data"
    },
    {
     "data": {
      "application/vnd.jupyter.widget-view+json": {
       "model_id": "dcdb21fb4a6d4bbdb5875844ad08dad0",
       "version_major": 2,
       "version_minor": 0
      },
      "text/plain": [
       "Epoch 48/100:   0%|          | 0/176 [00:00<?, ?it/s]"
      ]
     },
     "metadata": {},
     "output_type": "display_data"
    },
    {
     "data": {
      "application/vnd.jupyter.widget-view+json": {
       "model_id": "cf519882c0b34d829860106117294638",
       "version_major": 2,
       "version_minor": 0
      },
      "text/plain": [
       "Epoch 49/100:   0%|          | 0/176 [00:00<?, ?it/s]"
      ]
     },
     "metadata": {},
     "output_type": "display_data"
    },
    {
     "data": {
      "application/vnd.jupyter.widget-view+json": {
       "model_id": "76146f52d8e4426cb2f993667042ab5f",
       "version_major": 2,
       "version_minor": 0
      },
      "text/plain": [
       "Epoch 50/100:   0%|          | 0/176 [00:00<?, ?it/s]"
      ]
     },
     "metadata": {},
     "output_type": "display_data"
    },
    {
     "data": {
      "application/vnd.jupyter.widget-view+json": {
       "model_id": "33725b7dbcae489bb446ce088bd09099",
       "version_major": 2,
       "version_minor": 0
      },
      "text/plain": [
       "Epoch 51/100:   0%|          | 0/176 [00:00<?, ?it/s]"
      ]
     },
     "metadata": {},
     "output_type": "display_data"
    },
    {
     "name": "stdout",
     "output_type": "stream",
     "text": [
      "\n",
      "Epoch 51: New best F1-weighted: 0.7818\n",
      "  F1-Macro: 0.7522, AUC-Macro: 0.0000, Accuracy: 0.7826\n",
      "Saving best model artifacts to C:\\Users\\PC\\Downloads\\Melspectrogram_finetune_NEW\\PestLarvaNet_AudioTwin_Run_1\\data_50.0percent\n"
     ]
    },
    {
     "data": {
      "application/vnd.jupyter.widget-view+json": {
       "model_id": "b71e2784837b44bcaf9efe8f386ae9f3",
       "version_major": 2,
       "version_minor": 0
      },
      "text/plain": [
       "Epoch 52/100:   0%|          | 0/176 [00:00<?, ?it/s]"
      ]
     },
     "metadata": {},
     "output_type": "display_data"
    },
    {
     "data": {
      "application/vnd.jupyter.widget-view+json": {
       "model_id": "27a2b196a5c94df1a64344dbab9f8add",
       "version_major": 2,
       "version_minor": 0
      },
      "text/plain": [
       "Epoch 53/100:   0%|          | 0/176 [00:00<?, ?it/s]"
      ]
     },
     "metadata": {},
     "output_type": "display_data"
    },
    {
     "name": "stdout",
     "output_type": "stream",
     "text": [
      "\n",
      "Epoch 53: New best F1-weighted: 0.7826\n",
      "  F1-Macro: 0.7565, AUC-Macro: 0.0000, Accuracy: 0.7833\n",
      "Saving best model artifacts to C:\\Users\\PC\\Downloads\\Melspectrogram_finetune_NEW\\PestLarvaNet_AudioTwin_Run_1\\data_50.0percent\n"
     ]
    },
    {
     "data": {
      "application/vnd.jupyter.widget-view+json": {
       "model_id": "5050b016b1cd4e05b6779b9617e0ebe9",
       "version_major": 2,
       "version_minor": 0
      },
      "text/plain": [
       "Epoch 54/100:   0%|          | 0/176 [00:00<?, ?it/s]"
      ]
     },
     "metadata": {},
     "output_type": "display_data"
    },
    {
     "name": "stdout",
     "output_type": "stream",
     "text": [
      "\n",
      "Epoch 54: New best F1-weighted: 0.7917\n",
      "  F1-Macro: 0.7638, AUC-Macro: 0.0000, Accuracy: 0.7922\n",
      "Saving best model artifacts to C:\\Users\\PC\\Downloads\\Melspectrogram_finetune_NEW\\PestLarvaNet_AudioTwin_Run_1\\data_50.0percent\n"
     ]
    },
    {
     "data": {
      "application/vnd.jupyter.widget-view+json": {
       "model_id": "25ab588a871c40e3b693fb23c94cb9de",
       "version_major": 2,
       "version_minor": 0
      },
      "text/plain": [
       "Epoch 55/100:   0%|          | 0/176 [00:00<?, ?it/s]"
      ]
     },
     "metadata": {},
     "output_type": "display_data"
    },
    {
     "data": {
      "application/vnd.jupyter.widget-view+json": {
       "model_id": "2ca22780af31444dafccc6794d64b178",
       "version_major": 2,
       "version_minor": 0
      },
      "text/plain": [
       "Epoch 56/100:   0%|          | 0/176 [00:00<?, ?it/s]"
      ]
     },
     "metadata": {},
     "output_type": "display_data"
    },
    {
     "name": "stdout",
     "output_type": "stream",
     "text": [
      "\n",
      "Epoch 56: New best F1-weighted: 0.7986\n",
      "  F1-Macro: 0.7760, AUC-Macro: 0.0000, Accuracy: 0.7993\n",
      "Saving best model artifacts to C:\\Users\\PC\\Downloads\\Melspectrogram_finetune_NEW\\PestLarvaNet_AudioTwin_Run_1\\data_50.0percent\n"
     ]
    },
    {
     "data": {
      "application/vnd.jupyter.widget-view+json": {
       "model_id": "621eb6567fee4a3cbf9bfa165769178f",
       "version_major": 2,
       "version_minor": 0
      },
      "text/plain": [
       "Epoch 57/100:   0%|          | 0/176 [00:00<?, ?it/s]"
      ]
     },
     "metadata": {},
     "output_type": "display_data"
    },
    {
     "data": {
      "application/vnd.jupyter.widget-view+json": {
       "model_id": "3821c2dc42684dfbaa30ce1c3caad2bb",
       "version_major": 2,
       "version_minor": 0
      },
      "text/plain": [
       "Epoch 58/100:   0%|          | 0/176 [00:00<?, ?it/s]"
      ]
     },
     "metadata": {},
     "output_type": "display_data"
    },
    {
     "name": "stdout",
     "output_type": "stream",
     "text": [
      "\n",
      "Epoch 58: New best F1-weighted: 0.7997\n",
      "  F1-Macro: 0.7782, AUC-Macro: 0.0000, Accuracy: 0.8004\n",
      "Saving best model artifacts to C:\\Users\\PC\\Downloads\\Melspectrogram_finetune_NEW\\PestLarvaNet_AudioTwin_Run_1\\data_50.0percent\n"
     ]
    },
    {
     "data": {
      "application/vnd.jupyter.widget-view+json": {
       "model_id": "737031365273413cb9abadfb0e4460d2",
       "version_major": 2,
       "version_minor": 0
      },
      "text/plain": [
       "Epoch 59/100:   0%|          | 0/176 [00:00<?, ?it/s]"
      ]
     },
     "metadata": {},
     "output_type": "display_data"
    },
    {
     "data": {
      "application/vnd.jupyter.widget-view+json": {
       "model_id": "80f6235cca5c44dc87a0dd1a3e09bea1",
       "version_major": 2,
       "version_minor": 0
      },
      "text/plain": [
       "Epoch 60/100:   0%|          | 0/176 [00:00<?, ?it/s]"
      ]
     },
     "metadata": {},
     "output_type": "display_data"
    },
    {
     "data": {
      "application/vnd.jupyter.widget-view+json": {
       "model_id": "3aabcd82888d48e3b46fda9dab526491",
       "version_major": 2,
       "version_minor": 0
      },
      "text/plain": [
       "Epoch 61/100:   0%|          | 0/176 [00:00<?, ?it/s]"
      ]
     },
     "metadata": {},
     "output_type": "display_data"
    },
    {
     "data": {
      "application/vnd.jupyter.widget-view+json": {
       "model_id": "5b9f61558ef14c97961da8cecec52381",
       "version_major": 2,
       "version_minor": 0
      },
      "text/plain": [
       "Epoch 62/100:   0%|          | 0/176 [00:00<?, ?it/s]"
      ]
     },
     "metadata": {},
     "output_type": "display_data"
    },
    {
     "data": {
      "application/vnd.jupyter.widget-view+json": {
       "model_id": "f7c62e9808f54d22a6d0b3f6123e19ba",
       "version_major": 2,
       "version_minor": 0
      },
      "text/plain": [
       "Epoch 63/100:   0%|          | 0/176 [00:00<?, ?it/s]"
      ]
     },
     "metadata": {},
     "output_type": "display_data"
    },
    {
     "data": {
      "application/vnd.jupyter.widget-view+json": {
       "model_id": "f7c2127d924644f8b247343357749840",
       "version_major": 2,
       "version_minor": 0
      },
      "text/plain": [
       "Epoch 64/100:   0%|          | 0/176 [00:00<?, ?it/s]"
      ]
     },
     "metadata": {},
     "output_type": "display_data"
    },
    {
     "data": {
      "application/vnd.jupyter.widget-view+json": {
       "model_id": "0433bdb555fa4328a852fe07072216eb",
       "version_major": 2,
       "version_minor": 0
      },
      "text/plain": [
       "Epoch 65/100:   0%|          | 0/176 [00:00<?, ?it/s]"
      ]
     },
     "metadata": {},
     "output_type": "display_data"
    },
    {
     "data": {
      "application/vnd.jupyter.widget-view+json": {
       "model_id": "2809380f0cab4e82906f220f72dfaeef",
       "version_major": 2,
       "version_minor": 0
      },
      "text/plain": [
       "Epoch 66/100:   0%|          | 0/176 [00:00<?, ?it/s]"
      ]
     },
     "metadata": {},
     "output_type": "display_data"
    },
    {
     "name": "stdout",
     "output_type": "stream",
     "text": [
      "\n",
      "Epoch 66: New best F1-weighted: 0.8132\n",
      "  F1-Macro: 0.7916, AUC-Macro: 0.0000, Accuracy: 0.8149\n",
      "Saving best model artifacts to C:\\Users\\PC\\Downloads\\Melspectrogram_finetune_NEW\\PestLarvaNet_AudioTwin_Run_1\\data_50.0percent\n"
     ]
    },
    {
     "data": {
      "application/vnd.jupyter.widget-view+json": {
       "model_id": "5eb5ae1504974c259d2c67c33763fd77",
       "version_major": 2,
       "version_minor": 0
      },
      "text/plain": [
       "Epoch 67/100:   0%|          | 0/176 [00:00<?, ?it/s]"
      ]
     },
     "metadata": {},
     "output_type": "display_data"
    },
    {
     "data": {
      "application/vnd.jupyter.widget-view+json": {
       "model_id": "338f48bc8cc94e0c994b4ad76168721b",
       "version_major": 2,
       "version_minor": 0
      },
      "text/plain": [
       "Epoch 68/100:   0%|          | 0/176 [00:00<?, ?it/s]"
      ]
     },
     "metadata": {},
     "output_type": "display_data"
    },
    {
     "name": "stdout",
     "output_type": "stream",
     "text": [
      "\n",
      "Epoch 68: New best F1-weighted: 0.8171\n",
      "  F1-Macro: 0.7990, AUC-Macro: 0.0000, Accuracy: 0.8171\n",
      "Saving best model artifacts to C:\\Users\\PC\\Downloads\\Melspectrogram_finetune_NEW\\PestLarvaNet_AudioTwin_Run_1\\data_50.0percent\n"
     ]
    },
    {
     "data": {
      "application/vnd.jupyter.widget-view+json": {
       "model_id": "ca84bbe9da354add9450952ce024918c",
       "version_major": 2,
       "version_minor": 0
      },
      "text/plain": [
       "Epoch 69/100:   0%|          | 0/176 [00:00<?, ?it/s]"
      ]
     },
     "metadata": {},
     "output_type": "display_data"
    },
    {
     "name": "stdout",
     "output_type": "stream",
     "text": [
      "\n",
      "Epoch 69: New best F1-weighted: 0.8245\n",
      "  F1-Macro: 0.8028, AUC-Macro: 0.0000, Accuracy: 0.8242\n",
      "Saving best model artifacts to C:\\Users\\PC\\Downloads\\Melspectrogram_finetune_NEW\\PestLarvaNet_AudioTwin_Run_1\\data_50.0percent\n"
     ]
    },
    {
     "data": {
      "application/vnd.jupyter.widget-view+json": {
       "model_id": "66f73b4b08754d74a652f18455db279d",
       "version_major": 2,
       "version_minor": 0
      },
      "text/plain": [
       "Epoch 70/100:   0%|          | 0/176 [00:00<?, ?it/s]"
      ]
     },
     "metadata": {},
     "output_type": "display_data"
    },
    {
     "data": {
      "application/vnd.jupyter.widget-view+json": {
       "model_id": "8cb7802c91dc41fa9fb8e37f140f0981",
       "version_major": 2,
       "version_minor": 0
      },
      "text/plain": [
       "Epoch 71/100:   0%|          | 0/176 [00:00<?, ?it/s]"
      ]
     },
     "metadata": {},
     "output_type": "display_data"
    },
    {
     "data": {
      "application/vnd.jupyter.widget-view+json": {
       "model_id": "78ea4412903743ad981adee70971328c",
       "version_major": 2,
       "version_minor": 0
      },
      "text/plain": [
       "Epoch 72/100:   0%|          | 0/176 [00:00<?, ?it/s]"
      ]
     },
     "metadata": {},
     "output_type": "display_data"
    },
    {
     "name": "stdout",
     "output_type": "stream",
     "text": [
      "\n",
      "Epoch 72: New best F1-weighted: 0.8247\n",
      "  F1-Macro: 0.8050, AUC-Macro: 0.0000, Accuracy: 0.8253\n",
      "Saving best model artifacts to C:\\Users\\PC\\Downloads\\Melspectrogram_finetune_NEW\\PestLarvaNet_AudioTwin_Run_1\\data_50.0percent\n"
     ]
    },
    {
     "data": {
      "application/vnd.jupyter.widget-view+json": {
       "model_id": "a326d2bcaa2d40e8b464cd8c6b4cf987",
       "version_major": 2,
       "version_minor": 0
      },
      "text/plain": [
       "Epoch 73/100:   0%|          | 0/176 [00:00<?, ?it/s]"
      ]
     },
     "metadata": {},
     "output_type": "display_data"
    },
    {
     "name": "stdout",
     "output_type": "stream",
     "text": [
      "\n",
      "Epoch 73: New best F1-weighted: 0.8324\n",
      "  F1-Macro: 0.8129, AUC-Macro: 0.0000, Accuracy: 0.8327\n",
      "Saving best model artifacts to C:\\Users\\PC\\Downloads\\Melspectrogram_finetune_NEW\\PestLarvaNet_AudioTwin_Run_1\\data_50.0percent\n"
     ]
    },
    {
     "data": {
      "application/vnd.jupyter.widget-view+json": {
       "model_id": "406ad1097b074e4ca47bcc3da85793be",
       "version_major": 2,
       "version_minor": 0
      },
      "text/plain": [
       "Epoch 74/100:   0%|          | 0/176 [00:00<?, ?it/s]"
      ]
     },
     "metadata": {},
     "output_type": "display_data"
    },
    {
     "data": {
      "application/vnd.jupyter.widget-view+json": {
       "model_id": "e43ad473ed5f44b58e8af4ccb69631d7",
       "version_major": 2,
       "version_minor": 0
      },
      "text/plain": [
       "Epoch 75/100:   0%|          | 0/176 [00:00<?, ?it/s]"
      ]
     },
     "metadata": {},
     "output_type": "display_data"
    },
    {
     "data": {
      "application/vnd.jupyter.widget-view+json": {
       "model_id": "dbbfe633b22d4c00b40b760393b23435",
       "version_major": 2,
       "version_minor": 0
      },
      "text/plain": [
       "Epoch 76/100:   0%|          | 0/176 [00:00<?, ?it/s]"
      ]
     },
     "metadata": {},
     "output_type": "display_data"
    },
    {
     "name": "stdout",
     "output_type": "stream",
     "text": [
      "\n",
      "Epoch 76: New best F1-weighted: 0.8361\n",
      "  F1-Macro: 0.8189, AUC-Macro: 0.0000, Accuracy: 0.8363\n",
      "Saving best model artifacts to C:\\Users\\PC\\Downloads\\Melspectrogram_finetune_NEW\\PestLarvaNet_AudioTwin_Run_1\\data_50.0percent\n"
     ]
    },
    {
     "data": {
      "application/vnd.jupyter.widget-view+json": {
       "model_id": "e4f3420c912947328285f40e286a60a7",
       "version_major": 2,
       "version_minor": 0
      },
      "text/plain": [
       "Epoch 77/100:   0%|          | 0/176 [00:00<?, ?it/s]"
      ]
     },
     "metadata": {},
     "output_type": "display_data"
    },
    {
     "data": {
      "application/vnd.jupyter.widget-view+json": {
       "model_id": "79f472ca1f0448128ff11c0a8ede6d50",
       "version_major": 2,
       "version_minor": 0
      },
      "text/plain": [
       "Epoch 78/100:   0%|          | 0/176 [00:00<?, ?it/s]"
      ]
     },
     "metadata": {},
     "output_type": "display_data"
    },
    {
     "data": {
      "application/vnd.jupyter.widget-view+json": {
       "model_id": "70ed521e963a49adbe7665e7ac8e46c3",
       "version_major": 2,
       "version_minor": 0
      },
      "text/plain": [
       "Epoch 79/100:   0%|          | 0/176 [00:00<?, ?it/s]"
      ]
     },
     "metadata": {},
     "output_type": "display_data"
    },
    {
     "data": {
      "application/vnd.jupyter.widget-view+json": {
       "model_id": "e8e3349177734450a42aed2c7ca76905",
       "version_major": 2,
       "version_minor": 0
      },
      "text/plain": [
       "Epoch 80/100:   0%|          | 0/176 [00:00<?, ?it/s]"
      ]
     },
     "metadata": {},
     "output_type": "display_data"
    },
    {
     "name": "stdout",
     "output_type": "stream",
     "text": [
      "\n",
      "Epoch 80: New best F1-weighted: 0.8398\n",
      "  F1-Macro: 0.8222, AUC-Macro: 0.0000, Accuracy: 0.8399\n",
      "Saving best model artifacts to C:\\Users\\PC\\Downloads\\Melspectrogram_finetune_NEW\\PestLarvaNet_AudioTwin_Run_1\\data_50.0percent\n"
     ]
    },
    {
     "data": {
      "application/vnd.jupyter.widget-view+json": {
       "model_id": "ae31c791f76c4a609baaa6a920946b9b",
       "version_major": 2,
       "version_minor": 0
      },
      "text/plain": [
       "Epoch 81/100:   0%|          | 0/176 [00:00<?, ?it/s]"
      ]
     },
     "metadata": {},
     "output_type": "display_data"
    },
    {
     "name": "stdout",
     "output_type": "stream",
     "text": [
      "\n",
      "Epoch 81: New best F1-weighted: 0.8432\n",
      "  F1-Macro: 0.8247, AUC-Macro: 0.0000, Accuracy: 0.8434\n",
      "Saving best model artifacts to C:\\Users\\PC\\Downloads\\Melspectrogram_finetune_NEW\\PestLarvaNet_AudioTwin_Run_1\\data_50.0percent\n"
     ]
    },
    {
     "data": {
      "application/vnd.jupyter.widget-view+json": {
       "model_id": "b898e01705164cf8916024123eeab462",
       "version_major": 2,
       "version_minor": 0
      },
      "text/plain": [
       "Epoch 82/100:   0%|          | 0/176 [00:00<?, ?it/s]"
      ]
     },
     "metadata": {},
     "output_type": "display_data"
    },
    {
     "name": "stdout",
     "output_type": "stream",
     "text": [
      "\n",
      "Epoch 82: New best F1-weighted: 0.8435\n",
      "  F1-Macro: 0.8250, AUC-Macro: 0.0000, Accuracy: 0.8434\n",
      "Saving best model artifacts to C:\\Users\\PC\\Downloads\\Melspectrogram_finetune_NEW\\PestLarvaNet_AudioTwin_Run_1\\data_50.0percent\n"
     ]
    },
    {
     "data": {
      "application/vnd.jupyter.widget-view+json": {
       "model_id": "9a7577426732423095cc0183c4c882e3",
       "version_major": 2,
       "version_minor": 0
      },
      "text/plain": [
       "Epoch 83/100:   0%|          | 0/176 [00:00<?, ?it/s]"
      ]
     },
     "metadata": {},
     "output_type": "display_data"
    },
    {
     "data": {
      "application/vnd.jupyter.widget-view+json": {
       "model_id": "9b0c8c35c63147e6921db03ca0583119",
       "version_major": 2,
       "version_minor": 0
      },
      "text/plain": [
       "Epoch 84/100:   0%|          | 0/176 [00:00<?, ?it/s]"
      ]
     },
     "metadata": {},
     "output_type": "display_data"
    },
    {
     "data": {
      "application/vnd.jupyter.widget-view+json": {
       "model_id": "0391b903d3b24cd7a98f7f5382ddd524",
       "version_major": 2,
       "version_minor": 0
      },
      "text/plain": [
       "Epoch 85/100:   0%|          | 0/176 [00:00<?, ?it/s]"
      ]
     },
     "metadata": {},
     "output_type": "display_data"
    },
    {
     "data": {
      "application/vnd.jupyter.widget-view+json": {
       "model_id": "0216d0003ca440d493ec622e48994d91",
       "version_major": 2,
       "version_minor": 0
      },
      "text/plain": [
       "Epoch 86/100:   0%|          | 0/176 [00:00<?, ?it/s]"
      ]
     },
     "metadata": {},
     "output_type": "display_data"
    },
    {
     "data": {
      "application/vnd.jupyter.widget-view+json": {
       "model_id": "00a7291cd7a943f6bfef32fff80dc1c7",
       "version_major": 2,
       "version_minor": 0
      },
      "text/plain": [
       "Epoch 87/100:   0%|          | 0/176 [00:00<?, ?it/s]"
      ]
     },
     "metadata": {},
     "output_type": "display_data"
    },
    {
     "data": {
      "application/vnd.jupyter.widget-view+json": {
       "model_id": "0796499302b64d3d919f92b5fb406577",
       "version_major": 2,
       "version_minor": 0
      },
      "text/plain": [
       "Epoch 88/100:   0%|          | 0/176 [00:00<?, ?it/s]"
      ]
     },
     "metadata": {},
     "output_type": "display_data"
    },
    {
     "data": {
      "application/vnd.jupyter.widget-view+json": {
       "model_id": "b81738c3acf2477080a3a0d67efa1cf4",
       "version_major": 2,
       "version_minor": 0
      },
      "text/plain": [
       "Epoch 89/100:   0%|          | 0/176 [00:00<?, ?it/s]"
      ]
     },
     "metadata": {},
     "output_type": "display_data"
    },
    {
     "name": "stdout",
     "output_type": "stream",
     "text": [
      "\n",
      "Epoch 89: New best F1-weighted: 0.8473\n",
      "  F1-Macro: 0.8302, AUC-Macro: 0.0000, Accuracy: 0.8477\n",
      "Saving best model artifacts to C:\\Users\\PC\\Downloads\\Melspectrogram_finetune_NEW\\PestLarvaNet_AudioTwin_Run_1\\data_50.0percent\n"
     ]
    },
    {
     "data": {
      "application/vnd.jupyter.widget-view+json": {
       "model_id": "50092a6cc443497fbb62a4b047c3a766",
       "version_major": 2,
       "version_minor": 0
      },
      "text/plain": [
       "Epoch 90/100:   0%|          | 0/176 [00:00<?, ?it/s]"
      ]
     },
     "metadata": {},
     "output_type": "display_data"
    },
    {
     "name": "stdout",
     "output_type": "stream",
     "text": [
      "\n",
      "Epoch 90: New best F1-weighted: 0.8517\n",
      "  F1-Macro: 0.8365, AUC-Macro: 0.0000, Accuracy: 0.8520\n",
      "Saving best model artifacts to C:\\Users\\PC\\Downloads\\Melspectrogram_finetune_NEW\\PestLarvaNet_AudioTwin_Run_1\\data_50.0percent\n"
     ]
    },
    {
     "data": {
      "application/vnd.jupyter.widget-view+json": {
       "model_id": "1bbb19122aaf4d629cdf28564be03ed9",
       "version_major": 2,
       "version_minor": 0
      },
      "text/plain": [
       "Epoch 91/100:   0%|          | 0/176 [00:00<?, ?it/s]"
      ]
     },
     "metadata": {},
     "output_type": "display_data"
    },
    {
     "data": {
      "application/vnd.jupyter.widget-view+json": {
       "model_id": "47305447717541d684b42a3eb51dfce9",
       "version_major": 2,
       "version_minor": 0
      },
      "text/plain": [
       "Epoch 92/100:   0%|          | 0/176 [00:00<?, ?it/s]"
      ]
     },
     "metadata": {},
     "output_type": "display_data"
    },
    {
     "data": {
      "application/vnd.jupyter.widget-view+json": {
       "model_id": "630fd4b0213d49bcba230ab2d33b0ee5",
       "version_major": 2,
       "version_minor": 0
      },
      "text/plain": [
       "Epoch 93/100:   0%|          | 0/176 [00:00<?, ?it/s]"
      ]
     },
     "metadata": {},
     "output_type": "display_data"
    },
    {
     "data": {
      "application/vnd.jupyter.widget-view+json": {
       "model_id": "c0d096e93b8449d69f1a2db235a7f488",
       "version_major": 2,
       "version_minor": 0
      },
      "text/plain": [
       "Epoch 94/100:   0%|          | 0/176 [00:00<?, ?it/s]"
      ]
     },
     "metadata": {},
     "output_type": "display_data"
    },
    {
     "data": {
      "application/vnd.jupyter.widget-view+json": {
       "model_id": "9d4e040f6da3483fbc2032cd3c9a3be0",
       "version_major": 2,
       "version_minor": 0
      },
      "text/plain": [
       "Epoch 95/100:   0%|          | 0/176 [00:00<?, ?it/s]"
      ]
     },
     "metadata": {},
     "output_type": "display_data"
    },
    {
     "data": {
      "application/vnd.jupyter.widget-view+json": {
       "model_id": "7359ee1fe48c4cc3be507d1477d07cc1",
       "version_major": 2,
       "version_minor": 0
      },
      "text/plain": [
       "Epoch 96/100:   0%|          | 0/176 [00:00<?, ?it/s]"
      ]
     },
     "metadata": {},
     "output_type": "display_data"
    },
    {
     "name": "stdout",
     "output_type": "stream",
     "text": [
      "\n",
      "Epoch 96: New best F1-weighted: 0.8532\n",
      "  F1-Macro: 0.8362, AUC-Macro: 0.0000, Accuracy: 0.8534\n",
      "Saving best model artifacts to C:\\Users\\PC\\Downloads\\Melspectrogram_finetune_NEW\\PestLarvaNet_AudioTwin_Run_1\\data_50.0percent\n"
     ]
    },
    {
     "data": {
      "application/vnd.jupyter.widget-view+json": {
       "model_id": "acfde7f1967f482c90a3fae18274d802",
       "version_major": 2,
       "version_minor": 0
      },
      "text/plain": [
       "Epoch 97/100:   0%|          | 0/176 [00:00<?, ?it/s]"
      ]
     },
     "metadata": {},
     "output_type": "display_data"
    },
    {
     "data": {
      "application/vnd.jupyter.widget-view+json": {
       "model_id": "09a5f7a2c2ad43d6916c89b05ac29c0b",
       "version_major": 2,
       "version_minor": 0
      },
      "text/plain": [
       "Epoch 98/100:   0%|          | 0/176 [00:00<?, ?it/s]"
      ]
     },
     "metadata": {},
     "output_type": "display_data"
    },
    {
     "data": {
      "application/vnd.jupyter.widget-view+json": {
       "model_id": "75c85f1648c54e9091f1c10d9d89792c",
       "version_major": 2,
       "version_minor": 0
      },
      "text/plain": [
       "Epoch 99/100:   0%|          | 0/176 [00:00<?, ?it/s]"
      ]
     },
     "metadata": {},
     "output_type": "display_data"
    },
    {
     "data": {
      "application/vnd.jupyter.widget-view+json": {
       "model_id": "7ca6f8fe1672481d8e264182cd90a7e9",
       "version_major": 2,
       "version_minor": 0
      },
      "text/plain": [
       "Epoch 100/100:   0%|          | 0/176 [00:00<?, ?it/s]"
      ]
     },
     "metadata": {},
     "output_type": "display_data"
    },
    {
     "name": "stdout",
     "output_type": "stream",
     "text": [
      "Finished Training for this run. Best F1-weighted: 0.8532\n",
      "==> Results with 50.0% data: Best F1-Weighted = 0.8532\n",
      "--- Training with 100.0% of labeled data ---\n",
      "Loading pretrained weights from: C:\\Users\\PC\\PestLarvaNet\\SSL\\audiotwin_checkpoints_medium\\Final checkpoint\\run_1_lp1e-04_ep1e-06_lb0.001_audiotwin_pestlarvanet_medium_epoch_100.pth\n"
     ]
    },
    {
     "name": "stderr",
     "output_type": "stream",
     "text": [
      "C:\\Users\\PC\\anaconda3\\envs\\FallDeteNet\\lib\\site-packages\\torch\\optim\\lr_scheduler.py:62: UserWarning: The verbose parameter is deprecated. Please use get_last_lr() to access the learning rate.\n",
      "  warnings.warn(\n"
     ]
    },
    {
     "data": {
      "application/vnd.jupyter.widget-view+json": {
       "model_id": "c3a5bdce352c49488ed0634a8423560b",
       "version_major": 2,
       "version_minor": 0
      },
      "text/plain": [
       "Epoch 1/100:   0%|          | 0/352 [00:00<?, ?it/s]"
      ]
     },
     "metadata": {},
     "output_type": "display_data"
    },
    {
     "name": "stdout",
     "output_type": "stream",
     "text": [
      "\n",
      "Epoch 1: New best F1-weighted: 0.4988\n",
      "  F1-Macro: 0.4212, AUC-Macro: 0.0000, Accuracy: 0.5662\n",
      "Saving best model artifacts to C:\\Users\\PC\\Downloads\\Melspectrogram_finetune_NEW\\PestLarvaNet_AudioTwin_Run_1\\data_100.0percent\n"
     ]
    },
    {
     "data": {
      "application/vnd.jupyter.widget-view+json": {
       "model_id": "d4274099d5874a8abdec11621453cb8c",
       "version_major": 2,
       "version_minor": 0
      },
      "text/plain": [
       "Epoch 2/100:   0%|          | 0/352 [00:00<?, ?it/s]"
      ]
     },
     "metadata": {},
     "output_type": "display_data"
    },
    {
     "name": "stdout",
     "output_type": "stream",
     "text": [
      "\n",
      "Epoch 2: New best F1-weighted: 0.5150\n",
      "  F1-Macro: 0.4512, AUC-Macro: 0.0000, Accuracy: 0.5822\n",
      "Saving best model artifacts to C:\\Users\\PC\\Downloads\\Melspectrogram_finetune_NEW\\PestLarvaNet_AudioTwin_Run_1\\data_100.0percent\n"
     ]
    },
    {
     "data": {
      "application/vnd.jupyter.widget-view+json": {
       "model_id": "6c2c28effdd04f82a1ce57367a8eafed",
       "version_major": 2,
       "version_minor": 0
      },
      "text/plain": [
       "Epoch 3/100:   0%|          | 0/352 [00:00<?, ?it/s]"
      ]
     },
     "metadata": {},
     "output_type": "display_data"
    },
    {
     "data": {
      "application/vnd.jupyter.widget-view+json": {
       "model_id": "11cb3dc0f9524c74b5ae84ee76477449",
       "version_major": 2,
       "version_minor": 0
      },
      "text/plain": [
       "Epoch 4/100:   0%|          | 0/352 [00:00<?, ?it/s]"
      ]
     },
     "metadata": {},
     "output_type": "display_data"
    },
    {
     "name": "stdout",
     "output_type": "stream",
     "text": [
      "\n",
      "Epoch 4: New best F1-weighted: 0.5518\n",
      "  F1-Macro: 0.4790, AUC-Macro: 0.0000, Accuracy: 0.6036\n",
      "Saving best model artifacts to C:\\Users\\PC\\Downloads\\Melspectrogram_finetune_NEW\\PestLarvaNet_AudioTwin_Run_1\\data_100.0percent\n"
     ]
    },
    {
     "data": {
      "application/vnd.jupyter.widget-view+json": {
       "model_id": "dc158f3ca5594f81970875b9c463bca2",
       "version_major": 2,
       "version_minor": 0
      },
      "text/plain": [
       "Epoch 5/100:   0%|          | 0/352 [00:00<?, ?it/s]"
      ]
     },
     "metadata": {},
     "output_type": "display_data"
    },
    {
     "data": {
      "application/vnd.jupyter.widget-view+json": {
       "model_id": "dc715ec1e5fa4beca2447e7a4c4ebe03",
       "version_major": 2,
       "version_minor": 0
      },
      "text/plain": [
       "Epoch 6/100:   0%|          | 0/352 [00:00<?, ?it/s]"
      ]
     },
     "metadata": {},
     "output_type": "display_data"
    },
    {
     "name": "stdout",
     "output_type": "stream",
     "text": [
      "\n",
      "Epoch 6: New best F1-weighted: 0.5948\n",
      "  F1-Macro: 0.5160, AUC-Macro: 0.0000, Accuracy: 0.6292\n",
      "Saving best model artifacts to C:\\Users\\PC\\Downloads\\Melspectrogram_finetune_NEW\\PestLarvaNet_AudioTwin_Run_1\\data_100.0percent\n"
     ]
    },
    {
     "data": {
      "application/vnd.jupyter.widget-view+json": {
       "model_id": "1bb52d8bc19e4ce18118a40f6960c8c2",
       "version_major": 2,
       "version_minor": 0
      },
      "text/plain": [
       "Epoch 7/100:   0%|          | 0/352 [00:00<?, ?it/s]"
      ]
     },
     "metadata": {},
     "output_type": "display_data"
    },
    {
     "name": "stdout",
     "output_type": "stream",
     "text": [
      "\n",
      "Epoch 7: New best F1-weighted: 0.6004\n",
      "  F1-Macro: 0.5278, AUC-Macro: 0.0000, Accuracy: 0.6327\n",
      "Saving best model artifacts to C:\\Users\\PC\\Downloads\\Melspectrogram_finetune_NEW\\PestLarvaNet_AudioTwin_Run_1\\data_100.0percent\n"
     ]
    },
    {
     "data": {
      "application/vnd.jupyter.widget-view+json": {
       "model_id": "729c260d42ae4428a2afed04f9391ef2",
       "version_major": 2,
       "version_minor": 0
      },
      "text/plain": [
       "Epoch 8/100:   0%|          | 0/352 [00:00<?, ?it/s]"
      ]
     },
     "metadata": {},
     "output_type": "display_data"
    },
    {
     "name": "stdout",
     "output_type": "stream",
     "text": [
      "\n",
      "Epoch 8: New best F1-weighted: 0.6239\n",
      "  F1-Macro: 0.5480, AUC-Macro: 0.0000, Accuracy: 0.6594\n",
      "Saving best model artifacts to C:\\Users\\PC\\Downloads\\Melspectrogram_finetune_NEW\\PestLarvaNet_AudioTwin_Run_1\\data_100.0percent\n"
     ]
    },
    {
     "data": {
      "application/vnd.jupyter.widget-view+json": {
       "model_id": "51f19d3a0cb8486ca7f9176ba2985dca",
       "version_major": 2,
       "version_minor": 0
      },
      "text/plain": [
       "Epoch 9/100:   0%|          | 0/352 [00:00<?, ?it/s]"
      ]
     },
     "metadata": {},
     "output_type": "display_data"
    },
    {
     "data": {
      "application/vnd.jupyter.widget-view+json": {
       "model_id": "94f675a39bf94fc9b27d5e1ac41dd8ba",
       "version_major": 2,
       "version_minor": 0
      },
      "text/plain": [
       "Epoch 10/100:   0%|          | 0/352 [00:00<?, ?it/s]"
      ]
     },
     "metadata": {},
     "output_type": "display_data"
    },
    {
     "data": {
      "application/vnd.jupyter.widget-view+json": {
       "model_id": "9b7c3739c5aa4abd8355e03b587b6772",
       "version_major": 2,
       "version_minor": 0
      },
      "text/plain": [
       "Epoch 11/100:   0%|          | 0/352 [00:00<?, ?it/s]"
      ]
     },
     "metadata": {},
     "output_type": "display_data"
    },
    {
     "data": {
      "application/vnd.jupyter.widget-view+json": {
       "model_id": "7687b38f4ef74d2686c755d64d630fde",
       "version_major": 2,
       "version_minor": 0
      },
      "text/plain": [
       "Epoch 12/100:   0%|          | 0/352 [00:00<?, ?it/s]"
      ]
     },
     "metadata": {},
     "output_type": "display_data"
    },
    {
     "name": "stdout",
     "output_type": "stream",
     "text": [
      "\n",
      "Epoch 12: New best F1-weighted: 0.6351\n",
      "  F1-Macro: 0.5637, AUC-Macro: 0.0000, Accuracy: 0.6665\n",
      "Saving best model artifacts to C:\\Users\\PC\\Downloads\\Melspectrogram_finetune_NEW\\PestLarvaNet_AudioTwin_Run_1\\data_100.0percent\n"
     ]
    },
    {
     "data": {
      "application/vnd.jupyter.widget-view+json": {
       "model_id": "93cf02d221554fd6b039a63e18f8bc9a",
       "version_major": 2,
       "version_minor": 0
      },
      "text/plain": [
       "Epoch 13/100:   0%|          | 0/352 [00:00<?, ?it/s]"
      ]
     },
     "metadata": {},
     "output_type": "display_data"
    },
    {
     "data": {
      "application/vnd.jupyter.widget-view+json": {
       "model_id": "a7b6a9292fd449eaa0337bcdefcacbc0",
       "version_major": 2,
       "version_minor": 0
      },
      "text/plain": [
       "Epoch 14/100:   0%|          | 0/352 [00:00<?, ?it/s]"
      ]
     },
     "metadata": {},
     "output_type": "display_data"
    },
    {
     "name": "stdout",
     "output_type": "stream",
     "text": [
      "\n",
      "Epoch 14: New best F1-weighted: 0.6581\n",
      "  F1-Macro: 0.5941, AUC-Macro: 0.0000, Accuracy: 0.6861\n",
      "Saving best model artifacts to C:\\Users\\PC\\Downloads\\Melspectrogram_finetune_NEW\\PestLarvaNet_AudioTwin_Run_1\\data_100.0percent\n"
     ]
    },
    {
     "data": {
      "application/vnd.jupyter.widget-view+json": {
       "model_id": "204c9d206c644ea9b028ce75affb8b9a",
       "version_major": 2,
       "version_minor": 0
      },
      "text/plain": [
       "Epoch 15/100:   0%|          | 0/352 [00:00<?, ?it/s]"
      ]
     },
     "metadata": {},
     "output_type": "display_data"
    },
    {
     "name": "stdout",
     "output_type": "stream",
     "text": [
      "\n",
      "Epoch 15: New best F1-weighted: 0.6718\n",
      "  F1-Macro: 0.6210, AUC-Macro: 0.0000, Accuracy: 0.6879\n",
      "Saving best model artifacts to C:\\Users\\PC\\Downloads\\Melspectrogram_finetune_NEW\\PestLarvaNet_AudioTwin_Run_1\\data_100.0percent\n"
     ]
    },
    {
     "data": {
      "application/vnd.jupyter.widget-view+json": {
       "model_id": "c32fa1e8159a4f88b7e2f9cf97103b16",
       "version_major": 2,
       "version_minor": 0
      },
      "text/plain": [
       "Epoch 16/100:   0%|          | 0/352 [00:00<?, ?it/s]"
      ]
     },
     "metadata": {},
     "output_type": "display_data"
    },
    {
     "data": {
      "application/vnd.jupyter.widget-view+json": {
       "model_id": "2c165bcaf5804109b26806cd6b0ac6f9",
       "version_major": 2,
       "version_minor": 0
      },
      "text/plain": [
       "Epoch 17/100:   0%|          | 0/352 [00:00<?, ?it/s]"
      ]
     },
     "metadata": {},
     "output_type": "display_data"
    },
    {
     "name": "stdout",
     "output_type": "stream",
     "text": [
      "\n",
      "Epoch 17: New best F1-weighted: 0.7029\n",
      "  F1-Macro: 0.6600, AUC-Macro: 0.0000, Accuracy: 0.7103\n",
      "Saving best model artifacts to C:\\Users\\PC\\Downloads\\Melspectrogram_finetune_NEW\\PestLarvaNet_AudioTwin_Run_1\\data_100.0percent\n"
     ]
    },
    {
     "data": {
      "application/vnd.jupyter.widget-view+json": {
       "model_id": "3843736e84a444639ba55580c0216cdf",
       "version_major": 2,
       "version_minor": 0
      },
      "text/plain": [
       "Epoch 18/100:   0%|          | 0/352 [00:00<?, ?it/s]"
      ]
     },
     "metadata": {},
     "output_type": "display_data"
    },
    {
     "name": "stdout",
     "output_type": "stream",
     "text": [
      "\n",
      "Epoch 18: New best F1-weighted: 0.7136\n",
      "  F1-Macro: 0.6650, AUC-Macro: 0.0000, Accuracy: 0.7256\n",
      "Saving best model artifacts to C:\\Users\\PC\\Downloads\\Melspectrogram_finetune_NEW\\PestLarvaNet_AudioTwin_Run_1\\data_100.0percent\n"
     ]
    },
    {
     "data": {
      "application/vnd.jupyter.widget-view+json": {
       "model_id": "31e66b21b94840e8bfc317a4212c74b0",
       "version_major": 2,
       "version_minor": 0
      },
      "text/plain": [
       "Epoch 19/100:   0%|          | 0/352 [00:00<?, ?it/s]"
      ]
     },
     "metadata": {},
     "output_type": "display_data"
    },
    {
     "data": {
      "application/vnd.jupyter.widget-view+json": {
       "model_id": "feb55bb158234cda95919b04d555187a",
       "version_major": 2,
       "version_minor": 0
      },
      "text/plain": [
       "Epoch 20/100:   0%|          | 0/352 [00:00<?, ?it/s]"
      ]
     },
     "metadata": {},
     "output_type": "display_data"
    },
    {
     "data": {
      "application/vnd.jupyter.widget-view+json": {
       "model_id": "f7c28f5e81f7485e9a210d7ffada2581",
       "version_major": 2,
       "version_minor": 0
      },
      "text/plain": [
       "Epoch 21/100:   0%|          | 0/352 [00:00<?, ?it/s]"
      ]
     },
     "metadata": {},
     "output_type": "display_data"
    },
    {
     "data": {
      "application/vnd.jupyter.widget-view+json": {
       "model_id": "328237a1f5c54ff7832cc4847504f909",
       "version_major": 2,
       "version_minor": 0
      },
      "text/plain": [
       "Epoch 22/100:   0%|          | 0/352 [00:00<?, ?it/s]"
      ]
     },
     "metadata": {},
     "output_type": "display_data"
    },
    {
     "name": "stdout",
     "output_type": "stream",
     "text": [
      "\n",
      "Epoch 22: New best F1-weighted: 0.7522\n",
      "  F1-Macro: 0.7190, AUC-Macro: 0.0000, Accuracy: 0.7555\n",
      "Saving best model artifacts to C:\\Users\\PC\\Downloads\\Melspectrogram_finetune_NEW\\PestLarvaNet_AudioTwin_Run_1\\data_100.0percent\n"
     ]
    },
    {
     "data": {
      "application/vnd.jupyter.widget-view+json": {
       "model_id": "800ef9fe898b40e2bb067abced81af9a",
       "version_major": 2,
       "version_minor": 0
      },
      "text/plain": [
       "Epoch 23/100:   0%|          | 0/352 [00:00<?, ?it/s]"
      ]
     },
     "metadata": {},
     "output_type": "display_data"
    },
    {
     "data": {
      "application/vnd.jupyter.widget-view+json": {
       "model_id": "399d05cd6cef4ea1a161b3f0261dd59c",
       "version_major": 2,
       "version_minor": 0
      },
      "text/plain": [
       "Epoch 24/100:   0%|          | 0/352 [00:00<?, ?it/s]"
      ]
     },
     "metadata": {},
     "output_type": "display_data"
    },
    {
     "data": {
      "application/vnd.jupyter.widget-view+json": {
       "model_id": "86b924f2a41842d9a0fed7d1ab5edd4d",
       "version_major": 2,
       "version_minor": 0
      },
      "text/plain": [
       "Epoch 25/100:   0%|          | 0/352 [00:00<?, ?it/s]"
      ]
     },
     "metadata": {},
     "output_type": "display_data"
    },
    {
     "data": {
      "application/vnd.jupyter.widget-view+json": {
       "model_id": "748569922a594dcb8a927a09d76f34f6",
       "version_major": 2,
       "version_minor": 0
      },
      "text/plain": [
       "Epoch 26/100:   0%|          | 0/352 [00:00<?, ?it/s]"
      ]
     },
     "metadata": {},
     "output_type": "display_data"
    },
    {
     "name": "stdout",
     "output_type": "stream",
     "text": [
      "\n",
      "Epoch 26: New best F1-weighted: 0.7594\n",
      "  F1-Macro: 0.7308, AUC-Macro: 0.0000, Accuracy: 0.7612\n",
      "Saving best model artifacts to C:\\Users\\PC\\Downloads\\Melspectrogram_finetune_NEW\\PestLarvaNet_AudioTwin_Run_1\\data_100.0percent\n"
     ]
    },
    {
     "data": {
      "application/vnd.jupyter.widget-view+json": {
       "model_id": "ca7f8d59bf8543519c4b6609794ff843",
       "version_major": 2,
       "version_minor": 0
      },
      "text/plain": [
       "Epoch 27/100:   0%|          | 0/352 [00:00<?, ?it/s]"
      ]
     },
     "metadata": {},
     "output_type": "display_data"
    },
    {
     "name": "stdout",
     "output_type": "stream",
     "text": [
      "\n",
      "Epoch 27: New best F1-weighted: 0.7625\n",
      "  F1-Macro: 0.7386, AUC-Macro: 0.0000, Accuracy: 0.7633\n",
      "Saving best model artifacts to C:\\Users\\PC\\Downloads\\Melspectrogram_finetune_NEW\\PestLarvaNet_AudioTwin_Run_1\\data_100.0percent\n"
     ]
    },
    {
     "data": {
      "application/vnd.jupyter.widget-view+json": {
       "model_id": "301f35c8224c448a9bd6435e71789fd4",
       "version_major": 2,
       "version_minor": 0
      },
      "text/plain": [
       "Epoch 28/100:   0%|          | 0/352 [00:00<?, ?it/s]"
      ]
     },
     "metadata": {},
     "output_type": "display_data"
    },
    {
     "data": {
      "application/vnd.jupyter.widget-view+json": {
       "model_id": "d5a258f6d4714fc49668bc977fe3efc0",
       "version_major": 2,
       "version_minor": 0
      },
      "text/plain": [
       "Epoch 29/100:   0%|          | 0/352 [00:00<?, ?it/s]"
      ]
     },
     "metadata": {},
     "output_type": "display_data"
    },
    {
     "name": "stdout",
     "output_type": "stream",
     "text": [
      "\n",
      "Epoch 29: New best F1-weighted: 0.7692\n",
      "  F1-Macro: 0.7430, AUC-Macro: 0.0000, Accuracy: 0.7690\n",
      "Saving best model artifacts to C:\\Users\\PC\\Downloads\\Melspectrogram_finetune_NEW\\PestLarvaNet_AudioTwin_Run_1\\data_100.0percent\n"
     ]
    },
    {
     "data": {
      "application/vnd.jupyter.widget-view+json": {
       "model_id": "14876a913fb04f2abc6cde37d1ca453c",
       "version_major": 2,
       "version_minor": 0
      },
      "text/plain": [
       "Epoch 30/100:   0%|          | 0/352 [00:00<?, ?it/s]"
      ]
     },
     "metadata": {},
     "output_type": "display_data"
    },
    {
     "data": {
      "application/vnd.jupyter.widget-view+json": {
       "model_id": "8bcda2242cbb438babbeb71730a83e17",
       "version_major": 2,
       "version_minor": 0
      },
      "text/plain": [
       "Epoch 31/100:   0%|          | 0/352 [00:00<?, ?it/s]"
      ]
     },
     "metadata": {},
     "output_type": "display_data"
    },
    {
     "name": "stdout",
     "output_type": "stream",
     "text": [
      "\n",
      "Epoch 31: New best F1-weighted: 0.7709\n",
      "  F1-Macro: 0.7426, AUC-Macro: 0.0000, Accuracy: 0.7722\n",
      "Saving best model artifacts to C:\\Users\\PC\\Downloads\\Melspectrogram_finetune_NEW\\PestLarvaNet_AudioTwin_Run_1\\data_100.0percent\n"
     ]
    },
    {
     "data": {
      "application/vnd.jupyter.widget-view+json": {
       "model_id": "fd27b58713204c60bbb6c9b05f87ba5e",
       "version_major": 2,
       "version_minor": 0
      },
      "text/plain": [
       "Epoch 32/100:   0%|          | 0/352 [00:00<?, ?it/s]"
      ]
     },
     "metadata": {},
     "output_type": "display_data"
    },
    {
     "name": "stdout",
     "output_type": "stream",
     "text": [
      "\n",
      "Epoch 32: New best F1-weighted: 0.7948\n",
      "  F1-Macro: 0.7680, AUC-Macro: 0.0000, Accuracy: 0.7961\n",
      "Saving best model artifacts to C:\\Users\\PC\\Downloads\\Melspectrogram_finetune_NEW\\PestLarvaNet_AudioTwin_Run_1\\data_100.0percent\n"
     ]
    },
    {
     "data": {
      "application/vnd.jupyter.widget-view+json": {
       "model_id": "012aff955ae149678e167743b8baad30",
       "version_major": 2,
       "version_minor": 0
      },
      "text/plain": [
       "Epoch 33/100:   0%|          | 0/352 [00:00<?, ?it/s]"
      ]
     },
     "metadata": {},
     "output_type": "display_data"
    },
    {
     "data": {
      "application/vnd.jupyter.widget-view+json": {
       "model_id": "5d5615df1ec04bfd8b78fca6f0b604c7",
       "version_major": 2,
       "version_minor": 0
      },
      "text/plain": [
       "Epoch 34/100:   0%|          | 0/352 [00:00<?, ?it/s]"
      ]
     },
     "metadata": {},
     "output_type": "display_data"
    },
    {
     "data": {
      "application/vnd.jupyter.widget-view+json": {
       "model_id": "49a3e3e95a6a4c4ca3747da27df0976d",
       "version_major": 2,
       "version_minor": 0
      },
      "text/plain": [
       "Epoch 35/100:   0%|          | 0/352 [00:00<?, ?it/s]"
      ]
     },
     "metadata": {},
     "output_type": "display_data"
    },
    {
     "name": "stdout",
     "output_type": "stream",
     "text": [
      "\n",
      "Epoch 35: New best F1-weighted: 0.7951\n",
      "  F1-Macro: 0.7739, AUC-Macro: 0.0000, Accuracy: 0.7979\n",
      "Saving best model artifacts to C:\\Users\\PC\\Downloads\\Melspectrogram_finetune_NEW\\PestLarvaNet_AudioTwin_Run_1\\data_100.0percent\n"
     ]
    },
    {
     "data": {
      "application/vnd.jupyter.widget-view+json": {
       "model_id": "b64bed3ab4bc42d1a6c11778960fd270",
       "version_major": 2,
       "version_minor": 0
      },
      "text/plain": [
       "Epoch 36/100:   0%|          | 0/352 [00:00<?, ?it/s]"
      ]
     },
     "metadata": {},
     "output_type": "display_data"
    },
    {
     "data": {
      "application/vnd.jupyter.widget-view+json": {
       "model_id": "7be4890e916f4c00859029fa216c3714",
       "version_major": 2,
       "version_minor": 0
      },
      "text/plain": [
       "Epoch 37/100:   0%|          | 0/352 [00:00<?, ?it/s]"
      ]
     },
     "metadata": {},
     "output_type": "display_data"
    },
    {
     "data": {
      "application/vnd.jupyter.widget-view+json": {
       "model_id": "e04f0d1b38bc4bc5a73f0b3845b8553e",
       "version_major": 2,
       "version_minor": 0
      },
      "text/plain": [
       "Epoch 38/100:   0%|          | 0/352 [00:00<?, ?it/s]"
      ]
     },
     "metadata": {},
     "output_type": "display_data"
    },
    {
     "name": "stdout",
     "output_type": "stream",
     "text": [
      "\n",
      "Epoch 38: New best F1-weighted: 0.7964\n",
      "  F1-Macro: 0.7731, AUC-Macro: 0.0000, Accuracy: 0.7968\n",
      "Saving best model artifacts to C:\\Users\\PC\\Downloads\\Melspectrogram_finetune_NEW\\PestLarvaNet_AudioTwin_Run_1\\data_100.0percent\n"
     ]
    },
    {
     "data": {
      "application/vnd.jupyter.widget-view+json": {
       "model_id": "4c6d9ed3de80473fa1d5bc178450aa2d",
       "version_major": 2,
       "version_minor": 0
      },
      "text/plain": [
       "Epoch 39/100:   0%|          | 0/352 [00:00<?, ?it/s]"
      ]
     },
     "metadata": {},
     "output_type": "display_data"
    },
    {
     "data": {
      "application/vnd.jupyter.widget-view+json": {
       "model_id": "c2b3186314a640f3835a806057ad0c3d",
       "version_major": 2,
       "version_minor": 0
      },
      "text/plain": [
       "Epoch 40/100:   0%|          | 0/352 [00:00<?, ?it/s]"
      ]
     },
     "metadata": {},
     "output_type": "display_data"
    },
    {
     "name": "stdout",
     "output_type": "stream",
     "text": [
      "\n",
      "Epoch 40: New best F1-weighted: 0.8005\n",
      "  F1-Macro: 0.7779, AUC-Macro: 0.0000, Accuracy: 0.8046\n",
      "Saving best model artifacts to C:\\Users\\PC\\Downloads\\Melspectrogram_finetune_NEW\\PestLarvaNet_AudioTwin_Run_1\\data_100.0percent\n"
     ]
    },
    {
     "data": {
      "application/vnd.jupyter.widget-view+json": {
       "model_id": "f360528ac3a2491b9b74150e27510043",
       "version_major": 2,
       "version_minor": 0
      },
      "text/plain": [
       "Epoch 41/100:   0%|          | 0/352 [00:00<?, ?it/s]"
      ]
     },
     "metadata": {},
     "output_type": "display_data"
    },
    {
     "name": "stdout",
     "output_type": "stream",
     "text": [
      "\n",
      "Epoch 41: New best F1-weighted: 0.8078\n",
      "  F1-Macro: 0.7915, AUC-Macro: 0.0000, Accuracy: 0.8093\n",
      "Saving best model artifacts to C:\\Users\\PC\\Downloads\\Melspectrogram_finetune_NEW\\PestLarvaNet_AudioTwin_Run_1\\data_100.0percent\n"
     ]
    },
    {
     "data": {
      "application/vnd.jupyter.widget-view+json": {
       "model_id": "1664fc1eedb24d0b8f29543bf96a8e96",
       "version_major": 2,
       "version_minor": 0
      },
      "text/plain": [
       "Epoch 42/100:   0%|          | 0/352 [00:00<?, ?it/s]"
      ]
     },
     "metadata": {},
     "output_type": "display_data"
    },
    {
     "name": "stdout",
     "output_type": "stream",
     "text": [
      "\n",
      "Epoch 42: New best F1-weighted: 0.8253\n",
      "  F1-Macro: 0.8054, AUC-Macro: 0.0000, Accuracy: 0.8260\n",
      "Saving best model artifacts to C:\\Users\\PC\\Downloads\\Melspectrogram_finetune_NEW\\PestLarvaNet_AudioTwin_Run_1\\data_100.0percent\n"
     ]
    },
    {
     "data": {
      "application/vnd.jupyter.widget-view+json": {
       "model_id": "d8e340f31a304dd2b93c1351227c7ce9",
       "version_major": 2,
       "version_minor": 0
      },
      "text/plain": [
       "Epoch 43/100:   0%|          | 0/352 [00:00<?, ?it/s]"
      ]
     },
     "metadata": {},
     "output_type": "display_data"
    },
    {
     "data": {
      "application/vnd.jupyter.widget-view+json": {
       "model_id": "f5f6a50aeefc49bbbd19d64b7b4cffa9",
       "version_major": 2,
       "version_minor": 0
      },
      "text/plain": [
       "Epoch 44/100:   0%|          | 0/352 [00:00<?, ?it/s]"
      ]
     },
     "metadata": {},
     "output_type": "display_data"
    },
    {
     "data": {
      "application/vnd.jupyter.widget-view+json": {
       "model_id": "bf2be849a2f84246a307ceabf1253e9e",
       "version_major": 2,
       "version_minor": 0
      },
      "text/plain": [
       "Epoch 45/100:   0%|          | 0/352 [00:00<?, ?it/s]"
      ]
     },
     "metadata": {},
     "output_type": "display_data"
    },
    {
     "data": {
      "application/vnd.jupyter.widget-view+json": {
       "model_id": "722ae1d930724cb79f2bfcdec28de048",
       "version_major": 2,
       "version_minor": 0
      },
      "text/plain": [
       "Epoch 46/100:   0%|          | 0/352 [00:00<?, ?it/s]"
      ]
     },
     "metadata": {},
     "output_type": "display_data"
    },
    {
     "data": {
      "application/vnd.jupyter.widget-view+json": {
       "model_id": "7704127b254148f69e340bdbd2e3ac03",
       "version_major": 2,
       "version_minor": 0
      },
      "text/plain": [
       "Epoch 47/100:   0%|          | 0/352 [00:00<?, ?it/s]"
      ]
     },
     "metadata": {},
     "output_type": "display_data"
    },
    {
     "name": "stdout",
     "output_type": "stream",
     "text": [
      "\n",
      "Epoch 47: New best F1-weighted: 0.8255\n",
      "  F1-Macro: 0.8141, AUC-Macro: 0.0000, Accuracy: 0.8249\n",
      "Saving best model artifacts to C:\\Users\\PC\\Downloads\\Melspectrogram_finetune_NEW\\PestLarvaNet_AudioTwin_Run_1\\data_100.0percent\n"
     ]
    },
    {
     "data": {
      "application/vnd.jupyter.widget-view+json": {
       "model_id": "f25ba7168340422ba6cb734efe3aa79c",
       "version_major": 2,
       "version_minor": 0
      },
      "text/plain": [
       "Epoch 48/100:   0%|          | 0/352 [00:00<?, ?it/s]"
      ]
     },
     "metadata": {},
     "output_type": "display_data"
    },
    {
     "data": {
      "application/vnd.jupyter.widget-view+json": {
       "model_id": "b712467ba07849c2afde74297b9ca860",
       "version_major": 2,
       "version_minor": 0
      },
      "text/plain": [
       "Epoch 49/100:   0%|          | 0/352 [00:00<?, ?it/s]"
      ]
     },
     "metadata": {},
     "output_type": "display_data"
    },
    {
     "name": "stdout",
     "output_type": "stream",
     "text": [
      "\n",
      "Epoch 49: New best F1-weighted: 0.8332\n",
      "  F1-Macro: 0.8190, AUC-Macro: 0.0000, Accuracy: 0.8338\n",
      "Saving best model artifacts to C:\\Users\\PC\\Downloads\\Melspectrogram_finetune_NEW\\PestLarvaNet_AudioTwin_Run_1\\data_100.0percent\n"
     ]
    },
    {
     "data": {
      "application/vnd.jupyter.widget-view+json": {
       "model_id": "8598b713859f4e0a9bd792f86c10aa14",
       "version_major": 2,
       "version_minor": 0
      },
      "text/plain": [
       "Epoch 50/100:   0%|          | 0/352 [00:00<?, ?it/s]"
      ]
     },
     "metadata": {},
     "output_type": "display_data"
    },
    {
     "data": {
      "application/vnd.jupyter.widget-view+json": {
       "model_id": "aea8562e8c8f4cd29445af5387dc18b2",
       "version_major": 2,
       "version_minor": 0
      },
      "text/plain": [
       "Epoch 51/100:   0%|          | 0/352 [00:00<?, ?it/s]"
      ]
     },
     "metadata": {},
     "output_type": "display_data"
    },
    {
     "name": "stdout",
     "output_type": "stream",
     "text": [
      "\n",
      "Epoch 51: New best F1-weighted: 0.8357\n",
      "  F1-Macro: 0.8216, AUC-Macro: 0.0000, Accuracy: 0.8352\n",
      "Saving best model artifacts to C:\\Users\\PC\\Downloads\\Melspectrogram_finetune_NEW\\PestLarvaNet_AudioTwin_Run_1\\data_100.0percent\n"
     ]
    },
    {
     "data": {
      "application/vnd.jupyter.widget-view+json": {
       "model_id": "1dd238f5878e43e5bf0f2c948623734d",
       "version_major": 2,
       "version_minor": 0
      },
      "text/plain": [
       "Epoch 52/100:   0%|          | 0/352 [00:00<?, ?it/s]"
      ]
     },
     "metadata": {},
     "output_type": "display_data"
    },
    {
     "name": "stdout",
     "output_type": "stream",
     "text": [
      "\n",
      "Epoch 52: New best F1-weighted: 0.8495\n",
      "  F1-Macro: 0.8383, AUC-Macro: 0.0000, Accuracy: 0.8498\n",
      "Saving best model artifacts to C:\\Users\\PC\\Downloads\\Melspectrogram_finetune_NEW\\PestLarvaNet_AudioTwin_Run_1\\data_100.0percent\n"
     ]
    },
    {
     "data": {
      "application/vnd.jupyter.widget-view+json": {
       "model_id": "71bbafb230c64cadb9680619624be8c5",
       "version_major": 2,
       "version_minor": 0
      },
      "text/plain": [
       "Epoch 53/100:   0%|          | 0/352 [00:00<?, ?it/s]"
      ]
     },
     "metadata": {},
     "output_type": "display_data"
    },
    {
     "data": {
      "application/vnd.jupyter.widget-view+json": {
       "model_id": "1dd99ecf37a14c32a279fe665049b6cf",
       "version_major": 2,
       "version_minor": 0
      },
      "text/plain": [
       "Epoch 54/100:   0%|          | 0/352 [00:00<?, ?it/s]"
      ]
     },
     "metadata": {},
     "output_type": "display_data"
    },
    {
     "data": {
      "application/vnd.jupyter.widget-view+json": {
       "model_id": "17dab2927cbe48b9a7ea0fd8510e93b5",
       "version_major": 2,
       "version_minor": 0
      },
      "text/plain": [
       "Epoch 55/100:   0%|          | 0/352 [00:00<?, ?it/s]"
      ]
     },
     "metadata": {},
     "output_type": "display_data"
    },
    {
     "name": "stdout",
     "output_type": "stream",
     "text": [
      "\n",
      "Epoch 55: New best F1-weighted: 0.8614\n",
      "  F1-Macro: 0.8484, AUC-Macro: 0.0000, Accuracy: 0.8619\n",
      "Saving best model artifacts to C:\\Users\\PC\\Downloads\\Melspectrogram_finetune_NEW\\PestLarvaNet_AudioTwin_Run_1\\data_100.0percent\n"
     ]
    },
    {
     "data": {
      "application/vnd.jupyter.widget-view+json": {
       "model_id": "6ecdd81853664ca88ae29a33bdd6ae90",
       "version_major": 2,
       "version_minor": 0
      },
      "text/plain": [
       "Epoch 56/100:   0%|          | 0/352 [00:00<?, ?it/s]"
      ]
     },
     "metadata": {},
     "output_type": "display_data"
    },
    {
     "data": {
      "application/vnd.jupyter.widget-view+json": {
       "model_id": "57ac0b97932040fbae326c373d1a1063",
       "version_major": 2,
       "version_minor": 0
      },
      "text/plain": [
       "Epoch 57/100:   0%|          | 0/352 [00:00<?, ?it/s]"
      ]
     },
     "metadata": {},
     "output_type": "display_data"
    },
    {
     "data": {
      "application/vnd.jupyter.widget-view+json": {
       "model_id": "bbdffd24d5684b12840e35b7544b3212",
       "version_major": 2,
       "version_minor": 0
      },
      "text/plain": [
       "Epoch 58/100:   0%|          | 0/352 [00:00<?, ?it/s]"
      ]
     },
     "metadata": {},
     "output_type": "display_data"
    },
    {
     "data": {
      "application/vnd.jupyter.widget-view+json": {
       "model_id": "5c23f6b0e12b4e2b809d92d5ce561ad1",
       "version_major": 2,
       "version_minor": 0
      },
      "text/plain": [
       "Epoch 59/100:   0%|          | 0/352 [00:00<?, ?it/s]"
      ]
     },
     "metadata": {},
     "output_type": "display_data"
    },
    {
     "data": {
      "application/vnd.jupyter.widget-view+json": {
       "model_id": "57ae08e4a74749d1bdb8c724118e25fb",
       "version_major": 2,
       "version_minor": 0
      },
      "text/plain": [
       "Epoch 60/100:   0%|          | 0/352 [00:00<?, ?it/s]"
      ]
     },
     "metadata": {},
     "output_type": "display_data"
    },
    {
     "name": "stdout",
     "output_type": "stream",
     "text": [
      "\n",
      "Epoch 60: New best F1-weighted: 0.8664\n",
      "  F1-Macro: 0.8575, AUC-Macro: 0.0000, Accuracy: 0.8669\n",
      "Saving best model artifacts to C:\\Users\\PC\\Downloads\\Melspectrogram_finetune_NEW\\PestLarvaNet_AudioTwin_Run_1\\data_100.0percent\n"
     ]
    },
    {
     "data": {
      "application/vnd.jupyter.widget-view+json": {
       "model_id": "5f5658f0677140339bdaacd92bfe04ca",
       "version_major": 2,
       "version_minor": 0
      },
      "text/plain": [
       "Epoch 61/100:   0%|          | 0/352 [00:00<?, ?it/s]"
      ]
     },
     "metadata": {},
     "output_type": "display_data"
    },
    {
     "data": {
      "application/vnd.jupyter.widget-view+json": {
       "model_id": "f18b1d9f7e3c416298085b4176ac5874",
       "version_major": 2,
       "version_minor": 0
      },
      "text/plain": [
       "Epoch 62/100:   0%|          | 0/352 [00:00<?, ?it/s]"
      ]
     },
     "metadata": {},
     "output_type": "display_data"
    },
    {
     "name": "stdout",
     "output_type": "stream",
     "text": [
      "\n",
      "Epoch 62: New best F1-weighted: 0.8683\n",
      "  F1-Macro: 0.8574, AUC-Macro: 0.0000, Accuracy: 0.8680\n",
      "Saving best model artifacts to C:\\Users\\PC\\Downloads\\Melspectrogram_finetune_NEW\\PestLarvaNet_AudioTwin_Run_1\\data_100.0percent\n"
     ]
    },
    {
     "data": {
      "application/vnd.jupyter.widget-view+json": {
       "model_id": "d2b431864d76465d92e17346d39d672c",
       "version_major": 2,
       "version_minor": 0
      },
      "text/plain": [
       "Epoch 63/100:   0%|          | 0/352 [00:00<?, ?it/s]"
      ]
     },
     "metadata": {},
     "output_type": "display_data"
    },
    {
     "name": "stdout",
     "output_type": "stream",
     "text": [
      "\n",
      "Epoch 63: New best F1-weighted: 0.8700\n",
      "  F1-Macro: 0.8621, AUC-Macro: 0.0000, Accuracy: 0.8698\n",
      "Saving best model artifacts to C:\\Users\\PC\\Downloads\\Melspectrogram_finetune_NEW\\PestLarvaNet_AudioTwin_Run_1\\data_100.0percent\n"
     ]
    },
    {
     "data": {
      "application/vnd.jupyter.widget-view+json": {
       "model_id": "5dffb17aeea742a69a33aabbe95f9532",
       "version_major": 2,
       "version_minor": 0
      },
      "text/plain": [
       "Epoch 64/100:   0%|          | 0/352 [00:00<?, ?it/s]"
      ]
     },
     "metadata": {},
     "output_type": "display_data"
    },
    {
     "name": "stdout",
     "output_type": "stream",
     "text": [
      "\n",
      "Epoch 64: New best F1-weighted: 0.8743\n",
      "  F1-Macro: 0.8675, AUC-Macro: 0.0000, Accuracy: 0.8740\n",
      "Saving best model artifacts to C:\\Users\\PC\\Downloads\\Melspectrogram_finetune_NEW\\PestLarvaNet_AudioTwin_Run_1\\data_100.0percent\n"
     ]
    },
    {
     "data": {
      "application/vnd.jupyter.widget-view+json": {
       "model_id": "b77943c9da614603812aded9eeb1b91a",
       "version_major": 2,
       "version_minor": 0
      },
      "text/plain": [
       "Epoch 65/100:   0%|          | 0/352 [00:00<?, ?it/s]"
      ]
     },
     "metadata": {},
     "output_type": "display_data"
    },
    {
     "data": {
      "application/vnd.jupyter.widget-view+json": {
       "model_id": "11f5452196a64d6194f1cc6fb0d195a9",
       "version_major": 2,
       "version_minor": 0
      },
      "text/plain": [
       "Epoch 66/100:   0%|          | 0/352 [00:00<?, ?it/s]"
      ]
     },
     "metadata": {},
     "output_type": "display_data"
    },
    {
     "data": {
      "application/vnd.jupyter.widget-view+json": {
       "model_id": "172e17d90ec44298ac22cb265318a17d",
       "version_major": 2,
       "version_minor": 0
      },
      "text/plain": [
       "Epoch 67/100:   0%|          | 0/352 [00:00<?, ?it/s]"
      ]
     },
     "metadata": {},
     "output_type": "display_data"
    },
    {
     "data": {
      "application/vnd.jupyter.widget-view+json": {
       "model_id": "889aa37c16e7444d87dbf3b85abd050a",
       "version_major": 2,
       "version_minor": 0
      },
      "text/plain": [
       "Epoch 68/100:   0%|          | 0/352 [00:00<?, ?it/s]"
      ]
     },
     "metadata": {},
     "output_type": "display_data"
    },
    {
     "data": {
      "application/vnd.jupyter.widget-view+json": {
       "model_id": "14ec88ff893c40c4b49f3adfa4299de4",
       "version_major": 2,
       "version_minor": 0
      },
      "text/plain": [
       "Epoch 69/100:   0%|          | 0/352 [00:00<?, ?it/s]"
      ]
     },
     "metadata": {},
     "output_type": "display_data"
    },
    {
     "name": "stdout",
     "output_type": "stream",
     "text": [
      "\n",
      "Epoch 69: New best F1-weighted: 0.8749\n",
      "  F1-Macro: 0.8676, AUC-Macro: 0.0000, Accuracy: 0.8747\n",
      "Saving best model artifacts to C:\\Users\\PC\\Downloads\\Melspectrogram_finetune_NEW\\PestLarvaNet_AudioTwin_Run_1\\data_100.0percent\n"
     ]
    },
    {
     "data": {
      "application/vnd.jupyter.widget-view+json": {
       "model_id": "5c29ea75f4864914b3b94ad18e8c4ae7",
       "version_major": 2,
       "version_minor": 0
      },
      "text/plain": [
       "Epoch 70/100:   0%|          | 0/352 [00:00<?, ?it/s]"
      ]
     },
     "metadata": {},
     "output_type": "display_data"
    },
    {
     "data": {
      "application/vnd.jupyter.widget-view+json": {
       "model_id": "113878d65b024896ac41ce7346329e67",
       "version_major": 2,
       "version_minor": 0
      },
      "text/plain": [
       "Epoch 71/100:   0%|          | 0/352 [00:00<?, ?it/s]"
      ]
     },
     "metadata": {},
     "output_type": "display_data"
    },
    {
     "name": "stdout",
     "output_type": "stream",
     "text": [
      "\n",
      "Epoch 71: New best F1-weighted: 0.8793\n",
      "  F1-Macro: 0.8711, AUC-Macro: 0.0000, Accuracy: 0.8797\n",
      "Saving best model artifacts to C:\\Users\\PC\\Downloads\\Melspectrogram_finetune_NEW\\PestLarvaNet_AudioTwin_Run_1\\data_100.0percent\n"
     ]
    },
    {
     "data": {
      "application/vnd.jupyter.widget-view+json": {
       "model_id": "014739ee02f347108e8999d871542812",
       "version_major": 2,
       "version_minor": 0
      },
      "text/plain": [
       "Epoch 72/100:   0%|          | 0/352 [00:00<?, ?it/s]"
      ]
     },
     "metadata": {},
     "output_type": "display_data"
    },
    {
     "data": {
      "application/vnd.jupyter.widget-view+json": {
       "model_id": "9a3b5a3d1c224dff9e654597e93ebc48",
       "version_major": 2,
       "version_minor": 0
      },
      "text/plain": [
       "Epoch 73/100:   0%|          | 0/352 [00:00<?, ?it/s]"
      ]
     },
     "metadata": {},
     "output_type": "display_data"
    },
    {
     "name": "stdout",
     "output_type": "stream",
     "text": [
      "\n",
      "Epoch 73: New best F1-weighted: 0.8817\n",
      "  F1-Macro: 0.8764, AUC-Macro: 0.0000, Accuracy: 0.8811\n",
      "Saving best model artifacts to C:\\Users\\PC\\Downloads\\Melspectrogram_finetune_NEW\\PestLarvaNet_AudioTwin_Run_1\\data_100.0percent\n"
     ]
    },
    {
     "data": {
      "application/vnd.jupyter.widget-view+json": {
       "model_id": "434129b8e46542dd9f64c33b5b16fdcf",
       "version_major": 2,
       "version_minor": 0
      },
      "text/plain": [
       "Epoch 74/100:   0%|          | 0/352 [00:00<?, ?it/s]"
      ]
     },
     "metadata": {},
     "output_type": "display_data"
    },
    {
     "name": "stdout",
     "output_type": "stream",
     "text": [
      "\n",
      "Epoch 74: New best F1-weighted: 0.8860\n",
      "  F1-Macro: 0.8790, AUC-Macro: 0.0000, Accuracy: 0.8865\n",
      "Saving best model artifacts to C:\\Users\\PC\\Downloads\\Melspectrogram_finetune_NEW\\PestLarvaNet_AudioTwin_Run_1\\data_100.0percent\n"
     ]
    },
    {
     "data": {
      "application/vnd.jupyter.widget-view+json": {
       "model_id": "3e8a4f5d2c6c4132976ea17eb16e9519",
       "version_major": 2,
       "version_minor": 0
      },
      "text/plain": [
       "Epoch 75/100:   0%|          | 0/352 [00:00<?, ?it/s]"
      ]
     },
     "metadata": {},
     "output_type": "display_data"
    },
    {
     "name": "stdout",
     "output_type": "stream",
     "text": [
      "\n",
      "Epoch 75: New best F1-weighted: 0.8910\n",
      "  F1-Macro: 0.8848, AUC-Macro: 0.0000, Accuracy: 0.8907\n",
      "Saving best model artifacts to C:\\Users\\PC\\Downloads\\Melspectrogram_finetune_NEW\\PestLarvaNet_AudioTwin_Run_1\\data_100.0percent\n"
     ]
    },
    {
     "data": {
      "application/vnd.jupyter.widget-view+json": {
       "model_id": "173ad8dfe13847639ed1619a129a41e1",
       "version_major": 2,
       "version_minor": 0
      },
      "text/plain": [
       "Epoch 76/100:   0%|          | 0/352 [00:00<?, ?it/s]"
      ]
     },
     "metadata": {},
     "output_type": "display_data"
    },
    {
     "data": {
      "application/vnd.jupyter.widget-view+json": {
       "model_id": "67e887adc9e14be596ad98b08ade4076",
       "version_major": 2,
       "version_minor": 0
      },
      "text/plain": [
       "Epoch 77/100:   0%|          | 0/352 [00:00<?, ?it/s]"
      ]
     },
     "metadata": {},
     "output_type": "display_data"
    },
    {
     "data": {
      "application/vnd.jupyter.widget-view+json": {
       "model_id": "138316e2447c4ef1ab14df3541ce5dae",
       "version_major": 2,
       "version_minor": 0
      },
      "text/plain": [
       "Epoch 78/100:   0%|          | 0/352 [00:00<?, ?it/s]"
      ]
     },
     "metadata": {},
     "output_type": "display_data"
    },
    {
     "data": {
      "application/vnd.jupyter.widget-view+json": {
       "model_id": "6bc59e415ef3483b8ca191d41f235e5f",
       "version_major": 2,
       "version_minor": 0
      },
      "text/plain": [
       "Epoch 79/100:   0%|          | 0/352 [00:00<?, ?it/s]"
      ]
     },
     "metadata": {},
     "output_type": "display_data"
    },
    {
     "data": {
      "application/vnd.jupyter.widget-view+json": {
       "model_id": "7498a80e233e46f693506a975c2ccf4d",
       "version_major": 2,
       "version_minor": 0
      },
      "text/plain": [
       "Epoch 80/100:   0%|          | 0/352 [00:00<?, ?it/s]"
      ]
     },
     "metadata": {},
     "output_type": "display_data"
    },
    {
     "data": {
      "application/vnd.jupyter.widget-view+json": {
       "model_id": "dd1020da19164b4dba296c089edb4a7e",
       "version_major": 2,
       "version_minor": 0
      },
      "text/plain": [
       "Epoch 81/100:   0%|          | 0/352 [00:00<?, ?it/s]"
      ]
     },
     "metadata": {},
     "output_type": "display_data"
    },
    {
     "data": {
      "application/vnd.jupyter.widget-view+json": {
       "model_id": "8d4d79a0c5e6421b8a41dd70e5bfcbe3",
       "version_major": 2,
       "version_minor": 0
      },
      "text/plain": [
       "Epoch 82/100:   0%|          | 0/352 [00:00<?, ?it/s]"
      ]
     },
     "metadata": {},
     "output_type": "display_data"
    },
    {
     "name": "stdout",
     "output_type": "stream",
     "text": [
      "\n",
      "Epoch 82: New best F1-weighted: 0.8984\n",
      "  F1-Macro: 0.8925, AUC-Macro: 0.0000, Accuracy: 0.8982\n",
      "Saving best model artifacts to C:\\Users\\PC\\Downloads\\Melspectrogram_finetune_NEW\\PestLarvaNet_AudioTwin_Run_1\\data_100.0percent\n"
     ]
    },
    {
     "data": {
      "application/vnd.jupyter.widget-view+json": {
       "model_id": "f43c886c4fd344fc9037ffcf27970d57",
       "version_major": 2,
       "version_minor": 0
      },
      "text/plain": [
       "Epoch 83/100:   0%|          | 0/352 [00:00<?, ?it/s]"
      ]
     },
     "metadata": {},
     "output_type": "display_data"
    },
    {
     "name": "stdout",
     "output_type": "stream",
     "text": [
      "\n",
      "Epoch 83: New best F1-weighted: 0.8999\n",
      "  F1-Macro: 0.8946, AUC-Macro: 0.0000, Accuracy: 0.8993\n",
      "Saving best model artifacts to C:\\Users\\PC\\Downloads\\Melspectrogram_finetune_NEW\\PestLarvaNet_AudioTwin_Run_1\\data_100.0percent\n"
     ]
    },
    {
     "data": {
      "application/vnd.jupyter.widget-view+json": {
       "model_id": "342becaab2024db583dbf7df380d8050",
       "version_major": 2,
       "version_minor": 0
      },
      "text/plain": [
       "Epoch 84/100:   0%|          | 0/352 [00:00<?, ?it/s]"
      ]
     },
     "metadata": {},
     "output_type": "display_data"
    },
    {
     "name": "stdout",
     "output_type": "stream",
     "text": [
      "\n",
      "Epoch 84: New best F1-weighted: 0.9027\n",
      "  F1-Macro: 0.8991, AUC-Macro: 0.0000, Accuracy: 0.9018\n",
      "Saving best model artifacts to C:\\Users\\PC\\Downloads\\Melspectrogram_finetune_NEW\\PestLarvaNet_AudioTwin_Run_1\\data_100.0percent\n"
     ]
    },
    {
     "data": {
      "application/vnd.jupyter.widget-view+json": {
       "model_id": "0d72dedefb9b495da2aefdd7f68b3075",
       "version_major": 2,
       "version_minor": 0
      },
      "text/plain": [
       "Epoch 85/100:   0%|          | 0/352 [00:00<?, ?it/s]"
      ]
     },
     "metadata": {},
     "output_type": "display_data"
    },
    {
     "data": {
      "application/vnd.jupyter.widget-view+json": {
       "model_id": "3460c4e67cad425c929d29aa67c75d0c",
       "version_major": 2,
       "version_minor": 0
      },
      "text/plain": [
       "Epoch 86/100:   0%|          | 0/352 [00:00<?, ?it/s]"
      ]
     },
     "metadata": {},
     "output_type": "display_data"
    },
    {
     "data": {
      "application/vnd.jupyter.widget-view+json": {
       "model_id": "f49bccb605d048acb8b4dd8a0bf6f961",
       "version_major": 2,
       "version_minor": 0
      },
      "text/plain": [
       "Epoch 87/100:   0%|          | 0/352 [00:00<?, ?it/s]"
      ]
     },
     "metadata": {},
     "output_type": "display_data"
    },
    {
     "data": {
      "application/vnd.jupyter.widget-view+json": {
       "model_id": "8e7ea4684bfe4c28929cc7bd74e3208a",
       "version_major": 2,
       "version_minor": 0
      },
      "text/plain": [
       "Epoch 88/100:   0%|          | 0/352 [00:00<?, ?it/s]"
      ]
     },
     "metadata": {},
     "output_type": "display_data"
    },
    {
     "data": {
      "application/vnd.jupyter.widget-view+json": {
       "model_id": "5038aae6bda14be9ac36e819dad2dfab",
       "version_major": 2,
       "version_minor": 0
      },
      "text/plain": [
       "Epoch 89/100:   0%|          | 0/352 [00:00<?, ?it/s]"
      ]
     },
     "metadata": {},
     "output_type": "display_data"
    },
    {
     "name": "stdout",
     "output_type": "stream",
     "text": [
      "\n",
      "Epoch 89: New best F1-weighted: 0.9069\n",
      "  F1-Macro: 0.9031, AUC-Macro: 0.0000, Accuracy: 0.9068\n",
      "Saving best model artifacts to C:\\Users\\PC\\Downloads\\Melspectrogram_finetune_NEW\\PestLarvaNet_AudioTwin_Run_1\\data_100.0percent\n"
     ]
    },
    {
     "data": {
      "application/vnd.jupyter.widget-view+json": {
       "model_id": "bf32826432b24678ad09b6e19bcf4b7e",
       "version_major": 2,
       "version_minor": 0
      },
      "text/plain": [
       "Epoch 90/100:   0%|          | 0/352 [00:00<?, ?it/s]"
      ]
     },
     "metadata": {},
     "output_type": "display_data"
    },
    {
     "name": "stdout",
     "output_type": "stream",
     "text": [
      "\n",
      "Epoch 90: New best F1-weighted: 0.9099\n",
      "  F1-Macro: 0.9048, AUC-Macro: 0.0000, Accuracy: 0.9100\n",
      "Saving best model artifacts to C:\\Users\\PC\\Downloads\\Melspectrogram_finetune_NEW\\PestLarvaNet_AudioTwin_Run_1\\data_100.0percent\n"
     ]
    },
    {
     "data": {
      "application/vnd.jupyter.widget-view+json": {
       "model_id": "a78cd4e48ffd4238a7e3f907d3dd4622",
       "version_major": 2,
       "version_minor": 0
      },
      "text/plain": [
       "Epoch 91/100:   0%|          | 0/352 [00:00<?, ?it/s]"
      ]
     },
     "metadata": {},
     "output_type": "display_data"
    },
    {
     "data": {
      "application/vnd.jupyter.widget-view+json": {
       "model_id": "496d4dc557464056abf016d5ed986491",
       "version_major": 2,
       "version_minor": 0
      },
      "text/plain": [
       "Epoch 92/100:   0%|          | 0/352 [00:00<?, ?it/s]"
      ]
     },
     "metadata": {},
     "output_type": "display_data"
    },
    {
     "name": "stdout",
     "output_type": "stream",
     "text": [
      "\n",
      "Epoch 92: New best F1-weighted: 0.9158\n",
      "  F1-Macro: 0.9118, AUC-Macro: 0.0000, Accuracy: 0.9157\n",
      "Saving best model artifacts to C:\\Users\\PC\\Downloads\\Melspectrogram_finetune_NEW\\PestLarvaNet_AudioTwin_Run_1\\data_100.0percent\n"
     ]
    },
    {
     "data": {
      "application/vnd.jupyter.widget-view+json": {
       "model_id": "7997437f0c70442c81cc97028814c440",
       "version_major": 2,
       "version_minor": 0
      },
      "text/plain": [
       "Epoch 93/100:   0%|          | 0/352 [00:00<?, ?it/s]"
      ]
     },
     "metadata": {},
     "output_type": "display_data"
    },
    {
     "data": {
      "application/vnd.jupyter.widget-view+json": {
       "model_id": "457a1de9b9f1462e969293ca23d9b07a",
       "version_major": 2,
       "version_minor": 0
      },
      "text/plain": [
       "Epoch 94/100:   0%|          | 0/352 [00:00<?, ?it/s]"
      ]
     },
     "metadata": {},
     "output_type": "display_data"
    },
    {
     "data": {
      "application/vnd.jupyter.widget-view+json": {
       "model_id": "210b60ce27f94689ba535e0ca5f56b27",
       "version_major": 2,
       "version_minor": 0
      },
      "text/plain": [
       "Epoch 95/100:   0%|          | 0/352 [00:00<?, ?it/s]"
      ]
     },
     "metadata": {},
     "output_type": "display_data"
    },
    {
     "data": {
      "application/vnd.jupyter.widget-view+json": {
       "model_id": "d98e840a35b54105ab586b63ee733161",
       "version_major": 2,
       "version_minor": 0
      },
      "text/plain": [
       "Epoch 96/100:   0%|          | 0/352 [00:00<?, ?it/s]"
      ]
     },
     "metadata": {},
     "output_type": "display_data"
    },
    {
     "data": {
      "application/vnd.jupyter.widget-view+json": {
       "model_id": "debcf404fb394b32b57b4116e230c0ff",
       "version_major": 2,
       "version_minor": 0
      },
      "text/plain": [
       "Epoch 97/100:   0%|          | 0/352 [00:00<?, ?it/s]"
      ]
     },
     "metadata": {},
     "output_type": "display_data"
    },
    {
     "data": {
      "application/vnd.jupyter.widget-view+json": {
       "model_id": "cd1b5a5dd5b64d39aae000d58a2839cc",
       "version_major": 2,
       "version_minor": 0
      },
      "text/plain": [
       "Epoch 98/100:   0%|          | 0/352 [00:00<?, ?it/s]"
      ]
     },
     "metadata": {},
     "output_type": "display_data"
    },
    {
     "data": {
      "application/vnd.jupyter.widget-view+json": {
       "model_id": "cde0eea6ab9f40cc9b255520a0cf27e3",
       "version_major": 2,
       "version_minor": 0
      },
      "text/plain": [
       "Epoch 99/100:   0%|          | 0/352 [00:00<?, ?it/s]"
      ]
     },
     "metadata": {},
     "output_type": "display_data"
    },
    {
     "name": "stdout",
     "output_type": "stream",
     "text": [
      "\n",
      "Epoch 99: New best F1-weighted: 0.9182\n",
      "  F1-Macro: 0.9155, AUC-Macro: 0.0000, Accuracy: 0.9185\n",
      "Saving best model artifacts to C:\\Users\\PC\\Downloads\\Melspectrogram_finetune_NEW\\PestLarvaNet_AudioTwin_Run_1\\data_100.0percent\n"
     ]
    },
    {
     "data": {
      "application/vnd.jupyter.widget-view+json": {
       "model_id": "dbce1f64ca494490aba8582f6ce5b37c",
       "version_major": 2,
       "version_minor": 0
      },
      "text/plain": [
       "Epoch 100/100:   0%|          | 0/352 [00:00<?, ?it/s]"
      ]
     },
     "metadata": {},
     "output_type": "display_data"
    },
    {
     "name": "stdout",
     "output_type": "stream",
     "text": [
      "\n",
      "Epoch 100: New best F1-weighted: 0.9200\n",
      "  F1-Macro: 0.9174, AUC-Macro: 0.0000, Accuracy: 0.9199\n",
      "Saving best model artifacts to C:\\Users\\PC\\Downloads\\Melspectrogram_finetune_NEW\\PestLarvaNet_AudioTwin_Run_1\\data_100.0percent\n",
      "Finished Training for this run. Best F1-weighted: 0.9200\n",
      "==> Results with 100.0% data: Best F1-Weighted = 0.9200\n",
      "\n",
      "==================== Evaluating: PestLarvaNet (AudioTwin Run 2) ====================\n",
      "Lưu kết quả của model này vào: C:\\Users\\PC\\Downloads\\Melspectrogram_finetune_NEW\\PestLarvaNet_AudioTwin_Run_2\n",
      "--- Training with 25.0% of labeled data ---\n",
      "Loading pretrained weights from: C:\\Users\\PC\\PestLarvaNet\\SSL\\audiotwin_checkpoints_medium\\Final checkpoint\\run_2_lp5e-04_ep1e-06_lb0.003_audiotwin_pestlarvanet_medium_epoch_100.pth\n"
     ]
    },
    {
     "name": "stderr",
     "output_type": "stream",
     "text": [
      "C:\\Users\\PC\\anaconda3\\envs\\FallDeteNet\\lib\\site-packages\\torch\\optim\\lr_scheduler.py:62: UserWarning: The verbose parameter is deprecated. Please use get_last_lr() to access the learning rate.\n",
      "  warnings.warn(\n"
     ]
    },
    {
     "data": {
      "application/vnd.jupyter.widget-view+json": {
       "model_id": "bf56559c1689465886f4f38c63c97b78",
       "version_major": 2,
       "version_minor": 0
      },
      "text/plain": [
       "Epoch 1/100:   0%|          | 0/88 [00:00<?, ?it/s]"
      ]
     },
     "metadata": {},
     "output_type": "display_data"
    },
    {
     "name": "stdout",
     "output_type": "stream",
     "text": [
      "\n",
      "Epoch 1: New best F1-weighted: 0.3656\n",
      "  F1-Macro: 0.3057, AUC-Macro: 0.0000, Accuracy: 0.4662\n",
      "Saving best model artifacts to C:\\Users\\PC\\Downloads\\Melspectrogram_finetune_NEW\\PestLarvaNet_AudioTwin_Run_2\\data_25.0percent\n"
     ]
    },
    {
     "data": {
      "application/vnd.jupyter.widget-view+json": {
       "model_id": "aa2bab51c2204f3397ff002a304aea16",
       "version_major": 2,
       "version_minor": 0
      },
      "text/plain": [
       "Epoch 2/100:   0%|          | 0/88 [00:00<?, ?it/s]"
      ]
     },
     "metadata": {},
     "output_type": "display_data"
    },
    {
     "name": "stdout",
     "output_type": "stream",
     "text": [
      "\n",
      "Epoch 2: New best F1-weighted: 0.5090\n",
      "  F1-Macro: 0.4378, AUC-Macro: 0.0000, Accuracy: 0.5466\n",
      "Saving best model artifacts to C:\\Users\\PC\\Downloads\\Melspectrogram_finetune_NEW\\PestLarvaNet_AudioTwin_Run_2\\data_25.0percent\n"
     ]
    },
    {
     "data": {
      "application/vnd.jupyter.widget-view+json": {
       "model_id": "9c3b0672b42144f7b659e10a7bf089f6",
       "version_major": 2,
       "version_minor": 0
      },
      "text/plain": [
       "Epoch 3/100:   0%|          | 0/88 [00:00<?, ?it/s]"
      ]
     },
     "metadata": {},
     "output_type": "display_data"
    },
    {
     "name": "stdout",
     "output_type": "stream",
     "text": [
      "\n",
      "Epoch 3: New best F1-weighted: 0.5159\n",
      "  F1-Macro: 0.4570, AUC-Macro: 0.0000, Accuracy: 0.5463\n",
      "Saving best model artifacts to C:\\Users\\PC\\Downloads\\Melspectrogram_finetune_NEW\\PestLarvaNet_AudioTwin_Run_2\\data_25.0percent\n"
     ]
    },
    {
     "data": {
      "application/vnd.jupyter.widget-view+json": {
       "model_id": "3ef7332556d24fceabb0392ca44dd3e4",
       "version_major": 2,
       "version_minor": 0
      },
      "text/plain": [
       "Epoch 4/100:   0%|          | 0/88 [00:00<?, ?it/s]"
      ]
     },
     "metadata": {},
     "output_type": "display_data"
    },
    {
     "name": "stdout",
     "output_type": "stream",
     "text": [
      "\n",
      "Epoch 4: New best F1-weighted: 0.5625\n",
      "  F1-Macro: 0.4916, AUC-Macro: 0.0000, Accuracy: 0.5925\n",
      "Saving best model artifacts to C:\\Users\\PC\\Downloads\\Melspectrogram_finetune_NEW\\PestLarvaNet_AudioTwin_Run_2\\data_25.0percent\n"
     ]
    },
    {
     "data": {
      "application/vnd.jupyter.widget-view+json": {
       "model_id": "61618480f5b14ab1a21e963ce8517c05",
       "version_major": 2,
       "version_minor": 0
      },
      "text/plain": [
       "Epoch 5/100:   0%|          | 0/88 [00:00<?, ?it/s]"
      ]
     },
     "metadata": {},
     "output_type": "display_data"
    },
    {
     "data": {
      "application/vnd.jupyter.widget-view+json": {
       "model_id": "c4a408e05f69477f8afe81b460ad90b5",
       "version_major": 2,
       "version_minor": 0
      },
      "text/plain": [
       "Epoch 6/100:   0%|          | 0/88 [00:00<?, ?it/s]"
      ]
     },
     "metadata": {},
     "output_type": "display_data"
    },
    {
     "data": {
      "application/vnd.jupyter.widget-view+json": {
       "model_id": "a3983c8f96054754b827fe3c031b810b",
       "version_major": 2,
       "version_minor": 0
      },
      "text/plain": [
       "Epoch 7/100:   0%|          | 0/88 [00:00<?, ?it/s]"
      ]
     },
     "metadata": {},
     "output_type": "display_data"
    },
    {
     "name": "stdout",
     "output_type": "stream",
     "text": [
      "\n",
      "Epoch 7: New best F1-weighted: 0.5834\n",
      "  F1-Macro: 0.5082, AUC-Macro: 0.0000, Accuracy: 0.6178\n",
      "Saving best model artifacts to C:\\Users\\PC\\Downloads\\Melspectrogram_finetune_NEW\\PestLarvaNet_AudioTwin_Run_2\\data_25.0percent\n"
     ]
    },
    {
     "data": {
      "application/vnd.jupyter.widget-view+json": {
       "model_id": "8f64bc0a947a4a14ae581bb26c4f096f",
       "version_major": 2,
       "version_minor": 0
      },
      "text/plain": [
       "Epoch 8/100:   0%|          | 0/88 [00:00<?, ?it/s]"
      ]
     },
     "metadata": {},
     "output_type": "display_data"
    },
    {
     "data": {
      "application/vnd.jupyter.widget-view+json": {
       "model_id": "48dda67f5bbe470dbe7bedcc1ab720f6",
       "version_major": 2,
       "version_minor": 0
      },
      "text/plain": [
       "Epoch 9/100:   0%|          | 0/88 [00:00<?, ?it/s]"
      ]
     },
     "metadata": {},
     "output_type": "display_data"
    },
    {
     "data": {
      "application/vnd.jupyter.widget-view+json": {
       "model_id": "a7504f03a9774dd19f58a2817fefe69a",
       "version_major": 2,
       "version_minor": 0
      },
      "text/plain": [
       "Epoch 10/100:   0%|          | 0/88 [00:00<?, ?it/s]"
      ]
     },
     "metadata": {},
     "output_type": "display_data"
    },
    {
     "data": {
      "application/vnd.jupyter.widget-view+json": {
       "model_id": "e65e0ff118e043329bf11d7661fa1ef9",
       "version_major": 2,
       "version_minor": 0
      },
      "text/plain": [
       "Epoch 11/100:   0%|          | 0/88 [00:00<?, ?it/s]"
      ]
     },
     "metadata": {},
     "output_type": "display_data"
    },
    {
     "data": {
      "application/vnd.jupyter.widget-view+json": {
       "model_id": "33cbe04799cd4141a43358607968a156",
       "version_major": 2,
       "version_minor": 0
      },
      "text/plain": [
       "Epoch 12/100:   0%|          | 0/88 [00:00<?, ?it/s]"
      ]
     },
     "metadata": {},
     "output_type": "display_data"
    },
    {
     "data": {
      "application/vnd.jupyter.widget-view+json": {
       "model_id": "c424e513e4d644c283194bb4736e52d3",
       "version_major": 2,
       "version_minor": 0
      },
      "text/plain": [
       "Epoch 13/100:   0%|          | 0/88 [00:00<?, ?it/s]"
      ]
     },
     "metadata": {},
     "output_type": "display_data"
    },
    {
     "data": {
      "application/vnd.jupyter.widget-view+json": {
       "model_id": "5acd79c3627946e4ae8254154b5cb941",
       "version_major": 2,
       "version_minor": 0
      },
      "text/plain": [
       "Epoch 14/100:   0%|          | 0/88 [00:00<?, ?it/s]"
      ]
     },
     "metadata": {},
     "output_type": "display_data"
    },
    {
     "name": "stdout",
     "output_type": "stream",
     "text": [
      "\n",
      "Epoch 14: New best F1-weighted: 0.5849\n",
      "  F1-Macro: 0.5093, AUC-Macro: 0.0000, Accuracy: 0.6192\n",
      "Saving best model artifacts to C:\\Users\\PC\\Downloads\\Melspectrogram_finetune_NEW\\PestLarvaNet_AudioTwin_Run_2\\data_25.0percent\n"
     ]
    },
    {
     "data": {
      "application/vnd.jupyter.widget-view+json": {
       "model_id": "2b857a385a424d9dbb689f4e2c169673",
       "version_major": 2,
       "version_minor": 0
      },
      "text/plain": [
       "Epoch 15/100:   0%|          | 0/88 [00:00<?, ?it/s]"
      ]
     },
     "metadata": {},
     "output_type": "display_data"
    },
    {
     "data": {
      "application/vnd.jupyter.widget-view+json": {
       "model_id": "84fb18617f1d474db43a3d0020c8dc32",
       "version_major": 2,
       "version_minor": 0
      },
      "text/plain": [
       "Epoch 16/100:   0%|          | 0/88 [00:00<?, ?it/s]"
      ]
     },
     "metadata": {},
     "output_type": "display_data"
    },
    {
     "name": "stdout",
     "output_type": "stream",
     "text": [
      "\n",
      "Epoch 16: New best F1-weighted: 0.5945\n",
      "  F1-Macro: 0.5226, AUC-Macro: 0.0000, Accuracy: 0.6292\n",
      "Saving best model artifacts to C:\\Users\\PC\\Downloads\\Melspectrogram_finetune_NEW\\PestLarvaNet_AudioTwin_Run_2\\data_25.0percent\n"
     ]
    },
    {
     "data": {
      "application/vnd.jupyter.widget-view+json": {
       "model_id": "768ade06270545b38765a8210ef03dfe",
       "version_major": 2,
       "version_minor": 0
      },
      "text/plain": [
       "Epoch 17/100:   0%|          | 0/88 [00:00<?, ?it/s]"
      ]
     },
     "metadata": {},
     "output_type": "display_data"
    },
    {
     "name": "stdout",
     "output_type": "stream",
     "text": [
      "\n",
      "Epoch 17: New best F1-weighted: 0.6200\n",
      "  F1-Macro: 0.5431, AUC-Macro: 0.0000, Accuracy: 0.6548\n",
      "Saving best model artifacts to C:\\Users\\PC\\Downloads\\Melspectrogram_finetune_NEW\\PestLarvaNet_AudioTwin_Run_2\\data_25.0percent\n"
     ]
    },
    {
     "data": {
      "application/vnd.jupyter.widget-view+json": {
       "model_id": "b48d579456ad4488b9399e94fbe116a6",
       "version_major": 2,
       "version_minor": 0
      },
      "text/plain": [
       "Epoch 18/100:   0%|          | 0/88 [00:00<?, ?it/s]"
      ]
     },
     "metadata": {},
     "output_type": "display_data"
    },
    {
     "data": {
      "application/vnd.jupyter.widget-view+json": {
       "model_id": "98cbdce672ce4b378ecbf6843e469b8f",
       "version_major": 2,
       "version_minor": 0
      },
      "text/plain": [
       "Epoch 19/100:   0%|          | 0/88 [00:00<?, ?it/s]"
      ]
     },
     "metadata": {},
     "output_type": "display_data"
    },
    {
     "data": {
      "application/vnd.jupyter.widget-view+json": {
       "model_id": "f445a970d8a844318b2984429ebe7e6f",
       "version_major": 2,
       "version_minor": 0
      },
      "text/plain": [
       "Epoch 20/100:   0%|          | 0/88 [00:00<?, ?it/s]"
      ]
     },
     "metadata": {},
     "output_type": "display_data"
    },
    {
     "data": {
      "application/vnd.jupyter.widget-view+json": {
       "model_id": "115f376ac95147d5883f2c2170222ed6",
       "version_major": 2,
       "version_minor": 0
      },
      "text/plain": [
       "Epoch 21/100:   0%|          | 0/88 [00:00<?, ?it/s]"
      ]
     },
     "metadata": {},
     "output_type": "display_data"
    },
    {
     "data": {
      "application/vnd.jupyter.widget-view+json": {
       "model_id": "1178320a063944cda0dc5e2eacff96d3",
       "version_major": 2,
       "version_minor": 0
      },
      "text/plain": [
       "Epoch 22/100:   0%|          | 0/88 [00:00<?, ?it/s]"
      ]
     },
     "metadata": {},
     "output_type": "display_data"
    },
    {
     "data": {
      "application/vnd.jupyter.widget-view+json": {
       "model_id": "605be0784bfa480483b4c1a7aa0c87cb",
       "version_major": 2,
       "version_minor": 0
      },
      "text/plain": [
       "Epoch 23/100:   0%|          | 0/88 [00:00<?, ?it/s]"
      ]
     },
     "metadata": {},
     "output_type": "display_data"
    },
    {
     "data": {
      "application/vnd.jupyter.widget-view+json": {
       "model_id": "2f117518e04a479a86f27bfeb2a38fcb",
       "version_major": 2,
       "version_minor": 0
      },
      "text/plain": [
       "Epoch 24/100:   0%|          | 0/88 [00:00<?, ?it/s]"
      ]
     },
     "metadata": {},
     "output_type": "display_data"
    },
    {
     "name": "stdout",
     "output_type": "stream",
     "text": [
      "\n",
      "Epoch 24: New best F1-weighted: 0.6379\n",
      "  F1-Macro: 0.5619, AUC-Macro: 0.0000, Accuracy: 0.6694\n",
      "Saving best model artifacts to C:\\Users\\PC\\Downloads\\Melspectrogram_finetune_NEW\\PestLarvaNet_AudioTwin_Run_2\\data_25.0percent\n"
     ]
    },
    {
     "data": {
      "application/vnd.jupyter.widget-view+json": {
       "model_id": "d45b06abd63a45ee8de9d4503ad1bc36",
       "version_major": 2,
       "version_minor": 0
      },
      "text/plain": [
       "Epoch 25/100:   0%|          | 0/88 [00:00<?, ?it/s]"
      ]
     },
     "metadata": {},
     "output_type": "display_data"
    },
    {
     "name": "stdout",
     "output_type": "stream",
     "text": [
      "\n",
      "Epoch 25: New best F1-weighted: 0.6463\n",
      "  F1-Macro: 0.5742, AUC-Macro: 0.0000, Accuracy: 0.6779\n",
      "Saving best model artifacts to C:\\Users\\PC\\Downloads\\Melspectrogram_finetune_NEW\\PestLarvaNet_AudioTwin_Run_2\\data_25.0percent\n"
     ]
    },
    {
     "data": {
      "application/vnd.jupyter.widget-view+json": {
       "model_id": "6d01477f62aa4161be627df4648aa3f9",
       "version_major": 2,
       "version_minor": 0
      },
      "text/plain": [
       "Epoch 26/100:   0%|          | 0/88 [00:00<?, ?it/s]"
      ]
     },
     "metadata": {},
     "output_type": "display_data"
    },
    {
     "name": "stdout",
     "output_type": "stream",
     "text": [
      "\n",
      "Epoch 26: New best F1-weighted: 0.6498\n",
      "  F1-Macro: 0.5822, AUC-Macro: 0.0000, Accuracy: 0.6715\n",
      "Saving best model artifacts to C:\\Users\\PC\\Downloads\\Melspectrogram_finetune_NEW\\PestLarvaNet_AudioTwin_Run_2\\data_25.0percent\n"
     ]
    },
    {
     "data": {
      "application/vnd.jupyter.widget-view+json": {
       "model_id": "c76fdb65bedf4009aa83b3c8c8432c51",
       "version_major": 2,
       "version_minor": 0
      },
      "text/plain": [
       "Epoch 27/100:   0%|          | 0/88 [00:00<?, ?it/s]"
      ]
     },
     "metadata": {},
     "output_type": "display_data"
    },
    {
     "data": {
      "application/vnd.jupyter.widget-view+json": {
       "model_id": "1014e766c8944596a1548f828804e519",
       "version_major": 2,
       "version_minor": 0
      },
      "text/plain": [
       "Epoch 28/100:   0%|          | 0/88 [00:00<?, ?it/s]"
      ]
     },
     "metadata": {},
     "output_type": "display_data"
    },
    {
     "name": "stdout",
     "output_type": "stream",
     "text": [
      "\n",
      "Epoch 28: New best F1-weighted: 0.6552\n",
      "  F1-Macro: 0.5815, AUC-Macro: 0.0000, Accuracy: 0.6854\n",
      "Saving best model artifacts to C:\\Users\\PC\\Downloads\\Melspectrogram_finetune_NEW\\PestLarvaNet_AudioTwin_Run_2\\data_25.0percent\n"
     ]
    },
    {
     "data": {
      "application/vnd.jupyter.widget-view+json": {
       "model_id": "79d6bdfc259a4d85b4cecc29aea46c70",
       "version_major": 2,
       "version_minor": 0
      },
      "text/plain": [
       "Epoch 29/100:   0%|          | 0/88 [00:00<?, ?it/s]"
      ]
     },
     "metadata": {},
     "output_type": "display_data"
    },
    {
     "data": {
      "application/vnd.jupyter.widget-view+json": {
       "model_id": "cada019b716e4a9ab928401e93e23b9d",
       "version_major": 2,
       "version_minor": 0
      },
      "text/plain": [
       "Epoch 30/100:   0%|          | 0/88 [00:00<?, ?it/s]"
      ]
     },
     "metadata": {},
     "output_type": "display_data"
    },
    {
     "name": "stdout",
     "output_type": "stream",
     "text": [
      "\n",
      "Epoch 30: New best F1-weighted: 0.6696\n",
      "  F1-Macro: 0.5991, AUC-Macro: 0.0000, Accuracy: 0.6940\n",
      "Saving best model artifacts to C:\\Users\\PC\\Downloads\\Melspectrogram_finetune_NEW\\PestLarvaNet_AudioTwin_Run_2\\data_25.0percent\n"
     ]
    },
    {
     "data": {
      "application/vnd.jupyter.widget-view+json": {
       "model_id": "766eace7eda24e2296546bd6b5964409",
       "version_major": 2,
       "version_minor": 0
      },
      "text/plain": [
       "Epoch 31/100:   0%|          | 0/88 [00:00<?, ?it/s]"
      ]
     },
     "metadata": {},
     "output_type": "display_data"
    },
    {
     "name": "stdout",
     "output_type": "stream",
     "text": [
      "\n",
      "Epoch 31: New best F1-weighted: 0.6710\n",
      "  F1-Macro: 0.6058, AUC-Macro: 0.0000, Accuracy: 0.6897\n",
      "Saving best model artifacts to C:\\Users\\PC\\Downloads\\Melspectrogram_finetune_NEW\\PestLarvaNet_AudioTwin_Run_2\\data_25.0percent\n"
     ]
    },
    {
     "data": {
      "application/vnd.jupyter.widget-view+json": {
       "model_id": "e8b1c0fb78a14dc79d53e4d8810bef7f",
       "version_major": 2,
       "version_minor": 0
      },
      "text/plain": [
       "Epoch 32/100:   0%|          | 0/88 [00:00<?, ?it/s]"
      ]
     },
     "metadata": {},
     "output_type": "display_data"
    },
    {
     "name": "stdout",
     "output_type": "stream",
     "text": [
      "\n",
      "Epoch 32: New best F1-weighted: 0.6762\n",
      "  F1-Macro: 0.6128, AUC-Macro: 0.0000, Accuracy: 0.6947\n",
      "Saving best model artifacts to C:\\Users\\PC\\Downloads\\Melspectrogram_finetune_NEW\\PestLarvaNet_AudioTwin_Run_2\\data_25.0percent\n"
     ]
    },
    {
     "data": {
      "application/vnd.jupyter.widget-view+json": {
       "model_id": "574b0ceb8d644024b38c725e9e563013",
       "version_major": 2,
       "version_minor": 0
      },
      "text/plain": [
       "Epoch 33/100:   0%|          | 0/88 [00:00<?, ?it/s]"
      ]
     },
     "metadata": {},
     "output_type": "display_data"
    },
    {
     "data": {
      "application/vnd.jupyter.widget-view+json": {
       "model_id": "80908ffc5eae40189af63e0cbbcd1829",
       "version_major": 2,
       "version_minor": 0
      },
      "text/plain": [
       "Epoch 34/100:   0%|          | 0/88 [00:00<?, ?it/s]"
      ]
     },
     "metadata": {},
     "output_type": "display_data"
    },
    {
     "data": {
      "application/vnd.jupyter.widget-view+json": {
       "model_id": "3642430841f74a33a0ac6a315f8bf4ce",
       "version_major": 2,
       "version_minor": 0
      },
      "text/plain": [
       "Epoch 35/100:   0%|          | 0/88 [00:00<?, ?it/s]"
      ]
     },
     "metadata": {},
     "output_type": "display_data"
    },
    {
     "data": {
      "application/vnd.jupyter.widget-view+json": {
       "model_id": "d86f04f6a19e41f2ac70d00b5ff9dd24",
       "version_major": 2,
       "version_minor": 0
      },
      "text/plain": [
       "Epoch 36/100:   0%|          | 0/88 [00:00<?, ?it/s]"
      ]
     },
     "metadata": {},
     "output_type": "display_data"
    },
    {
     "name": "stdout",
     "output_type": "stream",
     "text": [
      "\n",
      "Epoch 36: New best F1-weighted: 0.6821\n",
      "  F1-Macro: 0.6191, AUC-Macro: 0.0000, Accuracy: 0.7025\n",
      "Saving best model artifacts to C:\\Users\\PC\\Downloads\\Melspectrogram_finetune_NEW\\PestLarvaNet_AudioTwin_Run_2\\data_25.0percent\n"
     ]
    },
    {
     "data": {
      "application/vnd.jupyter.widget-view+json": {
       "model_id": "b800d4cad9854e7abd6524896656acd6",
       "version_major": 2,
       "version_minor": 0
      },
      "text/plain": [
       "Epoch 37/100:   0%|          | 0/88 [00:00<?, ?it/s]"
      ]
     },
     "metadata": {},
     "output_type": "display_data"
    },
    {
     "data": {
      "application/vnd.jupyter.widget-view+json": {
       "model_id": "75b76baa9eed45c2980aa773cd198053",
       "version_major": 2,
       "version_minor": 0
      },
      "text/plain": [
       "Epoch 38/100:   0%|          | 0/88 [00:00<?, ?it/s]"
      ]
     },
     "metadata": {},
     "output_type": "display_data"
    },
    {
     "data": {
      "application/vnd.jupyter.widget-view+json": {
       "model_id": "57d8dde5d0fb471c807074f129471058",
       "version_major": 2,
       "version_minor": 0
      },
      "text/plain": [
       "Epoch 39/100:   0%|          | 0/88 [00:00<?, ?it/s]"
      ]
     },
     "metadata": {},
     "output_type": "display_data"
    },
    {
     "data": {
      "application/vnd.jupyter.widget-view+json": {
       "model_id": "3fd45ff04e3e499b9da614c8cb79d434",
       "version_major": 2,
       "version_minor": 0
      },
      "text/plain": [
       "Epoch 40/100:   0%|          | 0/88 [00:00<?, ?it/s]"
      ]
     },
     "metadata": {},
     "output_type": "display_data"
    },
    {
     "name": "stdout",
     "output_type": "stream",
     "text": [
      "\n",
      "Epoch 40: New best F1-weighted: 0.6836\n",
      "  F1-Macro: 0.6296, AUC-Macro: 0.0000, Accuracy: 0.6957\n",
      "Saving best model artifacts to C:\\Users\\PC\\Downloads\\Melspectrogram_finetune_NEW\\PestLarvaNet_AudioTwin_Run_2\\data_25.0percent\n"
     ]
    },
    {
     "data": {
      "application/vnd.jupyter.widget-view+json": {
       "model_id": "8663271f38a24e348350581582ff0d68",
       "version_major": 2,
       "version_minor": 0
      },
      "text/plain": [
       "Epoch 41/100:   0%|          | 0/88 [00:00<?, ?it/s]"
      ]
     },
     "metadata": {},
     "output_type": "display_data"
    },
    {
     "name": "stdout",
     "output_type": "stream",
     "text": [
      "\n",
      "Epoch 41: New best F1-weighted: 0.7073\n",
      "  F1-Macro: 0.6587, AUC-Macro: 0.0000, Accuracy: 0.7135\n",
      "Saving best model artifacts to C:\\Users\\PC\\Downloads\\Melspectrogram_finetune_NEW\\PestLarvaNet_AudioTwin_Run_2\\data_25.0percent\n"
     ]
    },
    {
     "data": {
      "application/vnd.jupyter.widget-view+json": {
       "model_id": "a241dab2a846472e8ba8496d391e9de3",
       "version_major": 2,
       "version_minor": 0
      },
      "text/plain": [
       "Epoch 42/100:   0%|          | 0/88 [00:00<?, ?it/s]"
      ]
     },
     "metadata": {},
     "output_type": "display_data"
    },
    {
     "data": {
      "application/vnd.jupyter.widget-view+json": {
       "model_id": "2e4af01f73f14402bd8eb03f7ad90167",
       "version_major": 2,
       "version_minor": 0
      },
      "text/plain": [
       "Epoch 43/100:   0%|          | 0/88 [00:00<?, ?it/s]"
      ]
     },
     "metadata": {},
     "output_type": "display_data"
    },
    {
     "data": {
      "application/vnd.jupyter.widget-view+json": {
       "model_id": "3934de182e5b4b939bf846ebf0e5f554",
       "version_major": 2,
       "version_minor": 0
      },
      "text/plain": [
       "Epoch 44/100:   0%|          | 0/88 [00:00<?, ?it/s]"
      ]
     },
     "metadata": {},
     "output_type": "display_data"
    },
    {
     "data": {
      "application/vnd.jupyter.widget-view+json": {
       "model_id": "2c5e00e17f1d43c3aa641adda71ca001",
       "version_major": 2,
       "version_minor": 0
      },
      "text/plain": [
       "Epoch 45/100:   0%|          | 0/88 [00:00<?, ?it/s]"
      ]
     },
     "metadata": {},
     "output_type": "display_data"
    },
    {
     "name": "stdout",
     "output_type": "stream",
     "text": [
      "\n",
      "Epoch 45: New best F1-weighted: 0.7221\n",
      "  F1-Macro: 0.6793, AUC-Macro: 0.0000, Accuracy: 0.7246\n",
      "Saving best model artifacts to C:\\Users\\PC\\Downloads\\Melspectrogram_finetune_NEW\\PestLarvaNet_AudioTwin_Run_2\\data_25.0percent\n"
     ]
    },
    {
     "data": {
      "application/vnd.jupyter.widget-view+json": {
       "model_id": "9634605de94e42439177d4707e7965b5",
       "version_major": 2,
       "version_minor": 0
      },
      "text/plain": [
       "Epoch 46/100:   0%|          | 0/88 [00:00<?, ?it/s]"
      ]
     },
     "metadata": {},
     "output_type": "display_data"
    },
    {
     "data": {
      "application/vnd.jupyter.widget-view+json": {
       "model_id": "67a7a8481611498e904385acfd36b9fa",
       "version_major": 2,
       "version_minor": 0
      },
      "text/plain": [
       "Epoch 47/100:   0%|          | 0/88 [00:00<?, ?it/s]"
      ]
     },
     "metadata": {},
     "output_type": "display_data"
    },
    {
     "data": {
      "application/vnd.jupyter.widget-view+json": {
       "model_id": "46c625d59ba34279893e41205b096913",
       "version_major": 2,
       "version_minor": 0
      },
      "text/plain": [
       "Epoch 48/100:   0%|          | 0/88 [00:00<?, ?it/s]"
      ]
     },
     "metadata": {},
     "output_type": "display_data"
    },
    {
     "data": {
      "application/vnd.jupyter.widget-view+json": {
       "model_id": "84d21ea8fcdc4ec591618e0f7d13cada",
       "version_major": 2,
       "version_minor": 0
      },
      "text/plain": [
       "Epoch 49/100:   0%|          | 0/88 [00:00<?, ?it/s]"
      ]
     },
     "metadata": {},
     "output_type": "display_data"
    },
    {
     "data": {
      "application/vnd.jupyter.widget-view+json": {
       "model_id": "6f12b2d696414d9ca2323cbd15fbd3f5",
       "version_major": 2,
       "version_minor": 0
      },
      "text/plain": [
       "Epoch 50/100:   0%|          | 0/88 [00:00<?, ?it/s]"
      ]
     },
     "metadata": {},
     "output_type": "display_data"
    },
    {
     "data": {
      "application/vnd.jupyter.widget-view+json": {
       "model_id": "85e1046d2d8f4b25b71d0471447374e1",
       "version_major": 2,
       "version_minor": 0
      },
      "text/plain": [
       "Epoch 51/100:   0%|          | 0/88 [00:00<?, ?it/s]"
      ]
     },
     "metadata": {},
     "output_type": "display_data"
    },
    {
     "name": "stdout",
     "output_type": "stream",
     "text": [
      "\n",
      "Epoch 51: New best F1-weighted: 0.7252\n",
      "  F1-Macro: 0.6818, AUC-Macro: 0.0000, Accuracy: 0.7299\n",
      "Saving best model artifacts to C:\\Users\\PC\\Downloads\\Melspectrogram_finetune_NEW\\PestLarvaNet_AudioTwin_Run_2\\data_25.0percent\n"
     ]
    },
    {
     "data": {
      "application/vnd.jupyter.widget-view+json": {
       "model_id": "6eb4b38217604400bc1acf089401ad5b",
       "version_major": 2,
       "version_minor": 0
      },
      "text/plain": [
       "Epoch 52/100:   0%|          | 0/88 [00:00<?, ?it/s]"
      ]
     },
     "metadata": {},
     "output_type": "display_data"
    },
    {
     "data": {
      "application/vnd.jupyter.widget-view+json": {
       "model_id": "51a3cd2d6442490e92fe3b2eb95b3c37",
       "version_major": 2,
       "version_minor": 0
      },
      "text/plain": [
       "Epoch 53/100:   0%|          | 0/88 [00:00<?, ?it/s]"
      ]
     },
     "metadata": {},
     "output_type": "display_data"
    },
    {
     "data": {
      "application/vnd.jupyter.widget-view+json": {
       "model_id": "a1d2c8a8ca0d4f35967a35949e79855e",
       "version_major": 2,
       "version_minor": 0
      },
      "text/plain": [
       "Epoch 54/100:   0%|          | 0/88 [00:00<?, ?it/s]"
      ]
     },
     "metadata": {},
     "output_type": "display_data"
    },
    {
     "data": {
      "application/vnd.jupyter.widget-view+json": {
       "model_id": "eab9458fa8b9470e9fa0c41b823c262b",
       "version_major": 2,
       "version_minor": 0
      },
      "text/plain": [
       "Epoch 55/100:   0%|          | 0/88 [00:00<?, ?it/s]"
      ]
     },
     "metadata": {},
     "output_type": "display_data"
    },
    {
     "name": "stdout",
     "output_type": "stream",
     "text": [
      "\n",
      "Epoch 55: New best F1-weighted: 0.7296\n",
      "  F1-Macro: 0.6859, AUC-Macro: 0.0000, Accuracy: 0.7363\n",
      "Saving best model artifacts to C:\\Users\\PC\\Downloads\\Melspectrogram_finetune_NEW\\PestLarvaNet_AudioTwin_Run_2\\data_25.0percent\n"
     ]
    },
    {
     "data": {
      "application/vnd.jupyter.widget-view+json": {
       "model_id": "5417b574c9794d8e9ab24442bf1f2c39",
       "version_major": 2,
       "version_minor": 0
      },
      "text/plain": [
       "Epoch 56/100:   0%|          | 0/88 [00:00<?, ?it/s]"
      ]
     },
     "metadata": {},
     "output_type": "display_data"
    },
    {
     "data": {
      "application/vnd.jupyter.widget-view+json": {
       "model_id": "8399ac0f28804577bf1be796beb64e06",
       "version_major": 2,
       "version_minor": 0
      },
      "text/plain": [
       "Epoch 57/100:   0%|          | 0/88 [00:00<?, ?it/s]"
      ]
     },
     "metadata": {},
     "output_type": "display_data"
    },
    {
     "data": {
      "application/vnd.jupyter.widget-view+json": {
       "model_id": "eed901691e414833a310359f4ca7b7f1",
       "version_major": 2,
       "version_minor": 0
      },
      "text/plain": [
       "Epoch 58/100:   0%|          | 0/88 [00:00<?, ?it/s]"
      ]
     },
     "metadata": {},
     "output_type": "display_data"
    },
    {
     "name": "stdout",
     "output_type": "stream",
     "text": [
      "\n",
      "Epoch 58: New best F1-weighted: 0.7355\n",
      "  F1-Macro: 0.6938, AUC-Macro: 0.0000, Accuracy: 0.7409\n",
      "Saving best model artifacts to C:\\Users\\PC\\Downloads\\Melspectrogram_finetune_NEW\\PestLarvaNet_AudioTwin_Run_2\\data_25.0percent\n"
     ]
    },
    {
     "data": {
      "application/vnd.jupyter.widget-view+json": {
       "model_id": "568ddec6f70f4f5a997b8cd2764e9cd5",
       "version_major": 2,
       "version_minor": 0
      },
      "text/plain": [
       "Epoch 59/100:   0%|          | 0/88 [00:00<?, ?it/s]"
      ]
     },
     "metadata": {},
     "output_type": "display_data"
    },
    {
     "data": {
      "application/vnd.jupyter.widget-view+json": {
       "model_id": "96291a2b25284ebdb2f0e96631959ca2",
       "version_major": 2,
       "version_minor": 0
      },
      "text/plain": [
       "Epoch 60/100:   0%|          | 0/88 [00:00<?, ?it/s]"
      ]
     },
     "metadata": {},
     "output_type": "display_data"
    },
    {
     "data": {
      "application/vnd.jupyter.widget-view+json": {
       "model_id": "fd8e0675738547d9bc6e7ee5f5deb897",
       "version_major": 2,
       "version_minor": 0
      },
      "text/plain": [
       "Epoch 61/100:   0%|          | 0/88 [00:00<?, ?it/s]"
      ]
     },
     "metadata": {},
     "output_type": "display_data"
    },
    {
     "data": {
      "application/vnd.jupyter.widget-view+json": {
       "model_id": "c34790f6b16c499881eb4fa6634e0a19",
       "version_major": 2,
       "version_minor": 0
      },
      "text/plain": [
       "Epoch 62/100:   0%|          | 0/88 [00:00<?, ?it/s]"
      ]
     },
     "metadata": {},
     "output_type": "display_data"
    },
    {
     "data": {
      "application/vnd.jupyter.widget-view+json": {
       "model_id": "30b76fe56adb4ddfbe99724322be7d6a",
       "version_major": 2,
       "version_minor": 0
      },
      "text/plain": [
       "Epoch 63/100:   0%|          | 0/88 [00:00<?, ?it/s]"
      ]
     },
     "metadata": {},
     "output_type": "display_data"
    },
    {
     "data": {
      "application/vnd.jupyter.widget-view+json": {
       "model_id": "d68edf0486bf4dd5a7a46b0a9b67a775",
       "version_major": 2,
       "version_minor": 0
      },
      "text/plain": [
       "Epoch 64/100:   0%|          | 0/88 [00:00<?, ?it/s]"
      ]
     },
     "metadata": {},
     "output_type": "display_data"
    },
    {
     "data": {
      "application/vnd.jupyter.widget-view+json": {
       "model_id": "6419f15ea9b2435f91404070809def0d",
       "version_major": 2,
       "version_minor": 0
      },
      "text/plain": [
       "Epoch 65/100:   0%|          | 0/88 [00:00<?, ?it/s]"
      ]
     },
     "metadata": {},
     "output_type": "display_data"
    },
    {
     "name": "stdout",
     "output_type": "stream",
     "text": [
      "\n",
      "Epoch 65: New best F1-weighted: 0.7459\n",
      "  F1-Macro: 0.7075, AUC-Macro: 0.0000, Accuracy: 0.7470\n",
      "Saving best model artifacts to C:\\Users\\PC\\Downloads\\Melspectrogram_finetune_NEW\\PestLarvaNet_AudioTwin_Run_2\\data_25.0percent\n"
     ]
    },
    {
     "data": {
      "application/vnd.jupyter.widget-view+json": {
       "model_id": "ad516cde49194c69b95a1bcb0f7e80d7",
       "version_major": 2,
       "version_minor": 0
      },
      "text/plain": [
       "Epoch 66/100:   0%|          | 0/88 [00:00<?, ?it/s]"
      ]
     },
     "metadata": {},
     "output_type": "display_data"
    },
    {
     "name": "stdout",
     "output_type": "stream",
     "text": [
      "\n",
      "Epoch 66: New best F1-weighted: 0.7493\n",
      "  F1-Macro: 0.7161, AUC-Macro: 0.0000, Accuracy: 0.7502\n",
      "Saving best model artifacts to C:\\Users\\PC\\Downloads\\Melspectrogram_finetune_NEW\\PestLarvaNet_AudioTwin_Run_2\\data_25.0percent\n"
     ]
    },
    {
     "data": {
      "application/vnd.jupyter.widget-view+json": {
       "model_id": "0f099437892d4e7d9cef2a1abe0b182e",
       "version_major": 2,
       "version_minor": 0
      },
      "text/plain": [
       "Epoch 67/100:   0%|          | 0/88 [00:00<?, ?it/s]"
      ]
     },
     "metadata": {},
     "output_type": "display_data"
    },
    {
     "data": {
      "application/vnd.jupyter.widget-view+json": {
       "model_id": "5d9a6ed79bbb48e489faa7e7c631b1ba",
       "version_major": 2,
       "version_minor": 0
      },
      "text/plain": [
       "Epoch 68/100:   0%|          | 0/88 [00:00<?, ?it/s]"
      ]
     },
     "metadata": {},
     "output_type": "display_data"
    },
    {
     "name": "stdout",
     "output_type": "stream",
     "text": [
      "\n",
      "Epoch 68: New best F1-weighted: 0.7546\n",
      "  F1-Macro: 0.7210, AUC-Macro: 0.0000, Accuracy: 0.7552\n",
      "Saving best model artifacts to C:\\Users\\PC\\Downloads\\Melspectrogram_finetune_NEW\\PestLarvaNet_AudioTwin_Run_2\\data_25.0percent\n"
     ]
    },
    {
     "data": {
      "application/vnd.jupyter.widget-view+json": {
       "model_id": "769219443710418a93ca8f8104d1eb7d",
       "version_major": 2,
       "version_minor": 0
      },
      "text/plain": [
       "Epoch 69/100:   0%|          | 0/88 [00:00<?, ?it/s]"
      ]
     },
     "metadata": {},
     "output_type": "display_data"
    },
    {
     "data": {
      "application/vnd.jupyter.widget-view+json": {
       "model_id": "7dae74f294454a1a96b05411e1e2574f",
       "version_major": 2,
       "version_minor": 0
      },
      "text/plain": [
       "Epoch 70/100:   0%|          | 0/88 [00:00<?, ?it/s]"
      ]
     },
     "metadata": {},
     "output_type": "display_data"
    },
    {
     "data": {
      "application/vnd.jupyter.widget-view+json": {
       "model_id": "2e84c377b9814034b9d993f16088aeb7",
       "version_major": 2,
       "version_minor": 0
      },
      "text/plain": [
       "Epoch 71/100:   0%|          | 0/88 [00:00<?, ?it/s]"
      ]
     },
     "metadata": {},
     "output_type": "display_data"
    },
    {
     "name": "stdout",
     "output_type": "stream",
     "text": [
      "\n",
      "Epoch 71: New best F1-weighted: 0.7576\n",
      "  F1-Macro: 0.7225, AUC-Macro: 0.0000, Accuracy: 0.7584\n",
      "Saving best model artifacts to C:\\Users\\PC\\Downloads\\Melspectrogram_finetune_NEW\\PestLarvaNet_AudioTwin_Run_2\\data_25.0percent\n"
     ]
    },
    {
     "data": {
      "application/vnd.jupyter.widget-view+json": {
       "model_id": "75c388a826fe43eb8b086fd8873d893f",
       "version_major": 2,
       "version_minor": 0
      },
      "text/plain": [
       "Epoch 72/100:   0%|          | 0/88 [00:00<?, ?it/s]"
      ]
     },
     "metadata": {},
     "output_type": "display_data"
    },
    {
     "name": "stdout",
     "output_type": "stream",
     "text": [
      "\n",
      "Epoch 72: New best F1-weighted: 0.7608\n",
      "  F1-Macro: 0.7286, AUC-Macro: 0.0000, Accuracy: 0.7619\n",
      "Saving best model artifacts to C:\\Users\\PC\\Downloads\\Melspectrogram_finetune_NEW\\PestLarvaNet_AudioTwin_Run_2\\data_25.0percent\n"
     ]
    },
    {
     "data": {
      "application/vnd.jupyter.widget-view+json": {
       "model_id": "0c4ec6286f1c41efa541ab996a62f9c8",
       "version_major": 2,
       "version_minor": 0
      },
      "text/plain": [
       "Epoch 73/100:   0%|          | 0/88 [00:00<?, ?it/s]"
      ]
     },
     "metadata": {},
     "output_type": "display_data"
    },
    {
     "name": "stdout",
     "output_type": "stream",
     "text": [
      "\n",
      "Epoch 73: New best F1-weighted: 0.7665\n",
      "  F1-Macro: 0.7341, AUC-Macro: 0.0000, Accuracy: 0.7669\n",
      "Saving best model artifacts to C:\\Users\\PC\\Downloads\\Melspectrogram_finetune_NEW\\PestLarvaNet_AudioTwin_Run_2\\data_25.0percent\n"
     ]
    },
    {
     "data": {
      "application/vnd.jupyter.widget-view+json": {
       "model_id": "e77fcb27b7ad4168973248d15dba0501",
       "version_major": 2,
       "version_minor": 0
      },
      "text/plain": [
       "Epoch 74/100:   0%|          | 0/88 [00:00<?, ?it/s]"
      ]
     },
     "metadata": {},
     "output_type": "display_data"
    },
    {
     "data": {
      "application/vnd.jupyter.widget-view+json": {
       "model_id": "a34f1d146db94753832e92baf98f5376",
       "version_major": 2,
       "version_minor": 0
      },
      "text/plain": [
       "Epoch 75/100:   0%|          | 0/88 [00:00<?, ?it/s]"
      ]
     },
     "metadata": {},
     "output_type": "display_data"
    },
    {
     "data": {
      "application/vnd.jupyter.widget-view+json": {
       "model_id": "f0816d9ec4d944749e6207cfbfc8ef8a",
       "version_major": 2,
       "version_minor": 0
      },
      "text/plain": [
       "Epoch 76/100:   0%|          | 0/88 [00:00<?, ?it/s]"
      ]
     },
     "metadata": {},
     "output_type": "display_data"
    },
    {
     "data": {
      "application/vnd.jupyter.widget-view+json": {
       "model_id": "813b70b9e1424197b59f2a8de54dd3ef",
       "version_major": 2,
       "version_minor": 0
      },
      "text/plain": [
       "Epoch 77/100:   0%|          | 0/88 [00:00<?, ?it/s]"
      ]
     },
     "metadata": {},
     "output_type": "display_data"
    },
    {
     "data": {
      "application/vnd.jupyter.widget-view+json": {
       "model_id": "dda7f2c937de4ee6a79edd5bfe9e8a6b",
       "version_major": 2,
       "version_minor": 0
      },
      "text/plain": [
       "Epoch 78/100:   0%|          | 0/88 [00:00<?, ?it/s]"
      ]
     },
     "metadata": {},
     "output_type": "display_data"
    },
    {
     "data": {
      "application/vnd.jupyter.widget-view+json": {
       "model_id": "fa39f57e20924be89d7569e6b23629c8",
       "version_major": 2,
       "version_minor": 0
      },
      "text/plain": [
       "Epoch 79/100:   0%|          | 0/88 [00:00<?, ?it/s]"
      ]
     },
     "metadata": {},
     "output_type": "display_data"
    },
    {
     "data": {
      "application/vnd.jupyter.widget-view+json": {
       "model_id": "90a49fce4e5a4659832bf743a1e28f9b",
       "version_major": 2,
       "version_minor": 0
      },
      "text/plain": [
       "Epoch 80/100:   0%|          | 0/88 [00:00<?, ?it/s]"
      ]
     },
     "metadata": {},
     "output_type": "display_data"
    },
    {
     "data": {
      "application/vnd.jupyter.widget-view+json": {
       "model_id": "9a7200a8bc8c479cb27b1f70821ba5b8",
       "version_major": 2,
       "version_minor": 0
      },
      "text/plain": [
       "Epoch 81/100:   0%|          | 0/88 [00:00<?, ?it/s]"
      ]
     },
     "metadata": {},
     "output_type": "display_data"
    },
    {
     "data": {
      "application/vnd.jupyter.widget-view+json": {
       "model_id": "a436508e0483490abd405c7846984e53",
       "version_major": 2,
       "version_minor": 0
      },
      "text/plain": [
       "Epoch 82/100:   0%|          | 0/88 [00:00<?, ?it/s]"
      ]
     },
     "metadata": {},
     "output_type": "display_data"
    },
    {
     "data": {
      "application/vnd.jupyter.widget-view+json": {
       "model_id": "01e4f3f041f14ffdba5aa4d437ac4310",
       "version_major": 2,
       "version_minor": 0
      },
      "text/plain": [
       "Epoch 83/100:   0%|          | 0/88 [00:00<?, ?it/s]"
      ]
     },
     "metadata": {},
     "output_type": "display_data"
    },
    {
     "data": {
      "application/vnd.jupyter.widget-view+json": {
       "model_id": "ecedcc5832644e15b5af5ada8c7c35ac",
       "version_major": 2,
       "version_minor": 0
      },
      "text/plain": [
       "Epoch 84/100:   0%|          | 0/88 [00:00<?, ?it/s]"
      ]
     },
     "metadata": {},
     "output_type": "display_data"
    },
    {
     "data": {
      "application/vnd.jupyter.widget-view+json": {
       "model_id": "62d8ab7e35c246d390f63294fee38884",
       "version_major": 2,
       "version_minor": 0
      },
      "text/plain": [
       "Epoch 85/100:   0%|          | 0/88 [00:00<?, ?it/s]"
      ]
     },
     "metadata": {},
     "output_type": "display_data"
    },
    {
     "data": {
      "application/vnd.jupyter.widget-view+json": {
       "model_id": "a13dad882d6f4b4bad61c9f10530572d",
       "version_major": 2,
       "version_minor": 0
      },
      "text/plain": [
       "Epoch 86/100:   0%|          | 0/88 [00:00<?, ?it/s]"
      ]
     },
     "metadata": {},
     "output_type": "display_data"
    },
    {
     "name": "stdout",
     "output_type": "stream",
     "text": [
      "\n",
      "Epoch 86: New best F1-weighted: 0.7673\n",
      "  F1-Macro: 0.7353, AUC-Macro: 0.0000, Accuracy: 0.7690\n",
      "Saving best model artifacts to C:\\Users\\PC\\Downloads\\Melspectrogram_finetune_NEW\\PestLarvaNet_AudioTwin_Run_2\\data_25.0percent\n"
     ]
    },
    {
     "data": {
      "application/vnd.jupyter.widget-view+json": {
       "model_id": "cf38738db7c34e9b845c148283f81d84",
       "version_major": 2,
       "version_minor": 0
      },
      "text/plain": [
       "Epoch 87/100:   0%|          | 0/88 [00:00<?, ?it/s]"
      ]
     },
     "metadata": {},
     "output_type": "display_data"
    },
    {
     "data": {
      "application/vnd.jupyter.widget-view+json": {
       "model_id": "7930a8931b374452ac246f312fd14136",
       "version_major": 2,
       "version_minor": 0
      },
      "text/plain": [
       "Epoch 88/100:   0%|          | 0/88 [00:00<?, ?it/s]"
      ]
     },
     "metadata": {},
     "output_type": "display_data"
    },
    {
     "name": "stdout",
     "output_type": "stream",
     "text": [
      "\n",
      "Epoch 88: New best F1-weighted: 0.7689\n",
      "  F1-Macro: 0.7389, AUC-Macro: 0.0000, Accuracy: 0.7694\n",
      "Saving best model artifacts to C:\\Users\\PC\\Downloads\\Melspectrogram_finetune_NEW\\PestLarvaNet_AudioTwin_Run_2\\data_25.0percent\n"
     ]
    },
    {
     "data": {
      "application/vnd.jupyter.widget-view+json": {
       "model_id": "161b6501746849eeb9ed8e1e1345e9f3",
       "version_major": 2,
       "version_minor": 0
      },
      "text/plain": [
       "Epoch 89/100:   0%|          | 0/88 [00:00<?, ?it/s]"
      ]
     },
     "metadata": {},
     "output_type": "display_data"
    },
    {
     "data": {
      "application/vnd.jupyter.widget-view+json": {
       "model_id": "5be83236adad44b5961ed2c25527b3de",
       "version_major": 2,
       "version_minor": 0
      },
      "text/plain": [
       "Epoch 90/100:   0%|          | 0/88 [00:00<?, ?it/s]"
      ]
     },
     "metadata": {},
     "output_type": "display_data"
    },
    {
     "name": "stdout",
     "output_type": "stream",
     "text": [
      "\n",
      "Epoch 90: New best F1-weighted: 0.7731\n",
      "  F1-Macro: 0.7433, AUC-Macro: 0.0000, Accuracy: 0.7737\n",
      "Saving best model artifacts to C:\\Users\\PC\\Downloads\\Melspectrogram_finetune_NEW\\PestLarvaNet_AudioTwin_Run_2\\data_25.0percent\n"
     ]
    },
    {
     "data": {
      "application/vnd.jupyter.widget-view+json": {
       "model_id": "c700f1aa908f4ab9806ba7ca1e1b745c",
       "version_major": 2,
       "version_minor": 0
      },
      "text/plain": [
       "Epoch 91/100:   0%|          | 0/88 [00:00<?, ?it/s]"
      ]
     },
     "metadata": {},
     "output_type": "display_data"
    },
    {
     "data": {
      "application/vnd.jupyter.widget-view+json": {
       "model_id": "42132026b4fe403ba58c09c370c2b5a7",
       "version_major": 2,
       "version_minor": 0
      },
      "text/plain": [
       "Epoch 92/100:   0%|          | 0/88 [00:00<?, ?it/s]"
      ]
     },
     "metadata": {},
     "output_type": "display_data"
    },
    {
     "data": {
      "application/vnd.jupyter.widget-view+json": {
       "model_id": "2df9f2a9cd434ad6aaf359b4bc7c8637",
       "version_major": 2,
       "version_minor": 0
      },
      "text/plain": [
       "Epoch 93/100:   0%|          | 0/88 [00:00<?, ?it/s]"
      ]
     },
     "metadata": {},
     "output_type": "display_data"
    },
    {
     "data": {
      "application/vnd.jupyter.widget-view+json": {
       "model_id": "add8262d7322433086b457ec3430cb05",
       "version_major": 2,
       "version_minor": 0
      },
      "text/plain": [
       "Epoch 94/100:   0%|          | 0/88 [00:00<?, ?it/s]"
      ]
     },
     "metadata": {},
     "output_type": "display_data"
    },
    {
     "data": {
      "application/vnd.jupyter.widget-view+json": {
       "model_id": "c41031fecdc046699dd12a65b2af2cbc",
       "version_major": 2,
       "version_minor": 0
      },
      "text/plain": [
       "Epoch 95/100:   0%|          | 0/88 [00:00<?, ?it/s]"
      ]
     },
     "metadata": {},
     "output_type": "display_data"
    },
    {
     "data": {
      "application/vnd.jupyter.widget-view+json": {
       "model_id": "b3dbc2085f4746eb80767db52f0c5232",
       "version_major": 2,
       "version_minor": 0
      },
      "text/plain": [
       "Epoch 96/100:   0%|          | 0/88 [00:00<?, ?it/s]"
      ]
     },
     "metadata": {},
     "output_type": "display_data"
    },
    {
     "data": {
      "application/vnd.jupyter.widget-view+json": {
       "model_id": "e32858392c4b48f184be9ea0369cdd26",
       "version_major": 2,
       "version_minor": 0
      },
      "text/plain": [
       "Epoch 97/100:   0%|          | 0/88 [00:00<?, ?it/s]"
      ]
     },
     "metadata": {},
     "output_type": "display_data"
    },
    {
     "data": {
      "application/vnd.jupyter.widget-view+json": {
       "model_id": "9644788c622344a8b0fcb7abb4d53f95",
       "version_major": 2,
       "version_minor": 0
      },
      "text/plain": [
       "Epoch 98/100:   0%|          | 0/88 [00:00<?, ?it/s]"
      ]
     },
     "metadata": {},
     "output_type": "display_data"
    },
    {
     "data": {
      "application/vnd.jupyter.widget-view+json": {
       "model_id": "8c3ebc13fc12484d80e81f55091a1d70",
       "version_major": 2,
       "version_minor": 0
      },
      "text/plain": [
       "Epoch 99/100:   0%|          | 0/88 [00:00<?, ?it/s]"
      ]
     },
     "metadata": {},
     "output_type": "display_data"
    },
    {
     "data": {
      "application/vnd.jupyter.widget-view+json": {
       "model_id": "7d3401e863364f83ab1adfceebbf0236",
       "version_major": 2,
       "version_minor": 0
      },
      "text/plain": [
       "Epoch 100/100:   0%|          | 0/88 [00:00<?, ?it/s]"
      ]
     },
     "metadata": {},
     "output_type": "display_data"
    },
    {
     "name": "stdout",
     "output_type": "stream",
     "text": [
      "Finished Training for this run. Best F1-weighted: 0.7731\n",
      "==> Results with 25.0% data: Best F1-Weighted = 0.7731\n",
      "--- Training with 50.0% of labeled data ---\n",
      "Loading pretrained weights from: C:\\Users\\PC\\PestLarvaNet\\SSL\\audiotwin_checkpoints_medium\\Final checkpoint\\run_2_lp5e-04_ep1e-06_lb0.003_audiotwin_pestlarvanet_medium_epoch_100.pth\n"
     ]
    },
    {
     "name": "stderr",
     "output_type": "stream",
     "text": [
      "C:\\Users\\PC\\anaconda3\\envs\\FallDeteNet\\lib\\site-packages\\torch\\optim\\lr_scheduler.py:62: UserWarning: The verbose parameter is deprecated. Please use get_last_lr() to access the learning rate.\n",
      "  warnings.warn(\n"
     ]
    },
    {
     "data": {
      "application/vnd.jupyter.widget-view+json": {
       "model_id": "f5ec6a3cc6f64b8498b25d79d722689a",
       "version_major": 2,
       "version_minor": 0
      },
      "text/plain": [
       "Epoch 1/100:   0%|          | 0/176 [00:00<?, ?it/s]"
      ]
     },
     "metadata": {},
     "output_type": "display_data"
    },
    {
     "name": "stdout",
     "output_type": "stream",
     "text": [
      "\n",
      "Epoch 1: New best F1-weighted: 0.3251\n",
      "  F1-Macro: 0.2769, AUC-Macro: 0.0000, Accuracy: 0.4302\n",
      "Saving best model artifacts to C:\\Users\\PC\\Downloads\\Melspectrogram_finetune_NEW\\PestLarvaNet_AudioTwin_Run_2\\data_50.0percent\n"
     ]
    },
    {
     "data": {
      "application/vnd.jupyter.widget-view+json": {
       "model_id": "49f08eb587d149b3800770b72b944120",
       "version_major": 2,
       "version_minor": 0
      },
      "text/plain": [
       "Epoch 2/100:   0%|          | 0/176 [00:00<?, ?it/s]"
      ]
     },
     "metadata": {},
     "output_type": "display_data"
    },
    {
     "name": "stdout",
     "output_type": "stream",
     "text": [
      "\n",
      "Epoch 2: New best F1-weighted: 0.4914\n",
      "  F1-Macro: 0.4217, AUC-Macro: 0.0000, Accuracy: 0.5573\n",
      "Saving best model artifacts to C:\\Users\\PC\\Downloads\\Melspectrogram_finetune_NEW\\PestLarvaNet_AudioTwin_Run_2\\data_50.0percent\n"
     ]
    },
    {
     "data": {
      "application/vnd.jupyter.widget-view+json": {
       "model_id": "e515f82946824958b51f15f76f655b76",
       "version_major": 2,
       "version_minor": 0
      },
      "text/plain": [
       "Epoch 3/100:   0%|          | 0/176 [00:00<?, ?it/s]"
      ]
     },
     "metadata": {},
     "output_type": "display_data"
    },
    {
     "name": "stdout",
     "output_type": "stream",
     "text": [
      "\n",
      "Epoch 3: New best F1-weighted: 0.5139\n",
      "  F1-Macro: 0.4389, AUC-Macro: 0.0000, Accuracy: 0.5722\n",
      "Saving best model artifacts to C:\\Users\\PC\\Downloads\\Melspectrogram_finetune_NEW\\PestLarvaNet_AudioTwin_Run_2\\data_50.0percent\n"
     ]
    },
    {
     "data": {
      "application/vnd.jupyter.widget-view+json": {
       "model_id": "28207508a1fb487595d6234a0b9d04ae",
       "version_major": 2,
       "version_minor": 0
      },
      "text/plain": [
       "Epoch 4/100:   0%|          | 0/176 [00:00<?, ?it/s]"
      ]
     },
     "metadata": {},
     "output_type": "display_data"
    },
    {
     "name": "stdout",
     "output_type": "stream",
     "text": [
      "\n",
      "Epoch 4: New best F1-weighted: 0.5167\n",
      "  F1-Macro: 0.4374, AUC-Macro: 0.0000, Accuracy: 0.5715\n",
      "Saving best model artifacts to C:\\Users\\PC\\Downloads\\Melspectrogram_finetune_NEW\\PestLarvaNet_AudioTwin_Run_2\\data_50.0percent\n"
     ]
    },
    {
     "data": {
      "application/vnd.jupyter.widget-view+json": {
       "model_id": "1f066333fdf249ceb5c1a33f987d30ce",
       "version_major": 2,
       "version_minor": 0
      },
      "text/plain": [
       "Epoch 5/100:   0%|          | 0/176 [00:00<?, ?it/s]"
      ]
     },
     "metadata": {},
     "output_type": "display_data"
    },
    {
     "data": {
      "application/vnd.jupyter.widget-view+json": {
       "model_id": "16965d14584f4dddb319ad925fe9394c",
       "version_major": 2,
       "version_minor": 0
      },
      "text/plain": [
       "Epoch 6/100:   0%|          | 0/176 [00:00<?, ?it/s]"
      ]
     },
     "metadata": {},
     "output_type": "display_data"
    },
    {
     "data": {
      "application/vnd.jupyter.widget-view+json": {
       "model_id": "93703ae7d0a341039b3943fea27504a5",
       "version_major": 2,
       "version_minor": 0
      },
      "text/plain": [
       "Epoch 7/100:   0%|          | 0/176 [00:00<?, ?it/s]"
      ]
     },
     "metadata": {},
     "output_type": "display_data"
    },
    {
     "name": "stdout",
     "output_type": "stream",
     "text": [
      "\n",
      "Epoch 7: New best F1-weighted: 0.5358\n",
      "  F1-Macro: 0.4530, AUC-Macro: 0.0000, Accuracy: 0.5808\n",
      "Saving best model artifacts to C:\\Users\\PC\\Downloads\\Melspectrogram_finetune_NEW\\PestLarvaNet_AudioTwin_Run_2\\data_50.0percent\n"
     ]
    },
    {
     "data": {
      "application/vnd.jupyter.widget-view+json": {
       "model_id": "70763f3274ad4cf091c6e9dde74311d1",
       "version_major": 2,
       "version_minor": 0
      },
      "text/plain": [
       "Epoch 8/100:   0%|          | 0/176 [00:00<?, ?it/s]"
      ]
     },
     "metadata": {},
     "output_type": "display_data"
    },
    {
     "name": "stdout",
     "output_type": "stream",
     "text": [
      "\n",
      "Epoch 8: New best F1-weighted: 0.5678\n",
      "  F1-Macro: 0.4911, AUC-Macro: 0.0000, Accuracy: 0.5957\n",
      "Saving best model artifacts to C:\\Users\\PC\\Downloads\\Melspectrogram_finetune_NEW\\PestLarvaNet_AudioTwin_Run_2\\data_50.0percent\n"
     ]
    },
    {
     "data": {
      "application/vnd.jupyter.widget-view+json": {
       "model_id": "08d9ddfb02f94cde90739439e070be78",
       "version_major": 2,
       "version_minor": 0
      },
      "text/plain": [
       "Epoch 9/100:   0%|          | 0/176 [00:00<?, ?it/s]"
      ]
     },
     "metadata": {},
     "output_type": "display_data"
    },
    {
     "data": {
      "application/vnd.jupyter.widget-view+json": {
       "model_id": "d7b6c3de3e3a40958adae12873b3eeb9",
       "version_major": 2,
       "version_minor": 0
      },
      "text/plain": [
       "Epoch 10/100:   0%|          | 0/176 [00:00<?, ?it/s]"
      ]
     },
     "metadata": {},
     "output_type": "display_data"
    },
    {
     "data": {
      "application/vnd.jupyter.widget-view+json": {
       "model_id": "d98c99984b1e4054846271b410e5d872",
       "version_major": 2,
       "version_minor": 0
      },
      "text/plain": [
       "Epoch 11/100:   0%|          | 0/176 [00:00<?, ?it/s]"
      ]
     },
     "metadata": {},
     "output_type": "display_data"
    },
    {
     "data": {
      "application/vnd.jupyter.widget-view+json": {
       "model_id": "83eb84aa784d440f8d6058d932ac3804",
       "version_major": 2,
       "version_minor": 0
      },
      "text/plain": [
       "Epoch 12/100:   0%|          | 0/176 [00:00<?, ?it/s]"
      ]
     },
     "metadata": {},
     "output_type": "display_data"
    },
    {
     "data": {
      "application/vnd.jupyter.widget-view+json": {
       "model_id": "f702ca9fa0de45a29fb91be529f7a549",
       "version_major": 2,
       "version_minor": 0
      },
      "text/plain": [
       "Epoch 13/100:   0%|          | 0/176 [00:00<?, ?it/s]"
      ]
     },
     "metadata": {},
     "output_type": "display_data"
    },
    {
     "name": "stdout",
     "output_type": "stream",
     "text": [
      "\n",
      "Epoch 13: New best F1-weighted: 0.5892\n",
      "  F1-Macro: 0.5169, AUC-Macro: 0.0000, Accuracy: 0.6185\n",
      "Saving best model artifacts to C:\\Users\\PC\\Downloads\\Melspectrogram_finetune_NEW\\PestLarvaNet_AudioTwin_Run_2\\data_50.0percent\n"
     ]
    },
    {
     "data": {
      "application/vnd.jupyter.widget-view+json": {
       "model_id": "8cb33ee07cdc4fa68a5d8d1c1eeaf9bb",
       "version_major": 2,
       "version_minor": 0
      },
      "text/plain": [
       "Epoch 14/100:   0%|          | 0/176 [00:00<?, ?it/s]"
      ]
     },
     "metadata": {},
     "output_type": "display_data"
    },
    {
     "name": "stdout",
     "output_type": "stream",
     "text": [
      "\n",
      "Epoch 14: New best F1-weighted: 0.5921\n",
      "  F1-Macro: 0.5222, AUC-Macro: 0.0000, Accuracy: 0.6231\n",
      "Saving best model artifacts to C:\\Users\\PC\\Downloads\\Melspectrogram_finetune_NEW\\PestLarvaNet_AudioTwin_Run_2\\data_50.0percent\n"
     ]
    },
    {
     "data": {
      "application/vnd.jupyter.widget-view+json": {
       "model_id": "ca9aa6ffa4684c9e9c8778941ccf4305",
       "version_major": 2,
       "version_minor": 0
      },
      "text/plain": [
       "Epoch 15/100:   0%|          | 0/176 [00:00<?, ?it/s]"
      ]
     },
     "metadata": {},
     "output_type": "display_data"
    },
    {
     "name": "stdout",
     "output_type": "stream",
     "text": [
      "\n",
      "Epoch 15: New best F1-weighted: 0.6071\n",
      "  F1-Macro: 0.5585, AUC-Macro: 0.0000, Accuracy: 0.6171\n",
      "Saving best model artifacts to C:\\Users\\PC\\Downloads\\Melspectrogram_finetune_NEW\\PestLarvaNet_AudioTwin_Run_2\\data_50.0percent\n"
     ]
    },
    {
     "data": {
      "application/vnd.jupyter.widget-view+json": {
       "model_id": "0ba46466b15b4de9a939aaffce5c2ad6",
       "version_major": 2,
       "version_minor": 0
      },
      "text/plain": [
       "Epoch 16/100:   0%|          | 0/176 [00:00<?, ?it/s]"
      ]
     },
     "metadata": {},
     "output_type": "display_data"
    },
    {
     "data": {
      "application/vnd.jupyter.widget-view+json": {
       "model_id": "ce6be31bfc044771a2c9a0c145b7d307",
       "version_major": 2,
       "version_minor": 0
      },
      "text/plain": [
       "Epoch 17/100:   0%|          | 0/176 [00:00<?, ?it/s]"
      ]
     },
     "metadata": {},
     "output_type": "display_data"
    },
    {
     "data": {
      "application/vnd.jupyter.widget-view+json": {
       "model_id": "8e265076ee5f495087c22475957f1e45",
       "version_major": 2,
       "version_minor": 0
      },
      "text/plain": [
       "Epoch 18/100:   0%|          | 0/176 [00:00<?, ?it/s]"
      ]
     },
     "metadata": {},
     "output_type": "display_data"
    },
    {
     "data": {
      "application/vnd.jupyter.widget-view+json": {
       "model_id": "3f8d8110ad554290bea2ba1ad7d6e9ab",
       "version_major": 2,
       "version_minor": 0
      },
      "text/plain": [
       "Epoch 19/100:   0%|          | 0/176 [00:00<?, ?it/s]"
      ]
     },
     "metadata": {},
     "output_type": "display_data"
    },
    {
     "data": {
      "application/vnd.jupyter.widget-view+json": {
       "model_id": "8e4674045b264f3b852d173d4893c9ba",
       "version_major": 2,
       "version_minor": 0
      },
      "text/plain": [
       "Epoch 20/100:   0%|          | 0/176 [00:00<?, ?it/s]"
      ]
     },
     "metadata": {},
     "output_type": "display_data"
    },
    {
     "data": {
      "application/vnd.jupyter.widget-view+json": {
       "model_id": "a1e7347e4c62493b88e48d67d6fd37bc",
       "version_major": 2,
       "version_minor": 0
      },
      "text/plain": [
       "Epoch 21/100:   0%|          | 0/176 [00:00<?, ?it/s]"
      ]
     },
     "metadata": {},
     "output_type": "display_data"
    },
    {
     "name": "stdout",
     "output_type": "stream",
     "text": [
      "\n",
      "Epoch 21: New best F1-weighted: 0.6303\n",
      "  F1-Macro: 0.5755, AUC-Macro: 0.0000, Accuracy: 0.6377\n",
      "Saving best model artifacts to C:\\Users\\PC\\Downloads\\Melspectrogram_finetune_NEW\\PestLarvaNet_AudioTwin_Run_2\\data_50.0percent\n"
     ]
    },
    {
     "data": {
      "application/vnd.jupyter.widget-view+json": {
       "model_id": "86e6823706df4b7cab4377a4f2073f10",
       "version_major": 2,
       "version_minor": 0
      },
      "text/plain": [
       "Epoch 22/100:   0%|          | 0/176 [00:00<?, ?it/s]"
      ]
     },
     "metadata": {},
     "output_type": "display_data"
    },
    {
     "data": {
      "application/vnd.jupyter.widget-view+json": {
       "model_id": "c6c0bdf5691a40c0b4f39d9e1b06a2b1",
       "version_major": 2,
       "version_minor": 0
      },
      "text/plain": [
       "Epoch 23/100:   0%|          | 0/176 [00:00<?, ?it/s]"
      ]
     },
     "metadata": {},
     "output_type": "display_data"
    },
    {
     "name": "stdout",
     "output_type": "stream",
     "text": [
      "\n",
      "Epoch 23: New best F1-weighted: 0.6380\n",
      "  F1-Macro: 0.5828, AUC-Macro: 0.0000, Accuracy: 0.6505\n",
      "Saving best model artifacts to C:\\Users\\PC\\Downloads\\Melspectrogram_finetune_NEW\\PestLarvaNet_AudioTwin_Run_2\\data_50.0percent\n"
     ]
    },
    {
     "data": {
      "application/vnd.jupyter.widget-view+json": {
       "model_id": "6751f8d88441457496f230007a34af62",
       "version_major": 2,
       "version_minor": 0
      },
      "text/plain": [
       "Epoch 24/100:   0%|          | 0/176 [00:00<?, ?it/s]"
      ]
     },
     "metadata": {},
     "output_type": "display_data"
    },
    {
     "data": {
      "application/vnd.jupyter.widget-view+json": {
       "model_id": "8646561f92b54e77b964a6aec8ef6e63",
       "version_major": 2,
       "version_minor": 0
      },
      "text/plain": [
       "Epoch 25/100:   0%|          | 0/176 [00:00<?, ?it/s]"
      ]
     },
     "metadata": {},
     "output_type": "display_data"
    },
    {
     "data": {
      "application/vnd.jupyter.widget-view+json": {
       "model_id": "7e6cfb8591ed495abcfa41d989db1136",
       "version_major": 2,
       "version_minor": 0
      },
      "text/plain": [
       "Epoch 26/100:   0%|          | 0/176 [00:00<?, ?it/s]"
      ]
     },
     "metadata": {},
     "output_type": "display_data"
    },
    {
     "data": {
      "application/vnd.jupyter.widget-view+json": {
       "model_id": "272d1380293c4475bd5e5ddee6958da1",
       "version_major": 2,
       "version_minor": 0
      },
      "text/plain": [
       "Epoch 27/100:   0%|          | 0/176 [00:00<?, ?it/s]"
      ]
     },
     "metadata": {},
     "output_type": "display_data"
    },
    {
     "name": "stdout",
     "output_type": "stream",
     "text": [
      "\n",
      "Epoch 27: New best F1-weighted: 0.6515\n",
      "  F1-Macro: 0.6028, AUC-Macro: 0.0000, Accuracy: 0.6651\n",
      "Saving best model artifacts to C:\\Users\\PC\\Downloads\\Melspectrogram_finetune_NEW\\PestLarvaNet_AudioTwin_Run_2\\data_50.0percent\n"
     ]
    },
    {
     "data": {
      "application/vnd.jupyter.widget-view+json": {
       "model_id": "ed579cb402a644b7839062b8f7b5d5c5",
       "version_major": 2,
       "version_minor": 0
      },
      "text/plain": [
       "Epoch 28/100:   0%|          | 0/176 [00:00<?, ?it/s]"
      ]
     },
     "metadata": {},
     "output_type": "display_data"
    },
    {
     "name": "stdout",
     "output_type": "stream",
     "text": [
      "\n",
      "Epoch 28: New best F1-weighted: 0.6799\n",
      "  F1-Macro: 0.6458, AUC-Macro: 0.0000, Accuracy: 0.6772\n",
      "Saving best model artifacts to C:\\Users\\PC\\Downloads\\Melspectrogram_finetune_NEW\\PestLarvaNet_AudioTwin_Run_2\\data_50.0percent\n"
     ]
    },
    {
     "data": {
      "application/vnd.jupyter.widget-view+json": {
       "model_id": "94e450816379499fa7e9a8520c5bb473",
       "version_major": 2,
       "version_minor": 0
      },
      "text/plain": [
       "Epoch 29/100:   0%|          | 0/176 [00:00<?, ?it/s]"
      ]
     },
     "metadata": {},
     "output_type": "display_data"
    },
    {
     "data": {
      "application/vnd.jupyter.widget-view+json": {
       "model_id": "e3ac58957e674d76b43f4846e6fe6d90",
       "version_major": 2,
       "version_minor": 0
      },
      "text/plain": [
       "Epoch 30/100:   0%|          | 0/176 [00:00<?, ?it/s]"
      ]
     },
     "metadata": {},
     "output_type": "display_data"
    },
    {
     "data": {
      "application/vnd.jupyter.widget-view+json": {
       "model_id": "aab635144896405c96d73e4360eb14db",
       "version_major": 2,
       "version_minor": 0
      },
      "text/plain": [
       "Epoch 31/100:   0%|          | 0/176 [00:00<?, ?it/s]"
      ]
     },
     "metadata": {},
     "output_type": "display_data"
    },
    {
     "name": "stdout",
     "output_type": "stream",
     "text": [
      "\n",
      "Epoch 31: New best F1-weighted: 0.6875\n",
      "  F1-Macro: 0.6391, AUC-Macro: 0.0000, Accuracy: 0.6996\n",
      "Saving best model artifacts to C:\\Users\\PC\\Downloads\\Melspectrogram_finetune_NEW\\PestLarvaNet_AudioTwin_Run_2\\data_50.0percent\n"
     ]
    },
    {
     "data": {
      "application/vnd.jupyter.widget-view+json": {
       "model_id": "daf5f6243b574213b9361a19649ccbdf",
       "version_major": 2,
       "version_minor": 0
      },
      "text/plain": [
       "Epoch 32/100:   0%|          | 0/176 [00:00<?, ?it/s]"
      ]
     },
     "metadata": {},
     "output_type": "display_data"
    },
    {
     "name": "stdout",
     "output_type": "stream",
     "text": [
      "\n",
      "Epoch 32: New best F1-weighted: 0.7036\n",
      "  F1-Macro: 0.6692, AUC-Macro: 0.0000, Accuracy: 0.7064\n",
      "Saving best model artifacts to C:\\Users\\PC\\Downloads\\Melspectrogram_finetune_NEW\\PestLarvaNet_AudioTwin_Run_2\\data_50.0percent\n"
     ]
    },
    {
     "data": {
      "application/vnd.jupyter.widget-view+json": {
       "model_id": "7d872986c1b54a49a5cacb428315f11c",
       "version_major": 2,
       "version_minor": 0
      },
      "text/plain": [
       "Epoch 33/100:   0%|          | 0/176 [00:00<?, ?it/s]"
      ]
     },
     "metadata": {},
     "output_type": "display_data"
    },
    {
     "data": {
      "application/vnd.jupyter.widget-view+json": {
       "model_id": "d26f957d4c2e48c2b4f8c78a8175ea5d",
       "version_major": 2,
       "version_minor": 0
      },
      "text/plain": [
       "Epoch 34/100:   0%|          | 0/176 [00:00<?, ?it/s]"
      ]
     },
     "metadata": {},
     "output_type": "display_data"
    },
    {
     "data": {
      "application/vnd.jupyter.widget-view+json": {
       "model_id": "73129f5cf35141ffbeca5945d69527ee",
       "version_major": 2,
       "version_minor": 0
      },
      "text/plain": [
       "Epoch 35/100:   0%|          | 0/176 [00:00<?, ?it/s]"
      ]
     },
     "metadata": {},
     "output_type": "display_data"
    },
    {
     "data": {
      "application/vnd.jupyter.widget-view+json": {
       "model_id": "0b81f66a1ade4fea9760132b44d155db",
       "version_major": 2,
       "version_minor": 0
      },
      "text/plain": [
       "Epoch 36/100:   0%|          | 0/176 [00:00<?, ?it/s]"
      ]
     },
     "metadata": {},
     "output_type": "display_data"
    },
    {
     "name": "stdout",
     "output_type": "stream",
     "text": [
      "\n",
      "Epoch 36: New best F1-weighted: 0.7066\n",
      "  F1-Macro: 0.6733, AUC-Macro: 0.0000, Accuracy: 0.7121\n",
      "Saving best model artifacts to C:\\Users\\PC\\Downloads\\Melspectrogram_finetune_NEW\\PestLarvaNet_AudioTwin_Run_2\\data_50.0percent\n"
     ]
    },
    {
     "data": {
      "application/vnd.jupyter.widget-view+json": {
       "model_id": "5552d77c46a4476290b9231028ec1352",
       "version_major": 2,
       "version_minor": 0
      },
      "text/plain": [
       "Epoch 37/100:   0%|          | 0/176 [00:00<?, ?it/s]"
      ]
     },
     "metadata": {},
     "output_type": "display_data"
    },
    {
     "data": {
      "application/vnd.jupyter.widget-view+json": {
       "model_id": "9c613d9a96c44d9b836368bdfe7d12d2",
       "version_major": 2,
       "version_minor": 0
      },
      "text/plain": [
       "Epoch 38/100:   0%|          | 0/176 [00:00<?, ?it/s]"
      ]
     },
     "metadata": {},
     "output_type": "display_data"
    },
    {
     "name": "stdout",
     "output_type": "stream",
     "text": [
      "\n",
      "Epoch 38: New best F1-weighted: 0.7096\n",
      "  F1-Macro: 0.6736, AUC-Macro: 0.0000, Accuracy: 0.7132\n",
      "Saving best model artifacts to C:\\Users\\PC\\Downloads\\Melspectrogram_finetune_NEW\\PestLarvaNet_AudioTwin_Run_2\\data_50.0percent\n"
     ]
    },
    {
     "data": {
      "application/vnd.jupyter.widget-view+json": {
       "model_id": "5110f6501add49a3a9be61119aebd8da",
       "version_major": 2,
       "version_minor": 0
      },
      "text/plain": [
       "Epoch 39/100:   0%|          | 0/176 [00:00<?, ?it/s]"
      ]
     },
     "metadata": {},
     "output_type": "display_data"
    },
    {
     "data": {
      "application/vnd.jupyter.widget-view+json": {
       "model_id": "b93668c0031748728b1e076c14d0f97c",
       "version_major": 2,
       "version_minor": 0
      },
      "text/plain": [
       "Epoch 40/100:   0%|          | 0/176 [00:00<?, ?it/s]"
      ]
     },
     "metadata": {},
     "output_type": "display_data"
    },
    {
     "name": "stdout",
     "output_type": "stream",
     "text": [
      "\n",
      "Epoch 40: New best F1-weighted: 0.7110\n",
      "  F1-Macro: 0.6770, AUC-Macro: 0.0000, Accuracy: 0.7107\n",
      "Saving best model artifacts to C:\\Users\\PC\\Downloads\\Melspectrogram_finetune_NEW\\PestLarvaNet_AudioTwin_Run_2\\data_50.0percent\n"
     ]
    },
    {
     "data": {
      "application/vnd.jupyter.widget-view+json": {
       "model_id": "401099c8a16d4a79b64d40082e972e45",
       "version_major": 2,
       "version_minor": 0
      },
      "text/plain": [
       "Epoch 41/100:   0%|          | 0/176 [00:00<?, ?it/s]"
      ]
     },
     "metadata": {},
     "output_type": "display_data"
    },
    {
     "name": "stdout",
     "output_type": "stream",
     "text": [
      "\n",
      "Epoch 41: New best F1-weighted: 0.7333\n",
      "  F1-Macro: 0.7009, AUC-Macro: 0.0000, Accuracy: 0.7331\n",
      "Saving best model artifacts to C:\\Users\\PC\\Downloads\\Melspectrogram_finetune_NEW\\PestLarvaNet_AudioTwin_Run_2\\data_50.0percent\n"
     ]
    },
    {
     "data": {
      "application/vnd.jupyter.widget-view+json": {
       "model_id": "62c8a91248e14d27adbacf2497998fc1",
       "version_major": 2,
       "version_minor": 0
      },
      "text/plain": [
       "Epoch 42/100:   0%|          | 0/176 [00:00<?, ?it/s]"
      ]
     },
     "metadata": {},
     "output_type": "display_data"
    },
    {
     "data": {
      "application/vnd.jupyter.widget-view+json": {
       "model_id": "e2ad57ffa6844be387896e8b1d93fe88",
       "version_major": 2,
       "version_minor": 0
      },
      "text/plain": [
       "Epoch 43/100:   0%|          | 0/176 [00:00<?, ?it/s]"
      ]
     },
     "metadata": {},
     "output_type": "display_data"
    },
    {
     "data": {
      "application/vnd.jupyter.widget-view+json": {
       "model_id": "3474ca2e9d904baeb6a5fc6bdcdd210e",
       "version_major": 2,
       "version_minor": 0
      },
      "text/plain": [
       "Epoch 44/100:   0%|          | 0/176 [00:00<?, ?it/s]"
      ]
     },
     "metadata": {},
     "output_type": "display_data"
    },
    {
     "data": {
      "application/vnd.jupyter.widget-view+json": {
       "model_id": "8e49a4314d714b6389d67d7158d8384d",
       "version_major": 2,
       "version_minor": 0
      },
      "text/plain": [
       "Epoch 45/100:   0%|          | 0/176 [00:00<?, ?it/s]"
      ]
     },
     "metadata": {},
     "output_type": "display_data"
    },
    {
     "data": {
      "application/vnd.jupyter.widget-view+json": {
       "model_id": "6fc45ee38fcd4b9aa6eab0e165111dbe",
       "version_major": 2,
       "version_minor": 0
      },
      "text/plain": [
       "Epoch 46/100:   0%|          | 0/176 [00:00<?, ?it/s]"
      ]
     },
     "metadata": {},
     "output_type": "display_data"
    },
    {
     "data": {
      "application/vnd.jupyter.widget-view+json": {
       "model_id": "fee26825c06d4af0a49335e1c5b114b1",
       "version_major": 2,
       "version_minor": 0
      },
      "text/plain": [
       "Epoch 47/100:   0%|          | 0/176 [00:00<?, ?it/s]"
      ]
     },
     "metadata": {},
     "output_type": "display_data"
    },
    {
     "data": {
      "application/vnd.jupyter.widget-view+json": {
       "model_id": "114665a3983547a381e384abc817bcf9",
       "version_major": 2,
       "version_minor": 0
      },
      "text/plain": [
       "Epoch 48/100:   0%|          | 0/176 [00:00<?, ?it/s]"
      ]
     },
     "metadata": {},
     "output_type": "display_data"
    },
    {
     "name": "stdout",
     "output_type": "stream",
     "text": [
      "\n",
      "Epoch 48: New best F1-weighted: 0.7610\n",
      "  F1-Macro: 0.7324, AUC-Macro: 0.0000, Accuracy: 0.7619\n",
      "Saving best model artifacts to C:\\Users\\PC\\Downloads\\Melspectrogram_finetune_NEW\\PestLarvaNet_AudioTwin_Run_2\\data_50.0percent\n"
     ]
    },
    {
     "data": {
      "application/vnd.jupyter.widget-view+json": {
       "model_id": "2ae793e7ea534ac9ab063383500a92b1",
       "version_major": 2,
       "version_minor": 0
      },
      "text/plain": [
       "Epoch 49/100:   0%|          | 0/176 [00:00<?, ?it/s]"
      ]
     },
     "metadata": {},
     "output_type": "display_data"
    },
    {
     "name": "stdout",
     "output_type": "stream",
     "text": [
      "\n",
      "Epoch 49: New best F1-weighted: 0.7611\n",
      "  F1-Macro: 0.7287, AUC-Macro: 0.0000, Accuracy: 0.7641\n",
      "Saving best model artifacts to C:\\Users\\PC\\Downloads\\Melspectrogram_finetune_NEW\\PestLarvaNet_AudioTwin_Run_2\\data_50.0percent\n"
     ]
    },
    {
     "data": {
      "application/vnd.jupyter.widget-view+json": {
       "model_id": "c84a6e7c186544e98d238b6d65cae226",
       "version_major": 2,
       "version_minor": 0
      },
      "text/plain": [
       "Epoch 50/100:   0%|          | 0/176 [00:00<?, ?it/s]"
      ]
     },
     "metadata": {},
     "output_type": "display_data"
    },
    {
     "name": "stdout",
     "output_type": "stream",
     "text": [
      "\n",
      "Epoch 50: New best F1-weighted: 0.7621\n",
      "  F1-Macro: 0.7353, AUC-Macro: 0.0000, Accuracy: 0.7662\n",
      "Saving best model artifacts to C:\\Users\\PC\\Downloads\\Melspectrogram_finetune_NEW\\PestLarvaNet_AudioTwin_Run_2\\data_50.0percent\n"
     ]
    },
    {
     "data": {
      "application/vnd.jupyter.widget-view+json": {
       "model_id": "ee581863bc2b4821a3f5a05092a7def5",
       "version_major": 2,
       "version_minor": 0
      },
      "text/plain": [
       "Epoch 51/100:   0%|          | 0/176 [00:00<?, ?it/s]"
      ]
     },
     "metadata": {},
     "output_type": "display_data"
    },
    {
     "name": "stdout",
     "output_type": "stream",
     "text": [
      "\n",
      "Epoch 51: New best F1-weighted: 0.7699\n",
      "  F1-Macro: 0.7327, AUC-Macro: 0.0000, Accuracy: 0.7769\n",
      "Saving best model artifacts to C:\\Users\\PC\\Downloads\\Melspectrogram_finetune_NEW\\PestLarvaNet_AudioTwin_Run_2\\data_50.0percent\n"
     ]
    },
    {
     "data": {
      "application/vnd.jupyter.widget-view+json": {
       "model_id": "e55eeeaa70df45929904cd07ca1248bb",
       "version_major": 2,
       "version_minor": 0
      },
      "text/plain": [
       "Epoch 52/100:   0%|          | 0/176 [00:00<?, ?it/s]"
      ]
     },
     "metadata": {},
     "output_type": "display_data"
    },
    {
     "name": "stdout",
     "output_type": "stream",
     "text": [
      "\n",
      "Epoch 52: New best F1-weighted: 0.7729\n",
      "  F1-Macro: 0.7403, AUC-Macro: 0.0000, Accuracy: 0.7758\n",
      "Saving best model artifacts to C:\\Users\\PC\\Downloads\\Melspectrogram_finetune_NEW\\PestLarvaNet_AudioTwin_Run_2\\data_50.0percent\n"
     ]
    },
    {
     "data": {
      "application/vnd.jupyter.widget-view+json": {
       "model_id": "89c290cee253418980dff61d33745e17",
       "version_major": 2,
       "version_minor": 0
      },
      "text/plain": [
       "Epoch 53/100:   0%|          | 0/176 [00:00<?, ?it/s]"
      ]
     },
     "metadata": {},
     "output_type": "display_data"
    },
    {
     "data": {
      "application/vnd.jupyter.widget-view+json": {
       "model_id": "6f0f8e863f1e4e60b77c591e2ce59f5d",
       "version_major": 2,
       "version_minor": 0
      },
      "text/plain": [
       "Epoch 54/100:   0%|          | 0/176 [00:00<?, ?it/s]"
      ]
     },
     "metadata": {},
     "output_type": "display_data"
    },
    {
     "name": "stdout",
     "output_type": "stream",
     "text": [
      "\n",
      "Epoch 54: New best F1-weighted: 0.7781\n",
      "  F1-Macro: 0.7491, AUC-Macro: 0.0000, Accuracy: 0.7801\n",
      "Saving best model artifacts to C:\\Users\\PC\\Downloads\\Melspectrogram_finetune_NEW\\PestLarvaNet_AudioTwin_Run_2\\data_50.0percent\n"
     ]
    },
    {
     "data": {
      "application/vnd.jupyter.widget-view+json": {
       "model_id": "6b3f79a395424b37836b5686557118b2",
       "version_major": 2,
       "version_minor": 0
      },
      "text/plain": [
       "Epoch 55/100:   0%|          | 0/176 [00:00<?, ?it/s]"
      ]
     },
     "metadata": {},
     "output_type": "display_data"
    },
    {
     "data": {
      "application/vnd.jupyter.widget-view+json": {
       "model_id": "02604cbb53b049779eac3f4a5501eae0",
       "version_major": 2,
       "version_minor": 0
      },
      "text/plain": [
       "Epoch 56/100:   0%|          | 0/176 [00:00<?, ?it/s]"
      ]
     },
     "metadata": {},
     "output_type": "display_data"
    },
    {
     "name": "stdout",
     "output_type": "stream",
     "text": [
      "\n",
      "Epoch 56: New best F1-weighted: 0.7785\n",
      "  F1-Macro: 0.7521, AUC-Macro: 0.0000, Accuracy: 0.7801\n",
      "Saving best model artifacts to C:\\Users\\PC\\Downloads\\Melspectrogram_finetune_NEW\\PestLarvaNet_AudioTwin_Run_2\\data_50.0percent\n"
     ]
    },
    {
     "data": {
      "application/vnd.jupyter.widget-view+json": {
       "model_id": "d58e453c08644ae599f7d9ae99bc71f7",
       "version_major": 2,
       "version_minor": 0
      },
      "text/plain": [
       "Epoch 57/100:   0%|          | 0/176 [00:00<?, ?it/s]"
      ]
     },
     "metadata": {},
     "output_type": "display_data"
    },
    {
     "name": "stdout",
     "output_type": "stream",
     "text": [
      "\n",
      "Epoch 57: New best F1-weighted: 0.7794\n",
      "  F1-Macro: 0.7516, AUC-Macro: 0.0000, Accuracy: 0.7815\n",
      "Saving best model artifacts to C:\\Users\\PC\\Downloads\\Melspectrogram_finetune_NEW\\PestLarvaNet_AudioTwin_Run_2\\data_50.0percent\n"
     ]
    },
    {
     "data": {
      "application/vnd.jupyter.widget-view+json": {
       "model_id": "20effff12306492286bd45aa887560d9",
       "version_major": 2,
       "version_minor": 0
      },
      "text/plain": [
       "Epoch 58/100:   0%|          | 0/176 [00:00<?, ?it/s]"
      ]
     },
     "metadata": {},
     "output_type": "display_data"
    },
    {
     "name": "stdout",
     "output_type": "stream",
     "text": [
      "\n",
      "Epoch 58: New best F1-weighted: 0.7860\n",
      "  F1-Macro: 0.7568, AUC-Macro: 0.0000, Accuracy: 0.7858\n",
      "Saving best model artifacts to C:\\Users\\PC\\Downloads\\Melspectrogram_finetune_NEW\\PestLarvaNet_AudioTwin_Run_2\\data_50.0percent\n"
     ]
    },
    {
     "data": {
      "application/vnd.jupyter.widget-view+json": {
       "model_id": "3ace96c1dfdb438890c9a0dc928afc81",
       "version_major": 2,
       "version_minor": 0
      },
      "text/plain": [
       "Epoch 59/100:   0%|          | 0/176 [00:00<?, ?it/s]"
      ]
     },
     "metadata": {},
     "output_type": "display_data"
    },
    {
     "data": {
      "application/vnd.jupyter.widget-view+json": {
       "model_id": "c0725fbebf4b4595826cc0dc191759f2",
       "version_major": 2,
       "version_minor": 0
      },
      "text/plain": [
       "Epoch 60/100:   0%|          | 0/176 [00:00<?, ?it/s]"
      ]
     },
     "metadata": {},
     "output_type": "display_data"
    },
    {
     "name": "stdout",
     "output_type": "stream",
     "text": [
      "\n",
      "Epoch 60: New best F1-weighted: 0.7964\n",
      "  F1-Macro: 0.7690, AUC-Macro: 0.0000, Accuracy: 0.7982\n",
      "Saving best model artifacts to C:\\Users\\PC\\Downloads\\Melspectrogram_finetune_NEW\\PestLarvaNet_AudioTwin_Run_2\\data_50.0percent\n"
     ]
    },
    {
     "data": {
      "application/vnd.jupyter.widget-view+json": {
       "model_id": "22ccff3d9f3143b1846dde13cf8927d2",
       "version_major": 2,
       "version_minor": 0
      },
      "text/plain": [
       "Epoch 61/100:   0%|          | 0/176 [00:00<?, ?it/s]"
      ]
     },
     "metadata": {},
     "output_type": "display_data"
    },
    {
     "data": {
      "application/vnd.jupyter.widget-view+json": {
       "model_id": "108441bb4fb049c7aa53489da90d1158",
       "version_major": 2,
       "version_minor": 0
      },
      "text/plain": [
       "Epoch 62/100:   0%|          | 0/176 [00:00<?, ?it/s]"
      ]
     },
     "metadata": {},
     "output_type": "display_data"
    },
    {
     "name": "stdout",
     "output_type": "stream",
     "text": [
      "\n",
      "Epoch 62: New best F1-weighted: 0.7964\n",
      "  F1-Macro: 0.7687, AUC-Macro: 0.0000, Accuracy: 0.7989\n",
      "Saving best model artifacts to C:\\Users\\PC\\Downloads\\Melspectrogram_finetune_NEW\\PestLarvaNet_AudioTwin_Run_2\\data_50.0percent\n"
     ]
    },
    {
     "data": {
      "application/vnd.jupyter.widget-view+json": {
       "model_id": "3d7ce2a95c494939b0eedf59b33696d0",
       "version_major": 2,
       "version_minor": 0
      },
      "text/plain": [
       "Epoch 63/100:   0%|          | 0/176 [00:00<?, ?it/s]"
      ]
     },
     "metadata": {},
     "output_type": "display_data"
    },
    {
     "name": "stdout",
     "output_type": "stream",
     "text": [
      "\n",
      "Epoch 63: New best F1-weighted: 0.7987\n",
      "  F1-Macro: 0.7703, AUC-Macro: 0.0000, Accuracy: 0.7982\n",
      "Saving best model artifacts to C:\\Users\\PC\\Downloads\\Melspectrogram_finetune_NEW\\PestLarvaNet_AudioTwin_Run_2\\data_50.0percent\n"
     ]
    },
    {
     "data": {
      "application/vnd.jupyter.widget-view+json": {
       "model_id": "f2a48bb284dd4bddb2a10be2160375d0",
       "version_major": 2,
       "version_minor": 0
      },
      "text/plain": [
       "Epoch 64/100:   0%|          | 0/176 [00:00<?, ?it/s]"
      ]
     },
     "metadata": {},
     "output_type": "display_data"
    },
    {
     "data": {
      "application/vnd.jupyter.widget-view+json": {
       "model_id": "5d2ef0b1c445458ca1395f513e157b28",
       "version_major": 2,
       "version_minor": 0
      },
      "text/plain": [
       "Epoch 65/100:   0%|          | 0/176 [00:00<?, ?it/s]"
      ]
     },
     "metadata": {},
     "output_type": "display_data"
    },
    {
     "name": "stdout",
     "output_type": "stream",
     "text": [
      "\n",
      "Epoch 65: New best F1-weighted: 0.8025\n",
      "  F1-Macro: 0.7759, AUC-Macro: 0.0000, Accuracy: 0.8050\n",
      "Saving best model artifacts to C:\\Users\\PC\\Downloads\\Melspectrogram_finetune_NEW\\PestLarvaNet_AudioTwin_Run_2\\data_50.0percent\n"
     ]
    },
    {
     "data": {
      "application/vnd.jupyter.widget-view+json": {
       "model_id": "07567f8c5101451aaa58afe56d9b5438",
       "version_major": 2,
       "version_minor": 0
      },
      "text/plain": [
       "Epoch 66/100:   0%|          | 0/176 [00:00<?, ?it/s]"
      ]
     },
     "metadata": {},
     "output_type": "display_data"
    },
    {
     "name": "stdout",
     "output_type": "stream",
     "text": [
      "\n",
      "Epoch 66: New best F1-weighted: 0.8034\n",
      "  F1-Macro: 0.7741, AUC-Macro: 0.0000, Accuracy: 0.8057\n",
      "Saving best model artifacts to C:\\Users\\PC\\Downloads\\Melspectrogram_finetune_NEW\\PestLarvaNet_AudioTwin_Run_2\\data_50.0percent\n"
     ]
    },
    {
     "data": {
      "application/vnd.jupyter.widget-view+json": {
       "model_id": "8fa3b816909e4e21b2b872858db09f84",
       "version_major": 2,
       "version_minor": 0
      },
      "text/plain": [
       "Epoch 67/100:   0%|          | 0/176 [00:00<?, ?it/s]"
      ]
     },
     "metadata": {},
     "output_type": "display_data"
    },
    {
     "data": {
      "application/vnd.jupyter.widget-view+json": {
       "model_id": "ff136767472b4e83a41758d75df96ef6",
       "version_major": 2,
       "version_minor": 0
      },
      "text/plain": [
       "Epoch 68/100:   0%|          | 0/176 [00:00<?, ?it/s]"
      ]
     },
     "metadata": {},
     "output_type": "display_data"
    },
    {
     "name": "stdout",
     "output_type": "stream",
     "text": [
      "\n",
      "Epoch 68: New best F1-weighted: 0.8056\n",
      "  F1-Macro: 0.7821, AUC-Macro: 0.0000, Accuracy: 0.8064\n",
      "Saving best model artifacts to C:\\Users\\PC\\Downloads\\Melspectrogram_finetune_NEW\\PestLarvaNet_AudioTwin_Run_2\\data_50.0percent\n"
     ]
    },
    {
     "data": {
      "application/vnd.jupyter.widget-view+json": {
       "model_id": "b8f34a4742944dc6b53bd3ff8cb05bfe",
       "version_major": 2,
       "version_minor": 0
      },
      "text/plain": [
       "Epoch 69/100:   0%|          | 0/176 [00:00<?, ?it/s]"
      ]
     },
     "metadata": {},
     "output_type": "display_data"
    },
    {
     "name": "stdout",
     "output_type": "stream",
     "text": [
      "\n",
      "Epoch 69: New best F1-weighted: 0.8125\n",
      "  F1-Macro: 0.7904, AUC-Macro: 0.0000, Accuracy: 0.8132\n",
      "Saving best model artifacts to C:\\Users\\PC\\Downloads\\Melspectrogram_finetune_NEW\\PestLarvaNet_AudioTwin_Run_2\\data_50.0percent\n"
     ]
    },
    {
     "data": {
      "application/vnd.jupyter.widget-view+json": {
       "model_id": "241747ac60ea4fcca34102dc3986a3e5",
       "version_major": 2,
       "version_minor": 0
      },
      "text/plain": [
       "Epoch 70/100:   0%|          | 0/176 [00:00<?, ?it/s]"
      ]
     },
     "metadata": {},
     "output_type": "display_data"
    },
    {
     "data": {
      "application/vnd.jupyter.widget-view+json": {
       "model_id": "a1b6dbcc9c534a49869ad9af411cb952",
       "version_major": 2,
       "version_minor": 0
      },
      "text/plain": [
       "Epoch 71/100:   0%|          | 0/176 [00:00<?, ?it/s]"
      ]
     },
     "metadata": {},
     "output_type": "display_data"
    },
    {
     "data": {
      "application/vnd.jupyter.widget-view+json": {
       "model_id": "e41f28a2fd414c41afb99e54cf9d0bbf",
       "version_major": 2,
       "version_minor": 0
      },
      "text/plain": [
       "Epoch 72/100:   0%|          | 0/176 [00:00<?, ?it/s]"
      ]
     },
     "metadata": {},
     "output_type": "display_data"
    },
    {
     "data": {
      "application/vnd.jupyter.widget-view+json": {
       "model_id": "9b83575791ed4b2b9f823deb968a37bf",
       "version_major": 2,
       "version_minor": 0
      },
      "text/plain": [
       "Epoch 73/100:   0%|          | 0/176 [00:00<?, ?it/s]"
      ]
     },
     "metadata": {},
     "output_type": "display_data"
    },
    {
     "data": {
      "application/vnd.jupyter.widget-view+json": {
       "model_id": "bfb10cc6321c46c6b6498eb5f25e1939",
       "version_major": 2,
       "version_minor": 0
      },
      "text/plain": [
       "Epoch 74/100:   0%|          | 0/176 [00:00<?, ?it/s]"
      ]
     },
     "metadata": {},
     "output_type": "display_data"
    },
    {
     "data": {
      "application/vnd.jupyter.widget-view+json": {
       "model_id": "dd4a546ecf5d4752bad05b9efa9258df",
       "version_major": 2,
       "version_minor": 0
      },
      "text/plain": [
       "Epoch 75/100:   0%|          | 0/176 [00:00<?, ?it/s]"
      ]
     },
     "metadata": {},
     "output_type": "display_data"
    },
    {
     "data": {
      "application/vnd.jupyter.widget-view+json": {
       "model_id": "cf2d202e2197458ba75e30d2309cb18e",
       "version_major": 2,
       "version_minor": 0
      },
      "text/plain": [
       "Epoch 76/100:   0%|          | 0/176 [00:00<?, ?it/s]"
      ]
     },
     "metadata": {},
     "output_type": "display_data"
    },
    {
     "name": "stdout",
     "output_type": "stream",
     "text": [
      "\n",
      "Epoch 76: New best F1-weighted: 0.8144\n",
      "  F1-Macro: 0.7947, AUC-Macro: 0.0000, Accuracy: 0.8146\n",
      "Saving best model artifacts to C:\\Users\\PC\\Downloads\\Melspectrogram_finetune_NEW\\PestLarvaNet_AudioTwin_Run_2\\data_50.0percent\n"
     ]
    },
    {
     "data": {
      "application/vnd.jupyter.widget-view+json": {
       "model_id": "519d8b34a87d41ad84d5a859b186da30",
       "version_major": 2,
       "version_minor": 0
      },
      "text/plain": [
       "Epoch 77/100:   0%|          | 0/176 [00:00<?, ?it/s]"
      ]
     },
     "metadata": {},
     "output_type": "display_data"
    },
    {
     "name": "stdout",
     "output_type": "stream",
     "text": [
      "\n",
      "Epoch 77: New best F1-weighted: 0.8220\n",
      "  F1-Macro: 0.7999, AUC-Macro: 0.0000, Accuracy: 0.8224\n",
      "Saving best model artifacts to C:\\Users\\PC\\Downloads\\Melspectrogram_finetune_NEW\\PestLarvaNet_AudioTwin_Run_2\\data_50.0percent\n"
     ]
    },
    {
     "data": {
      "application/vnd.jupyter.widget-view+json": {
       "model_id": "622022e8bd554c129a96a0cbd6ff6f00",
       "version_major": 2,
       "version_minor": 0
      },
      "text/plain": [
       "Epoch 78/100:   0%|          | 0/176 [00:00<?, ?it/s]"
      ]
     },
     "metadata": {},
     "output_type": "display_data"
    },
    {
     "data": {
      "application/vnd.jupyter.widget-view+json": {
       "model_id": "48181268f20e457e9d8b4837182fe606",
       "version_major": 2,
       "version_minor": 0
      },
      "text/plain": [
       "Epoch 79/100:   0%|          | 0/176 [00:00<?, ?it/s]"
      ]
     },
     "metadata": {},
     "output_type": "display_data"
    },
    {
     "data": {
      "application/vnd.jupyter.widget-view+json": {
       "model_id": "f51a6891c3bc49fe9b7d7cb9836748da",
       "version_major": 2,
       "version_minor": 0
      },
      "text/plain": [
       "Epoch 80/100:   0%|          | 0/176 [00:00<?, ?it/s]"
      ]
     },
     "metadata": {},
     "output_type": "display_data"
    },
    {
     "name": "stdout",
     "output_type": "stream",
     "text": [
      "\n",
      "Epoch 80: New best F1-weighted: 0.8270\n",
      "  F1-Macro: 0.8054, AUC-Macro: 0.0000, Accuracy: 0.8281\n",
      "Saving best model artifacts to C:\\Users\\PC\\Downloads\\Melspectrogram_finetune_NEW\\PestLarvaNet_AudioTwin_Run_2\\data_50.0percent\n"
     ]
    },
    {
     "data": {
      "application/vnd.jupyter.widget-view+json": {
       "model_id": "f6f5b9f3691c40ab8bee38b5c5ac4d8f",
       "version_major": 2,
       "version_minor": 0
      },
      "text/plain": [
       "Epoch 81/100:   0%|          | 0/176 [00:00<?, ?it/s]"
      ]
     },
     "metadata": {},
     "output_type": "display_data"
    },
    {
     "data": {
      "application/vnd.jupyter.widget-view+json": {
       "model_id": "38b5697b8a0545aa9d17eadb99d59a49",
       "version_major": 2,
       "version_minor": 0
      },
      "text/plain": [
       "Epoch 82/100:   0%|          | 0/176 [00:00<?, ?it/s]"
      ]
     },
     "metadata": {},
     "output_type": "display_data"
    },
    {
     "data": {
      "application/vnd.jupyter.widget-view+json": {
       "model_id": "7c2aee28e7f841328bcafdf465718e47",
       "version_major": 2,
       "version_minor": 0
      },
      "text/plain": [
       "Epoch 83/100:   0%|          | 0/176 [00:00<?, ?it/s]"
      ]
     },
     "metadata": {},
     "output_type": "display_data"
    },
    {
     "data": {
      "application/vnd.jupyter.widget-view+json": {
       "model_id": "7c36218f50cd490594d84ec47fab58e1",
       "version_major": 2,
       "version_minor": 0
      },
      "text/plain": [
       "Epoch 84/100:   0%|          | 0/176 [00:00<?, ?it/s]"
      ]
     },
     "metadata": {},
     "output_type": "display_data"
    },
    {
     "data": {
      "application/vnd.jupyter.widget-view+json": {
       "model_id": "dc4c18752da44cd181ae0c5b450cbc2d",
       "version_major": 2,
       "version_minor": 0
      },
      "text/plain": [
       "Epoch 85/100:   0%|          | 0/176 [00:00<?, ?it/s]"
      ]
     },
     "metadata": {},
     "output_type": "display_data"
    },
    {
     "name": "stdout",
     "output_type": "stream",
     "text": [
      "\n",
      "Epoch 85: New best F1-weighted: 0.8279\n",
      "  F1-Macro: 0.8081, AUC-Macro: 0.0000, Accuracy: 0.8288\n",
      "Saving best model artifacts to C:\\Users\\PC\\Downloads\\Melspectrogram_finetune_NEW\\PestLarvaNet_AudioTwin_Run_2\\data_50.0percent\n"
     ]
    },
    {
     "data": {
      "application/vnd.jupyter.widget-view+json": {
       "model_id": "a31fdae9697a449b88c10b6df01a8446",
       "version_major": 2,
       "version_minor": 0
      },
      "text/plain": [
       "Epoch 86/100:   0%|          | 0/176 [00:00<?, ?it/s]"
      ]
     },
     "metadata": {},
     "output_type": "display_data"
    },
    {
     "name": "stdout",
     "output_type": "stream",
     "text": [
      "\n",
      "Epoch 86: New best F1-weighted: 0.8336\n",
      "  F1-Macro: 0.8139, AUC-Macro: 0.0000, Accuracy: 0.8342\n",
      "Saving best model artifacts to C:\\Users\\PC\\Downloads\\Melspectrogram_finetune_NEW\\PestLarvaNet_AudioTwin_Run_2\\data_50.0percent\n"
     ]
    },
    {
     "data": {
      "application/vnd.jupyter.widget-view+json": {
       "model_id": "a0b1c82be90042a087983881f140f3d3",
       "version_major": 2,
       "version_minor": 0
      },
      "text/plain": [
       "Epoch 87/100:   0%|          | 0/176 [00:00<?, ?it/s]"
      ]
     },
     "metadata": {},
     "output_type": "display_data"
    },
    {
     "data": {
      "application/vnd.jupyter.widget-view+json": {
       "model_id": "695af2b124cc4af59bc39685e2b71f69",
       "version_major": 2,
       "version_minor": 0
      },
      "text/plain": [
       "Epoch 88/100:   0%|          | 0/176 [00:00<?, ?it/s]"
      ]
     },
     "metadata": {},
     "output_type": "display_data"
    },
    {
     "data": {
      "application/vnd.jupyter.widget-view+json": {
       "model_id": "da46c0fb90244354ac95ace6d47b1c49",
       "version_major": 2,
       "version_minor": 0
      },
      "text/plain": [
       "Epoch 89/100:   0%|          | 0/176 [00:00<?, ?it/s]"
      ]
     },
     "metadata": {},
     "output_type": "display_data"
    },
    {
     "data": {
      "application/vnd.jupyter.widget-view+json": {
       "model_id": "fe2802fc88384bd093c700a1a62ed78a",
       "version_major": 2,
       "version_minor": 0
      },
      "text/plain": [
       "Epoch 90/100:   0%|          | 0/176 [00:00<?, ?it/s]"
      ]
     },
     "metadata": {},
     "output_type": "display_data"
    },
    {
     "data": {
      "application/vnd.jupyter.widget-view+json": {
       "model_id": "7908dc15e77d4e6abe7e7702ee0a4186",
       "version_major": 2,
       "version_minor": 0
      },
      "text/plain": [
       "Epoch 91/100:   0%|          | 0/176 [00:00<?, ?it/s]"
      ]
     },
     "metadata": {},
     "output_type": "display_data"
    },
    {
     "data": {
      "application/vnd.jupyter.widget-view+json": {
       "model_id": "e19dca51c7c94671b7e64ef149d574cf",
       "version_major": 2,
       "version_minor": 0
      },
      "text/plain": [
       "Epoch 92/100:   0%|          | 0/176 [00:00<?, ?it/s]"
      ]
     },
     "metadata": {},
     "output_type": "display_data"
    },
    {
     "data": {
      "application/vnd.jupyter.widget-view+json": {
       "model_id": "532908735e2a4a1189310e3355304319",
       "version_major": 2,
       "version_minor": 0
      },
      "text/plain": [
       "Epoch 93/100:   0%|          | 0/176 [00:00<?, ?it/s]"
      ]
     },
     "metadata": {},
     "output_type": "display_data"
    },
    {
     "name": "stdout",
     "output_type": "stream",
     "text": [
      "\n",
      "Epoch 93: New best F1-weighted: 0.8381\n",
      "  F1-Macro: 0.8177, AUC-Macro: 0.0000, Accuracy: 0.8388\n",
      "Saving best model artifacts to C:\\Users\\PC\\Downloads\\Melspectrogram_finetune_NEW\\PestLarvaNet_AudioTwin_Run_2\\data_50.0percent\n"
     ]
    },
    {
     "data": {
      "application/vnd.jupyter.widget-view+json": {
       "model_id": "85f4ffacfe314480a2131e682768211f",
       "version_major": 2,
       "version_minor": 0
      },
      "text/plain": [
       "Epoch 94/100:   0%|          | 0/176 [00:00<?, ?it/s]"
      ]
     },
     "metadata": {},
     "output_type": "display_data"
    },
    {
     "name": "stdout",
     "output_type": "stream",
     "text": [
      "\n",
      "Epoch 94: New best F1-weighted: 0.8382\n",
      "  F1-Macro: 0.8183, AUC-Macro: 0.0000, Accuracy: 0.8388\n",
      "Saving best model artifacts to C:\\Users\\PC\\Downloads\\Melspectrogram_finetune_NEW\\PestLarvaNet_AudioTwin_Run_2\\data_50.0percent\n"
     ]
    },
    {
     "data": {
      "application/vnd.jupyter.widget-view+json": {
       "model_id": "253f4bf2ca7346608d605d81d09f6ded",
       "version_major": 2,
       "version_minor": 0
      },
      "text/plain": [
       "Epoch 95/100:   0%|          | 0/176 [00:00<?, ?it/s]"
      ]
     },
     "metadata": {},
     "output_type": "display_data"
    },
    {
     "name": "stdout",
     "output_type": "stream",
     "text": [
      "\n",
      "Epoch 95: New best F1-weighted: 0.8409\n",
      "  F1-Macro: 0.8198, AUC-Macro: 0.0000, Accuracy: 0.8416\n",
      "Saving best model artifacts to C:\\Users\\PC\\Downloads\\Melspectrogram_finetune_NEW\\PestLarvaNet_AudioTwin_Run_2\\data_50.0percent\n"
     ]
    },
    {
     "data": {
      "application/vnd.jupyter.widget-view+json": {
       "model_id": "3b5bdbcd906f42298487310851a02101",
       "version_major": 2,
       "version_minor": 0
      },
      "text/plain": [
       "Epoch 96/100:   0%|          | 0/176 [00:00<?, ?it/s]"
      ]
     },
     "metadata": {},
     "output_type": "display_data"
    },
    {
     "data": {
      "application/vnd.jupyter.widget-view+json": {
       "model_id": "ecc54353eb80459295ba3972b515e8b3",
       "version_major": 2,
       "version_minor": 0
      },
      "text/plain": [
       "Epoch 97/100:   0%|          | 0/176 [00:00<?, ?it/s]"
      ]
     },
     "metadata": {},
     "output_type": "display_data"
    },
    {
     "data": {
      "application/vnd.jupyter.widget-view+json": {
       "model_id": "62f07591ac2740e69be44e5896c6a88e",
       "version_major": 2,
       "version_minor": 0
      },
      "text/plain": [
       "Epoch 98/100:   0%|          | 0/176 [00:00<?, ?it/s]"
      ]
     },
     "metadata": {},
     "output_type": "display_data"
    },
    {
     "data": {
      "application/vnd.jupyter.widget-view+json": {
       "model_id": "2a23b86c94f44bf29a468ee102698da1",
       "version_major": 2,
       "version_minor": 0
      },
      "text/plain": [
       "Epoch 99/100:   0%|          | 0/176 [00:00<?, ?it/s]"
      ]
     },
     "metadata": {},
     "output_type": "display_data"
    },
    {
     "name": "stdout",
     "output_type": "stream",
     "text": [
      "\n",
      "Epoch 99: New best F1-weighted: 0.8456\n",
      "  F1-Macro: 0.8281, AUC-Macro: 0.0000, Accuracy: 0.8459\n",
      "Saving best model artifacts to C:\\Users\\PC\\Downloads\\Melspectrogram_finetune_NEW\\PestLarvaNet_AudioTwin_Run_2\\data_50.0percent\n"
     ]
    },
    {
     "data": {
      "application/vnd.jupyter.widget-view+json": {
       "model_id": "8f699157616148b8a47bc8e2b4cd0758",
       "version_major": 2,
       "version_minor": 0
      },
      "text/plain": [
       "Epoch 100/100:   0%|          | 0/176 [00:00<?, ?it/s]"
      ]
     },
     "metadata": {},
     "output_type": "display_data"
    },
    {
     "name": "stdout",
     "output_type": "stream",
     "text": [
      "Finished Training for this run. Best F1-weighted: 0.8456\n",
      "==> Results with 50.0% data: Best F1-Weighted = 0.8456\n",
      "--- Training with 100.0% of labeled data ---\n",
      "Loading pretrained weights from: C:\\Users\\PC\\PestLarvaNet\\SSL\\audiotwin_checkpoints_medium\\Final checkpoint\\run_2_lp5e-04_ep1e-06_lb0.003_audiotwin_pestlarvanet_medium_epoch_100.pth\n"
     ]
    },
    {
     "name": "stderr",
     "output_type": "stream",
     "text": [
      "C:\\Users\\PC\\anaconda3\\envs\\FallDeteNet\\lib\\site-packages\\torch\\optim\\lr_scheduler.py:62: UserWarning: The verbose parameter is deprecated. Please use get_last_lr() to access the learning rate.\n",
      "  warnings.warn(\n"
     ]
    },
    {
     "data": {
      "application/vnd.jupyter.widget-view+json": {
       "model_id": "798c2d7d1f9040119081d224b7f3298d",
       "version_major": 2,
       "version_minor": 0
      },
      "text/plain": [
       "Epoch 1/100:   0%|          | 0/352 [00:00<?, ?it/s]"
      ]
     },
     "metadata": {},
     "output_type": "display_data"
    },
    {
     "name": "stdout",
     "output_type": "stream",
     "text": [
      "\n",
      "Epoch 1: New best F1-weighted: 0.5080\n",
      "  F1-Macro: 0.4450, AUC-Macro: 0.0000, Accuracy: 0.5687\n",
      "Saving best model artifacts to C:\\Users\\PC\\Downloads\\Melspectrogram_finetune_NEW\\PestLarvaNet_AudioTwin_Run_2\\data_100.0percent\n"
     ]
    },
    {
     "data": {
      "application/vnd.jupyter.widget-view+json": {
       "model_id": "1298a99be1ca484cadea7b4a44364079",
       "version_major": 2,
       "version_minor": 0
      },
      "text/plain": [
       "Epoch 2/100:   0%|          | 0/352 [00:00<?, ?it/s]"
      ]
     },
     "metadata": {},
     "output_type": "display_data"
    },
    {
     "data": {
      "application/vnd.jupyter.widget-view+json": {
       "model_id": "b63955c37fa84e25a7b1f6b3b45a182f",
       "version_major": 2,
       "version_minor": 0
      },
      "text/plain": [
       "Epoch 3/100:   0%|          | 0/352 [00:00<?, ?it/s]"
      ]
     },
     "metadata": {},
     "output_type": "display_data"
    },
    {
     "name": "stdout",
     "output_type": "stream",
     "text": [
      "\n",
      "Epoch 3: New best F1-weighted: 0.5328\n",
      "  F1-Macro: 0.4597, AUC-Macro: 0.0000, Accuracy: 0.5875\n",
      "Saving best model artifacts to C:\\Users\\PC\\Downloads\\Melspectrogram_finetune_NEW\\PestLarvaNet_AudioTwin_Run_2\\data_100.0percent\n"
     ]
    },
    {
     "data": {
      "application/vnd.jupyter.widget-view+json": {
       "model_id": "42f4ab4553b44f4091a3aeff08432542",
       "version_major": 2,
       "version_minor": 0
      },
      "text/plain": [
       "Epoch 4/100:   0%|          | 0/352 [00:00<?, ?it/s]"
      ]
     },
     "metadata": {},
     "output_type": "display_data"
    },
    {
     "name": "stdout",
     "output_type": "stream",
     "text": [
      "\n",
      "Epoch 4: New best F1-weighted: 0.5828\n",
      "  F1-Macro: 0.5074, AUC-Macro: 0.0000, Accuracy: 0.6135\n",
      "Saving best model artifacts to C:\\Users\\PC\\Downloads\\Melspectrogram_finetune_NEW\\PestLarvaNet_AudioTwin_Run_2\\data_100.0percent\n"
     ]
    },
    {
     "data": {
      "application/vnd.jupyter.widget-view+json": {
       "model_id": "66f09a918a4145d191c4840cf0f3e0ce",
       "version_major": 2,
       "version_minor": 0
      },
      "text/plain": [
       "Epoch 5/100:   0%|          | 0/352 [00:00<?, ?it/s]"
      ]
     },
     "metadata": {},
     "output_type": "display_data"
    },
    {
     "data": {
      "application/vnd.jupyter.widget-view+json": {
       "model_id": "a4aff48536f141d78fdf6a23a772efe5",
       "version_major": 2,
       "version_minor": 0
      },
      "text/plain": [
       "Epoch 6/100:   0%|          | 0/352 [00:00<?, ?it/s]"
      ]
     },
     "metadata": {},
     "output_type": "display_data"
    },
    {
     "name": "stdout",
     "output_type": "stream",
     "text": [
      "\n",
      "Epoch 6: New best F1-weighted: 0.5886\n",
      "  F1-Macro: 0.5141, AUC-Macro: 0.0000, Accuracy: 0.6267\n",
      "Saving best model artifacts to C:\\Users\\PC\\Downloads\\Melspectrogram_finetune_NEW\\PestLarvaNet_AudioTwin_Run_2\\data_100.0percent\n"
     ]
    },
    {
     "data": {
      "application/vnd.jupyter.widget-view+json": {
       "model_id": "54c139022b924dcf82b821f39c5f4b81",
       "version_major": 2,
       "version_minor": 0
      },
      "text/plain": [
       "Epoch 7/100:   0%|          | 0/352 [00:00<?, ?it/s]"
      ]
     },
     "metadata": {},
     "output_type": "display_data"
    },
    {
     "name": "stdout",
     "output_type": "stream",
     "text": [
      "\n",
      "Epoch 7: New best F1-weighted: 0.5923\n",
      "  F1-Macro: 0.5335, AUC-Macro: 0.0000, Accuracy: 0.6075\n",
      "Saving best model artifacts to C:\\Users\\PC\\Downloads\\Melspectrogram_finetune_NEW\\PestLarvaNet_AudioTwin_Run_2\\data_100.0percent\n"
     ]
    },
    {
     "data": {
      "application/vnd.jupyter.widget-view+json": {
       "model_id": "f797700211754ce3863cb92ac2f2fe4d",
       "version_major": 2,
       "version_minor": 0
      },
      "text/plain": [
       "Epoch 8/100:   0%|          | 0/352 [00:00<?, ?it/s]"
      ]
     },
     "metadata": {},
     "output_type": "display_data"
    },
    {
     "name": "stdout",
     "output_type": "stream",
     "text": [
      "\n",
      "Epoch 8: New best F1-weighted: 0.6141\n",
      "  F1-Macro: 0.5479, AUC-Macro: 0.0000, Accuracy: 0.6427\n",
      "Saving best model artifacts to C:\\Users\\PC\\Downloads\\Melspectrogram_finetune_NEW\\PestLarvaNet_AudioTwin_Run_2\\data_100.0percent\n"
     ]
    },
    {
     "data": {
      "application/vnd.jupyter.widget-view+json": {
       "model_id": "17287885d1d44294b921d8534da2d9b8",
       "version_major": 2,
       "version_minor": 0
      },
      "text/plain": [
       "Epoch 9/100:   0%|          | 0/352 [00:00<?, ?it/s]"
      ]
     },
     "metadata": {},
     "output_type": "display_data"
    },
    {
     "name": "stdout",
     "output_type": "stream",
     "text": [
      "\n",
      "Epoch 9: New best F1-weighted: 0.6231\n",
      "  F1-Macro: 0.5572, AUC-Macro: 0.0000, Accuracy: 0.6445\n",
      "Saving best model artifacts to C:\\Users\\PC\\Downloads\\Melspectrogram_finetune_NEW\\PestLarvaNet_AudioTwin_Run_2\\data_100.0percent\n"
     ]
    },
    {
     "data": {
      "application/vnd.jupyter.widget-view+json": {
       "model_id": "96b996429a804a70bd666c767a447dea",
       "version_major": 2,
       "version_minor": 0
      },
      "text/plain": [
       "Epoch 10/100:   0%|          | 0/352 [00:00<?, ?it/s]"
      ]
     },
     "metadata": {},
     "output_type": "display_data"
    },
    {
     "name": "stdout",
     "output_type": "stream",
     "text": [
      "\n",
      "Epoch 10: New best F1-weighted: 0.6794\n",
      "  F1-Macro: 0.6369, AUC-Macro: 0.0000, Accuracy: 0.6836\n",
      "Saving best model artifacts to C:\\Users\\PC\\Downloads\\Melspectrogram_finetune_NEW\\PestLarvaNet_AudioTwin_Run_2\\data_100.0percent\n"
     ]
    },
    {
     "data": {
      "application/vnd.jupyter.widget-view+json": {
       "model_id": "7c3ffc171c7f409fa83bed9e9e87e808",
       "version_major": 2,
       "version_minor": 0
      },
      "text/plain": [
       "Epoch 11/100:   0%|          | 0/352 [00:00<?, ?it/s]"
      ]
     },
     "metadata": {},
     "output_type": "display_data"
    },
    {
     "data": {
      "application/vnd.jupyter.widget-view+json": {
       "model_id": "a836458a6bcf433f837164ae0b18bb58",
       "version_major": 2,
       "version_minor": 0
      },
      "text/plain": [
       "Epoch 12/100:   0%|          | 0/352 [00:00<?, ?it/s]"
      ]
     },
     "metadata": {},
     "output_type": "display_data"
    },
    {
     "name": "stdout",
     "output_type": "stream",
     "text": [
      "\n",
      "Epoch 12: New best F1-weighted: 0.7039\n",
      "  F1-Macro: 0.6515, AUC-Macro: 0.0000, Accuracy: 0.7142\n",
      "Saving best model artifacts to C:\\Users\\PC\\Downloads\\Melspectrogram_finetune_NEW\\PestLarvaNet_AudioTwin_Run_2\\data_100.0percent\n"
     ]
    },
    {
     "data": {
      "application/vnd.jupyter.widget-view+json": {
       "model_id": "08e8395ab89847ad9a6d6c172953bccc",
       "version_major": 2,
       "version_minor": 0
      },
      "text/plain": [
       "Epoch 13/100:   0%|          | 0/352 [00:00<?, ?it/s]"
      ]
     },
     "metadata": {},
     "output_type": "display_data"
    },
    {
     "data": {
      "application/vnd.jupyter.widget-view+json": {
       "model_id": "a9a14fdfacfb49bab6eaab158cf33e54",
       "version_major": 2,
       "version_minor": 0
      },
      "text/plain": [
       "Epoch 14/100:   0%|          | 0/352 [00:00<?, ?it/s]"
      ]
     },
     "metadata": {},
     "output_type": "display_data"
    },
    {
     "data": {
      "application/vnd.jupyter.widget-view+json": {
       "model_id": "3d46ec1545a14d7cb4c7945f341bb12d",
       "version_major": 2,
       "version_minor": 0
      },
      "text/plain": [
       "Epoch 15/100:   0%|          | 0/352 [00:00<?, ?it/s]"
      ]
     },
     "metadata": {},
     "output_type": "display_data"
    },
    {
     "name": "stdout",
     "output_type": "stream",
     "text": [
      "\n",
      "Epoch 15: New best F1-weighted: 0.7195\n",
      "  F1-Macro: 0.6776, AUC-Macro: 0.0000, Accuracy: 0.7260\n",
      "Saving best model artifacts to C:\\Users\\PC\\Downloads\\Melspectrogram_finetune_NEW\\PestLarvaNet_AudioTwin_Run_2\\data_100.0percent\n"
     ]
    },
    {
     "data": {
      "application/vnd.jupyter.widget-view+json": {
       "model_id": "4cfcbc4519cb420bac4538c926368bdb",
       "version_major": 2,
       "version_minor": 0
      },
      "text/plain": [
       "Epoch 16/100:   0%|          | 0/352 [00:00<?, ?it/s]"
      ]
     },
     "metadata": {},
     "output_type": "display_data"
    },
    {
     "name": "stdout",
     "output_type": "stream",
     "text": [
      "\n",
      "Epoch 16: New best F1-weighted: 0.7426\n",
      "  F1-Macro: 0.7018, AUC-Macro: 0.0000, Accuracy: 0.7452\n",
      "Saving best model artifacts to C:\\Users\\PC\\Downloads\\Melspectrogram_finetune_NEW\\PestLarvaNet_AudioTwin_Run_2\\data_100.0percent\n"
     ]
    },
    {
     "data": {
      "application/vnd.jupyter.widget-view+json": {
       "model_id": "28cac9ebc05943d9a532d71e5f0eb377",
       "version_major": 2,
       "version_minor": 0
      },
      "text/plain": [
       "Epoch 17/100:   0%|          | 0/352 [00:00<?, ?it/s]"
      ]
     },
     "metadata": {},
     "output_type": "display_data"
    },
    {
     "data": {
      "application/vnd.jupyter.widget-view+json": {
       "model_id": "5980277b89f0479fb5d30e6b20d1f713",
       "version_major": 2,
       "version_minor": 0
      },
      "text/plain": [
       "Epoch 18/100:   0%|          | 0/352 [00:00<?, ?it/s]"
      ]
     },
     "metadata": {},
     "output_type": "display_data"
    },
    {
     "data": {
      "application/vnd.jupyter.widget-view+json": {
       "model_id": "ff99482bee9648c5bef7518e2ef52cbe",
       "version_major": 2,
       "version_minor": 0
      },
      "text/plain": [
       "Epoch 19/100:   0%|          | 0/352 [00:00<?, ?it/s]"
      ]
     },
     "metadata": {},
     "output_type": "display_data"
    },
    {
     "data": {
      "application/vnd.jupyter.widget-view+json": {
       "model_id": "60a82f9f4ca946919bc7b6aef3718a0d",
       "version_major": 2,
       "version_minor": 0
      },
      "text/plain": [
       "Epoch 20/100:   0%|          | 0/352 [00:00<?, ?it/s]"
      ]
     },
     "metadata": {},
     "output_type": "display_data"
    },
    {
     "data": {
      "application/vnd.jupyter.widget-view+json": {
       "model_id": "f606fe802e2d4387b5369a16e572ebbd",
       "version_major": 2,
       "version_minor": 0
      },
      "text/plain": [
       "Epoch 21/100:   0%|          | 0/352 [00:00<?, ?it/s]"
      ]
     },
     "metadata": {},
     "output_type": "display_data"
    },
    {
     "data": {
      "application/vnd.jupyter.widget-view+json": {
       "model_id": "5e0db1ebfb4e4c70be10f5ba4fce3ddd",
       "version_major": 2,
       "version_minor": 0
      },
      "text/plain": [
       "Epoch 22/100:   0%|          | 0/352 [00:00<?, ?it/s]"
      ]
     },
     "metadata": {},
     "output_type": "display_data"
    },
    {
     "name": "stdout",
     "output_type": "stream",
     "text": [
      "\n",
      "Epoch 22: New best F1-weighted: 0.7690\n",
      "  F1-Macro: 0.7361, AUC-Macro: 0.0000, Accuracy: 0.7673\n",
      "Saving best model artifacts to C:\\Users\\PC\\Downloads\\Melspectrogram_finetune_NEW\\PestLarvaNet_AudioTwin_Run_2\\data_100.0percent\n"
     ]
    },
    {
     "data": {
      "application/vnd.jupyter.widget-view+json": {
       "model_id": "dcc6d9f0d4ae46d0bf672a471a69d582",
       "version_major": 2,
       "version_minor": 0
      },
      "text/plain": [
       "Epoch 23/100:   0%|          | 0/352 [00:00<?, ?it/s]"
      ]
     },
     "metadata": {},
     "output_type": "display_data"
    },
    {
     "data": {
      "application/vnd.jupyter.widget-view+json": {
       "model_id": "1ca4ba2e1b0c4932913c8462b5c8fc1f",
       "version_major": 2,
       "version_minor": 0
      },
      "text/plain": [
       "Epoch 24/100:   0%|          | 0/352 [00:00<?, ?it/s]"
      ]
     },
     "metadata": {},
     "output_type": "display_data"
    },
    {
     "data": {
      "application/vnd.jupyter.widget-view+json": {
       "model_id": "13ea7a00f3c6436ba9f51874f35c322a",
       "version_major": 2,
       "version_minor": 0
      },
      "text/plain": [
       "Epoch 25/100:   0%|          | 0/352 [00:00<?, ?it/s]"
      ]
     },
     "metadata": {},
     "output_type": "display_data"
    },
    {
     "name": "stdout",
     "output_type": "stream",
     "text": [
      "\n",
      "Epoch 25: New best F1-weighted: 0.7821\n",
      "  F1-Macro: 0.7498, AUC-Macro: 0.0000, Accuracy: 0.7865\n",
      "Saving best model artifacts to C:\\Users\\PC\\Downloads\\Melspectrogram_finetune_NEW\\PestLarvaNet_AudioTwin_Run_2\\data_100.0percent\n"
     ]
    },
    {
     "data": {
      "application/vnd.jupyter.widget-view+json": {
       "model_id": "0cade3e4f4ca40f28dbe64ce4c6f053f",
       "version_major": 2,
       "version_minor": 0
      },
      "text/plain": [
       "Epoch 26/100:   0%|          | 0/352 [00:00<?, ?it/s]"
      ]
     },
     "metadata": {},
     "output_type": "display_data"
    },
    {
     "data": {
      "application/vnd.jupyter.widget-view+json": {
       "model_id": "7f98de3677ef4c97b9556a13bd1ea63a",
       "version_major": 2,
       "version_minor": 0
      },
      "text/plain": [
       "Epoch 27/100:   0%|          | 0/352 [00:00<?, ?it/s]"
      ]
     },
     "metadata": {},
     "output_type": "display_data"
    },
    {
     "name": "stdout",
     "output_type": "stream",
     "text": [
      "\n",
      "Epoch 27: New best F1-weighted: 0.7827\n",
      "  F1-Macro: 0.7549, AUC-Macro: 0.0000, Accuracy: 0.7836\n",
      "Saving best model artifacts to C:\\Users\\PC\\Downloads\\Melspectrogram_finetune_NEW\\PestLarvaNet_AudioTwin_Run_2\\data_100.0percent\n"
     ]
    },
    {
     "data": {
      "application/vnd.jupyter.widget-view+json": {
       "model_id": "e86c50ec41374cb988d80bad48d66d7b",
       "version_major": 2,
       "version_minor": 0
      },
      "text/plain": [
       "Epoch 28/100:   0%|          | 0/352 [00:00<?, ?it/s]"
      ]
     },
     "metadata": {},
     "output_type": "display_data"
    },
    {
     "data": {
      "application/vnd.jupyter.widget-view+json": {
       "model_id": "0723b17f549b498a92ab1a89f577931c",
       "version_major": 2,
       "version_minor": 0
      },
      "text/plain": [
       "Epoch 29/100:   0%|          | 0/352 [00:00<?, ?it/s]"
      ]
     },
     "metadata": {},
     "output_type": "display_data"
    },
    {
     "data": {
      "application/vnd.jupyter.widget-view+json": {
       "model_id": "d0827c799106457684963427cd63b4a9",
       "version_major": 2,
       "version_minor": 0
      },
      "text/plain": [
       "Epoch 30/100:   0%|          | 0/352 [00:00<?, ?it/s]"
      ]
     },
     "metadata": {},
     "output_type": "display_data"
    },
    {
     "data": {
      "application/vnd.jupyter.widget-view+json": {
       "model_id": "05a5356f631d4df88a7360f115032818",
       "version_major": 2,
       "version_minor": 0
      },
      "text/plain": [
       "Epoch 31/100:   0%|          | 0/352 [00:00<?, ?it/s]"
      ]
     },
     "metadata": {},
     "output_type": "display_data"
    },
    {
     "name": "stdout",
     "output_type": "stream",
     "text": [
      "\n",
      "Epoch 31: New best F1-weighted: 0.7886\n",
      "  F1-Macro: 0.7655, AUC-Macro: 0.0000, Accuracy: 0.7900\n",
      "Saving best model artifacts to C:\\Users\\PC\\Downloads\\Melspectrogram_finetune_NEW\\PestLarvaNet_AudioTwin_Run_2\\data_100.0percent\n"
     ]
    },
    {
     "data": {
      "application/vnd.jupyter.widget-view+json": {
       "model_id": "cc6a13944e37435c916957ce9146a163",
       "version_major": 2,
       "version_minor": 0
      },
      "text/plain": [
       "Epoch 32/100:   0%|          | 0/352 [00:00<?, ?it/s]"
      ]
     },
     "metadata": {},
     "output_type": "display_data"
    },
    {
     "name": "stdout",
     "output_type": "stream",
     "text": [
      "\n",
      "Epoch 32: New best F1-weighted: 0.7897\n",
      "  F1-Macro: 0.7644, AUC-Macro: 0.0000, Accuracy: 0.7918\n",
      "Saving best model artifacts to C:\\Users\\PC\\Downloads\\Melspectrogram_finetune_NEW\\PestLarvaNet_AudioTwin_Run_2\\data_100.0percent\n"
     ]
    },
    {
     "data": {
      "application/vnd.jupyter.widget-view+json": {
       "model_id": "5c7fda4c25474defbcfaa8b626b45cda",
       "version_major": 2,
       "version_minor": 0
      },
      "text/plain": [
       "Epoch 33/100:   0%|          | 0/352 [00:00<?, ?it/s]"
      ]
     },
     "metadata": {},
     "output_type": "display_data"
    },
    {
     "data": {
      "application/vnd.jupyter.widget-view+json": {
       "model_id": "e03a437a37bb46398a10b87f04bcdcbb",
       "version_major": 2,
       "version_minor": 0
      },
      "text/plain": [
       "Epoch 34/100:   0%|          | 0/352 [00:00<?, ?it/s]"
      ]
     },
     "metadata": {},
     "output_type": "display_data"
    },
    {
     "name": "stdout",
     "output_type": "stream",
     "text": [
      "\n",
      "Epoch 34: New best F1-weighted: 0.8146\n",
      "  F1-Macro: 0.7923, AUC-Macro: 0.0000, Accuracy: 0.8160\n",
      "Saving best model artifacts to C:\\Users\\PC\\Downloads\\Melspectrogram_finetune_NEW\\PestLarvaNet_AudioTwin_Run_2\\data_100.0percent\n"
     ]
    },
    {
     "data": {
      "application/vnd.jupyter.widget-view+json": {
       "model_id": "91b4faf2ab9943a18f9faf7b836cc441",
       "version_major": 2,
       "version_minor": 0
      },
      "text/plain": [
       "Epoch 35/100:   0%|          | 0/352 [00:00<?, ?it/s]"
      ]
     },
     "metadata": {},
     "output_type": "display_data"
    },
    {
     "data": {
      "application/vnd.jupyter.widget-view+json": {
       "model_id": "6f6a09c29bdf4b91bbc2d644419a8415",
       "version_major": 2,
       "version_minor": 0
      },
      "text/plain": [
       "Epoch 36/100:   0%|          | 0/352 [00:00<?, ?it/s]"
      ]
     },
     "metadata": {},
     "output_type": "display_data"
    },
    {
     "data": {
      "application/vnd.jupyter.widget-view+json": {
       "model_id": "a3a2294e3c344836bbb888cc525b6036",
       "version_major": 2,
       "version_minor": 0
      },
      "text/plain": [
       "Epoch 37/100:   0%|          | 0/352 [00:00<?, ?it/s]"
      ]
     },
     "metadata": {},
     "output_type": "display_data"
    },
    {
     "data": {
      "application/vnd.jupyter.widget-view+json": {
       "model_id": "1c6492e0e10d4c0ba97cdd731bd5be4d",
       "version_major": 2,
       "version_minor": 0
      },
      "text/plain": [
       "Epoch 38/100:   0%|          | 0/352 [00:00<?, ?it/s]"
      ]
     },
     "metadata": {},
     "output_type": "display_data"
    },
    {
     "data": {
      "application/vnd.jupyter.widget-view+json": {
       "model_id": "b0112ef0b6eb4241b753f72bcba263bc",
       "version_major": 2,
       "version_minor": 0
      },
      "text/plain": [
       "Epoch 39/100:   0%|          | 0/352 [00:00<?, ?it/s]"
      ]
     },
     "metadata": {},
     "output_type": "display_data"
    },
    {
     "name": "stdout",
     "output_type": "stream",
     "text": [
      "\n",
      "Epoch 39: New best F1-weighted: 0.8203\n",
      "  F1-Macro: 0.8021, AUC-Macro: 0.0000, Accuracy: 0.8206\n",
      "Saving best model artifacts to C:\\Users\\PC\\Downloads\\Melspectrogram_finetune_NEW\\PestLarvaNet_AudioTwin_Run_2\\data_100.0percent\n"
     ]
    },
    {
     "data": {
      "application/vnd.jupyter.widget-view+json": {
       "model_id": "8f2d2d5895a4464292cc7701186b38e0",
       "version_major": 2,
       "version_minor": 0
      },
      "text/plain": [
       "Epoch 40/100:   0%|          | 0/352 [00:00<?, ?it/s]"
      ]
     },
     "metadata": {},
     "output_type": "display_data"
    },
    {
     "data": {
      "application/vnd.jupyter.widget-view+json": {
       "model_id": "be407049dbc04c8c8a802a085117569d",
       "version_major": 2,
       "version_minor": 0
      },
      "text/plain": [
       "Epoch 41/100:   0%|          | 0/352 [00:00<?, ?it/s]"
      ]
     },
     "metadata": {},
     "output_type": "display_data"
    },
    {
     "name": "stdout",
     "output_type": "stream",
     "text": [
      "\n",
      "Epoch 41: New best F1-weighted: 0.8246\n",
      "  F1-Macro: 0.8072, AUC-Macro: 0.0000, Accuracy: 0.8246\n",
      "Saving best model artifacts to C:\\Users\\PC\\Downloads\\Melspectrogram_finetune_NEW\\PestLarvaNet_AudioTwin_Run_2\\data_100.0percent\n"
     ]
    },
    {
     "data": {
      "application/vnd.jupyter.widget-view+json": {
       "model_id": "cff492595a0b4d159a218e1d425786db",
       "version_major": 2,
       "version_minor": 0
      },
      "text/plain": [
       "Epoch 42/100:   0%|          | 0/352 [00:00<?, ?it/s]"
      ]
     },
     "metadata": {},
     "output_type": "display_data"
    },
    {
     "name": "stdout",
     "output_type": "stream",
     "text": [
      "\n",
      "Epoch 42: New best F1-weighted: 0.8269\n",
      "  F1-Macro: 0.8076, AUC-Macro: 0.0000, Accuracy: 0.8246\n",
      "Saving best model artifacts to C:\\Users\\PC\\Downloads\\Melspectrogram_finetune_NEW\\PestLarvaNet_AudioTwin_Run_2\\data_100.0percent\n"
     ]
    },
    {
     "data": {
      "application/vnd.jupyter.widget-view+json": {
       "model_id": "05127c1c9ad141e4a84a5b8b4141442d",
       "version_major": 2,
       "version_minor": 0
      },
      "text/plain": [
       "Epoch 43/100:   0%|          | 0/352 [00:00<?, ?it/s]"
      ]
     },
     "metadata": {},
     "output_type": "display_data"
    },
    {
     "name": "stdout",
     "output_type": "stream",
     "text": [
      "\n",
      "Epoch 43: New best F1-weighted: 0.8315\n",
      "  F1-Macro: 0.8152, AUC-Macro: 0.0000, Accuracy: 0.8306\n",
      "Saving best model artifacts to C:\\Users\\PC\\Downloads\\Melspectrogram_finetune_NEW\\PestLarvaNet_AudioTwin_Run_2\\data_100.0percent\n"
     ]
    },
    {
     "data": {
      "application/vnd.jupyter.widget-view+json": {
       "model_id": "01131467a168447383087ee5274877af",
       "version_major": 2,
       "version_minor": 0
      },
      "text/plain": [
       "Epoch 44/100:   0%|          | 0/352 [00:00<?, ?it/s]"
      ]
     },
     "metadata": {},
     "output_type": "display_data"
    },
    {
     "data": {
      "application/vnd.jupyter.widget-view+json": {
       "model_id": "92b97d93c4c44cceb685f9cba2a437ae",
       "version_major": 2,
       "version_minor": 0
      },
      "text/plain": [
       "Epoch 45/100:   0%|          | 0/352 [00:00<?, ?it/s]"
      ]
     },
     "metadata": {},
     "output_type": "display_data"
    },
    {
     "data": {
      "application/vnd.jupyter.widget-view+json": {
       "model_id": "251bc8f174c14c499c059f28965228e8",
       "version_major": 2,
       "version_minor": 0
      },
      "text/plain": [
       "Epoch 46/100:   0%|          | 0/352 [00:00<?, ?it/s]"
      ]
     },
     "metadata": {},
     "output_type": "display_data"
    },
    {
     "name": "stdout",
     "output_type": "stream",
     "text": [
      "\n",
      "Epoch 46: New best F1-weighted: 0.8401\n",
      "  F1-Macro: 0.8279, AUC-Macro: 0.0000, Accuracy: 0.8395\n",
      "Saving best model artifacts to C:\\Users\\PC\\Downloads\\Melspectrogram_finetune_NEW\\PestLarvaNet_AudioTwin_Run_2\\data_100.0percent\n"
     ]
    },
    {
     "data": {
      "application/vnd.jupyter.widget-view+json": {
       "model_id": "dc275efae58c4877935da919c67210de",
       "version_major": 2,
       "version_minor": 0
      },
      "text/plain": [
       "Epoch 47/100:   0%|          | 0/352 [00:00<?, ?it/s]"
      ]
     },
     "metadata": {},
     "output_type": "display_data"
    },
    {
     "data": {
      "application/vnd.jupyter.widget-view+json": {
       "model_id": "da0ffe6e24734a82aa58e1a28965e5e8",
       "version_major": 2,
       "version_minor": 0
      },
      "text/plain": [
       "Epoch 48/100:   0%|          | 0/352 [00:00<?, ?it/s]"
      ]
     },
     "metadata": {},
     "output_type": "display_data"
    },
    {
     "data": {
      "application/vnd.jupyter.widget-view+json": {
       "model_id": "f454745d03f5459baecc8253efbc8d7c",
       "version_major": 2,
       "version_minor": 0
      },
      "text/plain": [
       "Epoch 49/100:   0%|          | 0/352 [00:00<?, ?it/s]"
      ]
     },
     "metadata": {},
     "output_type": "display_data"
    },
    {
     "data": {
      "application/vnd.jupyter.widget-view+json": {
       "model_id": "aee50996cce64f3b8a4694d1081aeedd",
       "version_major": 2,
       "version_minor": 0
      },
      "text/plain": [
       "Epoch 50/100:   0%|          | 0/352 [00:00<?, ?it/s]"
      ]
     },
     "metadata": {},
     "output_type": "display_data"
    },
    {
     "name": "stdout",
     "output_type": "stream",
     "text": [
      "\n",
      "Epoch 50: New best F1-weighted: 0.8524\n",
      "  F1-Macro: 0.8388, AUC-Macro: 0.0000, Accuracy: 0.8527\n",
      "Saving best model artifacts to C:\\Users\\PC\\Downloads\\Melspectrogram_finetune_NEW\\PestLarvaNet_AudioTwin_Run_2\\data_100.0percent\n"
     ]
    },
    {
     "data": {
      "application/vnd.jupyter.widget-view+json": {
       "model_id": "fc308304cc1a48f49481c07fc0ce03a4",
       "version_major": 2,
       "version_minor": 0
      },
      "text/plain": [
       "Epoch 51/100:   0%|          | 0/352 [00:00<?, ?it/s]"
      ]
     },
     "metadata": {},
     "output_type": "display_data"
    },
    {
     "data": {
      "application/vnd.jupyter.widget-view+json": {
       "model_id": "704d3f3ceeaf48af8c18b86e7eb6943d",
       "version_major": 2,
       "version_minor": 0
      },
      "text/plain": [
       "Epoch 52/100:   0%|          | 0/352 [00:00<?, ?it/s]"
      ]
     },
     "metadata": {},
     "output_type": "display_data"
    },
    {
     "data": {
      "application/vnd.jupyter.widget-view+json": {
       "model_id": "de7d45771733406292e4feb2490cdf75",
       "version_major": 2,
       "version_minor": 0
      },
      "text/plain": [
       "Epoch 53/100:   0%|          | 0/352 [00:00<?, ?it/s]"
      ]
     },
     "metadata": {},
     "output_type": "display_data"
    },
    {
     "data": {
      "application/vnd.jupyter.widget-view+json": {
       "model_id": "e390adef69f04763a4d09d730b0fa37e",
       "version_major": 2,
       "version_minor": 0
      },
      "text/plain": [
       "Epoch 54/100:   0%|          | 0/352 [00:00<?, ?it/s]"
      ]
     },
     "metadata": {},
     "output_type": "display_data"
    },
    {
     "name": "stdout",
     "output_type": "stream",
     "text": [
      "\n",
      "Epoch 54: New best F1-weighted: 0.8560\n",
      "  F1-Macro: 0.8412, AUC-Macro: 0.0000, Accuracy: 0.8559\n",
      "Saving best model artifacts to C:\\Users\\PC\\Downloads\\Melspectrogram_finetune_NEW\\PestLarvaNet_AudioTwin_Run_2\\data_100.0percent\n"
     ]
    },
    {
     "data": {
      "application/vnd.jupyter.widget-view+json": {
       "model_id": "779445825eef43af8daaee0d0a4bd805",
       "version_major": 2,
       "version_minor": 0
      },
      "text/plain": [
       "Epoch 55/100:   0%|          | 0/352 [00:00<?, ?it/s]"
      ]
     },
     "metadata": {},
     "output_type": "display_data"
    },
    {
     "name": "stdout",
     "output_type": "stream",
     "text": [
      "\n",
      "Epoch 55: New best F1-weighted: 0.8588\n",
      "  F1-Macro: 0.8454, AUC-Macro: 0.0000, Accuracy: 0.8584\n",
      "Saving best model artifacts to C:\\Users\\PC\\Downloads\\Melspectrogram_finetune_NEW\\PestLarvaNet_AudioTwin_Run_2\\data_100.0percent\n"
     ]
    },
    {
     "data": {
      "application/vnd.jupyter.widget-view+json": {
       "model_id": "bfed9b40323e4e179e16feecee37071e",
       "version_major": 2,
       "version_minor": 0
      },
      "text/plain": [
       "Epoch 56/100:   0%|          | 0/352 [00:00<?, ?it/s]"
      ]
     },
     "metadata": {},
     "output_type": "display_data"
    },
    {
     "name": "stdout",
     "output_type": "stream",
     "text": [
      "\n",
      "Epoch 56: New best F1-weighted: 0.8644\n",
      "  F1-Macro: 0.8523, AUC-Macro: 0.0000, Accuracy: 0.8648\n",
      "Saving best model artifacts to C:\\Users\\PC\\Downloads\\Melspectrogram_finetune_NEW\\PestLarvaNet_AudioTwin_Run_2\\data_100.0percent\n"
     ]
    },
    {
     "data": {
      "application/vnd.jupyter.widget-view+json": {
       "model_id": "2367188256bf4611bfe4003512429c04",
       "version_major": 2,
       "version_minor": 0
      },
      "text/plain": [
       "Epoch 57/100:   0%|          | 0/352 [00:00<?, ?it/s]"
      ]
     },
     "metadata": {},
     "output_type": "display_data"
    },
    {
     "name": "stdout",
     "output_type": "stream",
     "text": [
      "\n",
      "Epoch 57: New best F1-weighted: 0.8671\n",
      "  F1-Macro: 0.8553, AUC-Macro: 0.0000, Accuracy: 0.8669\n",
      "Saving best model artifacts to C:\\Users\\PC\\Downloads\\Melspectrogram_finetune_NEW\\PestLarvaNet_AudioTwin_Run_2\\data_100.0percent\n"
     ]
    },
    {
     "data": {
      "application/vnd.jupyter.widget-view+json": {
       "model_id": "40e23e80b26a4470897188d5c945ce59",
       "version_major": 2,
       "version_minor": 0
      },
      "text/plain": [
       "Epoch 58/100:   0%|          | 0/352 [00:00<?, ?it/s]"
      ]
     },
     "metadata": {},
     "output_type": "display_data"
    },
    {
     "data": {
      "application/vnd.jupyter.widget-view+json": {
       "model_id": "0ad9e02a60af43ffa8deb3b556b2bede",
       "version_major": 2,
       "version_minor": 0
      },
      "text/plain": [
       "Epoch 59/100:   0%|          | 0/352 [00:00<?, ?it/s]"
      ]
     },
     "metadata": {},
     "output_type": "display_data"
    },
    {
     "name": "stdout",
     "output_type": "stream",
     "text": [
      "\n",
      "Epoch 59: New best F1-weighted: 0.8756\n",
      "  F1-Macro: 0.8664, AUC-Macro: 0.0000, Accuracy: 0.8754\n",
      "Saving best model artifacts to C:\\Users\\PC\\Downloads\\Melspectrogram_finetune_NEW\\PestLarvaNet_AudioTwin_Run_2\\data_100.0percent\n"
     ]
    },
    {
     "data": {
      "application/vnd.jupyter.widget-view+json": {
       "model_id": "621e372b6b33441e92e1c49fca7ee5b2",
       "version_major": 2,
       "version_minor": 0
      },
      "text/plain": [
       "Epoch 60/100:   0%|          | 0/352 [00:00<?, ?it/s]"
      ]
     },
     "metadata": {},
     "output_type": "display_data"
    },
    {
     "data": {
      "application/vnd.jupyter.widget-view+json": {
       "model_id": "67b3866bc558410f84291f47ee238907",
       "version_major": 2,
       "version_minor": 0
      },
      "text/plain": [
       "Epoch 61/100:   0%|          | 0/352 [00:00<?, ?it/s]"
      ]
     },
     "metadata": {},
     "output_type": "display_data"
    },
    {
     "data": {
      "application/vnd.jupyter.widget-view+json": {
       "model_id": "9bf144400fd6472a98b35c30e2defb16",
       "version_major": 2,
       "version_minor": 0
      },
      "text/plain": [
       "Epoch 62/100:   0%|          | 0/352 [00:00<?, ?it/s]"
      ]
     },
     "metadata": {},
     "output_type": "display_data"
    },
    {
     "data": {
      "application/vnd.jupyter.widget-view+json": {
       "model_id": "f6385afb014643bd928ece7cd8bddca4",
       "version_major": 2,
       "version_minor": 0
      },
      "text/plain": [
       "Epoch 63/100:   0%|          | 0/352 [00:00<?, ?it/s]"
      ]
     },
     "metadata": {},
     "output_type": "display_data"
    },
    {
     "name": "stdout",
     "output_type": "stream",
     "text": [
      "\n",
      "Epoch 63: New best F1-weighted: 0.8819\n",
      "  F1-Macro: 0.8727, AUC-Macro: 0.0000, Accuracy: 0.8815\n",
      "Saving best model artifacts to C:\\Users\\PC\\Downloads\\Melspectrogram_finetune_NEW\\PestLarvaNet_AudioTwin_Run_2\\data_100.0percent\n"
     ]
    },
    {
     "data": {
      "application/vnd.jupyter.widget-view+json": {
       "model_id": "a90dae9548704f7eab49a2a9524530d2",
       "version_major": 2,
       "version_minor": 0
      },
      "text/plain": [
       "Epoch 64/100:   0%|          | 0/352 [00:00<?, ?it/s]"
      ]
     },
     "metadata": {},
     "output_type": "display_data"
    },
    {
     "data": {
      "application/vnd.jupyter.widget-view+json": {
       "model_id": "0d966eb702444b14ae656a46a8c7066a",
       "version_major": 2,
       "version_minor": 0
      },
      "text/plain": [
       "Epoch 65/100:   0%|          | 0/352 [00:00<?, ?it/s]"
      ]
     },
     "metadata": {},
     "output_type": "display_data"
    },
    {
     "data": {
      "application/vnd.jupyter.widget-view+json": {
       "model_id": "ef34d7009d0f41feaa768e4c680a8940",
       "version_major": 2,
       "version_minor": 0
      },
      "text/plain": [
       "Epoch 66/100:   0%|          | 0/352 [00:00<?, ?it/s]"
      ]
     },
     "metadata": {},
     "output_type": "display_data"
    },
    {
     "data": {
      "application/vnd.jupyter.widget-view+json": {
       "model_id": "49d2204c7dda439aa0566fb8f9dd356b",
       "version_major": 2,
       "version_minor": 0
      },
      "text/plain": [
       "Epoch 67/100:   0%|          | 0/352 [00:00<?, ?it/s]"
      ]
     },
     "metadata": {},
     "output_type": "display_data"
    },
    {
     "data": {
      "application/vnd.jupyter.widget-view+json": {
       "model_id": "13bf589f369f43dda6a3f2b408c8e565",
       "version_major": 2,
       "version_minor": 0
      },
      "text/plain": [
       "Epoch 68/100:   0%|          | 0/352 [00:00<?, ?it/s]"
      ]
     },
     "metadata": {},
     "output_type": "display_data"
    },
    {
     "data": {
      "application/vnd.jupyter.widget-view+json": {
       "model_id": "f2ed1228c30f40c584d7f592df5e3b38",
       "version_major": 2,
       "version_minor": 0
      },
      "text/plain": [
       "Epoch 69/100:   0%|          | 0/352 [00:00<?, ?it/s]"
      ]
     },
     "metadata": {},
     "output_type": "display_data"
    },
    {
     "data": {
      "application/vnd.jupyter.widget-view+json": {
       "model_id": "6808777492b64e1da556d49c407b85b3",
       "version_major": 2,
       "version_minor": 0
      },
      "text/plain": [
       "Epoch 70/100:   0%|          | 0/352 [00:00<?, ?it/s]"
      ]
     },
     "metadata": {},
     "output_type": "display_data"
    },
    {
     "name": "stdout",
     "output_type": "stream",
     "text": [
      "\n",
      "Epoch 70: New best F1-weighted: 0.9009\n",
      "  F1-Macro: 0.8932, AUC-Macro: 0.0000, Accuracy: 0.9011\n",
      "Saving best model artifacts to C:\\Users\\PC\\Downloads\\Melspectrogram_finetune_NEW\\PestLarvaNet_AudioTwin_Run_2\\data_100.0percent\n"
     ]
    },
    {
     "data": {
      "application/vnd.jupyter.widget-view+json": {
       "model_id": "4b2f207c8662484fb53a24309ab86e7e",
       "version_major": 2,
       "version_minor": 0
      },
      "text/plain": [
       "Epoch 71/100:   0%|          | 0/352 [00:00<?, ?it/s]"
      ]
     },
     "metadata": {},
     "output_type": "display_data"
    },
    {
     "data": {
      "application/vnd.jupyter.widget-view+json": {
       "model_id": "7a6731bd4d4f47fc8cf1267a8e036d46",
       "version_major": 2,
       "version_minor": 0
      },
      "text/plain": [
       "Epoch 72/100:   0%|          | 0/352 [00:00<?, ?it/s]"
      ]
     },
     "metadata": {},
     "output_type": "display_data"
    },
    {
     "data": {
      "application/vnd.jupyter.widget-view+json": {
       "model_id": "c8ca5ab6d6b04f98b205f76c58451eb9",
       "version_major": 2,
       "version_minor": 0
      },
      "text/plain": [
       "Epoch 73/100:   0%|          | 0/352 [00:00<?, ?it/s]"
      ]
     },
     "metadata": {},
     "output_type": "display_data"
    },
    {
     "data": {
      "application/vnd.jupyter.widget-view+json": {
       "model_id": "db573f7be5104361939d1d8ee4ee6e09",
       "version_major": 2,
       "version_minor": 0
      },
      "text/plain": [
       "Epoch 74/100:   0%|          | 0/352 [00:00<?, ?it/s]"
      ]
     },
     "metadata": {},
     "output_type": "display_data"
    },
    {
     "name": "stdout",
     "output_type": "stream",
     "text": [
      "\n",
      "Epoch 74: New best F1-weighted: 0.9070\n",
      "  F1-Macro: 0.9010, AUC-Macro: 0.0000, Accuracy: 0.9068\n",
      "Saving best model artifacts to C:\\Users\\PC\\Downloads\\Melspectrogram_finetune_NEW\\PestLarvaNet_AudioTwin_Run_2\\data_100.0percent\n"
     ]
    },
    {
     "data": {
      "application/vnd.jupyter.widget-view+json": {
       "model_id": "15724dd41602484790835eb229699594",
       "version_major": 2,
       "version_minor": 0
      },
      "text/plain": [
       "Epoch 75/100:   0%|          | 0/352 [00:00<?, ?it/s]"
      ]
     },
     "metadata": {},
     "output_type": "display_data"
    },
    {
     "data": {
      "application/vnd.jupyter.widget-view+json": {
       "model_id": "082dab5d7f404689bb2dac257db76aca",
       "version_major": 2,
       "version_minor": 0
      },
      "text/plain": [
       "Epoch 76/100:   0%|          | 0/352 [00:00<?, ?it/s]"
      ]
     },
     "metadata": {},
     "output_type": "display_data"
    },
    {
     "data": {
      "application/vnd.jupyter.widget-view+json": {
       "model_id": "2dede742b3a24c7fbcfa03bf7958c4a8",
       "version_major": 2,
       "version_minor": 0
      },
      "text/plain": [
       "Epoch 77/100:   0%|          | 0/352 [00:00<?, ?it/s]"
      ]
     },
     "metadata": {},
     "output_type": "display_data"
    },
    {
     "name": "stdout",
     "output_type": "stream",
     "text": [
      "\n",
      "Epoch 77: New best F1-weighted: 0.9098\n",
      "  F1-Macro: 0.9041, AUC-Macro: 0.0000, Accuracy: 0.9096\n",
      "Saving best model artifacts to C:\\Users\\PC\\Downloads\\Melspectrogram_finetune_NEW\\PestLarvaNet_AudioTwin_Run_2\\data_100.0percent\n"
     ]
    },
    {
     "data": {
      "application/vnd.jupyter.widget-view+json": {
       "model_id": "33ea7924258d407ba97af21633e3b0c1",
       "version_major": 2,
       "version_minor": 0
      },
      "text/plain": [
       "Epoch 78/100:   0%|          | 0/352 [00:00<?, ?it/s]"
      ]
     },
     "metadata": {},
     "output_type": "display_data"
    },
    {
     "data": {
      "application/vnd.jupyter.widget-view+json": {
       "model_id": "dcfd0f51d0d94a9983f6716b06e9eee8",
       "version_major": 2,
       "version_minor": 0
      },
      "text/plain": [
       "Epoch 79/100:   0%|          | 0/352 [00:00<?, ?it/s]"
      ]
     },
     "metadata": {},
     "output_type": "display_data"
    },
    {
     "data": {
      "application/vnd.jupyter.widget-view+json": {
       "model_id": "087028b0fc024eb09bc9ff882214a375",
       "version_major": 2,
       "version_minor": 0
      },
      "text/plain": [
       "Epoch 80/100:   0%|          | 0/352 [00:00<?, ?it/s]"
      ]
     },
     "metadata": {},
     "output_type": "display_data"
    },
    {
     "data": {
      "application/vnd.jupyter.widget-view+json": {
       "model_id": "a9216f8da90c43d0954eb31dc64eaf4c",
       "version_major": 2,
       "version_minor": 0
      },
      "text/plain": [
       "Epoch 81/100:   0%|          | 0/352 [00:00<?, ?it/s]"
      ]
     },
     "metadata": {},
     "output_type": "display_data"
    },
    {
     "data": {
      "application/vnd.jupyter.widget-view+json": {
       "model_id": "9e3658d061724ec88d2a30a2c4ad31a8",
       "version_major": 2,
       "version_minor": 0
      },
      "text/plain": [
       "Epoch 82/100:   0%|          | 0/352 [00:00<?, ?it/s]"
      ]
     },
     "metadata": {},
     "output_type": "display_data"
    },
    {
     "data": {
      "application/vnd.jupyter.widget-view+json": {
       "model_id": "ef216111e8d448089455e0531033612a",
       "version_major": 2,
       "version_minor": 0
      },
      "text/plain": [
       "Epoch 83/100:   0%|          | 0/352 [00:00<?, ?it/s]"
      ]
     },
     "metadata": {},
     "output_type": "display_data"
    },
    {
     "data": {
      "application/vnd.jupyter.widget-view+json": {
       "model_id": "36083f8f8e8e4227a5dab7e2c383f27d",
       "version_major": 2,
       "version_minor": 0
      },
      "text/plain": [
       "Epoch 84/100:   0%|          | 0/352 [00:00<?, ?it/s]"
      ]
     },
     "metadata": {},
     "output_type": "display_data"
    },
    {
     "name": "stdout",
     "output_type": "stream",
     "text": [
      "\n",
      "Epoch 84: New best F1-weighted: 0.9161\n",
      "  F1-Macro: 0.9101, AUC-Macro: 0.0000, Accuracy: 0.9160\n",
      "Saving best model artifacts to C:\\Users\\PC\\Downloads\\Melspectrogram_finetune_NEW\\PestLarvaNet_AudioTwin_Run_2\\data_100.0percent\n"
     ]
    },
    {
     "data": {
      "application/vnd.jupyter.widget-view+json": {
       "model_id": "1bdc37dd94c74ce2b4c9746692ff4af3",
       "version_major": 2,
       "version_minor": 0
      },
      "text/plain": [
       "Epoch 85/100:   0%|          | 0/352 [00:00<?, ?it/s]"
      ]
     },
     "metadata": {},
     "output_type": "display_data"
    },
    {
     "name": "stdout",
     "output_type": "stream",
     "text": [
      "\n",
      "Epoch 85: New best F1-weighted: 0.9168\n",
      "  F1-Macro: 0.9106, AUC-Macro: 0.0000, Accuracy: 0.9167\n",
      "Saving best model artifacts to C:\\Users\\PC\\Downloads\\Melspectrogram_finetune_NEW\\PestLarvaNet_AudioTwin_Run_2\\data_100.0percent\n"
     ]
    },
    {
     "data": {
      "application/vnd.jupyter.widget-view+json": {
       "model_id": "e77325bd4b434d099467db9687175b63",
       "version_major": 2,
       "version_minor": 0
      },
      "text/plain": [
       "Epoch 86/100:   0%|          | 0/352 [00:00<?, ?it/s]"
      ]
     },
     "metadata": {},
     "output_type": "display_data"
    },
    {
     "data": {
      "application/vnd.jupyter.widget-view+json": {
       "model_id": "7275e426c4ee4a09be892fbccc527e3e",
       "version_major": 2,
       "version_minor": 0
      },
      "text/plain": [
       "Epoch 87/100:   0%|          | 0/352 [00:00<?, ?it/s]"
      ]
     },
     "metadata": {},
     "output_type": "display_data"
    },
    {
     "data": {
      "application/vnd.jupyter.widget-view+json": {
       "model_id": "04ced458cd13403f8fdb5ec36a6c24e6",
       "version_major": 2,
       "version_minor": 0
      },
      "text/plain": [
       "Epoch 88/100:   0%|          | 0/352 [00:00<?, ?it/s]"
      ]
     },
     "metadata": {},
     "output_type": "display_data"
    },
    {
     "data": {
      "application/vnd.jupyter.widget-view+json": {
       "model_id": "30f5cee58c924caaad4302ee0e67010d",
       "version_major": 2,
       "version_minor": 0
      },
      "text/plain": [
       "Epoch 89/100:   0%|          | 0/352 [00:00<?, ?it/s]"
      ]
     },
     "metadata": {},
     "output_type": "display_data"
    },
    {
     "data": {
      "application/vnd.jupyter.widget-view+json": {
       "model_id": "aca2241a83014293926a31a4fd822a68",
       "version_major": 2,
       "version_minor": 0
      },
      "text/plain": [
       "Epoch 90/100:   0%|          | 0/352 [00:00<?, ?it/s]"
      ]
     },
     "metadata": {},
     "output_type": "display_data"
    },
    {
     "data": {
      "application/vnd.jupyter.widget-view+json": {
       "model_id": "710519203d0546a5a03fcaf4e8eafd06",
       "version_major": 2,
       "version_minor": 0
      },
      "text/plain": [
       "Epoch 91/100:   0%|          | 0/352 [00:00<?, ?it/s]"
      ]
     },
     "metadata": {},
     "output_type": "display_data"
    },
    {
     "data": {
      "application/vnd.jupyter.widget-view+json": {
       "model_id": "9c357492bbb24834a4b741c84306e2e2",
       "version_major": 2,
       "version_minor": 0
      },
      "text/plain": [
       "Epoch 92/100:   0%|          | 0/352 [00:00<?, ?it/s]"
      ]
     },
     "metadata": {},
     "output_type": "display_data"
    },
    {
     "data": {
      "application/vnd.jupyter.widget-view+json": {
       "model_id": "a08463abc94d468c86c161a432b8393d",
       "version_major": 2,
       "version_minor": 0
      },
      "text/plain": [
       "Epoch 93/100:   0%|          | 0/352 [00:00<?, ?it/s]"
      ]
     },
     "metadata": {},
     "output_type": "display_data"
    },
    {
     "data": {
      "application/vnd.jupyter.widget-view+json": {
       "model_id": "d8def8cf873d49e1b458883f5e902062",
       "version_major": 2,
       "version_minor": 0
      },
      "text/plain": [
       "Epoch 94/100:   0%|          | 0/352 [00:00<?, ?it/s]"
      ]
     },
     "metadata": {},
     "output_type": "display_data"
    },
    {
     "name": "stdout",
     "output_type": "stream",
     "text": [
      "\n",
      "Epoch 94: New best F1-weighted: 0.9169\n",
      "  F1-Macro: 0.9122, AUC-Macro: 0.0000, Accuracy: 0.9167\n",
      "Saving best model artifacts to C:\\Users\\PC\\Downloads\\Melspectrogram_finetune_NEW\\PestLarvaNet_AudioTwin_Run_2\\data_100.0percent\n"
     ]
    },
    {
     "data": {
      "application/vnd.jupyter.widget-view+json": {
       "model_id": "d1fe578aaebe4e2eb26e0c9ff22db130",
       "version_major": 2,
       "version_minor": 0
      },
      "text/plain": [
       "Epoch 95/100:   0%|          | 0/352 [00:00<?, ?it/s]"
      ]
     },
     "metadata": {},
     "output_type": "display_data"
    },
    {
     "data": {
      "application/vnd.jupyter.widget-view+json": {
       "model_id": "9181b98f221b407fa373e6b383019420",
       "version_major": 2,
       "version_minor": 0
      },
      "text/plain": [
       "Epoch 96/100:   0%|          | 0/352 [00:00<?, ?it/s]"
      ]
     },
     "metadata": {},
     "output_type": "display_data"
    },
    {
     "data": {
      "application/vnd.jupyter.widget-view+json": {
       "model_id": "1a73e9d3d75e4a2dacc638c78d19a0de",
       "version_major": 2,
       "version_minor": 0
      },
      "text/plain": [
       "Epoch 97/100:   0%|          | 0/352 [00:00<?, ?it/s]"
      ]
     },
     "metadata": {},
     "output_type": "display_data"
    },
    {
     "data": {
      "application/vnd.jupyter.widget-view+json": {
       "model_id": "d7842837b2064dc29d3809b3ba60878d",
       "version_major": 2,
       "version_minor": 0
      },
      "text/plain": [
       "Epoch 98/100:   0%|          | 0/352 [00:00<?, ?it/s]"
      ]
     },
     "metadata": {},
     "output_type": "display_data"
    },
    {
     "name": "stdout",
     "output_type": "stream",
     "text": [
      "\n",
      "Epoch 98: New best F1-weighted: 0.9196\n",
      "  F1-Macro: 0.9151, AUC-Macro: 0.0000, Accuracy: 0.9196\n",
      "Saving best model artifacts to C:\\Users\\PC\\Downloads\\Melspectrogram_finetune_NEW\\PestLarvaNet_AudioTwin_Run_2\\data_100.0percent\n"
     ]
    },
    {
     "data": {
      "application/vnd.jupyter.widget-view+json": {
       "model_id": "e27ec8f09ab446f19b4a3cc418b1f121",
       "version_major": 2,
       "version_minor": 0
      },
      "text/plain": [
       "Epoch 99/100:   0%|          | 0/352 [00:00<?, ?it/s]"
      ]
     },
     "metadata": {},
     "output_type": "display_data"
    },
    {
     "data": {
      "application/vnd.jupyter.widget-view+json": {
       "model_id": "35488e0e8b2e43a2848906f619aedc01",
       "version_major": 2,
       "version_minor": 0
      },
      "text/plain": [
       "Epoch 100/100:   0%|          | 0/352 [00:00<?, ?it/s]"
      ]
     },
     "metadata": {},
     "output_type": "display_data"
    },
    {
     "name": "stdout",
     "output_type": "stream",
     "text": [
      "\n",
      "Epoch 100: New best F1-weighted: 0.9208\n",
      "  F1-Macro: 0.9156, AUC-Macro: 0.0000, Accuracy: 0.9206\n",
      "Saving best model artifacts to C:\\Users\\PC\\Downloads\\Melspectrogram_finetune_NEW\\PestLarvaNet_AudioTwin_Run_2\\data_100.0percent\n",
      "Finished Training for this run. Best F1-weighted: 0.9208\n",
      "==> Results with 100.0% data: Best F1-Weighted = 0.9208\n",
      "\n",
      "==================== Evaluating: PestLarvaNet (AudioTwin Run 3) ====================\n",
      "Lưu kết quả của model này vào: C:\\Users\\PC\\Downloads\\Melspectrogram_finetune_NEW\\PestLarvaNet_AudioTwin_Run_3\n",
      "--- Training with 25.0% of labeled data ---\n",
      "Loading pretrained weights from: C:\\Users\\PC\\PestLarvaNet\\SSL\\audiotwin_checkpoints_medium\\Final checkpoint\\run_3_lp1e-03_ep1e-06_lb0.005_audiotwin_pestlarvanet_medium_epoch_100.pth\n"
     ]
    },
    {
     "name": "stderr",
     "output_type": "stream",
     "text": [
      "C:\\Users\\PC\\anaconda3\\envs\\FallDeteNet\\lib\\site-packages\\torch\\optim\\lr_scheduler.py:62: UserWarning: The verbose parameter is deprecated. Please use get_last_lr() to access the learning rate.\n",
      "  warnings.warn(\n"
     ]
    },
    {
     "data": {
      "application/vnd.jupyter.widget-view+json": {
       "model_id": "81c45f224727412d95c5f0eb912a22b5",
       "version_major": 2,
       "version_minor": 0
      },
      "text/plain": [
       "Epoch 1/100:   0%|          | 0/88 [00:00<?, ?it/s]"
      ]
     },
     "metadata": {},
     "output_type": "display_data"
    },
    {
     "name": "stdout",
     "output_type": "stream",
     "text": [
      "\n",
      "Epoch 1: New best F1-weighted: 0.4304\n",
      "  F1-Macro: 0.3617, AUC-Macro: 0.0000, Accuracy: 0.4836\n",
      "Saving best model artifacts to C:\\Users\\PC\\Downloads\\Melspectrogram_finetune_NEW\\PestLarvaNet_AudioTwin_Run_3\\data_25.0percent\n"
     ]
    },
    {
     "data": {
      "application/vnd.jupyter.widget-view+json": {
       "model_id": "8fe681a181514e39b00eccc76568b14e",
       "version_major": 2,
       "version_minor": 0
      },
      "text/plain": [
       "Epoch 2/100:   0%|          | 0/88 [00:00<?, ?it/s]"
      ]
     },
     "metadata": {},
     "output_type": "display_data"
    },
    {
     "name": "stdout",
     "output_type": "stream",
     "text": [
      "\n",
      "Epoch 2: New best F1-weighted: 0.4774\n",
      "  F1-Macro: 0.4149, AUC-Macro: 0.0000, Accuracy: 0.5082\n",
      "Saving best model artifacts to C:\\Users\\PC\\Downloads\\Melspectrogram_finetune_NEW\\PestLarvaNet_AudioTwin_Run_3\\data_25.0percent\n"
     ]
    },
    {
     "data": {
      "application/vnd.jupyter.widget-view+json": {
       "model_id": "ce2f2556dcce4b8d8530acb6ee4fa1e5",
       "version_major": 2,
       "version_minor": 0
      },
      "text/plain": [
       "Epoch 3/100:   0%|          | 0/88 [00:00<?, ?it/s]"
      ]
     },
     "metadata": {},
     "output_type": "display_data"
    },
    {
     "name": "stdout",
     "output_type": "stream",
     "text": [
      "\n",
      "Epoch 3: New best F1-weighted: 0.5016\n",
      "  F1-Macro: 0.4352, AUC-Macro: 0.0000, Accuracy: 0.5598\n",
      "Saving best model artifacts to C:\\Users\\PC\\Downloads\\Melspectrogram_finetune_NEW\\PestLarvaNet_AudioTwin_Run_3\\data_25.0percent\n"
     ]
    },
    {
     "data": {
      "application/vnd.jupyter.widget-view+json": {
       "model_id": "4bf6376f084c4acb8f1b0516ec092a85",
       "version_major": 2,
       "version_minor": 0
      },
      "text/plain": [
       "Epoch 4/100:   0%|          | 0/88 [00:00<?, ?it/s]"
      ]
     },
     "metadata": {},
     "output_type": "display_data"
    },
    {
     "name": "stdout",
     "output_type": "stream",
     "text": [
      "\n",
      "Epoch 4: New best F1-weighted: 0.5162\n",
      "  F1-Macro: 0.4351, AUC-Macro: 0.0000, Accuracy: 0.5658\n",
      "Saving best model artifacts to C:\\Users\\PC\\Downloads\\Melspectrogram_finetune_NEW\\PestLarvaNet_AudioTwin_Run_3\\data_25.0percent\n"
     ]
    },
    {
     "data": {
      "application/vnd.jupyter.widget-view+json": {
       "model_id": "8d80b27261544bada016308c5bb429c0",
       "version_major": 2,
       "version_minor": 0
      },
      "text/plain": [
       "Epoch 5/100:   0%|          | 0/88 [00:00<?, ?it/s]"
      ]
     },
     "metadata": {},
     "output_type": "display_data"
    },
    {
     "name": "stdout",
     "output_type": "stream",
     "text": [
      "\n",
      "Epoch 5: New best F1-weighted: 0.5352\n",
      "  F1-Macro: 0.4670, AUC-Macro: 0.0000, Accuracy: 0.5751\n",
      "Saving best model artifacts to C:\\Users\\PC\\Downloads\\Melspectrogram_finetune_NEW\\PestLarvaNet_AudioTwin_Run_3\\data_25.0percent\n"
     ]
    },
    {
     "data": {
      "application/vnd.jupyter.widget-view+json": {
       "model_id": "f6d7108f5d9e413989ff2c99b3245e5d",
       "version_major": 2,
       "version_minor": 0
      },
      "text/plain": [
       "Epoch 6/100:   0%|          | 0/88 [00:00<?, ?it/s]"
      ]
     },
     "metadata": {},
     "output_type": "display_data"
    },
    {
     "name": "stdout",
     "output_type": "stream",
     "text": [
      "\n",
      "Epoch 6: New best F1-weighted: 0.5406\n",
      "  F1-Macro: 0.4665, AUC-Macro: 0.0000, Accuracy: 0.5740\n",
      "Saving best model artifacts to C:\\Users\\PC\\Downloads\\Melspectrogram_finetune_NEW\\PestLarvaNet_AudioTwin_Run_3\\data_25.0percent\n"
     ]
    },
    {
     "data": {
      "application/vnd.jupyter.widget-view+json": {
       "model_id": "bf5a3c7909f74626892d54de571a58c9",
       "version_major": 2,
       "version_minor": 0
      },
      "text/plain": [
       "Epoch 7/100:   0%|          | 0/88 [00:00<?, ?it/s]"
      ]
     },
     "metadata": {},
     "output_type": "display_data"
    },
    {
     "name": "stdout",
     "output_type": "stream",
     "text": [
      "\n",
      "Epoch 7: New best F1-weighted: 0.5448\n",
      "  F1-Macro: 0.4763, AUC-Macro: 0.0000, Accuracy: 0.5683\n",
      "Saving best model artifacts to C:\\Users\\PC\\Downloads\\Melspectrogram_finetune_NEW\\PestLarvaNet_AudioTwin_Run_3\\data_25.0percent\n"
     ]
    },
    {
     "data": {
      "application/vnd.jupyter.widget-view+json": {
       "model_id": "d1388c49ee42436ea31361b0aa22df34",
       "version_major": 2,
       "version_minor": 0
      },
      "text/plain": [
       "Epoch 8/100:   0%|          | 0/88 [00:00<?, ?it/s]"
      ]
     },
     "metadata": {},
     "output_type": "display_data"
    },
    {
     "data": {
      "application/vnd.jupyter.widget-view+json": {
       "model_id": "5b07448e660041e097118a1f4897c360",
       "version_major": 2,
       "version_minor": 0
      },
      "text/plain": [
       "Epoch 9/100:   0%|          | 0/88 [00:00<?, ?it/s]"
      ]
     },
     "metadata": {},
     "output_type": "display_data"
    },
    {
     "name": "stdout",
     "output_type": "stream",
     "text": [
      "\n",
      "Epoch 9: New best F1-weighted: 0.5710\n",
      "  F1-Macro: 0.5063, AUC-Macro: 0.0000, Accuracy: 0.5826\n",
      "Saving best model artifacts to C:\\Users\\PC\\Downloads\\Melspectrogram_finetune_NEW\\PestLarvaNet_AudioTwin_Run_3\\data_25.0percent\n"
     ]
    },
    {
     "data": {
      "application/vnd.jupyter.widget-view+json": {
       "model_id": "7c67f6387cb546ce906bf0784d017391",
       "version_major": 2,
       "version_minor": 0
      },
      "text/plain": [
       "Epoch 10/100:   0%|          | 0/88 [00:00<?, ?it/s]"
      ]
     },
     "metadata": {},
     "output_type": "display_data"
    },
    {
     "name": "stdout",
     "output_type": "stream",
     "text": [
      "\n",
      "Epoch 10: New best F1-weighted: 0.5940\n",
      "  F1-Macro: 0.5213, AUC-Macro: 0.0000, Accuracy: 0.6249\n",
      "Saving best model artifacts to C:\\Users\\PC\\Downloads\\Melspectrogram_finetune_NEW\\PestLarvaNet_AudioTwin_Run_3\\data_25.0percent\n"
     ]
    },
    {
     "data": {
      "application/vnd.jupyter.widget-view+json": {
       "model_id": "cf6653b3aed8483090edb311e5eb9783",
       "version_major": 2,
       "version_minor": 0
      },
      "text/plain": [
       "Epoch 11/100:   0%|          | 0/88 [00:00<?, ?it/s]"
      ]
     },
     "metadata": {},
     "output_type": "display_data"
    },
    {
     "data": {
      "application/vnd.jupyter.widget-view+json": {
       "model_id": "7ce1ccec4cfe49febeb2abf164aa4921",
       "version_major": 2,
       "version_minor": 0
      },
      "text/plain": [
       "Epoch 12/100:   0%|          | 0/88 [00:00<?, ?it/s]"
      ]
     },
     "metadata": {},
     "output_type": "display_data"
    },
    {
     "data": {
      "application/vnd.jupyter.widget-view+json": {
       "model_id": "20c8e02922fe48acbbac31bb315d8d8c",
       "version_major": 2,
       "version_minor": 0
      },
      "text/plain": [
       "Epoch 13/100:   0%|          | 0/88 [00:00<?, ?it/s]"
      ]
     },
     "metadata": {},
     "output_type": "display_data"
    },
    {
     "data": {
      "application/vnd.jupyter.widget-view+json": {
       "model_id": "8c6f970294b04b6eb25d156ded9c7cba",
       "version_major": 2,
       "version_minor": 0
      },
      "text/plain": [
       "Epoch 14/100:   0%|          | 0/88 [00:00<?, ?it/s]"
      ]
     },
     "metadata": {},
     "output_type": "display_data"
    },
    {
     "data": {
      "application/vnd.jupyter.widget-view+json": {
       "model_id": "0dfe426b2bf54223bc9f97f9b5763923",
       "version_major": 2,
       "version_minor": 0
      },
      "text/plain": [
       "Epoch 15/100:   0%|          | 0/88 [00:00<?, ?it/s]"
      ]
     },
     "metadata": {},
     "output_type": "display_data"
    },
    {
     "data": {
      "application/vnd.jupyter.widget-view+json": {
       "model_id": "99fecb4fb3eb4b11b49a39157df77e4c",
       "version_major": 2,
       "version_minor": 0
      },
      "text/plain": [
       "Epoch 16/100:   0%|          | 0/88 [00:00<?, ?it/s]"
      ]
     },
     "metadata": {},
     "output_type": "display_data"
    },
    {
     "data": {
      "application/vnd.jupyter.widget-view+json": {
       "model_id": "c7241e353d1e4ba4b6398beb454ab536",
       "version_major": 2,
       "version_minor": 0
      },
      "text/plain": [
       "Epoch 17/100:   0%|          | 0/88 [00:00<?, ?it/s]"
      ]
     },
     "metadata": {},
     "output_type": "display_data"
    },
    {
     "data": {
      "application/vnd.jupyter.widget-view+json": {
       "model_id": "55b3261b7da04b3c894ed5213b2e2c62",
       "version_major": 2,
       "version_minor": 0
      },
      "text/plain": [
       "Epoch 18/100:   0%|          | 0/88 [00:00<?, ?it/s]"
      ]
     },
     "metadata": {},
     "output_type": "display_data"
    },
    {
     "name": "stdout",
     "output_type": "stream",
     "text": [
      "\n",
      "Epoch 18: New best F1-weighted: 0.6274\n",
      "  F1-Macro: 0.5625, AUC-Macro: 0.0000, Accuracy: 0.6477\n",
      "Saving best model artifacts to C:\\Users\\PC\\Downloads\\Melspectrogram_finetune_NEW\\PestLarvaNet_AudioTwin_Run_3\\data_25.0percent\n"
     ]
    },
    {
     "data": {
      "application/vnd.jupyter.widget-view+json": {
       "model_id": "069c86c795524bad8c41260b4938484c",
       "version_major": 2,
       "version_minor": 0
      },
      "text/plain": [
       "Epoch 19/100:   0%|          | 0/88 [00:00<?, ?it/s]"
      ]
     },
     "metadata": {},
     "output_type": "display_data"
    },
    {
     "name": "stdout",
     "output_type": "stream",
     "text": [
      "\n",
      "Epoch 19: New best F1-weighted: 0.6391\n",
      "  F1-Macro: 0.5710, AUC-Macro: 0.0000, Accuracy: 0.6626\n",
      "Saving best model artifacts to C:\\Users\\PC\\Downloads\\Melspectrogram_finetune_NEW\\PestLarvaNet_AudioTwin_Run_3\\data_25.0percent\n"
     ]
    },
    {
     "data": {
      "application/vnd.jupyter.widget-view+json": {
       "model_id": "3eedd16bd98a4971967ae456b8ea1d29",
       "version_major": 2,
       "version_minor": 0
      },
      "text/plain": [
       "Epoch 20/100:   0%|          | 0/88 [00:00<?, ?it/s]"
      ]
     },
     "metadata": {},
     "output_type": "display_data"
    },
    {
     "data": {
      "application/vnd.jupyter.widget-view+json": {
       "model_id": "b6d899c483f04fbea9171f58520a801c",
       "version_major": 2,
       "version_minor": 0
      },
      "text/plain": [
       "Epoch 21/100:   0%|          | 0/88 [00:00<?, ?it/s]"
      ]
     },
     "metadata": {},
     "output_type": "display_data"
    },
    {
     "data": {
      "application/vnd.jupyter.widget-view+json": {
       "model_id": "1477f9e1c6f64455a58de46a1d9d156a",
       "version_major": 2,
       "version_minor": 0
      },
      "text/plain": [
       "Epoch 22/100:   0%|          | 0/88 [00:00<?, ?it/s]"
      ]
     },
     "metadata": {},
     "output_type": "display_data"
    },
    {
     "name": "stdout",
     "output_type": "stream",
     "text": [
      "\n",
      "Epoch 22: New best F1-weighted: 0.6543\n",
      "  F1-Macro: 0.5892, AUC-Macro: 0.0000, Accuracy: 0.6765\n",
      "Saving best model artifacts to C:\\Users\\PC\\Downloads\\Melspectrogram_finetune_NEW\\PestLarvaNet_AudioTwin_Run_3\\data_25.0percent\n"
     ]
    },
    {
     "data": {
      "application/vnd.jupyter.widget-view+json": {
       "model_id": "d12d41851bad4b26b3099ede33aabee0",
       "version_major": 2,
       "version_minor": 0
      },
      "text/plain": [
       "Epoch 23/100:   0%|          | 0/88 [00:00<?, ?it/s]"
      ]
     },
     "metadata": {},
     "output_type": "display_data"
    },
    {
     "data": {
      "application/vnd.jupyter.widget-view+json": {
       "model_id": "12ff7769d3394450b4d055fb5c404ea3",
       "version_major": 2,
       "version_minor": 0
      },
      "text/plain": [
       "Epoch 24/100:   0%|          | 0/88 [00:00<?, ?it/s]"
      ]
     },
     "metadata": {},
     "output_type": "display_data"
    },
    {
     "name": "stdout",
     "output_type": "stream",
     "text": [
      "\n",
      "Epoch 24: New best F1-weighted: 0.6610\n",
      "  F1-Macro: 0.5959, AUC-Macro: 0.0000, Accuracy: 0.6822\n",
      "Saving best model artifacts to C:\\Users\\PC\\Downloads\\Melspectrogram_finetune_NEW\\PestLarvaNet_AudioTwin_Run_3\\data_25.0percent\n"
     ]
    },
    {
     "data": {
      "application/vnd.jupyter.widget-view+json": {
       "model_id": "5054a5c489524b64b2de2d715a2e0c0c",
       "version_major": 2,
       "version_minor": 0
      },
      "text/plain": [
       "Epoch 25/100:   0%|          | 0/88 [00:00<?, ?it/s]"
      ]
     },
     "metadata": {},
     "output_type": "display_data"
    },
    {
     "data": {
      "application/vnd.jupyter.widget-view+json": {
       "model_id": "2d3eb3b2592440fcbe7eef8a0667e163",
       "version_major": 2,
       "version_minor": 0
      },
      "text/plain": [
       "Epoch 26/100:   0%|          | 0/88 [00:00<?, ?it/s]"
      ]
     },
     "metadata": {},
     "output_type": "display_data"
    },
    {
     "name": "stdout",
     "output_type": "stream",
     "text": [
      "\n",
      "Epoch 26: New best F1-weighted: 0.6695\n",
      "  F1-Macro: 0.6140, AUC-Macro: 0.0000, Accuracy: 0.6836\n",
      "Saving best model artifacts to C:\\Users\\PC\\Downloads\\Melspectrogram_finetune_NEW\\PestLarvaNet_AudioTwin_Run_3\\data_25.0percent\n"
     ]
    },
    {
     "data": {
      "application/vnd.jupyter.widget-view+json": {
       "model_id": "cb05e3f2c59947fe9d3a9106a1ab61fa",
       "version_major": 2,
       "version_minor": 0
      },
      "text/plain": [
       "Epoch 27/100:   0%|          | 0/88 [00:00<?, ?it/s]"
      ]
     },
     "metadata": {},
     "output_type": "display_data"
    },
    {
     "data": {
      "application/vnd.jupyter.widget-view+json": {
       "model_id": "015742439ae34f0fb06c914795286d94",
       "version_major": 2,
       "version_minor": 0
      },
      "text/plain": [
       "Epoch 28/100:   0%|          | 0/88 [00:00<?, ?it/s]"
      ]
     },
     "metadata": {},
     "output_type": "display_data"
    },
    {
     "data": {
      "application/vnd.jupyter.widget-view+json": {
       "model_id": "839de31a3f404b01b57194f07a3eb6e3",
       "version_major": 2,
       "version_minor": 0
      },
      "text/plain": [
       "Epoch 29/100:   0%|          | 0/88 [00:00<?, ?it/s]"
      ]
     },
     "metadata": {},
     "output_type": "display_data"
    },
    {
     "name": "stdout",
     "output_type": "stream",
     "text": [
      "\n",
      "Epoch 29: New best F1-weighted: 0.6784\n",
      "  F1-Macro: 0.6363, AUC-Macro: 0.0000, Accuracy: 0.6801\n",
      "Saving best model artifacts to C:\\Users\\PC\\Downloads\\Melspectrogram_finetune_NEW\\PestLarvaNet_AudioTwin_Run_3\\data_25.0percent\n"
     ]
    },
    {
     "data": {
      "application/vnd.jupyter.widget-view+json": {
       "model_id": "975f73a49f644507accad2f61cdff3f7",
       "version_major": 2,
       "version_minor": 0
      },
      "text/plain": [
       "Epoch 30/100:   0%|          | 0/88 [00:00<?, ?it/s]"
      ]
     },
     "metadata": {},
     "output_type": "display_data"
    },
    {
     "data": {
      "application/vnd.jupyter.widget-view+json": {
       "model_id": "971c6e59d0264deeab184ce7e5e9ebe2",
       "version_major": 2,
       "version_minor": 0
      },
      "text/plain": [
       "Epoch 31/100:   0%|          | 0/88 [00:00<?, ?it/s]"
      ]
     },
     "metadata": {},
     "output_type": "display_data"
    },
    {
     "data": {
      "application/vnd.jupyter.widget-view+json": {
       "model_id": "bd824534b0604b9081eb80e2857629ee",
       "version_major": 2,
       "version_minor": 0
      },
      "text/plain": [
       "Epoch 32/100:   0%|          | 0/88 [00:00<?, ?it/s]"
      ]
     },
     "metadata": {},
     "output_type": "display_data"
    },
    {
     "data": {
      "application/vnd.jupyter.widget-view+json": {
       "model_id": "c34620b1655c4f6eba1f45bdeef0b6fb",
       "version_major": 2,
       "version_minor": 0
      },
      "text/plain": [
       "Epoch 33/100:   0%|          | 0/88 [00:00<?, ?it/s]"
      ]
     },
     "metadata": {},
     "output_type": "display_data"
    },
    {
     "name": "stdout",
     "output_type": "stream",
     "text": [
      "\n",
      "Epoch 33: New best F1-weighted: 0.6998\n",
      "  F1-Macro: 0.6575, AUC-Macro: 0.0000, Accuracy: 0.7075\n",
      "Saving best model artifacts to C:\\Users\\PC\\Downloads\\Melspectrogram_finetune_NEW\\PestLarvaNet_AudioTwin_Run_3\\data_25.0percent\n"
     ]
    },
    {
     "data": {
      "application/vnd.jupyter.widget-view+json": {
       "model_id": "4e09c51766944146b3a582527a9c212d",
       "version_major": 2,
       "version_minor": 0
      },
      "text/plain": [
       "Epoch 34/100:   0%|          | 0/88 [00:00<?, ?it/s]"
      ]
     },
     "metadata": {},
     "output_type": "display_data"
    },
    {
     "data": {
      "application/vnd.jupyter.widget-view+json": {
       "model_id": "4c38f8c24f094ea2b6c05227b756ff9b",
       "version_major": 2,
       "version_minor": 0
      },
      "text/plain": [
       "Epoch 35/100:   0%|          | 0/88 [00:00<?, ?it/s]"
      ]
     },
     "metadata": {},
     "output_type": "display_data"
    },
    {
     "name": "stdout",
     "output_type": "stream",
     "text": [
      "\n",
      "Epoch 35: New best F1-weighted: 0.7130\n",
      "  F1-Macro: 0.6708, AUC-Macro: 0.0000, Accuracy: 0.7164\n",
      "Saving best model artifacts to C:\\Users\\PC\\Downloads\\Melspectrogram_finetune_NEW\\PestLarvaNet_AudioTwin_Run_3\\data_25.0percent\n"
     ]
    },
    {
     "data": {
      "application/vnd.jupyter.widget-view+json": {
       "model_id": "3e8ffeb3d3524ddda6ca449b6525ba17",
       "version_major": 2,
       "version_minor": 0
      },
      "text/plain": [
       "Epoch 36/100:   0%|          | 0/88 [00:00<?, ?it/s]"
      ]
     },
     "metadata": {},
     "output_type": "display_data"
    },
    {
     "data": {
      "application/vnd.jupyter.widget-view+json": {
       "model_id": "24b42d72f934499c9d1bdfccfbf64dca",
       "version_major": 2,
       "version_minor": 0
      },
      "text/plain": [
       "Epoch 37/100:   0%|          | 0/88 [00:00<?, ?it/s]"
      ]
     },
     "metadata": {},
     "output_type": "display_data"
    },
    {
     "data": {
      "application/vnd.jupyter.widget-view+json": {
       "model_id": "525278cce186424295be482b85173955",
       "version_major": 2,
       "version_minor": 0
      },
      "text/plain": [
       "Epoch 38/100:   0%|          | 0/88 [00:00<?, ?it/s]"
      ]
     },
     "metadata": {},
     "output_type": "display_data"
    },
    {
     "name": "stdout",
     "output_type": "stream",
     "text": [
      "\n",
      "Epoch 38: New best F1-weighted: 0.7256\n",
      "  F1-Macro: 0.6814, AUC-Macro: 0.0000, Accuracy: 0.7356\n",
      "Saving best model artifacts to C:\\Users\\PC\\Downloads\\Melspectrogram_finetune_NEW\\PestLarvaNet_AudioTwin_Run_3\\data_25.0percent\n"
     ]
    },
    {
     "data": {
      "application/vnd.jupyter.widget-view+json": {
       "model_id": "91cee2ce7ccc4cd2a2d44198d8976810",
       "version_major": 2,
       "version_minor": 0
      },
      "text/plain": [
       "Epoch 39/100:   0%|          | 0/88 [00:00<?, ?it/s]"
      ]
     },
     "metadata": {},
     "output_type": "display_data"
    },
    {
     "data": {
      "application/vnd.jupyter.widget-view+json": {
       "model_id": "dfbe3c3d8347493f9bec0c8c7f256e58",
       "version_major": 2,
       "version_minor": 0
      },
      "text/plain": [
       "Epoch 40/100:   0%|          | 0/88 [00:00<?, ?it/s]"
      ]
     },
     "metadata": {},
     "output_type": "display_data"
    },
    {
     "data": {
      "application/vnd.jupyter.widget-view+json": {
       "model_id": "b4da10f45b384b498cf53b51876acfec",
       "version_major": 2,
       "version_minor": 0
      },
      "text/plain": [
       "Epoch 41/100:   0%|          | 0/88 [00:00<?, ?it/s]"
      ]
     },
     "metadata": {},
     "output_type": "display_data"
    },
    {
     "data": {
      "application/vnd.jupyter.widget-view+json": {
       "model_id": "4d6124bf371a4b0f82879e4ab1a4a1fb",
       "version_major": 2,
       "version_minor": 0
      },
      "text/plain": [
       "Epoch 42/100:   0%|          | 0/88 [00:00<?, ?it/s]"
      ]
     },
     "metadata": {},
     "output_type": "display_data"
    },
    {
     "name": "stdout",
     "output_type": "stream",
     "text": [
      "\n",
      "Epoch 42: New best F1-weighted: 0.7304\n",
      "  F1-Macro: 0.6895, AUC-Macro: 0.0000, Accuracy: 0.7384\n",
      "Saving best model artifacts to C:\\Users\\PC\\Downloads\\Melspectrogram_finetune_NEW\\PestLarvaNet_AudioTwin_Run_3\\data_25.0percent\n"
     ]
    },
    {
     "data": {
      "application/vnd.jupyter.widget-view+json": {
       "model_id": "7db53e926c154d9aa599b2846a35d621",
       "version_major": 2,
       "version_minor": 0
      },
      "text/plain": [
       "Epoch 43/100:   0%|          | 0/88 [00:00<?, ?it/s]"
      ]
     },
     "metadata": {},
     "output_type": "display_data"
    },
    {
     "data": {
      "application/vnd.jupyter.widget-view+json": {
       "model_id": "acc2e159b6fb4b18997469d4cd2bbbda",
       "version_major": 2,
       "version_minor": 0
      },
      "text/plain": [
       "Epoch 44/100:   0%|          | 0/88 [00:00<?, ?it/s]"
      ]
     },
     "metadata": {},
     "output_type": "display_data"
    },
    {
     "data": {
      "application/vnd.jupyter.widget-view+json": {
       "model_id": "975db1d591d14623832af638acd4dc55",
       "version_major": 2,
       "version_minor": 0
      },
      "text/plain": [
       "Epoch 45/100:   0%|          | 0/88 [00:00<?, ?it/s]"
      ]
     },
     "metadata": {},
     "output_type": "display_data"
    },
    {
     "data": {
      "application/vnd.jupyter.widget-view+json": {
       "model_id": "2106b526cf37454fadeba89bafd2fc78",
       "version_major": 2,
       "version_minor": 0
      },
      "text/plain": [
       "Epoch 46/100:   0%|          | 0/88 [00:00<?, ?it/s]"
      ]
     },
     "metadata": {},
     "output_type": "display_data"
    },
    {
     "name": "stdout",
     "output_type": "stream",
     "text": [
      "\n",
      "Epoch 46: New best F1-weighted: 0.7392\n",
      "  F1-Macro: 0.7057, AUC-Macro: 0.0000, Accuracy: 0.7406\n",
      "Saving best model artifacts to C:\\Users\\PC\\Downloads\\Melspectrogram_finetune_NEW\\PestLarvaNet_AudioTwin_Run_3\\data_25.0percent\n"
     ]
    },
    {
     "data": {
      "application/vnd.jupyter.widget-view+json": {
       "model_id": "fc22690a3da347b4aa2ba518aa62ccf2",
       "version_major": 2,
       "version_minor": 0
      },
      "text/plain": [
       "Epoch 47/100:   0%|          | 0/88 [00:00<?, ?it/s]"
      ]
     },
     "metadata": {},
     "output_type": "display_data"
    },
    {
     "data": {
      "application/vnd.jupyter.widget-view+json": {
       "model_id": "c4a0042dd34c421b968b4d4af7b20f2a",
       "version_major": 2,
       "version_minor": 0
      },
      "text/plain": [
       "Epoch 48/100:   0%|          | 0/88 [00:00<?, ?it/s]"
      ]
     },
     "metadata": {},
     "output_type": "display_data"
    },
    {
     "data": {
      "application/vnd.jupyter.widget-view+json": {
       "model_id": "350cdf2010b2466cbb4e1d28252af439",
       "version_major": 2,
       "version_minor": 0
      },
      "text/plain": [
       "Epoch 49/100:   0%|          | 0/88 [00:00<?, ?it/s]"
      ]
     },
     "metadata": {},
     "output_type": "display_data"
    },
    {
     "data": {
      "application/vnd.jupyter.widget-view+json": {
       "model_id": "579c52df7bac4d1eaac371e39be966cf",
       "version_major": 2,
       "version_minor": 0
      },
      "text/plain": [
       "Epoch 50/100:   0%|          | 0/88 [00:00<?, ?it/s]"
      ]
     },
     "metadata": {},
     "output_type": "display_data"
    },
    {
     "data": {
      "application/vnd.jupyter.widget-view+json": {
       "model_id": "d43759681edb4b8f9c7cf6ddb4192789",
       "version_major": 2,
       "version_minor": 0
      },
      "text/plain": [
       "Epoch 51/100:   0%|          | 0/88 [00:00<?, ?it/s]"
      ]
     },
     "metadata": {},
     "output_type": "display_data"
    },
    {
     "data": {
      "application/vnd.jupyter.widget-view+json": {
       "model_id": "251963b41f8b42bf8cc6ef89c0127550",
       "version_major": 2,
       "version_minor": 0
      },
      "text/plain": [
       "Epoch 52/100:   0%|          | 0/88 [00:00<?, ?it/s]"
      ]
     },
     "metadata": {},
     "output_type": "display_data"
    },
    {
     "name": "stdout",
     "output_type": "stream",
     "text": [
      "\n",
      "Epoch 52: New best F1-weighted: 0.7547\n",
      "  F1-Macro: 0.7207, AUC-Macro: 0.0000, Accuracy: 0.7559\n",
      "Saving best model artifacts to C:\\Users\\PC\\Downloads\\Melspectrogram_finetune_NEW\\PestLarvaNet_AudioTwin_Run_3\\data_25.0percent\n"
     ]
    },
    {
     "data": {
      "application/vnd.jupyter.widget-view+json": {
       "model_id": "c847686b59064583ba3f77ef679c4ba9",
       "version_major": 2,
       "version_minor": 0
      },
      "text/plain": [
       "Epoch 53/100:   0%|          | 0/88 [00:00<?, ?it/s]"
      ]
     },
     "metadata": {},
     "output_type": "display_data"
    },
    {
     "data": {
      "application/vnd.jupyter.widget-view+json": {
       "model_id": "b502bb9ac39149829bf79426fd961490",
       "version_major": 2,
       "version_minor": 0
      },
      "text/plain": [
       "Epoch 54/100:   0%|          | 0/88 [00:00<?, ?it/s]"
      ]
     },
     "metadata": {},
     "output_type": "display_data"
    },
    {
     "data": {
      "application/vnd.jupyter.widget-view+json": {
       "model_id": "02822bfdb6244ac79e0712dd45f2d449",
       "version_major": 2,
       "version_minor": 0
      },
      "text/plain": [
       "Epoch 55/100:   0%|          | 0/88 [00:00<?, ?it/s]"
      ]
     },
     "metadata": {},
     "output_type": "display_data"
    },
    {
     "data": {
      "application/vnd.jupyter.widget-view+json": {
       "model_id": "91de020bbaa54f07b3cf5d141637784e",
       "version_major": 2,
       "version_minor": 0
      },
      "text/plain": [
       "Epoch 56/100:   0%|          | 0/88 [00:00<?, ?it/s]"
      ]
     },
     "metadata": {},
     "output_type": "display_data"
    },
    {
     "data": {
      "application/vnd.jupyter.widget-view+json": {
       "model_id": "37f80f0bc6f844a6b54418eb90a52dda",
       "version_major": 2,
       "version_minor": 0
      },
      "text/plain": [
       "Epoch 57/100:   0%|          | 0/88 [00:00<?, ?it/s]"
      ]
     },
     "metadata": {},
     "output_type": "display_data"
    },
    {
     "data": {
      "application/vnd.jupyter.widget-view+json": {
       "model_id": "70f6e2d0ed8140d0ac5f25fe2cc999c2",
       "version_major": 2,
       "version_minor": 0
      },
      "text/plain": [
       "Epoch 58/100:   0%|          | 0/88 [00:00<?, ?it/s]"
      ]
     },
     "metadata": {},
     "output_type": "display_data"
    },
    {
     "data": {
      "application/vnd.jupyter.widget-view+json": {
       "model_id": "57e00a15c60245c9a9332d4786dd46bc",
       "version_major": 2,
       "version_minor": 0
      },
      "text/plain": [
       "Epoch 59/100:   0%|          | 0/88 [00:00<?, ?it/s]"
      ]
     },
     "metadata": {},
     "output_type": "display_data"
    },
    {
     "name": "stdout",
     "output_type": "stream",
     "text": [
      "\n",
      "Epoch 59: New best F1-weighted: 0.7623\n",
      "  F1-Macro: 0.7331, AUC-Macro: 0.0000, Accuracy: 0.7641\n",
      "Saving best model artifacts to C:\\Users\\PC\\Downloads\\Melspectrogram_finetune_NEW\\PestLarvaNet_AudioTwin_Run_3\\data_25.0percent\n"
     ]
    },
    {
     "data": {
      "application/vnd.jupyter.widget-view+json": {
       "model_id": "b9486ddde7c34262b473b473874d7ca4",
       "version_major": 2,
       "version_minor": 0
      },
      "text/plain": [
       "Epoch 60/100:   0%|          | 0/88 [00:00<?, ?it/s]"
      ]
     },
     "metadata": {},
     "output_type": "display_data"
    },
    {
     "data": {
      "application/vnd.jupyter.widget-view+json": {
       "model_id": "4c003159518044cb91d61a4d9621e896",
       "version_major": 2,
       "version_minor": 0
      },
      "text/plain": [
       "Epoch 61/100:   0%|          | 0/88 [00:00<?, ?it/s]"
      ]
     },
     "metadata": {},
     "output_type": "display_data"
    },
    {
     "name": "stdout",
     "output_type": "stream",
     "text": [
      "\n",
      "Epoch 61: New best F1-weighted: 0.7624\n",
      "  F1-Macro: 0.7285, AUC-Macro: 0.0000, Accuracy: 0.7630\n",
      "Saving best model artifacts to C:\\Users\\PC\\Downloads\\Melspectrogram_finetune_NEW\\PestLarvaNet_AudioTwin_Run_3\\data_25.0percent\n"
     ]
    },
    {
     "data": {
      "application/vnd.jupyter.widget-view+json": {
       "model_id": "c73cfac3e35341bf96175dbc94925933",
       "version_major": 2,
       "version_minor": 0
      },
      "text/plain": [
       "Epoch 62/100:   0%|          | 0/88 [00:00<?, ?it/s]"
      ]
     },
     "metadata": {},
     "output_type": "display_data"
    },
    {
     "name": "stdout",
     "output_type": "stream",
     "text": [
      "\n",
      "Epoch 62: New best F1-weighted: 0.7760\n",
      "  F1-Macro: 0.7469, AUC-Macro: 0.0000, Accuracy: 0.7769\n",
      "Saving best model artifacts to C:\\Users\\PC\\Downloads\\Melspectrogram_finetune_NEW\\PestLarvaNet_AudioTwin_Run_3\\data_25.0percent\n"
     ]
    },
    {
     "data": {
      "application/vnd.jupyter.widget-view+json": {
       "model_id": "701c498217b14814aaa43fb76f4e2b56",
       "version_major": 2,
       "version_minor": 0
      },
      "text/plain": [
       "Epoch 63/100:   0%|          | 0/88 [00:00<?, ?it/s]"
      ]
     },
     "metadata": {},
     "output_type": "display_data"
    },
    {
     "data": {
      "application/vnd.jupyter.widget-view+json": {
       "model_id": "4f5cec44de894a419b1e07b1b4fd869a",
       "version_major": 2,
       "version_minor": 0
      },
      "text/plain": [
       "Epoch 64/100:   0%|          | 0/88 [00:00<?, ?it/s]"
      ]
     },
     "metadata": {},
     "output_type": "display_data"
    },
    {
     "data": {
      "application/vnd.jupyter.widget-view+json": {
       "model_id": "2f9fdf05cf8b4c848726ebe945359c34",
       "version_major": 2,
       "version_minor": 0
      },
      "text/plain": [
       "Epoch 65/100:   0%|          | 0/88 [00:00<?, ?it/s]"
      ]
     },
     "metadata": {},
     "output_type": "display_data"
    },
    {
     "data": {
      "application/vnd.jupyter.widget-view+json": {
       "model_id": "9d03e4fa81bf4fca92a33083e7ac839b",
       "version_major": 2,
       "version_minor": 0
      },
      "text/plain": [
       "Epoch 66/100:   0%|          | 0/88 [00:00<?, ?it/s]"
      ]
     },
     "metadata": {},
     "output_type": "display_data"
    },
    {
     "data": {
      "application/vnd.jupyter.widget-view+json": {
       "model_id": "a44080a5cd9b4b968f623ae938eade93",
       "version_major": 2,
       "version_minor": 0
      },
      "text/plain": [
       "Epoch 67/100:   0%|          | 0/88 [00:00<?, ?it/s]"
      ]
     },
     "metadata": {},
     "output_type": "display_data"
    },
    {
     "data": {
      "application/vnd.jupyter.widget-view+json": {
       "model_id": "d9601130cf9c46f79b56ddb7878a6e98",
       "version_major": 2,
       "version_minor": 0
      },
      "text/plain": [
       "Epoch 68/100:   0%|          | 0/88 [00:00<?, ?it/s]"
      ]
     },
     "metadata": {},
     "output_type": "display_data"
    },
    {
     "name": "stdout",
     "output_type": "stream",
     "text": [
      "\n",
      "Epoch 68: New best F1-weighted: 0.7849\n",
      "  F1-Macro: 0.7592, AUC-Macro: 0.0000, Accuracy: 0.7854\n",
      "Saving best model artifacts to C:\\Users\\PC\\Downloads\\Melspectrogram_finetune_NEW\\PestLarvaNet_AudioTwin_Run_3\\data_25.0percent\n"
     ]
    },
    {
     "data": {
      "application/vnd.jupyter.widget-view+json": {
       "model_id": "da73d23a80de4f50945a11e0c49159c5",
       "version_major": 2,
       "version_minor": 0
      },
      "text/plain": [
       "Epoch 69/100:   0%|          | 0/88 [00:00<?, ?it/s]"
      ]
     },
     "metadata": {},
     "output_type": "display_data"
    },
    {
     "name": "stdout",
     "output_type": "stream",
     "text": [
      "\n",
      "Epoch 69: New best F1-weighted: 0.7858\n",
      "  F1-Macro: 0.7584, AUC-Macro: 0.0000, Accuracy: 0.7879\n",
      "Saving best model artifacts to C:\\Users\\PC\\Downloads\\Melspectrogram_finetune_NEW\\PestLarvaNet_AudioTwin_Run_3\\data_25.0percent\n"
     ]
    },
    {
     "data": {
      "application/vnd.jupyter.widget-view+json": {
       "model_id": "c4386430696d4ad5963773d33c1c3d7b",
       "version_major": 2,
       "version_minor": 0
      },
      "text/plain": [
       "Epoch 70/100:   0%|          | 0/88 [00:00<?, ?it/s]"
      ]
     },
     "metadata": {},
     "output_type": "display_data"
    },
    {
     "name": "stdout",
     "output_type": "stream",
     "text": [
      "\n",
      "Epoch 70: New best F1-weighted: 0.7922\n",
      "  F1-Macro: 0.7678, AUC-Macro: 0.0000, Accuracy: 0.7929\n",
      "Saving best model artifacts to C:\\Users\\PC\\Downloads\\Melspectrogram_finetune_NEW\\PestLarvaNet_AudioTwin_Run_3\\data_25.0percent\n"
     ]
    },
    {
     "data": {
      "application/vnd.jupyter.widget-view+json": {
       "model_id": "73300d79b94146cca99bbca717a488c4",
       "version_major": 2,
       "version_minor": 0
      },
      "text/plain": [
       "Epoch 71/100:   0%|          | 0/88 [00:00<?, ?it/s]"
      ]
     },
     "metadata": {},
     "output_type": "display_data"
    },
    {
     "data": {
      "application/vnd.jupyter.widget-view+json": {
       "model_id": "b9a788f3798549e3ab6ac51efb3fec03",
       "version_major": 2,
       "version_minor": 0
      },
      "text/plain": [
       "Epoch 72/100:   0%|          | 0/88 [00:00<?, ?it/s]"
      ]
     },
     "metadata": {},
     "output_type": "display_data"
    },
    {
     "data": {
      "application/vnd.jupyter.widget-view+json": {
       "model_id": "9bb159a174c14867a8fe1891a77c9123",
       "version_major": 2,
       "version_minor": 0
      },
      "text/plain": [
       "Epoch 73/100:   0%|          | 0/88 [00:00<?, ?it/s]"
      ]
     },
     "metadata": {},
     "output_type": "display_data"
    },
    {
     "data": {
      "application/vnd.jupyter.widget-view+json": {
       "model_id": "3910a07c6b1f4b9189a59901ab27ad45",
       "version_major": 2,
       "version_minor": 0
      },
      "text/plain": [
       "Epoch 74/100:   0%|          | 0/88 [00:00<?, ?it/s]"
      ]
     },
     "metadata": {},
     "output_type": "display_data"
    },
    {
     "data": {
      "application/vnd.jupyter.widget-view+json": {
       "model_id": "f1b11bde73cb4e7185105f05652714d9",
       "version_major": 2,
       "version_minor": 0
      },
      "text/plain": [
       "Epoch 75/100:   0%|          | 0/88 [00:00<?, ?it/s]"
      ]
     },
     "metadata": {},
     "output_type": "display_data"
    },
    {
     "data": {
      "application/vnd.jupyter.widget-view+json": {
       "model_id": "8e23af9c382b4f448720e0843383ee27",
       "version_major": 2,
       "version_minor": 0
      },
      "text/plain": [
       "Epoch 76/100:   0%|          | 0/88 [00:00<?, ?it/s]"
      ]
     },
     "metadata": {},
     "output_type": "display_data"
    },
    {
     "data": {
      "application/vnd.jupyter.widget-view+json": {
       "model_id": "c7d6aaa4e6aa42eeb136f0b173868d4b",
       "version_major": 2,
       "version_minor": 0
      },
      "text/plain": [
       "Epoch 77/100:   0%|          | 0/88 [00:00<?, ?it/s]"
      ]
     },
     "metadata": {},
     "output_type": "display_data"
    },
    {
     "data": {
      "application/vnd.jupyter.widget-view+json": {
       "model_id": "6a13a000de5d4fd2a996dbc66a3599dc",
       "version_major": 2,
       "version_minor": 0
      },
      "text/plain": [
       "Epoch 78/100:   0%|          | 0/88 [00:00<?, ?it/s]"
      ]
     },
     "metadata": {},
     "output_type": "display_data"
    },
    {
     "data": {
      "application/vnd.jupyter.widget-view+json": {
       "model_id": "8e3a09dc4cd547f0ab1603f792223510",
       "version_major": 2,
       "version_minor": 0
      },
      "text/plain": [
       "Epoch 79/100:   0%|          | 0/88 [00:00<?, ?it/s]"
      ]
     },
     "metadata": {},
     "output_type": "display_data"
    },
    {
     "data": {
      "application/vnd.jupyter.widget-view+json": {
       "model_id": "b81e48e2b7d745e48de278faee66976d",
       "version_major": 2,
       "version_minor": 0
      },
      "text/plain": [
       "Epoch 80/100:   0%|          | 0/88 [00:00<?, ?it/s]"
      ]
     },
     "metadata": {},
     "output_type": "display_data"
    },
    {
     "data": {
      "application/vnd.jupyter.widget-view+json": {
       "model_id": "d7f7748b7e754a65b1a70e8412aef920",
       "version_major": 2,
       "version_minor": 0
      },
      "text/plain": [
       "Epoch 81/100:   0%|          | 0/88 [00:00<?, ?it/s]"
      ]
     },
     "metadata": {},
     "output_type": "display_data"
    },
    {
     "name": "stdout",
     "output_type": "stream",
     "text": [
      "\n",
      "Epoch 81: New best F1-weighted: 0.7959\n",
      "  F1-Macro: 0.7702, AUC-Macro: 0.0000, Accuracy: 0.7961\n",
      "Saving best model artifacts to C:\\Users\\PC\\Downloads\\Melspectrogram_finetune_NEW\\PestLarvaNet_AudioTwin_Run_3\\data_25.0percent\n"
     ]
    },
    {
     "data": {
      "application/vnd.jupyter.widget-view+json": {
       "model_id": "43ec3db7cee04bd880ec7a4bcc51f347",
       "version_major": 2,
       "version_minor": 0
      },
      "text/plain": [
       "Epoch 82/100:   0%|          | 0/88 [00:00<?, ?it/s]"
      ]
     },
     "metadata": {},
     "output_type": "display_data"
    },
    {
     "data": {
      "application/vnd.jupyter.widget-view+json": {
       "model_id": "c7dfe55ac22345d8946c5808c74a0cdb",
       "version_major": 2,
       "version_minor": 0
      },
      "text/plain": [
       "Epoch 83/100:   0%|          | 0/88 [00:00<?, ?it/s]"
      ]
     },
     "metadata": {},
     "output_type": "display_data"
    },
    {
     "name": "stdout",
     "output_type": "stream",
     "text": [
      "\n",
      "Epoch 83: New best F1-weighted: 0.8001\n",
      "  F1-Macro: 0.7767, AUC-Macro: 0.0000, Accuracy: 0.8007\n",
      "Saving best model artifacts to C:\\Users\\PC\\Downloads\\Melspectrogram_finetune_NEW\\PestLarvaNet_AudioTwin_Run_3\\data_25.0percent\n"
     ]
    },
    {
     "data": {
      "application/vnd.jupyter.widget-view+json": {
       "model_id": "cf498074a19f4ce78a3ffcad216392e1",
       "version_major": 2,
       "version_minor": 0
      },
      "text/plain": [
       "Epoch 84/100:   0%|          | 0/88 [00:00<?, ?it/s]"
      ]
     },
     "metadata": {},
     "output_type": "display_data"
    },
    {
     "data": {
      "application/vnd.jupyter.widget-view+json": {
       "model_id": "c44119c7beb14216b7873539c02cd431",
       "version_major": 2,
       "version_minor": 0
      },
      "text/plain": [
       "Epoch 85/100:   0%|          | 0/88 [00:00<?, ?it/s]"
      ]
     },
     "metadata": {},
     "output_type": "display_data"
    },
    {
     "data": {
      "application/vnd.jupyter.widget-view+json": {
       "model_id": "3c486e815b644c82be33874ec76b0424",
       "version_major": 2,
       "version_minor": 0
      },
      "text/plain": [
       "Epoch 86/100:   0%|          | 0/88 [00:00<?, ?it/s]"
      ]
     },
     "metadata": {},
     "output_type": "display_data"
    },
    {
     "data": {
      "application/vnd.jupyter.widget-view+json": {
       "model_id": "1f00bac548bc487e9424f02d1305ba69",
       "version_major": 2,
       "version_minor": 0
      },
      "text/plain": [
       "Epoch 87/100:   0%|          | 0/88 [00:00<?, ?it/s]"
      ]
     },
     "metadata": {},
     "output_type": "display_data"
    },
    {
     "data": {
      "application/vnd.jupyter.widget-view+json": {
       "model_id": "e5ff7204c7074108a3045012d8181e4b",
       "version_major": 2,
       "version_minor": 0
      },
      "text/plain": [
       "Epoch 88/100:   0%|          | 0/88 [00:00<?, ?it/s]"
      ]
     },
     "metadata": {},
     "output_type": "display_data"
    },
    {
     "data": {
      "application/vnd.jupyter.widget-view+json": {
       "model_id": "68cce843dfac4a1d9aec7d12f0350f79",
       "version_major": 2,
       "version_minor": 0
      },
      "text/plain": [
       "Epoch 89/100:   0%|          | 0/88 [00:00<?, ?it/s]"
      ]
     },
     "metadata": {},
     "output_type": "display_data"
    },
    {
     "data": {
      "application/vnd.jupyter.widget-view+json": {
       "model_id": "a20cb074c7304589adbbd1c6972c4a4e",
       "version_major": 2,
       "version_minor": 0
      },
      "text/plain": [
       "Epoch 90/100:   0%|          | 0/88 [00:00<?, ?it/s]"
      ]
     },
     "metadata": {},
     "output_type": "display_data"
    },
    {
     "data": {
      "application/vnd.jupyter.widget-view+json": {
       "model_id": "5a997c2444294748b0e4b8b19bbe56b0",
       "version_major": 2,
       "version_minor": 0
      },
      "text/plain": [
       "Epoch 91/100:   0%|          | 0/88 [00:00<?, ?it/s]"
      ]
     },
     "metadata": {},
     "output_type": "display_data"
    },
    {
     "data": {
      "application/vnd.jupyter.widget-view+json": {
       "model_id": "ef86eb452e8843bea84dac7d158b111d",
       "version_major": 2,
       "version_minor": 0
      },
      "text/plain": [
       "Epoch 92/100:   0%|          | 0/88 [00:00<?, ?it/s]"
      ]
     },
     "metadata": {},
     "output_type": "display_data"
    },
    {
     "data": {
      "application/vnd.jupyter.widget-view+json": {
       "model_id": "57899bab8d8f472d8ba2c53fd1a2ca26",
       "version_major": 2,
       "version_minor": 0
      },
      "text/plain": [
       "Epoch 93/100:   0%|          | 0/88 [00:00<?, ?it/s]"
      ]
     },
     "metadata": {},
     "output_type": "display_data"
    },
    {
     "data": {
      "application/vnd.jupyter.widget-view+json": {
       "model_id": "72b30d2b815d4ec8bb59fcba25fc7556",
       "version_major": 2,
       "version_minor": 0
      },
      "text/plain": [
       "Epoch 94/100:   0%|          | 0/88 [00:00<?, ?it/s]"
      ]
     },
     "metadata": {},
     "output_type": "display_data"
    },
    {
     "data": {
      "application/vnd.jupyter.widget-view+json": {
       "model_id": "efb5f94dabe04d7ebbefac3a35eaa8d6",
       "version_major": 2,
       "version_minor": 0
      },
      "text/plain": [
       "Epoch 95/100:   0%|          | 0/88 [00:00<?, ?it/s]"
      ]
     },
     "metadata": {},
     "output_type": "display_data"
    },
    {
     "data": {
      "application/vnd.jupyter.widget-view+json": {
       "model_id": "ba57ccef7d5b4c0491f003a130154bea",
       "version_major": 2,
       "version_minor": 0
      },
      "text/plain": [
       "Epoch 96/100:   0%|          | 0/88 [00:00<?, ?it/s]"
      ]
     },
     "metadata": {},
     "output_type": "display_data"
    },
    {
     "data": {
      "application/vnd.jupyter.widget-view+json": {
       "model_id": "dc74c978eb0f40539e2365062330082d",
       "version_major": 2,
       "version_minor": 0
      },
      "text/plain": [
       "Epoch 97/100:   0%|          | 0/88 [00:00<?, ?it/s]"
      ]
     },
     "metadata": {},
     "output_type": "display_data"
    },
    {
     "data": {
      "application/vnd.jupyter.widget-view+json": {
       "model_id": "def23ed71e464144aa6272af7d3817ea",
       "version_major": 2,
       "version_minor": 0
      },
      "text/plain": [
       "Epoch 98/100:   0%|          | 0/88 [00:00<?, ?it/s]"
      ]
     },
     "metadata": {},
     "output_type": "display_data"
    },
    {
     "data": {
      "application/vnd.jupyter.widget-view+json": {
       "model_id": "bd40bb5daeb045e59951e5bb754e21f5",
       "version_major": 2,
       "version_minor": 0
      },
      "text/plain": [
       "Epoch 99/100:   0%|          | 0/88 [00:00<?, ?it/s]"
      ]
     },
     "metadata": {},
     "output_type": "display_data"
    },
    {
     "data": {
      "application/vnd.jupyter.widget-view+json": {
       "model_id": "afae321663b149708e86aa1f2cd1f70f",
       "version_major": 2,
       "version_minor": 0
      },
      "text/plain": [
       "Epoch 100/100:   0%|          | 0/88 [00:00<?, ?it/s]"
      ]
     },
     "metadata": {},
     "output_type": "display_data"
    },
    {
     "name": "stdout",
     "output_type": "stream",
     "text": [
      "Finished Training for this run. Best F1-weighted: 0.8001\n",
      "==> Results with 25.0% data: Best F1-Weighted = 0.8001\n",
      "--- Training with 50.0% of labeled data ---\n",
      "Loading pretrained weights from: C:\\Users\\PC\\PestLarvaNet\\SSL\\audiotwin_checkpoints_medium\\Final checkpoint\\run_3_lp1e-03_ep1e-06_lb0.005_audiotwin_pestlarvanet_medium_epoch_100.pth\n"
     ]
    },
    {
     "name": "stderr",
     "output_type": "stream",
     "text": [
      "C:\\Users\\PC\\anaconda3\\envs\\FallDeteNet\\lib\\site-packages\\torch\\optim\\lr_scheduler.py:62: UserWarning: The verbose parameter is deprecated. Please use get_last_lr() to access the learning rate.\n",
      "  warnings.warn(\n"
     ]
    },
    {
     "data": {
      "application/vnd.jupyter.widget-view+json": {
       "model_id": "9081a98f8c62410f8fcaab0bbc37e73e",
       "version_major": 2,
       "version_minor": 0
      },
      "text/plain": [
       "Epoch 1/100:   0%|          | 0/176 [00:00<?, ?it/s]"
      ]
     },
     "metadata": {},
     "output_type": "display_data"
    },
    {
     "name": "stdout",
     "output_type": "stream",
     "text": [
      "\n",
      "Epoch 1: New best F1-weighted: 0.4612\n",
      "  F1-Macro: 0.3916, AUC-Macro: 0.0000, Accuracy: 0.5420\n",
      "Saving best model artifacts to C:\\Users\\PC\\Downloads\\Melspectrogram_finetune_NEW\\PestLarvaNet_AudioTwin_Run_3\\data_50.0percent\n"
     ]
    },
    {
     "data": {
      "application/vnd.jupyter.widget-view+json": {
       "model_id": "14b7fb0875924ca68c7f3fceea964544",
       "version_major": 2,
       "version_minor": 0
      },
      "text/plain": [
       "Epoch 2/100:   0%|          | 0/176 [00:00<?, ?it/s]"
      ]
     },
     "metadata": {},
     "output_type": "display_data"
    },
    {
     "name": "stdout",
     "output_type": "stream",
     "text": [
      "\n",
      "Epoch 2: New best F1-weighted: 0.4812\n",
      "  F1-Macro: 0.4045, AUC-Macro: 0.0000, Accuracy: 0.5352\n",
      "Saving best model artifacts to C:\\Users\\PC\\Downloads\\Melspectrogram_finetune_NEW\\PestLarvaNet_AudioTwin_Run_3\\data_50.0percent\n"
     ]
    },
    {
     "data": {
      "application/vnd.jupyter.widget-view+json": {
       "model_id": "88b8edbea5034d49888266deb64024dd",
       "version_major": 2,
       "version_minor": 0
      },
      "text/plain": [
       "Epoch 3/100:   0%|          | 0/176 [00:00<?, ?it/s]"
      ]
     },
     "metadata": {},
     "output_type": "display_data"
    },
    {
     "name": "stdout",
     "output_type": "stream",
     "text": [
      "\n",
      "Epoch 3: New best F1-weighted: 0.4920\n",
      "  F1-Macro: 0.4181, AUC-Macro: 0.0000, Accuracy: 0.5431\n",
      "Saving best model artifacts to C:\\Users\\PC\\Downloads\\Melspectrogram_finetune_NEW\\PestLarvaNet_AudioTwin_Run_3\\data_50.0percent\n"
     ]
    },
    {
     "data": {
      "application/vnd.jupyter.widget-view+json": {
       "model_id": "ca6ebb79c11949f8a054ead193b01905",
       "version_major": 2,
       "version_minor": 0
      },
      "text/plain": [
       "Epoch 4/100:   0%|          | 0/176 [00:00<?, ?it/s]"
      ]
     },
     "metadata": {},
     "output_type": "display_data"
    },
    {
     "name": "stdout",
     "output_type": "stream",
     "text": [
      "\n",
      "Epoch 4: New best F1-weighted: 0.5206\n",
      "  F1-Macro: 0.4437, AUC-Macro: 0.0000, Accuracy: 0.5591\n",
      "Saving best model artifacts to C:\\Users\\PC\\Downloads\\Melspectrogram_finetune_NEW\\PestLarvaNet_AudioTwin_Run_3\\data_50.0percent\n"
     ]
    },
    {
     "data": {
      "application/vnd.jupyter.widget-view+json": {
       "model_id": "6701de66cb7f4eca85d220758e6f101d",
       "version_major": 2,
       "version_minor": 0
      },
      "text/plain": [
       "Epoch 5/100:   0%|          | 0/176 [00:00<?, ?it/s]"
      ]
     },
     "metadata": {},
     "output_type": "display_data"
    },
    {
     "data": {
      "application/vnd.jupyter.widget-view+json": {
       "model_id": "382242ae7d9b4b8aadf21adb5bddaf99",
       "version_major": 2,
       "version_minor": 0
      },
      "text/plain": [
       "Epoch 6/100:   0%|          | 0/176 [00:00<?, ?it/s]"
      ]
     },
     "metadata": {},
     "output_type": "display_data"
    },
    {
     "data": {
      "application/vnd.jupyter.widget-view+json": {
       "model_id": "fad73ed583704fb9859005ee7a46656a",
       "version_major": 2,
       "version_minor": 0
      },
      "text/plain": [
       "Epoch 7/100:   0%|          | 0/176 [00:00<?, ?it/s]"
      ]
     },
     "metadata": {},
     "output_type": "display_data"
    },
    {
     "data": {
      "application/vnd.jupyter.widget-view+json": {
       "model_id": "b3a3218fe3984b20a40e7b2685955d16",
       "version_major": 2,
       "version_minor": 0
      },
      "text/plain": [
       "Epoch 8/100:   0%|          | 0/176 [00:00<?, ?it/s]"
      ]
     },
     "metadata": {},
     "output_type": "display_data"
    },
    {
     "name": "stdout",
     "output_type": "stream",
     "text": [
      "\n",
      "Epoch 8: New best F1-weighted: 0.5333\n",
      "  F1-Macro: 0.4595, AUC-Macro: 0.0000, Accuracy: 0.5843\n",
      "Saving best model artifacts to C:\\Users\\PC\\Downloads\\Melspectrogram_finetune_NEW\\PestLarvaNet_AudioTwin_Run_3\\data_50.0percent\n"
     ]
    },
    {
     "data": {
      "application/vnd.jupyter.widget-view+json": {
       "model_id": "2e31f033a005479fa679874a5cf13b23",
       "version_major": 2,
       "version_minor": 0
      },
      "text/plain": [
       "Epoch 9/100:   0%|          | 0/176 [00:00<?, ?it/s]"
      ]
     },
     "metadata": {},
     "output_type": "display_data"
    },
    {
     "name": "stdout",
     "output_type": "stream",
     "text": [
      "\n",
      "Epoch 9: New best F1-weighted: 0.5964\n",
      "  F1-Macro: 0.5370, AUC-Macro: 0.0000, Accuracy: 0.6039\n",
      "Saving best model artifacts to C:\\Users\\PC\\Downloads\\Melspectrogram_finetune_NEW\\PestLarvaNet_AudioTwin_Run_3\\data_50.0percent\n"
     ]
    },
    {
     "data": {
      "application/vnd.jupyter.widget-view+json": {
       "model_id": "f92e2b953f164fddb21aaf2404338ef0",
       "version_major": 2,
       "version_minor": 0
      },
      "text/plain": [
       "Epoch 10/100:   0%|          | 0/176 [00:00<?, ?it/s]"
      ]
     },
     "metadata": {},
     "output_type": "display_data"
    },
    {
     "data": {
      "application/vnd.jupyter.widget-view+json": {
       "model_id": "e938d0e9b6e84ab0b6d902eb68bddeb1",
       "version_major": 2,
       "version_minor": 0
      },
      "text/plain": [
       "Epoch 11/100:   0%|          | 0/176 [00:00<?, ?it/s]"
      ]
     },
     "metadata": {},
     "output_type": "display_data"
    },
    {
     "data": {
      "application/vnd.jupyter.widget-view+json": {
       "model_id": "e164277ace874835aeb14ab7451e68cb",
       "version_major": 2,
       "version_minor": 0
      },
      "text/plain": [
       "Epoch 12/100:   0%|          | 0/176 [00:00<?, ?it/s]"
      ]
     },
     "metadata": {},
     "output_type": "display_data"
    },
    {
     "name": "stdout",
     "output_type": "stream",
     "text": [
      "\n",
      "Epoch 12: New best F1-weighted: 0.5981\n",
      "  F1-Macro: 0.5352, AUC-Macro: 0.0000, Accuracy: 0.6203\n",
      "Saving best model artifacts to C:\\Users\\PC\\Downloads\\Melspectrogram_finetune_NEW\\PestLarvaNet_AudioTwin_Run_3\\data_50.0percent\n"
     ]
    },
    {
     "data": {
      "application/vnd.jupyter.widget-view+json": {
       "model_id": "ccdbaa89888241a8b0efa72a0ce30fdb",
       "version_major": 2,
       "version_minor": 0
      },
      "text/plain": [
       "Epoch 13/100:   0%|          | 0/176 [00:00<?, ?it/s]"
      ]
     },
     "metadata": {},
     "output_type": "display_data"
    },
    {
     "name": "stdout",
     "output_type": "stream",
     "text": [
      "\n",
      "Epoch 13: New best F1-weighted: 0.6313\n",
      "  F1-Macro: 0.5819, AUC-Macro: 0.0000, Accuracy: 0.6402\n",
      "Saving best model artifacts to C:\\Users\\PC\\Downloads\\Melspectrogram_finetune_NEW\\PestLarvaNet_AudioTwin_Run_3\\data_50.0percent\n"
     ]
    },
    {
     "data": {
      "application/vnd.jupyter.widget-view+json": {
       "model_id": "a0a7c70cfe4640d2b60c436bbc714527",
       "version_major": 2,
       "version_minor": 0
      },
      "text/plain": [
       "Epoch 14/100:   0%|          | 0/176 [00:00<?, ?it/s]"
      ]
     },
     "metadata": {},
     "output_type": "display_data"
    },
    {
     "data": {
      "application/vnd.jupyter.widget-view+json": {
       "model_id": "927611fe92334bba8339b758744df1f1",
       "version_major": 2,
       "version_minor": 0
      },
      "text/plain": [
       "Epoch 15/100:   0%|          | 0/176 [00:00<?, ?it/s]"
      ]
     },
     "metadata": {},
     "output_type": "display_data"
    },
    {
     "data": {
      "application/vnd.jupyter.widget-view+json": {
       "model_id": "97c13c3a96e7468b8e226fa3cf7840ac",
       "version_major": 2,
       "version_minor": 0
      },
      "text/plain": [
       "Epoch 16/100:   0%|          | 0/176 [00:00<?, ?it/s]"
      ]
     },
     "metadata": {},
     "output_type": "display_data"
    },
    {
     "data": {
      "application/vnd.jupyter.widget-view+json": {
       "model_id": "2ead66dff3544ede84df20bbe90a08f9",
       "version_major": 2,
       "version_minor": 0
      },
      "text/plain": [
       "Epoch 17/100:   0%|          | 0/176 [00:00<?, ?it/s]"
      ]
     },
     "metadata": {},
     "output_type": "display_data"
    },
    {
     "data": {
      "application/vnd.jupyter.widget-view+json": {
       "model_id": "7475c17a23234cea92b9f9857768b439",
       "version_major": 2,
       "version_minor": 0
      },
      "text/plain": [
       "Epoch 18/100:   0%|          | 0/176 [00:00<?, ?it/s]"
      ]
     },
     "metadata": {},
     "output_type": "display_data"
    },
    {
     "data": {
      "application/vnd.jupyter.widget-view+json": {
       "model_id": "c56afe53938648a0bef2e6c7f66289ca",
       "version_major": 2,
       "version_minor": 0
      },
      "text/plain": [
       "Epoch 19/100:   0%|          | 0/176 [00:00<?, ?it/s]"
      ]
     },
     "metadata": {},
     "output_type": "display_data"
    },
    {
     "data": {
      "application/vnd.jupyter.widget-view+json": {
       "model_id": "989ba75d9c7b462c958e8b083da8ba59",
       "version_major": 2,
       "version_minor": 0
      },
      "text/plain": [
       "Epoch 20/100:   0%|          | 0/176 [00:00<?, ?it/s]"
      ]
     },
     "metadata": {},
     "output_type": "display_data"
    },
    {
     "name": "stdout",
     "output_type": "stream",
     "text": [
      "\n",
      "Epoch 20: New best F1-weighted: 0.6594\n",
      "  F1-Macro: 0.5959, AUC-Macro: 0.0000, Accuracy: 0.6851\n",
      "Saving best model artifacts to C:\\Users\\PC\\Downloads\\Melspectrogram_finetune_NEW\\PestLarvaNet_AudioTwin_Run_3\\data_50.0percent\n"
     ]
    },
    {
     "data": {
      "application/vnd.jupyter.widget-view+json": {
       "model_id": "b1328e8ad3174323ba9065cf5c28adf3",
       "version_major": 2,
       "version_minor": 0
      },
      "text/plain": [
       "Epoch 21/100:   0%|          | 0/176 [00:00<?, ?it/s]"
      ]
     },
     "metadata": {},
     "output_type": "display_data"
    },
    {
     "name": "stdout",
     "output_type": "stream",
     "text": [
      "\n",
      "Epoch 21: New best F1-weighted: 0.6630\n",
      "  F1-Macro: 0.6155, AUC-Macro: 0.0000, Accuracy: 0.6875\n",
      "Saving best model artifacts to C:\\Users\\PC\\Downloads\\Melspectrogram_finetune_NEW\\PestLarvaNet_AudioTwin_Run_3\\data_50.0percent\n"
     ]
    },
    {
     "data": {
      "application/vnd.jupyter.widget-view+json": {
       "model_id": "86878e21603f4c26b080f283b33886c4",
       "version_major": 2,
       "version_minor": 0
      },
      "text/plain": [
       "Epoch 22/100:   0%|          | 0/176 [00:00<?, ?it/s]"
      ]
     },
     "metadata": {},
     "output_type": "display_data"
    },
    {
     "name": "stdout",
     "output_type": "stream",
     "text": [
      "\n",
      "Epoch 22: New best F1-weighted: 0.6797\n",
      "  F1-Macro: 0.6268, AUC-Macro: 0.0000, Accuracy: 0.7011\n",
      "Saving best model artifacts to C:\\Users\\PC\\Downloads\\Melspectrogram_finetune_NEW\\PestLarvaNet_AudioTwin_Run_3\\data_50.0percent\n"
     ]
    },
    {
     "data": {
      "application/vnd.jupyter.widget-view+json": {
       "model_id": "414030b40954437584f92902f20b49dd",
       "version_major": 2,
       "version_minor": 0
      },
      "text/plain": [
       "Epoch 23/100:   0%|          | 0/176 [00:00<?, ?it/s]"
      ]
     },
     "metadata": {},
     "output_type": "display_data"
    },
    {
     "name": "stdout",
     "output_type": "stream",
     "text": [
      "\n",
      "Epoch 23: New best F1-weighted: 0.6941\n",
      "  F1-Macro: 0.6397, AUC-Macro: 0.0000, Accuracy: 0.7160\n",
      "Saving best model artifacts to C:\\Users\\PC\\Downloads\\Melspectrogram_finetune_NEW\\PestLarvaNet_AudioTwin_Run_3\\data_50.0percent\n"
     ]
    },
    {
     "data": {
      "application/vnd.jupyter.widget-view+json": {
       "model_id": "f0ffbf41fcde46ebae3568a0992dadcb",
       "version_major": 2,
       "version_minor": 0
      },
      "text/plain": [
       "Epoch 24/100:   0%|          | 0/176 [00:00<?, ?it/s]"
      ]
     },
     "metadata": {},
     "output_type": "display_data"
    },
    {
     "name": "stdout",
     "output_type": "stream",
     "text": [
      "\n",
      "Epoch 24: New best F1-weighted: 0.7089\n",
      "  F1-Macro: 0.6552, AUC-Macro: 0.0000, Accuracy: 0.7270\n",
      "Saving best model artifacts to C:\\Users\\PC\\Downloads\\Melspectrogram_finetune_NEW\\PestLarvaNet_AudioTwin_Run_3\\data_50.0percent\n"
     ]
    },
    {
     "data": {
      "application/vnd.jupyter.widget-view+json": {
       "model_id": "0e9f27cd347744588973dbfa9532a8fc",
       "version_major": 2,
       "version_minor": 0
      },
      "text/plain": [
       "Epoch 25/100:   0%|          | 0/176 [00:00<?, ?it/s]"
      ]
     },
     "metadata": {},
     "output_type": "display_data"
    },
    {
     "data": {
      "application/vnd.jupyter.widget-view+json": {
       "model_id": "3c01ac6238964ad1a84e01e020878efc",
       "version_major": 2,
       "version_minor": 0
      },
      "text/plain": [
       "Epoch 26/100:   0%|          | 0/176 [00:00<?, ?it/s]"
      ]
     },
     "metadata": {},
     "output_type": "display_data"
    },
    {
     "data": {
      "application/vnd.jupyter.widget-view+json": {
       "model_id": "04c828c3f8cd43bcab03fda0efdfbeaa",
       "version_major": 2,
       "version_minor": 0
      },
      "text/plain": [
       "Epoch 27/100:   0%|          | 0/176 [00:00<?, ?it/s]"
      ]
     },
     "metadata": {},
     "output_type": "display_data"
    },
    {
     "data": {
      "application/vnd.jupyter.widget-view+json": {
       "model_id": "b283a643710a4750a79c21813f202f74",
       "version_major": 2,
       "version_minor": 0
      },
      "text/plain": [
       "Epoch 28/100:   0%|          | 0/176 [00:00<?, ?it/s]"
      ]
     },
     "metadata": {},
     "output_type": "display_data"
    },
    {
     "name": "stdout",
     "output_type": "stream",
     "text": [
      "\n",
      "Epoch 28: New best F1-weighted: 0.7187\n",
      "  F1-Macro: 0.6704, AUC-Macro: 0.0000, Accuracy: 0.7270\n",
      "Saving best model artifacts to C:\\Users\\PC\\Downloads\\Melspectrogram_finetune_NEW\\PestLarvaNet_AudioTwin_Run_3\\data_50.0percent\n"
     ]
    },
    {
     "data": {
      "application/vnd.jupyter.widget-view+json": {
       "model_id": "344196a66059480fafce10f75b454780",
       "version_major": 2,
       "version_minor": 0
      },
      "text/plain": [
       "Epoch 29/100:   0%|          | 0/176 [00:00<?, ?it/s]"
      ]
     },
     "metadata": {},
     "output_type": "display_data"
    },
    {
     "name": "stdout",
     "output_type": "stream",
     "text": [
      "\n",
      "Epoch 29: New best F1-weighted: 0.7269\n",
      "  F1-Macro: 0.6798, AUC-Macro: 0.0000, Accuracy: 0.7342\n",
      "Saving best model artifacts to C:\\Users\\PC\\Downloads\\Melspectrogram_finetune_NEW\\PestLarvaNet_AudioTwin_Run_3\\data_50.0percent\n"
     ]
    },
    {
     "data": {
      "application/vnd.jupyter.widget-view+json": {
       "model_id": "65cc1a27227241499e3ecefb66d45929",
       "version_major": 2,
       "version_minor": 0
      },
      "text/plain": [
       "Epoch 30/100:   0%|          | 0/176 [00:00<?, ?it/s]"
      ]
     },
     "metadata": {},
     "output_type": "display_data"
    },
    {
     "data": {
      "application/vnd.jupyter.widget-view+json": {
       "model_id": "3b9811c268f8472c8f0a0b7f58959719",
       "version_major": 2,
       "version_minor": 0
      },
      "text/plain": [
       "Epoch 31/100:   0%|          | 0/176 [00:00<?, ?it/s]"
      ]
     },
     "metadata": {},
     "output_type": "display_data"
    },
    {
     "name": "stdout",
     "output_type": "stream",
     "text": [
      "\n",
      "Epoch 31: New best F1-weighted: 0.7403\n",
      "  F1-Macro: 0.6989, AUC-Macro: 0.0000, Accuracy: 0.7438\n",
      "Saving best model artifacts to C:\\Users\\PC\\Downloads\\Melspectrogram_finetune_NEW\\PestLarvaNet_AudioTwin_Run_3\\data_50.0percent\n"
     ]
    },
    {
     "data": {
      "application/vnd.jupyter.widget-view+json": {
       "model_id": "b9239f47b06d4ee3b7ad225073ea8453",
       "version_major": 2,
       "version_minor": 0
      },
      "text/plain": [
       "Epoch 32/100:   0%|          | 0/176 [00:00<?, ?it/s]"
      ]
     },
     "metadata": {},
     "output_type": "display_data"
    },
    {
     "data": {
      "application/vnd.jupyter.widget-view+json": {
       "model_id": "442558d6469040e089101fb125b32dfa",
       "version_major": 2,
       "version_minor": 0
      },
      "text/plain": [
       "Epoch 33/100:   0%|          | 0/176 [00:00<?, ?it/s]"
      ]
     },
     "metadata": {},
     "output_type": "display_data"
    },
    {
     "name": "stdout",
     "output_type": "stream",
     "text": [
      "\n",
      "Epoch 33: New best F1-weighted: 0.7444\n",
      "  F1-Macro: 0.7033, AUC-Macro: 0.0000, Accuracy: 0.7498\n",
      "Saving best model artifacts to C:\\Users\\PC\\Downloads\\Melspectrogram_finetune_NEW\\PestLarvaNet_AudioTwin_Run_3\\data_50.0percent\n"
     ]
    },
    {
     "data": {
      "application/vnd.jupyter.widget-view+json": {
       "model_id": "0509a671f68544ee94c39e1491870fa1",
       "version_major": 2,
       "version_minor": 0
      },
      "text/plain": [
       "Epoch 34/100:   0%|          | 0/176 [00:00<?, ?it/s]"
      ]
     },
     "metadata": {},
     "output_type": "display_data"
    },
    {
     "data": {
      "application/vnd.jupyter.widget-view+json": {
       "model_id": "0eefb2bbf3f245f0b1488ee6612ebcbf",
       "version_major": 2,
       "version_minor": 0
      },
      "text/plain": [
       "Epoch 35/100:   0%|          | 0/176 [00:00<?, ?it/s]"
      ]
     },
     "metadata": {},
     "output_type": "display_data"
    },
    {
     "data": {
      "application/vnd.jupyter.widget-view+json": {
       "model_id": "131dd93944ab481caca51ddce847fee9",
       "version_major": 2,
       "version_minor": 0
      },
      "text/plain": [
       "Epoch 36/100:   0%|          | 0/176 [00:00<?, ?it/s]"
      ]
     },
     "metadata": {},
     "output_type": "display_data"
    },
    {
     "data": {
      "application/vnd.jupyter.widget-view+json": {
       "model_id": "cc309def3da841eeaff66ca950a6ecb4",
       "version_major": 2,
       "version_minor": 0
      },
      "text/plain": [
       "Epoch 37/100:   0%|          | 0/176 [00:00<?, ?it/s]"
      ]
     },
     "metadata": {},
     "output_type": "display_data"
    },
    {
     "data": {
      "application/vnd.jupyter.widget-view+json": {
       "model_id": "7fdfda928e2247b0a7be9c0e859ec030",
       "version_major": 2,
       "version_minor": 0
      },
      "text/plain": [
       "Epoch 38/100:   0%|          | 0/176 [00:00<?, ?it/s]"
      ]
     },
     "metadata": {},
     "output_type": "display_data"
    },
    {
     "name": "stdout",
     "output_type": "stream",
     "text": [
      "\n",
      "Epoch 38: New best F1-weighted: 0.7546\n",
      "  F1-Macro: 0.7196, AUC-Macro: 0.0000, Accuracy: 0.7552\n",
      "Saving best model artifacts to C:\\Users\\PC\\Downloads\\Melspectrogram_finetune_NEW\\PestLarvaNet_AudioTwin_Run_3\\data_50.0percent\n"
     ]
    },
    {
     "data": {
      "application/vnd.jupyter.widget-view+json": {
       "model_id": "920c935d69954eb188aae74fc07504c2",
       "version_major": 2,
       "version_minor": 0
      },
      "text/plain": [
       "Epoch 39/100:   0%|          | 0/176 [00:00<?, ?it/s]"
      ]
     },
     "metadata": {},
     "output_type": "display_data"
    },
    {
     "name": "stdout",
     "output_type": "stream",
     "text": [
      "\n",
      "Epoch 39: New best F1-weighted: 0.7552\n",
      "  F1-Macro: 0.7206, AUC-Macro: 0.0000, Accuracy: 0.7577\n",
      "Saving best model artifacts to C:\\Users\\PC\\Downloads\\Melspectrogram_finetune_NEW\\PestLarvaNet_AudioTwin_Run_3\\data_50.0percent\n"
     ]
    },
    {
     "data": {
      "application/vnd.jupyter.widget-view+json": {
       "model_id": "2c53e4321cb34277b90d34c7c88cd575",
       "version_major": 2,
       "version_minor": 0
      },
      "text/plain": [
       "Epoch 40/100:   0%|          | 0/176 [00:00<?, ?it/s]"
      ]
     },
     "metadata": {},
     "output_type": "display_data"
    },
    {
     "name": "stdout",
     "output_type": "stream",
     "text": [
      "\n",
      "Epoch 40: New best F1-weighted: 0.7605\n",
      "  F1-Macro: 0.7261, AUC-Macro: 0.0000, Accuracy: 0.7573\n",
      "Saving best model artifacts to C:\\Users\\PC\\Downloads\\Melspectrogram_finetune_NEW\\PestLarvaNet_AudioTwin_Run_3\\data_50.0percent\n"
     ]
    },
    {
     "data": {
      "application/vnd.jupyter.widget-view+json": {
       "model_id": "fc5ea89030a444b08e8ed185624affd2",
       "version_major": 2,
       "version_minor": 0
      },
      "text/plain": [
       "Epoch 41/100:   0%|          | 0/176 [00:00<?, ?it/s]"
      ]
     },
     "metadata": {},
     "output_type": "display_data"
    },
    {
     "data": {
      "application/vnd.jupyter.widget-view+json": {
       "model_id": "709b075dc3864ec59b9c26d97fa55988",
       "version_major": 2,
       "version_minor": 0
      },
      "text/plain": [
       "Epoch 42/100:   0%|          | 0/176 [00:00<?, ?it/s]"
      ]
     },
     "metadata": {},
     "output_type": "display_data"
    },
    {
     "data": {
      "application/vnd.jupyter.widget-view+json": {
       "model_id": "3952a5c3b1e04549936c3f31edfa3c4c",
       "version_major": 2,
       "version_minor": 0
      },
      "text/plain": [
       "Epoch 43/100:   0%|          | 0/176 [00:00<?, ?it/s]"
      ]
     },
     "metadata": {},
     "output_type": "display_data"
    },
    {
     "name": "stdout",
     "output_type": "stream",
     "text": [
      "\n",
      "Epoch 43: New best F1-weighted: 0.7753\n",
      "  F1-Macro: 0.7453, AUC-Macro: 0.0000, Accuracy: 0.7772\n",
      "Saving best model artifacts to C:\\Users\\PC\\Downloads\\Melspectrogram_finetune_NEW\\PestLarvaNet_AudioTwin_Run_3\\data_50.0percent\n"
     ]
    },
    {
     "data": {
      "application/vnd.jupyter.widget-view+json": {
       "model_id": "801bd4e51d0446e4a18cdb73322a6ca6",
       "version_major": 2,
       "version_minor": 0
      },
      "text/plain": [
       "Epoch 44/100:   0%|          | 0/176 [00:00<?, ?it/s]"
      ]
     },
     "metadata": {},
     "output_type": "display_data"
    },
    {
     "data": {
      "application/vnd.jupyter.widget-view+json": {
       "model_id": "51ea1b425e2542e1b76079daf49140ca",
       "version_major": 2,
       "version_minor": 0
      },
      "text/plain": [
       "Epoch 45/100:   0%|          | 0/176 [00:00<?, ?it/s]"
      ]
     },
     "metadata": {},
     "output_type": "display_data"
    },
    {
     "data": {
      "application/vnd.jupyter.widget-view+json": {
       "model_id": "f87d4480846846b695e8dd6df152e40e",
       "version_major": 2,
       "version_minor": 0
      },
      "text/plain": [
       "Epoch 46/100:   0%|          | 0/176 [00:00<?, ?it/s]"
      ]
     },
     "metadata": {},
     "output_type": "display_data"
    },
    {
     "data": {
      "application/vnd.jupyter.widget-view+json": {
       "model_id": "9700d9a3ad144532ad56b3070d662804",
       "version_major": 2,
       "version_minor": 0
      },
      "text/plain": [
       "Epoch 47/100:   0%|          | 0/176 [00:00<?, ?it/s]"
      ]
     },
     "metadata": {},
     "output_type": "display_data"
    },
    {
     "name": "stdout",
     "output_type": "stream",
     "text": [
      "\n",
      "Epoch 47: New best F1-weighted: 0.7882\n",
      "  F1-Macro: 0.7633, AUC-Macro: 0.0000, Accuracy: 0.7883\n",
      "Saving best model artifacts to C:\\Users\\PC\\Downloads\\Melspectrogram_finetune_NEW\\PestLarvaNet_AudioTwin_Run_3\\data_50.0percent\n"
     ]
    },
    {
     "data": {
      "application/vnd.jupyter.widget-view+json": {
       "model_id": "b582d40ad48242688de3f9e3509c6888",
       "version_major": 2,
       "version_minor": 0
      },
      "text/plain": [
       "Epoch 48/100:   0%|          | 0/176 [00:00<?, ?it/s]"
      ]
     },
     "metadata": {},
     "output_type": "display_data"
    },
    {
     "data": {
      "application/vnd.jupyter.widget-view+json": {
       "model_id": "d0ad50e0511d4962be8697648e4faa02",
       "version_major": 2,
       "version_minor": 0
      },
      "text/plain": [
       "Epoch 49/100:   0%|          | 0/176 [00:00<?, ?it/s]"
      ]
     },
     "metadata": {},
     "output_type": "display_data"
    },
    {
     "data": {
      "application/vnd.jupyter.widget-view+json": {
       "model_id": "6bd5bd7b9ccc4023a098db1251e05c08",
       "version_major": 2,
       "version_minor": 0
      },
      "text/plain": [
       "Epoch 50/100:   0%|          | 0/176 [00:00<?, ?it/s]"
      ]
     },
     "metadata": {},
     "output_type": "display_data"
    },
    {
     "data": {
      "application/vnd.jupyter.widget-view+json": {
       "model_id": "18696ebfef8f45af836c30074a5689fc",
       "version_major": 2,
       "version_minor": 0
      },
      "text/plain": [
       "Epoch 51/100:   0%|          | 0/176 [00:00<?, ?it/s]"
      ]
     },
     "metadata": {},
     "output_type": "display_data"
    },
    {
     "name": "stdout",
     "output_type": "stream",
     "text": [
      "\n",
      "Epoch 51: New best F1-weighted: 0.7924\n",
      "  F1-Macro: 0.7638, AUC-Macro: 0.0000, Accuracy: 0.7940\n",
      "Saving best model artifacts to C:\\Users\\PC\\Downloads\\Melspectrogram_finetune_NEW\\PestLarvaNet_AudioTwin_Run_3\\data_50.0percent\n"
     ]
    },
    {
     "data": {
      "application/vnd.jupyter.widget-view+json": {
       "model_id": "db7a3ababf1e4dc78414f5147896fcbd",
       "version_major": 2,
       "version_minor": 0
      },
      "text/plain": [
       "Epoch 52/100:   0%|          | 0/176 [00:00<?, ?it/s]"
      ]
     },
     "metadata": {},
     "output_type": "display_data"
    },
    {
     "data": {
      "application/vnd.jupyter.widget-view+json": {
       "model_id": "efb7aac700da4207b3e2c88854b1fdd3",
       "version_major": 2,
       "version_minor": 0
      },
      "text/plain": [
       "Epoch 53/100:   0%|          | 0/176 [00:00<?, ?it/s]"
      ]
     },
     "metadata": {},
     "output_type": "display_data"
    },
    {
     "name": "stdout",
     "output_type": "stream",
     "text": [
      "\n",
      "Epoch 53: New best F1-weighted: 0.8041\n",
      "  F1-Macro: 0.7806, AUC-Macro: 0.0000, Accuracy: 0.8039\n",
      "Saving best model artifacts to C:\\Users\\PC\\Downloads\\Melspectrogram_finetune_NEW\\PestLarvaNet_AudioTwin_Run_3\\data_50.0percent\n"
     ]
    },
    {
     "data": {
      "application/vnd.jupyter.widget-view+json": {
       "model_id": "f11c20f51cd24838add68cd69f789474",
       "version_major": 2,
       "version_minor": 0
      },
      "text/plain": [
       "Epoch 54/100:   0%|          | 0/176 [00:00<?, ?it/s]"
      ]
     },
     "metadata": {},
     "output_type": "display_data"
    },
    {
     "data": {
      "application/vnd.jupyter.widget-view+json": {
       "model_id": "0a7772db5cc9412dbbbd1a03b61e9d75",
       "version_major": 2,
       "version_minor": 0
      },
      "text/plain": [
       "Epoch 55/100:   0%|          | 0/176 [00:00<?, ?it/s]"
      ]
     },
     "metadata": {},
     "output_type": "display_data"
    },
    {
     "data": {
      "application/vnd.jupyter.widget-view+json": {
       "model_id": "532f04fba64b4e059ea23e398170b861",
       "version_major": 2,
       "version_minor": 0
      },
      "text/plain": [
       "Epoch 56/100:   0%|          | 0/176 [00:00<?, ?it/s]"
      ]
     },
     "metadata": {},
     "output_type": "display_data"
    },
    {
     "data": {
      "application/vnd.jupyter.widget-view+json": {
       "model_id": "0b9ffd517e4f4624985e351ac4e551b9",
       "version_major": 2,
       "version_minor": 0
      },
      "text/plain": [
       "Epoch 57/100:   0%|          | 0/176 [00:00<?, ?it/s]"
      ]
     },
     "metadata": {},
     "output_type": "display_data"
    },
    {
     "data": {
      "application/vnd.jupyter.widget-view+json": {
       "model_id": "78790250e2824a69adad66159e67c55a",
       "version_major": 2,
       "version_minor": 0
      },
      "text/plain": [
       "Epoch 58/100:   0%|          | 0/176 [00:00<?, ?it/s]"
      ]
     },
     "metadata": {},
     "output_type": "display_data"
    },
    {
     "data": {
      "application/vnd.jupyter.widget-view+json": {
       "model_id": "591a5e47de8744668ccbb77378479da1",
       "version_major": 2,
       "version_minor": 0
      },
      "text/plain": [
       "Epoch 59/100:   0%|          | 0/176 [00:00<?, ?it/s]"
      ]
     },
     "metadata": {},
     "output_type": "display_data"
    },
    {
     "name": "stdout",
     "output_type": "stream",
     "text": [
      "\n",
      "Epoch 59: New best F1-weighted: 0.8046\n",
      "  F1-Macro: 0.7805, AUC-Macro: 0.0000, Accuracy: 0.8050\n",
      "Saving best model artifacts to C:\\Users\\PC\\Downloads\\Melspectrogram_finetune_NEW\\PestLarvaNet_AudioTwin_Run_3\\data_50.0percent\n"
     ]
    },
    {
     "data": {
      "application/vnd.jupyter.widget-view+json": {
       "model_id": "7eeb6c471f2f4a58b3923ff66eefd5ec",
       "version_major": 2,
       "version_minor": 0
      },
      "text/plain": [
       "Epoch 60/100:   0%|          | 0/176 [00:00<?, ?it/s]"
      ]
     },
     "metadata": {},
     "output_type": "display_data"
    },
    {
     "data": {
      "application/vnd.jupyter.widget-view+json": {
       "model_id": "8f0af3c9715b44e1ab3d380117a4322e",
       "version_major": 2,
       "version_minor": 0
      },
      "text/plain": [
       "Epoch 61/100:   0%|          | 0/176 [00:00<?, ?it/s]"
      ]
     },
     "metadata": {},
     "output_type": "display_data"
    },
    {
     "data": {
      "application/vnd.jupyter.widget-view+json": {
       "model_id": "2df4f50521e44ef296cf7936d572f6f6",
       "version_major": 2,
       "version_minor": 0
      },
      "text/plain": [
       "Epoch 62/100:   0%|          | 0/176 [00:00<?, ?it/s]"
      ]
     },
     "metadata": {},
     "output_type": "display_data"
    },
    {
     "data": {
      "application/vnd.jupyter.widget-view+json": {
       "model_id": "9afc083de0994cfeb7129f66db78cc4f",
       "version_major": 2,
       "version_minor": 0
      },
      "text/plain": [
       "Epoch 63/100:   0%|          | 0/176 [00:00<?, ?it/s]"
      ]
     },
     "metadata": {},
     "output_type": "display_data"
    },
    {
     "data": {
      "application/vnd.jupyter.widget-view+json": {
       "model_id": "5b709783071f46aea69562017ded0bb2",
       "version_major": 2,
       "version_minor": 0
      },
      "text/plain": [
       "Epoch 64/100:   0%|          | 0/176 [00:00<?, ?it/s]"
      ]
     },
     "metadata": {},
     "output_type": "display_data"
    },
    {
     "data": {
      "application/vnd.jupyter.widget-view+json": {
       "model_id": "689fcac8bcf5480b9b572a19a3436c51",
       "version_major": 2,
       "version_minor": 0
      },
      "text/plain": [
       "Epoch 65/100:   0%|          | 0/176 [00:00<?, ?it/s]"
      ]
     },
     "metadata": {},
     "output_type": "display_data"
    },
    {
     "name": "stdout",
     "output_type": "stream",
     "text": [
      "\n",
      "Epoch 65: New best F1-weighted: 0.8129\n",
      "  F1-Macro: 0.7919, AUC-Macro: 0.0000, Accuracy: 0.8139\n",
      "Saving best model artifacts to C:\\Users\\PC\\Downloads\\Melspectrogram_finetune_NEW\\PestLarvaNet_AudioTwin_Run_3\\data_50.0percent\n"
     ]
    },
    {
     "data": {
      "application/vnd.jupyter.widget-view+json": {
       "model_id": "9e777f02d8d2410eb9c69fdd2e874fb7",
       "version_major": 2,
       "version_minor": 0
      },
      "text/plain": [
       "Epoch 66/100:   0%|          | 0/176 [00:00<?, ?it/s]"
      ]
     },
     "metadata": {},
     "output_type": "display_data"
    },
    {
     "data": {
      "application/vnd.jupyter.widget-view+json": {
       "model_id": "345242bc35a14e3ca29aec83f5ee8914",
       "version_major": 2,
       "version_minor": 0
      },
      "text/plain": [
       "Epoch 67/100:   0%|          | 0/176 [00:00<?, ?it/s]"
      ]
     },
     "metadata": {},
     "output_type": "display_data"
    },
    {
     "data": {
      "application/vnd.jupyter.widget-view+json": {
       "model_id": "7b5558b29ad64162b125bd45196382d4",
       "version_major": 2,
       "version_minor": 0
      },
      "text/plain": [
       "Epoch 68/100:   0%|          | 0/176 [00:00<?, ?it/s]"
      ]
     },
     "metadata": {},
     "output_type": "display_data"
    },
    {
     "name": "stdout",
     "output_type": "stream",
     "text": [
      "\n",
      "Epoch 68: New best F1-weighted: 0.8295\n",
      "  F1-Macro: 0.8112, AUC-Macro: 0.0000, Accuracy: 0.8295\n",
      "Saving best model artifacts to C:\\Users\\PC\\Downloads\\Melspectrogram_finetune_NEW\\PestLarvaNet_AudioTwin_Run_3\\data_50.0percent\n"
     ]
    },
    {
     "data": {
      "application/vnd.jupyter.widget-view+json": {
       "model_id": "a5af6dafe8d944ef934ed1821d5dacf0",
       "version_major": 2,
       "version_minor": 0
      },
      "text/plain": [
       "Epoch 69/100:   0%|          | 0/176 [00:00<?, ?it/s]"
      ]
     },
     "metadata": {},
     "output_type": "display_data"
    },
    {
     "data": {
      "application/vnd.jupyter.widget-view+json": {
       "model_id": "286005f19dd44f429c1be810eca715c1",
       "version_major": 2,
       "version_minor": 0
      },
      "text/plain": [
       "Epoch 70/100:   0%|          | 0/176 [00:00<?, ?it/s]"
      ]
     },
     "metadata": {},
     "output_type": "display_data"
    },
    {
     "data": {
      "application/vnd.jupyter.widget-view+json": {
       "model_id": "0ce7eaa369734082b6851176c186fba5",
       "version_major": 2,
       "version_minor": 0
      },
      "text/plain": [
       "Epoch 71/100:   0%|          | 0/176 [00:00<?, ?it/s]"
      ]
     },
     "metadata": {},
     "output_type": "display_data"
    },
    {
     "data": {
      "application/vnd.jupyter.widget-view+json": {
       "model_id": "3b4655913d9b47af9dc7d070ae1e2b18",
       "version_major": 2,
       "version_minor": 0
      },
      "text/plain": [
       "Epoch 72/100:   0%|          | 0/176 [00:00<?, ?it/s]"
      ]
     },
     "metadata": {},
     "output_type": "display_data"
    },
    {
     "name": "stdout",
     "output_type": "stream",
     "text": [
      "\n",
      "Epoch 72: New best F1-weighted: 0.8304\n",
      "  F1-Macro: 0.8133, AUC-Macro: 0.0000, Accuracy: 0.8310\n",
      "Saving best model artifacts to C:\\Users\\PC\\Downloads\\Melspectrogram_finetune_NEW\\PestLarvaNet_AudioTwin_Run_3\\data_50.0percent\n"
     ]
    },
    {
     "data": {
      "application/vnd.jupyter.widget-view+json": {
       "model_id": "a7971dfd82be44e9b947a757c9095924",
       "version_major": 2,
       "version_minor": 0
      },
      "text/plain": [
       "Epoch 73/100:   0%|          | 0/176 [00:00<?, ?it/s]"
      ]
     },
     "metadata": {},
     "output_type": "display_data"
    },
    {
     "data": {
      "application/vnd.jupyter.widget-view+json": {
       "model_id": "5f1a74e0506b42e397979dc3192a305e",
       "version_major": 2,
       "version_minor": 0
      },
      "text/plain": [
       "Epoch 74/100:   0%|          | 0/176 [00:00<?, ?it/s]"
      ]
     },
     "metadata": {},
     "output_type": "display_data"
    },
    {
     "data": {
      "application/vnd.jupyter.widget-view+json": {
       "model_id": "ddddfe69d5de40ceabd4924fa707789e",
       "version_major": 2,
       "version_minor": 0
      },
      "text/plain": [
       "Epoch 75/100:   0%|          | 0/176 [00:00<?, ?it/s]"
      ]
     },
     "metadata": {},
     "output_type": "display_data"
    },
    {
     "name": "stdout",
     "output_type": "stream",
     "text": [
      "\n",
      "Epoch 75: New best F1-weighted: 0.8360\n",
      "  F1-Macro: 0.8174, AUC-Macro: 0.0000, Accuracy: 0.8367\n",
      "Saving best model artifacts to C:\\Users\\PC\\Downloads\\Melspectrogram_finetune_NEW\\PestLarvaNet_AudioTwin_Run_3\\data_50.0percent\n"
     ]
    },
    {
     "data": {
      "application/vnd.jupyter.widget-view+json": {
       "model_id": "dbda3f552f5a4b118bb5df648a1d6e89",
       "version_major": 2,
       "version_minor": 0
      },
      "text/plain": [
       "Epoch 76/100:   0%|          | 0/176 [00:00<?, ?it/s]"
      ]
     },
     "metadata": {},
     "output_type": "display_data"
    },
    {
     "data": {
      "application/vnd.jupyter.widget-view+json": {
       "model_id": "0859e47f6d6e4784a632aaf132a626b7",
       "version_major": 2,
       "version_minor": 0
      },
      "text/plain": [
       "Epoch 77/100:   0%|          | 0/176 [00:00<?, ?it/s]"
      ]
     },
     "metadata": {},
     "output_type": "display_data"
    },
    {
     "data": {
      "application/vnd.jupyter.widget-view+json": {
       "model_id": "73b836f36e314121b52219832c390911",
       "version_major": 2,
       "version_minor": 0
      },
      "text/plain": [
       "Epoch 78/100:   0%|          | 0/176 [00:00<?, ?it/s]"
      ]
     },
     "metadata": {},
     "output_type": "display_data"
    },
    {
     "data": {
      "application/vnd.jupyter.widget-view+json": {
       "model_id": "2ef73ae5a4dc412e9a5157a4c944eef1",
       "version_major": 2,
       "version_minor": 0
      },
      "text/plain": [
       "Epoch 79/100:   0%|          | 0/176 [00:00<?, ?it/s]"
      ]
     },
     "metadata": {},
     "output_type": "display_data"
    },
    {
     "data": {
      "application/vnd.jupyter.widget-view+json": {
       "model_id": "9505031a0f874840aad025eab27b1d2c",
       "version_major": 2,
       "version_minor": 0
      },
      "text/plain": [
       "Epoch 80/100:   0%|          | 0/176 [00:00<?, ?it/s]"
      ]
     },
     "metadata": {},
     "output_type": "display_data"
    },
    {
     "data": {
      "application/vnd.jupyter.widget-view+json": {
       "model_id": "dc2bf21c910d4e459778328b74762af9",
       "version_major": 2,
       "version_minor": 0
      },
      "text/plain": [
       "Epoch 81/100:   0%|          | 0/176 [00:00<?, ?it/s]"
      ]
     },
     "metadata": {},
     "output_type": "display_data"
    },
    {
     "data": {
      "application/vnd.jupyter.widget-view+json": {
       "model_id": "2cd568e50d38442e84b86911e56d35cb",
       "version_major": 2,
       "version_minor": 0
      },
      "text/plain": [
       "Epoch 82/100:   0%|          | 0/176 [00:00<?, ?it/s]"
      ]
     },
     "metadata": {},
     "output_type": "display_data"
    },
    {
     "name": "stdout",
     "output_type": "stream",
     "text": [
      "\n",
      "Epoch 82: New best F1-weighted: 0.8481\n",
      "  F1-Macro: 0.8318, AUC-Macro: 0.0000, Accuracy: 0.8484\n",
      "Saving best model artifacts to C:\\Users\\PC\\Downloads\\Melspectrogram_finetune_NEW\\PestLarvaNet_AudioTwin_Run_3\\data_50.0percent\n"
     ]
    },
    {
     "data": {
      "application/vnd.jupyter.widget-view+json": {
       "model_id": "e556649085744f33ab64c0aeb8e372ce",
       "version_major": 2,
       "version_minor": 0
      },
      "text/plain": [
       "Epoch 83/100:   0%|          | 0/176 [00:00<?, ?it/s]"
      ]
     },
     "metadata": {},
     "output_type": "display_data"
    },
    {
     "data": {
      "application/vnd.jupyter.widget-view+json": {
       "model_id": "d066de197af5475da75a3fd20e2ed8bf",
       "version_major": 2,
       "version_minor": 0
      },
      "text/plain": [
       "Epoch 84/100:   0%|          | 0/176 [00:00<?, ?it/s]"
      ]
     },
     "metadata": {},
     "output_type": "display_data"
    },
    {
     "data": {
      "application/vnd.jupyter.widget-view+json": {
       "model_id": "ddfb6fd3e1e44b62a4d45f23b21620f9",
       "version_major": 2,
       "version_minor": 0
      },
      "text/plain": [
       "Epoch 85/100:   0%|          | 0/176 [00:00<?, ?it/s]"
      ]
     },
     "metadata": {},
     "output_type": "display_data"
    },
    {
     "data": {
      "application/vnd.jupyter.widget-view+json": {
       "model_id": "1b98d3f878194b1ca17285f9a3703641",
       "version_major": 2,
       "version_minor": 0
      },
      "text/plain": [
       "Epoch 86/100:   0%|          | 0/176 [00:00<?, ?it/s]"
      ]
     },
     "metadata": {},
     "output_type": "display_data"
    },
    {
     "data": {
      "application/vnd.jupyter.widget-view+json": {
       "model_id": "bef570ec9edf40ea88f4da14024a4989",
       "version_major": 2,
       "version_minor": 0
      },
      "text/plain": [
       "Epoch 87/100:   0%|          | 0/176 [00:00<?, ?it/s]"
      ]
     },
     "metadata": {},
     "output_type": "display_data"
    },
    {
     "name": "stdout",
     "output_type": "stream",
     "text": [
      "\n",
      "Epoch 87: New best F1-weighted: 0.8482\n",
      "  F1-Macro: 0.8339, AUC-Macro: 0.0000, Accuracy: 0.8488\n",
      "Saving best model artifacts to C:\\Users\\PC\\Downloads\\Melspectrogram_finetune_NEW\\PestLarvaNet_AudioTwin_Run_3\\data_50.0percent\n"
     ]
    },
    {
     "data": {
      "application/vnd.jupyter.widget-view+json": {
       "model_id": "73878879ab664c7eb9641977658117c2",
       "version_major": 2,
       "version_minor": 0
      },
      "text/plain": [
       "Epoch 88/100:   0%|          | 0/176 [00:00<?, ?it/s]"
      ]
     },
     "metadata": {},
     "output_type": "display_data"
    },
    {
     "name": "stdout",
     "output_type": "stream",
     "text": [
      "\n",
      "Epoch 88: New best F1-weighted: 0.8522\n",
      "  F1-Macro: 0.8365, AUC-Macro: 0.0000, Accuracy: 0.8527\n",
      "Saving best model artifacts to C:\\Users\\PC\\Downloads\\Melspectrogram_finetune_NEW\\PestLarvaNet_AudioTwin_Run_3\\data_50.0percent\n"
     ]
    },
    {
     "data": {
      "application/vnd.jupyter.widget-view+json": {
       "model_id": "178faee9a3ac4c1785fcf7a7b35b8098",
       "version_major": 2,
       "version_minor": 0
      },
      "text/plain": [
       "Epoch 89/100:   0%|          | 0/176 [00:00<?, ?it/s]"
      ]
     },
     "metadata": {},
     "output_type": "display_data"
    },
    {
     "data": {
      "application/vnd.jupyter.widget-view+json": {
       "model_id": "c7d2891ca4b842ddad820721c315a54d",
       "version_major": 2,
       "version_minor": 0
      },
      "text/plain": [
       "Epoch 90/100:   0%|          | 0/176 [00:00<?, ?it/s]"
      ]
     },
     "metadata": {},
     "output_type": "display_data"
    },
    {
     "data": {
      "application/vnd.jupyter.widget-view+json": {
       "model_id": "46d1130cb89c4fd7b39a4de2b4472714",
       "version_major": 2,
       "version_minor": 0
      },
      "text/plain": [
       "Epoch 91/100:   0%|          | 0/176 [00:00<?, ?it/s]"
      ]
     },
     "metadata": {},
     "output_type": "display_data"
    },
    {
     "data": {
      "application/vnd.jupyter.widget-view+json": {
       "model_id": "ffe14e01b5a24a1fbcecf6242635e775",
       "version_major": 2,
       "version_minor": 0
      },
      "text/plain": [
       "Epoch 92/100:   0%|          | 0/176 [00:00<?, ?it/s]"
      ]
     },
     "metadata": {},
     "output_type": "display_data"
    },
    {
     "data": {
      "application/vnd.jupyter.widget-view+json": {
       "model_id": "6473d86dfa5c447084b3422e3ed2e703",
       "version_major": 2,
       "version_minor": 0
      },
      "text/plain": [
       "Epoch 93/100:   0%|          | 0/176 [00:00<?, ?it/s]"
      ]
     },
     "metadata": {},
     "output_type": "display_data"
    },
    {
     "data": {
      "application/vnd.jupyter.widget-view+json": {
       "model_id": "aba3218c8b95410b8577648e8e733f7c",
       "version_major": 2,
       "version_minor": 0
      },
      "text/plain": [
       "Epoch 94/100:   0%|          | 0/176 [00:00<?, ?it/s]"
      ]
     },
     "metadata": {},
     "output_type": "display_data"
    },
    {
     "data": {
      "application/vnd.jupyter.widget-view+json": {
       "model_id": "dca758bb4f8c4ebaad051d21a7729b89",
       "version_major": 2,
       "version_minor": 0
      },
      "text/plain": [
       "Epoch 95/100:   0%|          | 0/176 [00:00<?, ?it/s]"
      ]
     },
     "metadata": {},
     "output_type": "display_data"
    },
    {
     "name": "stdout",
     "output_type": "stream",
     "text": [
      "\n",
      "Epoch 95: New best F1-weighted: 0.8601\n",
      "  F1-Macro: 0.8448, AUC-Macro: 0.0000, Accuracy: 0.8598\n",
      "Saving best model artifacts to C:\\Users\\PC\\Downloads\\Melspectrogram_finetune_NEW\\PestLarvaNet_AudioTwin_Run_3\\data_50.0percent\n"
     ]
    },
    {
     "data": {
      "application/vnd.jupyter.widget-view+json": {
       "model_id": "8db6a760d2584418994048b2a6f973fa",
       "version_major": 2,
       "version_minor": 0
      },
      "text/plain": [
       "Epoch 96/100:   0%|          | 0/176 [00:00<?, ?it/s]"
      ]
     },
     "metadata": {},
     "output_type": "display_data"
    },
    {
     "data": {
      "application/vnd.jupyter.widget-view+json": {
       "model_id": "e1d67f67a14d465685467535ca0b521a",
       "version_major": 2,
       "version_minor": 0
      },
      "text/plain": [
       "Epoch 97/100:   0%|          | 0/176 [00:00<?, ?it/s]"
      ]
     },
     "metadata": {},
     "output_type": "display_data"
    },
    {
     "data": {
      "application/vnd.jupyter.widget-view+json": {
       "model_id": "04abffe74ece43f4896b8d87b029b174",
       "version_major": 2,
       "version_minor": 0
      },
      "text/plain": [
       "Epoch 98/100:   0%|          | 0/176 [00:00<?, ?it/s]"
      ]
     },
     "metadata": {},
     "output_type": "display_data"
    },
    {
     "data": {
      "application/vnd.jupyter.widget-view+json": {
       "model_id": "319ca979d9ee45aebc25ce03481f6b1e",
       "version_major": 2,
       "version_minor": 0
      },
      "text/plain": [
       "Epoch 99/100:   0%|          | 0/176 [00:00<?, ?it/s]"
      ]
     },
     "metadata": {},
     "output_type": "display_data"
    },
    {
     "data": {
      "application/vnd.jupyter.widget-view+json": {
       "model_id": "f11debafc8474cf28448977448a806e0",
       "version_major": 2,
       "version_minor": 0
      },
      "text/plain": [
       "Epoch 100/100:   0%|          | 0/176 [00:00<?, ?it/s]"
      ]
     },
     "metadata": {},
     "output_type": "display_data"
    },
    {
     "name": "stdout",
     "output_type": "stream",
     "text": [
      "Finished Training for this run. Best F1-weighted: 0.8601\n",
      "==> Results with 50.0% data: Best F1-Weighted = 0.8601\n",
      "--- Training with 100.0% of labeled data ---\n",
      "Loading pretrained weights from: C:\\Users\\PC\\PestLarvaNet\\SSL\\audiotwin_checkpoints_medium\\Final checkpoint\\run_3_lp1e-03_ep1e-06_lb0.005_audiotwin_pestlarvanet_medium_epoch_100.pth\n"
     ]
    },
    {
     "name": "stderr",
     "output_type": "stream",
     "text": [
      "C:\\Users\\PC\\anaconda3\\envs\\FallDeteNet\\lib\\site-packages\\torch\\optim\\lr_scheduler.py:62: UserWarning: The verbose parameter is deprecated. Please use get_last_lr() to access the learning rate.\n",
      "  warnings.warn(\n"
     ]
    },
    {
     "data": {
      "application/vnd.jupyter.widget-view+json": {
       "model_id": "f05729ed448a4779b83f98e12039328d",
       "version_major": 2,
       "version_minor": 0
      },
      "text/plain": [
       "Epoch 1/100:   0%|          | 0/352 [00:00<?, ?it/s]"
      ]
     },
     "metadata": {},
     "output_type": "display_data"
    },
    {
     "name": "stdout",
     "output_type": "stream",
     "text": [
      "\n",
      "Epoch 1: New best F1-weighted: 0.4316\n",
      "  F1-Macro: 0.3752, AUC-Macro: 0.0000, Accuracy: 0.5011\n",
      "Saving best model artifacts to C:\\Users\\PC\\Downloads\\Melspectrogram_finetune_NEW\\PestLarvaNet_AudioTwin_Run_3\\data_100.0percent\n"
     ]
    },
    {
     "data": {
      "application/vnd.jupyter.widget-view+json": {
       "model_id": "afdcd7cc1043412cb3a390d852c0eeef",
       "version_major": 2,
       "version_minor": 0
      },
      "text/plain": [
       "Epoch 2/100:   0%|          | 0/352 [00:00<?, ?it/s]"
      ]
     },
     "metadata": {},
     "output_type": "display_data"
    },
    {
     "name": "stdout",
     "output_type": "stream",
     "text": [
      "\n",
      "Epoch 2: New best F1-weighted: 0.5446\n",
      "  F1-Macro: 0.4751, AUC-Macro: 0.0000, Accuracy: 0.5904\n",
      "Saving best model artifacts to C:\\Users\\PC\\Downloads\\Melspectrogram_finetune_NEW\\PestLarvaNet_AudioTwin_Run_3\\data_100.0percent\n"
     ]
    },
    {
     "data": {
      "application/vnd.jupyter.widget-view+json": {
       "model_id": "4170e6f8a48f42e8bffbda86f70515b1",
       "version_major": 2,
       "version_minor": 0
      },
      "text/plain": [
       "Epoch 3/100:   0%|          | 0/352 [00:00<?, ?it/s]"
      ]
     },
     "metadata": {},
     "output_type": "display_data"
    },
    {
     "name": "stdout",
     "output_type": "stream",
     "text": [
      "\n",
      "Epoch 3: New best F1-weighted: 0.5729\n",
      "  F1-Macro: 0.5127, AUC-Macro: 0.0000, Accuracy: 0.5993\n",
      "Saving best model artifacts to C:\\Users\\PC\\Downloads\\Melspectrogram_finetune_NEW\\PestLarvaNet_AudioTwin_Run_3\\data_100.0percent\n"
     ]
    },
    {
     "data": {
      "application/vnd.jupyter.widget-view+json": {
       "model_id": "5fdffba46560485e8ebf899f8653f836",
       "version_major": 2,
       "version_minor": 0
      },
      "text/plain": [
       "Epoch 4/100:   0%|          | 0/352 [00:00<?, ?it/s]"
      ]
     },
     "metadata": {},
     "output_type": "display_data"
    },
    {
     "data": {
      "application/vnd.jupyter.widget-view+json": {
       "model_id": "5c63bc2f24c94562bd900f0a3ce3ce09",
       "version_major": 2,
       "version_minor": 0
      },
      "text/plain": [
       "Epoch 5/100:   0%|          | 0/352 [00:00<?, ?it/s]"
      ]
     },
     "metadata": {},
     "output_type": "display_data"
    },
    {
     "data": {
      "application/vnd.jupyter.widget-view+json": {
       "model_id": "0d8526cee38b466294a8a8d575a4b35d",
       "version_major": 2,
       "version_minor": 0
      },
      "text/plain": [
       "Epoch 6/100:   0%|          | 0/352 [00:00<?, ?it/s]"
      ]
     },
     "metadata": {},
     "output_type": "display_data"
    },
    {
     "name": "stdout",
     "output_type": "stream",
     "text": [
      "\n",
      "Epoch 6: New best F1-weighted: 0.6272\n",
      "  F1-Macro: 0.5757, AUC-Macro: 0.0000, Accuracy: 0.6459\n",
      "Saving best model artifacts to C:\\Users\\PC\\Downloads\\Melspectrogram_finetune_NEW\\PestLarvaNet_AudioTwin_Run_3\\data_100.0percent\n"
     ]
    },
    {
     "data": {
      "application/vnd.jupyter.widget-view+json": {
       "model_id": "34f0fe134c7c4bf28c611a962a7981f6",
       "version_major": 2,
       "version_minor": 0
      },
      "text/plain": [
       "Epoch 7/100:   0%|          | 0/352 [00:00<?, ?it/s]"
      ]
     },
     "metadata": {},
     "output_type": "display_data"
    },
    {
     "data": {
      "application/vnd.jupyter.widget-view+json": {
       "model_id": "a9499a9c0406416991fddfa4eb64038a",
       "version_major": 2,
       "version_minor": 0
      },
      "text/plain": [
       "Epoch 8/100:   0%|          | 0/352 [00:00<?, ?it/s]"
      ]
     },
     "metadata": {},
     "output_type": "display_data"
    },
    {
     "name": "stdout",
     "output_type": "stream",
     "text": [
      "\n",
      "Epoch 8: New best F1-weighted: 0.6511\n",
      "  F1-Macro: 0.5977, AUC-Macro: 0.0000, Accuracy: 0.6673\n",
      "Saving best model artifacts to C:\\Users\\PC\\Downloads\\Melspectrogram_finetune_NEW\\PestLarvaNet_AudioTwin_Run_3\\data_100.0percent\n"
     ]
    },
    {
     "data": {
      "application/vnd.jupyter.widget-view+json": {
       "model_id": "dea97d2eddce4d25a7a87037535fd9fa",
       "version_major": 2,
       "version_minor": 0
      },
      "text/plain": [
       "Epoch 9/100:   0%|          | 0/352 [00:00<?, ?it/s]"
      ]
     },
     "metadata": {},
     "output_type": "display_data"
    },
    {
     "data": {
      "application/vnd.jupyter.widget-view+json": {
       "model_id": "de957d71b697422b9876d624d5244e12",
       "version_major": 2,
       "version_minor": 0
      },
      "text/plain": [
       "Epoch 10/100:   0%|          | 0/352 [00:00<?, ?it/s]"
      ]
     },
     "metadata": {},
     "output_type": "display_data"
    },
    {
     "name": "stdout",
     "output_type": "stream",
     "text": [
      "\n",
      "Epoch 10: New best F1-weighted: 0.6763\n",
      "  F1-Macro: 0.6165, AUC-Macro: 0.0000, Accuracy: 0.6961\n",
      "Saving best model artifacts to C:\\Users\\PC\\Downloads\\Melspectrogram_finetune_NEW\\PestLarvaNet_AudioTwin_Run_3\\data_100.0percent\n"
     ]
    },
    {
     "data": {
      "application/vnd.jupyter.widget-view+json": {
       "model_id": "07ec37dcde094dc58da9a661a1d2b819",
       "version_major": 2,
       "version_minor": 0
      },
      "text/plain": [
       "Epoch 11/100:   0%|          | 0/352 [00:00<?, ?it/s]"
      ]
     },
     "metadata": {},
     "output_type": "display_data"
    },
    {
     "data": {
      "application/vnd.jupyter.widget-view+json": {
       "model_id": "a938b23027a44ae687673a1952640f56",
       "version_major": 2,
       "version_minor": 0
      },
      "text/plain": [
       "Epoch 12/100:   0%|          | 0/352 [00:00<?, ?it/s]"
      ]
     },
     "metadata": {},
     "output_type": "display_data"
    },
    {
     "data": {
      "application/vnd.jupyter.widget-view+json": {
       "model_id": "738dfd9709d143d7a003879aaad1869b",
       "version_major": 2,
       "version_minor": 0
      },
      "text/plain": [
       "Epoch 13/100:   0%|          | 0/352 [00:00<?, ?it/s]"
      ]
     },
     "metadata": {},
     "output_type": "display_data"
    },
    {
     "data": {
      "application/vnd.jupyter.widget-view+json": {
       "model_id": "fb3e4f749bc54ee0bff8287b32526d8a",
       "version_major": 2,
       "version_minor": 0
      },
      "text/plain": [
       "Epoch 14/100:   0%|          | 0/352 [00:00<?, ?it/s]"
      ]
     },
     "metadata": {},
     "output_type": "display_data"
    },
    {
     "name": "stdout",
     "output_type": "stream",
     "text": [
      "\n",
      "Epoch 14: New best F1-weighted: 0.6913\n",
      "  F1-Macro: 0.6403, AUC-Macro: 0.0000, Accuracy: 0.7057\n",
      "Saving best model artifacts to C:\\Users\\PC\\Downloads\\Melspectrogram_finetune_NEW\\PestLarvaNet_AudioTwin_Run_3\\data_100.0percent\n"
     ]
    },
    {
     "data": {
      "application/vnd.jupyter.widget-view+json": {
       "model_id": "3873e000bf0e40fda11d1795b2edc9ee",
       "version_major": 2,
       "version_minor": 0
      },
      "text/plain": [
       "Epoch 15/100:   0%|          | 0/352 [00:00<?, ?it/s]"
      ]
     },
     "metadata": {},
     "output_type": "display_data"
    },
    {
     "data": {
      "application/vnd.jupyter.widget-view+json": {
       "model_id": "caa6ec29e2f5425d9c8573be2bd7a14c",
       "version_major": 2,
       "version_minor": 0
      },
      "text/plain": [
       "Epoch 16/100:   0%|          | 0/352 [00:00<?, ?it/s]"
      ]
     },
     "metadata": {},
     "output_type": "display_data"
    },
    {
     "name": "stdout",
     "output_type": "stream",
     "text": [
      "\n",
      "Epoch 16: New best F1-weighted: 0.7035\n",
      "  F1-Macro: 0.6492, AUC-Macro: 0.0000, Accuracy: 0.7185\n",
      "Saving best model artifacts to C:\\Users\\PC\\Downloads\\Melspectrogram_finetune_NEW\\PestLarvaNet_AudioTwin_Run_3\\data_100.0percent\n"
     ]
    },
    {
     "data": {
      "application/vnd.jupyter.widget-view+json": {
       "model_id": "a0c5c75b9f354d0dbee31fd7996f521c",
       "version_major": 2,
       "version_minor": 0
      },
      "text/plain": [
       "Epoch 17/100:   0%|          | 0/352 [00:00<?, ?it/s]"
      ]
     },
     "metadata": {},
     "output_type": "display_data"
    },
    {
     "data": {
      "application/vnd.jupyter.widget-view+json": {
       "model_id": "a2983be083df4cada616290adfad29c9",
       "version_major": 2,
       "version_minor": 0
      },
      "text/plain": [
       "Epoch 18/100:   0%|          | 0/352 [00:00<?, ?it/s]"
      ]
     },
     "metadata": {},
     "output_type": "display_data"
    },
    {
     "name": "stdout",
     "output_type": "stream",
     "text": [
      "\n",
      "Epoch 18: New best F1-weighted: 0.7155\n",
      "  F1-Macro: 0.6655, AUC-Macro: 0.0000, Accuracy: 0.7331\n",
      "Saving best model artifacts to C:\\Users\\PC\\Downloads\\Melspectrogram_finetune_NEW\\PestLarvaNet_AudioTwin_Run_3\\data_100.0percent\n"
     ]
    },
    {
     "data": {
      "application/vnd.jupyter.widget-view+json": {
       "model_id": "91b5e1ce5659427ea6fb38ecbc975ea1",
       "version_major": 2,
       "version_minor": 0
      },
      "text/plain": [
       "Epoch 19/100:   0%|          | 0/352 [00:00<?, ?it/s]"
      ]
     },
     "metadata": {},
     "output_type": "display_data"
    },
    {
     "data": {
      "application/vnd.jupyter.widget-view+json": {
       "model_id": "183476a19b1e4abebb7ebde6a194f65e",
       "version_major": 2,
       "version_minor": 0
      },
      "text/plain": [
       "Epoch 20/100:   0%|          | 0/352 [00:00<?, ?it/s]"
      ]
     },
     "metadata": {},
     "output_type": "display_data"
    },
    {
     "name": "stdout",
     "output_type": "stream",
     "text": [
      "\n",
      "Epoch 20: New best F1-weighted: 0.7223\n",
      "  F1-Macro: 0.6769, AUC-Macro: 0.0000, Accuracy: 0.7260\n",
      "Saving best model artifacts to C:\\Users\\PC\\Downloads\\Melspectrogram_finetune_NEW\\PestLarvaNet_AudioTwin_Run_3\\data_100.0percent\n"
     ]
    },
    {
     "data": {
      "application/vnd.jupyter.widget-view+json": {
       "model_id": "d03f8130d9e441129263f1e444710c7a",
       "version_major": 2,
       "version_minor": 0
      },
      "text/plain": [
       "Epoch 21/100:   0%|          | 0/352 [00:00<?, ?it/s]"
      ]
     },
     "metadata": {},
     "output_type": "display_data"
    },
    {
     "data": {
      "application/vnd.jupyter.widget-view+json": {
       "model_id": "6c5f23c8ce2e47b5bb4efbd99ad7c714",
       "version_major": 2,
       "version_minor": 0
      },
      "text/plain": [
       "Epoch 22/100:   0%|          | 0/352 [00:00<?, ?it/s]"
      ]
     },
     "metadata": {},
     "output_type": "display_data"
    },
    {
     "data": {
      "application/vnd.jupyter.widget-view+json": {
       "model_id": "e1147973c8954feba94d6ffdeccce519",
       "version_major": 2,
       "version_minor": 0
      },
      "text/plain": [
       "Epoch 23/100:   0%|          | 0/352 [00:00<?, ?it/s]"
      ]
     },
     "metadata": {},
     "output_type": "display_data"
    },
    {
     "name": "stdout",
     "output_type": "stream",
     "text": [
      "\n",
      "Epoch 23: New best F1-weighted: 0.7452\n",
      "  F1-Macro: 0.7110, AUC-Macro: 0.0000, Accuracy: 0.7498\n",
      "Saving best model artifacts to C:\\Users\\PC\\Downloads\\Melspectrogram_finetune_NEW\\PestLarvaNet_AudioTwin_Run_3\\data_100.0percent\n"
     ]
    },
    {
     "data": {
      "application/vnd.jupyter.widget-view+json": {
       "model_id": "89a223cfc8a440bc88d4bcf138f7f42e",
       "version_major": 2,
       "version_minor": 0
      },
      "text/plain": [
       "Epoch 24/100:   0%|          | 0/352 [00:00<?, ?it/s]"
      ]
     },
     "metadata": {},
     "output_type": "display_data"
    },
    {
     "name": "stdout",
     "output_type": "stream",
     "text": [
      "\n",
      "Epoch 24: New best F1-weighted: 0.7521\n",
      "  F1-Macro: 0.7165, AUC-Macro: 0.0000, Accuracy: 0.7562\n",
      "Saving best model artifacts to C:\\Users\\PC\\Downloads\\Melspectrogram_finetune_NEW\\PestLarvaNet_AudioTwin_Run_3\\data_100.0percent\n"
     ]
    },
    {
     "data": {
      "application/vnd.jupyter.widget-view+json": {
       "model_id": "592aad6329b24009a4b49cc5c18acafd",
       "version_major": 2,
       "version_minor": 0
      },
      "text/plain": [
       "Epoch 25/100:   0%|          | 0/352 [00:00<?, ?it/s]"
      ]
     },
     "metadata": {},
     "output_type": "display_data"
    },
    {
     "name": "stdout",
     "output_type": "stream",
     "text": [
      "\n",
      "Epoch 25: New best F1-weighted: 0.7572\n",
      "  F1-Macro: 0.7240, AUC-Macro: 0.0000, Accuracy: 0.7573\n",
      "Saving best model artifacts to C:\\Users\\PC\\Downloads\\Melspectrogram_finetune_NEW\\PestLarvaNet_AudioTwin_Run_3\\data_100.0percent\n"
     ]
    },
    {
     "data": {
      "application/vnd.jupyter.widget-view+json": {
       "model_id": "47e6a28d050848b39a2fbf1cdd2931a3",
       "version_major": 2,
       "version_minor": 0
      },
      "text/plain": [
       "Epoch 26/100:   0%|          | 0/352 [00:00<?, ?it/s]"
      ]
     },
     "metadata": {},
     "output_type": "display_data"
    },
    {
     "name": "stdout",
     "output_type": "stream",
     "text": [
      "\n",
      "Epoch 26: New best F1-weighted: 0.7669\n",
      "  F1-Macro: 0.7348, AUC-Macro: 0.0000, Accuracy: 0.7680\n",
      "Saving best model artifacts to C:\\Users\\PC\\Downloads\\Melspectrogram_finetune_NEW\\PestLarvaNet_AudioTwin_Run_3\\data_100.0percent\n"
     ]
    },
    {
     "data": {
      "application/vnd.jupyter.widget-view+json": {
       "model_id": "eaa53e7b0a6b425685dbb0132272ac33",
       "version_major": 2,
       "version_minor": 0
      },
      "text/plain": [
       "Epoch 27/100:   0%|          | 0/352 [00:00<?, ?it/s]"
      ]
     },
     "metadata": {},
     "output_type": "display_data"
    },
    {
     "data": {
      "application/vnd.jupyter.widget-view+json": {
       "model_id": "f2b64da0620e462096623c51f58229d6",
       "version_major": 2,
       "version_minor": 0
      },
      "text/plain": [
       "Epoch 28/100:   0%|          | 0/352 [00:00<?, ?it/s]"
      ]
     },
     "metadata": {},
     "output_type": "display_data"
    },
    {
     "data": {
      "application/vnd.jupyter.widget-view+json": {
       "model_id": "0732fd3e29d1464ca4868f4e1a5ebdab",
       "version_major": 2,
       "version_minor": 0
      },
      "text/plain": [
       "Epoch 29/100:   0%|          | 0/352 [00:00<?, ?it/s]"
      ]
     },
     "metadata": {},
     "output_type": "display_data"
    },
    {
     "data": {
      "application/vnd.jupyter.widget-view+json": {
       "model_id": "6eacb9b33ccd4a55b2db267745f2a337",
       "version_major": 2,
       "version_minor": 0
      },
      "text/plain": [
       "Epoch 30/100:   0%|          | 0/352 [00:00<?, ?it/s]"
      ]
     },
     "metadata": {},
     "output_type": "display_data"
    },
    {
     "data": {
      "application/vnd.jupyter.widget-view+json": {
       "model_id": "55c8dc5ec0734454b12822df38e90955",
       "version_major": 2,
       "version_minor": 0
      },
      "text/plain": [
       "Epoch 31/100:   0%|          | 0/352 [00:00<?, ?it/s]"
      ]
     },
     "metadata": {},
     "output_type": "display_data"
    },
    {
     "name": "stdout",
     "output_type": "stream",
     "text": [
      "\n",
      "Epoch 31: New best F1-weighted: 0.7846\n",
      "  F1-Macro: 0.7581, AUC-Macro: 0.0000, Accuracy: 0.7858\n",
      "Saving best model artifacts to C:\\Users\\PC\\Downloads\\Melspectrogram_finetune_NEW\\PestLarvaNet_AudioTwin_Run_3\\data_100.0percent\n"
     ]
    },
    {
     "data": {
      "application/vnd.jupyter.widget-view+json": {
       "model_id": "e3dcf0e07c30452bb742edc6fe4e37e9",
       "version_major": 2,
       "version_minor": 0
      },
      "text/plain": [
       "Epoch 32/100:   0%|          | 0/352 [00:00<?, ?it/s]"
      ]
     },
     "metadata": {},
     "output_type": "display_data"
    },
    {
     "name": "stdout",
     "output_type": "stream",
     "text": [
      "\n",
      "Epoch 32: New best F1-weighted: 0.7927\n",
      "  F1-Macro: 0.7695, AUC-Macro: 0.0000, Accuracy: 0.7925\n",
      "Saving best model artifacts to C:\\Users\\PC\\Downloads\\Melspectrogram_finetune_NEW\\PestLarvaNet_AudioTwin_Run_3\\data_100.0percent\n"
     ]
    },
    {
     "data": {
      "application/vnd.jupyter.widget-view+json": {
       "model_id": "b6d45c02eaae447392af95f5a7415bc7",
       "version_major": 2,
       "version_minor": 0
      },
      "text/plain": [
       "Epoch 33/100:   0%|          | 0/352 [00:00<?, ?it/s]"
      ]
     },
     "metadata": {},
     "output_type": "display_data"
    },
    {
     "data": {
      "application/vnd.jupyter.widget-view+json": {
       "model_id": "349f53c5ea3b4a62bc430ce649de2bec",
       "version_major": 2,
       "version_minor": 0
      },
      "text/plain": [
       "Epoch 34/100:   0%|          | 0/352 [00:00<?, ?it/s]"
      ]
     },
     "metadata": {},
     "output_type": "display_data"
    },
    {
     "name": "stdout",
     "output_type": "stream",
     "text": [
      "\n",
      "Epoch 34: New best F1-weighted: 0.8109\n",
      "  F1-Macro: 0.7916, AUC-Macro: 0.0000, Accuracy: 0.8110\n",
      "Saving best model artifacts to C:\\Users\\PC\\Downloads\\Melspectrogram_finetune_NEW\\PestLarvaNet_AudioTwin_Run_3\\data_100.0percent\n"
     ]
    },
    {
     "data": {
      "application/vnd.jupyter.widget-view+json": {
       "model_id": "1a40f53bf1544455b4decbc3dcdbb223",
       "version_major": 2,
       "version_minor": 0
      },
      "text/plain": [
       "Epoch 35/100:   0%|          | 0/352 [00:00<?, ?it/s]"
      ]
     },
     "metadata": {},
     "output_type": "display_data"
    },
    {
     "data": {
      "application/vnd.jupyter.widget-view+json": {
       "model_id": "a31d12a71f1c44b797c861b8dc9578de",
       "version_major": 2,
       "version_minor": 0
      },
      "text/plain": [
       "Epoch 36/100:   0%|          | 0/352 [00:00<?, ?it/s]"
      ]
     },
     "metadata": {},
     "output_type": "display_data"
    },
    {
     "data": {
      "application/vnd.jupyter.widget-view+json": {
       "model_id": "6c6fe08fa250488482adf2112e9460f0",
       "version_major": 2,
       "version_minor": 0
      },
      "text/plain": [
       "Epoch 37/100:   0%|          | 0/352 [00:00<?, ?it/s]"
      ]
     },
     "metadata": {},
     "output_type": "display_data"
    },
    {
     "name": "stdout",
     "output_type": "stream",
     "text": [
      "\n",
      "Epoch 37: New best F1-weighted: 0.8167\n",
      "  F1-Macro: 0.7944, AUC-Macro: 0.0000, Accuracy: 0.8167\n",
      "Saving best model artifacts to C:\\Users\\PC\\Downloads\\Melspectrogram_finetune_NEW\\PestLarvaNet_AudioTwin_Run_3\\data_100.0percent\n"
     ]
    },
    {
     "data": {
      "application/vnd.jupyter.widget-view+json": {
       "model_id": "39223f3a8d814ceca18fab1546b23667",
       "version_major": 2,
       "version_minor": 0
      },
      "text/plain": [
       "Epoch 38/100:   0%|          | 0/352 [00:00<?, ?it/s]"
      ]
     },
     "metadata": {},
     "output_type": "display_data"
    },
    {
     "data": {
      "application/vnd.jupyter.widget-view+json": {
       "model_id": "e90f42640dc742e998abdbde4b9ff3b0",
       "version_major": 2,
       "version_minor": 0
      },
      "text/plain": [
       "Epoch 39/100:   0%|          | 0/352 [00:00<?, ?it/s]"
      ]
     },
     "metadata": {},
     "output_type": "display_data"
    },
    {
     "name": "stdout",
     "output_type": "stream",
     "text": [
      "\n",
      "Epoch 39: New best F1-weighted: 0.8170\n",
      "  F1-Macro: 0.7983, AUC-Macro: 0.0000, Accuracy: 0.8174\n",
      "Saving best model artifacts to C:\\Users\\PC\\Downloads\\Melspectrogram_finetune_NEW\\PestLarvaNet_AudioTwin_Run_3\\data_100.0percent\n"
     ]
    },
    {
     "data": {
      "application/vnd.jupyter.widget-view+json": {
       "model_id": "068fff4055b14b76aee8b29e2567dc7f",
       "version_major": 2,
       "version_minor": 0
      },
      "text/plain": [
       "Epoch 40/100:   0%|          | 0/352 [00:00<?, ?it/s]"
      ]
     },
     "metadata": {},
     "output_type": "display_data"
    },
    {
     "data": {
      "application/vnd.jupyter.widget-view+json": {
       "model_id": "459f2bf72ced4410a59406cedebdc5f6",
       "version_major": 2,
       "version_minor": 0
      },
      "text/plain": [
       "Epoch 41/100:   0%|          | 0/352 [00:00<?, ?it/s]"
      ]
     },
     "metadata": {},
     "output_type": "display_data"
    },
    {
     "data": {
      "application/vnd.jupyter.widget-view+json": {
       "model_id": "a0f617a28b364955b24807fea7589c19",
       "version_major": 2,
       "version_minor": 0
      },
      "text/plain": [
       "Epoch 42/100:   0%|          | 0/352 [00:00<?, ?it/s]"
      ]
     },
     "metadata": {},
     "output_type": "display_data"
    },
    {
     "name": "stdout",
     "output_type": "stream",
     "text": [
      "\n",
      "Epoch 42: New best F1-weighted: 0.8257\n",
      "  F1-Macro: 0.8059, AUC-Macro: 0.0000, Accuracy: 0.8267\n",
      "Saving best model artifacts to C:\\Users\\PC\\Downloads\\Melspectrogram_finetune_NEW\\PestLarvaNet_AudioTwin_Run_3\\data_100.0percent\n"
     ]
    },
    {
     "data": {
      "application/vnd.jupyter.widget-view+json": {
       "model_id": "b87a39d50ee84088ad8b87d230952b31",
       "version_major": 2,
       "version_minor": 0
      },
      "text/plain": [
       "Epoch 43/100:   0%|          | 0/352 [00:00<?, ?it/s]"
      ]
     },
     "metadata": {},
     "output_type": "display_data"
    },
    {
     "data": {
      "application/vnd.jupyter.widget-view+json": {
       "model_id": "42fb8c2477eb43ebbe55999806c01005",
       "version_major": 2,
       "version_minor": 0
      },
      "text/plain": [
       "Epoch 44/100:   0%|          | 0/352 [00:00<?, ?it/s]"
      ]
     },
     "metadata": {},
     "output_type": "display_data"
    },
    {
     "data": {
      "application/vnd.jupyter.widget-view+json": {
       "model_id": "020d5415ec2c453fbb9415eb5f174788",
       "version_major": 2,
       "version_minor": 0
      },
      "text/plain": [
       "Epoch 45/100:   0%|          | 0/352 [00:00<?, ?it/s]"
      ]
     },
     "metadata": {},
     "output_type": "display_data"
    },
    {
     "name": "stdout",
     "output_type": "stream",
     "text": [
      "\n",
      "Epoch 45: New best F1-weighted: 0.8352\n",
      "  F1-Macro: 0.8158, AUC-Macro: 0.0000, Accuracy: 0.8356\n",
      "Saving best model artifacts to C:\\Users\\PC\\Downloads\\Melspectrogram_finetune_NEW\\PestLarvaNet_AudioTwin_Run_3\\data_100.0percent\n"
     ]
    },
    {
     "data": {
      "application/vnd.jupyter.widget-view+json": {
       "model_id": "25c8d7c321f44d93afdff6ef49c76a2c",
       "version_major": 2,
       "version_minor": 0
      },
      "text/plain": [
       "Epoch 46/100:   0%|          | 0/352 [00:00<?, ?it/s]"
      ]
     },
     "metadata": {},
     "output_type": "display_data"
    },
    {
     "data": {
      "application/vnd.jupyter.widget-view+json": {
       "model_id": "f63c3d691d5844f1b7529ee8c974bfd4",
       "version_major": 2,
       "version_minor": 0
      },
      "text/plain": [
       "Epoch 47/100:   0%|          | 0/352 [00:00<?, ?it/s]"
      ]
     },
     "metadata": {},
     "output_type": "display_data"
    },
    {
     "data": {
      "application/vnd.jupyter.widget-view+json": {
       "model_id": "b8e48d5cf67d4d4382edc7127a4d3615",
       "version_major": 2,
       "version_minor": 0
      },
      "text/plain": [
       "Epoch 48/100:   0%|          | 0/352 [00:00<?, ?it/s]"
      ]
     },
     "metadata": {},
     "output_type": "display_data"
    },
    {
     "data": {
      "application/vnd.jupyter.widget-view+json": {
       "model_id": "de69edebc34b417d89a3807ebf4c3963",
       "version_major": 2,
       "version_minor": 0
      },
      "text/plain": [
       "Epoch 49/100:   0%|          | 0/352 [00:00<?, ?it/s]"
      ]
     },
     "metadata": {},
     "output_type": "display_data"
    },
    {
     "data": {
      "application/vnd.jupyter.widget-view+json": {
       "model_id": "14cdc6c8b2184bd2a74a836b54efb27f",
       "version_major": 2,
       "version_minor": 0
      },
      "text/plain": [
       "Epoch 50/100:   0%|          | 0/352 [00:00<?, ?it/s]"
      ]
     },
     "metadata": {},
     "output_type": "display_data"
    },
    {
     "name": "stdout",
     "output_type": "stream",
     "text": [
      "\n",
      "Epoch 50: New best F1-weighted: 0.8419\n",
      "  F1-Macro: 0.8250, AUC-Macro: 0.0000, Accuracy: 0.8406\n",
      "Saving best model artifacts to C:\\Users\\PC\\Downloads\\Melspectrogram_finetune_NEW\\PestLarvaNet_AudioTwin_Run_3\\data_100.0percent\n"
     ]
    },
    {
     "data": {
      "application/vnd.jupyter.widget-view+json": {
       "model_id": "4d6889e863024b16a92fe0bcf5495899",
       "version_major": 2,
       "version_minor": 0
      },
      "text/plain": [
       "Epoch 51/100:   0%|          | 0/352 [00:00<?, ?it/s]"
      ]
     },
     "metadata": {},
     "output_type": "display_data"
    },
    {
     "name": "stdout",
     "output_type": "stream",
     "text": [
      "\n",
      "Epoch 51: New best F1-weighted: 0.8457\n",
      "  F1-Macro: 0.8327, AUC-Macro: 0.0000, Accuracy: 0.8448\n",
      "Saving best model artifacts to C:\\Users\\PC\\Downloads\\Melspectrogram_finetune_NEW\\PestLarvaNet_AudioTwin_Run_3\\data_100.0percent\n"
     ]
    },
    {
     "data": {
      "application/vnd.jupyter.widget-view+json": {
       "model_id": "d0b61d0467ea4247ab5a41bec4b76650",
       "version_major": 2,
       "version_minor": 0
      },
      "text/plain": [
       "Epoch 52/100:   0%|          | 0/352 [00:00<?, ?it/s]"
      ]
     },
     "metadata": {},
     "output_type": "display_data"
    },
    {
     "name": "stdout",
     "output_type": "stream",
     "text": [
      "\n",
      "Epoch 52: New best F1-weighted: 0.8475\n",
      "  F1-Macro: 0.8317, AUC-Macro: 0.0000, Accuracy: 0.8477\n",
      "Saving best model artifacts to C:\\Users\\PC\\Downloads\\Melspectrogram_finetune_NEW\\PestLarvaNet_AudioTwin_Run_3\\data_100.0percent\n"
     ]
    },
    {
     "data": {
      "application/vnd.jupyter.widget-view+json": {
       "model_id": "fcdfcaca35aa47f6819b3a7826fa4aec",
       "version_major": 2,
       "version_minor": 0
      },
      "text/plain": [
       "Epoch 53/100:   0%|          | 0/352 [00:00<?, ?it/s]"
      ]
     },
     "metadata": {},
     "output_type": "display_data"
    },
    {
     "data": {
      "application/vnd.jupyter.widget-view+json": {
       "model_id": "c6c43666b4644d92998f4e94802b2cc5",
       "version_major": 2,
       "version_minor": 0
      },
      "text/plain": [
       "Epoch 54/100:   0%|          | 0/352 [00:00<?, ?it/s]"
      ]
     },
     "metadata": {},
     "output_type": "display_data"
    },
    {
     "name": "stdout",
     "output_type": "stream",
     "text": [
      "\n",
      "Epoch 54: New best F1-weighted: 0.8490\n",
      "  F1-Macro: 0.8354, AUC-Macro: 0.0000, Accuracy: 0.8491\n",
      "Saving best model artifacts to C:\\Users\\PC\\Downloads\\Melspectrogram_finetune_NEW\\PestLarvaNet_AudioTwin_Run_3\\data_100.0percent\n"
     ]
    },
    {
     "data": {
      "application/vnd.jupyter.widget-view+json": {
       "model_id": "924572ed45c04bb6b4350e491d72b717",
       "version_major": 2,
       "version_minor": 0
      },
      "text/plain": [
       "Epoch 55/100:   0%|          | 0/352 [00:00<?, ?it/s]"
      ]
     },
     "metadata": {},
     "output_type": "display_data"
    },
    {
     "name": "stdout",
     "output_type": "stream",
     "text": [
      "\n",
      "Epoch 55: New best F1-weighted: 0.8527\n",
      "  F1-Macro: 0.8372, AUC-Macro: 0.0000, Accuracy: 0.8537\n",
      "Saving best model artifacts to C:\\Users\\PC\\Downloads\\Melspectrogram_finetune_NEW\\PestLarvaNet_AudioTwin_Run_3\\data_100.0percent\n"
     ]
    },
    {
     "data": {
      "application/vnd.jupyter.widget-view+json": {
       "model_id": "3049feefd8c947a8a48eb390875dbf0c",
       "version_major": 2,
       "version_minor": 0
      },
      "text/plain": [
       "Epoch 56/100:   0%|          | 0/352 [00:00<?, ?it/s]"
      ]
     },
     "metadata": {},
     "output_type": "display_data"
    },
    {
     "name": "stdout",
     "output_type": "stream",
     "text": [
      "\n",
      "Epoch 56: New best F1-weighted: 0.8573\n",
      "  F1-Macro: 0.8451, AUC-Macro: 0.0000, Accuracy: 0.8569\n",
      "Saving best model artifacts to C:\\Users\\PC\\Downloads\\Melspectrogram_finetune_NEW\\PestLarvaNet_AudioTwin_Run_3\\data_100.0percent\n"
     ]
    },
    {
     "data": {
      "application/vnd.jupyter.widget-view+json": {
       "model_id": "9282a7be187f44acb67f09438dd5ba36",
       "version_major": 2,
       "version_minor": 0
      },
      "text/plain": [
       "Epoch 57/100:   0%|          | 0/352 [00:00<?, ?it/s]"
      ]
     },
     "metadata": {},
     "output_type": "display_data"
    },
    {
     "data": {
      "application/vnd.jupyter.widget-view+json": {
       "model_id": "29580170e0904c00802c909c2643c8ee",
       "version_major": 2,
       "version_minor": 0
      },
      "text/plain": [
       "Epoch 58/100:   0%|          | 0/352 [00:00<?, ?it/s]"
      ]
     },
     "metadata": {},
     "output_type": "display_data"
    },
    {
     "data": {
      "application/vnd.jupyter.widget-view+json": {
       "model_id": "3c01f86400cd4d4dbb8674915666fbc7",
       "version_major": 2,
       "version_minor": 0
      },
      "text/plain": [
       "Epoch 59/100:   0%|          | 0/352 [00:00<?, ?it/s]"
      ]
     },
     "metadata": {},
     "output_type": "display_data"
    },
    {
     "name": "stdout",
     "output_type": "stream",
     "text": [
      "\n",
      "Epoch 59: New best F1-weighted: 0.8588\n",
      "  F1-Macro: 0.8471, AUC-Macro: 0.0000, Accuracy: 0.8584\n",
      "Saving best model artifacts to C:\\Users\\PC\\Downloads\\Melspectrogram_finetune_NEW\\PestLarvaNet_AudioTwin_Run_3\\data_100.0percent\n"
     ]
    },
    {
     "data": {
      "application/vnd.jupyter.widget-view+json": {
       "model_id": "92b2ff4c20cb4e8097452fa4673af4e6",
       "version_major": 2,
       "version_minor": 0
      },
      "text/plain": [
       "Epoch 60/100:   0%|          | 0/352 [00:00<?, ?it/s]"
      ]
     },
     "metadata": {},
     "output_type": "display_data"
    },
    {
     "data": {
      "application/vnd.jupyter.widget-view+json": {
       "model_id": "4e57909dbc954f708465f9d71f491e4c",
       "version_major": 2,
       "version_minor": 0
      },
      "text/plain": [
       "Epoch 61/100:   0%|          | 0/352 [00:00<?, ?it/s]"
      ]
     },
     "metadata": {},
     "output_type": "display_data"
    },
    {
     "name": "stdout",
     "output_type": "stream",
     "text": [
      "\n",
      "Epoch 61: New best F1-weighted: 0.8771\n",
      "  F1-Macro: 0.8658, AUC-Macro: 0.0000, Accuracy: 0.8765\n",
      "Saving best model artifacts to C:\\Users\\PC\\Downloads\\Melspectrogram_finetune_NEW\\PestLarvaNet_AudioTwin_Run_3\\data_100.0percent\n"
     ]
    },
    {
     "data": {
      "application/vnd.jupyter.widget-view+json": {
       "model_id": "1c6b4bf0449f4433a3eb2ab2788b3852",
       "version_major": 2,
       "version_minor": 0
      },
      "text/plain": [
       "Epoch 62/100:   0%|          | 0/352 [00:00<?, ?it/s]"
      ]
     },
     "metadata": {},
     "output_type": "display_data"
    },
    {
     "data": {
      "application/vnd.jupyter.widget-view+json": {
       "model_id": "3fc06881a2644a7b9f3026ad7d0e47bd",
       "version_major": 2,
       "version_minor": 0
      },
      "text/plain": [
       "Epoch 63/100:   0%|          | 0/352 [00:00<?, ?it/s]"
      ]
     },
     "metadata": {},
     "output_type": "display_data"
    },
    {
     "data": {
      "application/vnd.jupyter.widget-view+json": {
       "model_id": "60cf1d9b20fb4ba984d80144eaa3dfe2",
       "version_major": 2,
       "version_minor": 0
      },
      "text/plain": [
       "Epoch 64/100:   0%|          | 0/352 [00:00<?, ?it/s]"
      ]
     },
     "metadata": {},
     "output_type": "display_data"
    },
    {
     "data": {
      "application/vnd.jupyter.widget-view+json": {
       "model_id": "1b75034cbe8a44fb80c8de12c9cbd148",
       "version_major": 2,
       "version_minor": 0
      },
      "text/plain": [
       "Epoch 65/100:   0%|          | 0/352 [00:00<?, ?it/s]"
      ]
     },
     "metadata": {},
     "output_type": "display_data"
    },
    {
     "data": {
      "application/vnd.jupyter.widget-view+json": {
       "model_id": "66b17127cbae4a76b7e77c9211198ead",
       "version_major": 2,
       "version_minor": 0
      },
      "text/plain": [
       "Epoch 66/100:   0%|          | 0/352 [00:00<?, ?it/s]"
      ]
     },
     "metadata": {},
     "output_type": "display_data"
    },
    {
     "name": "stdout",
     "output_type": "stream",
     "text": [
      "\n",
      "Epoch 66: New best F1-weighted: 0.8778\n",
      "  F1-Macro: 0.8665, AUC-Macro: 0.0000, Accuracy: 0.8776\n",
      "Saving best model artifacts to C:\\Users\\PC\\Downloads\\Melspectrogram_finetune_NEW\\PestLarvaNet_AudioTwin_Run_3\\data_100.0percent\n"
     ]
    },
    {
     "data": {
      "application/vnd.jupyter.widget-view+json": {
       "model_id": "f5d2bbce72994ff8b5a0ce2fa5aef4ae",
       "version_major": 2,
       "version_minor": 0
      },
      "text/plain": [
       "Epoch 67/100:   0%|          | 0/352 [00:00<?, ?it/s]"
      ]
     },
     "metadata": {},
     "output_type": "display_data"
    },
    {
     "data": {
      "application/vnd.jupyter.widget-view+json": {
       "model_id": "7dd7a217855b406cb0493b19741adabc",
       "version_major": 2,
       "version_minor": 0
      },
      "text/plain": [
       "Epoch 68/100:   0%|          | 0/352 [00:00<?, ?it/s]"
      ]
     },
     "metadata": {},
     "output_type": "display_data"
    },
    {
     "name": "stdout",
     "output_type": "stream",
     "text": [
      "\n",
      "Epoch 68: New best F1-weighted: 0.8802\n",
      "  F1-Macro: 0.8713, AUC-Macro: 0.0000, Accuracy: 0.8801\n",
      "Saving best model artifacts to C:\\Users\\PC\\Downloads\\Melspectrogram_finetune_NEW\\PestLarvaNet_AudioTwin_Run_3\\data_100.0percent\n"
     ]
    },
    {
     "data": {
      "application/vnd.jupyter.widget-view+json": {
       "model_id": "2c71c4273f3d4030ad495922720ef95e",
       "version_major": 2,
       "version_minor": 0
      },
      "text/plain": [
       "Epoch 69/100:   0%|          | 0/352 [00:00<?, ?it/s]"
      ]
     },
     "metadata": {},
     "output_type": "display_data"
    },
    {
     "data": {
      "application/vnd.jupyter.widget-view+json": {
       "model_id": "c86b4f1e4f5642ab97774c2ff7ce41db",
       "version_major": 2,
       "version_minor": 0
      },
      "text/plain": [
       "Epoch 70/100:   0%|          | 0/352 [00:00<?, ?it/s]"
      ]
     },
     "metadata": {},
     "output_type": "display_data"
    },
    {
     "data": {
      "application/vnd.jupyter.widget-view+json": {
       "model_id": "c1e93c1541e1497ba254c14e7d6116e3",
       "version_major": 2,
       "version_minor": 0
      },
      "text/plain": [
       "Epoch 71/100:   0%|          | 0/352 [00:00<?, ?it/s]"
      ]
     },
     "metadata": {},
     "output_type": "display_data"
    },
    {
     "data": {
      "application/vnd.jupyter.widget-view+json": {
       "model_id": "4820f0a2e60948b1a539e75fc7be7db5",
       "version_major": 2,
       "version_minor": 0
      },
      "text/plain": [
       "Epoch 72/100:   0%|          | 0/352 [00:00<?, ?it/s]"
      ]
     },
     "metadata": {},
     "output_type": "display_data"
    },
    {
     "data": {
      "application/vnd.jupyter.widget-view+json": {
       "model_id": "31b6751cd8114e27b78567da62b27df4",
       "version_major": 2,
       "version_minor": 0
      },
      "text/plain": [
       "Epoch 73/100:   0%|          | 0/352 [00:00<?, ?it/s]"
      ]
     },
     "metadata": {},
     "output_type": "display_data"
    },
    {
     "name": "stdout",
     "output_type": "stream",
     "text": [
      "\n",
      "Epoch 73: New best F1-weighted: 0.8881\n",
      "  F1-Macro: 0.8787, AUC-Macro: 0.0000, Accuracy: 0.8879\n",
      "Saving best model artifacts to C:\\Users\\PC\\Downloads\\Melspectrogram_finetune_NEW\\PestLarvaNet_AudioTwin_Run_3\\data_100.0percent\n"
     ]
    },
    {
     "data": {
      "application/vnd.jupyter.widget-view+json": {
       "model_id": "536a88ab0f2a4d88ad536b45b09d38e4",
       "version_major": 2,
       "version_minor": 0
      },
      "text/plain": [
       "Epoch 74/100:   0%|          | 0/352 [00:00<?, ?it/s]"
      ]
     },
     "metadata": {},
     "output_type": "display_data"
    },
    {
     "data": {
      "application/vnd.jupyter.widget-view+json": {
       "model_id": "1c2c8fa1956b4831875f92ed07e7fbdb",
       "version_major": 2,
       "version_minor": 0
      },
      "text/plain": [
       "Epoch 75/100:   0%|          | 0/352 [00:00<?, ?it/s]"
      ]
     },
     "metadata": {},
     "output_type": "display_data"
    },
    {
     "data": {
      "application/vnd.jupyter.widget-view+json": {
       "model_id": "68a90e547d754334ae9a55361344c934",
       "version_major": 2,
       "version_minor": 0
      },
      "text/plain": [
       "Epoch 76/100:   0%|          | 0/352 [00:00<?, ?it/s]"
      ]
     },
     "metadata": {},
     "output_type": "display_data"
    },
    {
     "data": {
      "application/vnd.jupyter.widget-view+json": {
       "model_id": "bd06629596fe4df38073dd9e9eae8a77",
       "version_major": 2,
       "version_minor": 0
      },
      "text/plain": [
       "Epoch 77/100:   0%|          | 0/352 [00:00<?, ?it/s]"
      ]
     },
     "metadata": {},
     "output_type": "display_data"
    },
    {
     "name": "stdout",
     "output_type": "stream",
     "text": [
      "\n",
      "Epoch 77: New best F1-weighted: 0.8989\n",
      "  F1-Macro: 0.8903, AUC-Macro: 0.0000, Accuracy: 0.8989\n",
      "Saving best model artifacts to C:\\Users\\PC\\Downloads\\Melspectrogram_finetune_NEW\\PestLarvaNet_AudioTwin_Run_3\\data_100.0percent\n"
     ]
    },
    {
     "data": {
      "application/vnd.jupyter.widget-view+json": {
       "model_id": "a04e6bfd13864184aaea9cb2f5389683",
       "version_major": 2,
       "version_minor": 0
      },
      "text/plain": [
       "Epoch 78/100:   0%|          | 0/352 [00:00<?, ?it/s]"
      ]
     },
     "metadata": {},
     "output_type": "display_data"
    },
    {
     "data": {
      "application/vnd.jupyter.widget-view+json": {
       "model_id": "a3f4c2e6c6534ac882a82ddc8738a5c0",
       "version_major": 2,
       "version_minor": 0
      },
      "text/plain": [
       "Epoch 79/100:   0%|          | 0/352 [00:00<?, ?it/s]"
      ]
     },
     "metadata": {},
     "output_type": "display_data"
    },
    {
     "data": {
      "application/vnd.jupyter.widget-view+json": {
       "model_id": "5ab2062c7e2546f78da8c98b5140b09a",
       "version_major": 2,
       "version_minor": 0
      },
      "text/plain": [
       "Epoch 80/100:   0%|          | 0/352 [00:00<?, ?it/s]"
      ]
     },
     "metadata": {},
     "output_type": "display_data"
    },
    {
     "data": {
      "application/vnd.jupyter.widget-view+json": {
       "model_id": "39506c7623e9472d80c25d8264e0f2a6",
       "version_major": 2,
       "version_minor": 0
      },
      "text/plain": [
       "Epoch 81/100:   0%|          | 0/352 [00:00<?, ?it/s]"
      ]
     },
     "metadata": {},
     "output_type": "display_data"
    },
    {
     "data": {
      "application/vnd.jupyter.widget-view+json": {
       "model_id": "e28ddf35c7a14e81bb92097222da1876",
       "version_major": 2,
       "version_minor": 0
      },
      "text/plain": [
       "Epoch 82/100:   0%|          | 0/352 [00:00<?, ?it/s]"
      ]
     },
     "metadata": {},
     "output_type": "display_data"
    },
    {
     "data": {
      "application/vnd.jupyter.widget-view+json": {
       "model_id": "83f562ed916e4f72b56d9cd25fc63a6f",
       "version_major": 2,
       "version_minor": 0
      },
      "text/plain": [
       "Epoch 83/100:   0%|          | 0/352 [00:00<?, ?it/s]"
      ]
     },
     "metadata": {},
     "output_type": "display_data"
    },
    {
     "data": {
      "application/vnd.jupyter.widget-view+json": {
       "model_id": "e92e8bb0d40f4b94bc5e3a0647aaf200",
       "version_major": 2,
       "version_minor": 0
      },
      "text/plain": [
       "Epoch 84/100:   0%|          | 0/352 [00:00<?, ?it/s]"
      ]
     },
     "metadata": {},
     "output_type": "display_data"
    },
    {
     "data": {
      "application/vnd.jupyter.widget-view+json": {
       "model_id": "d66dd3beb52f4709893454378092d968",
       "version_major": 2,
       "version_minor": 0
      },
      "text/plain": [
       "Epoch 85/100:   0%|          | 0/352 [00:00<?, ?it/s]"
      ]
     },
     "metadata": {},
     "output_type": "display_data"
    },
    {
     "name": "stdout",
     "output_type": "stream",
     "text": [
      "\n",
      "Epoch 85: New best F1-weighted: 0.9078\n",
      "  F1-Macro: 0.9010, AUC-Macro: 0.0000, Accuracy: 0.9075\n",
      "Saving best model artifacts to C:\\Users\\PC\\Downloads\\Melspectrogram_finetune_NEW\\PestLarvaNet_AudioTwin_Run_3\\data_100.0percent\n"
     ]
    },
    {
     "data": {
      "application/vnd.jupyter.widget-view+json": {
       "model_id": "0449fe3c79664c6aacaf507f2c875593",
       "version_major": 2,
       "version_minor": 0
      },
      "text/plain": [
       "Epoch 86/100:   0%|          | 0/352 [00:00<?, ?it/s]"
      ]
     },
     "metadata": {},
     "output_type": "display_data"
    },
    {
     "data": {
      "application/vnd.jupyter.widget-view+json": {
       "model_id": "cccc183928f642d7a5ddfb105ae909cb",
       "version_major": 2,
       "version_minor": 0
      },
      "text/plain": [
       "Epoch 87/100:   0%|          | 0/352 [00:00<?, ?it/s]"
      ]
     },
     "metadata": {},
     "output_type": "display_data"
    },
    {
     "data": {
      "application/vnd.jupyter.widget-view+json": {
       "model_id": "d8f7bffcdbf84effb41fee8839faa65f",
       "version_major": 2,
       "version_minor": 0
      },
      "text/plain": [
       "Epoch 88/100:   0%|          | 0/352 [00:00<?, ?it/s]"
      ]
     },
     "metadata": {},
     "output_type": "display_data"
    },
    {
     "name": "stdout",
     "output_type": "stream",
     "text": [
      "\n",
      "Epoch 88: New best F1-weighted: 0.9111\n",
      "  F1-Macro: 0.9037, AUC-Macro: 0.0000, Accuracy: 0.9110\n",
      "Saving best model artifacts to C:\\Users\\PC\\Downloads\\Melspectrogram_finetune_NEW\\PestLarvaNet_AudioTwin_Run_3\\data_100.0percent\n"
     ]
    },
    {
     "data": {
      "application/vnd.jupyter.widget-view+json": {
       "model_id": "1bab4e20b63f4d8b8e154bcef9295b23",
       "version_major": 2,
       "version_minor": 0
      },
      "text/plain": [
       "Epoch 89/100:   0%|          | 0/352 [00:00<?, ?it/s]"
      ]
     },
     "metadata": {},
     "output_type": "display_data"
    },
    {
     "data": {
      "application/vnd.jupyter.widget-view+json": {
       "model_id": "12734542853d40518101ea5232686a0f",
       "version_major": 2,
       "version_minor": 0
      },
      "text/plain": [
       "Epoch 90/100:   0%|          | 0/352 [00:00<?, ?it/s]"
      ]
     },
     "metadata": {},
     "output_type": "display_data"
    },
    {
     "data": {
      "application/vnd.jupyter.widget-view+json": {
       "model_id": "977523b60cac408c8f39c7f7ad348078",
       "version_major": 2,
       "version_minor": 0
      },
      "text/plain": [
       "Epoch 91/100:   0%|          | 0/352 [00:00<?, ?it/s]"
      ]
     },
     "metadata": {},
     "output_type": "display_data"
    },
    {
     "data": {
      "application/vnd.jupyter.widget-view+json": {
       "model_id": "23c3fbef6b5840119ca81270162060b0",
       "version_major": 2,
       "version_minor": 0
      },
      "text/plain": [
       "Epoch 92/100:   0%|          | 0/352 [00:00<?, ?it/s]"
      ]
     },
     "metadata": {},
     "output_type": "display_data"
    },
    {
     "data": {
      "application/vnd.jupyter.widget-view+json": {
       "model_id": "fcb1fb5d14f2496f93051da65854382b",
       "version_major": 2,
       "version_minor": 0
      },
      "text/plain": [
       "Epoch 93/100:   0%|          | 0/352 [00:00<?, ?it/s]"
      ]
     },
     "metadata": {},
     "output_type": "display_data"
    },
    {
     "name": "stdout",
     "output_type": "stream",
     "text": [
      "\n",
      "Epoch 93: New best F1-weighted: 0.9132\n",
      "  F1-Macro: 0.9040, AUC-Macro: 0.0000, Accuracy: 0.9132\n",
      "Saving best model artifacts to C:\\Users\\PC\\Downloads\\Melspectrogram_finetune_NEW\\PestLarvaNet_AudioTwin_Run_3\\data_100.0percent\n"
     ]
    },
    {
     "data": {
      "application/vnd.jupyter.widget-view+json": {
       "model_id": "3736f27c31664b12851e71047157633b",
       "version_major": 2,
       "version_minor": 0
      },
      "text/plain": [
       "Epoch 94/100:   0%|          | 0/352 [00:00<?, ?it/s]"
      ]
     },
     "metadata": {},
     "output_type": "display_data"
    },
    {
     "name": "stdout",
     "output_type": "stream",
     "text": [
      "\n",
      "Epoch 94: New best F1-weighted: 0.9133\n",
      "  F1-Macro: 0.9067, AUC-Macro: 0.0000, Accuracy: 0.9132\n",
      "Saving best model artifacts to C:\\Users\\PC\\Downloads\\Melspectrogram_finetune_NEW\\PestLarvaNet_AudioTwin_Run_3\\data_100.0percent\n"
     ]
    },
    {
     "data": {
      "application/vnd.jupyter.widget-view+json": {
       "model_id": "e09fa3fac94a4b74bed4905d9fd7b70d",
       "version_major": 2,
       "version_minor": 0
      },
      "text/plain": [
       "Epoch 95/100:   0%|          | 0/352 [00:00<?, ?it/s]"
      ]
     },
     "metadata": {},
     "output_type": "display_data"
    },
    {
     "data": {
      "application/vnd.jupyter.widget-view+json": {
       "model_id": "3e6284ce7a4048629221b481b4f41759",
       "version_major": 2,
       "version_minor": 0
      },
      "text/plain": [
       "Epoch 96/100:   0%|          | 0/352 [00:00<?, ?it/s]"
      ]
     },
     "metadata": {},
     "output_type": "display_data"
    },
    {
     "data": {
      "application/vnd.jupyter.widget-view+json": {
       "model_id": "e2cb1bd20933412ca5494035b72e4434",
       "version_major": 2,
       "version_minor": 0
      },
      "text/plain": [
       "Epoch 97/100:   0%|          | 0/352 [00:00<?, ?it/s]"
      ]
     },
     "metadata": {},
     "output_type": "display_data"
    },
    {
     "name": "stdout",
     "output_type": "stream",
     "text": [
      "\n",
      "Epoch 97: New best F1-weighted: 0.9146\n",
      "  F1-Macro: 0.9074, AUC-Macro: 0.0000, Accuracy: 0.9146\n",
      "Saving best model artifacts to C:\\Users\\PC\\Downloads\\Melspectrogram_finetune_NEW\\PestLarvaNet_AudioTwin_Run_3\\data_100.0percent\n"
     ]
    },
    {
     "data": {
      "application/vnd.jupyter.widget-view+json": {
       "model_id": "83f53f1bab7244d29444be76ab141bb8",
       "version_major": 2,
       "version_minor": 0
      },
      "text/plain": [
       "Epoch 98/100:   0%|          | 0/352 [00:00<?, ?it/s]"
      ]
     },
     "metadata": {},
     "output_type": "display_data"
    },
    {
     "name": "stdout",
     "output_type": "stream",
     "text": [
      "\n",
      "Epoch 98: New best F1-weighted: 0.9189\n",
      "  F1-Macro: 0.9119, AUC-Macro: 0.0000, Accuracy: 0.9189\n",
      "Saving best model artifacts to C:\\Users\\PC\\Downloads\\Melspectrogram_finetune_NEW\\PestLarvaNet_AudioTwin_Run_3\\data_100.0percent\n"
     ]
    },
    {
     "data": {
      "application/vnd.jupyter.widget-view+json": {
       "model_id": "4d9e3cf2ca51491db15faeb230b120aa",
       "version_major": 2,
       "version_minor": 0
      },
      "text/plain": [
       "Epoch 99/100:   0%|          | 0/352 [00:00<?, ?it/s]"
      ]
     },
     "metadata": {},
     "output_type": "display_data"
    },
    {
     "data": {
      "application/vnd.jupyter.widget-view+json": {
       "model_id": "7cfe698f45494966a84a8d2760307234",
       "version_major": 2,
       "version_minor": 0
      },
      "text/plain": [
       "Epoch 100/100:   0%|          | 0/352 [00:00<?, ?it/s]"
      ]
     },
     "metadata": {},
     "output_type": "display_data"
    },
    {
     "name": "stdout",
     "output_type": "stream",
     "text": [
      "Finished Training for this run. Best F1-weighted: 0.9189\n",
      "==> Results with 100.0% data: Best F1-Weighted = 0.9189\n",
      "\n",
      "==================== Evaluating: PestLarvaNet (AudioTwin Run 4) ====================\n",
      "Lưu kết quả của model này vào: C:\\Users\\PC\\Downloads\\Melspectrogram_finetune_NEW\\PestLarvaNet_AudioTwin_Run_4\n",
      "--- Training with 25.0% of labeled data ---\n",
      "Loading pretrained weights from: C:\\Users\\PC\\PestLarvaNet\\SSL\\audiotwin_checkpoints_medium\\Final checkpoint\\run_4_lp5e-03_ep1e-06_lb0.007_audiotwin_pestlarvanet_medium_epoch_100.pth\n"
     ]
    },
    {
     "name": "stderr",
     "output_type": "stream",
     "text": [
      "C:\\Users\\PC\\anaconda3\\envs\\FallDeteNet\\lib\\site-packages\\torch\\optim\\lr_scheduler.py:62: UserWarning: The verbose parameter is deprecated. Please use get_last_lr() to access the learning rate.\n",
      "  warnings.warn(\n"
     ]
    },
    {
     "data": {
      "application/vnd.jupyter.widget-view+json": {
       "model_id": "1eabf76ddfc942e1bd93630bc6a8c41e",
       "version_major": 2,
       "version_minor": 0
      },
      "text/plain": [
       "Epoch 1/100:   0%|          | 0/88 [00:00<?, ?it/s]"
      ]
     },
     "metadata": {},
     "output_type": "display_data"
    },
    {
     "name": "stdout",
     "output_type": "stream",
     "text": [
      "\n",
      "Epoch 1: New best F1-weighted: 0.4410\n",
      "  F1-Macro: 0.3726, AUC-Macro: 0.0000, Accuracy: 0.5281\n",
      "Saving best model artifacts to C:\\Users\\PC\\Downloads\\Melspectrogram_finetune_NEW\\PestLarvaNet_AudioTwin_Run_4\\data_25.0percent\n"
     ]
    },
    {
     "data": {
      "application/vnd.jupyter.widget-view+json": {
       "model_id": "485dbdc37faf4a34a9d59c6dd0f28e39",
       "version_major": 2,
       "version_minor": 0
      },
      "text/plain": [
       "Epoch 2/100:   0%|          | 0/88 [00:00<?, ?it/s]"
      ]
     },
     "metadata": {},
     "output_type": "display_data"
    },
    {
     "name": "stdout",
     "output_type": "stream",
     "text": [
      "\n",
      "Epoch 2: New best F1-weighted: 0.4682\n",
      "  F1-Macro: 0.3953, AUC-Macro: 0.0000, Accuracy: 0.5391\n",
      "Saving best model artifacts to C:\\Users\\PC\\Downloads\\Melspectrogram_finetune_NEW\\PestLarvaNet_AudioTwin_Run_4\\data_25.0percent\n"
     ]
    },
    {
     "data": {
      "application/vnd.jupyter.widget-view+json": {
       "model_id": "0709ae7f529f49f9ba21778a214070d9",
       "version_major": 2,
       "version_minor": 0
      },
      "text/plain": [
       "Epoch 3/100:   0%|          | 0/88 [00:00<?, ?it/s]"
      ]
     },
     "metadata": {},
     "output_type": "display_data"
    },
    {
     "data": {
      "application/vnd.jupyter.widget-view+json": {
       "model_id": "b10fd2784f3f4134887bd9cfcb6ed0d7",
       "version_major": 2,
       "version_minor": 0
      },
      "text/plain": [
       "Epoch 4/100:   0%|          | 0/88 [00:00<?, ?it/s]"
      ]
     },
     "metadata": {},
     "output_type": "display_data"
    },
    {
     "name": "stdout",
     "output_type": "stream",
     "text": [
      "\n",
      "Epoch 4: New best F1-weighted: 0.4849\n",
      "  F1-Macro: 0.4142, AUC-Macro: 0.0000, Accuracy: 0.5548\n",
      "Saving best model artifacts to C:\\Users\\PC\\Downloads\\Melspectrogram_finetune_NEW\\PestLarvaNet_AudioTwin_Run_4\\data_25.0percent\n"
     ]
    },
    {
     "data": {
      "application/vnd.jupyter.widget-view+json": {
       "model_id": "66944ead26714237a1c20c8443ec0554",
       "version_major": 2,
       "version_minor": 0
      },
      "text/plain": [
       "Epoch 5/100:   0%|          | 0/88 [00:00<?, ?it/s]"
      ]
     },
     "metadata": {},
     "output_type": "display_data"
    },
    {
     "data": {
      "application/vnd.jupyter.widget-view+json": {
       "model_id": "82268b278f7c4eaab67b11751511a7ed",
       "version_major": 2,
       "version_minor": 0
      },
      "text/plain": [
       "Epoch 6/100:   0%|          | 0/88 [00:00<?, ?it/s]"
      ]
     },
     "metadata": {},
     "output_type": "display_data"
    },
    {
     "name": "stdout",
     "output_type": "stream",
     "text": [
      "\n",
      "Epoch 6: New best F1-weighted: 0.4942\n",
      "  F1-Macro: 0.4244, AUC-Macro: 0.0000, Accuracy: 0.5416\n",
      "Saving best model artifacts to C:\\Users\\PC\\Downloads\\Melspectrogram_finetune_NEW\\PestLarvaNet_AudioTwin_Run_4\\data_25.0percent\n"
     ]
    },
    {
     "data": {
      "application/vnd.jupyter.widget-view+json": {
       "model_id": "ca216d5bf8a24dabad1c283e9a73818c",
       "version_major": 2,
       "version_minor": 0
      },
      "text/plain": [
       "Epoch 7/100:   0%|          | 0/88 [00:00<?, ?it/s]"
      ]
     },
     "metadata": {},
     "output_type": "display_data"
    },
    {
     "name": "stdout",
     "output_type": "stream",
     "text": [
      "\n",
      "Epoch 7: New best F1-weighted: 0.5051\n",
      "  F1-Macro: 0.4365, AUC-Macro: 0.0000, Accuracy: 0.5648\n",
      "Saving best model artifacts to C:\\Users\\PC\\Downloads\\Melspectrogram_finetune_NEW\\PestLarvaNet_AudioTwin_Run_4\\data_25.0percent\n"
     ]
    },
    {
     "data": {
      "application/vnd.jupyter.widget-view+json": {
       "model_id": "0ba775e004d9490f8b0c0c2c47a24bcb",
       "version_major": 2,
       "version_minor": 0
      },
      "text/plain": [
       "Epoch 8/100:   0%|          | 0/88 [00:00<?, ?it/s]"
      ]
     },
     "metadata": {},
     "output_type": "display_data"
    },
    {
     "data": {
      "application/vnd.jupyter.widget-view+json": {
       "model_id": "341470237cdb40c0bd1cd3ed0c9771bb",
       "version_major": 2,
       "version_minor": 0
      },
      "text/plain": [
       "Epoch 9/100:   0%|          | 0/88 [00:00<?, ?it/s]"
      ]
     },
     "metadata": {},
     "output_type": "display_data"
    },
    {
     "name": "stdout",
     "output_type": "stream",
     "text": [
      "\n",
      "Epoch 9: New best F1-weighted: 0.5369\n",
      "  F1-Macro: 0.4608, AUC-Macro: 0.0000, Accuracy: 0.5683\n",
      "Saving best model artifacts to C:\\Users\\PC\\Downloads\\Melspectrogram_finetune_NEW\\PestLarvaNet_AudioTwin_Run_4\\data_25.0percent\n"
     ]
    },
    {
     "data": {
      "application/vnd.jupyter.widget-view+json": {
       "model_id": "123f421c4e2e43d2ba078f2080ddca65",
       "version_major": 2,
       "version_minor": 0
      },
      "text/plain": [
       "Epoch 10/100:   0%|          | 0/88 [00:00<?, ?it/s]"
      ]
     },
     "metadata": {},
     "output_type": "display_data"
    },
    {
     "data": {
      "application/vnd.jupyter.widget-view+json": {
       "model_id": "ac32ebcd32ed43a58abc6d45f9498c69",
       "version_major": 2,
       "version_minor": 0
      },
      "text/plain": [
       "Epoch 11/100:   0%|          | 0/88 [00:00<?, ?it/s]"
      ]
     },
     "metadata": {},
     "output_type": "display_data"
    },
    {
     "name": "stdout",
     "output_type": "stream",
     "text": [
      "\n",
      "Epoch 11: New best F1-weighted: 0.5412\n",
      "  F1-Macro: 0.4685, AUC-Macro: 0.0000, Accuracy: 0.5811\n",
      "Saving best model artifacts to C:\\Users\\PC\\Downloads\\Melspectrogram_finetune_NEW\\PestLarvaNet_AudioTwin_Run_4\\data_25.0percent\n"
     ]
    },
    {
     "data": {
      "application/vnd.jupyter.widget-view+json": {
       "model_id": "0f7e1c241b274dc6ac6a933cb1e67f86",
       "version_major": 2,
       "version_minor": 0
      },
      "text/plain": [
       "Epoch 12/100:   0%|          | 0/88 [00:00<?, ?it/s]"
      ]
     },
     "metadata": {},
     "output_type": "display_data"
    },
    {
     "name": "stdout",
     "output_type": "stream",
     "text": [
      "\n",
      "Epoch 12: New best F1-weighted: 0.5430\n",
      "  F1-Macro: 0.4770, AUC-Macro: 0.0000, Accuracy: 0.5972\n",
      "Saving best model artifacts to C:\\Users\\PC\\Downloads\\Melspectrogram_finetune_NEW\\PestLarvaNet_AudioTwin_Run_4\\data_25.0percent\n"
     ]
    },
    {
     "data": {
      "application/vnd.jupyter.widget-view+json": {
       "model_id": "97a54f9de450468cb3f406855fd7da45",
       "version_major": 2,
       "version_minor": 0
      },
      "text/plain": [
       "Epoch 13/100:   0%|          | 0/88 [00:00<?, ?it/s]"
      ]
     },
     "metadata": {},
     "output_type": "display_data"
    },
    {
     "data": {
      "application/vnd.jupyter.widget-view+json": {
       "model_id": "b79c7b40295c4e45870ee5cd3d409397",
       "version_major": 2,
       "version_minor": 0
      },
      "text/plain": [
       "Epoch 14/100:   0%|          | 0/88 [00:00<?, ?it/s]"
      ]
     },
     "metadata": {},
     "output_type": "display_data"
    },
    {
     "data": {
      "application/vnd.jupyter.widget-view+json": {
       "model_id": "42b1d1d207db4877af1025a8812dc8d3",
       "version_major": 2,
       "version_minor": 0
      },
      "text/plain": [
       "Epoch 15/100:   0%|          | 0/88 [00:00<?, ?it/s]"
      ]
     },
     "metadata": {},
     "output_type": "display_data"
    },
    {
     "data": {
      "application/vnd.jupyter.widget-view+json": {
       "model_id": "9ff19b86f68c4846a7bc53641fe782d7",
       "version_major": 2,
       "version_minor": 0
      },
      "text/plain": [
       "Epoch 16/100:   0%|          | 0/88 [00:00<?, ?it/s]"
      ]
     },
     "metadata": {},
     "output_type": "display_data"
    },
    {
     "name": "stdout",
     "output_type": "stream",
     "text": [
      "\n",
      "Epoch 16: New best F1-weighted: 0.5582\n",
      "  F1-Macro: 0.4877, AUC-Macro: 0.0000, Accuracy: 0.5932\n",
      "Saving best model artifacts to C:\\Users\\PC\\Downloads\\Melspectrogram_finetune_NEW\\PestLarvaNet_AudioTwin_Run_4\\data_25.0percent\n"
     ]
    },
    {
     "data": {
      "application/vnd.jupyter.widget-view+json": {
       "model_id": "ceab9863edbc449cbe7143a790e6f933",
       "version_major": 2,
       "version_minor": 0
      },
      "text/plain": [
       "Epoch 17/100:   0%|          | 0/88 [00:00<?, ?it/s]"
      ]
     },
     "metadata": {},
     "output_type": "display_data"
    },
    {
     "data": {
      "application/vnd.jupyter.widget-view+json": {
       "model_id": "80dbb98b9f2b485c9b6a124768ae3b55",
       "version_major": 2,
       "version_minor": 0
      },
      "text/plain": [
       "Epoch 18/100:   0%|          | 0/88 [00:00<?, ?it/s]"
      ]
     },
     "metadata": {},
     "output_type": "display_data"
    },
    {
     "name": "stdout",
     "output_type": "stream",
     "text": [
      "\n",
      "Epoch 18: New best F1-weighted: 0.5971\n",
      "  F1-Macro: 0.5251, AUC-Macro: 0.0000, Accuracy: 0.6292\n",
      "Saving best model artifacts to C:\\Users\\PC\\Downloads\\Melspectrogram_finetune_NEW\\PestLarvaNet_AudioTwin_Run_4\\data_25.0percent\n"
     ]
    },
    {
     "data": {
      "application/vnd.jupyter.widget-view+json": {
       "model_id": "36b107bd8d41487e88ba708e91074892",
       "version_major": 2,
       "version_minor": 0
      },
      "text/plain": [
       "Epoch 19/100:   0%|          | 0/88 [00:00<?, ?it/s]"
      ]
     },
     "metadata": {},
     "output_type": "display_data"
    },
    {
     "data": {
      "application/vnd.jupyter.widget-view+json": {
       "model_id": "b1d45b197801405ab4250e3ac8129648",
       "version_major": 2,
       "version_minor": 0
      },
      "text/plain": [
       "Epoch 20/100:   0%|          | 0/88 [00:00<?, ?it/s]"
      ]
     },
     "metadata": {},
     "output_type": "display_data"
    },
    {
     "data": {
      "application/vnd.jupyter.widget-view+json": {
       "model_id": "574dd0a4047a4f2ba36e9cc683a20624",
       "version_major": 2,
       "version_minor": 0
      },
      "text/plain": [
       "Epoch 21/100:   0%|          | 0/88 [00:00<?, ?it/s]"
      ]
     },
     "metadata": {},
     "output_type": "display_data"
    },
    {
     "data": {
      "application/vnd.jupyter.widget-view+json": {
       "model_id": "df3d08fd88c54906a2870b30e1e43964",
       "version_major": 2,
       "version_minor": 0
      },
      "text/plain": [
       "Epoch 22/100:   0%|          | 0/88 [00:00<?, ?it/s]"
      ]
     },
     "metadata": {},
     "output_type": "display_data"
    },
    {
     "data": {
      "application/vnd.jupyter.widget-view+json": {
       "model_id": "2e191ff198f94f1dadd2915603919d94",
       "version_major": 2,
       "version_minor": 0
      },
      "text/plain": [
       "Epoch 23/100:   0%|          | 0/88 [00:00<?, ?it/s]"
      ]
     },
     "metadata": {},
     "output_type": "display_data"
    },
    {
     "data": {
      "application/vnd.jupyter.widget-view+json": {
       "model_id": "ab68a30aae4d45a0848eba27d59158f8",
       "version_major": 2,
       "version_minor": 0
      },
      "text/plain": [
       "Epoch 24/100:   0%|          | 0/88 [00:00<?, ?it/s]"
      ]
     },
     "metadata": {},
     "output_type": "display_data"
    },
    {
     "name": "stdout",
     "output_type": "stream",
     "text": [
      "\n",
      "Epoch 24: New best F1-weighted: 0.6046\n",
      "  F1-Macro: 0.5327, AUC-Macro: 0.0000, Accuracy: 0.6342\n",
      "Saving best model artifacts to C:\\Users\\PC\\Downloads\\Melspectrogram_finetune_NEW\\PestLarvaNet_AudioTwin_Run_4\\data_25.0percent\n"
     ]
    },
    {
     "data": {
      "application/vnd.jupyter.widget-view+json": {
       "model_id": "7ff4f31881b348c9be14deb689b2d94e",
       "version_major": 2,
       "version_minor": 0
      },
      "text/plain": [
       "Epoch 25/100:   0%|          | 0/88 [00:00<?, ?it/s]"
      ]
     },
     "metadata": {},
     "output_type": "display_data"
    },
    {
     "name": "stdout",
     "output_type": "stream",
     "text": [
      "\n",
      "Epoch 25: New best F1-weighted: 0.6094\n",
      "  F1-Macro: 0.5317, AUC-Macro: 0.0000, Accuracy: 0.6484\n",
      "Saving best model artifacts to C:\\Users\\PC\\Downloads\\Melspectrogram_finetune_NEW\\PestLarvaNet_AudioTwin_Run_4\\data_25.0percent\n"
     ]
    },
    {
     "data": {
      "application/vnd.jupyter.widget-view+json": {
       "model_id": "353a7e56353e4fefac004ceac285df45",
       "version_major": 2,
       "version_minor": 0
      },
      "text/plain": [
       "Epoch 26/100:   0%|          | 0/88 [00:00<?, ?it/s]"
      ]
     },
     "metadata": {},
     "output_type": "display_data"
    },
    {
     "data": {
      "application/vnd.jupyter.widget-view+json": {
       "model_id": "1bc37c671c9f459fb419aede017b8385",
       "version_major": 2,
       "version_minor": 0
      },
      "text/plain": [
       "Epoch 27/100:   0%|          | 0/88 [00:00<?, ?it/s]"
      ]
     },
     "metadata": {},
     "output_type": "display_data"
    },
    {
     "data": {
      "application/vnd.jupyter.widget-view+json": {
       "model_id": "f02c5f45bc0140218df6a62f07bb67fe",
       "version_major": 2,
       "version_minor": 0
      },
      "text/plain": [
       "Epoch 28/100:   0%|          | 0/88 [00:00<?, ?it/s]"
      ]
     },
     "metadata": {},
     "output_type": "display_data"
    },
    {
     "data": {
      "application/vnd.jupyter.widget-view+json": {
       "model_id": "d5d08c86fb044e2fbe671237f0e9cbe0",
       "version_major": 2,
       "version_minor": 0
      },
      "text/plain": [
       "Epoch 29/100:   0%|          | 0/88 [00:00<?, ?it/s]"
      ]
     },
     "metadata": {},
     "output_type": "display_data"
    },
    {
     "name": "stdout",
     "output_type": "stream",
     "text": [
      "\n",
      "Epoch 29: New best F1-weighted: 0.6157\n",
      "  F1-Macro: 0.5489, AUC-Macro: 0.0000, Accuracy: 0.6406\n",
      "Saving best model artifacts to C:\\Users\\PC\\Downloads\\Melspectrogram_finetune_NEW\\PestLarvaNet_AudioTwin_Run_4\\data_25.0percent\n"
     ]
    },
    {
     "data": {
      "application/vnd.jupyter.widget-view+json": {
       "model_id": "329a224fecc043c5a39926f7a69b101b",
       "version_major": 2,
       "version_minor": 0
      },
      "text/plain": [
       "Epoch 30/100:   0%|          | 0/88 [00:00<?, ?it/s]"
      ]
     },
     "metadata": {},
     "output_type": "display_data"
    },
    {
     "name": "stdout",
     "output_type": "stream",
     "text": [
      "\n",
      "Epoch 30: New best F1-weighted: 0.6161\n",
      "  F1-Macro: 0.5501, AUC-Macro: 0.0000, Accuracy: 0.6438\n",
      "Saving best model artifacts to C:\\Users\\PC\\Downloads\\Melspectrogram_finetune_NEW\\PestLarvaNet_AudioTwin_Run_4\\data_25.0percent\n"
     ]
    },
    {
     "data": {
      "application/vnd.jupyter.widget-view+json": {
       "model_id": "9c5c6e10b61f422abc15994f6883a4c4",
       "version_major": 2,
       "version_minor": 0
      },
      "text/plain": [
       "Epoch 31/100:   0%|          | 0/88 [00:00<?, ?it/s]"
      ]
     },
     "metadata": {},
     "output_type": "display_data"
    },
    {
     "name": "stdout",
     "output_type": "stream",
     "text": [
      "\n",
      "Epoch 31: New best F1-weighted: 0.6412\n",
      "  F1-Macro: 0.5764, AUC-Macro: 0.0000, Accuracy: 0.6626\n",
      "Saving best model artifacts to C:\\Users\\PC\\Downloads\\Melspectrogram_finetune_NEW\\PestLarvaNet_AudioTwin_Run_4\\data_25.0percent\n"
     ]
    },
    {
     "data": {
      "application/vnd.jupyter.widget-view+json": {
       "model_id": "1bb18d1b235443fb9a7e2346946320c8",
       "version_major": 2,
       "version_minor": 0
      },
      "text/plain": [
       "Epoch 32/100:   0%|          | 0/88 [00:00<?, ?it/s]"
      ]
     },
     "metadata": {},
     "output_type": "display_data"
    },
    {
     "data": {
      "application/vnd.jupyter.widget-view+json": {
       "model_id": "0f30048b3e70420f8630486b7cb7d840",
       "version_major": 2,
       "version_minor": 0
      },
      "text/plain": [
       "Epoch 33/100:   0%|          | 0/88 [00:00<?, ?it/s]"
      ]
     },
     "metadata": {},
     "output_type": "display_data"
    },
    {
     "data": {
      "application/vnd.jupyter.widget-view+json": {
       "model_id": "4119b0196fec45419a05ae58bd7dec35",
       "version_major": 2,
       "version_minor": 0
      },
      "text/plain": [
       "Epoch 34/100:   0%|          | 0/88 [00:00<?, ?it/s]"
      ]
     },
     "metadata": {},
     "output_type": "display_data"
    },
    {
     "data": {
      "application/vnd.jupyter.widget-view+json": {
       "model_id": "4ffe6e71c6694966b34b5e77ab79df36",
       "version_major": 2,
       "version_minor": 0
      },
      "text/plain": [
       "Epoch 35/100:   0%|          | 0/88 [00:00<?, ?it/s]"
      ]
     },
     "metadata": {},
     "output_type": "display_data"
    },
    {
     "data": {
      "application/vnd.jupyter.widget-view+json": {
       "model_id": "42cd72f6da894b8c9e051d5ac9b995ec",
       "version_major": 2,
       "version_minor": 0
      },
      "text/plain": [
       "Epoch 36/100:   0%|          | 0/88 [00:00<?, ?it/s]"
      ]
     },
     "metadata": {},
     "output_type": "display_data"
    },
    {
     "data": {
      "application/vnd.jupyter.widget-view+json": {
       "model_id": "21f3660acd56437696470559c7a2dfe2",
       "version_major": 2,
       "version_minor": 0
      },
      "text/plain": [
       "Epoch 37/100:   0%|          | 0/88 [00:00<?, ?it/s]"
      ]
     },
     "metadata": {},
     "output_type": "display_data"
    },
    {
     "name": "stdout",
     "output_type": "stream",
     "text": [
      "\n",
      "Epoch 37: New best F1-weighted: 0.6466\n",
      "  F1-Macro: 0.5833, AUC-Macro: 0.0000, Accuracy: 0.6794\n",
      "Saving best model artifacts to C:\\Users\\PC\\Downloads\\Melspectrogram_finetune_NEW\\PestLarvaNet_AudioTwin_Run_4\\data_25.0percent\n"
     ]
    },
    {
     "data": {
      "application/vnd.jupyter.widget-view+json": {
       "model_id": "67ecca10d6ee4698bb670310f0221991",
       "version_major": 2,
       "version_minor": 0
      },
      "text/plain": [
       "Epoch 38/100:   0%|          | 0/88 [00:00<?, ?it/s]"
      ]
     },
     "metadata": {},
     "output_type": "display_data"
    },
    {
     "name": "stdout",
     "output_type": "stream",
     "text": [
      "\n",
      "Epoch 38: New best F1-weighted: 0.6554\n",
      "  F1-Macro: 0.5863, AUC-Macro: 0.0000, Accuracy: 0.6840\n",
      "Saving best model artifacts to C:\\Users\\PC\\Downloads\\Melspectrogram_finetune_NEW\\PestLarvaNet_AudioTwin_Run_4\\data_25.0percent\n"
     ]
    },
    {
     "data": {
      "application/vnd.jupyter.widget-view+json": {
       "model_id": "3db3d61e229840dcb0d17588eeaf5613",
       "version_major": 2,
       "version_minor": 0
      },
      "text/plain": [
       "Epoch 39/100:   0%|          | 0/88 [00:00<?, ?it/s]"
      ]
     },
     "metadata": {},
     "output_type": "display_data"
    },
    {
     "name": "stdout",
     "output_type": "stream",
     "text": [
      "\n",
      "Epoch 39: New best F1-weighted: 0.6633\n",
      "  F1-Macro: 0.5948, AUC-Macro: 0.0000, Accuracy: 0.6915\n",
      "Saving best model artifacts to C:\\Users\\PC\\Downloads\\Melspectrogram_finetune_NEW\\PestLarvaNet_AudioTwin_Run_4\\data_25.0percent\n"
     ]
    },
    {
     "data": {
      "application/vnd.jupyter.widget-view+json": {
       "model_id": "8af014aac9cb423ab14a6efc5bb698bd",
       "version_major": 2,
       "version_minor": 0
      },
      "text/plain": [
       "Epoch 40/100:   0%|          | 0/88 [00:00<?, ?it/s]"
      ]
     },
     "metadata": {},
     "output_type": "display_data"
    },
    {
     "data": {
      "application/vnd.jupyter.widget-view+json": {
       "model_id": "c8bab8cbdea24181b44c26269325e18f",
       "version_major": 2,
       "version_minor": 0
      },
      "text/plain": [
       "Epoch 41/100:   0%|          | 0/88 [00:00<?, ?it/s]"
      ]
     },
     "metadata": {},
     "output_type": "display_data"
    },
    {
     "data": {
      "application/vnd.jupyter.widget-view+json": {
       "model_id": "8f6abf7e75c44badb7eb7421a62943c8",
       "version_major": 2,
       "version_minor": 0
      },
      "text/plain": [
       "Epoch 42/100:   0%|          | 0/88 [00:00<?, ?it/s]"
      ]
     },
     "metadata": {},
     "output_type": "display_data"
    },
    {
     "data": {
      "application/vnd.jupyter.widget-view+json": {
       "model_id": "945f3f7a62e44e5d97ea2f036e9b1a95",
       "version_major": 2,
       "version_minor": 0
      },
      "text/plain": [
       "Epoch 43/100:   0%|          | 0/88 [00:00<?, ?it/s]"
      ]
     },
     "metadata": {},
     "output_type": "display_data"
    },
    {
     "name": "stdout",
     "output_type": "stream",
     "text": [
      "\n",
      "Epoch 43: New best F1-weighted: 0.6924\n",
      "  F1-Macro: 0.6388, AUC-Macro: 0.0000, Accuracy: 0.7075\n",
      "Saving best model artifacts to C:\\Users\\PC\\Downloads\\Melspectrogram_finetune_NEW\\PestLarvaNet_AudioTwin_Run_4\\data_25.0percent\n"
     ]
    },
    {
     "data": {
      "application/vnd.jupyter.widget-view+json": {
       "model_id": "ae0190d71f33446bbf49b386798393e0",
       "version_major": 2,
       "version_minor": 0
      },
      "text/plain": [
       "Epoch 44/100:   0%|          | 0/88 [00:00<?, ?it/s]"
      ]
     },
     "metadata": {},
     "output_type": "display_data"
    },
    {
     "data": {
      "application/vnd.jupyter.widget-view+json": {
       "model_id": "77305713ba504cfaa09cb9c4ee611c9d",
       "version_major": 2,
       "version_minor": 0
      },
      "text/plain": [
       "Epoch 45/100:   0%|          | 0/88 [00:00<?, ?it/s]"
      ]
     },
     "metadata": {},
     "output_type": "display_data"
    },
    {
     "data": {
      "application/vnd.jupyter.widget-view+json": {
       "model_id": "d7c0bbe3f51f4328bfab470699956237",
       "version_major": 2,
       "version_minor": 0
      },
      "text/plain": [
       "Epoch 46/100:   0%|          | 0/88 [00:00<?, ?it/s]"
      ]
     },
     "metadata": {},
     "output_type": "display_data"
    },
    {
     "data": {
      "application/vnd.jupyter.widget-view+json": {
       "model_id": "3b740ea22cd94d72902d045afb57e7a7",
       "version_major": 2,
       "version_minor": 0
      },
      "text/plain": [
       "Epoch 47/100:   0%|          | 0/88 [00:00<?, ?it/s]"
      ]
     },
     "metadata": {},
     "output_type": "display_data"
    },
    {
     "data": {
      "application/vnd.jupyter.widget-view+json": {
       "model_id": "d93410b9d4134b2d8b6efd26c08d0ff4",
       "version_major": 2,
       "version_minor": 0
      },
      "text/plain": [
       "Epoch 48/100:   0%|          | 0/88 [00:00<?, ?it/s]"
      ]
     },
     "metadata": {},
     "output_type": "display_data"
    },
    {
     "data": {
      "application/vnd.jupyter.widget-view+json": {
       "model_id": "7a2527ba69954d69a09466156809ecc5",
       "version_major": 2,
       "version_minor": 0
      },
      "text/plain": [
       "Epoch 49/100:   0%|          | 0/88 [00:00<?, ?it/s]"
      ]
     },
     "metadata": {},
     "output_type": "display_data"
    },
    {
     "data": {
      "application/vnd.jupyter.widget-view+json": {
       "model_id": "69011ed7b23d4ea6ad7c95781f4bb624",
       "version_major": 2,
       "version_minor": 0
      },
      "text/plain": [
       "Epoch 50/100:   0%|          | 0/88 [00:00<?, ?it/s]"
      ]
     },
     "metadata": {},
     "output_type": "display_data"
    },
    {
     "name": "stdout",
     "output_type": "stream",
     "text": [
      "\n",
      "Epoch 50: New best F1-weighted: 0.6989\n",
      "  F1-Macro: 0.6417, AUC-Macro: 0.0000, Accuracy: 0.7142\n",
      "Saving best model artifacts to C:\\Users\\PC\\Downloads\\Melspectrogram_finetune_NEW\\PestLarvaNet_AudioTwin_Run_4\\data_25.0percent\n"
     ]
    },
    {
     "data": {
      "application/vnd.jupyter.widget-view+json": {
       "model_id": "cff3c3c6622347d2b23353bc44ba598e",
       "version_major": 2,
       "version_minor": 0
      },
      "text/plain": [
       "Epoch 51/100:   0%|          | 0/88 [00:00<?, ?it/s]"
      ]
     },
     "metadata": {},
     "output_type": "display_data"
    },
    {
     "name": "stdout",
     "output_type": "stream",
     "text": [
      "\n",
      "Epoch 51: New best F1-weighted: 0.7067\n",
      "  F1-Macro: 0.6522, AUC-Macro: 0.0000, Accuracy: 0.7174\n",
      "Saving best model artifacts to C:\\Users\\PC\\Downloads\\Melspectrogram_finetune_NEW\\PestLarvaNet_AudioTwin_Run_4\\data_25.0percent\n"
     ]
    },
    {
     "data": {
      "application/vnd.jupyter.widget-view+json": {
       "model_id": "bbeca6d8a53a46efa8492e5838276b44",
       "version_major": 2,
       "version_minor": 0
      },
      "text/plain": [
       "Epoch 52/100:   0%|          | 0/88 [00:00<?, ?it/s]"
      ]
     },
     "metadata": {},
     "output_type": "display_data"
    },
    {
     "data": {
      "application/vnd.jupyter.widget-view+json": {
       "model_id": "6d9f94ccd3a14bf3aa63db15825882e1",
       "version_major": 2,
       "version_minor": 0
      },
      "text/plain": [
       "Epoch 53/100:   0%|          | 0/88 [00:00<?, ?it/s]"
      ]
     },
     "metadata": {},
     "output_type": "display_data"
    },
    {
     "data": {
      "application/vnd.jupyter.widget-view+json": {
       "model_id": "0573e7a2a5c742cdadea2c849c6e9c76",
       "version_major": 2,
       "version_minor": 0
      },
      "text/plain": [
       "Epoch 54/100:   0%|          | 0/88 [00:00<?, ?it/s]"
      ]
     },
     "metadata": {},
     "output_type": "display_data"
    },
    {
     "name": "stdout",
     "output_type": "stream",
     "text": [
      "\n",
      "Epoch 54: New best F1-weighted: 0.7161\n",
      "  F1-Macro: 0.6709, AUC-Macro: 0.0000, Accuracy: 0.7278\n",
      "Saving best model artifacts to C:\\Users\\PC\\Downloads\\Melspectrogram_finetune_NEW\\PestLarvaNet_AudioTwin_Run_4\\data_25.0percent\n"
     ]
    },
    {
     "data": {
      "application/vnd.jupyter.widget-view+json": {
       "model_id": "9e1a21d3589e4dfe95b5eecdf34b9470",
       "version_major": 2,
       "version_minor": 0
      },
      "text/plain": [
       "Epoch 55/100:   0%|          | 0/88 [00:00<?, ?it/s]"
      ]
     },
     "metadata": {},
     "output_type": "display_data"
    },
    {
     "name": "stdout",
     "output_type": "stream",
     "text": [
      "\n",
      "Epoch 55: New best F1-weighted: 0.7234\n",
      "  F1-Macro: 0.6790, AUC-Macro: 0.0000, Accuracy: 0.7295\n",
      "Saving best model artifacts to C:\\Users\\PC\\Downloads\\Melspectrogram_finetune_NEW\\PestLarvaNet_AudioTwin_Run_4\\data_25.0percent\n"
     ]
    },
    {
     "data": {
      "application/vnd.jupyter.widget-view+json": {
       "model_id": "bcd0838eff8648f3841ebba5ea2b1530",
       "version_major": 2,
       "version_minor": 0
      },
      "text/plain": [
       "Epoch 56/100:   0%|          | 0/88 [00:00<?, ?it/s]"
      ]
     },
     "metadata": {},
     "output_type": "display_data"
    },
    {
     "data": {
      "application/vnd.jupyter.widget-view+json": {
       "model_id": "3e160acd90a8425d858015c75cc4b080",
       "version_major": 2,
       "version_minor": 0
      },
      "text/plain": [
       "Epoch 57/100:   0%|          | 0/88 [00:00<?, ?it/s]"
      ]
     },
     "metadata": {},
     "output_type": "display_data"
    },
    {
     "data": {
      "application/vnd.jupyter.widget-view+json": {
       "model_id": "ddbd675bd71442faa1742db3cf53c30d",
       "version_major": 2,
       "version_minor": 0
      },
      "text/plain": [
       "Epoch 58/100:   0%|          | 0/88 [00:00<?, ?it/s]"
      ]
     },
     "metadata": {},
     "output_type": "display_data"
    },
    {
     "name": "stdout",
     "output_type": "stream",
     "text": [
      "\n",
      "Epoch 58: New best F1-weighted: 0.7339\n",
      "  F1-Macro: 0.6928, AUC-Macro: 0.0000, Accuracy: 0.7374\n",
      "Saving best model artifacts to C:\\Users\\PC\\Downloads\\Melspectrogram_finetune_NEW\\PestLarvaNet_AudioTwin_Run_4\\data_25.0percent\n"
     ]
    },
    {
     "data": {
      "application/vnd.jupyter.widget-view+json": {
       "model_id": "b7aa9edd13d24126969804eeb434f527",
       "version_major": 2,
       "version_minor": 0
      },
      "text/plain": [
       "Epoch 59/100:   0%|          | 0/88 [00:00<?, ?it/s]"
      ]
     },
     "metadata": {},
     "output_type": "display_data"
    },
    {
     "data": {
      "application/vnd.jupyter.widget-view+json": {
       "model_id": "3e7077abc892443abecf5d7d05aa41bd",
       "version_major": 2,
       "version_minor": 0
      },
      "text/plain": [
       "Epoch 60/100:   0%|          | 0/88 [00:00<?, ?it/s]"
      ]
     },
     "metadata": {},
     "output_type": "display_data"
    },
    {
     "data": {
      "application/vnd.jupyter.widget-view+json": {
       "model_id": "fa688ce9770c44f0b5c4d8e564470063",
       "version_major": 2,
       "version_minor": 0
      },
      "text/plain": [
       "Epoch 61/100:   0%|          | 0/88 [00:00<?, ?it/s]"
      ]
     },
     "metadata": {},
     "output_type": "display_data"
    },
    {
     "name": "stdout",
     "output_type": "stream",
     "text": [
      "\n",
      "Epoch 61: New best F1-weighted: 0.7370\n",
      "  F1-Macro: 0.6909, AUC-Macro: 0.0000, Accuracy: 0.7420\n",
      "Saving best model artifacts to C:\\Users\\PC\\Downloads\\Melspectrogram_finetune_NEW\\PestLarvaNet_AudioTwin_Run_4\\data_25.0percent\n"
     ]
    },
    {
     "data": {
      "application/vnd.jupyter.widget-view+json": {
       "model_id": "8266982a8bf942bbb6e78d5c1b7e7ac5",
       "version_major": 2,
       "version_minor": 0
      },
      "text/plain": [
       "Epoch 62/100:   0%|          | 0/88 [00:00<?, ?it/s]"
      ]
     },
     "metadata": {},
     "output_type": "display_data"
    },
    {
     "data": {
      "application/vnd.jupyter.widget-view+json": {
       "model_id": "f50e97fe31d1477bb9e1c0e72629cefc",
       "version_major": 2,
       "version_minor": 0
      },
      "text/plain": [
       "Epoch 63/100:   0%|          | 0/88 [00:00<?, ?it/s]"
      ]
     },
     "metadata": {},
     "output_type": "display_data"
    },
    {
     "data": {
      "application/vnd.jupyter.widget-view+json": {
       "model_id": "d09f25ef8054459fab00d20eea3aec98",
       "version_major": 2,
       "version_minor": 0
      },
      "text/plain": [
       "Epoch 64/100:   0%|          | 0/88 [00:00<?, ?it/s]"
      ]
     },
     "metadata": {},
     "output_type": "display_data"
    },
    {
     "data": {
      "application/vnd.jupyter.widget-view+json": {
       "model_id": "05a5502e00784334b91e1b2e97ae06f7",
       "version_major": 2,
       "version_minor": 0
      },
      "text/plain": [
       "Epoch 65/100:   0%|          | 0/88 [00:00<?, ?it/s]"
      ]
     },
     "metadata": {},
     "output_type": "display_data"
    },
    {
     "data": {
      "application/vnd.jupyter.widget-view+json": {
       "model_id": "f1ee09b787754ea1872090599762b3c5",
       "version_major": 2,
       "version_minor": 0
      },
      "text/plain": [
       "Epoch 66/100:   0%|          | 0/88 [00:00<?, ?it/s]"
      ]
     },
     "metadata": {},
     "output_type": "display_data"
    },
    {
     "name": "stdout",
     "output_type": "stream",
     "text": [
      "\n",
      "Epoch 66: New best F1-weighted: 0.7462\n",
      "  F1-Macro: 0.7095, AUC-Macro: 0.0000, Accuracy: 0.7438\n",
      "Saving best model artifacts to C:\\Users\\PC\\Downloads\\Melspectrogram_finetune_NEW\\PestLarvaNet_AudioTwin_Run_4\\data_25.0percent\n"
     ]
    },
    {
     "data": {
      "application/vnd.jupyter.widget-view+json": {
       "model_id": "470b1490ef1f435b8a33c69501ac4447",
       "version_major": 2,
       "version_minor": 0
      },
      "text/plain": [
       "Epoch 67/100:   0%|          | 0/88 [00:00<?, ?it/s]"
      ]
     },
     "metadata": {},
     "output_type": "display_data"
    },
    {
     "data": {
      "application/vnd.jupyter.widget-view+json": {
       "model_id": "3d09fc9da66f416688d6d193ef09ebdc",
       "version_major": 2,
       "version_minor": 0
      },
      "text/plain": [
       "Epoch 68/100:   0%|          | 0/88 [00:00<?, ?it/s]"
      ]
     },
     "metadata": {},
     "output_type": "display_data"
    },
    {
     "data": {
      "application/vnd.jupyter.widget-view+json": {
       "model_id": "56537cea39fa4cc1afba4ed2ef55efac",
       "version_major": 2,
       "version_minor": 0
      },
      "text/plain": [
       "Epoch 69/100:   0%|          | 0/88 [00:00<?, ?it/s]"
      ]
     },
     "metadata": {},
     "output_type": "display_data"
    },
    {
     "name": "stdout",
     "output_type": "stream",
     "text": [
      "\n",
      "Epoch 69: New best F1-weighted: 0.7497\n",
      "  F1-Macro: 0.7109, AUC-Macro: 0.0000, Accuracy: 0.7530\n",
      "Saving best model artifacts to C:\\Users\\PC\\Downloads\\Melspectrogram_finetune_NEW\\PestLarvaNet_AudioTwin_Run_4\\data_25.0percent\n"
     ]
    },
    {
     "data": {
      "application/vnd.jupyter.widget-view+json": {
       "model_id": "ae513f4743c84a5aba60b9f2bb2a7cf2",
       "version_major": 2,
       "version_minor": 0
      },
      "text/plain": [
       "Epoch 70/100:   0%|          | 0/88 [00:00<?, ?it/s]"
      ]
     },
     "metadata": {},
     "output_type": "display_data"
    },
    {
     "data": {
      "application/vnd.jupyter.widget-view+json": {
       "model_id": "cf583f5eb89a44c89a84bd1a27891471",
       "version_major": 2,
       "version_minor": 0
      },
      "text/plain": [
       "Epoch 71/100:   0%|          | 0/88 [00:00<?, ?it/s]"
      ]
     },
     "metadata": {},
     "output_type": "display_data"
    },
    {
     "data": {
      "application/vnd.jupyter.widget-view+json": {
       "model_id": "ad7d275cf1354d1ab807dde4ddcc0834",
       "version_major": 2,
       "version_minor": 0
      },
      "text/plain": [
       "Epoch 72/100:   0%|          | 0/88 [00:00<?, ?it/s]"
      ]
     },
     "metadata": {},
     "output_type": "display_data"
    },
    {
     "data": {
      "application/vnd.jupyter.widget-view+json": {
       "model_id": "9ef405d6fcdb4044ae4ca023094b41a5",
       "version_major": 2,
       "version_minor": 0
      },
      "text/plain": [
       "Epoch 73/100:   0%|          | 0/88 [00:00<?, ?it/s]"
      ]
     },
     "metadata": {},
     "output_type": "display_data"
    },
    {
     "data": {
      "application/vnd.jupyter.widget-view+json": {
       "model_id": "ef9988b535d54a4fadea236c637a6acb",
       "version_major": 2,
       "version_minor": 0
      },
      "text/plain": [
       "Epoch 74/100:   0%|          | 0/88 [00:00<?, ?it/s]"
      ]
     },
     "metadata": {},
     "output_type": "display_data"
    },
    {
     "data": {
      "application/vnd.jupyter.widget-view+json": {
       "model_id": "f045c870456f40a6af15514341f047df",
       "version_major": 2,
       "version_minor": 0
      },
      "text/plain": [
       "Epoch 75/100:   0%|          | 0/88 [00:00<?, ?it/s]"
      ]
     },
     "metadata": {},
     "output_type": "display_data"
    },
    {
     "data": {
      "application/vnd.jupyter.widget-view+json": {
       "model_id": "e1ddbbeb6a66451abda4e625192875ec",
       "version_major": 2,
       "version_minor": 0
      },
      "text/plain": [
       "Epoch 76/100:   0%|          | 0/88 [00:00<?, ?it/s]"
      ]
     },
     "metadata": {},
     "output_type": "display_data"
    },
    {
     "name": "stdout",
     "output_type": "stream",
     "text": [
      "\n",
      "Epoch 76: New best F1-weighted: 0.7609\n",
      "  F1-Macro: 0.7264, AUC-Macro: 0.0000, Accuracy: 0.7630\n",
      "Saving best model artifacts to C:\\Users\\PC\\Downloads\\Melspectrogram_finetune_NEW\\PestLarvaNet_AudioTwin_Run_4\\data_25.0percent\n"
     ]
    },
    {
     "data": {
      "application/vnd.jupyter.widget-view+json": {
       "model_id": "1ad8d4dbad1241e3859a0fd6d795cba7",
       "version_major": 2,
       "version_minor": 0
      },
      "text/plain": [
       "Epoch 77/100:   0%|          | 0/88 [00:00<?, ?it/s]"
      ]
     },
     "metadata": {},
     "output_type": "display_data"
    },
    {
     "data": {
      "application/vnd.jupyter.widget-view+json": {
       "model_id": "bf0cec5aea364acd95d3b8f1359c0663",
       "version_major": 2,
       "version_minor": 0
      },
      "text/plain": [
       "Epoch 78/100:   0%|          | 0/88 [00:00<?, ?it/s]"
      ]
     },
     "metadata": {},
     "output_type": "display_data"
    },
    {
     "data": {
      "application/vnd.jupyter.widget-view+json": {
       "model_id": "bdc8167cf69c467bb2c6d23820695bef",
       "version_major": 2,
       "version_minor": 0
      },
      "text/plain": [
       "Epoch 79/100:   0%|          | 0/88 [00:00<?, ?it/s]"
      ]
     },
     "metadata": {},
     "output_type": "display_data"
    },
    {
     "name": "stdout",
     "output_type": "stream",
     "text": [
      "\n",
      "Epoch 79: New best F1-weighted: 0.7660\n",
      "  F1-Macro: 0.7314, AUC-Macro: 0.0000, Accuracy: 0.7680\n",
      "Saving best model artifacts to C:\\Users\\PC\\Downloads\\Melspectrogram_finetune_NEW\\PestLarvaNet_AudioTwin_Run_4\\data_25.0percent\n"
     ]
    },
    {
     "data": {
      "application/vnd.jupyter.widget-view+json": {
       "model_id": "1bac57b825b4431b8e054d4a840cc47e",
       "version_major": 2,
       "version_minor": 0
      },
      "text/plain": [
       "Epoch 80/100:   0%|          | 0/88 [00:00<?, ?it/s]"
      ]
     },
     "metadata": {},
     "output_type": "display_data"
    },
    {
     "data": {
      "application/vnd.jupyter.widget-view+json": {
       "model_id": "f012c7b55d7b4b1db70d221ab4615c58",
       "version_major": 2,
       "version_minor": 0
      },
      "text/plain": [
       "Epoch 81/100:   0%|          | 0/88 [00:00<?, ?it/s]"
      ]
     },
     "metadata": {},
     "output_type": "display_data"
    },
    {
     "data": {
      "application/vnd.jupyter.widget-view+json": {
       "model_id": "051b1b9c5d344d7cac00704835256e50",
       "version_major": 2,
       "version_minor": 0
      },
      "text/plain": [
       "Epoch 82/100:   0%|          | 0/88 [00:00<?, ?it/s]"
      ]
     },
     "metadata": {},
     "output_type": "display_data"
    },
    {
     "data": {
      "application/vnd.jupyter.widget-view+json": {
       "model_id": "6121a79e32a14d3ea8a24b4ce10f5ac9",
       "version_major": 2,
       "version_minor": 0
      },
      "text/plain": [
       "Epoch 83/100:   0%|          | 0/88 [00:00<?, ?it/s]"
      ]
     },
     "metadata": {},
     "output_type": "display_data"
    },
    {
     "data": {
      "application/vnd.jupyter.widget-view+json": {
       "model_id": "26003a1fb96e40a5b744329c8f16d6ee",
       "version_major": 2,
       "version_minor": 0
      },
      "text/plain": [
       "Epoch 84/100:   0%|          | 0/88 [00:00<?, ?it/s]"
      ]
     },
     "metadata": {},
     "output_type": "display_data"
    },
    {
     "data": {
      "application/vnd.jupyter.widget-view+json": {
       "model_id": "0d2b26febd8a4aa880f21603966bf5a9",
       "version_major": 2,
       "version_minor": 0
      },
      "text/plain": [
       "Epoch 85/100:   0%|          | 0/88 [00:00<?, ?it/s]"
      ]
     },
     "metadata": {},
     "output_type": "display_data"
    },
    {
     "data": {
      "application/vnd.jupyter.widget-view+json": {
       "model_id": "571570f6ba974e5d8c3572aed4de9f24",
       "version_major": 2,
       "version_minor": 0
      },
      "text/plain": [
       "Epoch 86/100:   0%|          | 0/88 [00:00<?, ?it/s]"
      ]
     },
     "metadata": {},
     "output_type": "display_data"
    },
    {
     "data": {
      "application/vnd.jupyter.widget-view+json": {
       "model_id": "cd6825ab5476470db78cc087540121c5",
       "version_major": 2,
       "version_minor": 0
      },
      "text/plain": [
       "Epoch 87/100:   0%|          | 0/88 [00:00<?, ?it/s]"
      ]
     },
     "metadata": {},
     "output_type": "display_data"
    },
    {
     "data": {
      "application/vnd.jupyter.widget-view+json": {
       "model_id": "4dc4e7ec89114469b0fe8a300ed9a12c",
       "version_major": 2,
       "version_minor": 0
      },
      "text/plain": [
       "Epoch 88/100:   0%|          | 0/88 [00:00<?, ?it/s]"
      ]
     },
     "metadata": {},
     "output_type": "display_data"
    },
    {
     "name": "stdout",
     "output_type": "stream",
     "text": [
      "\n",
      "Epoch 88: New best F1-weighted: 0.7667\n",
      "  F1-Macro: 0.7331, AUC-Macro: 0.0000, Accuracy: 0.7690\n",
      "Saving best model artifacts to C:\\Users\\PC\\Downloads\\Melspectrogram_finetune_NEW\\PestLarvaNet_AudioTwin_Run_4\\data_25.0percent\n"
     ]
    },
    {
     "data": {
      "application/vnd.jupyter.widget-view+json": {
       "model_id": "d6e232b092d14171be4fdeb5b78b7321",
       "version_major": 2,
       "version_minor": 0
      },
      "text/plain": [
       "Epoch 89/100:   0%|          | 0/88 [00:00<?, ?it/s]"
      ]
     },
     "metadata": {},
     "output_type": "display_data"
    },
    {
     "data": {
      "application/vnd.jupyter.widget-view+json": {
       "model_id": "d7ed5ca5725541a798ca86708fbee72b",
       "version_major": 2,
       "version_minor": 0
      },
      "text/plain": [
       "Epoch 90/100:   0%|          | 0/88 [00:00<?, ?it/s]"
      ]
     },
     "metadata": {},
     "output_type": "display_data"
    },
    {
     "name": "stdout",
     "output_type": "stream",
     "text": [
      "\n",
      "Epoch 90: New best F1-weighted: 0.7712\n",
      "  F1-Macro: 0.7376, AUC-Macro: 0.0000, Accuracy: 0.7715\n",
      "Saving best model artifacts to C:\\Users\\PC\\Downloads\\Melspectrogram_finetune_NEW\\PestLarvaNet_AudioTwin_Run_4\\data_25.0percent\n"
     ]
    },
    {
     "data": {
      "application/vnd.jupyter.widget-view+json": {
       "model_id": "7ebf1d4c74c0419e94a008cf2b7be2e9",
       "version_major": 2,
       "version_minor": 0
      },
      "text/plain": [
       "Epoch 91/100:   0%|          | 0/88 [00:00<?, ?it/s]"
      ]
     },
     "metadata": {},
     "output_type": "display_data"
    },
    {
     "data": {
      "application/vnd.jupyter.widget-view+json": {
       "model_id": "ada21738d7334f1baee8e06015c35bb1",
       "version_major": 2,
       "version_minor": 0
      },
      "text/plain": [
       "Epoch 92/100:   0%|          | 0/88 [00:00<?, ?it/s]"
      ]
     },
     "metadata": {},
     "output_type": "display_data"
    },
    {
     "data": {
      "application/vnd.jupyter.widget-view+json": {
       "model_id": "a26eefa5c089494b97f9bfbe0afa3713",
       "version_major": 2,
       "version_minor": 0
      },
      "text/plain": [
       "Epoch 93/100:   0%|          | 0/88 [00:00<?, ?it/s]"
      ]
     },
     "metadata": {},
     "output_type": "display_data"
    },
    {
     "name": "stdout",
     "output_type": "stream",
     "text": [
      "\n",
      "Epoch 93: New best F1-weighted: 0.7737\n",
      "  F1-Macro: 0.7408, AUC-Macro: 0.0000, Accuracy: 0.7740\n",
      "Saving best model artifacts to C:\\Users\\PC\\Downloads\\Melspectrogram_finetune_NEW\\PestLarvaNet_AudioTwin_Run_4\\data_25.0percent\n"
     ]
    },
    {
     "data": {
      "application/vnd.jupyter.widget-view+json": {
       "model_id": "bb1313e06a2140838844cc2227293564",
       "version_major": 2,
       "version_minor": 0
      },
      "text/plain": [
       "Epoch 94/100:   0%|          | 0/88 [00:00<?, ?it/s]"
      ]
     },
     "metadata": {},
     "output_type": "display_data"
    },
    {
     "data": {
      "application/vnd.jupyter.widget-view+json": {
       "model_id": "bc52bac933154f7c93f4ee6f58d305c1",
       "version_major": 2,
       "version_minor": 0
      },
      "text/plain": [
       "Epoch 95/100:   0%|          | 0/88 [00:00<?, ?it/s]"
      ]
     },
     "metadata": {},
     "output_type": "display_data"
    },
    {
     "data": {
      "application/vnd.jupyter.widget-view+json": {
       "model_id": "de5e8cf571624b8b8e69b0b335d22851",
       "version_major": 2,
       "version_minor": 0
      },
      "text/plain": [
       "Epoch 96/100:   0%|          | 0/88 [00:00<?, ?it/s]"
      ]
     },
     "metadata": {},
     "output_type": "display_data"
    },
    {
     "data": {
      "application/vnd.jupyter.widget-view+json": {
       "model_id": "b143f0a0ef3b47be9bb4a24637b3fd06",
       "version_major": 2,
       "version_minor": 0
      },
      "text/plain": [
       "Epoch 97/100:   0%|          | 0/88 [00:00<?, ?it/s]"
      ]
     },
     "metadata": {},
     "output_type": "display_data"
    },
    {
     "data": {
      "application/vnd.jupyter.widget-view+json": {
       "model_id": "f85c776c2c714fe5996c6625918c4fb5",
       "version_major": 2,
       "version_minor": 0
      },
      "text/plain": [
       "Epoch 98/100:   0%|          | 0/88 [00:00<?, ?it/s]"
      ]
     },
     "metadata": {},
     "output_type": "display_data"
    },
    {
     "data": {
      "application/vnd.jupyter.widget-view+json": {
       "model_id": "0d7e4c385f5d48a4b9654bd9de110c6d",
       "version_major": 2,
       "version_minor": 0
      },
      "text/plain": [
       "Epoch 99/100:   0%|          | 0/88 [00:00<?, ?it/s]"
      ]
     },
     "metadata": {},
     "output_type": "display_data"
    },
    {
     "data": {
      "application/vnd.jupyter.widget-view+json": {
       "model_id": "0fb7195be8d247de89c7f5081dead0cc",
       "version_major": 2,
       "version_minor": 0
      },
      "text/plain": [
       "Epoch 100/100:   0%|          | 0/88 [00:00<?, ?it/s]"
      ]
     },
     "metadata": {},
     "output_type": "display_data"
    },
    {
     "name": "stdout",
     "output_type": "stream",
     "text": [
      "\n",
      "Epoch 100: New best F1-weighted: 0.7745\n",
      "  F1-Macro: 0.7400, AUC-Macro: 0.0000, Accuracy: 0.7754\n",
      "Saving best model artifacts to C:\\Users\\PC\\Downloads\\Melspectrogram_finetune_NEW\\PestLarvaNet_AudioTwin_Run_4\\data_25.0percent\n",
      "Finished Training for this run. Best F1-weighted: 0.7745\n",
      "==> Results with 25.0% data: Best F1-Weighted = 0.7745\n",
      "--- Training with 50.0% of labeled data ---\n",
      "Loading pretrained weights from: C:\\Users\\PC\\PestLarvaNet\\SSL\\audiotwin_checkpoints_medium\\Final checkpoint\\run_4_lp5e-03_ep1e-06_lb0.007_audiotwin_pestlarvanet_medium_epoch_100.pth\n"
     ]
    },
    {
     "name": "stderr",
     "output_type": "stream",
     "text": [
      "C:\\Users\\PC\\anaconda3\\envs\\FallDeteNet\\lib\\site-packages\\torch\\optim\\lr_scheduler.py:62: UserWarning: The verbose parameter is deprecated. Please use get_last_lr() to access the learning rate.\n",
      "  warnings.warn(\n"
     ]
    },
    {
     "data": {
      "application/vnd.jupyter.widget-view+json": {
       "model_id": "87f7b5bb55a648f4b9e26bff4a3e4cde",
       "version_major": 2,
       "version_minor": 0
      },
      "text/plain": [
       "Epoch 1/100:   0%|          | 0/176 [00:00<?, ?it/s]"
      ]
     },
     "metadata": {},
     "output_type": "display_data"
    },
    {
     "name": "stdout",
     "output_type": "stream",
     "text": [
      "\n",
      "Epoch 1: New best F1-weighted: 0.4657\n",
      "  F1-Macro: 0.3927, AUC-Macro: 0.0000, Accuracy: 0.5221\n",
      "Saving best model artifacts to C:\\Users\\PC\\Downloads\\Melspectrogram_finetune_NEW\\PestLarvaNet_AudioTwin_Run_4\\data_50.0percent\n"
     ]
    },
    {
     "data": {
      "application/vnd.jupyter.widget-view+json": {
       "model_id": "012251d002f64a95897f888a8ed72faf",
       "version_major": 2,
       "version_minor": 0
      },
      "text/plain": [
       "Epoch 2/100:   0%|          | 0/176 [00:00<?, ?it/s]"
      ]
     },
     "metadata": {},
     "output_type": "display_data"
    },
    {
     "name": "stdout",
     "output_type": "stream",
     "text": [
      "\n",
      "Epoch 2: New best F1-weighted: 0.5099\n",
      "  F1-Macro: 0.4325, AUC-Macro: 0.0000, Accuracy: 0.5480\n",
      "Saving best model artifacts to C:\\Users\\PC\\Downloads\\Melspectrogram_finetune_NEW\\PestLarvaNet_AudioTwin_Run_4\\data_50.0percent\n"
     ]
    },
    {
     "data": {
      "application/vnd.jupyter.widget-view+json": {
       "model_id": "368e43177b1243bab67cfba45813105c",
       "version_major": 2,
       "version_minor": 0
      },
      "text/plain": [
       "Epoch 3/100:   0%|          | 0/176 [00:00<?, ?it/s]"
      ]
     },
     "metadata": {},
     "output_type": "display_data"
    },
    {
     "name": "stdout",
     "output_type": "stream",
     "text": [
      "\n",
      "Epoch 3: New best F1-weighted: 0.5218\n",
      "  F1-Macro: 0.4550, AUC-Macro: 0.0000, Accuracy: 0.5865\n",
      "Saving best model artifacts to C:\\Users\\PC\\Downloads\\Melspectrogram_finetune_NEW\\PestLarvaNet_AudioTwin_Run_4\\data_50.0percent\n"
     ]
    },
    {
     "data": {
      "application/vnd.jupyter.widget-view+json": {
       "model_id": "c8cffdcd19884eb8b84e29a214133fee",
       "version_major": 2,
       "version_minor": 0
      },
      "text/plain": [
       "Epoch 4/100:   0%|          | 0/176 [00:00<?, ?it/s]"
      ]
     },
     "metadata": {},
     "output_type": "display_data"
    },
    {
     "name": "stdout",
     "output_type": "stream",
     "text": [
      "\n",
      "Epoch 4: New best F1-weighted: 0.5395\n",
      "  F1-Macro: 0.4716, AUC-Macro: 0.0000, Accuracy: 0.5932\n",
      "Saving best model artifacts to C:\\Users\\PC\\Downloads\\Melspectrogram_finetune_NEW\\PestLarvaNet_AudioTwin_Run_4\\data_50.0percent\n"
     ]
    },
    {
     "data": {
      "application/vnd.jupyter.widget-view+json": {
       "model_id": "19a3d0dfebdd4471a37d5954d94d8a05",
       "version_major": 2,
       "version_minor": 0
      },
      "text/plain": [
       "Epoch 5/100:   0%|          | 0/176 [00:00<?, ?it/s]"
      ]
     },
     "metadata": {},
     "output_type": "display_data"
    },
    {
     "data": {
      "application/vnd.jupyter.widget-view+json": {
       "model_id": "6d3ee5fd00d54648a0c3b2662e3b3580",
       "version_major": 2,
       "version_minor": 0
      },
      "text/plain": [
       "Epoch 6/100:   0%|          | 0/176 [00:00<?, ?it/s]"
      ]
     },
     "metadata": {},
     "output_type": "display_data"
    },
    {
     "data": {
      "application/vnd.jupyter.widget-view+json": {
       "model_id": "ca7925d214554adfbb3146f166106431",
       "version_major": 2,
       "version_minor": 0
      },
      "text/plain": [
       "Epoch 7/100:   0%|          | 0/176 [00:00<?, ?it/s]"
      ]
     },
     "metadata": {},
     "output_type": "display_data"
    },
    {
     "name": "stdout",
     "output_type": "stream",
     "text": [
      "\n",
      "Epoch 7: New best F1-weighted: 0.5678\n",
      "  F1-Macro: 0.4982, AUC-Macro: 0.0000, Accuracy: 0.6181\n",
      "Saving best model artifacts to C:\\Users\\PC\\Downloads\\Melspectrogram_finetune_NEW\\PestLarvaNet_AudioTwin_Run_4\\data_50.0percent\n"
     ]
    },
    {
     "data": {
      "application/vnd.jupyter.widget-view+json": {
       "model_id": "97b34168db334a14b70ea106facc2779",
       "version_major": 2,
       "version_minor": 0
      },
      "text/plain": [
       "Epoch 8/100:   0%|          | 0/176 [00:00<?, ?it/s]"
      ]
     },
     "metadata": {},
     "output_type": "display_data"
    },
    {
     "data": {
      "application/vnd.jupyter.widget-view+json": {
       "model_id": "2756a28a63144aa69d9f38f930f07f7f",
       "version_major": 2,
       "version_minor": 0
      },
      "text/plain": [
       "Epoch 9/100:   0%|          | 0/176 [00:00<?, ?it/s]"
      ]
     },
     "metadata": {},
     "output_type": "display_data"
    },
    {
     "name": "stdout",
     "output_type": "stream",
     "text": [
      "\n",
      "Epoch 9: New best F1-weighted: 0.5927\n",
      "  F1-Macro: 0.5211, AUC-Macro: 0.0000, Accuracy: 0.6288\n",
      "Saving best model artifacts to C:\\Users\\PC\\Downloads\\Melspectrogram_finetune_NEW\\PestLarvaNet_AudioTwin_Run_4\\data_50.0percent\n"
     ]
    },
    {
     "data": {
      "application/vnd.jupyter.widget-view+json": {
       "model_id": "35bc3f8cf961407691965f7416de25c5",
       "version_major": 2,
       "version_minor": 0
      },
      "text/plain": [
       "Epoch 10/100:   0%|          | 0/176 [00:00<?, ?it/s]"
      ]
     },
     "metadata": {},
     "output_type": "display_data"
    },
    {
     "data": {
      "application/vnd.jupyter.widget-view+json": {
       "model_id": "9c72293532174cf6b90637349a97c569",
       "version_major": 2,
       "version_minor": 0
      },
      "text/plain": [
       "Epoch 11/100:   0%|          | 0/176 [00:00<?, ?it/s]"
      ]
     },
     "metadata": {},
     "output_type": "display_data"
    },
    {
     "data": {
      "application/vnd.jupyter.widget-view+json": {
       "model_id": "3d8e170ae03e4e3ab1e6bd6aaacbeef4",
       "version_major": 2,
       "version_minor": 0
      },
      "text/plain": [
       "Epoch 12/100:   0%|          | 0/176 [00:00<?, ?it/s]"
      ]
     },
     "metadata": {},
     "output_type": "display_data"
    },
    {
     "name": "stdout",
     "output_type": "stream",
     "text": [
      "\n",
      "Epoch 12: New best F1-weighted: 0.6255\n",
      "  F1-Macro: 0.5648, AUC-Macro: 0.0000, Accuracy: 0.6480\n",
      "Saving best model artifacts to C:\\Users\\PC\\Downloads\\Melspectrogram_finetune_NEW\\PestLarvaNet_AudioTwin_Run_4\\data_50.0percent\n"
     ]
    },
    {
     "data": {
      "application/vnd.jupyter.widget-view+json": {
       "model_id": "b8ffd8ec173843708688a44afa39faf3",
       "version_major": 2,
       "version_minor": 0
      },
      "text/plain": [
       "Epoch 13/100:   0%|          | 0/176 [00:00<?, ?it/s]"
      ]
     },
     "metadata": {},
     "output_type": "display_data"
    },
    {
     "data": {
      "application/vnd.jupyter.widget-view+json": {
       "model_id": "ea9ce197730e4413bd64fab03d598d70",
       "version_major": 2,
       "version_minor": 0
      },
      "text/plain": [
       "Epoch 14/100:   0%|          | 0/176 [00:00<?, ?it/s]"
      ]
     },
     "metadata": {},
     "output_type": "display_data"
    },
    {
     "data": {
      "application/vnd.jupyter.widget-view+json": {
       "model_id": "d7fca3121c454db183531dddd83fa1cf",
       "version_major": 2,
       "version_minor": 0
      },
      "text/plain": [
       "Epoch 15/100:   0%|          | 0/176 [00:00<?, ?it/s]"
      ]
     },
     "metadata": {},
     "output_type": "display_data"
    },
    {
     "data": {
      "application/vnd.jupyter.widget-view+json": {
       "model_id": "bbd27ce25dc440b7bd3558f39cdacb72",
       "version_major": 2,
       "version_minor": 0
      },
      "text/plain": [
       "Epoch 16/100:   0%|          | 0/176 [00:00<?, ?it/s]"
      ]
     },
     "metadata": {},
     "output_type": "display_data"
    },
    {
     "name": "stdout",
     "output_type": "stream",
     "text": [
      "\n",
      "Epoch 16: New best F1-weighted: 0.6501\n",
      "  F1-Macro: 0.5869, AUC-Macro: 0.0000, Accuracy: 0.6762\n",
      "Saving best model artifacts to C:\\Users\\PC\\Downloads\\Melspectrogram_finetune_NEW\\PestLarvaNet_AudioTwin_Run_4\\data_50.0percent\n"
     ]
    },
    {
     "data": {
      "application/vnd.jupyter.widget-view+json": {
       "model_id": "aaec6d67c4e94f82ba894099fba4e2d8",
       "version_major": 2,
       "version_minor": 0
      },
      "text/plain": [
       "Epoch 17/100:   0%|          | 0/176 [00:00<?, ?it/s]"
      ]
     },
     "metadata": {},
     "output_type": "display_data"
    },
    {
     "data": {
      "application/vnd.jupyter.widget-view+json": {
       "model_id": "76058702989b410b81a3d981f9f95c5d",
       "version_major": 2,
       "version_minor": 0
      },
      "text/plain": [
       "Epoch 18/100:   0%|          | 0/176 [00:00<?, ?it/s]"
      ]
     },
     "metadata": {},
     "output_type": "display_data"
    },
    {
     "name": "stdout",
     "output_type": "stream",
     "text": [
      "\n",
      "Epoch 18: New best F1-weighted: 0.6561\n",
      "  F1-Macro: 0.5997, AUC-Macro: 0.0000, Accuracy: 0.6790\n",
      "Saving best model artifacts to C:\\Users\\PC\\Downloads\\Melspectrogram_finetune_NEW\\PestLarvaNet_AudioTwin_Run_4\\data_50.0percent\n"
     ]
    },
    {
     "data": {
      "application/vnd.jupyter.widget-view+json": {
       "model_id": "0cb8ef42a4474323bf7bf01a56754e0a",
       "version_major": 2,
       "version_minor": 0
      },
      "text/plain": [
       "Epoch 19/100:   0%|          | 0/176 [00:00<?, ?it/s]"
      ]
     },
     "metadata": {},
     "output_type": "display_data"
    },
    {
     "name": "stdout",
     "output_type": "stream",
     "text": [
      "\n",
      "Epoch 19: New best F1-weighted: 0.6678\n",
      "  F1-Macro: 0.6137, AUC-Macro: 0.0000, Accuracy: 0.6801\n",
      "Saving best model artifacts to C:\\Users\\PC\\Downloads\\Melspectrogram_finetune_NEW\\PestLarvaNet_AudioTwin_Run_4\\data_50.0percent\n"
     ]
    },
    {
     "data": {
      "application/vnd.jupyter.widget-view+json": {
       "model_id": "d6ec9ced675743d99176aeab96a94760",
       "version_major": 2,
       "version_minor": 0
      },
      "text/plain": [
       "Epoch 20/100:   0%|          | 0/176 [00:00<?, ?it/s]"
      ]
     },
     "metadata": {},
     "output_type": "display_data"
    },
    {
     "data": {
      "application/vnd.jupyter.widget-view+json": {
       "model_id": "821a0edcb3234e2390e52b57ec103454",
       "version_major": 2,
       "version_minor": 0
      },
      "text/plain": [
       "Epoch 21/100:   0%|          | 0/176 [00:00<?, ?it/s]"
      ]
     },
     "metadata": {},
     "output_type": "display_data"
    },
    {
     "data": {
      "application/vnd.jupyter.widget-view+json": {
       "model_id": "8afc7829e2ed4d15b2ec6c62b66ba8fc",
       "version_major": 2,
       "version_minor": 0
      },
      "text/plain": [
       "Epoch 22/100:   0%|          | 0/176 [00:00<?, ?it/s]"
      ]
     },
     "metadata": {},
     "output_type": "display_data"
    },
    {
     "data": {
      "application/vnd.jupyter.widget-view+json": {
       "model_id": "75be5d9654674b288b6bde0ca172a197",
       "version_major": 2,
       "version_minor": 0
      },
      "text/plain": [
       "Epoch 23/100:   0%|          | 0/176 [00:00<?, ?it/s]"
      ]
     },
     "metadata": {},
     "output_type": "display_data"
    },
    {
     "name": "stdout",
     "output_type": "stream",
     "text": [
      "\n",
      "Epoch 23: New best F1-weighted: 0.6828\n",
      "  F1-Macro: 0.6292, AUC-Macro: 0.0000, Accuracy: 0.7036\n",
      "Saving best model artifacts to C:\\Users\\PC\\Downloads\\Melspectrogram_finetune_NEW\\PestLarvaNet_AudioTwin_Run_4\\data_50.0percent\n"
     ]
    },
    {
     "data": {
      "application/vnd.jupyter.widget-view+json": {
       "model_id": "b917f86b4f2545e1a63a9f3aaa8c896a",
       "version_major": 2,
       "version_minor": 0
      },
      "text/plain": [
       "Epoch 24/100:   0%|          | 0/176 [00:00<?, ?it/s]"
      ]
     },
     "metadata": {},
     "output_type": "display_data"
    },
    {
     "name": "stdout",
     "output_type": "stream",
     "text": [
      "\n",
      "Epoch 24: New best F1-weighted: 0.6926\n",
      "  F1-Macro: 0.6345, AUC-Macro: 0.0000, Accuracy: 0.7117\n",
      "Saving best model artifacts to C:\\Users\\PC\\Downloads\\Melspectrogram_finetune_NEW\\PestLarvaNet_AudioTwin_Run_4\\data_50.0percent\n"
     ]
    },
    {
     "data": {
      "application/vnd.jupyter.widget-view+json": {
       "model_id": "214eb16183e64cdeb71b77249ccac7fc",
       "version_major": 2,
       "version_minor": 0
      },
      "text/plain": [
       "Epoch 25/100:   0%|          | 0/176 [00:00<?, ?it/s]"
      ]
     },
     "metadata": {},
     "output_type": "display_data"
    },
    {
     "data": {
      "application/vnd.jupyter.widget-view+json": {
       "model_id": "2e8652951cfa4505af408f575f9654c9",
       "version_major": 2,
       "version_minor": 0
      },
      "text/plain": [
       "Epoch 26/100:   0%|          | 0/176 [00:00<?, ?it/s]"
      ]
     },
     "metadata": {},
     "output_type": "display_data"
    },
    {
     "data": {
      "application/vnd.jupyter.widget-view+json": {
       "model_id": "89e83bb2a1b44ad9af635b0c180ab237",
       "version_major": 2,
       "version_minor": 0
      },
      "text/plain": [
       "Epoch 27/100:   0%|          | 0/176 [00:00<?, ?it/s]"
      ]
     },
     "metadata": {},
     "output_type": "display_data"
    },
    {
     "data": {
      "application/vnd.jupyter.widget-view+json": {
       "model_id": "728ffc46146a4dad82c08f6f05096bc6",
       "version_major": 2,
       "version_minor": 0
      },
      "text/plain": [
       "Epoch 28/100:   0%|          | 0/176 [00:00<?, ?it/s]"
      ]
     },
     "metadata": {},
     "output_type": "display_data"
    },
    {
     "data": {
      "application/vnd.jupyter.widget-view+json": {
       "model_id": "cbfdea7716f541c8a5dbb699cf09865a",
       "version_major": 2,
       "version_minor": 0
      },
      "text/plain": [
       "Epoch 29/100:   0%|          | 0/176 [00:00<?, ?it/s]"
      ]
     },
     "metadata": {},
     "output_type": "display_data"
    },
    {
     "data": {
      "application/vnd.jupyter.widget-view+json": {
       "model_id": "d4974e92515a43b8941fa2e55ffa09b6",
       "version_major": 2,
       "version_minor": 0
      },
      "text/plain": [
       "Epoch 30/100:   0%|          | 0/176 [00:00<?, ?it/s]"
      ]
     },
     "metadata": {},
     "output_type": "display_data"
    },
    {
     "name": "stdout",
     "output_type": "stream",
     "text": [
      "\n",
      "Epoch 30: New best F1-weighted: 0.7058\n",
      "  F1-Macro: 0.6605, AUC-Macro: 0.0000, Accuracy: 0.7181\n",
      "Saving best model artifacts to C:\\Users\\PC\\Downloads\\Melspectrogram_finetune_NEW\\PestLarvaNet_AudioTwin_Run_4\\data_50.0percent\n"
     ]
    },
    {
     "data": {
      "application/vnd.jupyter.widget-view+json": {
       "model_id": "96d90e80952846f18eb3bd362f6b9b63",
       "version_major": 2,
       "version_minor": 0
      },
      "text/plain": [
       "Epoch 31/100:   0%|          | 0/176 [00:00<?, ?it/s]"
      ]
     },
     "metadata": {},
     "output_type": "display_data"
    },
    {
     "name": "stdout",
     "output_type": "stream",
     "text": [
      "\n",
      "Epoch 31: New best F1-weighted: 0.7224\n",
      "  F1-Macro: 0.6771, AUC-Macro: 0.0000, Accuracy: 0.7256\n",
      "Saving best model artifacts to C:\\Users\\PC\\Downloads\\Melspectrogram_finetune_NEW\\PestLarvaNet_AudioTwin_Run_4\\data_50.0percent\n"
     ]
    },
    {
     "data": {
      "application/vnd.jupyter.widget-view+json": {
       "model_id": "3b46e57be2ee4902a6e9197581d98bc0",
       "version_major": 2,
       "version_minor": 0
      },
      "text/plain": [
       "Epoch 32/100:   0%|          | 0/176 [00:00<?, ?it/s]"
      ]
     },
     "metadata": {},
     "output_type": "display_data"
    },
    {
     "data": {
      "application/vnd.jupyter.widget-view+json": {
       "model_id": "8becc603dd484b9782cfba52bdbd8bcc",
       "version_major": 2,
       "version_minor": 0
      },
      "text/plain": [
       "Epoch 33/100:   0%|          | 0/176 [00:00<?, ?it/s]"
      ]
     },
     "metadata": {},
     "output_type": "display_data"
    },
    {
     "data": {
      "application/vnd.jupyter.widget-view+json": {
       "model_id": "3654637d17f54606ad1aec7767467daa",
       "version_major": 2,
       "version_minor": 0
      },
      "text/plain": [
       "Epoch 34/100:   0%|          | 0/176 [00:00<?, ?it/s]"
      ]
     },
     "metadata": {},
     "output_type": "display_data"
    },
    {
     "data": {
      "application/vnd.jupyter.widget-view+json": {
       "model_id": "8bb03f2721de4d1487f5679278434cbf",
       "version_major": 2,
       "version_minor": 0
      },
      "text/plain": [
       "Epoch 35/100:   0%|          | 0/176 [00:00<?, ?it/s]"
      ]
     },
     "metadata": {},
     "output_type": "display_data"
    },
    {
     "data": {
      "application/vnd.jupyter.widget-view+json": {
       "model_id": "4a444f370d52438f9fc25236da964d63",
       "version_major": 2,
       "version_minor": 0
      },
      "text/plain": [
       "Epoch 36/100:   0%|          | 0/176 [00:00<?, ?it/s]"
      ]
     },
     "metadata": {},
     "output_type": "display_data"
    },
    {
     "name": "stdout",
     "output_type": "stream",
     "text": [
      "\n",
      "Epoch 36: New best F1-weighted: 0.7397\n",
      "  F1-Macro: 0.7003, AUC-Macro: 0.0000, Accuracy: 0.7427\n",
      "Saving best model artifacts to C:\\Users\\PC\\Downloads\\Melspectrogram_finetune_NEW\\PestLarvaNet_AudioTwin_Run_4\\data_50.0percent\n"
     ]
    },
    {
     "data": {
      "application/vnd.jupyter.widget-view+json": {
       "model_id": "e584314943914d08bffdd9b243838ee7",
       "version_major": 2,
       "version_minor": 0
      },
      "text/plain": [
       "Epoch 37/100:   0%|          | 0/176 [00:00<?, ?it/s]"
      ]
     },
     "metadata": {},
     "output_type": "display_data"
    },
    {
     "data": {
      "application/vnd.jupyter.widget-view+json": {
       "model_id": "298638b252e34bc3b477a9d90b532e2f",
       "version_major": 2,
       "version_minor": 0
      },
      "text/plain": [
       "Epoch 38/100:   0%|          | 0/176 [00:00<?, ?it/s]"
      ]
     },
     "metadata": {},
     "output_type": "display_data"
    },
    {
     "data": {
      "application/vnd.jupyter.widget-view+json": {
       "model_id": "b332144279944315a38fdce5d602ed9a",
       "version_major": 2,
       "version_minor": 0
      },
      "text/plain": [
       "Epoch 39/100:   0%|          | 0/176 [00:00<?, ?it/s]"
      ]
     },
     "metadata": {},
     "output_type": "display_data"
    },
    {
     "data": {
      "application/vnd.jupyter.widget-view+json": {
       "model_id": "b56f61c09f954d7f9d4314a0514b5f62",
       "version_major": 2,
       "version_minor": 0
      },
      "text/plain": [
       "Epoch 40/100:   0%|          | 0/176 [00:00<?, ?it/s]"
      ]
     },
     "metadata": {},
     "output_type": "display_data"
    },
    {
     "name": "stdout",
     "output_type": "stream",
     "text": [
      "\n",
      "Epoch 40: New best F1-weighted: 0.7401\n",
      "  F1-Macro: 0.7018, AUC-Macro: 0.0000, Accuracy: 0.7434\n",
      "Saving best model artifacts to C:\\Users\\PC\\Downloads\\Melspectrogram_finetune_NEW\\PestLarvaNet_AudioTwin_Run_4\\data_50.0percent\n"
     ]
    },
    {
     "data": {
      "application/vnd.jupyter.widget-view+json": {
       "model_id": "cdc68523cdbf4727b5ccd4644bf1cc57",
       "version_major": 2,
       "version_minor": 0
      },
      "text/plain": [
       "Epoch 41/100:   0%|          | 0/176 [00:00<?, ?it/s]"
      ]
     },
     "metadata": {},
     "output_type": "display_data"
    },
    {
     "data": {
      "application/vnd.jupyter.widget-view+json": {
       "model_id": "eff4ac482f6f4f989f52244cb61dfe44",
       "version_major": 2,
       "version_minor": 0
      },
      "text/plain": [
       "Epoch 42/100:   0%|          | 0/176 [00:00<?, ?it/s]"
      ]
     },
     "metadata": {},
     "output_type": "display_data"
    },
    {
     "data": {
      "application/vnd.jupyter.widget-view+json": {
       "model_id": "5ad8111d97ad45e19510f68ada6985fd",
       "version_major": 2,
       "version_minor": 0
      },
      "text/plain": [
       "Epoch 43/100:   0%|          | 0/176 [00:00<?, ?it/s]"
      ]
     },
     "metadata": {},
     "output_type": "display_data"
    },
    {
     "data": {
      "application/vnd.jupyter.widget-view+json": {
       "model_id": "c47f32014342463cabb7854f5308c19b",
       "version_major": 2,
       "version_minor": 0
      },
      "text/plain": [
       "Epoch 44/100:   0%|          | 0/176 [00:00<?, ?it/s]"
      ]
     },
     "metadata": {},
     "output_type": "display_data"
    },
    {
     "data": {
      "application/vnd.jupyter.widget-view+json": {
       "model_id": "a729cc6a76b344c2ab208f2c09f7f632",
       "version_major": 2,
       "version_minor": 0
      },
      "text/plain": [
       "Epoch 45/100:   0%|          | 0/176 [00:00<?, ?it/s]"
      ]
     },
     "metadata": {},
     "output_type": "display_data"
    },
    {
     "data": {
      "application/vnd.jupyter.widget-view+json": {
       "model_id": "e5e27348aba947e6ba6b5959514f4d8f",
       "version_major": 2,
       "version_minor": 0
      },
      "text/plain": [
       "Epoch 46/100:   0%|          | 0/176 [00:00<?, ?it/s]"
      ]
     },
     "metadata": {},
     "output_type": "display_data"
    },
    {
     "name": "stdout",
     "output_type": "stream",
     "text": [
      "\n",
      "Epoch 46: New best F1-weighted: 0.7479\n",
      "  F1-Macro: 0.7096, AUC-Macro: 0.0000, Accuracy: 0.7541\n",
      "Saving best model artifacts to C:\\Users\\PC\\Downloads\\Melspectrogram_finetune_NEW\\PestLarvaNet_AudioTwin_Run_4\\data_50.0percent\n"
     ]
    },
    {
     "data": {
      "application/vnd.jupyter.widget-view+json": {
       "model_id": "c59700b5b33f44ffbeb065d283b4ceb3",
       "version_major": 2,
       "version_minor": 0
      },
      "text/plain": [
       "Epoch 47/100:   0%|          | 0/176 [00:00<?, ?it/s]"
      ]
     },
     "metadata": {},
     "output_type": "display_data"
    },
    {
     "data": {
      "application/vnd.jupyter.widget-view+json": {
       "model_id": "f1834040f6344defb34140a19e91d8a2",
       "version_major": 2,
       "version_minor": 0
      },
      "text/plain": [
       "Epoch 48/100:   0%|          | 0/176 [00:00<?, ?it/s]"
      ]
     },
     "metadata": {},
     "output_type": "display_data"
    },
    {
     "name": "stdout",
     "output_type": "stream",
     "text": [
      "\n",
      "Epoch 48: New best F1-weighted: 0.7722\n",
      "  F1-Macro: 0.7421, AUC-Macro: 0.0000, Accuracy: 0.7726\n",
      "Saving best model artifacts to C:\\Users\\PC\\Downloads\\Melspectrogram_finetune_NEW\\PestLarvaNet_AudioTwin_Run_4\\data_50.0percent\n"
     ]
    },
    {
     "data": {
      "application/vnd.jupyter.widget-view+json": {
       "model_id": "5dbbe3318d624bdb809fcede8308faec",
       "version_major": 2,
       "version_minor": 0
      },
      "text/plain": [
       "Epoch 49/100:   0%|          | 0/176 [00:00<?, ?it/s]"
      ]
     },
     "metadata": {},
     "output_type": "display_data"
    },
    {
     "data": {
      "application/vnd.jupyter.widget-view+json": {
       "model_id": "51ea7e78c2194d41a40b3d8f05711f0d",
       "version_major": 2,
       "version_minor": 0
      },
      "text/plain": [
       "Epoch 50/100:   0%|          | 0/176 [00:00<?, ?it/s]"
      ]
     },
     "metadata": {},
     "output_type": "display_data"
    },
    {
     "data": {
      "application/vnd.jupyter.widget-view+json": {
       "model_id": "107391819a914bf1a6ff1e42dd5738c6",
       "version_major": 2,
       "version_minor": 0
      },
      "text/plain": [
       "Epoch 51/100:   0%|          | 0/176 [00:00<?, ?it/s]"
      ]
     },
     "metadata": {},
     "output_type": "display_data"
    },
    {
     "data": {
      "application/vnd.jupyter.widget-view+json": {
       "model_id": "d6888ac3a1f94fff9340a7cba044c697",
       "version_major": 2,
       "version_minor": 0
      },
      "text/plain": [
       "Epoch 52/100:   0%|          | 0/176 [00:00<?, ?it/s]"
      ]
     },
     "metadata": {},
     "output_type": "display_data"
    },
    {
     "data": {
      "application/vnd.jupyter.widget-view+json": {
       "model_id": "4a99cf76938b4cf7a3a556fe21bd4b2d",
       "version_major": 2,
       "version_minor": 0
      },
      "text/plain": [
       "Epoch 53/100:   0%|          | 0/176 [00:00<?, ?it/s]"
      ]
     },
     "metadata": {},
     "output_type": "display_data"
    },
    {
     "data": {
      "application/vnd.jupyter.widget-view+json": {
       "model_id": "ab38ba3ea09649d4a2a77f1ee1ceeb92",
       "version_major": 2,
       "version_minor": 0
      },
      "text/plain": [
       "Epoch 54/100:   0%|          | 0/176 [00:00<?, ?it/s]"
      ]
     },
     "metadata": {},
     "output_type": "display_data"
    },
    {
     "data": {
      "application/vnd.jupyter.widget-view+json": {
       "model_id": "9546647905f945b1a3c6eb4f1e7d9a93",
       "version_major": 2,
       "version_minor": 0
      },
      "text/plain": [
       "Epoch 55/100:   0%|          | 0/176 [00:00<?, ?it/s]"
      ]
     },
     "metadata": {},
     "output_type": "display_data"
    },
    {
     "name": "stdout",
     "output_type": "stream",
     "text": [
      "\n",
      "Epoch 55: New best F1-weighted: 0.7879\n",
      "  F1-Macro: 0.7598, AUC-Macro: 0.0000, Accuracy: 0.7897\n",
      "Saving best model artifacts to C:\\Users\\PC\\Downloads\\Melspectrogram_finetune_NEW\\PestLarvaNet_AudioTwin_Run_4\\data_50.0percent\n"
     ]
    },
    {
     "data": {
      "application/vnd.jupyter.widget-view+json": {
       "model_id": "ab8862e83c254ad187286c29494f5ed0",
       "version_major": 2,
       "version_minor": 0
      },
      "text/plain": [
       "Epoch 56/100:   0%|          | 0/176 [00:00<?, ?it/s]"
      ]
     },
     "metadata": {},
     "output_type": "display_data"
    },
    {
     "name": "stdout",
     "output_type": "stream",
     "text": [
      "\n",
      "Epoch 56: New best F1-weighted: 0.7987\n",
      "  F1-Macro: 0.7711, AUC-Macro: 0.0000, Accuracy: 0.8007\n",
      "Saving best model artifacts to C:\\Users\\PC\\Downloads\\Melspectrogram_finetune_NEW\\PestLarvaNet_AudioTwin_Run_4\\data_50.0percent\n"
     ]
    },
    {
     "data": {
      "application/vnd.jupyter.widget-view+json": {
       "model_id": "58003cd4199048498d659b9fb6aaade4",
       "version_major": 2,
       "version_minor": 0
      },
      "text/plain": [
       "Epoch 57/100:   0%|          | 0/176 [00:00<?, ?it/s]"
      ]
     },
     "metadata": {},
     "output_type": "display_data"
    },
    {
     "name": "stdout",
     "output_type": "stream",
     "text": [
      "\n",
      "Epoch 57: New best F1-weighted: 0.7988\n",
      "  F1-Macro: 0.7715, AUC-Macro: 0.0000, Accuracy: 0.7989\n",
      "Saving best model artifacts to C:\\Users\\PC\\Downloads\\Melspectrogram_finetune_NEW\\PestLarvaNet_AudioTwin_Run_4\\data_50.0percent\n"
     ]
    },
    {
     "data": {
      "application/vnd.jupyter.widget-view+json": {
       "model_id": "6fd3821683d246b0890da0664c873342",
       "version_major": 2,
       "version_minor": 0
      },
      "text/plain": [
       "Epoch 58/100:   0%|          | 0/176 [00:00<?, ?it/s]"
      ]
     },
     "metadata": {},
     "output_type": "display_data"
    },
    {
     "data": {
      "application/vnd.jupyter.widget-view+json": {
       "model_id": "9f11f2f456d440d0a472ae94d406ac16",
       "version_major": 2,
       "version_minor": 0
      },
      "text/plain": [
       "Epoch 59/100:   0%|          | 0/176 [00:00<?, ?it/s]"
      ]
     },
     "metadata": {},
     "output_type": "display_data"
    },
    {
     "data": {
      "application/vnd.jupyter.widget-view+json": {
       "model_id": "5ed1fefd4aaf449b8194a6b26e14f1ad",
       "version_major": 2,
       "version_minor": 0
      },
      "text/plain": [
       "Epoch 60/100:   0%|          | 0/176 [00:00<?, ?it/s]"
      ]
     },
     "metadata": {},
     "output_type": "display_data"
    },
    {
     "data": {
      "application/vnd.jupyter.widget-view+json": {
       "model_id": "4522c92dd7f94d238714697b17604090",
       "version_major": 2,
       "version_minor": 0
      },
      "text/plain": [
       "Epoch 61/100:   0%|          | 0/176 [00:00<?, ?it/s]"
      ]
     },
     "metadata": {},
     "output_type": "display_data"
    },
    {
     "name": "stdout",
     "output_type": "stream",
     "text": [
      "\n",
      "Epoch 61: New best F1-weighted: 0.8010\n",
      "  F1-Macro: 0.7755, AUC-Macro: 0.0000, Accuracy: 0.8021\n",
      "Saving best model artifacts to C:\\Users\\PC\\Downloads\\Melspectrogram_finetune_NEW\\PestLarvaNet_AudioTwin_Run_4\\data_50.0percent\n"
     ]
    },
    {
     "data": {
      "application/vnd.jupyter.widget-view+json": {
       "model_id": "492b739a4cbb40868a787d3fee335f0a",
       "version_major": 2,
       "version_minor": 0
      },
      "text/plain": [
       "Epoch 62/100:   0%|          | 0/176 [00:00<?, ?it/s]"
      ]
     },
     "metadata": {},
     "output_type": "display_data"
    },
    {
     "name": "stdout",
     "output_type": "stream",
     "text": [
      "\n",
      "Epoch 62: New best F1-weighted: 0.8064\n",
      "  F1-Macro: 0.7825, AUC-Macro: 0.0000, Accuracy: 0.8068\n",
      "Saving best model artifacts to C:\\Users\\PC\\Downloads\\Melspectrogram_finetune_NEW\\PestLarvaNet_AudioTwin_Run_4\\data_50.0percent\n"
     ]
    },
    {
     "data": {
      "application/vnd.jupyter.widget-view+json": {
       "model_id": "f7123608aa4048aab889ef284460fbee",
       "version_major": 2,
       "version_minor": 0
      },
      "text/plain": [
       "Epoch 63/100:   0%|          | 0/176 [00:00<?, ?it/s]"
      ]
     },
     "metadata": {},
     "output_type": "display_data"
    },
    {
     "name": "stdout",
     "output_type": "stream",
     "text": [
      "\n",
      "Epoch 63: New best F1-weighted: 0.8083\n",
      "  F1-Macro: 0.7856, AUC-Macro: 0.0000, Accuracy: 0.8089\n",
      "Saving best model artifacts to C:\\Users\\PC\\Downloads\\Melspectrogram_finetune_NEW\\PestLarvaNet_AudioTwin_Run_4\\data_50.0percent\n"
     ]
    },
    {
     "data": {
      "application/vnd.jupyter.widget-view+json": {
       "model_id": "90a6e8529bed420b8dd0c5a07cfd3fe2",
       "version_major": 2,
       "version_minor": 0
      },
      "text/plain": [
       "Epoch 64/100:   0%|          | 0/176 [00:00<?, ?it/s]"
      ]
     },
     "metadata": {},
     "output_type": "display_data"
    },
    {
     "name": "stdout",
     "output_type": "stream",
     "text": [
      "\n",
      "Epoch 64: New best F1-weighted: 0.8087\n",
      "  F1-Macro: 0.7860, AUC-Macro: 0.0000, Accuracy: 0.8110\n",
      "Saving best model artifacts to C:\\Users\\PC\\Downloads\\Melspectrogram_finetune_NEW\\PestLarvaNet_AudioTwin_Run_4\\data_50.0percent\n"
     ]
    },
    {
     "data": {
      "application/vnd.jupyter.widget-view+json": {
       "model_id": "fad382d17fb84c37ba64e851d6529064",
       "version_major": 2,
       "version_minor": 0
      },
      "text/plain": [
       "Epoch 65/100:   0%|          | 0/176 [00:00<?, ?it/s]"
      ]
     },
     "metadata": {},
     "output_type": "display_data"
    },
    {
     "data": {
      "application/vnd.jupyter.widget-view+json": {
       "model_id": "0c07f85da8eb496f8625c410ef9d9913",
       "version_major": 2,
       "version_minor": 0
      },
      "text/plain": [
       "Epoch 66/100:   0%|          | 0/176 [00:00<?, ?it/s]"
      ]
     },
     "metadata": {},
     "output_type": "display_data"
    },
    {
     "data": {
      "application/vnd.jupyter.widget-view+json": {
       "model_id": "4a4295e7e84b42b5a41e19bf556a9110",
       "version_major": 2,
       "version_minor": 0
      },
      "text/plain": [
       "Epoch 67/100:   0%|          | 0/176 [00:00<?, ?it/s]"
      ]
     },
     "metadata": {},
     "output_type": "display_data"
    },
    {
     "data": {
      "application/vnd.jupyter.widget-view+json": {
       "model_id": "ea4b18b58aac4c6aa750a623746010d9",
       "version_major": 2,
       "version_minor": 0
      },
      "text/plain": [
       "Epoch 68/100:   0%|          | 0/176 [00:00<?, ?it/s]"
      ]
     },
     "metadata": {},
     "output_type": "display_data"
    },
    {
     "name": "stdout",
     "output_type": "stream",
     "text": [
      "\n",
      "Epoch 68: New best F1-weighted: 0.8157\n",
      "  F1-Macro: 0.7950, AUC-Macro: 0.0000, Accuracy: 0.8160\n",
      "Saving best model artifacts to C:\\Users\\PC\\Downloads\\Melspectrogram_finetune_NEW\\PestLarvaNet_AudioTwin_Run_4\\data_50.0percent\n"
     ]
    },
    {
     "data": {
      "application/vnd.jupyter.widget-view+json": {
       "model_id": "a1e1e57986c246578b8e8fd04b48f445",
       "version_major": 2,
       "version_minor": 0
      },
      "text/plain": [
       "Epoch 69/100:   0%|          | 0/176 [00:00<?, ?it/s]"
      ]
     },
     "metadata": {},
     "output_type": "display_data"
    },
    {
     "name": "stdout",
     "output_type": "stream",
     "text": [
      "\n",
      "Epoch 69: New best F1-weighted: 0.8181\n",
      "  F1-Macro: 0.7953, AUC-Macro: 0.0000, Accuracy: 0.8189\n",
      "Saving best model artifacts to C:\\Users\\PC\\Downloads\\Melspectrogram_finetune_NEW\\PestLarvaNet_AudioTwin_Run_4\\data_50.0percent\n"
     ]
    },
    {
     "data": {
      "application/vnd.jupyter.widget-view+json": {
       "model_id": "db5b131371334026bf9d6d5f3b033e3f",
       "version_major": 2,
       "version_minor": 0
      },
      "text/plain": [
       "Epoch 70/100:   0%|          | 0/176 [00:00<?, ?it/s]"
      ]
     },
     "metadata": {},
     "output_type": "display_data"
    },
    {
     "data": {
      "application/vnd.jupyter.widget-view+json": {
       "model_id": "5c3ffae36ea144febe5cc5eeef76707f",
       "version_major": 2,
       "version_minor": 0
      },
      "text/plain": [
       "Epoch 71/100:   0%|          | 0/176 [00:00<?, ?it/s]"
      ]
     },
     "metadata": {},
     "output_type": "display_data"
    },
    {
     "data": {
      "application/vnd.jupyter.widget-view+json": {
       "model_id": "5c2bbefac5b4408e8f17609fe5aafdf1",
       "version_major": 2,
       "version_minor": 0
      },
      "text/plain": [
       "Epoch 72/100:   0%|          | 0/176 [00:00<?, ?it/s]"
      ]
     },
     "metadata": {},
     "output_type": "display_data"
    },
    {
     "name": "stdout",
     "output_type": "stream",
     "text": [
      "\n",
      "Epoch 72: New best F1-weighted: 0.8231\n",
      "  F1-Macro: 0.8006, AUC-Macro: 0.0000, Accuracy: 0.8235\n",
      "Saving best model artifacts to C:\\Users\\PC\\Downloads\\Melspectrogram_finetune_NEW\\PestLarvaNet_AudioTwin_Run_4\\data_50.0percent\n"
     ]
    },
    {
     "data": {
      "application/vnd.jupyter.widget-view+json": {
       "model_id": "e7f50cd5490c461aa8842ab65f2982e3",
       "version_major": 2,
       "version_minor": 0
      },
      "text/plain": [
       "Epoch 73/100:   0%|          | 0/176 [00:00<?, ?it/s]"
      ]
     },
     "metadata": {},
     "output_type": "display_data"
    },
    {
     "data": {
      "application/vnd.jupyter.widget-view+json": {
       "model_id": "967480ceac904fa2bbd5c9b1508ab948",
       "version_major": 2,
       "version_minor": 0
      },
      "text/plain": [
       "Epoch 74/100:   0%|          | 0/176 [00:00<?, ?it/s]"
      ]
     },
     "metadata": {},
     "output_type": "display_data"
    },
    {
     "data": {
      "application/vnd.jupyter.widget-view+json": {
       "model_id": "54e153b781e542b6a925a4a789678bcb",
       "version_major": 2,
       "version_minor": 0
      },
      "text/plain": [
       "Epoch 75/100:   0%|          | 0/176 [00:00<?, ?it/s]"
      ]
     },
     "metadata": {},
     "output_type": "display_data"
    },
    {
     "name": "stdout",
     "output_type": "stream",
     "text": [
      "\n",
      "Epoch 75: New best F1-weighted: 0.8278\n",
      "  F1-Macro: 0.8095, AUC-Macro: 0.0000, Accuracy: 0.8285\n",
      "Saving best model artifacts to C:\\Users\\PC\\Downloads\\Melspectrogram_finetune_NEW\\PestLarvaNet_AudioTwin_Run_4\\data_50.0percent\n"
     ]
    },
    {
     "data": {
      "application/vnd.jupyter.widget-view+json": {
       "model_id": "44b868397fe84d929be2a551c6396ae0",
       "version_major": 2,
       "version_minor": 0
      },
      "text/plain": [
       "Epoch 76/100:   0%|          | 0/176 [00:00<?, ?it/s]"
      ]
     },
     "metadata": {},
     "output_type": "display_data"
    },
    {
     "data": {
      "application/vnd.jupyter.widget-view+json": {
       "model_id": "15430f6f837449e79c99aa4469d53078",
       "version_major": 2,
       "version_minor": 0
      },
      "text/plain": [
       "Epoch 77/100:   0%|          | 0/176 [00:00<?, ?it/s]"
      ]
     },
     "metadata": {},
     "output_type": "display_data"
    },
    {
     "data": {
      "application/vnd.jupyter.widget-view+json": {
       "model_id": "883defc030404a59be629e0e2e42498d",
       "version_major": 2,
       "version_minor": 0
      },
      "text/plain": [
       "Epoch 78/100:   0%|          | 0/176 [00:00<?, ?it/s]"
      ]
     },
     "metadata": {},
     "output_type": "display_data"
    },
    {
     "data": {
      "application/vnd.jupyter.widget-view+json": {
       "model_id": "6df30442d7e843e2a1d5aac27f7c3f37",
       "version_major": 2,
       "version_minor": 0
      },
      "text/plain": [
       "Epoch 79/100:   0%|          | 0/176 [00:00<?, ?it/s]"
      ]
     },
     "metadata": {},
     "output_type": "display_data"
    },
    {
     "data": {
      "application/vnd.jupyter.widget-view+json": {
       "model_id": "9eda299d19894b498d8cb1d93f47c228",
       "version_major": 2,
       "version_minor": 0
      },
      "text/plain": [
       "Epoch 80/100:   0%|          | 0/176 [00:00<?, ?it/s]"
      ]
     },
     "metadata": {},
     "output_type": "display_data"
    },
    {
     "data": {
      "application/vnd.jupyter.widget-view+json": {
       "model_id": "3b1e8b124a094bd0a7aecf19834ac65c",
       "version_major": 2,
       "version_minor": 0
      },
      "text/plain": [
       "Epoch 81/100:   0%|          | 0/176 [00:00<?, ?it/s]"
      ]
     },
     "metadata": {},
     "output_type": "display_data"
    },
    {
     "data": {
      "application/vnd.jupyter.widget-view+json": {
       "model_id": "862aff54d3014a269a91a24c220e1ae0",
       "version_major": 2,
       "version_minor": 0
      },
      "text/plain": [
       "Epoch 82/100:   0%|          | 0/176 [00:00<?, ?it/s]"
      ]
     },
     "metadata": {},
     "output_type": "display_data"
    },
    {
     "name": "stdout",
     "output_type": "stream",
     "text": [
      "\n",
      "Epoch 82: New best F1-weighted: 0.8332\n",
      "  F1-Macro: 0.8150, AUC-Macro: 0.0000, Accuracy: 0.8338\n",
      "Saving best model artifacts to C:\\Users\\PC\\Downloads\\Melspectrogram_finetune_NEW\\PestLarvaNet_AudioTwin_Run_4\\data_50.0percent\n"
     ]
    },
    {
     "data": {
      "application/vnd.jupyter.widget-view+json": {
       "model_id": "e9078bc3718547aa92ef72a8324aa60a",
       "version_major": 2,
       "version_minor": 0
      },
      "text/plain": [
       "Epoch 83/100:   0%|          | 0/176 [00:00<?, ?it/s]"
      ]
     },
     "metadata": {},
     "output_type": "display_data"
    },
    {
     "name": "stdout",
     "output_type": "stream",
     "text": [
      "\n",
      "Epoch 83: New best F1-weighted: 0.8338\n",
      "  F1-Macro: 0.8143, AUC-Macro: 0.0000, Accuracy: 0.8349\n",
      "Saving best model artifacts to C:\\Users\\PC\\Downloads\\Melspectrogram_finetune_NEW\\PestLarvaNet_AudioTwin_Run_4\\data_50.0percent\n"
     ]
    },
    {
     "data": {
      "application/vnd.jupyter.widget-view+json": {
       "model_id": "991104cd356340b3888ba4255a6a6a50",
       "version_major": 2,
       "version_minor": 0
      },
      "text/plain": [
       "Epoch 84/100:   0%|          | 0/176 [00:00<?, ?it/s]"
      ]
     },
     "metadata": {},
     "output_type": "display_data"
    },
    {
     "name": "stdout",
     "output_type": "stream",
     "text": [
      "\n",
      "Epoch 84: New best F1-weighted: 0.8406\n",
      "  F1-Macro: 0.8245, AUC-Macro: 0.0000, Accuracy: 0.8402\n",
      "Saving best model artifacts to C:\\Users\\PC\\Downloads\\Melspectrogram_finetune_NEW\\PestLarvaNet_AudioTwin_Run_4\\data_50.0percent\n"
     ]
    },
    {
     "data": {
      "application/vnd.jupyter.widget-view+json": {
       "model_id": "ac3d7d4e26b349c4977d3a018f0e27d7",
       "version_major": 2,
       "version_minor": 0
      },
      "text/plain": [
       "Epoch 85/100:   0%|          | 0/176 [00:00<?, ?it/s]"
      ]
     },
     "metadata": {},
     "output_type": "display_data"
    },
    {
     "name": "stdout",
     "output_type": "stream",
     "text": [
      "\n",
      "Epoch 85: New best F1-weighted: 0.8424\n",
      "  F1-Macro: 0.8268, AUC-Macro: 0.0000, Accuracy: 0.8420\n",
      "Saving best model artifacts to C:\\Users\\PC\\Downloads\\Melspectrogram_finetune_NEW\\PestLarvaNet_AudioTwin_Run_4\\data_50.0percent\n"
     ]
    },
    {
     "data": {
      "application/vnd.jupyter.widget-view+json": {
       "model_id": "05f5bcaf7b954af1bc4c2345746e0f31",
       "version_major": 2,
       "version_minor": 0
      },
      "text/plain": [
       "Epoch 86/100:   0%|          | 0/176 [00:00<?, ?it/s]"
      ]
     },
     "metadata": {},
     "output_type": "display_data"
    },
    {
     "data": {
      "application/vnd.jupyter.widget-view+json": {
       "model_id": "19f2ce23a17f4c8cb17df4e506f587ce",
       "version_major": 2,
       "version_minor": 0
      },
      "text/plain": [
       "Epoch 87/100:   0%|          | 0/176 [00:00<?, ?it/s]"
      ]
     },
     "metadata": {},
     "output_type": "display_data"
    },
    {
     "data": {
      "application/vnd.jupyter.widget-view+json": {
       "model_id": "165057b6989b46d0943e1e6490dfa3e3",
       "version_major": 2,
       "version_minor": 0
      },
      "text/plain": [
       "Epoch 88/100:   0%|          | 0/176 [00:00<?, ?it/s]"
      ]
     },
     "metadata": {},
     "output_type": "display_data"
    },
    {
     "name": "stdout",
     "output_type": "stream",
     "text": [
      "\n",
      "Epoch 88: New best F1-weighted: 0.8484\n",
      "  F1-Macro: 0.8334, AUC-Macro: 0.0000, Accuracy: 0.8488\n",
      "Saving best model artifacts to C:\\Users\\PC\\Downloads\\Melspectrogram_finetune_NEW\\PestLarvaNet_AudioTwin_Run_4\\data_50.0percent\n"
     ]
    },
    {
     "data": {
      "application/vnd.jupyter.widget-view+json": {
       "model_id": "706ddf411ea74804b73254f13c47ba32",
       "version_major": 2,
       "version_minor": 0
      },
      "text/plain": [
       "Epoch 89/100:   0%|          | 0/176 [00:00<?, ?it/s]"
      ]
     },
     "metadata": {},
     "output_type": "display_data"
    },
    {
     "data": {
      "application/vnd.jupyter.widget-view+json": {
       "model_id": "4cc5b115964c4aa7b0bf45c9ccf05207",
       "version_major": 2,
       "version_minor": 0
      },
      "text/plain": [
       "Epoch 90/100:   0%|          | 0/176 [00:00<?, ?it/s]"
      ]
     },
     "metadata": {},
     "output_type": "display_data"
    },
    {
     "data": {
      "application/vnd.jupyter.widget-view+json": {
       "model_id": "f0a2b9c5ad07402a8bfb034fbf42d465",
       "version_major": 2,
       "version_minor": 0
      },
      "text/plain": [
       "Epoch 91/100:   0%|          | 0/176 [00:00<?, ?it/s]"
      ]
     },
     "metadata": {},
     "output_type": "display_data"
    },
    {
     "data": {
      "application/vnd.jupyter.widget-view+json": {
       "model_id": "0250a1b827a0493e910f6b3ee1587c4a",
       "version_major": 2,
       "version_minor": 0
      },
      "text/plain": [
       "Epoch 92/100:   0%|          | 0/176 [00:00<?, ?it/s]"
      ]
     },
     "metadata": {},
     "output_type": "display_data"
    },
    {
     "data": {
      "application/vnd.jupyter.widget-view+json": {
       "model_id": "646bdf31bae14544a2f0df976952fb24",
       "version_major": 2,
       "version_minor": 0
      },
      "text/plain": [
       "Epoch 93/100:   0%|          | 0/176 [00:00<?, ?it/s]"
      ]
     },
     "metadata": {},
     "output_type": "display_data"
    },
    {
     "data": {
      "application/vnd.jupyter.widget-view+json": {
       "model_id": "d0937abbc39145efa8ee31a8bfdf4111",
       "version_major": 2,
       "version_minor": 0
      },
      "text/plain": [
       "Epoch 94/100:   0%|          | 0/176 [00:00<?, ?it/s]"
      ]
     },
     "metadata": {},
     "output_type": "display_data"
    },
    {
     "data": {
      "application/vnd.jupyter.widget-view+json": {
       "model_id": "f6e6604b3b7f49a2bab4241d37694e88",
       "version_major": 2,
       "version_minor": 0
      },
      "text/plain": [
       "Epoch 95/100:   0%|          | 0/176 [00:00<?, ?it/s]"
      ]
     },
     "metadata": {},
     "output_type": "display_data"
    },
    {
     "name": "stdout",
     "output_type": "stream",
     "text": [
      "\n",
      "Epoch 95: New best F1-weighted: 0.8491\n",
      "  F1-Macro: 0.8356, AUC-Macro: 0.0000, Accuracy: 0.8491\n",
      "Saving best model artifacts to C:\\Users\\PC\\Downloads\\Melspectrogram_finetune_NEW\\PestLarvaNet_AudioTwin_Run_4\\data_50.0percent\n"
     ]
    },
    {
     "data": {
      "application/vnd.jupyter.widget-view+json": {
       "model_id": "d1bc10a0d3824c42b5dc858ff0f5201e",
       "version_major": 2,
       "version_minor": 0
      },
      "text/plain": [
       "Epoch 96/100:   0%|          | 0/176 [00:00<?, ?it/s]"
      ]
     },
     "metadata": {},
     "output_type": "display_data"
    },
    {
     "name": "stdout",
     "output_type": "stream",
     "text": [
      "\n",
      "Epoch 96: New best F1-weighted: 0.8542\n",
      "  F1-Macro: 0.8398, AUC-Macro: 0.0000, Accuracy: 0.8537\n",
      "Saving best model artifacts to C:\\Users\\PC\\Downloads\\Melspectrogram_finetune_NEW\\PestLarvaNet_AudioTwin_Run_4\\data_50.0percent\n"
     ]
    },
    {
     "data": {
      "application/vnd.jupyter.widget-view+json": {
       "model_id": "e11b8f1e0e684383afe6f12af11d624c",
       "version_major": 2,
       "version_minor": 0
      },
      "text/plain": [
       "Epoch 97/100:   0%|          | 0/176 [00:00<?, ?it/s]"
      ]
     },
     "metadata": {},
     "output_type": "display_data"
    },
    {
     "data": {
      "application/vnd.jupyter.widget-view+json": {
       "model_id": "c2dca3d182bd4cc385a10ecdbf0e8ee7",
       "version_major": 2,
       "version_minor": 0
      },
      "text/plain": [
       "Epoch 98/100:   0%|          | 0/176 [00:00<?, ?it/s]"
      ]
     },
     "metadata": {},
     "output_type": "display_data"
    },
    {
     "data": {
      "application/vnd.jupyter.widget-view+json": {
       "model_id": "06c3e6e2fc464aecb06c2fb279447153",
       "version_major": 2,
       "version_minor": 0
      },
      "text/plain": [
       "Epoch 99/100:   0%|          | 0/176 [00:00<?, ?it/s]"
      ]
     },
     "metadata": {},
     "output_type": "display_data"
    },
    {
     "name": "stdout",
     "output_type": "stream",
     "text": [
      "\n",
      "Epoch 99: New best F1-weighted: 0.8567\n",
      "  F1-Macro: 0.8422, AUC-Macro: 0.0000, Accuracy: 0.8566\n",
      "Saving best model artifacts to C:\\Users\\PC\\Downloads\\Melspectrogram_finetune_NEW\\PestLarvaNet_AudioTwin_Run_4\\data_50.0percent\n"
     ]
    },
    {
     "data": {
      "application/vnd.jupyter.widget-view+json": {
       "model_id": "4dec7575c41446678b028ce61958cb34",
       "version_major": 2,
       "version_minor": 0
      },
      "text/plain": [
       "Epoch 100/100:   0%|          | 0/176 [00:00<?, ?it/s]"
      ]
     },
     "metadata": {},
     "output_type": "display_data"
    },
    {
     "name": "stdout",
     "output_type": "stream",
     "text": [
      "Finished Training for this run. Best F1-weighted: 0.8567\n",
      "==> Results with 50.0% data: Best F1-Weighted = 0.8567\n",
      "--- Training with 100.0% of labeled data ---\n",
      "Loading pretrained weights from: C:\\Users\\PC\\PestLarvaNet\\SSL\\audiotwin_checkpoints_medium\\Final checkpoint\\run_4_lp5e-03_ep1e-06_lb0.007_audiotwin_pestlarvanet_medium_epoch_100.pth\n"
     ]
    },
    {
     "name": "stderr",
     "output_type": "stream",
     "text": [
      "C:\\Users\\PC\\anaconda3\\envs\\FallDeteNet\\lib\\site-packages\\torch\\optim\\lr_scheduler.py:62: UserWarning: The verbose parameter is deprecated. Please use get_last_lr() to access the learning rate.\n",
      "  warnings.warn(\n"
     ]
    },
    {
     "data": {
      "application/vnd.jupyter.widget-view+json": {
       "model_id": "c92c94c4827443fe9c369bcdf0da44da",
       "version_major": 2,
       "version_minor": 0
      },
      "text/plain": [
       "Epoch 1/100:   0%|          | 0/352 [00:00<?, ?it/s]"
      ]
     },
     "metadata": {},
     "output_type": "display_data"
    },
    {
     "name": "stdout",
     "output_type": "stream",
     "text": [
      "\n",
      "Epoch 1: New best F1-weighted: 0.4698\n",
      "  F1-Macro: 0.3971, AUC-Macro: 0.0000, Accuracy: 0.5555\n",
      "Saving best model artifacts to C:\\Users\\PC\\Downloads\\Melspectrogram_finetune_NEW\\PestLarvaNet_AudioTwin_Run_4\\data_100.0percent\n"
     ]
    },
    {
     "data": {
      "application/vnd.jupyter.widget-view+json": {
       "model_id": "83832e80b0234bfd926947fc09e0e4e2",
       "version_major": 2,
       "version_minor": 0
      },
      "text/plain": [
       "Epoch 2/100:   0%|          | 0/352 [00:00<?, ?it/s]"
      ]
     },
     "metadata": {},
     "output_type": "display_data"
    },
    {
     "name": "stdout",
     "output_type": "stream",
     "text": [
      "\n",
      "Epoch 2: New best F1-weighted: 0.5711\n",
      "  F1-Macro: 0.5144, AUC-Macro: 0.0000, Accuracy: 0.5954\n",
      "Saving best model artifacts to C:\\Users\\PC\\Downloads\\Melspectrogram_finetune_NEW\\PestLarvaNet_AudioTwin_Run_4\\data_100.0percent\n"
     ]
    },
    {
     "data": {
      "application/vnd.jupyter.widget-view+json": {
       "model_id": "4702f2b447c2496293e560a07f5eb4ae",
       "version_major": 2,
       "version_minor": 0
      },
      "text/plain": [
       "Epoch 3/100:   0%|          | 0/352 [00:00<?, ?it/s]"
      ]
     },
     "metadata": {},
     "output_type": "display_data"
    },
    {
     "data": {
      "application/vnd.jupyter.widget-view+json": {
       "model_id": "09eb2269d35c46b1bf2a5a7ce65a5b07",
       "version_major": 2,
       "version_minor": 0
      },
      "text/plain": [
       "Epoch 4/100:   0%|          | 0/352 [00:00<?, ?it/s]"
      ]
     },
     "metadata": {},
     "output_type": "display_data"
    },
    {
     "data": {
      "application/vnd.jupyter.widget-view+json": {
       "model_id": "7e205a02c6714665be1dfc632c98a313",
       "version_major": 2,
       "version_minor": 0
      },
      "text/plain": [
       "Epoch 5/100:   0%|          | 0/352 [00:00<?, ?it/s]"
      ]
     },
     "metadata": {},
     "output_type": "display_data"
    },
    {
     "name": "stdout",
     "output_type": "stream",
     "text": [
      "\n",
      "Epoch 5: New best F1-weighted: 0.6066\n",
      "  F1-Macro: 0.5542, AUC-Macro: 0.0000, Accuracy: 0.6306\n",
      "Saving best model artifacts to C:\\Users\\PC\\Downloads\\Melspectrogram_finetune_NEW\\PestLarvaNet_AudioTwin_Run_4\\data_100.0percent\n"
     ]
    },
    {
     "data": {
      "application/vnd.jupyter.widget-view+json": {
       "model_id": "a5bc88ca8932481eb91d05ce3edecb3b",
       "version_major": 2,
       "version_minor": 0
      },
      "text/plain": [
       "Epoch 6/100:   0%|          | 0/352 [00:00<?, ?it/s]"
      ]
     },
     "metadata": {},
     "output_type": "display_data"
    },
    {
     "name": "stdout",
     "output_type": "stream",
     "text": [
      "\n",
      "Epoch 6: New best F1-weighted: 0.6286\n",
      "  F1-Macro: 0.5649, AUC-Macro: 0.0000, Accuracy: 0.6562\n",
      "Saving best model artifacts to C:\\Users\\PC\\Downloads\\Melspectrogram_finetune_NEW\\PestLarvaNet_AudioTwin_Run_4\\data_100.0percent\n"
     ]
    },
    {
     "data": {
      "application/vnd.jupyter.widget-view+json": {
       "model_id": "3ed82f859ce24412859fa8b9afdf9eed",
       "version_major": 2,
       "version_minor": 0
      },
      "text/plain": [
       "Epoch 7/100:   0%|          | 0/352 [00:00<?, ?it/s]"
      ]
     },
     "metadata": {},
     "output_type": "display_data"
    },
    {
     "data": {
      "application/vnd.jupyter.widget-view+json": {
       "model_id": "02299ac8e6974f6c91656ac2d295fc5d",
       "version_major": 2,
       "version_minor": 0
      },
      "text/plain": [
       "Epoch 8/100:   0%|          | 0/352 [00:00<?, ?it/s]"
      ]
     },
     "metadata": {},
     "output_type": "display_data"
    },
    {
     "name": "stdout",
     "output_type": "stream",
     "text": [
      "\n",
      "Epoch 8: New best F1-weighted: 0.6444\n",
      "  F1-Macro: 0.5886, AUC-Macro: 0.0000, Accuracy: 0.6690\n",
      "Saving best model artifacts to C:\\Users\\PC\\Downloads\\Melspectrogram_finetune_NEW\\PestLarvaNet_AudioTwin_Run_4\\data_100.0percent\n"
     ]
    },
    {
     "data": {
      "application/vnd.jupyter.widget-view+json": {
       "model_id": "f169ef635d2a4552a8e19f85bdb49ae0",
       "version_major": 2,
       "version_minor": 0
      },
      "text/plain": [
       "Epoch 9/100:   0%|          | 0/352 [00:00<?, ?it/s]"
      ]
     },
     "metadata": {},
     "output_type": "display_data"
    },
    {
     "data": {
      "application/vnd.jupyter.widget-view+json": {
       "model_id": "f62dcf39ecc444e5914ac35370a269bf",
       "version_major": 2,
       "version_minor": 0
      },
      "text/plain": [
       "Epoch 10/100:   0%|          | 0/352 [00:00<?, ?it/s]"
      ]
     },
     "metadata": {},
     "output_type": "display_data"
    },
    {
     "name": "stdout",
     "output_type": "stream",
     "text": [
      "\n",
      "Epoch 10: New best F1-weighted: 0.6706\n",
      "  F1-Macro: 0.6122, AUC-Macro: 0.0000, Accuracy: 0.6897\n",
      "Saving best model artifacts to C:\\Users\\PC\\Downloads\\Melspectrogram_finetune_NEW\\PestLarvaNet_AudioTwin_Run_4\\data_100.0percent\n"
     ]
    },
    {
     "data": {
      "application/vnd.jupyter.widget-view+json": {
       "model_id": "00b51189d3b84ab4ba9eca5864bddd94",
       "version_major": 2,
       "version_minor": 0
      },
      "text/plain": [
       "Epoch 11/100:   0%|          | 0/352 [00:00<?, ?it/s]"
      ]
     },
     "metadata": {},
     "output_type": "display_data"
    },
    {
     "name": "stdout",
     "output_type": "stream",
     "text": [
      "\n",
      "Epoch 11: New best F1-weighted: 0.6786\n",
      "  F1-Macro: 0.6243, AUC-Macro: 0.0000, Accuracy: 0.7039\n",
      "Saving best model artifacts to C:\\Users\\PC\\Downloads\\Melspectrogram_finetune_NEW\\PestLarvaNet_AudioTwin_Run_4\\data_100.0percent\n"
     ]
    },
    {
     "data": {
      "application/vnd.jupyter.widget-view+json": {
       "model_id": "100a7f92046a40d887e3fc230b9bb4eb",
       "version_major": 2,
       "version_minor": 0
      },
      "text/plain": [
       "Epoch 12/100:   0%|          | 0/352 [00:00<?, ?it/s]"
      ]
     },
     "metadata": {},
     "output_type": "display_data"
    },
    {
     "name": "stdout",
     "output_type": "stream",
     "text": [
      "\n",
      "Epoch 12: New best F1-weighted: 0.7085\n",
      "  F1-Macro: 0.6607, AUC-Macro: 0.0000, Accuracy: 0.7178\n",
      "Saving best model artifacts to C:\\Users\\PC\\Downloads\\Melspectrogram_finetune_NEW\\PestLarvaNet_AudioTwin_Run_4\\data_100.0percent\n"
     ]
    },
    {
     "data": {
      "application/vnd.jupyter.widget-view+json": {
       "model_id": "0425a31307f94f118a4dd000a44e3308",
       "version_major": 2,
       "version_minor": 0
      },
      "text/plain": [
       "Epoch 13/100:   0%|          | 0/352 [00:00<?, ?it/s]"
      ]
     },
     "metadata": {},
     "output_type": "display_data"
    },
    {
     "data": {
      "application/vnd.jupyter.widget-view+json": {
       "model_id": "b0b8528bd39140b7a31750ffdc594580",
       "version_major": 2,
       "version_minor": 0
      },
      "text/plain": [
       "Epoch 14/100:   0%|          | 0/352 [00:00<?, ?it/s]"
      ]
     },
     "metadata": {},
     "output_type": "display_data"
    },
    {
     "data": {
      "application/vnd.jupyter.widget-view+json": {
       "model_id": "b20905e7b81f48e195f0ea1d91771ac2",
       "version_major": 2,
       "version_minor": 0
      },
      "text/plain": [
       "Epoch 15/100:   0%|          | 0/352 [00:00<?, ?it/s]"
      ]
     },
     "metadata": {},
     "output_type": "display_data"
    },
    {
     "name": "stdout",
     "output_type": "stream",
     "text": [
      "\n",
      "Epoch 15: New best F1-weighted: 0.7107\n",
      "  F1-Macro: 0.6623, AUC-Macro: 0.0000, Accuracy: 0.7210\n",
      "Saving best model artifacts to C:\\Users\\PC\\Downloads\\Melspectrogram_finetune_NEW\\PestLarvaNet_AudioTwin_Run_4\\data_100.0percent\n"
     ]
    },
    {
     "data": {
      "application/vnd.jupyter.widget-view+json": {
       "model_id": "5a7f42723ac642efb5419e05095c75b6",
       "version_major": 2,
       "version_minor": 0
      },
      "text/plain": [
       "Epoch 16/100:   0%|          | 0/352 [00:00<?, ?it/s]"
      ]
     },
     "metadata": {},
     "output_type": "display_data"
    },
    {
     "data": {
      "application/vnd.jupyter.widget-view+json": {
       "model_id": "81d532be7a4f4bd9a82938ee41350fde",
       "version_major": 2,
       "version_minor": 0
      },
      "text/plain": [
       "Epoch 17/100:   0%|          | 0/352 [00:00<?, ?it/s]"
      ]
     },
     "metadata": {},
     "output_type": "display_data"
    },
    {
     "name": "stdout",
     "output_type": "stream",
     "text": [
      "\n",
      "Epoch 17: New best F1-weighted: 0.7465\n",
      "  F1-Macro: 0.7100, AUC-Macro: 0.0000, Accuracy: 0.7495\n",
      "Saving best model artifacts to C:\\Users\\PC\\Downloads\\Melspectrogram_finetune_NEW\\PestLarvaNet_AudioTwin_Run_4\\data_100.0percent\n"
     ]
    },
    {
     "data": {
      "application/vnd.jupyter.widget-view+json": {
       "model_id": "8be4d5428aaa43c9a8b02681a8a431ab",
       "version_major": 2,
       "version_minor": 0
      },
      "text/plain": [
       "Epoch 18/100:   0%|          | 0/352 [00:00<?, ?it/s]"
      ]
     },
     "metadata": {},
     "output_type": "display_data"
    },
    {
     "data": {
      "application/vnd.jupyter.widget-view+json": {
       "model_id": "d6a82fe666b745dda73bbecd840080dd",
       "version_major": 2,
       "version_minor": 0
      },
      "text/plain": [
       "Epoch 19/100:   0%|          | 0/352 [00:00<?, ?it/s]"
      ]
     },
     "metadata": {},
     "output_type": "display_data"
    },
    {
     "name": "stdout",
     "output_type": "stream",
     "text": [
      "\n",
      "Epoch 19: New best F1-weighted: 0.7576\n",
      "  F1-Macro: 0.7248, AUC-Macro: 0.0000, Accuracy: 0.7623\n",
      "Saving best model artifacts to C:\\Users\\PC\\Downloads\\Melspectrogram_finetune_NEW\\PestLarvaNet_AudioTwin_Run_4\\data_100.0percent\n"
     ]
    },
    {
     "data": {
      "application/vnd.jupyter.widget-view+json": {
       "model_id": "ba86c28195034414954a8028df1f1f9b",
       "version_major": 2,
       "version_minor": 0
      },
      "text/plain": [
       "Epoch 20/100:   0%|          | 0/352 [00:00<?, ?it/s]"
      ]
     },
     "metadata": {},
     "output_type": "display_data"
    },
    {
     "data": {
      "application/vnd.jupyter.widget-view+json": {
       "model_id": "d74b3ab6a3bf47999e2d6e7c984cc0a3",
       "version_major": 2,
       "version_minor": 0
      },
      "text/plain": [
       "Epoch 21/100:   0%|          | 0/352 [00:00<?, ?it/s]"
      ]
     },
     "metadata": {},
     "output_type": "display_data"
    },
    {
     "data": {
      "application/vnd.jupyter.widget-view+json": {
       "model_id": "96fda89cab8f4e71b0be643d29d0bee3",
       "version_major": 2,
       "version_minor": 0
      },
      "text/plain": [
       "Epoch 22/100:   0%|          | 0/352 [00:00<?, ?it/s]"
      ]
     },
     "metadata": {},
     "output_type": "display_data"
    },
    {
     "data": {
      "application/vnd.jupyter.widget-view+json": {
       "model_id": "de0a73ec64bd4c4c855da7d707e59794",
       "version_major": 2,
       "version_minor": 0
      },
      "text/plain": [
       "Epoch 23/100:   0%|          | 0/352 [00:00<?, ?it/s]"
      ]
     },
     "metadata": {},
     "output_type": "display_data"
    },
    {
     "name": "stdout",
     "output_type": "stream",
     "text": [
      "\n",
      "Epoch 23: New best F1-weighted: 0.7635\n",
      "  F1-Macro: 0.7309, AUC-Macro: 0.0000, Accuracy: 0.7655\n",
      "Saving best model artifacts to C:\\Users\\PC\\Downloads\\Melspectrogram_finetune_NEW\\PestLarvaNet_AudioTwin_Run_4\\data_100.0percent\n"
     ]
    },
    {
     "data": {
      "application/vnd.jupyter.widget-view+json": {
       "model_id": "64e7f33359774426b8365f2cdf9ad0e1",
       "version_major": 2,
       "version_minor": 0
      },
      "text/plain": [
       "Epoch 24/100:   0%|          | 0/352 [00:00<?, ?it/s]"
      ]
     },
     "metadata": {},
     "output_type": "display_data"
    },
    {
     "data": {
      "application/vnd.jupyter.widget-view+json": {
       "model_id": "115025e41a224f13b74a86f4e738eee0",
       "version_major": 2,
       "version_minor": 0
      },
      "text/plain": [
       "Epoch 25/100:   0%|          | 0/352 [00:00<?, ?it/s]"
      ]
     },
     "metadata": {},
     "output_type": "display_data"
    },
    {
     "name": "stdout",
     "output_type": "stream",
     "text": [
      "\n",
      "Epoch 25: New best F1-weighted: 0.7681\n",
      "  F1-Macro: 0.7347, AUC-Macro: 0.0000, Accuracy: 0.7698\n",
      "Saving best model artifacts to C:\\Users\\PC\\Downloads\\Melspectrogram_finetune_NEW\\PestLarvaNet_AudioTwin_Run_4\\data_100.0percent\n"
     ]
    },
    {
     "data": {
      "application/vnd.jupyter.widget-view+json": {
       "model_id": "09c281b2ea614c5f945003af595908ca",
       "version_major": 2,
       "version_minor": 0
      },
      "text/plain": [
       "Epoch 26/100:   0%|          | 0/352 [00:00<?, ?it/s]"
      ]
     },
     "metadata": {},
     "output_type": "display_data"
    },
    {
     "data": {
      "application/vnd.jupyter.widget-view+json": {
       "model_id": "8e2d9af7308f4acc9b1186a2bd65fefc",
       "version_major": 2,
       "version_minor": 0
      },
      "text/plain": [
       "Epoch 27/100:   0%|          | 0/352 [00:00<?, ?it/s]"
      ]
     },
     "metadata": {},
     "output_type": "display_data"
    },
    {
     "name": "stdout",
     "output_type": "stream",
     "text": [
      "\n",
      "Epoch 27: New best F1-weighted: 0.7891\n",
      "  F1-Macro: 0.7634, AUC-Macro: 0.0000, Accuracy: 0.7904\n",
      "Saving best model artifacts to C:\\Users\\PC\\Downloads\\Melspectrogram_finetune_NEW\\PestLarvaNet_AudioTwin_Run_4\\data_100.0percent\n"
     ]
    },
    {
     "data": {
      "application/vnd.jupyter.widget-view+json": {
       "model_id": "95de5cf5584e4ff9929c9791b29e536a",
       "version_major": 2,
       "version_minor": 0
      },
      "text/plain": [
       "Epoch 28/100:   0%|          | 0/352 [00:00<?, ?it/s]"
      ]
     },
     "metadata": {},
     "output_type": "display_data"
    },
    {
     "data": {
      "application/vnd.jupyter.widget-view+json": {
       "model_id": "d14d2416efbc452b8e943a8975c6184f",
       "version_major": 2,
       "version_minor": 0
      },
      "text/plain": [
       "Epoch 29/100:   0%|          | 0/352 [00:00<?, ?it/s]"
      ]
     },
     "metadata": {},
     "output_type": "display_data"
    },
    {
     "name": "stdout",
     "output_type": "stream",
     "text": [
      "\n",
      "Epoch 29: New best F1-weighted: 0.7972\n",
      "  F1-Macro: 0.7687, AUC-Macro: 0.0000, Accuracy: 0.8000\n",
      "Saving best model artifacts to C:\\Users\\PC\\Downloads\\Melspectrogram_finetune_NEW\\PestLarvaNet_AudioTwin_Run_4\\data_100.0percent\n"
     ]
    },
    {
     "data": {
      "application/vnd.jupyter.widget-view+json": {
       "model_id": "8e80306533f84fb691e5d709b762815d",
       "version_major": 2,
       "version_minor": 0
      },
      "text/plain": [
       "Epoch 30/100:   0%|          | 0/352 [00:00<?, ?it/s]"
      ]
     },
     "metadata": {},
     "output_type": "display_data"
    },
    {
     "data": {
      "application/vnd.jupyter.widget-view+json": {
       "model_id": "e93f0fe125804278a7274e6f959880b7",
       "version_major": 2,
       "version_minor": 0
      },
      "text/plain": [
       "Epoch 31/100:   0%|          | 0/352 [00:00<?, ?it/s]"
      ]
     },
     "metadata": {},
     "output_type": "display_data"
    },
    {
     "data": {
      "application/vnd.jupyter.widget-view+json": {
       "model_id": "009d9471a7e14054b09fe1e9f1edccbc",
       "version_major": 2,
       "version_minor": 0
      },
      "text/plain": [
       "Epoch 32/100:   0%|          | 0/352 [00:00<?, ?it/s]"
      ]
     },
     "metadata": {},
     "output_type": "display_data"
    },
    {
     "data": {
      "application/vnd.jupyter.widget-view+json": {
       "model_id": "c3f6c15e591741208e504dbd6dcff586",
       "version_major": 2,
       "version_minor": 0
      },
      "text/plain": [
       "Epoch 33/100:   0%|          | 0/352 [00:00<?, ?it/s]"
      ]
     },
     "metadata": {},
     "output_type": "display_data"
    },
    {
     "data": {
      "application/vnd.jupyter.widget-view+json": {
       "model_id": "239b8132d8d04d27a32b1fac477a0d54",
       "version_major": 2,
       "version_minor": 0
      },
      "text/plain": [
       "Epoch 34/100:   0%|          | 0/352 [00:00<?, ?it/s]"
      ]
     },
     "metadata": {},
     "output_type": "display_data"
    },
    {
     "data": {
      "application/vnd.jupyter.widget-view+json": {
       "model_id": "1093898279cd4ac98be1b418cd0eca78",
       "version_major": 2,
       "version_minor": 0
      },
      "text/plain": [
       "Epoch 35/100:   0%|          | 0/352 [00:00<?, ?it/s]"
      ]
     },
     "metadata": {},
     "output_type": "display_data"
    },
    {
     "name": "stdout",
     "output_type": "stream",
     "text": [
      "\n",
      "Epoch 35: New best F1-weighted: 0.8091\n",
      "  F1-Macro: 0.7849, AUC-Macro: 0.0000, Accuracy: 0.8107\n",
      "Saving best model artifacts to C:\\Users\\PC\\Downloads\\Melspectrogram_finetune_NEW\\PestLarvaNet_AudioTwin_Run_4\\data_100.0percent\n"
     ]
    },
    {
     "data": {
      "application/vnd.jupyter.widget-view+json": {
       "model_id": "135c43be495c432cae2e02077ab02b82",
       "version_major": 2,
       "version_minor": 0
      },
      "text/plain": [
       "Epoch 36/100:   0%|          | 0/352 [00:00<?, ?it/s]"
      ]
     },
     "metadata": {},
     "output_type": "display_data"
    },
    {
     "data": {
      "application/vnd.jupyter.widget-view+json": {
       "model_id": "a4df096f68904f6dadbb0d2eb74608b9",
       "version_major": 2,
       "version_minor": 0
      },
      "text/plain": [
       "Epoch 37/100:   0%|          | 0/352 [00:00<?, ?it/s]"
      ]
     },
     "metadata": {},
     "output_type": "display_data"
    },
    {
     "data": {
      "application/vnd.jupyter.widget-view+json": {
       "model_id": "7426d8de3b3f44ddb31105eab1ac8e39",
       "version_major": 2,
       "version_minor": 0
      },
      "text/plain": [
       "Epoch 38/100:   0%|          | 0/352 [00:00<?, ?it/s]"
      ]
     },
     "metadata": {},
     "output_type": "display_data"
    },
    {
     "data": {
      "application/vnd.jupyter.widget-view+json": {
       "model_id": "781f5911902e4df2b241d4f3faceab2d",
       "version_major": 2,
       "version_minor": 0
      },
      "text/plain": [
       "Epoch 39/100:   0%|          | 0/352 [00:00<?, ?it/s]"
      ]
     },
     "metadata": {},
     "output_type": "display_data"
    },
    {
     "name": "stdout",
     "output_type": "stream",
     "text": [
      "\n",
      "Epoch 39: New best F1-weighted: 0.8303\n",
      "  F1-Macro: 0.8097, AUC-Macro: 0.0000, Accuracy: 0.8306\n",
      "Saving best model artifacts to C:\\Users\\PC\\Downloads\\Melspectrogram_finetune_NEW\\PestLarvaNet_AudioTwin_Run_4\\data_100.0percent\n"
     ]
    },
    {
     "data": {
      "application/vnd.jupyter.widget-view+json": {
       "model_id": "32b46b1a89804d76a3154a5bc5edf280",
       "version_major": 2,
       "version_minor": 0
      },
      "text/plain": [
       "Epoch 40/100:   0%|          | 0/352 [00:00<?, ?it/s]"
      ]
     },
     "metadata": {},
     "output_type": "display_data"
    },
    {
     "name": "stdout",
     "output_type": "stream",
     "text": [
      "\n",
      "Epoch 40: New best F1-weighted: 0.8403\n",
      "  F1-Macro: 0.8244, AUC-Macro: 0.0000, Accuracy: 0.8402\n",
      "Saving best model artifacts to C:\\Users\\PC\\Downloads\\Melspectrogram_finetune_NEW\\PestLarvaNet_AudioTwin_Run_4\\data_100.0percent\n"
     ]
    },
    {
     "data": {
      "application/vnd.jupyter.widget-view+json": {
       "model_id": "d9437f719a2b4264a443fbc02c3fdd70",
       "version_major": 2,
       "version_minor": 0
      },
      "text/plain": [
       "Epoch 41/100:   0%|          | 0/352 [00:00<?, ?it/s]"
      ]
     },
     "metadata": {},
     "output_type": "display_data"
    },
    {
     "data": {
      "application/vnd.jupyter.widget-view+json": {
       "model_id": "9a2fe38c30784d25888955d871ab72d6",
       "version_major": 2,
       "version_minor": 0
      },
      "text/plain": [
       "Epoch 42/100:   0%|          | 0/352 [00:00<?, ?it/s]"
      ]
     },
     "metadata": {},
     "output_type": "display_data"
    },
    {
     "data": {
      "application/vnd.jupyter.widget-view+json": {
       "model_id": "87de01bd60774107af9a3338e3e73be6",
       "version_major": 2,
       "version_minor": 0
      },
      "text/plain": [
       "Epoch 43/100:   0%|          | 0/352 [00:00<?, ?it/s]"
      ]
     },
     "metadata": {},
     "output_type": "display_data"
    },
    {
     "name": "stdout",
     "output_type": "stream",
     "text": [
      "\n",
      "Epoch 43: New best F1-weighted: 0.8408\n",
      "  F1-Macro: 0.8225, AUC-Macro: 0.0000, Accuracy: 0.8399\n",
      "Saving best model artifacts to C:\\Users\\PC\\Downloads\\Melspectrogram_finetune_NEW\\PestLarvaNet_AudioTwin_Run_4\\data_100.0percent\n"
     ]
    },
    {
     "data": {
      "application/vnd.jupyter.widget-view+json": {
       "model_id": "9abcc51fdfc64aa098505aa5a8dbf516",
       "version_major": 2,
       "version_minor": 0
      },
      "text/plain": [
       "Epoch 44/100:   0%|          | 0/352 [00:00<?, ?it/s]"
      ]
     },
     "metadata": {},
     "output_type": "display_data"
    },
    {
     "data": {
      "application/vnd.jupyter.widget-view+json": {
       "model_id": "b94f08047c8d47b284c982d81efcede6",
       "version_major": 2,
       "version_minor": 0
      },
      "text/plain": [
       "Epoch 45/100:   0%|          | 0/352 [00:00<?, ?it/s]"
      ]
     },
     "metadata": {},
     "output_type": "display_data"
    },
    {
     "name": "stdout",
     "output_type": "stream",
     "text": [
      "\n",
      "Epoch 45: New best F1-weighted: 0.8430\n",
      "  F1-Macro: 0.8254, AUC-Macro: 0.0000, Accuracy: 0.8431\n",
      "Saving best model artifacts to C:\\Users\\PC\\Downloads\\Melspectrogram_finetune_NEW\\PestLarvaNet_AudioTwin_Run_4\\data_100.0percent\n"
     ]
    },
    {
     "data": {
      "application/vnd.jupyter.widget-view+json": {
       "model_id": "8c28ddf32c5d4c33a1526732a3415f78",
       "version_major": 2,
       "version_minor": 0
      },
      "text/plain": [
       "Epoch 46/100:   0%|          | 0/352 [00:00<?, ?it/s]"
      ]
     },
     "metadata": {},
     "output_type": "display_data"
    },
    {
     "data": {
      "application/vnd.jupyter.widget-view+json": {
       "model_id": "cc039c653a244a2dab5e06f17dd1bbf9",
       "version_major": 2,
       "version_minor": 0
      },
      "text/plain": [
       "Epoch 47/100:   0%|          | 0/352 [00:00<?, ?it/s]"
      ]
     },
     "metadata": {},
     "output_type": "display_data"
    },
    {
     "data": {
      "application/vnd.jupyter.widget-view+json": {
       "model_id": "3cafa5d6a9494c319adb2b7d3ec2cb67",
       "version_major": 2,
       "version_minor": 0
      },
      "text/plain": [
       "Epoch 48/100:   0%|          | 0/352 [00:00<?, ?it/s]"
      ]
     },
     "metadata": {},
     "output_type": "display_data"
    },
    {
     "data": {
      "application/vnd.jupyter.widget-view+json": {
       "model_id": "6436a111a24d4ed0ae8a512796707355",
       "version_major": 2,
       "version_minor": 0
      },
      "text/plain": [
       "Epoch 49/100:   0%|          | 0/352 [00:00<?, ?it/s]"
      ]
     },
     "metadata": {},
     "output_type": "display_data"
    },
    {
     "data": {
      "application/vnd.jupyter.widget-view+json": {
       "model_id": "fb7228792ad94bc4950d84109c18abd6",
       "version_major": 2,
       "version_minor": 0
      },
      "text/plain": [
       "Epoch 50/100:   0%|          | 0/352 [00:00<?, ?it/s]"
      ]
     },
     "metadata": {},
     "output_type": "display_data"
    },
    {
     "name": "stdout",
     "output_type": "stream",
     "text": [
      "\n",
      "Epoch 50: New best F1-weighted: 0.8552\n",
      "  F1-Macro: 0.8410, AUC-Macro: 0.0000, Accuracy: 0.8555\n",
      "Saving best model artifacts to C:\\Users\\PC\\Downloads\\Melspectrogram_finetune_NEW\\PestLarvaNet_AudioTwin_Run_4\\data_100.0percent\n"
     ]
    },
    {
     "data": {
      "application/vnd.jupyter.widget-view+json": {
       "model_id": "e41ceaf332464bb5a71717f410575620",
       "version_major": 2,
       "version_minor": 0
      },
      "text/plain": [
       "Epoch 51/100:   0%|          | 0/352 [00:00<?, ?it/s]"
      ]
     },
     "metadata": {},
     "output_type": "display_data"
    },
    {
     "data": {
      "application/vnd.jupyter.widget-view+json": {
       "model_id": "a96ddcaa17c34040b0f40fb03728ad1d",
       "version_major": 2,
       "version_minor": 0
      },
      "text/plain": [
       "Epoch 52/100:   0%|          | 0/352 [00:00<?, ?it/s]"
      ]
     },
     "metadata": {},
     "output_type": "display_data"
    },
    {
     "data": {
      "application/vnd.jupyter.widget-view+json": {
       "model_id": "5a9a87fe50524579969cf179b26db588",
       "version_major": 2,
       "version_minor": 0
      },
      "text/plain": [
       "Epoch 53/100:   0%|          | 0/352 [00:00<?, ?it/s]"
      ]
     },
     "metadata": {},
     "output_type": "display_data"
    },
    {
     "name": "stdout",
     "output_type": "stream",
     "text": [
      "\n",
      "Epoch 53: New best F1-weighted: 0.8608\n",
      "  F1-Macro: 0.8463, AUC-Macro: 0.0000, Accuracy: 0.8609\n",
      "Saving best model artifacts to C:\\Users\\PC\\Downloads\\Melspectrogram_finetune_NEW\\PestLarvaNet_AudioTwin_Run_4\\data_100.0percent\n"
     ]
    },
    {
     "data": {
      "application/vnd.jupyter.widget-view+json": {
       "model_id": "21b991778dce4ac7a1bb6b4b068f10ff",
       "version_major": 2,
       "version_minor": 0
      },
      "text/plain": [
       "Epoch 54/100:   0%|          | 0/352 [00:00<?, ?it/s]"
      ]
     },
     "metadata": {},
     "output_type": "display_data"
    },
    {
     "data": {
      "application/vnd.jupyter.widget-view+json": {
       "model_id": "8bb30416cf4743adb1890aa6476feadb",
       "version_major": 2,
       "version_minor": 0
      },
      "text/plain": [
       "Epoch 55/100:   0%|          | 0/352 [00:00<?, ?it/s]"
      ]
     },
     "metadata": {},
     "output_type": "display_data"
    },
    {
     "name": "stdout",
     "output_type": "stream",
     "text": [
      "\n",
      "Epoch 55: New best F1-weighted: 0.8619\n",
      "  F1-Macro: 0.8529, AUC-Macro: 0.0000, Accuracy: 0.8619\n",
      "Saving best model artifacts to C:\\Users\\PC\\Downloads\\Melspectrogram_finetune_NEW\\PestLarvaNet_AudioTwin_Run_4\\data_100.0percent\n"
     ]
    },
    {
     "data": {
      "application/vnd.jupyter.widget-view+json": {
       "model_id": "debe555e62e74de3953ae9fa6b4ee0f3",
       "version_major": 2,
       "version_minor": 0
      },
      "text/plain": [
       "Epoch 56/100:   0%|          | 0/352 [00:00<?, ?it/s]"
      ]
     },
     "metadata": {},
     "output_type": "display_data"
    },
    {
     "data": {
      "application/vnd.jupyter.widget-view+json": {
       "model_id": "c2959b7e6e644a208ff2f3c1bf5685f3",
       "version_major": 2,
       "version_minor": 0
      },
      "text/plain": [
       "Epoch 57/100:   0%|          | 0/352 [00:00<?, ?it/s]"
      ]
     },
     "metadata": {},
     "output_type": "display_data"
    },
    {
     "data": {
      "application/vnd.jupyter.widget-view+json": {
       "model_id": "eefd2beb9a494646acd5fe7df793667e",
       "version_major": 2,
       "version_minor": 0
      },
      "text/plain": [
       "Epoch 58/100:   0%|          | 0/352 [00:00<?, ?it/s]"
      ]
     },
     "metadata": {},
     "output_type": "display_data"
    },
    {
     "name": "stdout",
     "output_type": "stream",
     "text": [
      "\n",
      "Epoch 58: New best F1-weighted: 0.8686\n",
      "  F1-Macro: 0.8593, AUC-Macro: 0.0000, Accuracy: 0.8687\n",
      "Saving best model artifacts to C:\\Users\\PC\\Downloads\\Melspectrogram_finetune_NEW\\PestLarvaNet_AudioTwin_Run_4\\data_100.0percent\n"
     ]
    },
    {
     "data": {
      "application/vnd.jupyter.widget-view+json": {
       "model_id": "07bfa14e184e4f098e59f8cc9422b1d4",
       "version_major": 2,
       "version_minor": 0
      },
      "text/plain": [
       "Epoch 59/100:   0%|          | 0/352 [00:00<?, ?it/s]"
      ]
     },
     "metadata": {},
     "output_type": "display_data"
    },
    {
     "data": {
      "application/vnd.jupyter.widget-view+json": {
       "model_id": "e780afaf14734eee86160296aa5a46c6",
       "version_major": 2,
       "version_minor": 0
      },
      "text/plain": [
       "Epoch 60/100:   0%|          | 0/352 [00:00<?, ?it/s]"
      ]
     },
     "metadata": {},
     "output_type": "display_data"
    },
    {
     "data": {
      "application/vnd.jupyter.widget-view+json": {
       "model_id": "7f9d7a55e3bc468094c05b962a12326f",
       "version_major": 2,
       "version_minor": 0
      },
      "text/plain": [
       "Epoch 61/100:   0%|          | 0/352 [00:00<?, ?it/s]"
      ]
     },
     "metadata": {},
     "output_type": "display_data"
    },
    {
     "data": {
      "application/vnd.jupyter.widget-view+json": {
       "model_id": "2aa1917f94b54eb48db00b5157fb2fe0",
       "version_major": 2,
       "version_minor": 0
      },
      "text/plain": [
       "Epoch 62/100:   0%|          | 0/352 [00:00<?, ?it/s]"
      ]
     },
     "metadata": {},
     "output_type": "display_data"
    },
    {
     "data": {
      "application/vnd.jupyter.widget-view+json": {
       "model_id": "da1c1cd3ff2a4eda887131164dad171a",
       "version_major": 2,
       "version_minor": 0
      },
      "text/plain": [
       "Epoch 63/100:   0%|          | 0/352 [00:00<?, ?it/s]"
      ]
     },
     "metadata": {},
     "output_type": "display_data"
    },
    {
     "data": {
      "application/vnd.jupyter.widget-view+json": {
       "model_id": "ce2f462f6e354b17aac16715e4ac3753",
       "version_major": 2,
       "version_minor": 0
      },
      "text/plain": [
       "Epoch 64/100:   0%|          | 0/352 [00:00<?, ?it/s]"
      ]
     },
     "metadata": {},
     "output_type": "display_data"
    },
    {
     "name": "stdout",
     "output_type": "stream",
     "text": [
      "\n",
      "Epoch 64: New best F1-weighted: 0.8737\n",
      "  F1-Macro: 0.8645, AUC-Macro: 0.0000, Accuracy: 0.8737\n",
      "Saving best model artifacts to C:\\Users\\PC\\Downloads\\Melspectrogram_finetune_NEW\\PestLarvaNet_AudioTwin_Run_4\\data_100.0percent\n"
     ]
    },
    {
     "data": {
      "application/vnd.jupyter.widget-view+json": {
       "model_id": "4e81ca55edc24b34ad4bfa7375639939",
       "version_major": 2,
       "version_minor": 0
      },
      "text/plain": [
       "Epoch 65/100:   0%|          | 0/352 [00:00<?, ?it/s]"
      ]
     },
     "metadata": {},
     "output_type": "display_data"
    },
    {
     "data": {
      "application/vnd.jupyter.widget-view+json": {
       "model_id": "47ee7c317153427898135d6c32d3804c",
       "version_major": 2,
       "version_minor": 0
      },
      "text/plain": [
       "Epoch 66/100:   0%|          | 0/352 [00:00<?, ?it/s]"
      ]
     },
     "metadata": {},
     "output_type": "display_data"
    },
    {
     "data": {
      "application/vnd.jupyter.widget-view+json": {
       "model_id": "3db3df830e26486e93cfe703bdfcc2e7",
       "version_major": 2,
       "version_minor": 0
      },
      "text/plain": [
       "Epoch 67/100:   0%|          | 0/352 [00:00<?, ?it/s]"
      ]
     },
     "metadata": {},
     "output_type": "display_data"
    },
    {
     "name": "stdout",
     "output_type": "stream",
     "text": [
      "\n",
      "Epoch 67: New best F1-weighted: 0.8741\n",
      "  F1-Macro: 0.8649, AUC-Macro: 0.0000, Accuracy: 0.8744\n",
      "Saving best model artifacts to C:\\Users\\PC\\Downloads\\Melspectrogram_finetune_NEW\\PestLarvaNet_AudioTwin_Run_4\\data_100.0percent\n"
     ]
    },
    {
     "data": {
      "application/vnd.jupyter.widget-view+json": {
       "model_id": "f4beb1be6cd24300b422f6151b589c66",
       "version_major": 2,
       "version_minor": 0
      },
      "text/plain": [
       "Epoch 68/100:   0%|          | 0/352 [00:00<?, ?it/s]"
      ]
     },
     "metadata": {},
     "output_type": "display_data"
    },
    {
     "data": {
      "application/vnd.jupyter.widget-view+json": {
       "model_id": "558a870f0d144cf3a1cacb086f5ec8de",
       "version_major": 2,
       "version_minor": 0
      },
      "text/plain": [
       "Epoch 69/100:   0%|          | 0/352 [00:00<?, ?it/s]"
      ]
     },
     "metadata": {},
     "output_type": "display_data"
    },
    {
     "name": "stdout",
     "output_type": "stream",
     "text": [
      "\n",
      "Epoch 69: New best F1-weighted: 0.8808\n",
      "  F1-Macro: 0.8712, AUC-Macro: 0.0000, Accuracy: 0.8804\n",
      "Saving best model artifacts to C:\\Users\\PC\\Downloads\\Melspectrogram_finetune_NEW\\PestLarvaNet_AudioTwin_Run_4\\data_100.0percent\n"
     ]
    },
    {
     "data": {
      "application/vnd.jupyter.widget-view+json": {
       "model_id": "1eb0b2a96027448abcb84913fcae31fa",
       "version_major": 2,
       "version_minor": 0
      },
      "text/plain": [
       "Epoch 70/100:   0%|          | 0/352 [00:00<?, ?it/s]"
      ]
     },
     "metadata": {},
     "output_type": "display_data"
    },
    {
     "name": "stdout",
     "output_type": "stream",
     "text": [
      "\n",
      "Epoch 70: New best F1-weighted: 0.8810\n",
      "  F1-Macro: 0.8736, AUC-Macro: 0.0000, Accuracy: 0.8819\n",
      "Saving best model artifacts to C:\\Users\\PC\\Downloads\\Melspectrogram_finetune_NEW\\PestLarvaNet_AudioTwin_Run_4\\data_100.0percent\n"
     ]
    },
    {
     "data": {
      "application/vnd.jupyter.widget-view+json": {
       "model_id": "78c31d7e9e404b14ab976b75ba881ec5",
       "version_major": 2,
       "version_minor": 0
      },
      "text/plain": [
       "Epoch 71/100:   0%|          | 0/352 [00:00<?, ?it/s]"
      ]
     },
     "metadata": {},
     "output_type": "display_data"
    },
    {
     "data": {
      "application/vnd.jupyter.widget-view+json": {
       "model_id": "f18609a2aeee4aa1afd2609a6eff866f",
       "version_major": 2,
       "version_minor": 0
      },
      "text/plain": [
       "Epoch 72/100:   0%|          | 0/352 [00:00<?, ?it/s]"
      ]
     },
     "metadata": {},
     "output_type": "display_data"
    },
    {
     "name": "stdout",
     "output_type": "stream",
     "text": [
      "\n",
      "Epoch 72: New best F1-weighted: 0.8821\n",
      "  F1-Macro: 0.8736, AUC-Macro: 0.0000, Accuracy: 0.8826\n",
      "Saving best model artifacts to C:\\Users\\PC\\Downloads\\Melspectrogram_finetune_NEW\\PestLarvaNet_AudioTwin_Run_4\\data_100.0percent\n"
     ]
    },
    {
     "data": {
      "application/vnd.jupyter.widget-view+json": {
       "model_id": "bd330345694b4d99827c3af080b43d29",
       "version_major": 2,
       "version_minor": 0
      },
      "text/plain": [
       "Epoch 73/100:   0%|          | 0/352 [00:00<?, ?it/s]"
      ]
     },
     "metadata": {},
     "output_type": "display_data"
    },
    {
     "data": {
      "application/vnd.jupyter.widget-view+json": {
       "model_id": "13425eab8839428fb17afb2bf9bf2d61",
       "version_major": 2,
       "version_minor": 0
      },
      "text/plain": [
       "Epoch 74/100:   0%|          | 0/352 [00:00<?, ?it/s]"
      ]
     },
     "metadata": {},
     "output_type": "display_data"
    },
    {
     "name": "stdout",
     "output_type": "stream",
     "text": [
      "\n",
      "Epoch 74: New best F1-weighted: 0.8889\n",
      "  F1-Macro: 0.8779, AUC-Macro: 0.0000, Accuracy: 0.8886\n",
      "Saving best model artifacts to C:\\Users\\PC\\Downloads\\Melspectrogram_finetune_NEW\\PestLarvaNet_AudioTwin_Run_4\\data_100.0percent\n"
     ]
    },
    {
     "data": {
      "application/vnd.jupyter.widget-view+json": {
       "model_id": "7f08a12029964885942f727d15084f68",
       "version_major": 2,
       "version_minor": 0
      },
      "text/plain": [
       "Epoch 75/100:   0%|          | 0/352 [00:00<?, ?it/s]"
      ]
     },
     "metadata": {},
     "output_type": "display_data"
    },
    {
     "data": {
      "application/vnd.jupyter.widget-view+json": {
       "model_id": "24eb8e121a2147f4868bf39147ffa561",
       "version_major": 2,
       "version_minor": 0
      },
      "text/plain": [
       "Epoch 76/100:   0%|          | 0/352 [00:00<?, ?it/s]"
      ]
     },
     "metadata": {},
     "output_type": "display_data"
    },
    {
     "data": {
      "application/vnd.jupyter.widget-view+json": {
       "model_id": "e80667e7170b4e3bac4cbe54441df842",
       "version_major": 2,
       "version_minor": 0
      },
      "text/plain": [
       "Epoch 77/100:   0%|          | 0/352 [00:00<?, ?it/s]"
      ]
     },
     "metadata": {},
     "output_type": "display_data"
    },
    {
     "data": {
      "application/vnd.jupyter.widget-view+json": {
       "model_id": "4ed0bd451f3943f182111424a952c6d3",
       "version_major": 2,
       "version_minor": 0
      },
      "text/plain": [
       "Epoch 78/100:   0%|          | 0/352 [00:00<?, ?it/s]"
      ]
     },
     "metadata": {},
     "output_type": "display_data"
    },
    {
     "data": {
      "application/vnd.jupyter.widget-view+json": {
       "model_id": "7510cd83e7b34463bf15da0252856a26",
       "version_major": 2,
       "version_minor": 0
      },
      "text/plain": [
       "Epoch 79/100:   0%|          | 0/352 [00:00<?, ?it/s]"
      ]
     },
     "metadata": {},
     "output_type": "display_data"
    },
    {
     "data": {
      "application/vnd.jupyter.widget-view+json": {
       "model_id": "81fe4758b7dd4ddc8428a852158881d2",
       "version_major": 2,
       "version_minor": 0
      },
      "text/plain": [
       "Epoch 80/100:   0%|          | 0/352 [00:00<?, ?it/s]"
      ]
     },
     "metadata": {},
     "output_type": "display_data"
    },
    {
     "data": {
      "application/vnd.jupyter.widget-view+json": {
       "model_id": "2e0c9f22f9c44471bed23d9f8b577fa0",
       "version_major": 2,
       "version_minor": 0
      },
      "text/plain": [
       "Epoch 81/100:   0%|          | 0/352 [00:00<?, ?it/s]"
      ]
     },
     "metadata": {},
     "output_type": "display_data"
    },
    {
     "name": "stdout",
     "output_type": "stream",
     "text": [
      "\n",
      "Epoch 81: New best F1-weighted: 0.8982\n",
      "  F1-Macro: 0.8913, AUC-Macro: 0.0000, Accuracy: 0.8979\n",
      "Saving best model artifacts to C:\\Users\\PC\\Downloads\\Melspectrogram_finetune_NEW\\PestLarvaNet_AudioTwin_Run_4\\data_100.0percent\n"
     ]
    },
    {
     "data": {
      "application/vnd.jupyter.widget-view+json": {
       "model_id": "5deadf9eb9064ff48bce47b2e4debe41",
       "version_major": 2,
       "version_minor": 0
      },
      "text/plain": [
       "Epoch 82/100:   0%|          | 0/352 [00:00<?, ?it/s]"
      ]
     },
     "metadata": {},
     "output_type": "display_data"
    },
    {
     "name": "stdout",
     "output_type": "stream",
     "text": [
      "\n",
      "Epoch 82: New best F1-weighted: 0.9021\n",
      "  F1-Macro: 0.8963, AUC-Macro: 0.0000, Accuracy: 0.9018\n",
      "Saving best model artifacts to C:\\Users\\PC\\Downloads\\Melspectrogram_finetune_NEW\\PestLarvaNet_AudioTwin_Run_4\\data_100.0percent\n"
     ]
    },
    {
     "data": {
      "application/vnd.jupyter.widget-view+json": {
       "model_id": "cc336df2ebbf48448d43b286bd7c4967",
       "version_major": 2,
       "version_minor": 0
      },
      "text/plain": [
       "Epoch 83/100:   0%|          | 0/352 [00:00<?, ?it/s]"
      ]
     },
     "metadata": {},
     "output_type": "display_data"
    },
    {
     "data": {
      "application/vnd.jupyter.widget-view+json": {
       "model_id": "b9b196cdc72c4e049a8c5dfffc326eb8",
       "version_major": 2,
       "version_minor": 0
      },
      "text/plain": [
       "Epoch 84/100:   0%|          | 0/352 [00:00<?, ?it/s]"
      ]
     },
     "metadata": {},
     "output_type": "display_data"
    },
    {
     "data": {
      "application/vnd.jupyter.widget-view+json": {
       "model_id": "cf27d686deac42b8a8c9d7f8bed01d3f",
       "version_major": 2,
       "version_minor": 0
      },
      "text/plain": [
       "Epoch 85/100:   0%|          | 0/352 [00:00<?, ?it/s]"
      ]
     },
     "metadata": {},
     "output_type": "display_data"
    },
    {
     "data": {
      "application/vnd.jupyter.widget-view+json": {
       "model_id": "116a16f9a54049588dffc279b4fea15d",
       "version_major": 2,
       "version_minor": 0
      },
      "text/plain": [
       "Epoch 86/100:   0%|          | 0/352 [00:00<?, ?it/s]"
      ]
     },
     "metadata": {},
     "output_type": "display_data"
    },
    {
     "name": "stdout",
     "output_type": "stream",
     "text": [
      "\n",
      "Epoch 86: New best F1-weighted: 0.9036\n",
      "  F1-Macro: 0.8969, AUC-Macro: 0.0000, Accuracy: 0.9036\n",
      "Saving best model artifacts to C:\\Users\\PC\\Downloads\\Melspectrogram_finetune_NEW\\PestLarvaNet_AudioTwin_Run_4\\data_100.0percent\n"
     ]
    },
    {
     "data": {
      "application/vnd.jupyter.widget-view+json": {
       "model_id": "f76f1bced5b742868cbbb1a7f5233ddd",
       "version_major": 2,
       "version_minor": 0
      },
      "text/plain": [
       "Epoch 87/100:   0%|          | 0/352 [00:00<?, ?it/s]"
      ]
     },
     "metadata": {},
     "output_type": "display_data"
    },
    {
     "data": {
      "application/vnd.jupyter.widget-view+json": {
       "model_id": "a2f07350eb6b4059ac400dfba8559f97",
       "version_major": 2,
       "version_minor": 0
      },
      "text/plain": [
       "Epoch 88/100:   0%|          | 0/352 [00:00<?, ?it/s]"
      ]
     },
     "metadata": {},
     "output_type": "display_data"
    },
    {
     "data": {
      "application/vnd.jupyter.widget-view+json": {
       "model_id": "0fb1ef05a75b44ba9b0a18d93a9aac5b",
       "version_major": 2,
       "version_minor": 0
      },
      "text/plain": [
       "Epoch 89/100:   0%|          | 0/352 [00:00<?, ?it/s]"
      ]
     },
     "metadata": {},
     "output_type": "display_data"
    },
    {
     "name": "stdout",
     "output_type": "stream",
     "text": [
      "\n",
      "Epoch 89: New best F1-weighted: 0.9065\n",
      "  F1-Macro: 0.8998, AUC-Macro: 0.0000, Accuracy: 0.9064\n",
      "Saving best model artifacts to C:\\Users\\PC\\Downloads\\Melspectrogram_finetune_NEW\\PestLarvaNet_AudioTwin_Run_4\\data_100.0percent\n"
     ]
    },
    {
     "data": {
      "application/vnd.jupyter.widget-view+json": {
       "model_id": "c7b996f94ee84857914a65749a7c3008",
       "version_major": 2,
       "version_minor": 0
      },
      "text/plain": [
       "Epoch 90/100:   0%|          | 0/352 [00:00<?, ?it/s]"
      ]
     },
     "metadata": {},
     "output_type": "display_data"
    },
    {
     "data": {
      "application/vnd.jupyter.widget-view+json": {
       "model_id": "9e443d191ba641f08c3da6c6c089d6d3",
       "version_major": 2,
       "version_minor": 0
      },
      "text/plain": [
       "Epoch 91/100:   0%|          | 0/352 [00:00<?, ?it/s]"
      ]
     },
     "metadata": {},
     "output_type": "display_data"
    },
    {
     "name": "stdout",
     "output_type": "stream",
     "text": [
      "\n",
      "Epoch 91: New best F1-weighted: 0.9099\n",
      "  F1-Macro: 0.9035, AUC-Macro: 0.0000, Accuracy: 0.9100\n",
      "Saving best model artifacts to C:\\Users\\PC\\Downloads\\Melspectrogram_finetune_NEW\\PestLarvaNet_AudioTwin_Run_4\\data_100.0percent\n"
     ]
    },
    {
     "data": {
      "application/vnd.jupyter.widget-view+json": {
       "model_id": "ed695bc16bfe4a6c8fb94c5bf0c393b3",
       "version_major": 2,
       "version_minor": 0
      },
      "text/plain": [
       "Epoch 92/100:   0%|          | 0/352 [00:00<?, ?it/s]"
      ]
     },
     "metadata": {},
     "output_type": "display_data"
    },
    {
     "data": {
      "application/vnd.jupyter.widget-view+json": {
       "model_id": "5f47cdcb9c79402e8e7950bd3abf6188",
       "version_major": 2,
       "version_minor": 0
      },
      "text/plain": [
       "Epoch 93/100:   0%|          | 0/352 [00:00<?, ?it/s]"
      ]
     },
     "metadata": {},
     "output_type": "display_data"
    },
    {
     "data": {
      "application/vnd.jupyter.widget-view+json": {
       "model_id": "9dad1605dbea47e58142ceb8e074da22",
       "version_major": 2,
       "version_minor": 0
      },
      "text/plain": [
       "Epoch 94/100:   0%|          | 0/352 [00:00<?, ?it/s]"
      ]
     },
     "metadata": {},
     "output_type": "display_data"
    },
    {
     "name": "stdout",
     "output_type": "stream",
     "text": [
      "\n",
      "Epoch 94: New best F1-weighted: 0.9111\n",
      "  F1-Macro: 0.9046, AUC-Macro: 0.0000, Accuracy: 0.9110\n",
      "Saving best model artifacts to C:\\Users\\PC\\Downloads\\Melspectrogram_finetune_NEW\\PestLarvaNet_AudioTwin_Run_4\\data_100.0percent\n"
     ]
    },
    {
     "data": {
      "application/vnd.jupyter.widget-view+json": {
       "model_id": "9f7ddafbee334f1ea80a3ec0c54adaeb",
       "version_major": 2,
       "version_minor": 0
      },
      "text/plain": [
       "Epoch 95/100:   0%|          | 0/352 [00:00<?, ?it/s]"
      ]
     },
     "metadata": {},
     "output_type": "display_data"
    },
    {
     "data": {
      "application/vnd.jupyter.widget-view+json": {
       "model_id": "50320be71ccb45c89c3e40c581a602cf",
       "version_major": 2,
       "version_minor": 0
      },
      "text/plain": [
       "Epoch 96/100:   0%|          | 0/352 [00:00<?, ?it/s]"
      ]
     },
     "metadata": {},
     "output_type": "display_data"
    },
    {
     "name": "stdout",
     "output_type": "stream",
     "text": [
      "\n",
      "Epoch 96: New best F1-weighted: 0.9135\n",
      "  F1-Macro: 0.9093, AUC-Macro: 0.0000, Accuracy: 0.9132\n",
      "Saving best model artifacts to C:\\Users\\PC\\Downloads\\Melspectrogram_finetune_NEW\\PestLarvaNet_AudioTwin_Run_4\\data_100.0percent\n"
     ]
    },
    {
     "data": {
      "application/vnd.jupyter.widget-view+json": {
       "model_id": "9f46f34fb10445f0a63437e0b9b70678",
       "version_major": 2,
       "version_minor": 0
      },
      "text/plain": [
       "Epoch 97/100:   0%|          | 0/352 [00:00<?, ?it/s]"
      ]
     },
     "metadata": {},
     "output_type": "display_data"
    },
    {
     "data": {
      "application/vnd.jupyter.widget-view+json": {
       "model_id": "412a14b093504e86b5d40004f6516afe",
       "version_major": 2,
       "version_minor": 0
      },
      "text/plain": [
       "Epoch 98/100:   0%|          | 0/352 [00:00<?, ?it/s]"
      ]
     },
     "metadata": {},
     "output_type": "display_data"
    },
    {
     "name": "stdout",
     "output_type": "stream",
     "text": [
      "\n",
      "Epoch 98: New best F1-weighted: 0.9144\n",
      "  F1-Macro: 0.9082, AUC-Macro: 0.0000, Accuracy: 0.9142\n",
      "Saving best model artifacts to C:\\Users\\PC\\Downloads\\Melspectrogram_finetune_NEW\\PestLarvaNet_AudioTwin_Run_4\\data_100.0percent\n"
     ]
    },
    {
     "data": {
      "application/vnd.jupyter.widget-view+json": {
       "model_id": "dd665592d108490e8eb3c5a2339d7448",
       "version_major": 2,
       "version_minor": 0
      },
      "text/plain": [
       "Epoch 99/100:   0%|          | 0/352 [00:00<?, ?it/s]"
      ]
     },
     "metadata": {},
     "output_type": "display_data"
    },
    {
     "data": {
      "application/vnd.jupyter.widget-view+json": {
       "model_id": "00e7ba38b6f4491bb7c6232488c49062",
       "version_major": 2,
       "version_minor": 0
      },
      "text/plain": [
       "Epoch 100/100:   0%|          | 0/352 [00:00<?, ?it/s]"
      ]
     },
     "metadata": {},
     "output_type": "display_data"
    },
    {
     "name": "stdout",
     "output_type": "stream",
     "text": [
      "Finished Training for this run. Best F1-weighted: 0.9144\n",
      "==> Results with 100.0% data: Best F1-Weighted = 0.9144\n",
      "\n",
      "==================== Evaluating: PestLarvaNet (AudioTwin Run 5) ====================\n",
      "Lưu kết quả của model này vào: C:\\Users\\PC\\Downloads\\Melspectrogram_finetune_NEW\\PestLarvaNet_AudioTwin_Run_5\n",
      "--- Training with 25.0% of labeled data ---\n",
      "Loading pretrained weights from: C:\\Users\\PC\\PestLarvaNet\\SSL\\audiotwin_checkpoints_medium\\Final checkpoint\\run_5_lp1e-02_ep1e-06_lb0.010_audiotwin_pestlarvanet_medium_epoch_100.pth\n"
     ]
    },
    {
     "name": "stderr",
     "output_type": "stream",
     "text": [
      "C:\\Users\\PC\\anaconda3\\envs\\FallDeteNet\\lib\\site-packages\\torch\\optim\\lr_scheduler.py:62: UserWarning: The verbose parameter is deprecated. Please use get_last_lr() to access the learning rate.\n",
      "  warnings.warn(\n"
     ]
    },
    {
     "data": {
      "application/vnd.jupyter.widget-view+json": {
       "model_id": "503505ef99a548c6ab09263008376fe2",
       "version_major": 2,
       "version_minor": 0
      },
      "text/plain": [
       "Epoch 1/100:   0%|          | 0/88 [00:00<?, ?it/s]"
      ]
     },
     "metadata": {},
     "output_type": "display_data"
    },
    {
     "name": "stdout",
     "output_type": "stream",
     "text": [
      "\n",
      "Epoch 1: New best F1-weighted: 0.4278\n",
      "  F1-Macro: 0.3607, AUC-Macro: 0.0000, Accuracy: 0.4964\n",
      "Saving best model artifacts to C:\\Users\\PC\\Downloads\\Melspectrogram_finetune_NEW\\PestLarvaNet_AudioTwin_Run_5\\data_25.0percent\n"
     ]
    },
    {
     "data": {
      "application/vnd.jupyter.widget-view+json": {
       "model_id": "cf23e2c8c88e41c3b59174e9eef15087",
       "version_major": 2,
       "version_minor": 0
      },
      "text/plain": [
       "Epoch 2/100:   0%|          | 0/88 [00:00<?, ?it/s]"
      ]
     },
     "metadata": {},
     "output_type": "display_data"
    },
    {
     "data": {
      "application/vnd.jupyter.widget-view+json": {
       "model_id": "eebfe2b55dff47e0b5b604f8995da8b1",
       "version_major": 2,
       "version_minor": 0
      },
      "text/plain": [
       "Epoch 3/100:   0%|          | 0/88 [00:00<?, ?it/s]"
      ]
     },
     "metadata": {},
     "output_type": "display_data"
    },
    {
     "name": "stdout",
     "output_type": "stream",
     "text": [
      "\n",
      "Epoch 3: New best F1-weighted: 0.5099\n",
      "  F1-Macro: 0.4384, AUC-Macro: 0.0000, Accuracy: 0.5523\n",
      "Saving best model artifacts to C:\\Users\\PC\\Downloads\\Melspectrogram_finetune_NEW\\PestLarvaNet_AudioTwin_Run_5\\data_25.0percent\n"
     ]
    },
    {
     "data": {
      "application/vnd.jupyter.widget-view+json": {
       "model_id": "3fd0596ea967431898870dde57c4d852",
       "version_major": 2,
       "version_minor": 0
      },
      "text/plain": [
       "Epoch 4/100:   0%|          | 0/88 [00:00<?, ?it/s]"
      ]
     },
     "metadata": {},
     "output_type": "display_data"
    },
    {
     "data": {
      "application/vnd.jupyter.widget-view+json": {
       "model_id": "bf969d531a8f43389ea5ee4f977ebbb0",
       "version_major": 2,
       "version_minor": 0
      },
      "text/plain": [
       "Epoch 5/100:   0%|          | 0/88 [00:00<?, ?it/s]"
      ]
     },
     "metadata": {},
     "output_type": "display_data"
    },
    {
     "name": "stdout",
     "output_type": "stream",
     "text": [
      "\n",
      "Epoch 5: New best F1-weighted: 0.5174\n",
      "  F1-Macro: 0.4510, AUC-Macro: 0.0000, Accuracy: 0.5480\n",
      "Saving best model artifacts to C:\\Users\\PC\\Downloads\\Melspectrogram_finetune_NEW\\PestLarvaNet_AudioTwin_Run_5\\data_25.0percent\n"
     ]
    },
    {
     "data": {
      "application/vnd.jupyter.widget-view+json": {
       "model_id": "2eaacf05dc83423cb1eb32cfa1c7e612",
       "version_major": 2,
       "version_minor": 0
      },
      "text/plain": [
       "Epoch 6/100:   0%|          | 0/88 [00:00<?, ?it/s]"
      ]
     },
     "metadata": {},
     "output_type": "display_data"
    },
    {
     "name": "stdout",
     "output_type": "stream",
     "text": [
      "\n",
      "Epoch 6: New best F1-weighted: 0.5304\n",
      "  F1-Macro: 0.4471, AUC-Macro: 0.0000, Accuracy: 0.5769\n",
      "Saving best model artifacts to C:\\Users\\PC\\Downloads\\Melspectrogram_finetune_NEW\\PestLarvaNet_AudioTwin_Run_5\\data_25.0percent\n"
     ]
    },
    {
     "data": {
      "application/vnd.jupyter.widget-view+json": {
       "model_id": "d541fbf370b046ee8ed5bb74cfcf91d0",
       "version_major": 2,
       "version_minor": 0
      },
      "text/plain": [
       "Epoch 7/100:   0%|          | 0/88 [00:00<?, ?it/s]"
      ]
     },
     "metadata": {},
     "output_type": "display_data"
    },
    {
     "data": {
      "application/vnd.jupyter.widget-view+json": {
       "model_id": "aa5a8f911bbf4d40b21526642cec6cbb",
       "version_major": 2,
       "version_minor": 0
      },
      "text/plain": [
       "Epoch 8/100:   0%|          | 0/88 [00:00<?, ?it/s]"
      ]
     },
     "metadata": {},
     "output_type": "display_data"
    },
    {
     "name": "stdout",
     "output_type": "stream",
     "text": [
      "\n",
      "Epoch 8: New best F1-weighted: 0.5357\n",
      "  F1-Macro: 0.4633, AUC-Macro: 0.0000, Accuracy: 0.5712\n",
      "Saving best model artifacts to C:\\Users\\PC\\Downloads\\Melspectrogram_finetune_NEW\\PestLarvaNet_AudioTwin_Run_5\\data_25.0percent\n"
     ]
    },
    {
     "data": {
      "application/vnd.jupyter.widget-view+json": {
       "model_id": "056d2e4f90044ca2b9b3db9368c05ed2",
       "version_major": 2,
       "version_minor": 0
      },
      "text/plain": [
       "Epoch 9/100:   0%|          | 0/88 [00:00<?, ?it/s]"
      ]
     },
     "metadata": {},
     "output_type": "display_data"
    },
    {
     "data": {
      "application/vnd.jupyter.widget-view+json": {
       "model_id": "2de6d2a8689d4c45ad4074410dfccc2b",
       "version_major": 2,
       "version_minor": 0
      },
      "text/plain": [
       "Epoch 10/100:   0%|          | 0/88 [00:00<?, ?it/s]"
      ]
     },
     "metadata": {},
     "output_type": "display_data"
    },
    {
     "data": {
      "application/vnd.jupyter.widget-view+json": {
       "model_id": "2091e78f145a4d45b100cef5cb776dbe",
       "version_major": 2,
       "version_minor": 0
      },
      "text/plain": [
       "Epoch 11/100:   0%|          | 0/88 [00:00<?, ?it/s]"
      ]
     },
     "metadata": {},
     "output_type": "display_data"
    },
    {
     "data": {
      "application/vnd.jupyter.widget-view+json": {
       "model_id": "5b942ac865ec40808163cb0ec6005b30",
       "version_major": 2,
       "version_minor": 0
      },
      "text/plain": [
       "Epoch 12/100:   0%|          | 0/88 [00:00<?, ?it/s]"
      ]
     },
     "metadata": {},
     "output_type": "display_data"
    },
    {
     "name": "stdout",
     "output_type": "stream",
     "text": [
      "\n",
      "Epoch 12: New best F1-weighted: 0.5380\n",
      "  F1-Macro: 0.4678, AUC-Macro: 0.0000, Accuracy: 0.5790\n",
      "Saving best model artifacts to C:\\Users\\PC\\Downloads\\Melspectrogram_finetune_NEW\\PestLarvaNet_AudioTwin_Run_5\\data_25.0percent\n"
     ]
    },
    {
     "data": {
      "application/vnd.jupyter.widget-view+json": {
       "model_id": "7d76819ad6294e068e81d189a2893f0d",
       "version_major": 2,
       "version_minor": 0
      },
      "text/plain": [
       "Epoch 13/100:   0%|          | 0/88 [00:00<?, ?it/s]"
      ]
     },
     "metadata": {},
     "output_type": "display_data"
    },
    {
     "name": "stdout",
     "output_type": "stream",
     "text": [
      "\n",
      "Epoch 13: New best F1-weighted: 0.5595\n",
      "  F1-Macro: 0.4817, AUC-Macro: 0.0000, Accuracy: 0.5961\n",
      "Saving best model artifacts to C:\\Users\\PC\\Downloads\\Melspectrogram_finetune_NEW\\PestLarvaNet_AudioTwin_Run_5\\data_25.0percent\n"
     ]
    },
    {
     "data": {
      "application/vnd.jupyter.widget-view+json": {
       "model_id": "5c315655d24c4810a0e6c0512f90e25c",
       "version_major": 2,
       "version_minor": 0
      },
      "text/plain": [
       "Epoch 14/100:   0%|          | 0/88 [00:00<?, ?it/s]"
      ]
     },
     "metadata": {},
     "output_type": "display_data"
    },
    {
     "data": {
      "application/vnd.jupyter.widget-view+json": {
       "model_id": "edb07790a5ac4d8fad5a95d86a720f8b",
       "version_major": 2,
       "version_minor": 0
      },
      "text/plain": [
       "Epoch 15/100:   0%|          | 0/88 [00:00<?, ?it/s]"
      ]
     },
     "metadata": {},
     "output_type": "display_data"
    },
    {
     "name": "stdout",
     "output_type": "stream",
     "text": [
      "\n",
      "Epoch 15: New best F1-weighted: 0.5726\n",
      "  F1-Macro: 0.4944, AUC-Macro: 0.0000, Accuracy: 0.6053\n",
      "Saving best model artifacts to C:\\Users\\PC\\Downloads\\Melspectrogram_finetune_NEW\\PestLarvaNet_AudioTwin_Run_5\\data_25.0percent\n"
     ]
    },
    {
     "data": {
      "application/vnd.jupyter.widget-view+json": {
       "model_id": "873b12f14ad249d4835888129b092227",
       "version_major": 2,
       "version_minor": 0
      },
      "text/plain": [
       "Epoch 16/100:   0%|          | 0/88 [00:00<?, ?it/s]"
      ]
     },
     "metadata": {},
     "output_type": "display_data"
    },
    {
     "data": {
      "application/vnd.jupyter.widget-view+json": {
       "model_id": "88be0b64251d439fa44c8c741762326b",
       "version_major": 2,
       "version_minor": 0
      },
      "text/plain": [
       "Epoch 17/100:   0%|          | 0/88 [00:00<?, ?it/s]"
      ]
     },
     "metadata": {},
     "output_type": "display_data"
    },
    {
     "data": {
      "application/vnd.jupyter.widget-view+json": {
       "model_id": "d65c423ce61c409d89be5b90941d7038",
       "version_major": 2,
       "version_minor": 0
      },
      "text/plain": [
       "Epoch 18/100:   0%|          | 0/88 [00:00<?, ?it/s]"
      ]
     },
     "metadata": {},
     "output_type": "display_data"
    },
    {
     "data": {
      "application/vnd.jupyter.widget-view+json": {
       "model_id": "9812420f17424afa999d2f0a704e4928",
       "version_major": 2,
       "version_minor": 0
      },
      "text/plain": [
       "Epoch 19/100:   0%|          | 0/88 [00:00<?, ?it/s]"
      ]
     },
     "metadata": {},
     "output_type": "display_data"
    },
    {
     "data": {
      "application/vnd.jupyter.widget-view+json": {
       "model_id": "b381ef5062854da2b35a803920666394",
       "version_major": 2,
       "version_minor": 0
      },
      "text/plain": [
       "Epoch 20/100:   0%|          | 0/88 [00:00<?, ?it/s]"
      ]
     },
     "metadata": {},
     "output_type": "display_data"
    },
    {
     "data": {
      "application/vnd.jupyter.widget-view+json": {
       "model_id": "9aa9ee513f134d7880877cc64bb465a4",
       "version_major": 2,
       "version_minor": 0
      },
      "text/plain": [
       "Epoch 21/100:   0%|          | 0/88 [00:00<?, ?it/s]"
      ]
     },
     "metadata": {},
     "output_type": "display_data"
    },
    {
     "name": "stdout",
     "output_type": "stream",
     "text": [
      "\n",
      "Epoch 21: New best F1-weighted: 0.5846\n",
      "  F1-Macro: 0.5125, AUC-Macro: 0.0000, Accuracy: 0.6203\n",
      "Saving best model artifacts to C:\\Users\\PC\\Downloads\\Melspectrogram_finetune_NEW\\PestLarvaNet_AudioTwin_Run_5\\data_25.0percent\n"
     ]
    },
    {
     "data": {
      "application/vnd.jupyter.widget-view+json": {
       "model_id": "524dd7e116784dd985484eeb32669bbd",
       "version_major": 2,
       "version_minor": 0
      },
      "text/plain": [
       "Epoch 22/100:   0%|          | 0/88 [00:00<?, ?it/s]"
      ]
     },
     "metadata": {},
     "output_type": "display_data"
    },
    {
     "name": "stdout",
     "output_type": "stream",
     "text": [
      "\n",
      "Epoch 22: New best F1-weighted: 0.5854\n",
      "  F1-Macro: 0.5142, AUC-Macro: 0.0000, Accuracy: 0.6128\n",
      "Saving best model artifacts to C:\\Users\\PC\\Downloads\\Melspectrogram_finetune_NEW\\PestLarvaNet_AudioTwin_Run_5\\data_25.0percent\n"
     ]
    },
    {
     "data": {
      "application/vnd.jupyter.widget-view+json": {
       "model_id": "e82e9db130bb40b68334d3aa27593aaa",
       "version_major": 2,
       "version_minor": 0
      },
      "text/plain": [
       "Epoch 23/100:   0%|          | 0/88 [00:00<?, ?it/s]"
      ]
     },
     "metadata": {},
     "output_type": "display_data"
    },
    {
     "data": {
      "application/vnd.jupyter.widget-view+json": {
       "model_id": "07627daa4ec94751a5fb0ed50f7d72b3",
       "version_major": 2,
       "version_minor": 0
      },
      "text/plain": [
       "Epoch 24/100:   0%|          | 0/88 [00:00<?, ?it/s]"
      ]
     },
     "metadata": {},
     "output_type": "display_data"
    },
    {
     "name": "stdout",
     "output_type": "stream",
     "text": [
      "\n",
      "Epoch 24: New best F1-weighted: 0.5923\n",
      "  F1-Macro: 0.5193, AUC-Macro: 0.0000, Accuracy: 0.6246\n",
      "Saving best model artifacts to C:\\Users\\PC\\Downloads\\Melspectrogram_finetune_NEW\\PestLarvaNet_AudioTwin_Run_5\\data_25.0percent\n"
     ]
    },
    {
     "data": {
      "application/vnd.jupyter.widget-view+json": {
       "model_id": "9db649d7ad004d7593987f2493187008",
       "version_major": 2,
       "version_minor": 0
      },
      "text/plain": [
       "Epoch 25/100:   0%|          | 0/88 [00:00<?, ?it/s]"
      ]
     },
     "metadata": {},
     "output_type": "display_data"
    },
    {
     "data": {
      "application/vnd.jupyter.widget-view+json": {
       "model_id": "a790c5e6f76f45e5b884ee5b5861bc72",
       "version_major": 2,
       "version_minor": 0
      },
      "text/plain": [
       "Epoch 26/100:   0%|          | 0/88 [00:00<?, ?it/s]"
      ]
     },
     "metadata": {},
     "output_type": "display_data"
    },
    {
     "data": {
      "application/vnd.jupyter.widget-view+json": {
       "model_id": "d4ae78363bea423dae55d73454acd6b8",
       "version_major": 2,
       "version_minor": 0
      },
      "text/plain": [
       "Epoch 27/100:   0%|          | 0/88 [00:00<?, ?it/s]"
      ]
     },
     "metadata": {},
     "output_type": "display_data"
    },
    {
     "name": "stdout",
     "output_type": "stream",
     "text": [
      "\n",
      "Epoch 27: New best F1-weighted: 0.6254\n",
      "  F1-Macro: 0.5704, AUC-Macro: 0.0000, Accuracy: 0.6427\n",
      "Saving best model artifacts to C:\\Users\\PC\\Downloads\\Melspectrogram_finetune_NEW\\PestLarvaNet_AudioTwin_Run_5\\data_25.0percent\n"
     ]
    },
    {
     "data": {
      "application/vnd.jupyter.widget-view+json": {
       "model_id": "40d3c84c9b384a2c9727ce6d59028839",
       "version_major": 2,
       "version_minor": 0
      },
      "text/plain": [
       "Epoch 28/100:   0%|          | 0/88 [00:00<?, ?it/s]"
      ]
     },
     "metadata": {},
     "output_type": "display_data"
    },
    {
     "data": {
      "application/vnd.jupyter.widget-view+json": {
       "model_id": "101e6db710a6404594a82d5570bc9f4a",
       "version_major": 2,
       "version_minor": 0
      },
      "text/plain": [
       "Epoch 29/100:   0%|          | 0/88 [00:00<?, ?it/s]"
      ]
     },
     "metadata": {},
     "output_type": "display_data"
    },
    {
     "data": {
      "application/vnd.jupyter.widget-view+json": {
       "model_id": "452711fd272745d4b9a1c6b4546aa7d3",
       "version_major": 2,
       "version_minor": 0
      },
      "text/plain": [
       "Epoch 30/100:   0%|          | 0/88 [00:00<?, ?it/s]"
      ]
     },
     "metadata": {},
     "output_type": "display_data"
    },
    {
     "name": "stdout",
     "output_type": "stream",
     "text": [
      "\n",
      "Epoch 30: New best F1-weighted: 0.6289\n",
      "  F1-Macro: 0.5743, AUC-Macro: 0.0000, Accuracy: 0.6452\n",
      "Saving best model artifacts to C:\\Users\\PC\\Downloads\\Melspectrogram_finetune_NEW\\PestLarvaNet_AudioTwin_Run_5\\data_25.0percent\n"
     ]
    },
    {
     "data": {
      "application/vnd.jupyter.widget-view+json": {
       "model_id": "73185b7d35c44b67bb9e877f9e406e04",
       "version_major": 2,
       "version_minor": 0
      },
      "text/plain": [
       "Epoch 31/100:   0%|          | 0/88 [00:00<?, ?it/s]"
      ]
     },
     "metadata": {},
     "output_type": "display_data"
    },
    {
     "data": {
      "application/vnd.jupyter.widget-view+json": {
       "model_id": "8268daaf8dd04a87a113076e1574e6a3",
       "version_major": 2,
       "version_minor": 0
      },
      "text/plain": [
       "Epoch 32/100:   0%|          | 0/88 [00:00<?, ?it/s]"
      ]
     },
     "metadata": {},
     "output_type": "display_data"
    },
    {
     "data": {
      "application/vnd.jupyter.widget-view+json": {
       "model_id": "4a9472badea24a2c858301c964090555",
       "version_major": 2,
       "version_minor": 0
      },
      "text/plain": [
       "Epoch 33/100:   0%|          | 0/88 [00:00<?, ?it/s]"
      ]
     },
     "metadata": {},
     "output_type": "display_data"
    },
    {
     "data": {
      "application/vnd.jupyter.widget-view+json": {
       "model_id": "e8895bf264c14390b958edb89ed5cd6d",
       "version_major": 2,
       "version_minor": 0
      },
      "text/plain": [
       "Epoch 34/100:   0%|          | 0/88 [00:00<?, ?it/s]"
      ]
     },
     "metadata": {},
     "output_type": "display_data"
    },
    {
     "data": {
      "application/vnd.jupyter.widget-view+json": {
       "model_id": "5596211e63c44c8eb26e9023cbfa2529",
       "version_major": 2,
       "version_minor": 0
      },
      "text/plain": [
       "Epoch 35/100:   0%|          | 0/88 [00:00<?, ?it/s]"
      ]
     },
     "metadata": {},
     "output_type": "display_data"
    },
    {
     "name": "stdout",
     "output_type": "stream",
     "text": [
      "\n",
      "Epoch 35: New best F1-weighted: 0.6300\n",
      "  F1-Macro: 0.5750, AUC-Macro: 0.0000, Accuracy: 0.6520\n",
      "Saving best model artifacts to C:\\Users\\PC\\Downloads\\Melspectrogram_finetune_NEW\\PestLarvaNet_AudioTwin_Run_5\\data_25.0percent\n"
     ]
    },
    {
     "data": {
      "application/vnd.jupyter.widget-view+json": {
       "model_id": "7ee4ce7da4084e1fb96686ac9a9df4b8",
       "version_major": 2,
       "version_minor": 0
      },
      "text/plain": [
       "Epoch 36/100:   0%|          | 0/88 [00:00<?, ?it/s]"
      ]
     },
     "metadata": {},
     "output_type": "display_data"
    },
    {
     "data": {
      "application/vnd.jupyter.widget-view+json": {
       "model_id": "b7a3170e61764690907aa7e725ca48fe",
       "version_major": 2,
       "version_minor": 0
      },
      "text/plain": [
       "Epoch 37/100:   0%|          | 0/88 [00:00<?, ?it/s]"
      ]
     },
     "metadata": {},
     "output_type": "display_data"
    },
    {
     "data": {
      "application/vnd.jupyter.widget-view+json": {
       "model_id": "3d01eb7990b3481daae8271d239bb22d",
       "version_major": 2,
       "version_minor": 0
      },
      "text/plain": [
       "Epoch 38/100:   0%|          | 0/88 [00:00<?, ?it/s]"
      ]
     },
     "metadata": {},
     "output_type": "display_data"
    },
    {
     "data": {
      "application/vnd.jupyter.widget-view+json": {
       "model_id": "6714e188b6d14f0da9b35b2efee7622b",
       "version_major": 2,
       "version_minor": 0
      },
      "text/plain": [
       "Epoch 39/100:   0%|          | 0/88 [00:00<?, ?it/s]"
      ]
     },
     "metadata": {},
     "output_type": "display_data"
    },
    {
     "data": {
      "application/vnd.jupyter.widget-view+json": {
       "model_id": "4d26836d52734be2975bf61d583d4e2d",
       "version_major": 2,
       "version_minor": 0
      },
      "text/plain": [
       "Epoch 40/100:   0%|          | 0/88 [00:00<?, ?it/s]"
      ]
     },
     "metadata": {},
     "output_type": "display_data"
    },
    {
     "data": {
      "application/vnd.jupyter.widget-view+json": {
       "model_id": "fe9a588cd14a436d8ed0cd9766438afb",
       "version_major": 2,
       "version_minor": 0
      },
      "text/plain": [
       "Epoch 41/100:   0%|          | 0/88 [00:00<?, ?it/s]"
      ]
     },
     "metadata": {},
     "output_type": "display_data"
    },
    {
     "name": "stdout",
     "output_type": "stream",
     "text": [
      "\n",
      "Epoch 41: New best F1-weighted: 0.6329\n",
      "  F1-Macro: 0.5776, AUC-Macro: 0.0000, Accuracy: 0.6427\n",
      "Saving best model artifacts to C:\\Users\\PC\\Downloads\\Melspectrogram_finetune_NEW\\PestLarvaNet_AudioTwin_Run_5\\data_25.0percent\n"
     ]
    },
    {
     "data": {
      "application/vnd.jupyter.widget-view+json": {
       "model_id": "38de514746ea4946b8c58779c881c53b",
       "version_major": 2,
       "version_minor": 0
      },
      "text/plain": [
       "Epoch 42/100:   0%|          | 0/88 [00:00<?, ?it/s]"
      ]
     },
     "metadata": {},
     "output_type": "display_data"
    },
    {
     "data": {
      "application/vnd.jupyter.widget-view+json": {
       "model_id": "a80819ff070c435c9a93e0b38db6f8c3",
       "version_major": 2,
       "version_minor": 0
      },
      "text/plain": [
       "Epoch 43/100:   0%|          | 0/88 [00:00<?, ?it/s]"
      ]
     },
     "metadata": {},
     "output_type": "display_data"
    },
    {
     "data": {
      "application/vnd.jupyter.widget-view+json": {
       "model_id": "d75bdcbcb47a4ce48730dee3d373052e",
       "version_major": 2,
       "version_minor": 0
      },
      "text/plain": [
       "Epoch 44/100:   0%|          | 0/88 [00:00<?, ?it/s]"
      ]
     },
     "metadata": {},
     "output_type": "display_data"
    },
    {
     "data": {
      "application/vnd.jupyter.widget-view+json": {
       "model_id": "233d45a853254b1ea959a555c906ed63",
       "version_major": 2,
       "version_minor": 0
      },
      "text/plain": [
       "Epoch 45/100:   0%|          | 0/88 [00:00<?, ?it/s]"
      ]
     },
     "metadata": {},
     "output_type": "display_data"
    },
    {
     "data": {
      "application/vnd.jupyter.widget-view+json": {
       "model_id": "206aeaee70a24a59aa5b0cfd069b1e18",
       "version_major": 2,
       "version_minor": 0
      },
      "text/plain": [
       "Epoch 46/100:   0%|          | 0/88 [00:00<?, ?it/s]"
      ]
     },
     "metadata": {},
     "output_type": "display_data"
    },
    {
     "name": "stdout",
     "output_type": "stream",
     "text": [
      "\n",
      "Epoch 46: New best F1-weighted: 0.6414\n",
      "  F1-Macro: 0.5819, AUC-Macro: 0.0000, Accuracy: 0.6594\n",
      "Saving best model artifacts to C:\\Users\\PC\\Downloads\\Melspectrogram_finetune_NEW\\PestLarvaNet_AudioTwin_Run_5\\data_25.0percent\n"
     ]
    },
    {
     "data": {
      "application/vnd.jupyter.widget-view+json": {
       "model_id": "ac92e9b73d0547cabd9032211235cf19",
       "version_major": 2,
       "version_minor": 0
      },
      "text/plain": [
       "Epoch 47/100:   0%|          | 0/88 [00:00<?, ?it/s]"
      ]
     },
     "metadata": {},
     "output_type": "display_data"
    },
    {
     "data": {
      "application/vnd.jupyter.widget-view+json": {
       "model_id": "4dcf12ff9d7f4c27bcfb86a3f2b10d28",
       "version_major": 2,
       "version_minor": 0
      },
      "text/plain": [
       "Epoch 48/100:   0%|          | 0/88 [00:00<?, ?it/s]"
      ]
     },
     "metadata": {},
     "output_type": "display_data"
    },
    {
     "data": {
      "application/vnd.jupyter.widget-view+json": {
       "model_id": "cfae959606294e559db26bda37507eaa",
       "version_major": 2,
       "version_minor": 0
      },
      "text/plain": [
       "Epoch 49/100:   0%|          | 0/88 [00:00<?, ?it/s]"
      ]
     },
     "metadata": {},
     "output_type": "display_data"
    },
    {
     "name": "stdout",
     "output_type": "stream",
     "text": [
      "\n",
      "Epoch 49: New best F1-weighted: 0.6581\n",
      "  F1-Macro: 0.6070, AUC-Macro: 0.0000, Accuracy: 0.6683\n",
      "Saving best model artifacts to C:\\Users\\PC\\Downloads\\Melspectrogram_finetune_NEW\\PestLarvaNet_AudioTwin_Run_5\\data_25.0percent\n"
     ]
    },
    {
     "data": {
      "application/vnd.jupyter.widget-view+json": {
       "model_id": "9d1cd7d032a244a3a7cd9011d80c2511",
       "version_major": 2,
       "version_minor": 0
      },
      "text/plain": [
       "Epoch 50/100:   0%|          | 0/88 [00:00<?, ?it/s]"
      ]
     },
     "metadata": {},
     "output_type": "display_data"
    },
    {
     "data": {
      "application/vnd.jupyter.widget-view+json": {
       "model_id": "0917b5bb723a4b4fb567034700b1ada4",
       "version_major": 2,
       "version_minor": 0
      },
      "text/plain": [
       "Epoch 51/100:   0%|          | 0/88 [00:00<?, ?it/s]"
      ]
     },
     "metadata": {},
     "output_type": "display_data"
    },
    {
     "data": {
      "application/vnd.jupyter.widget-view+json": {
       "model_id": "3720a286d6734009a55c8d1bf31f2acd",
       "version_major": 2,
       "version_minor": 0
      },
      "text/plain": [
       "Epoch 52/100:   0%|          | 0/88 [00:00<?, ?it/s]"
      ]
     },
     "metadata": {},
     "output_type": "display_data"
    },
    {
     "name": "stdout",
     "output_type": "stream",
     "text": [
      "\n",
      "Epoch 52: New best F1-weighted: 0.6584\n",
      "  F1-Macro: 0.6039, AUC-Macro: 0.0000, Accuracy: 0.6815\n",
      "Saving best model artifacts to C:\\Users\\PC\\Downloads\\Melspectrogram_finetune_NEW\\PestLarvaNet_AudioTwin_Run_5\\data_25.0percent\n"
     ]
    },
    {
     "data": {
      "application/vnd.jupyter.widget-view+json": {
       "model_id": "619e00b8efe8429f8d6b64943aefc447",
       "version_major": 2,
       "version_minor": 0
      },
      "text/plain": [
       "Epoch 53/100:   0%|          | 0/88 [00:00<?, ?it/s]"
      ]
     },
     "metadata": {},
     "output_type": "display_data"
    },
    {
     "data": {
      "application/vnd.jupyter.widget-view+json": {
       "model_id": "3b035948ed8b4f34aeadc3f35ffcaf0c",
       "version_major": 2,
       "version_minor": 0
      },
      "text/plain": [
       "Epoch 54/100:   0%|          | 0/88 [00:00<?, ?it/s]"
      ]
     },
     "metadata": {},
     "output_type": "display_data"
    },
    {
     "name": "stdout",
     "output_type": "stream",
     "text": [
      "\n",
      "Epoch 54: New best F1-weighted: 0.6644\n",
      "  F1-Macro: 0.6141, AUC-Macro: 0.0000, Accuracy: 0.6843\n",
      "Saving best model artifacts to C:\\Users\\PC\\Downloads\\Melspectrogram_finetune_NEW\\PestLarvaNet_AudioTwin_Run_5\\data_25.0percent\n"
     ]
    },
    {
     "data": {
      "application/vnd.jupyter.widget-view+json": {
       "model_id": "475eede5edbd4de1bff07385f961ec59",
       "version_major": 2,
       "version_minor": 0
      },
      "text/plain": [
       "Epoch 55/100:   0%|          | 0/88 [00:00<?, ?it/s]"
      ]
     },
     "metadata": {},
     "output_type": "display_data"
    },
    {
     "data": {
      "application/vnd.jupyter.widget-view+json": {
       "model_id": "027263db859b402fa0265ff77fcb4f63",
       "version_major": 2,
       "version_minor": 0
      },
      "text/plain": [
       "Epoch 56/100:   0%|          | 0/88 [00:00<?, ?it/s]"
      ]
     },
     "metadata": {},
     "output_type": "display_data"
    },
    {
     "name": "stdout",
     "output_type": "stream",
     "text": [
      "\n",
      "Epoch 56: New best F1-weighted: 0.6790\n",
      "  F1-Macro: 0.6337, AUC-Macro: 0.0000, Accuracy: 0.6964\n",
      "Saving best model artifacts to C:\\Users\\PC\\Downloads\\Melspectrogram_finetune_NEW\\PestLarvaNet_AudioTwin_Run_5\\data_25.0percent\n"
     ]
    },
    {
     "data": {
      "application/vnd.jupyter.widget-view+json": {
       "model_id": "962c84c1498c4e41917d840634c3ed9c",
       "version_major": 2,
       "version_minor": 0
      },
      "text/plain": [
       "Epoch 57/100:   0%|          | 0/88 [00:00<?, ?it/s]"
      ]
     },
     "metadata": {},
     "output_type": "display_data"
    },
    {
     "data": {
      "application/vnd.jupyter.widget-view+json": {
       "model_id": "e0987fa500844b25a96780b84a352127",
       "version_major": 2,
       "version_minor": 0
      },
      "text/plain": [
       "Epoch 58/100:   0%|          | 0/88 [00:00<?, ?it/s]"
      ]
     },
     "metadata": {},
     "output_type": "display_data"
    },
    {
     "data": {
      "application/vnd.jupyter.widget-view+json": {
       "model_id": "5e89dc875bb14b44b154a9c58cdc4312",
       "version_major": 2,
       "version_minor": 0
      },
      "text/plain": [
       "Epoch 59/100:   0%|          | 0/88 [00:00<?, ?it/s]"
      ]
     },
     "metadata": {},
     "output_type": "display_data"
    },
    {
     "data": {
      "application/vnd.jupyter.widget-view+json": {
       "model_id": "7ad512c201e44237b8f5329df98e71f5",
       "version_major": 2,
       "version_minor": 0
      },
      "text/plain": [
       "Epoch 60/100:   0%|          | 0/88 [00:00<?, ?it/s]"
      ]
     },
     "metadata": {},
     "output_type": "display_data"
    },
    {
     "data": {
      "application/vnd.jupyter.widget-view+json": {
       "model_id": "bc7185bf015e40d782090d0e8fc88d11",
       "version_major": 2,
       "version_minor": 0
      },
      "text/plain": [
       "Epoch 61/100:   0%|          | 0/88 [00:00<?, ?it/s]"
      ]
     },
     "metadata": {},
     "output_type": "display_data"
    },
    {
     "data": {
      "application/vnd.jupyter.widget-view+json": {
       "model_id": "fd3b720602d94070b264f0442793cdd8",
       "version_major": 2,
       "version_minor": 0
      },
      "text/plain": [
       "Epoch 62/100:   0%|          | 0/88 [00:00<?, ?it/s]"
      ]
     },
     "metadata": {},
     "output_type": "display_data"
    },
    {
     "data": {
      "application/vnd.jupyter.widget-view+json": {
       "model_id": "76cc7f3c73c04ba496779386fd728351",
       "version_major": 2,
       "version_minor": 0
      },
      "text/plain": [
       "Epoch 63/100:   0%|          | 0/88 [00:00<?, ?it/s]"
      ]
     },
     "metadata": {},
     "output_type": "display_data"
    },
    {
     "name": "stdout",
     "output_type": "stream",
     "text": [
      "\n",
      "Epoch 63: New best F1-weighted: 0.7064\n",
      "  F1-Macro: 0.6616, AUC-Macro: 0.0000, Accuracy: 0.7181\n",
      "Saving best model artifacts to C:\\Users\\PC\\Downloads\\Melspectrogram_finetune_NEW\\PestLarvaNet_AudioTwin_Run_5\\data_25.0percent\n"
     ]
    },
    {
     "data": {
      "application/vnd.jupyter.widget-view+json": {
       "model_id": "4184a25a5c4c4c63820028ec0765b37d",
       "version_major": 2,
       "version_minor": 0
      },
      "text/plain": [
       "Epoch 64/100:   0%|          | 0/88 [00:00<?, ?it/s]"
      ]
     },
     "metadata": {},
     "output_type": "display_data"
    },
    {
     "data": {
      "application/vnd.jupyter.widget-view+json": {
       "model_id": "27557bc0060b4d258b22bca4d7f33286",
       "version_major": 2,
       "version_minor": 0
      },
      "text/plain": [
       "Epoch 65/100:   0%|          | 0/88 [00:00<?, ?it/s]"
      ]
     },
     "metadata": {},
     "output_type": "display_data"
    },
    {
     "name": "stdout",
     "output_type": "stream",
     "text": [
      "\n",
      "Epoch 65: New best F1-weighted: 0.7164\n",
      "  F1-Macro: 0.6693, AUC-Macro: 0.0000, Accuracy: 0.7295\n",
      "Saving best model artifacts to C:\\Users\\PC\\Downloads\\Melspectrogram_finetune_NEW\\PestLarvaNet_AudioTwin_Run_5\\data_25.0percent\n"
     ]
    },
    {
     "data": {
      "application/vnd.jupyter.widget-view+json": {
       "model_id": "455f12e5f60d4704a8ebb49d969d46ef",
       "version_major": 2,
       "version_minor": 0
      },
      "text/plain": [
       "Epoch 66/100:   0%|          | 0/88 [00:00<?, ?it/s]"
      ]
     },
     "metadata": {},
     "output_type": "display_data"
    },
    {
     "data": {
      "application/vnd.jupyter.widget-view+json": {
       "model_id": "8f1e5f52f2334a91a4f0273f92ee0166",
       "version_major": 2,
       "version_minor": 0
      },
      "text/plain": [
       "Epoch 67/100:   0%|          | 0/88 [00:00<?, ?it/s]"
      ]
     },
     "metadata": {},
     "output_type": "display_data"
    },
    {
     "data": {
      "application/vnd.jupyter.widget-view+json": {
       "model_id": "431e0d3dcfb34a198c335eaf6b84f1f3",
       "version_major": 2,
       "version_minor": 0
      },
      "text/plain": [
       "Epoch 68/100:   0%|          | 0/88 [00:00<?, ?it/s]"
      ]
     },
     "metadata": {},
     "output_type": "display_data"
    },
    {
     "data": {
      "application/vnd.jupyter.widget-view+json": {
       "model_id": "0147800452624ebf9c7ded870251da49",
       "version_major": 2,
       "version_minor": 0
      },
      "text/plain": [
       "Epoch 69/100:   0%|          | 0/88 [00:00<?, ?it/s]"
      ]
     },
     "metadata": {},
     "output_type": "display_data"
    },
    {
     "data": {
      "application/vnd.jupyter.widget-view+json": {
       "model_id": "a4730a3292694e1ea9bd871300766fcd",
       "version_major": 2,
       "version_minor": 0
      },
      "text/plain": [
       "Epoch 70/100:   0%|          | 0/88 [00:00<?, ?it/s]"
      ]
     },
     "metadata": {},
     "output_type": "display_data"
    },
    {
     "data": {
      "application/vnd.jupyter.widget-view+json": {
       "model_id": "311374c6785f41ebbc1d0eeca1b8d833",
       "version_major": 2,
       "version_minor": 0
      },
      "text/plain": [
       "Epoch 71/100:   0%|          | 0/88 [00:00<?, ?it/s]"
      ]
     },
     "metadata": {},
     "output_type": "display_data"
    },
    {
     "data": {
      "application/vnd.jupyter.widget-view+json": {
       "model_id": "0254c9fc64c944ff839d3185bf74983e",
       "version_major": 2,
       "version_minor": 0
      },
      "text/plain": [
       "Epoch 72/100:   0%|          | 0/88 [00:00<?, ?it/s]"
      ]
     },
     "metadata": {},
     "output_type": "display_data"
    },
    {
     "name": "stdout",
     "output_type": "stream",
     "text": [
      "\n",
      "Epoch 72: New best F1-weighted: 0.7195\n",
      "  F1-Macro: 0.6800, AUC-Macro: 0.0000, Accuracy: 0.7278\n",
      "Saving best model artifacts to C:\\Users\\PC\\Downloads\\Melspectrogram_finetune_NEW\\PestLarvaNet_AudioTwin_Run_5\\data_25.0percent\n"
     ]
    },
    {
     "data": {
      "application/vnd.jupyter.widget-view+json": {
       "model_id": "3905c41e95c245be83eeff83d6eac5e5",
       "version_major": 2,
       "version_minor": 0
      },
      "text/plain": [
       "Epoch 73/100:   0%|          | 0/88 [00:00<?, ?it/s]"
      ]
     },
     "metadata": {},
     "output_type": "display_data"
    },
    {
     "name": "stdout",
     "output_type": "stream",
     "text": [
      "\n",
      "Epoch 73: New best F1-weighted: 0.7345\n",
      "  F1-Macro: 0.6959, AUC-Macro: 0.0000, Accuracy: 0.7399\n",
      "Saving best model artifacts to C:\\Users\\PC\\Downloads\\Melspectrogram_finetune_NEW\\PestLarvaNet_AudioTwin_Run_5\\data_25.0percent\n"
     ]
    },
    {
     "data": {
      "application/vnd.jupyter.widget-view+json": {
       "model_id": "f189a7f80a2a4cd5bbd169498dcb59c1",
       "version_major": 2,
       "version_minor": 0
      },
      "text/plain": [
       "Epoch 74/100:   0%|          | 0/88 [00:00<?, ?it/s]"
      ]
     },
     "metadata": {},
     "output_type": "display_data"
    },
    {
     "data": {
      "application/vnd.jupyter.widget-view+json": {
       "model_id": "7efde5c5e26244b3ba2c80f2991af134",
       "version_major": 2,
       "version_minor": 0
      },
      "text/plain": [
       "Epoch 75/100:   0%|          | 0/88 [00:00<?, ?it/s]"
      ]
     },
     "metadata": {},
     "output_type": "display_data"
    },
    {
     "data": {
      "application/vnd.jupyter.widget-view+json": {
       "model_id": "2071533304904a4a86372260a967ce64",
       "version_major": 2,
       "version_minor": 0
      },
      "text/plain": [
       "Epoch 76/100:   0%|          | 0/88 [00:00<?, ?it/s]"
      ]
     },
     "metadata": {},
     "output_type": "display_data"
    },
    {
     "data": {
      "application/vnd.jupyter.widget-view+json": {
       "model_id": "3a1fb74d1c0f4574aee9254549083561",
       "version_major": 2,
       "version_minor": 0
      },
      "text/plain": [
       "Epoch 77/100:   0%|          | 0/88 [00:00<?, ?it/s]"
      ]
     },
     "metadata": {},
     "output_type": "display_data"
    },
    {
     "data": {
      "application/vnd.jupyter.widget-view+json": {
       "model_id": "61d027c311be4f11beeef1206e718282",
       "version_major": 2,
       "version_minor": 0
      },
      "text/plain": [
       "Epoch 78/100:   0%|          | 0/88 [00:00<?, ?it/s]"
      ]
     },
     "metadata": {},
     "output_type": "display_data"
    },
    {
     "data": {
      "application/vnd.jupyter.widget-view+json": {
       "model_id": "ee73e86589744045adf6c6f8f8f7d648",
       "version_major": 2,
       "version_minor": 0
      },
      "text/plain": [
       "Epoch 79/100:   0%|          | 0/88 [00:00<?, ?it/s]"
      ]
     },
     "metadata": {},
     "output_type": "display_data"
    },
    {
     "name": "stdout",
     "output_type": "stream",
     "text": [
      "\n",
      "Epoch 79: New best F1-weighted: 0.7348\n",
      "  F1-Macro: 0.6986, AUC-Macro: 0.0000, Accuracy: 0.7384\n",
      "Saving best model artifacts to C:\\Users\\PC\\Downloads\\Melspectrogram_finetune_NEW\\PestLarvaNet_AudioTwin_Run_5\\data_25.0percent\n"
     ]
    },
    {
     "data": {
      "application/vnd.jupyter.widget-view+json": {
       "model_id": "5bd52d6403bb4d47879f4de88a8daf8c",
       "version_major": 2,
       "version_minor": 0
      },
      "text/plain": [
       "Epoch 80/100:   0%|          | 0/88 [00:00<?, ?it/s]"
      ]
     },
     "metadata": {},
     "output_type": "display_data"
    },
    {
     "data": {
      "application/vnd.jupyter.widget-view+json": {
       "model_id": "658513f255f9465a80100b8d3aebd568",
       "version_major": 2,
       "version_minor": 0
      },
      "text/plain": [
       "Epoch 81/100:   0%|          | 0/88 [00:00<?, ?it/s]"
      ]
     },
     "metadata": {},
     "output_type": "display_data"
    },
    {
     "name": "stdout",
     "output_type": "stream",
     "text": [
      "\n",
      "Epoch 81: New best F1-weighted: 0.7478\n",
      "  F1-Macro: 0.7104, AUC-Macro: 0.0000, Accuracy: 0.7505\n",
      "Saving best model artifacts to C:\\Users\\PC\\Downloads\\Melspectrogram_finetune_NEW\\PestLarvaNet_AudioTwin_Run_5\\data_25.0percent\n"
     ]
    },
    {
     "data": {
      "application/vnd.jupyter.widget-view+json": {
       "model_id": "6ed5305f891e43b48a88d40d436e6627",
       "version_major": 2,
       "version_minor": 0
      },
      "text/plain": [
       "Epoch 82/100:   0%|          | 0/88 [00:00<?, ?it/s]"
      ]
     },
     "metadata": {},
     "output_type": "display_data"
    },
    {
     "data": {
      "application/vnd.jupyter.widget-view+json": {
       "model_id": "80fa6fa38526401294b5de6e29adadae",
       "version_major": 2,
       "version_minor": 0
      },
      "text/plain": [
       "Epoch 83/100:   0%|          | 0/88 [00:00<?, ?it/s]"
      ]
     },
     "metadata": {},
     "output_type": "display_data"
    },
    {
     "data": {
      "application/vnd.jupyter.widget-view+json": {
       "model_id": "0623afb933c94e52a948a483b4f51486",
       "version_major": 2,
       "version_minor": 0
      },
      "text/plain": [
       "Epoch 84/100:   0%|          | 0/88 [00:00<?, ?it/s]"
      ]
     },
     "metadata": {},
     "output_type": "display_data"
    },
    {
     "data": {
      "application/vnd.jupyter.widget-view+json": {
       "model_id": "cbfe37b92c2f47c5868ad92a6051a5e1",
       "version_major": 2,
       "version_minor": 0
      },
      "text/plain": [
       "Epoch 85/100:   0%|          | 0/88 [00:00<?, ?it/s]"
      ]
     },
     "metadata": {},
     "output_type": "display_data"
    },
    {
     "data": {
      "application/vnd.jupyter.widget-view+json": {
       "model_id": "e4664f3c43b54d3694b8d76a64a38d99",
       "version_major": 2,
       "version_minor": 0
      },
      "text/plain": [
       "Epoch 86/100:   0%|          | 0/88 [00:00<?, ?it/s]"
      ]
     },
     "metadata": {},
     "output_type": "display_data"
    },
    {
     "data": {
      "application/vnd.jupyter.widget-view+json": {
       "model_id": "14f02f94e4b9463a8ecc2cc8c9e734d7",
       "version_major": 2,
       "version_minor": 0
      },
      "text/plain": [
       "Epoch 87/100:   0%|          | 0/88 [00:00<?, ?it/s]"
      ]
     },
     "metadata": {},
     "output_type": "display_data"
    },
    {
     "data": {
      "application/vnd.jupyter.widget-view+json": {
       "model_id": "39e89c79a69048b6bf851d25f7f0667c",
       "version_major": 2,
       "version_minor": 0
      },
      "text/plain": [
       "Epoch 88/100:   0%|          | 0/88 [00:00<?, ?it/s]"
      ]
     },
     "metadata": {},
     "output_type": "display_data"
    },
    {
     "name": "stdout",
     "output_type": "stream",
     "text": [
      "\n",
      "Epoch 88: New best F1-weighted: 0.7523\n",
      "  F1-Macro: 0.7205, AUC-Macro: 0.0000, Accuracy: 0.7548\n",
      "Saving best model artifacts to C:\\Users\\PC\\Downloads\\Melspectrogram_finetune_NEW\\PestLarvaNet_AudioTwin_Run_5\\data_25.0percent\n"
     ]
    },
    {
     "data": {
      "application/vnd.jupyter.widget-view+json": {
       "model_id": "98bb99e2b74f47c495051df9b5569edd",
       "version_major": 2,
       "version_minor": 0
      },
      "text/plain": [
       "Epoch 89/100:   0%|          | 0/88 [00:00<?, ?it/s]"
      ]
     },
     "metadata": {},
     "output_type": "display_data"
    },
    {
     "name": "stdout",
     "output_type": "stream",
     "text": [
      "\n",
      "Epoch 89: New best F1-weighted: 0.7573\n",
      "  F1-Macro: 0.7269, AUC-Macro: 0.0000, Accuracy: 0.7577\n",
      "Saving best model artifacts to C:\\Users\\PC\\Downloads\\Melspectrogram_finetune_NEW\\PestLarvaNet_AudioTwin_Run_5\\data_25.0percent\n"
     ]
    },
    {
     "data": {
      "application/vnd.jupyter.widget-view+json": {
       "model_id": "1bcec36a90034f1ab2e63e3d03fb21b5",
       "version_major": 2,
       "version_minor": 0
      },
      "text/plain": [
       "Epoch 90/100:   0%|          | 0/88 [00:00<?, ?it/s]"
      ]
     },
     "metadata": {},
     "output_type": "display_data"
    },
    {
     "data": {
      "application/vnd.jupyter.widget-view+json": {
       "model_id": "f3d730313998477d8022de659b820460",
       "version_major": 2,
       "version_minor": 0
      },
      "text/plain": [
       "Epoch 91/100:   0%|          | 0/88 [00:00<?, ?it/s]"
      ]
     },
     "metadata": {},
     "output_type": "display_data"
    },
    {
     "data": {
      "application/vnd.jupyter.widget-view+json": {
       "model_id": "c4d28907e8204745879bd0090960c7e5",
       "version_major": 2,
       "version_minor": 0
      },
      "text/plain": [
       "Epoch 92/100:   0%|          | 0/88 [00:00<?, ?it/s]"
      ]
     },
     "metadata": {},
     "output_type": "display_data"
    },
    {
     "data": {
      "application/vnd.jupyter.widget-view+json": {
       "model_id": "40aeb7c2d88d4497927cc9b2b3e46f4a",
       "version_major": 2,
       "version_minor": 0
      },
      "text/plain": [
       "Epoch 93/100:   0%|          | 0/88 [00:00<?, ?it/s]"
      ]
     },
     "metadata": {},
     "output_type": "display_data"
    },
    {
     "data": {
      "application/vnd.jupyter.widget-view+json": {
       "model_id": "e5b7898ca2d3493d8c0c588f68fb0ecf",
       "version_major": 2,
       "version_minor": 0
      },
      "text/plain": [
       "Epoch 94/100:   0%|          | 0/88 [00:00<?, ?it/s]"
      ]
     },
     "metadata": {},
     "output_type": "display_data"
    },
    {
     "data": {
      "application/vnd.jupyter.widget-view+json": {
       "model_id": "b973c080439a444db3c175b8031aad6e",
       "version_major": 2,
       "version_minor": 0
      },
      "text/plain": [
       "Epoch 95/100:   0%|          | 0/88 [00:00<?, ?it/s]"
      ]
     },
     "metadata": {},
     "output_type": "display_data"
    },
    {
     "name": "stdout",
     "output_type": "stream",
     "text": [
      "\n",
      "Epoch 95: New best F1-weighted: 0.7622\n",
      "  F1-Macro: 0.7318, AUC-Macro: 0.0000, Accuracy: 0.7623\n",
      "Saving best model artifacts to C:\\Users\\PC\\Downloads\\Melspectrogram_finetune_NEW\\PestLarvaNet_AudioTwin_Run_5\\data_25.0percent\n"
     ]
    },
    {
     "data": {
      "application/vnd.jupyter.widget-view+json": {
       "model_id": "61fa672cffb1444b80003a3d732c4dd2",
       "version_major": 2,
       "version_minor": 0
      },
      "text/plain": [
       "Epoch 96/100:   0%|          | 0/88 [00:00<?, ?it/s]"
      ]
     },
     "metadata": {},
     "output_type": "display_data"
    },
    {
     "data": {
      "application/vnd.jupyter.widget-view+json": {
       "model_id": "309d9fde696b4e5b98fa43a4a82e5cba",
       "version_major": 2,
       "version_minor": 0
      },
      "text/plain": [
       "Epoch 97/100:   0%|          | 0/88 [00:00<?, ?it/s]"
      ]
     },
     "metadata": {},
     "output_type": "display_data"
    },
    {
     "data": {
      "application/vnd.jupyter.widget-view+json": {
       "model_id": "c412647fb0d6486faa1b3aa2f98135fe",
       "version_major": 2,
       "version_minor": 0
      },
      "text/plain": [
       "Epoch 98/100:   0%|          | 0/88 [00:00<?, ?it/s]"
      ]
     },
     "metadata": {},
     "output_type": "display_data"
    },
    {
     "name": "stdout",
     "output_type": "stream",
     "text": [
      "\n",
      "Epoch 98: New best F1-weighted: 0.7622\n",
      "  F1-Macro: 0.7337, AUC-Macro: 0.0000, Accuracy: 0.7633\n",
      "Saving best model artifacts to C:\\Users\\PC\\Downloads\\Melspectrogram_finetune_NEW\\PestLarvaNet_AudioTwin_Run_5\\data_25.0percent\n"
     ]
    },
    {
     "data": {
      "application/vnd.jupyter.widget-view+json": {
       "model_id": "b4cb27b184d54763bcf7ac04ddbc4633",
       "version_major": 2,
       "version_minor": 0
      },
      "text/plain": [
       "Epoch 99/100:   0%|          | 0/88 [00:00<?, ?it/s]"
      ]
     },
     "metadata": {},
     "output_type": "display_data"
    },
    {
     "data": {
      "application/vnd.jupyter.widget-view+json": {
       "model_id": "9cf5b3c6d2c548cf9cfa3501ef3fe3d8",
       "version_major": 2,
       "version_minor": 0
      },
      "text/plain": [
       "Epoch 100/100:   0%|          | 0/88 [00:00<?, ?it/s]"
      ]
     },
     "metadata": {},
     "output_type": "display_data"
    },
    {
     "name": "stdout",
     "output_type": "stream",
     "text": [
      "Finished Training for this run. Best F1-weighted: 0.7622\n",
      "==> Results with 25.0% data: Best F1-Weighted = 0.7622\n",
      "--- Training with 50.0% of labeled data ---\n",
      "Loading pretrained weights from: C:\\Users\\PC\\PestLarvaNet\\SSL\\audiotwin_checkpoints_medium\\Final checkpoint\\run_5_lp1e-02_ep1e-06_lb0.010_audiotwin_pestlarvanet_medium_epoch_100.pth\n"
     ]
    },
    {
     "name": "stderr",
     "output_type": "stream",
     "text": [
      "C:\\Users\\PC\\anaconda3\\envs\\FallDeteNet\\lib\\site-packages\\torch\\optim\\lr_scheduler.py:62: UserWarning: The verbose parameter is deprecated. Please use get_last_lr() to access the learning rate.\n",
      "  warnings.warn(\n"
     ]
    },
    {
     "data": {
      "application/vnd.jupyter.widget-view+json": {
       "model_id": "ea707970ff354158a91e481bcc35be22",
       "version_major": 2,
       "version_minor": 0
      },
      "text/plain": [
       "Epoch 1/100:   0%|          | 0/176 [00:00<?, ?it/s]"
      ]
     },
     "metadata": {},
     "output_type": "display_data"
    },
    {
     "name": "stdout",
     "output_type": "stream",
     "text": [
      "\n",
      "Epoch 1: New best F1-weighted: 0.4656\n",
      "  F1-Macro: 0.3920, AUC-Macro: 0.0000, Accuracy: 0.5320\n",
      "Saving best model artifacts to C:\\Users\\PC\\Downloads\\Melspectrogram_finetune_NEW\\PestLarvaNet_AudioTwin_Run_5\\data_50.0percent\n"
     ]
    },
    {
     "data": {
      "application/vnd.jupyter.widget-view+json": {
       "model_id": "d0ea45c36700422cb22d55884cf96a1d",
       "version_major": 2,
       "version_minor": 0
      },
      "text/plain": [
       "Epoch 2/100:   0%|          | 0/176 [00:00<?, ?it/s]"
      ]
     },
     "metadata": {},
     "output_type": "display_data"
    },
    {
     "data": {
      "application/vnd.jupyter.widget-view+json": {
       "model_id": "08e7ba051e12448dbbcd3da1ed3b26e9",
       "version_major": 2,
       "version_minor": 0
      },
      "text/plain": [
       "Epoch 3/100:   0%|          | 0/176 [00:00<?, ?it/s]"
      ]
     },
     "metadata": {},
     "output_type": "display_data"
    },
    {
     "data": {
      "application/vnd.jupyter.widget-view+json": {
       "model_id": "a3e7fcad612e4abf89b9b6db688affcc",
       "version_major": 2,
       "version_minor": 0
      },
      "text/plain": [
       "Epoch 4/100:   0%|          | 0/176 [00:00<?, ?it/s]"
      ]
     },
     "metadata": {},
     "output_type": "display_data"
    },
    {
     "name": "stdout",
     "output_type": "stream",
     "text": [
      "\n",
      "Epoch 4: New best F1-weighted: 0.5064\n",
      "  F1-Macro: 0.4271, AUC-Macro: 0.0000, Accuracy: 0.5722\n",
      "Saving best model artifacts to C:\\Users\\PC\\Downloads\\Melspectrogram_finetune_NEW\\PestLarvaNet_AudioTwin_Run_5\\data_50.0percent\n"
     ]
    },
    {
     "data": {
      "application/vnd.jupyter.widget-view+json": {
       "model_id": "14515b6b6d304cf3a9e650493719aa81",
       "version_major": 2,
       "version_minor": 0
      },
      "text/plain": [
       "Epoch 5/100:   0%|          | 0/176 [00:00<?, ?it/s]"
      ]
     },
     "metadata": {},
     "output_type": "display_data"
    },
    {
     "data": {
      "application/vnd.jupyter.widget-view+json": {
       "model_id": "134a3acded6249749e65700738f407ab",
       "version_major": 2,
       "version_minor": 0
      },
      "text/plain": [
       "Epoch 6/100:   0%|          | 0/176 [00:00<?, ?it/s]"
      ]
     },
     "metadata": {},
     "output_type": "display_data"
    },
    {
     "name": "stdout",
     "output_type": "stream",
     "text": [
      "\n",
      "Epoch 6: New best F1-weighted: 0.5217\n",
      "  F1-Macro: 0.4430, AUC-Macro: 0.0000, Accuracy: 0.5612\n",
      "Saving best model artifacts to C:\\Users\\PC\\Downloads\\Melspectrogram_finetune_NEW\\PestLarvaNet_AudioTwin_Run_5\\data_50.0percent\n"
     ]
    },
    {
     "data": {
      "application/vnd.jupyter.widget-view+json": {
       "model_id": "6a7e629cfa6843d1891cb6067dddeb14",
       "version_major": 2,
       "version_minor": 0
      },
      "text/plain": [
       "Epoch 7/100:   0%|          | 0/176 [00:00<?, ?it/s]"
      ]
     },
     "metadata": {},
     "output_type": "display_data"
    },
    {
     "name": "stdout",
     "output_type": "stream",
     "text": [
      "\n",
      "Epoch 7: New best F1-weighted: 0.5228\n",
      "  F1-Macro: 0.4410, AUC-Macro: 0.0000, Accuracy: 0.5783\n",
      "Saving best model artifacts to C:\\Users\\PC\\Downloads\\Melspectrogram_finetune_NEW\\PestLarvaNet_AudioTwin_Run_5\\data_50.0percent\n"
     ]
    },
    {
     "data": {
      "application/vnd.jupyter.widget-view+json": {
       "model_id": "6f5f107307fd4727b1ee2bd6d61ee877",
       "version_major": 2,
       "version_minor": 0
      },
      "text/plain": [
       "Epoch 8/100:   0%|          | 0/176 [00:00<?, ?it/s]"
      ]
     },
     "metadata": {},
     "output_type": "display_data"
    },
    {
     "name": "stdout",
     "output_type": "stream",
     "text": [
      "\n",
      "Epoch 8: New best F1-weighted: 0.5987\n",
      "  F1-Macro: 0.5369, AUC-Macro: 0.0000, Accuracy: 0.6199\n",
      "Saving best model artifacts to C:\\Users\\PC\\Downloads\\Melspectrogram_finetune_NEW\\PestLarvaNet_AudioTwin_Run_5\\data_50.0percent\n"
     ]
    },
    {
     "data": {
      "application/vnd.jupyter.widget-view+json": {
       "model_id": "2b7a1598f9ea4dc7ad7e32276cd36cd7",
       "version_major": 2,
       "version_minor": 0
      },
      "text/plain": [
       "Epoch 9/100:   0%|          | 0/176 [00:00<?, ?it/s]"
      ]
     },
     "metadata": {},
     "output_type": "display_data"
    },
    {
     "data": {
      "application/vnd.jupyter.widget-view+json": {
       "model_id": "3cb0842abc9f4bf48829868d5aaa6bfc",
       "version_major": 2,
       "version_minor": 0
      },
      "text/plain": [
       "Epoch 10/100:   0%|          | 0/176 [00:00<?, ?it/s]"
      ]
     },
     "metadata": {},
     "output_type": "display_data"
    },
    {
     "data": {
      "application/vnd.jupyter.widget-view+json": {
       "model_id": "ce7adccaf35d46879cd53217eda61ebb",
       "version_major": 2,
       "version_minor": 0
      },
      "text/plain": [
       "Epoch 11/100:   0%|          | 0/176 [00:00<?, ?it/s]"
      ]
     },
     "metadata": {},
     "output_type": "display_data"
    },
    {
     "name": "stdout",
     "output_type": "stream",
     "text": [
      "\n",
      "Epoch 11: New best F1-weighted: 0.6154\n",
      "  F1-Macro: 0.5624, AUC-Macro: 0.0000, Accuracy: 0.6388\n",
      "Saving best model artifacts to C:\\Users\\PC\\Downloads\\Melspectrogram_finetune_NEW\\PestLarvaNet_AudioTwin_Run_5\\data_50.0percent\n"
     ]
    },
    {
     "data": {
      "application/vnd.jupyter.widget-view+json": {
       "model_id": "08d6c42da9f74139a1aa9434a6d00a56",
       "version_major": 2,
       "version_minor": 0
      },
      "text/plain": [
       "Epoch 12/100:   0%|          | 0/176 [00:00<?, ?it/s]"
      ]
     },
     "metadata": {},
     "output_type": "display_data"
    },
    {
     "data": {
      "application/vnd.jupyter.widget-view+json": {
       "model_id": "d77e59bc22e74a228d5466c366f54aaa",
       "version_major": 2,
       "version_minor": 0
      },
      "text/plain": [
       "Epoch 13/100:   0%|          | 0/176 [00:00<?, ?it/s]"
      ]
     },
     "metadata": {},
     "output_type": "display_data"
    },
    {
     "data": {
      "application/vnd.jupyter.widget-view+json": {
       "model_id": "83d6e83433184ed29705d6baa76caef1",
       "version_major": 2,
       "version_minor": 0
      },
      "text/plain": [
       "Epoch 14/100:   0%|          | 0/176 [00:00<?, ?it/s]"
      ]
     },
     "metadata": {},
     "output_type": "display_data"
    },
    {
     "data": {
      "application/vnd.jupyter.widget-view+json": {
       "model_id": "9b810aaa19eb4728b630bc7c19d2efdc",
       "version_major": 2,
       "version_minor": 0
      },
      "text/plain": [
       "Epoch 15/100:   0%|          | 0/176 [00:00<?, ?it/s]"
      ]
     },
     "metadata": {},
     "output_type": "display_data"
    },
    {
     "data": {
      "application/vnd.jupyter.widget-view+json": {
       "model_id": "698f2ae463b24bb4a439a58efb639c08",
       "version_major": 2,
       "version_minor": 0
      },
      "text/plain": [
       "Epoch 16/100:   0%|          | 0/176 [00:00<?, ?it/s]"
      ]
     },
     "metadata": {},
     "output_type": "display_data"
    },
    {
     "data": {
      "application/vnd.jupyter.widget-view+json": {
       "model_id": "69cb20e76fc64ca29adb31440371f66a",
       "version_major": 2,
       "version_minor": 0
      },
      "text/plain": [
       "Epoch 17/100:   0%|          | 0/176 [00:00<?, ?it/s]"
      ]
     },
     "metadata": {},
     "output_type": "display_data"
    },
    {
     "data": {
      "application/vnd.jupyter.widget-view+json": {
       "model_id": "bef185236365446b920bd5e67cc405bc",
       "version_major": 2,
       "version_minor": 0
      },
      "text/plain": [
       "Epoch 18/100:   0%|          | 0/176 [00:00<?, ?it/s]"
      ]
     },
     "metadata": {},
     "output_type": "display_data"
    },
    {
     "name": "stdout",
     "output_type": "stream",
     "text": [
      "\n",
      "Epoch 18: New best F1-weighted: 0.6866\n",
      "  F1-Macro: 0.6319, AUC-Macro: 0.0000, Accuracy: 0.7036\n",
      "Saving best model artifacts to C:\\Users\\PC\\Downloads\\Melspectrogram_finetune_NEW\\PestLarvaNet_AudioTwin_Run_5\\data_50.0percent\n"
     ]
    },
    {
     "data": {
      "application/vnd.jupyter.widget-view+json": {
       "model_id": "db08d3abc61b4260ad79a7b3be3879c0",
       "version_major": 2,
       "version_minor": 0
      },
      "text/plain": [
       "Epoch 19/100:   0%|          | 0/176 [00:00<?, ?it/s]"
      ]
     },
     "metadata": {},
     "output_type": "display_data"
    },
    {
     "data": {
      "application/vnd.jupyter.widget-view+json": {
       "model_id": "93041100eac443d2b1f8dfcbb4c9c4a5",
       "version_major": 2,
       "version_minor": 0
      },
      "text/plain": [
       "Epoch 20/100:   0%|          | 0/176 [00:00<?, ?it/s]"
      ]
     },
     "metadata": {},
     "output_type": "display_data"
    },
    {
     "name": "stdout",
     "output_type": "stream",
     "text": [
      "\n",
      "Epoch 20: New best F1-weighted: 0.6923\n",
      "  F1-Macro: 0.6377, AUC-Macro: 0.0000, Accuracy: 0.7117\n",
      "Saving best model artifacts to C:\\Users\\PC\\Downloads\\Melspectrogram_finetune_NEW\\PestLarvaNet_AudioTwin_Run_5\\data_50.0percent\n"
     ]
    },
    {
     "data": {
      "application/vnd.jupyter.widget-view+json": {
       "model_id": "f4b9314e139541118e68acdce9077185",
       "version_major": 2,
       "version_minor": 0
      },
      "text/plain": [
       "Epoch 21/100:   0%|          | 0/176 [00:00<?, ?it/s]"
      ]
     },
     "metadata": {},
     "output_type": "display_data"
    },
    {
     "data": {
      "application/vnd.jupyter.widget-view+json": {
       "model_id": "27b278592a6b4acf8ad10de97a2fe439",
       "version_major": 2,
       "version_minor": 0
      },
      "text/plain": [
       "Epoch 22/100:   0%|          | 0/176 [00:00<?, ?it/s]"
      ]
     },
     "metadata": {},
     "output_type": "display_data"
    },
    {
     "name": "stdout",
     "output_type": "stream",
     "text": [
      "\n",
      "Epoch 22: New best F1-weighted: 0.7026\n",
      "  F1-Macro: 0.6499, AUC-Macro: 0.0000, Accuracy: 0.7203\n",
      "Saving best model artifacts to C:\\Users\\PC\\Downloads\\Melspectrogram_finetune_NEW\\PestLarvaNet_AudioTwin_Run_5\\data_50.0percent\n"
     ]
    },
    {
     "data": {
      "application/vnd.jupyter.widget-view+json": {
       "model_id": "2c43741b3d624c2482aab3d1d9c09c0e",
       "version_major": 2,
       "version_minor": 0
      },
      "text/plain": [
       "Epoch 23/100:   0%|          | 0/176 [00:00<?, ?it/s]"
      ]
     },
     "metadata": {},
     "output_type": "display_data"
    },
    {
     "name": "stdout",
     "output_type": "stream",
     "text": [
      "\n",
      "Epoch 23: New best F1-weighted: 0.7145\n",
      "  F1-Macro: 0.6755, AUC-Macro: 0.0000, Accuracy: 0.7206\n",
      "Saving best model artifacts to C:\\Users\\PC\\Downloads\\Melspectrogram_finetune_NEW\\PestLarvaNet_AudioTwin_Run_5\\data_50.0percent\n"
     ]
    },
    {
     "data": {
      "application/vnd.jupyter.widget-view+json": {
       "model_id": "cff52257cc004b9085d057f173e52b7c",
       "version_major": 2,
       "version_minor": 0
      },
      "text/plain": [
       "Epoch 24/100:   0%|          | 0/176 [00:00<?, ?it/s]"
      ]
     },
     "metadata": {},
     "output_type": "display_data"
    },
    {
     "data": {
      "application/vnd.jupyter.widget-view+json": {
       "model_id": "90ecd1caba764f189d22f80255c1ac20",
       "version_major": 2,
       "version_minor": 0
      },
      "text/plain": [
       "Epoch 25/100:   0%|          | 0/176 [00:00<?, ?it/s]"
      ]
     },
     "metadata": {},
     "output_type": "display_data"
    },
    {
     "name": "stdout",
     "output_type": "stream",
     "text": [
      "\n",
      "Epoch 25: New best F1-weighted: 0.7247\n",
      "  F1-Macro: 0.6802, AUC-Macro: 0.0000, Accuracy: 0.7335\n",
      "Saving best model artifacts to C:\\Users\\PC\\Downloads\\Melspectrogram_finetune_NEW\\PestLarvaNet_AudioTwin_Run_5\\data_50.0percent\n"
     ]
    },
    {
     "data": {
      "application/vnd.jupyter.widget-view+json": {
       "model_id": "339fa7644d2b47678a707f7f315e4a15",
       "version_major": 2,
       "version_minor": 0
      },
      "text/plain": [
       "Epoch 26/100:   0%|          | 0/176 [00:00<?, ?it/s]"
      ]
     },
     "metadata": {},
     "output_type": "display_data"
    },
    {
     "name": "stdout",
     "output_type": "stream",
     "text": [
      "\n",
      "Epoch 26: New best F1-weighted: 0.7322\n",
      "  F1-Macro: 0.6893, AUC-Macro: 0.0000, Accuracy: 0.7377\n",
      "Saving best model artifacts to C:\\Users\\PC\\Downloads\\Melspectrogram_finetune_NEW\\PestLarvaNet_AudioTwin_Run_5\\data_50.0percent\n"
     ]
    },
    {
     "data": {
      "application/vnd.jupyter.widget-view+json": {
       "model_id": "8a701d75de40405fb09af3cb1cfd0cc2",
       "version_major": 2,
       "version_minor": 0
      },
      "text/plain": [
       "Epoch 27/100:   0%|          | 0/176 [00:00<?, ?it/s]"
      ]
     },
     "metadata": {},
     "output_type": "display_data"
    },
    {
     "data": {
      "application/vnd.jupyter.widget-view+json": {
       "model_id": "5ea9c364b97345448cf822063322a884",
       "version_major": 2,
       "version_minor": 0
      },
      "text/plain": [
       "Epoch 28/100:   0%|          | 0/176 [00:00<?, ?it/s]"
      ]
     },
     "metadata": {},
     "output_type": "display_data"
    },
    {
     "data": {
      "application/vnd.jupyter.widget-view+json": {
       "model_id": "814a824ed97148cda0e0376b870095a6",
       "version_major": 2,
       "version_minor": 0
      },
      "text/plain": [
       "Epoch 29/100:   0%|          | 0/176 [00:00<?, ?it/s]"
      ]
     },
     "metadata": {},
     "output_type": "display_data"
    },
    {
     "data": {
      "application/vnd.jupyter.widget-view+json": {
       "model_id": "98ca7a929c1a40a3b86eab40e2f4a5f1",
       "version_major": 2,
       "version_minor": 0
      },
      "text/plain": [
       "Epoch 30/100:   0%|          | 0/176 [00:00<?, ?it/s]"
      ]
     },
     "metadata": {},
     "output_type": "display_data"
    },
    {
     "data": {
      "application/vnd.jupyter.widget-view+json": {
       "model_id": "169bbe8b2c29405b902d92fb25f6a9d9",
       "version_major": 2,
       "version_minor": 0
      },
      "text/plain": [
       "Epoch 31/100:   0%|          | 0/176 [00:00<?, ?it/s]"
      ]
     },
     "metadata": {},
     "output_type": "display_data"
    },
    {
     "name": "stdout",
     "output_type": "stream",
     "text": [
      "\n",
      "Epoch 31: New best F1-weighted: 0.7398\n",
      "  F1-Macro: 0.6962, AUC-Macro: 0.0000, Accuracy: 0.7488\n",
      "Saving best model artifacts to C:\\Users\\PC\\Downloads\\Melspectrogram_finetune_NEW\\PestLarvaNet_AudioTwin_Run_5\\data_50.0percent\n"
     ]
    },
    {
     "data": {
      "application/vnd.jupyter.widget-view+json": {
       "model_id": "911f939425df4b7990f31a08f05a3f06",
       "version_major": 2,
       "version_minor": 0
      },
      "text/plain": [
       "Epoch 32/100:   0%|          | 0/176 [00:00<?, ?it/s]"
      ]
     },
     "metadata": {},
     "output_type": "display_data"
    },
    {
     "name": "stdout",
     "output_type": "stream",
     "text": [
      "\n",
      "Epoch 32: New best F1-weighted: 0.7463\n",
      "  F1-Macro: 0.7077, AUC-Macro: 0.0000, Accuracy: 0.7505\n",
      "Saving best model artifacts to C:\\Users\\PC\\Downloads\\Melspectrogram_finetune_NEW\\PestLarvaNet_AudioTwin_Run_5\\data_50.0percent\n"
     ]
    },
    {
     "data": {
      "application/vnd.jupyter.widget-view+json": {
       "model_id": "3916ca739a1443a9924697a842ec55f4",
       "version_major": 2,
       "version_minor": 0
      },
      "text/plain": [
       "Epoch 33/100:   0%|          | 0/176 [00:00<?, ?it/s]"
      ]
     },
     "metadata": {},
     "output_type": "display_data"
    },
    {
     "data": {
      "application/vnd.jupyter.widget-view+json": {
       "model_id": "09f57756f13b4a28b3fd39eaa74ad1c1",
       "version_major": 2,
       "version_minor": 0
      },
      "text/plain": [
       "Epoch 34/100:   0%|          | 0/176 [00:00<?, ?it/s]"
      ]
     },
     "metadata": {},
     "output_type": "display_data"
    },
    {
     "data": {
      "application/vnd.jupyter.widget-view+json": {
       "model_id": "1fff555a96294dc2ba08150e363406dd",
       "version_major": 2,
       "version_minor": 0
      },
      "text/plain": [
       "Epoch 35/100:   0%|          | 0/176 [00:00<?, ?it/s]"
      ]
     },
     "metadata": {},
     "output_type": "display_data"
    },
    {
     "data": {
      "application/vnd.jupyter.widget-view+json": {
       "model_id": "158fb923b6b746e7aac3e501d752ed5b",
       "version_major": 2,
       "version_minor": 0
      },
      "text/plain": [
       "Epoch 36/100:   0%|          | 0/176 [00:00<?, ?it/s]"
      ]
     },
     "metadata": {},
     "output_type": "display_data"
    },
    {
     "data": {
      "application/vnd.jupyter.widget-view+json": {
       "model_id": "f864b7a235934ba3b8c89daeb3cb59b0",
       "version_major": 2,
       "version_minor": 0
      },
      "text/plain": [
       "Epoch 37/100:   0%|          | 0/176 [00:00<?, ?it/s]"
      ]
     },
     "metadata": {},
     "output_type": "display_data"
    },
    {
     "name": "stdout",
     "output_type": "stream",
     "text": [
      "\n",
      "Epoch 37: New best F1-weighted: 0.7599\n",
      "  F1-Macro: 0.7247, AUC-Macro: 0.0000, Accuracy: 0.7626\n",
      "Saving best model artifacts to C:\\Users\\PC\\Downloads\\Melspectrogram_finetune_NEW\\PestLarvaNet_AudioTwin_Run_5\\data_50.0percent\n"
     ]
    },
    {
     "data": {
      "application/vnd.jupyter.widget-view+json": {
       "model_id": "2010f223f7864cfc863fde2919595312",
       "version_major": 2,
       "version_minor": 0
      },
      "text/plain": [
       "Epoch 38/100:   0%|          | 0/176 [00:00<?, ?it/s]"
      ]
     },
     "metadata": {},
     "output_type": "display_data"
    },
    {
     "name": "stdout",
     "output_type": "stream",
     "text": [
      "\n",
      "Epoch 38: New best F1-weighted: 0.7703\n",
      "  F1-Macro: 0.7359, AUC-Macro: 0.0000, Accuracy: 0.7730\n",
      "Saving best model artifacts to C:\\Users\\PC\\Downloads\\Melspectrogram_finetune_NEW\\PestLarvaNet_AudioTwin_Run_5\\data_50.0percent\n"
     ]
    },
    {
     "data": {
      "application/vnd.jupyter.widget-view+json": {
       "model_id": "93720d89550c4dc0a44591a05834b864",
       "version_major": 2,
       "version_minor": 0
      },
      "text/plain": [
       "Epoch 39/100:   0%|          | 0/176 [00:00<?, ?it/s]"
      ]
     },
     "metadata": {},
     "output_type": "display_data"
    },
    {
     "data": {
      "application/vnd.jupyter.widget-view+json": {
       "model_id": "c92406d42bb8473996387b1384ad87fa",
       "version_major": 2,
       "version_minor": 0
      },
      "text/plain": [
       "Epoch 40/100:   0%|          | 0/176 [00:00<?, ?it/s]"
      ]
     },
     "metadata": {},
     "output_type": "display_data"
    },
    {
     "data": {
      "application/vnd.jupyter.widget-view+json": {
       "model_id": "98098917e93c4637b8529cef66cdeee1",
       "version_major": 2,
       "version_minor": 0
      },
      "text/plain": [
       "Epoch 41/100:   0%|          | 0/176 [00:00<?, ?it/s]"
      ]
     },
     "metadata": {},
     "output_type": "display_data"
    },
    {
     "data": {
      "application/vnd.jupyter.widget-view+json": {
       "model_id": "2efb25750a324eb39f4c1c2d7edca2bd",
       "version_major": 2,
       "version_minor": 0
      },
      "text/plain": [
       "Epoch 42/100:   0%|          | 0/176 [00:00<?, ?it/s]"
      ]
     },
     "metadata": {},
     "output_type": "display_data"
    },
    {
     "data": {
      "application/vnd.jupyter.widget-view+json": {
       "model_id": "87839376a8244ad2820d38373ed3e2a5",
       "version_major": 2,
       "version_minor": 0
      },
      "text/plain": [
       "Epoch 43/100:   0%|          | 0/176 [00:00<?, ?it/s]"
      ]
     },
     "metadata": {},
     "output_type": "display_data"
    },
    {
     "name": "stdout",
     "output_type": "stream",
     "text": [
      "\n",
      "Epoch 43: New best F1-weighted: 0.7832\n",
      "  F1-Macro: 0.7554, AUC-Macro: 0.0000, Accuracy: 0.7833\n",
      "Saving best model artifacts to C:\\Users\\PC\\Downloads\\Melspectrogram_finetune_NEW\\PestLarvaNet_AudioTwin_Run_5\\data_50.0percent\n"
     ]
    },
    {
     "data": {
      "application/vnd.jupyter.widget-view+json": {
       "model_id": "9f120676c0814745802e2cca93548601",
       "version_major": 2,
       "version_minor": 0
      },
      "text/plain": [
       "Epoch 44/100:   0%|          | 0/176 [00:00<?, ?it/s]"
      ]
     },
     "metadata": {},
     "output_type": "display_data"
    },
    {
     "name": "stdout",
     "output_type": "stream",
     "text": [
      "\n",
      "Epoch 44: New best F1-weighted: 0.7881\n",
      "  F1-Macro: 0.7608, AUC-Macro: 0.0000, Accuracy: 0.7883\n",
      "Saving best model artifacts to C:\\Users\\PC\\Downloads\\Melspectrogram_finetune_NEW\\PestLarvaNet_AudioTwin_Run_5\\data_50.0percent\n"
     ]
    },
    {
     "data": {
      "application/vnd.jupyter.widget-view+json": {
       "model_id": "f4d3f6966e89459b86b8f56b30273815",
       "version_major": 2,
       "version_minor": 0
      },
      "text/plain": [
       "Epoch 45/100:   0%|          | 0/176 [00:00<?, ?it/s]"
      ]
     },
     "metadata": {},
     "output_type": "display_data"
    },
    {
     "data": {
      "application/vnd.jupyter.widget-view+json": {
       "model_id": "e5b71d605a204bcc8c2bffefd8a2e30b",
       "version_major": 2,
       "version_minor": 0
      },
      "text/plain": [
       "Epoch 46/100:   0%|          | 0/176 [00:00<?, ?it/s]"
      ]
     },
     "metadata": {},
     "output_type": "display_data"
    },
    {
     "name": "stdout",
     "output_type": "stream",
     "text": [
      "\n",
      "Epoch 46: New best F1-weighted: 0.7987\n",
      "  F1-Macro: 0.7724, AUC-Macro: 0.0000, Accuracy: 0.7989\n",
      "Saving best model artifacts to C:\\Users\\PC\\Downloads\\Melspectrogram_finetune_NEW\\PestLarvaNet_AudioTwin_Run_5\\data_50.0percent\n"
     ]
    },
    {
     "data": {
      "application/vnd.jupyter.widget-view+json": {
       "model_id": "0dfae6cb4de14f44a6b80498423bc97a",
       "version_major": 2,
       "version_minor": 0
      },
      "text/plain": [
       "Epoch 47/100:   0%|          | 0/176 [00:00<?, ?it/s]"
      ]
     },
     "metadata": {},
     "output_type": "display_data"
    },
    {
     "data": {
      "application/vnd.jupyter.widget-view+json": {
       "model_id": "6bf4c13029354b6f97c20c55aa6f4436",
       "version_major": 2,
       "version_minor": 0
      },
      "text/plain": [
       "Epoch 48/100:   0%|          | 0/176 [00:00<?, ?it/s]"
      ]
     },
     "metadata": {},
     "output_type": "display_data"
    },
    {
     "data": {
      "application/vnd.jupyter.widget-view+json": {
       "model_id": "67f821fcb2c44a9da6c67a71d5c16c64",
       "version_major": 2,
       "version_minor": 0
      },
      "text/plain": [
       "Epoch 49/100:   0%|          | 0/176 [00:00<?, ?it/s]"
      ]
     },
     "metadata": {},
     "output_type": "display_data"
    },
    {
     "data": {
      "application/vnd.jupyter.widget-view+json": {
       "model_id": "c9c30ba0a10040f4b9b44288e5736e33",
       "version_major": 2,
       "version_minor": 0
      },
      "text/plain": [
       "Epoch 50/100:   0%|          | 0/176 [00:00<?, ?it/s]"
      ]
     },
     "metadata": {},
     "output_type": "display_data"
    },
    {
     "data": {
      "application/vnd.jupyter.widget-view+json": {
       "model_id": "749f32a07456434287ee43ef5baaa9cf",
       "version_major": 2,
       "version_minor": 0
      },
      "text/plain": [
       "Epoch 51/100:   0%|          | 0/176 [00:00<?, ?it/s]"
      ]
     },
     "metadata": {},
     "output_type": "display_data"
    },
    {
     "data": {
      "application/vnd.jupyter.widget-view+json": {
       "model_id": "3ff8c7af75e847598796f152f0b87fb8",
       "version_major": 2,
       "version_minor": 0
      },
      "text/plain": [
       "Epoch 52/100:   0%|          | 0/176 [00:00<?, ?it/s]"
      ]
     },
     "metadata": {},
     "output_type": "display_data"
    },
    {
     "name": "stdout",
     "output_type": "stream",
     "text": [
      "\n",
      "Epoch 52: New best F1-weighted: 0.8052\n",
      "  F1-Macro: 0.7828, AUC-Macro: 0.0000, Accuracy: 0.8068\n",
      "Saving best model artifacts to C:\\Users\\PC\\Downloads\\Melspectrogram_finetune_NEW\\PestLarvaNet_AudioTwin_Run_5\\data_50.0percent\n"
     ]
    },
    {
     "data": {
      "application/vnd.jupyter.widget-view+json": {
       "model_id": "32b4d66c07714d96a33e17aedc0f4154",
       "version_major": 2,
       "version_minor": 0
      },
      "text/plain": [
       "Epoch 53/100:   0%|          | 0/176 [00:00<?, ?it/s]"
      ]
     },
     "metadata": {},
     "output_type": "display_data"
    },
    {
     "name": "stdout",
     "output_type": "stream",
     "text": [
      "\n",
      "Epoch 53: New best F1-weighted: 0.8091\n",
      "  F1-Macro: 0.7850, AUC-Macro: 0.0000, Accuracy: 0.8103\n",
      "Saving best model artifacts to C:\\Users\\PC\\Downloads\\Melspectrogram_finetune_NEW\\PestLarvaNet_AudioTwin_Run_5\\data_50.0percent\n"
     ]
    },
    {
     "data": {
      "application/vnd.jupyter.widget-view+json": {
       "model_id": "171ab5bc561d46408ee61f9e02b46e79",
       "version_major": 2,
       "version_minor": 0
      },
      "text/plain": [
       "Epoch 54/100:   0%|          | 0/176 [00:00<?, ?it/s]"
      ]
     },
     "metadata": {},
     "output_type": "display_data"
    },
    {
     "data": {
      "application/vnd.jupyter.widget-view+json": {
       "model_id": "42198f84516348efa305c36e8da22d11",
       "version_major": 2,
       "version_minor": 0
      },
      "text/plain": [
       "Epoch 55/100:   0%|          | 0/176 [00:00<?, ?it/s]"
      ]
     },
     "metadata": {},
     "output_type": "display_data"
    },
    {
     "data": {
      "application/vnd.jupyter.widget-view+json": {
       "model_id": "f6d83155c351456982c291c9665db366",
       "version_major": 2,
       "version_minor": 0
      },
      "text/plain": [
       "Epoch 56/100:   0%|          | 0/176 [00:00<?, ?it/s]"
      ]
     },
     "metadata": {},
     "output_type": "display_data"
    },
    {
     "data": {
      "application/vnd.jupyter.widget-view+json": {
       "model_id": "6e922bb3247c480ba78c6045a27be8dc",
       "version_major": 2,
       "version_minor": 0
      },
      "text/plain": [
       "Epoch 57/100:   0%|          | 0/176 [00:00<?, ?it/s]"
      ]
     },
     "metadata": {},
     "output_type": "display_data"
    },
    {
     "data": {
      "application/vnd.jupyter.widget-view+json": {
       "model_id": "2330526be403448792d4f270e01397b3",
       "version_major": 2,
       "version_minor": 0
      },
      "text/plain": [
       "Epoch 58/100:   0%|          | 0/176 [00:00<?, ?it/s]"
      ]
     },
     "metadata": {},
     "output_type": "display_data"
    },
    {
     "name": "stdout",
     "output_type": "stream",
     "text": [
      "\n",
      "Epoch 58: New best F1-weighted: 0.8096\n",
      "  F1-Macro: 0.7865, AUC-Macro: 0.0000, Accuracy: 0.8117\n",
      "Saving best model artifacts to C:\\Users\\PC\\Downloads\\Melspectrogram_finetune_NEW\\PestLarvaNet_AudioTwin_Run_5\\data_50.0percent\n"
     ]
    },
    {
     "data": {
      "application/vnd.jupyter.widget-view+json": {
       "model_id": "c7602b18f08f4f348b51d22e0ea76a73",
       "version_major": 2,
       "version_minor": 0
      },
      "text/plain": [
       "Epoch 59/100:   0%|          | 0/176 [00:00<?, ?it/s]"
      ]
     },
     "metadata": {},
     "output_type": "display_data"
    },
    {
     "name": "stdout",
     "output_type": "stream",
     "text": [
      "\n",
      "Epoch 59: New best F1-weighted: 0.8104\n",
      "  F1-Macro: 0.7875, AUC-Macro: 0.0000, Accuracy: 0.8128\n",
      "Saving best model artifacts to C:\\Users\\PC\\Downloads\\Melspectrogram_finetune_NEW\\PestLarvaNet_AudioTwin_Run_5\\data_50.0percent\n"
     ]
    },
    {
     "data": {
      "application/vnd.jupyter.widget-view+json": {
       "model_id": "5d4bf9d80bce4a84bf4249c9d37b1c63",
       "version_major": 2,
       "version_minor": 0
      },
      "text/plain": [
       "Epoch 60/100:   0%|          | 0/176 [00:00<?, ?it/s]"
      ]
     },
     "metadata": {},
     "output_type": "display_data"
    },
    {
     "data": {
      "application/vnd.jupyter.widget-view+json": {
       "model_id": "3b370e997b784a4899735f19c742c0ac",
       "version_major": 2,
       "version_minor": 0
      },
      "text/plain": [
       "Epoch 61/100:   0%|          | 0/176 [00:00<?, ?it/s]"
      ]
     },
     "metadata": {},
     "output_type": "display_data"
    },
    {
     "data": {
      "application/vnd.jupyter.widget-view+json": {
       "model_id": "7b3bb6b9c7d24f6485dbc5cd335f9d08",
       "version_major": 2,
       "version_minor": 0
      },
      "text/plain": [
       "Epoch 62/100:   0%|          | 0/176 [00:00<?, ?it/s]"
      ]
     },
     "metadata": {},
     "output_type": "display_data"
    },
    {
     "name": "stdout",
     "output_type": "stream",
     "text": [
      "\n",
      "Epoch 62: New best F1-weighted: 0.8205\n",
      "  F1-Macro: 0.7995, AUC-Macro: 0.0000, Accuracy: 0.8221\n",
      "Saving best model artifacts to C:\\Users\\PC\\Downloads\\Melspectrogram_finetune_NEW\\PestLarvaNet_AudioTwin_Run_5\\data_50.0percent\n"
     ]
    },
    {
     "data": {
      "application/vnd.jupyter.widget-view+json": {
       "model_id": "28fcc721ddf14a0382d15160b5a05808",
       "version_major": 2,
       "version_minor": 0
      },
      "text/plain": [
       "Epoch 63/100:   0%|          | 0/176 [00:00<?, ?it/s]"
      ]
     },
     "metadata": {},
     "output_type": "display_data"
    },
    {
     "data": {
      "application/vnd.jupyter.widget-view+json": {
       "model_id": "a20f468d1801446597229d2cee3fbae7",
       "version_major": 2,
       "version_minor": 0
      },
      "text/plain": [
       "Epoch 64/100:   0%|          | 0/176 [00:00<?, ?it/s]"
      ]
     },
     "metadata": {},
     "output_type": "display_data"
    },
    {
     "data": {
      "application/vnd.jupyter.widget-view+json": {
       "model_id": "296703a9ed83468f99c719497342daed",
       "version_major": 2,
       "version_minor": 0
      },
      "text/plain": [
       "Epoch 65/100:   0%|          | 0/176 [00:00<?, ?it/s]"
      ]
     },
     "metadata": {},
     "output_type": "display_data"
    },
    {
     "data": {
      "application/vnd.jupyter.widget-view+json": {
       "model_id": "0d41694d93d2477b8645d7d3dbe99872",
       "version_major": 2,
       "version_minor": 0
      },
      "text/plain": [
       "Epoch 66/100:   0%|          | 0/176 [00:00<?, ?it/s]"
      ]
     },
     "metadata": {},
     "output_type": "display_data"
    },
    {
     "name": "stdout",
     "output_type": "stream",
     "text": [
      "\n",
      "Epoch 66: New best F1-weighted: 0.8266\n",
      "  F1-Macro: 0.8058, AUC-Macro: 0.0000, Accuracy: 0.8270\n",
      "Saving best model artifacts to C:\\Users\\PC\\Downloads\\Melspectrogram_finetune_NEW\\PestLarvaNet_AudioTwin_Run_5\\data_50.0percent\n"
     ]
    },
    {
     "data": {
      "application/vnd.jupyter.widget-view+json": {
       "model_id": "e11aad0596e94edcb96a374ea5962d09",
       "version_major": 2,
       "version_minor": 0
      },
      "text/plain": [
       "Epoch 67/100:   0%|          | 0/176 [00:00<?, ?it/s]"
      ]
     },
     "metadata": {},
     "output_type": "display_data"
    },
    {
     "data": {
      "application/vnd.jupyter.widget-view+json": {
       "model_id": "99d43784eb3a4c778061e7e3b0297a54",
       "version_major": 2,
       "version_minor": 0
      },
      "text/plain": [
       "Epoch 68/100:   0%|          | 0/176 [00:00<?, ?it/s]"
      ]
     },
     "metadata": {},
     "output_type": "display_data"
    },
    {
     "name": "stdout",
     "output_type": "stream",
     "text": [
      "\n",
      "Epoch 68: New best F1-weighted: 0.8314\n",
      "  F1-Macro: 0.8109, AUC-Macro: 0.0000, Accuracy: 0.8317\n",
      "Saving best model artifacts to C:\\Users\\PC\\Downloads\\Melspectrogram_finetune_NEW\\PestLarvaNet_AudioTwin_Run_5\\data_50.0percent\n"
     ]
    },
    {
     "data": {
      "application/vnd.jupyter.widget-view+json": {
       "model_id": "d6d9f0b282854a26a8631029f58150f9",
       "version_major": 2,
       "version_minor": 0
      },
      "text/plain": [
       "Epoch 69/100:   0%|          | 0/176 [00:00<?, ?it/s]"
      ]
     },
     "metadata": {},
     "output_type": "display_data"
    },
    {
     "data": {
      "application/vnd.jupyter.widget-view+json": {
       "model_id": "3faf4589e48f4142a012bc1598be1b06",
       "version_major": 2,
       "version_minor": 0
      },
      "text/plain": [
       "Epoch 70/100:   0%|          | 0/176 [00:00<?, ?it/s]"
      ]
     },
     "metadata": {},
     "output_type": "display_data"
    },
    {
     "data": {
      "application/vnd.jupyter.widget-view+json": {
       "model_id": "ee286e7f57fe41bb837284afd049b8a9",
       "version_major": 2,
       "version_minor": 0
      },
      "text/plain": [
       "Epoch 71/100:   0%|          | 0/176 [00:00<?, ?it/s]"
      ]
     },
     "metadata": {},
     "output_type": "display_data"
    },
    {
     "data": {
      "application/vnd.jupyter.widget-view+json": {
       "model_id": "3fb07565fe3a4ed4990066a785850ff1",
       "version_major": 2,
       "version_minor": 0
      },
      "text/plain": [
       "Epoch 72/100:   0%|          | 0/176 [00:00<?, ?it/s]"
      ]
     },
     "metadata": {},
     "output_type": "display_data"
    },
    {
     "data": {
      "application/vnd.jupyter.widget-view+json": {
       "model_id": "1b817258701841bc8a2e3811e0ee8263",
       "version_major": 2,
       "version_minor": 0
      },
      "text/plain": [
       "Epoch 73/100:   0%|          | 0/176 [00:00<?, ?it/s]"
      ]
     },
     "metadata": {},
     "output_type": "display_data"
    },
    {
     "data": {
      "application/vnd.jupyter.widget-view+json": {
       "model_id": "e05fb83e04e34b36b106be4d84767abe",
       "version_major": 2,
       "version_minor": 0
      },
      "text/plain": [
       "Epoch 74/100:   0%|          | 0/176 [00:00<?, ?it/s]"
      ]
     },
     "metadata": {},
     "output_type": "display_data"
    },
    {
     "data": {
      "application/vnd.jupyter.widget-view+json": {
       "model_id": "bc78df55ec6e4f21a360224f3d240240",
       "version_major": 2,
       "version_minor": 0
      },
      "text/plain": [
       "Epoch 75/100:   0%|          | 0/176 [00:00<?, ?it/s]"
      ]
     },
     "metadata": {},
     "output_type": "display_data"
    },
    {
     "name": "stdout",
     "output_type": "stream",
     "text": [
      "\n",
      "Epoch 75: New best F1-weighted: 0.8449\n",
      "  F1-Macro: 0.8289, AUC-Macro: 0.0000, Accuracy: 0.8452\n",
      "Saving best model artifacts to C:\\Users\\PC\\Downloads\\Melspectrogram_finetune_NEW\\PestLarvaNet_AudioTwin_Run_5\\data_50.0percent\n"
     ]
    },
    {
     "data": {
      "application/vnd.jupyter.widget-view+json": {
       "model_id": "a8d03c77e94d4ba4b676e4eebb293b95",
       "version_major": 2,
       "version_minor": 0
      },
      "text/plain": [
       "Epoch 76/100:   0%|          | 0/176 [00:00<?, ?it/s]"
      ]
     },
     "metadata": {},
     "output_type": "display_data"
    },
    {
     "name": "stdout",
     "output_type": "stream",
     "text": [
      "\n",
      "Epoch 76: New best F1-weighted: 0.8451\n",
      "  F1-Macro: 0.8322, AUC-Macro: 0.0000, Accuracy: 0.8448\n",
      "Saving best model artifacts to C:\\Users\\PC\\Downloads\\Melspectrogram_finetune_NEW\\PestLarvaNet_AudioTwin_Run_5\\data_50.0percent\n"
     ]
    },
    {
     "data": {
      "application/vnd.jupyter.widget-view+json": {
       "model_id": "7c2e77feb711487b993bac940e293d46",
       "version_major": 2,
       "version_minor": 0
      },
      "text/plain": [
       "Epoch 77/100:   0%|          | 0/176 [00:00<?, ?it/s]"
      ]
     },
     "metadata": {},
     "output_type": "display_data"
    },
    {
     "data": {
      "application/vnd.jupyter.widget-view+json": {
       "model_id": "c461107d7b694084a7dfe59f8acb3490",
       "version_major": 2,
       "version_minor": 0
      },
      "text/plain": [
       "Epoch 78/100:   0%|          | 0/176 [00:00<?, ?it/s]"
      ]
     },
     "metadata": {},
     "output_type": "display_data"
    },
    {
     "name": "stdout",
     "output_type": "stream",
     "text": [
      "\n",
      "Epoch 78: New best F1-weighted: 0.8471\n",
      "  F1-Macro: 0.8296, AUC-Macro: 0.0000, Accuracy: 0.8477\n",
      "Saving best model artifacts to C:\\Users\\PC\\Downloads\\Melspectrogram_finetune_NEW\\PestLarvaNet_AudioTwin_Run_5\\data_50.0percent\n"
     ]
    },
    {
     "data": {
      "application/vnd.jupyter.widget-view+json": {
       "model_id": "5df9030772304bf9a24d67a09c4e1cb1",
       "version_major": 2,
       "version_minor": 0
      },
      "text/plain": [
       "Epoch 79/100:   0%|          | 0/176 [00:00<?, ?it/s]"
      ]
     },
     "metadata": {},
     "output_type": "display_data"
    },
    {
     "data": {
      "application/vnd.jupyter.widget-view+json": {
       "model_id": "f209f46ce2fe4646a1624b4a2a9f8718",
       "version_major": 2,
       "version_minor": 0
      },
      "text/plain": [
       "Epoch 80/100:   0%|          | 0/176 [00:00<?, ?it/s]"
      ]
     },
     "metadata": {},
     "output_type": "display_data"
    },
    {
     "data": {
      "application/vnd.jupyter.widget-view+json": {
       "model_id": "7bf289b7fa5a4a9d89ee896575e18685",
       "version_major": 2,
       "version_minor": 0
      },
      "text/plain": [
       "Epoch 81/100:   0%|          | 0/176 [00:00<?, ?it/s]"
      ]
     },
     "metadata": {},
     "output_type": "display_data"
    },
    {
     "name": "stdout",
     "output_type": "stream",
     "text": [
      "\n",
      "Epoch 81: New best F1-weighted: 0.8495\n",
      "  F1-Macro: 0.8337, AUC-Macro: 0.0000, Accuracy: 0.8498\n",
      "Saving best model artifacts to C:\\Users\\PC\\Downloads\\Melspectrogram_finetune_NEW\\PestLarvaNet_AudioTwin_Run_5\\data_50.0percent\n"
     ]
    },
    {
     "data": {
      "application/vnd.jupyter.widget-view+json": {
       "model_id": "f86b2c0c69b54ffc946b9b0f0119058d",
       "version_major": 2,
       "version_minor": 0
      },
      "text/plain": [
       "Epoch 82/100:   0%|          | 0/176 [00:00<?, ?it/s]"
      ]
     },
     "metadata": {},
     "output_type": "display_data"
    },
    {
     "data": {
      "application/vnd.jupyter.widget-view+json": {
       "model_id": "75bbd32456af4858ba50ab41a974bbca",
       "version_major": 2,
       "version_minor": 0
      },
      "text/plain": [
       "Epoch 83/100:   0%|          | 0/176 [00:00<?, ?it/s]"
      ]
     },
     "metadata": {},
     "output_type": "display_data"
    },
    {
     "data": {
      "application/vnd.jupyter.widget-view+json": {
       "model_id": "88ee19609a55401e82f7aa9d3fdaf601",
       "version_major": 2,
       "version_minor": 0
      },
      "text/plain": [
       "Epoch 84/100:   0%|          | 0/176 [00:00<?, ?it/s]"
      ]
     },
     "metadata": {},
     "output_type": "display_data"
    },
    {
     "data": {
      "application/vnd.jupyter.widget-view+json": {
       "model_id": "78e4106b08e44a17a49a99e11615e718",
       "version_major": 2,
       "version_minor": 0
      },
      "text/plain": [
       "Epoch 85/100:   0%|          | 0/176 [00:00<?, ?it/s]"
      ]
     },
     "metadata": {},
     "output_type": "display_data"
    },
    {
     "data": {
      "application/vnd.jupyter.widget-view+json": {
       "model_id": "70234b4d5668414dada53a888eca188d",
       "version_major": 2,
       "version_minor": 0
      },
      "text/plain": [
       "Epoch 86/100:   0%|          | 0/176 [00:00<?, ?it/s]"
      ]
     },
     "metadata": {},
     "output_type": "display_data"
    },
    {
     "data": {
      "application/vnd.jupyter.widget-view+json": {
       "model_id": "628bd51d1c424d2f8b84ad8d8dfb53fc",
       "version_major": 2,
       "version_minor": 0
      },
      "text/plain": [
       "Epoch 87/100:   0%|          | 0/176 [00:00<?, ?it/s]"
      ]
     },
     "metadata": {},
     "output_type": "display_data"
    },
    {
     "data": {
      "application/vnd.jupyter.widget-view+json": {
       "model_id": "cdfdb763272d43dcaf7cbd680a537e9e",
       "version_major": 2,
       "version_minor": 0
      },
      "text/plain": [
       "Epoch 88/100:   0%|          | 0/176 [00:00<?, ?it/s]"
      ]
     },
     "metadata": {},
     "output_type": "display_data"
    },
    {
     "name": "stdout",
     "output_type": "stream",
     "text": [
      "\n",
      "Epoch 88: New best F1-weighted: 0.8524\n",
      "  F1-Macro: 0.8373, AUC-Macro: 0.0000, Accuracy: 0.8527\n",
      "Saving best model artifacts to C:\\Users\\PC\\Downloads\\Melspectrogram_finetune_NEW\\PestLarvaNet_AudioTwin_Run_5\\data_50.0percent\n"
     ]
    },
    {
     "data": {
      "application/vnd.jupyter.widget-view+json": {
       "model_id": "2eeeb97189824b92b521720222554f90",
       "version_major": 2,
       "version_minor": 0
      },
      "text/plain": [
       "Epoch 89/100:   0%|          | 0/176 [00:00<?, ?it/s]"
      ]
     },
     "metadata": {},
     "output_type": "display_data"
    },
    {
     "data": {
      "application/vnd.jupyter.widget-view+json": {
       "model_id": "ba2ac08ebc29495aba63abb1076f94e9",
       "version_major": 2,
       "version_minor": 0
      },
      "text/plain": [
       "Epoch 90/100:   0%|          | 0/176 [00:00<?, ?it/s]"
      ]
     },
     "metadata": {},
     "output_type": "display_data"
    },
    {
     "name": "stdout",
     "output_type": "stream",
     "text": [
      "\n",
      "Epoch 90: New best F1-weighted: 0.8615\n",
      "  F1-Macro: 0.8491, AUC-Macro: 0.0000, Accuracy: 0.8612\n",
      "Saving best model artifacts to C:\\Users\\PC\\Downloads\\Melspectrogram_finetune_NEW\\PestLarvaNet_AudioTwin_Run_5\\data_50.0percent\n"
     ]
    },
    {
     "data": {
      "application/vnd.jupyter.widget-view+json": {
       "model_id": "9905641ad2de49eca72bdb7d82ddaba6",
       "version_major": 2,
       "version_minor": 0
      },
      "text/plain": [
       "Epoch 91/100:   0%|          | 0/176 [00:00<?, ?it/s]"
      ]
     },
     "metadata": {},
     "output_type": "display_data"
    },
    {
     "data": {
      "application/vnd.jupyter.widget-view+json": {
       "model_id": "b709d83663704a148aaa3cb0f6e05928",
       "version_major": 2,
       "version_minor": 0
      },
      "text/plain": [
       "Epoch 92/100:   0%|          | 0/176 [00:00<?, ?it/s]"
      ]
     },
     "metadata": {},
     "output_type": "display_data"
    },
    {
     "data": {
      "application/vnd.jupyter.widget-view+json": {
       "model_id": "92d00120e6ce4f3781c49b38d66ee0de",
       "version_major": 2,
       "version_minor": 0
      },
      "text/plain": [
       "Epoch 93/100:   0%|          | 0/176 [00:00<?, ?it/s]"
      ]
     },
     "metadata": {},
     "output_type": "display_data"
    },
    {
     "data": {
      "application/vnd.jupyter.widget-view+json": {
       "model_id": "9662f28e31a44daf9bd8788218abe148",
       "version_major": 2,
       "version_minor": 0
      },
      "text/plain": [
       "Epoch 94/100:   0%|          | 0/176 [00:00<?, ?it/s]"
      ]
     },
     "metadata": {},
     "output_type": "display_data"
    },
    {
     "name": "stdout",
     "output_type": "stream",
     "text": [
      "\n",
      "Epoch 94: New best F1-weighted: 0.8631\n",
      "  F1-Macro: 0.8503, AUC-Macro: 0.0000, Accuracy: 0.8633\n",
      "Saving best model artifacts to C:\\Users\\PC\\Downloads\\Melspectrogram_finetune_NEW\\PestLarvaNet_AudioTwin_Run_5\\data_50.0percent\n"
     ]
    },
    {
     "data": {
      "application/vnd.jupyter.widget-view+json": {
       "model_id": "68b491eef7904c72b2485f775c2881bf",
       "version_major": 2,
       "version_minor": 0
      },
      "text/plain": [
       "Epoch 95/100:   0%|          | 0/176 [00:00<?, ?it/s]"
      ]
     },
     "metadata": {},
     "output_type": "display_data"
    },
    {
     "data": {
      "application/vnd.jupyter.widget-view+json": {
       "model_id": "5e30aab3f84a4887a5f6b8c7f6306114",
       "version_major": 2,
       "version_minor": 0
      },
      "text/plain": [
       "Epoch 96/100:   0%|          | 0/176 [00:00<?, ?it/s]"
      ]
     },
     "metadata": {},
     "output_type": "display_data"
    },
    {
     "data": {
      "application/vnd.jupyter.widget-view+json": {
       "model_id": "a73828c4ab4f40a2a3802e0d5287eaa2",
       "version_major": 2,
       "version_minor": 0
      },
      "text/plain": [
       "Epoch 97/100:   0%|          | 0/176 [00:00<?, ?it/s]"
      ]
     },
     "metadata": {},
     "output_type": "display_data"
    },
    {
     "data": {
      "application/vnd.jupyter.widget-view+json": {
       "model_id": "93fa1716369049a4ab2af1ce30ebf800",
       "version_major": 2,
       "version_minor": 0
      },
      "text/plain": [
       "Epoch 98/100:   0%|          | 0/176 [00:00<?, ?it/s]"
      ]
     },
     "metadata": {},
     "output_type": "display_data"
    },
    {
     "data": {
      "application/vnd.jupyter.widget-view+json": {
       "model_id": "95f9a280fc884c0a8654efc7321ec064",
       "version_major": 2,
       "version_minor": 0
      },
      "text/plain": [
       "Epoch 99/100:   0%|          | 0/176 [00:00<?, ?it/s]"
      ]
     },
     "metadata": {},
     "output_type": "display_data"
    },
    {
     "data": {
      "application/vnd.jupyter.widget-view+json": {
       "model_id": "45a736cb10e547928101496c3b1bda78",
       "version_major": 2,
       "version_minor": 0
      },
      "text/plain": [
       "Epoch 100/100:   0%|          | 0/176 [00:00<?, ?it/s]"
      ]
     },
     "metadata": {},
     "output_type": "display_data"
    },
    {
     "name": "stdout",
     "output_type": "stream",
     "text": [
      "\n",
      "Epoch 100: New best F1-weighted: 0.8662\n",
      "  F1-Macro: 0.8556, AUC-Macro: 0.0000, Accuracy: 0.8662\n",
      "Saving best model artifacts to C:\\Users\\PC\\Downloads\\Melspectrogram_finetune_NEW\\PestLarvaNet_AudioTwin_Run_5\\data_50.0percent\n",
      "Finished Training for this run. Best F1-weighted: 0.8662\n",
      "==> Results with 50.0% data: Best F1-Weighted = 0.8662\n",
      "--- Training with 100.0% of labeled data ---\n",
      "Loading pretrained weights from: C:\\Users\\PC\\PestLarvaNet\\SSL\\audiotwin_checkpoints_medium\\Final checkpoint\\run_5_lp1e-02_ep1e-06_lb0.010_audiotwin_pestlarvanet_medium_epoch_100.pth\n"
     ]
    },
    {
     "name": "stderr",
     "output_type": "stream",
     "text": [
      "C:\\Users\\PC\\anaconda3\\envs\\FallDeteNet\\lib\\site-packages\\torch\\optim\\lr_scheduler.py:62: UserWarning: The verbose parameter is deprecated. Please use get_last_lr() to access the learning rate.\n",
      "  warnings.warn(\n"
     ]
    },
    {
     "data": {
      "application/vnd.jupyter.widget-view+json": {
       "model_id": "0172bb4c0c7a447b8b28c2655ee8ae23",
       "version_major": 2,
       "version_minor": 0
      },
      "text/plain": [
       "Epoch 1/100:   0%|          | 0/352 [00:00<?, ?it/s]"
      ]
     },
     "metadata": {},
     "output_type": "display_data"
    },
    {
     "name": "stdout",
     "output_type": "stream",
     "text": [
      "\n",
      "Epoch 1: New best F1-weighted: 0.4628\n",
      "  F1-Macro: 0.3903, AUC-Macro: 0.0000, Accuracy: 0.5463\n",
      "Saving best model artifacts to C:\\Users\\PC\\Downloads\\Melspectrogram_finetune_NEW\\PestLarvaNet_AudioTwin_Run_5\\data_100.0percent\n"
     ]
    },
    {
     "data": {
      "application/vnd.jupyter.widget-view+json": {
       "model_id": "92c4dd8e4d2d4482b0f9973c263c4a04",
       "version_major": 2,
       "version_minor": 0
      },
      "text/plain": [
       "Epoch 2/100:   0%|          | 0/352 [00:00<?, ?it/s]"
      ]
     },
     "metadata": {},
     "output_type": "display_data"
    },
    {
     "name": "stdout",
     "output_type": "stream",
     "text": [
      "\n",
      "Epoch 2: New best F1-weighted: 0.4781\n",
      "  F1-Macro: 0.4173, AUC-Macro: 0.0000, Accuracy: 0.5402\n",
      "Saving best model artifacts to C:\\Users\\PC\\Downloads\\Melspectrogram_finetune_NEW\\PestLarvaNet_AudioTwin_Run_5\\data_100.0percent\n"
     ]
    },
    {
     "data": {
      "application/vnd.jupyter.widget-view+json": {
       "model_id": "7a91b23adbc245eda4afc7f60e8ef338",
       "version_major": 2,
       "version_minor": 0
      },
      "text/plain": [
       "Epoch 3/100:   0%|          | 0/352 [00:00<?, ?it/s]"
      ]
     },
     "metadata": {},
     "output_type": "display_data"
    },
    {
     "name": "stdout",
     "output_type": "stream",
     "text": [
      "\n",
      "Epoch 3: New best F1-weighted: 0.5332\n",
      "  F1-Macro: 0.4539, AUC-Macro: 0.0000, Accuracy: 0.5737\n",
      "Saving best model artifacts to C:\\Users\\PC\\Downloads\\Melspectrogram_finetune_NEW\\PestLarvaNet_AudioTwin_Run_5\\data_100.0percent\n"
     ]
    },
    {
     "data": {
      "application/vnd.jupyter.widget-view+json": {
       "model_id": "70f006aa32c14ccca45fd56d1d52892f",
       "version_major": 2,
       "version_minor": 0
      },
      "text/plain": [
       "Epoch 4/100:   0%|          | 0/352 [00:00<?, ?it/s]"
      ]
     },
     "metadata": {},
     "output_type": "display_data"
    },
    {
     "name": "stdout",
     "output_type": "stream",
     "text": [
      "\n",
      "Epoch 4: New best F1-weighted: 0.5769\n",
      "  F1-Macro: 0.4990, AUC-Macro: 0.0000, Accuracy: 0.6135\n",
      "Saving best model artifacts to C:\\Users\\PC\\Downloads\\Melspectrogram_finetune_NEW\\PestLarvaNet_AudioTwin_Run_5\\data_100.0percent\n"
     ]
    },
    {
     "data": {
      "application/vnd.jupyter.widget-view+json": {
       "model_id": "305eb1e5609341aa85b270f8a176847e",
       "version_major": 2,
       "version_minor": 0
      },
      "text/plain": [
       "Epoch 5/100:   0%|          | 0/352 [00:00<?, ?it/s]"
      ]
     },
     "metadata": {},
     "output_type": "display_data"
    },
    {
     "data": {
      "application/vnd.jupyter.widget-view+json": {
       "model_id": "2d38ebc5458e41048804386d6b706c8d",
       "version_major": 2,
       "version_minor": 0
      },
      "text/plain": [
       "Epoch 6/100:   0%|          | 0/352 [00:00<?, ?it/s]"
      ]
     },
     "metadata": {},
     "output_type": "display_data"
    },
    {
     "data": {
      "application/vnd.jupyter.widget-view+json": {
       "model_id": "dd5d4a1414fc4355a942f06ec9b6009b",
       "version_major": 2,
       "version_minor": 0
      },
      "text/plain": [
       "Epoch 7/100:   0%|          | 0/352 [00:00<?, ?it/s]"
      ]
     },
     "metadata": {},
     "output_type": "display_data"
    },
    {
     "name": "stdout",
     "output_type": "stream",
     "text": [
      "\n",
      "Epoch 7: New best F1-weighted: 0.6167\n",
      "  F1-Macro: 0.5463, AUC-Macro: 0.0000, Accuracy: 0.6409\n",
      "Saving best model artifacts to C:\\Users\\PC\\Downloads\\Melspectrogram_finetune_NEW\\PestLarvaNet_AudioTwin_Run_5\\data_100.0percent\n"
     ]
    },
    {
     "data": {
      "application/vnd.jupyter.widget-view+json": {
       "model_id": "92d03e79686e4f50b6272a71027bce36",
       "version_major": 2,
       "version_minor": 0
      },
      "text/plain": [
       "Epoch 8/100:   0%|          | 0/352 [00:00<?, ?it/s]"
      ]
     },
     "metadata": {},
     "output_type": "display_data"
    },
    {
     "data": {
      "application/vnd.jupyter.widget-view+json": {
       "model_id": "a3722f2afd7c4a96af75473c76ff1b04",
       "version_major": 2,
       "version_minor": 0
      },
      "text/plain": [
       "Epoch 9/100:   0%|          | 0/352 [00:00<?, ?it/s]"
      ]
     },
     "metadata": {},
     "output_type": "display_data"
    },
    {
     "name": "stdout",
     "output_type": "stream",
     "text": [
      "\n",
      "Epoch 9: New best F1-weighted: 0.6672\n",
      "  F1-Macro: 0.6059, AUC-Macro: 0.0000, Accuracy: 0.6851\n",
      "Saving best model artifacts to C:\\Users\\PC\\Downloads\\Melspectrogram_finetune_NEW\\PestLarvaNet_AudioTwin_Run_5\\data_100.0percent\n"
     ]
    },
    {
     "data": {
      "application/vnd.jupyter.widget-view+json": {
       "model_id": "28b0c421e5b74fdd9ebc77a3905a4227",
       "version_major": 2,
       "version_minor": 0
      },
      "text/plain": [
       "Epoch 10/100:   0%|          | 0/352 [00:00<?, ?it/s]"
      ]
     },
     "metadata": {},
     "output_type": "display_data"
    },
    {
     "name": "stdout",
     "output_type": "stream",
     "text": [
      "\n",
      "Epoch 10: New best F1-weighted: 0.6740\n",
      "  F1-Macro: 0.6122, AUC-Macro: 0.0000, Accuracy: 0.6972\n",
      "Saving best model artifacts to C:\\Users\\PC\\Downloads\\Melspectrogram_finetune_NEW\\PestLarvaNet_AudioTwin_Run_5\\data_100.0percent\n"
     ]
    },
    {
     "data": {
      "application/vnd.jupyter.widget-view+json": {
       "model_id": "42ac7a87d06c4728baf241083cd3215f",
       "version_major": 2,
       "version_minor": 0
      },
      "text/plain": [
       "Epoch 11/100:   0%|          | 0/352 [00:00<?, ?it/s]"
      ]
     },
     "metadata": {},
     "output_type": "display_data"
    },
    {
     "data": {
      "application/vnd.jupyter.widget-view+json": {
       "model_id": "d3ea56734df74c64981a6d63da90c277",
       "version_major": 2,
       "version_minor": 0
      },
      "text/plain": [
       "Epoch 12/100:   0%|          | 0/352 [00:00<?, ?it/s]"
      ]
     },
     "metadata": {},
     "output_type": "display_data"
    },
    {
     "data": {
      "application/vnd.jupyter.widget-view+json": {
       "model_id": "531ff41672944b52b2b41180d996df74",
       "version_major": 2,
       "version_minor": 0
      },
      "text/plain": [
       "Epoch 13/100:   0%|          | 0/352 [00:00<?, ?it/s]"
      ]
     },
     "metadata": {},
     "output_type": "display_data"
    },
    {
     "name": "stdout",
     "output_type": "stream",
     "text": [
      "\n",
      "Epoch 13: New best F1-weighted: 0.6894\n",
      "  F1-Macro: 0.6319, AUC-Macro: 0.0000, Accuracy: 0.7114\n",
      "Saving best model artifacts to C:\\Users\\PC\\Downloads\\Melspectrogram_finetune_NEW\\PestLarvaNet_AudioTwin_Run_5\\data_100.0percent\n"
     ]
    },
    {
     "data": {
      "application/vnd.jupyter.widget-view+json": {
       "model_id": "602a1fe424604481a9cf01d248aaaeea",
       "version_major": 2,
       "version_minor": 0
      },
      "text/plain": [
       "Epoch 14/100:   0%|          | 0/352 [00:00<?, ?it/s]"
      ]
     },
     "metadata": {},
     "output_type": "display_data"
    },
    {
     "data": {
      "application/vnd.jupyter.widget-view+json": {
       "model_id": "57ee6b63a2a94c829c23cfc068ef7e27",
       "version_major": 2,
       "version_minor": 0
      },
      "text/plain": [
       "Epoch 15/100:   0%|          | 0/352 [00:00<?, ?it/s]"
      ]
     },
     "metadata": {},
     "output_type": "display_data"
    },
    {
     "name": "stdout",
     "output_type": "stream",
     "text": [
      "\n",
      "Epoch 15: New best F1-weighted: 0.7308\n",
      "  F1-Macro: 0.6900, AUC-Macro: 0.0000, Accuracy: 0.7363\n",
      "Saving best model artifacts to C:\\Users\\PC\\Downloads\\Melspectrogram_finetune_NEW\\PestLarvaNet_AudioTwin_Run_5\\data_100.0percent\n"
     ]
    },
    {
     "data": {
      "application/vnd.jupyter.widget-view+json": {
       "model_id": "73b3eb5ebe6d40ce9ef725e4a8b06d06",
       "version_major": 2,
       "version_minor": 0
      },
      "text/plain": [
       "Epoch 16/100:   0%|          | 0/352 [00:00<?, ?it/s]"
      ]
     },
     "metadata": {},
     "output_type": "display_data"
    },
    {
     "data": {
      "application/vnd.jupyter.widget-view+json": {
       "model_id": "9be22e66e19d47dea4b68fa3e7819543",
       "version_major": 2,
       "version_minor": 0
      },
      "text/plain": [
       "Epoch 17/100:   0%|          | 0/352 [00:00<?, ?it/s]"
      ]
     },
     "metadata": {},
     "output_type": "display_data"
    },
    {
     "data": {
      "application/vnd.jupyter.widget-view+json": {
       "model_id": "9990be5785024c70ab60c7261ca9743f",
       "version_major": 2,
       "version_minor": 0
      },
      "text/plain": [
       "Epoch 18/100:   0%|          | 0/352 [00:00<?, ?it/s]"
      ]
     },
     "metadata": {},
     "output_type": "display_data"
    },
    {
     "name": "stdout",
     "output_type": "stream",
     "text": [
      "\n",
      "Epoch 18: New best F1-weighted: 0.7378\n",
      "  F1-Macro: 0.7033, AUC-Macro: 0.0000, Accuracy: 0.7431\n",
      "Saving best model artifacts to C:\\Users\\PC\\Downloads\\Melspectrogram_finetune_NEW\\PestLarvaNet_AudioTwin_Run_5\\data_100.0percent\n"
     ]
    },
    {
     "data": {
      "application/vnd.jupyter.widget-view+json": {
       "model_id": "19c4d2962c544b69bf2ef3390384c5ba",
       "version_major": 2,
       "version_minor": 0
      },
      "text/plain": [
       "Epoch 19/100:   0%|          | 0/352 [00:00<?, ?it/s]"
      ]
     },
     "metadata": {},
     "output_type": "display_data"
    },
    {
     "name": "stdout",
     "output_type": "stream",
     "text": [
      "\n",
      "Epoch 19: New best F1-weighted: 0.7550\n",
      "  F1-Macro: 0.7212, AUC-Macro: 0.0000, Accuracy: 0.7548\n",
      "Saving best model artifacts to C:\\Users\\PC\\Downloads\\Melspectrogram_finetune_NEW\\PestLarvaNet_AudioTwin_Run_5\\data_100.0percent\n"
     ]
    },
    {
     "data": {
      "application/vnd.jupyter.widget-view+json": {
       "model_id": "9a0d079844f64e0ca1cdd839dcf688cf",
       "version_major": 2,
       "version_minor": 0
      },
      "text/plain": [
       "Epoch 20/100:   0%|          | 0/352 [00:00<?, ?it/s]"
      ]
     },
     "metadata": {},
     "output_type": "display_data"
    },
    {
     "name": "stdout",
     "output_type": "stream",
     "text": [
      "\n",
      "Epoch 20: New best F1-weighted: 0.7633\n",
      "  F1-Macro: 0.7363, AUC-Macro: 0.0000, Accuracy: 0.7623\n",
      "Saving best model artifacts to C:\\Users\\PC\\Downloads\\Melspectrogram_finetune_NEW\\PestLarvaNet_AudioTwin_Run_5\\data_100.0percent\n"
     ]
    },
    {
     "data": {
      "application/vnd.jupyter.widget-view+json": {
       "model_id": "cbe03edef3314798aedf0f3741287628",
       "version_major": 2,
       "version_minor": 0
      },
      "text/plain": [
       "Epoch 21/100:   0%|          | 0/352 [00:00<?, ?it/s]"
      ]
     },
     "metadata": {},
     "output_type": "display_data"
    },
    {
     "data": {
      "application/vnd.jupyter.widget-view+json": {
       "model_id": "8549d282f8ee489ba5cb6f0e2ea6b969",
       "version_major": 2,
       "version_minor": 0
      },
      "text/plain": [
       "Epoch 22/100:   0%|          | 0/352 [00:00<?, ?it/s]"
      ]
     },
     "metadata": {},
     "output_type": "display_data"
    },
    {
     "name": "stdout",
     "output_type": "stream",
     "text": [
      "\n",
      "Epoch 22: New best F1-weighted: 0.7759\n",
      "  F1-Macro: 0.7474, AUC-Macro: 0.0000, Accuracy: 0.7779\n",
      "Saving best model artifacts to C:\\Users\\PC\\Downloads\\Melspectrogram_finetune_NEW\\PestLarvaNet_AudioTwin_Run_5\\data_100.0percent\n"
     ]
    },
    {
     "data": {
      "application/vnd.jupyter.widget-view+json": {
       "model_id": "7a8bbb30d7354688a6ef573f5ca26f4a",
       "version_major": 2,
       "version_minor": 0
      },
      "text/plain": [
       "Epoch 23/100:   0%|          | 0/352 [00:00<?, ?it/s]"
      ]
     },
     "metadata": {},
     "output_type": "display_data"
    },
    {
     "data": {
      "application/vnd.jupyter.widget-view+json": {
       "model_id": "e28cc7e47be1438fb1b7e0deec41210b",
       "version_major": 2,
       "version_minor": 0
      },
      "text/plain": [
       "Epoch 24/100:   0%|          | 0/352 [00:00<?, ?it/s]"
      ]
     },
     "metadata": {},
     "output_type": "display_data"
    },
    {
     "data": {
      "application/vnd.jupyter.widget-view+json": {
       "model_id": "359b244e0ad8463a8b430b8daa6740ea",
       "version_major": 2,
       "version_minor": 0
      },
      "text/plain": [
       "Epoch 25/100:   0%|          | 0/352 [00:00<?, ?it/s]"
      ]
     },
     "metadata": {},
     "output_type": "display_data"
    },
    {
     "data": {
      "application/vnd.jupyter.widget-view+json": {
       "model_id": "08cc49d5bb7146b2b831886117f7d5d8",
       "version_major": 2,
       "version_minor": 0
      },
      "text/plain": [
       "Epoch 26/100:   0%|          | 0/352 [00:00<?, ?it/s]"
      ]
     },
     "metadata": {},
     "output_type": "display_data"
    },
    {
     "name": "stdout",
     "output_type": "stream",
     "text": [
      "\n",
      "Epoch 26: New best F1-weighted: 0.7841\n",
      "  F1-Macro: 0.7604, AUC-Macro: 0.0000, Accuracy: 0.7851\n",
      "Saving best model artifacts to C:\\Users\\PC\\Downloads\\Melspectrogram_finetune_NEW\\PestLarvaNet_AudioTwin_Run_5\\data_100.0percent\n"
     ]
    },
    {
     "data": {
      "application/vnd.jupyter.widget-view+json": {
       "model_id": "6b739801319a48d9bff052897c11bc54",
       "version_major": 2,
       "version_minor": 0
      },
      "text/plain": [
       "Epoch 27/100:   0%|          | 0/352 [00:00<?, ?it/s]"
      ]
     },
     "metadata": {},
     "output_type": "display_data"
    },
    {
     "data": {
      "application/vnd.jupyter.widget-view+json": {
       "model_id": "aed47794f866470bb1b7b6179612e3b1",
       "version_major": 2,
       "version_minor": 0
      },
      "text/plain": [
       "Epoch 28/100:   0%|          | 0/352 [00:00<?, ?it/s]"
      ]
     },
     "metadata": {},
     "output_type": "display_data"
    },
    {
     "data": {
      "application/vnd.jupyter.widget-view+json": {
       "model_id": "9b2c4981547d4e94aec99eddc2463774",
       "version_major": 2,
       "version_minor": 0
      },
      "text/plain": [
       "Epoch 29/100:   0%|          | 0/352 [00:00<?, ?it/s]"
      ]
     },
     "metadata": {},
     "output_type": "display_data"
    },
    {
     "name": "stdout",
     "output_type": "stream",
     "text": [
      "\n",
      "Epoch 29: New best F1-weighted: 0.7881\n",
      "  F1-Macro: 0.7579, AUC-Macro: 0.0000, Accuracy: 0.7915\n",
      "Saving best model artifacts to C:\\Users\\PC\\Downloads\\Melspectrogram_finetune_NEW\\PestLarvaNet_AudioTwin_Run_5\\data_100.0percent\n"
     ]
    },
    {
     "data": {
      "application/vnd.jupyter.widget-view+json": {
       "model_id": "d381e9fc3a334f4297552967ff178f2d",
       "version_major": 2,
       "version_minor": 0
      },
      "text/plain": [
       "Epoch 30/100:   0%|          | 0/352 [00:00<?, ?it/s]"
      ]
     },
     "metadata": {},
     "output_type": "display_data"
    },
    {
     "data": {
      "application/vnd.jupyter.widget-view+json": {
       "model_id": "265c62c6789449fa9fe7169de65ef527",
       "version_major": 2,
       "version_minor": 0
      },
      "text/plain": [
       "Epoch 31/100:   0%|          | 0/352 [00:00<?, ?it/s]"
      ]
     },
     "metadata": {},
     "output_type": "display_data"
    },
    {
     "name": "stdout",
     "output_type": "stream",
     "text": [
      "\n",
      "Epoch 31: New best F1-weighted: 0.8059\n",
      "  F1-Macro: 0.7852, AUC-Macro: 0.0000, Accuracy: 0.8057\n",
      "Saving best model artifacts to C:\\Users\\PC\\Downloads\\Melspectrogram_finetune_NEW\\PestLarvaNet_AudioTwin_Run_5\\data_100.0percent\n"
     ]
    },
    {
     "data": {
      "application/vnd.jupyter.widget-view+json": {
       "model_id": "92621765965f4a0eb74af0d6b7fce9d0",
       "version_major": 2,
       "version_minor": 0
      },
      "text/plain": [
       "Epoch 32/100:   0%|          | 0/352 [00:00<?, ?it/s]"
      ]
     },
     "metadata": {},
     "output_type": "display_data"
    },
    {
     "data": {
      "application/vnd.jupyter.widget-view+json": {
       "model_id": "c1a27cec161145d1bc374bc87a645668",
       "version_major": 2,
       "version_minor": 0
      },
      "text/plain": [
       "Epoch 33/100:   0%|          | 0/352 [00:00<?, ?it/s]"
      ]
     },
     "metadata": {},
     "output_type": "display_data"
    },
    {
     "data": {
      "application/vnd.jupyter.widget-view+json": {
       "model_id": "c7739b9531e846049f8c8ba504f2e4a4",
       "version_major": 2,
       "version_minor": 0
      },
      "text/plain": [
       "Epoch 34/100:   0%|          | 0/352 [00:00<?, ?it/s]"
      ]
     },
     "metadata": {},
     "output_type": "display_data"
    },
    {
     "data": {
      "application/vnd.jupyter.widget-view+json": {
       "model_id": "06eb4ae2fa784585845924e300eafa55",
       "version_major": 2,
       "version_minor": 0
      },
      "text/plain": [
       "Epoch 35/100:   0%|          | 0/352 [00:00<?, ?it/s]"
      ]
     },
     "metadata": {},
     "output_type": "display_data"
    },
    {
     "data": {
      "application/vnd.jupyter.widget-view+json": {
       "model_id": "dd03b623a248484cbb1eeb6924765248",
       "version_major": 2,
       "version_minor": 0
      },
      "text/plain": [
       "Epoch 36/100:   0%|          | 0/352 [00:00<?, ?it/s]"
      ]
     },
     "metadata": {},
     "output_type": "display_data"
    },
    {
     "name": "stdout",
     "output_type": "stream",
     "text": [
      "\n",
      "Epoch 36: New best F1-weighted: 0.8092\n",
      "  F1-Macro: 0.7907, AUC-Macro: 0.0000, Accuracy: 0.8089\n",
      "Saving best model artifacts to C:\\Users\\PC\\Downloads\\Melspectrogram_finetune_NEW\\PestLarvaNet_AudioTwin_Run_5\\data_100.0percent\n"
     ]
    },
    {
     "data": {
      "application/vnd.jupyter.widget-view+json": {
       "model_id": "7eb29010c15c4532b2f0fa09b31fa716",
       "version_major": 2,
       "version_minor": 0
      },
      "text/plain": [
       "Epoch 37/100:   0%|          | 0/352 [00:00<?, ?it/s]"
      ]
     },
     "metadata": {},
     "output_type": "display_data"
    },
    {
     "name": "stdout",
     "output_type": "stream",
     "text": [
      "\n",
      "Epoch 37: New best F1-weighted: 0.8172\n",
      "  F1-Macro: 0.7966, AUC-Macro: 0.0000, Accuracy: 0.8164\n",
      "Saving best model artifacts to C:\\Users\\PC\\Downloads\\Melspectrogram_finetune_NEW\\PestLarvaNet_AudioTwin_Run_5\\data_100.0percent\n"
     ]
    },
    {
     "data": {
      "application/vnd.jupyter.widget-view+json": {
       "model_id": "550a886c022c4fe4b4e271b2ce456785",
       "version_major": 2,
       "version_minor": 0
      },
      "text/plain": [
       "Epoch 38/100:   0%|          | 0/352 [00:00<?, ?it/s]"
      ]
     },
     "metadata": {},
     "output_type": "display_data"
    },
    {
     "data": {
      "application/vnd.jupyter.widget-view+json": {
       "model_id": "42ccbd3465ce4e2aa6334e02ae21fd59",
       "version_major": 2,
       "version_minor": 0
      },
      "text/plain": [
       "Epoch 39/100:   0%|          | 0/352 [00:00<?, ?it/s]"
      ]
     },
     "metadata": {},
     "output_type": "display_data"
    },
    {
     "name": "stdout",
     "output_type": "stream",
     "text": [
      "\n",
      "Epoch 39: New best F1-weighted: 0.8254\n",
      "  F1-Macro: 0.8071, AUC-Macro: 0.0000, Accuracy: 0.8263\n",
      "Saving best model artifacts to C:\\Users\\PC\\Downloads\\Melspectrogram_finetune_NEW\\PestLarvaNet_AudioTwin_Run_5\\data_100.0percent\n"
     ]
    },
    {
     "data": {
      "application/vnd.jupyter.widget-view+json": {
       "model_id": "95e859b296ed4bf58643858a5b08f835",
       "version_major": 2,
       "version_minor": 0
      },
      "text/plain": [
       "Epoch 40/100:   0%|          | 0/352 [00:00<?, ?it/s]"
      ]
     },
     "metadata": {},
     "output_type": "display_data"
    },
    {
     "name": "stdout",
     "output_type": "stream",
     "text": [
      "\n",
      "Epoch 40: New best F1-weighted: 0.8282\n",
      "  F1-Macro: 0.8110, AUC-Macro: 0.0000, Accuracy: 0.8267\n",
      "Saving best model artifacts to C:\\Users\\PC\\Downloads\\Melspectrogram_finetune_NEW\\PestLarvaNet_AudioTwin_Run_5\\data_100.0percent\n"
     ]
    },
    {
     "data": {
      "application/vnd.jupyter.widget-view+json": {
       "model_id": "1109649fe1be4d518c146a19ec7e5e18",
       "version_major": 2,
       "version_minor": 0
      },
      "text/plain": [
       "Epoch 41/100:   0%|          | 0/352 [00:00<?, ?it/s]"
      ]
     },
     "metadata": {},
     "output_type": "display_data"
    },
    {
     "data": {
      "application/vnd.jupyter.widget-view+json": {
       "model_id": "4ab223adc1df4ec989c04c92f492a29a",
       "version_major": 2,
       "version_minor": 0
      },
      "text/plain": [
       "Epoch 42/100:   0%|          | 0/352 [00:00<?, ?it/s]"
      ]
     },
     "metadata": {},
     "output_type": "display_data"
    },
    {
     "name": "stdout",
     "output_type": "stream",
     "text": [
      "\n",
      "Epoch 42: New best F1-weighted: 0.8314\n",
      "  F1-Macro: 0.8138, AUC-Macro: 0.0000, Accuracy: 0.8310\n",
      "Saving best model artifacts to C:\\Users\\PC\\Downloads\\Melspectrogram_finetune_NEW\\PestLarvaNet_AudioTwin_Run_5\\data_100.0percent\n"
     ]
    },
    {
     "data": {
      "application/vnd.jupyter.widget-view+json": {
       "model_id": "d01d21e95a5d4a99819496cf7d642916",
       "version_major": 2,
       "version_minor": 0
      },
      "text/plain": [
       "Epoch 43/100:   0%|          | 0/352 [00:00<?, ?it/s]"
      ]
     },
     "metadata": {},
     "output_type": "display_data"
    },
    {
     "data": {
      "application/vnd.jupyter.widget-view+json": {
       "model_id": "b1e2c30b340b4b2aaf4f7ca65f7ec708",
       "version_major": 2,
       "version_minor": 0
      },
      "text/plain": [
       "Epoch 44/100:   0%|          | 0/352 [00:00<?, ?it/s]"
      ]
     },
     "metadata": {},
     "output_type": "display_data"
    },
    {
     "name": "stdout",
     "output_type": "stream",
     "text": [
      "\n",
      "Epoch 44: New best F1-weighted: 0.8428\n",
      "  F1-Macro: 0.8307, AUC-Macro: 0.0000, Accuracy: 0.8423\n",
      "Saving best model artifacts to C:\\Users\\PC\\Downloads\\Melspectrogram_finetune_NEW\\PestLarvaNet_AudioTwin_Run_5\\data_100.0percent\n"
     ]
    },
    {
     "data": {
      "application/vnd.jupyter.widget-view+json": {
       "model_id": "5bf0b6c2942e425aa71f79c8712d0074",
       "version_major": 2,
       "version_minor": 0
      },
      "text/plain": [
       "Epoch 45/100:   0%|          | 0/352 [00:00<?, ?it/s]"
      ]
     },
     "metadata": {},
     "output_type": "display_data"
    },
    {
     "data": {
      "application/vnd.jupyter.widget-view+json": {
       "model_id": "885b1cf602474363a3e687d4aef8eaa5",
       "version_major": 2,
       "version_minor": 0
      },
      "text/plain": [
       "Epoch 46/100:   0%|          | 0/352 [00:00<?, ?it/s]"
      ]
     },
     "metadata": {},
     "output_type": "display_data"
    },
    {
     "data": {
      "application/vnd.jupyter.widget-view+json": {
       "model_id": "29970f1db65e4158a90ff34365fe743d",
       "version_major": 2,
       "version_minor": 0
      },
      "text/plain": [
       "Epoch 47/100:   0%|          | 0/352 [00:00<?, ?it/s]"
      ]
     },
     "metadata": {},
     "output_type": "display_data"
    },
    {
     "name": "stdout",
     "output_type": "stream",
     "text": [
      "\n",
      "Epoch 47: New best F1-weighted: 0.8453\n",
      "  F1-Macro: 0.8328, AUC-Macro: 0.0000, Accuracy: 0.8456\n",
      "Saving best model artifacts to C:\\Users\\PC\\Downloads\\Melspectrogram_finetune_NEW\\PestLarvaNet_AudioTwin_Run_5\\data_100.0percent\n"
     ]
    },
    {
     "data": {
      "application/vnd.jupyter.widget-view+json": {
       "model_id": "950541b24cda4f3db0fb0eac3b399bcd",
       "version_major": 2,
       "version_minor": 0
      },
      "text/plain": [
       "Epoch 48/100:   0%|          | 0/352 [00:00<?, ?it/s]"
      ]
     },
     "metadata": {},
     "output_type": "display_data"
    },
    {
     "data": {
      "application/vnd.jupyter.widget-view+json": {
       "model_id": "936f1021aa72484ca18782b8b23b64b6",
       "version_major": 2,
       "version_minor": 0
      },
      "text/plain": [
       "Epoch 49/100:   0%|          | 0/352 [00:00<?, ?it/s]"
      ]
     },
     "metadata": {},
     "output_type": "display_data"
    },
    {
     "name": "stdout",
     "output_type": "stream",
     "text": [
      "\n",
      "Epoch 49: New best F1-weighted: 0.8509\n",
      "  F1-Macro: 0.8370, AUC-Macro: 0.0000, Accuracy: 0.8505\n",
      "Saving best model artifacts to C:\\Users\\PC\\Downloads\\Melspectrogram_finetune_NEW\\PestLarvaNet_AudioTwin_Run_5\\data_100.0percent\n"
     ]
    },
    {
     "data": {
      "application/vnd.jupyter.widget-view+json": {
       "model_id": "d289aef259ab4343894180284391366f",
       "version_major": 2,
       "version_minor": 0
      },
      "text/plain": [
       "Epoch 50/100:   0%|          | 0/352 [00:00<?, ?it/s]"
      ]
     },
     "metadata": {},
     "output_type": "display_data"
    },
    {
     "name": "stdout",
     "output_type": "stream",
     "text": [
      "\n",
      "Epoch 50: New best F1-weighted: 0.8629\n",
      "  F1-Macro: 0.8511, AUC-Macro: 0.0000, Accuracy: 0.8626\n",
      "Saving best model artifacts to C:\\Users\\PC\\Downloads\\Melspectrogram_finetune_NEW\\PestLarvaNet_AudioTwin_Run_5\\data_100.0percent\n"
     ]
    },
    {
     "data": {
      "application/vnd.jupyter.widget-view+json": {
       "model_id": "77928cd2db3b42db9bd40b8d57af0d6c",
       "version_major": 2,
       "version_minor": 0
      },
      "text/plain": [
       "Epoch 51/100:   0%|          | 0/352 [00:00<?, ?it/s]"
      ]
     },
     "metadata": {},
     "output_type": "display_data"
    },
    {
     "data": {
      "application/vnd.jupyter.widget-view+json": {
       "model_id": "026a3c83747c4c848ee6c823b7404655",
       "version_major": 2,
       "version_minor": 0
      },
      "text/plain": [
       "Epoch 52/100:   0%|          | 0/352 [00:00<?, ?it/s]"
      ]
     },
     "metadata": {},
     "output_type": "display_data"
    },
    {
     "name": "stdout",
     "output_type": "stream",
     "text": [
      "\n",
      "Epoch 52: New best F1-weighted: 0.8636\n",
      "  F1-Macro: 0.8494, AUC-Macro: 0.0000, Accuracy: 0.8633\n",
      "Saving best model artifacts to C:\\Users\\PC\\Downloads\\Melspectrogram_finetune_NEW\\PestLarvaNet_AudioTwin_Run_5\\data_100.0percent\n"
     ]
    },
    {
     "data": {
      "application/vnd.jupyter.widget-view+json": {
       "model_id": "d96e255953bf402594cbe3ad9a019c01",
       "version_major": 2,
       "version_minor": 0
      },
      "text/plain": [
       "Epoch 53/100:   0%|          | 0/352 [00:00<?, ?it/s]"
      ]
     },
     "metadata": {},
     "output_type": "display_data"
    },
    {
     "data": {
      "application/vnd.jupyter.widget-view+json": {
       "model_id": "bb8353d5d53f40b8b291d132a3f9362f",
       "version_major": 2,
       "version_minor": 0
      },
      "text/plain": [
       "Epoch 54/100:   0%|          | 0/352 [00:00<?, ?it/s]"
      ]
     },
     "metadata": {},
     "output_type": "display_data"
    },
    {
     "name": "stdout",
     "output_type": "stream",
     "text": [
      "\n",
      "Epoch 54: New best F1-weighted: 0.8751\n",
      "  F1-Macro: 0.8648, AUC-Macro: 0.0000, Accuracy: 0.8744\n",
      "Saving best model artifacts to C:\\Users\\PC\\Downloads\\Melspectrogram_finetune_NEW\\PestLarvaNet_AudioTwin_Run_5\\data_100.0percent\n"
     ]
    },
    {
     "data": {
      "application/vnd.jupyter.widget-view+json": {
       "model_id": "efd03b09932d47359f330f5c20f442f6",
       "version_major": 2,
       "version_minor": 0
      },
      "text/plain": [
       "Epoch 55/100:   0%|          | 0/352 [00:00<?, ?it/s]"
      ]
     },
     "metadata": {},
     "output_type": "display_data"
    },
    {
     "data": {
      "application/vnd.jupyter.widget-view+json": {
       "model_id": "4fe082cfa65a476ebf3c3ceb877eb3e0",
       "version_major": 2,
       "version_minor": 0
      },
      "text/plain": [
       "Epoch 56/100:   0%|          | 0/352 [00:00<?, ?it/s]"
      ]
     },
     "metadata": {},
     "output_type": "display_data"
    },
    {
     "data": {
      "application/vnd.jupyter.widget-view+json": {
       "model_id": "11dbc040acd2423089eccd506366a513",
       "version_major": 2,
       "version_minor": 0
      },
      "text/plain": [
       "Epoch 57/100:   0%|          | 0/352 [00:00<?, ?it/s]"
      ]
     },
     "metadata": {},
     "output_type": "display_data"
    },
    {
     "name": "stdout",
     "output_type": "stream",
     "text": [
      "\n",
      "Epoch 57: New best F1-weighted: 0.8795\n",
      "  F1-Macro: 0.8713, AUC-Macro: 0.0000, Accuracy: 0.8794\n",
      "Saving best model artifacts to C:\\Users\\PC\\Downloads\\Melspectrogram_finetune_NEW\\PestLarvaNet_AudioTwin_Run_5\\data_100.0percent\n"
     ]
    },
    {
     "data": {
      "application/vnd.jupyter.widget-view+json": {
       "model_id": "a53bb21bfc374220be37174b164ee100",
       "version_major": 2,
       "version_minor": 0
      },
      "text/plain": [
       "Epoch 58/100:   0%|          | 0/352 [00:00<?, ?it/s]"
      ]
     },
     "metadata": {},
     "output_type": "display_data"
    },
    {
     "data": {
      "application/vnd.jupyter.widget-view+json": {
       "model_id": "a55ddd4b2e7e4e588728c397c4c88abb",
       "version_major": 2,
       "version_minor": 0
      },
      "text/plain": [
       "Epoch 59/100:   0%|          | 0/352 [00:00<?, ?it/s]"
      ]
     },
     "metadata": {},
     "output_type": "display_data"
    },
    {
     "data": {
      "application/vnd.jupyter.widget-view+json": {
       "model_id": "096bf6df11f84c038b7ae80324ce817c",
       "version_major": 2,
       "version_minor": 0
      },
      "text/plain": [
       "Epoch 60/100:   0%|          | 0/352 [00:00<?, ?it/s]"
      ]
     },
     "metadata": {},
     "output_type": "display_data"
    },
    {
     "data": {
      "application/vnd.jupyter.widget-view+json": {
       "model_id": "9211696050494831b641c390eafbca0d",
       "version_major": 2,
       "version_minor": 0
      },
      "text/plain": [
       "Epoch 61/100:   0%|          | 0/352 [00:00<?, ?it/s]"
      ]
     },
     "metadata": {},
     "output_type": "display_data"
    },
    {
     "data": {
      "application/vnd.jupyter.widget-view+json": {
       "model_id": "5796971dc4074d59a3ea3ad9a4610005",
       "version_major": 2,
       "version_minor": 0
      },
      "text/plain": [
       "Epoch 62/100:   0%|          | 0/352 [00:00<?, ?it/s]"
      ]
     },
     "metadata": {},
     "output_type": "display_data"
    },
    {
     "data": {
      "application/vnd.jupyter.widget-view+json": {
       "model_id": "c74283e9b13e4ae0a8af7f1d77192a6c",
       "version_major": 2,
       "version_minor": 0
      },
      "text/plain": [
       "Epoch 63/100:   0%|          | 0/352 [00:00<?, ?it/s]"
      ]
     },
     "metadata": {},
     "output_type": "display_data"
    },
    {
     "data": {
      "application/vnd.jupyter.widget-view+json": {
       "model_id": "4d945fc34bb84bc38ab45b6762653df8",
       "version_major": 2,
       "version_minor": 0
      },
      "text/plain": [
       "Epoch 64/100:   0%|          | 0/352 [00:00<?, ?it/s]"
      ]
     },
     "metadata": {},
     "output_type": "display_data"
    },
    {
     "name": "stdout",
     "output_type": "stream",
     "text": [
      "\n",
      "Epoch 64: New best F1-weighted: 0.8931\n",
      "  F1-Macro: 0.8864, AUC-Macro: 0.0000, Accuracy: 0.8929\n",
      "Saving best model artifacts to C:\\Users\\PC\\Downloads\\Melspectrogram_finetune_NEW\\PestLarvaNet_AudioTwin_Run_5\\data_100.0percent\n"
     ]
    },
    {
     "data": {
      "application/vnd.jupyter.widget-view+json": {
       "model_id": "576c942823b94550a0285eed10170239",
       "version_major": 2,
       "version_minor": 0
      },
      "text/plain": [
       "Epoch 65/100:   0%|          | 0/352 [00:00<?, ?it/s]"
      ]
     },
     "metadata": {},
     "output_type": "display_data"
    },
    {
     "data": {
      "application/vnd.jupyter.widget-view+json": {
       "model_id": "013d621cc22045208a73e945c6803e9c",
       "version_major": 2,
       "version_minor": 0
      },
      "text/plain": [
       "Epoch 66/100:   0%|          | 0/352 [00:00<?, ?it/s]"
      ]
     },
     "metadata": {},
     "output_type": "display_data"
    },
    {
     "name": "stdout",
     "output_type": "stream",
     "text": [
      "\n",
      "Epoch 66: New best F1-weighted: 0.8971\n",
      "  F1-Macro: 0.8906, AUC-Macro: 0.0000, Accuracy: 0.8968\n",
      "Saving best model artifacts to C:\\Users\\PC\\Downloads\\Melspectrogram_finetune_NEW\\PestLarvaNet_AudioTwin_Run_5\\data_100.0percent\n"
     ]
    },
    {
     "data": {
      "application/vnd.jupyter.widget-view+json": {
       "model_id": "9991b8316abd4dcc959dbd8adefadc3a",
       "version_major": 2,
       "version_minor": 0
      },
      "text/plain": [
       "Epoch 67/100:   0%|          | 0/352 [00:00<?, ?it/s]"
      ]
     },
     "metadata": {},
     "output_type": "display_data"
    },
    {
     "data": {
      "application/vnd.jupyter.widget-view+json": {
       "model_id": "b264d20ac279412fbdeb307a935569df",
       "version_major": 2,
       "version_minor": 0
      },
      "text/plain": [
       "Epoch 68/100:   0%|          | 0/352 [00:00<?, ?it/s]"
      ]
     },
     "metadata": {},
     "output_type": "display_data"
    },
    {
     "data": {
      "application/vnd.jupyter.widget-view+json": {
       "model_id": "7e6072a82c3f4b5cb3d98535aa23be3b",
       "version_major": 2,
       "version_minor": 0
      },
      "text/plain": [
       "Epoch 69/100:   0%|          | 0/352 [00:00<?, ?it/s]"
      ]
     },
     "metadata": {},
     "output_type": "display_data"
    },
    {
     "data": {
      "application/vnd.jupyter.widget-view+json": {
       "model_id": "d29e2e7d0a3b44b0af7c7522f49d3134",
       "version_major": 2,
       "version_minor": 0
      },
      "text/plain": [
       "Epoch 70/100:   0%|          | 0/352 [00:00<?, ?it/s]"
      ]
     },
     "metadata": {},
     "output_type": "display_data"
    },
    {
     "name": "stdout",
     "output_type": "stream",
     "text": [
      "\n",
      "Epoch 70: New best F1-weighted: 0.9002\n",
      "  F1-Macro: 0.8946, AUC-Macro: 0.0000, Accuracy: 0.9000\n",
      "Saving best model artifacts to C:\\Users\\PC\\Downloads\\Melspectrogram_finetune_NEW\\PestLarvaNet_AudioTwin_Run_5\\data_100.0percent\n"
     ]
    },
    {
     "data": {
      "application/vnd.jupyter.widget-view+json": {
       "model_id": "71712d2d7d05465f941d13474e1ef845",
       "version_major": 2,
       "version_minor": 0
      },
      "text/plain": [
       "Epoch 71/100:   0%|          | 0/352 [00:00<?, ?it/s]"
      ]
     },
     "metadata": {},
     "output_type": "display_data"
    },
    {
     "data": {
      "application/vnd.jupyter.widget-view+json": {
       "model_id": "b3b734abe7a1468c9bb675e6145335ec",
       "version_major": 2,
       "version_minor": 0
      },
      "text/plain": [
       "Epoch 72/100:   0%|          | 0/352 [00:00<?, ?it/s]"
      ]
     },
     "metadata": {},
     "output_type": "display_data"
    },
    {
     "data": {
      "application/vnd.jupyter.widget-view+json": {
       "model_id": "7e0b5b8d77f448f78015f28940246ff0",
       "version_major": 2,
       "version_minor": 0
      },
      "text/plain": [
       "Epoch 73/100:   0%|          | 0/352 [00:00<?, ?it/s]"
      ]
     },
     "metadata": {},
     "output_type": "display_data"
    },
    {
     "name": "stdout",
     "output_type": "stream",
     "text": [
      "\n",
      "Epoch 73: New best F1-weighted: 0.9047\n",
      "  F1-Macro: 0.8983, AUC-Macro: 0.0000, Accuracy: 0.9046\n",
      "Saving best model artifacts to C:\\Users\\PC\\Downloads\\Melspectrogram_finetune_NEW\\PestLarvaNet_AudioTwin_Run_5\\data_100.0percent\n"
     ]
    },
    {
     "data": {
      "application/vnd.jupyter.widget-view+json": {
       "model_id": "1643fc3c675646e5a1f06e5c4a9f9a30",
       "version_major": 2,
       "version_minor": 0
      },
      "text/plain": [
       "Epoch 74/100:   0%|          | 0/352 [00:00<?, ?it/s]"
      ]
     },
     "metadata": {},
     "output_type": "display_data"
    },
    {
     "data": {
      "application/vnd.jupyter.widget-view+json": {
       "model_id": "6346a2e0a60b4dd5b6da761250f22f7b",
       "version_major": 2,
       "version_minor": 0
      },
      "text/plain": [
       "Epoch 75/100:   0%|          | 0/352 [00:00<?, ?it/s]"
      ]
     },
     "metadata": {},
     "output_type": "display_data"
    },
    {
     "data": {
      "application/vnd.jupyter.widget-view+json": {
       "model_id": "1f18d510a98a46d38b94552479fb02d5",
       "version_major": 2,
       "version_minor": 0
      },
      "text/plain": [
       "Epoch 76/100:   0%|          | 0/352 [00:00<?, ?it/s]"
      ]
     },
     "metadata": {},
     "output_type": "display_data"
    },
    {
     "data": {
      "application/vnd.jupyter.widget-view+json": {
       "model_id": "79870e77a06048d490c8cbe076dc114a",
       "version_major": 2,
       "version_minor": 0
      },
      "text/plain": [
       "Epoch 77/100:   0%|          | 0/352 [00:00<?, ?it/s]"
      ]
     },
     "metadata": {},
     "output_type": "display_data"
    },
    {
     "name": "stdout",
     "output_type": "stream",
     "text": [
      "\n",
      "Epoch 77: New best F1-weighted: 0.9052\n",
      "  F1-Macro: 0.8999, AUC-Macro: 0.0000, Accuracy: 0.9050\n",
      "Saving best model artifacts to C:\\Users\\PC\\Downloads\\Melspectrogram_finetune_NEW\\PestLarvaNet_AudioTwin_Run_5\\data_100.0percent\n"
     ]
    },
    {
     "data": {
      "application/vnd.jupyter.widget-view+json": {
       "model_id": "454bd58130374e18aaeb652b3909235e",
       "version_major": 2,
       "version_minor": 0
      },
      "text/plain": [
       "Epoch 78/100:   0%|          | 0/352 [00:00<?, ?it/s]"
      ]
     },
     "metadata": {},
     "output_type": "display_data"
    },
    {
     "name": "stdout",
     "output_type": "stream",
     "text": [
      "\n",
      "Epoch 78: New best F1-weighted: 0.9058\n",
      "  F1-Macro: 0.9016, AUC-Macro: 0.0000, Accuracy: 0.9057\n",
      "Saving best model artifacts to C:\\Users\\PC\\Downloads\\Melspectrogram_finetune_NEW\\PestLarvaNet_AudioTwin_Run_5\\data_100.0percent\n"
     ]
    },
    {
     "data": {
      "application/vnd.jupyter.widget-view+json": {
       "model_id": "6a71e75f6a8b46e697c4b17ed8098fd5",
       "version_major": 2,
       "version_minor": 0
      },
      "text/plain": [
       "Epoch 79/100:   0%|          | 0/352 [00:00<?, ?it/s]"
      ]
     },
     "metadata": {},
     "output_type": "display_data"
    },
    {
     "data": {
      "application/vnd.jupyter.widget-view+json": {
       "model_id": "26cb71d767c841dfbd7ddc023d1f89c4",
       "version_major": 2,
       "version_minor": 0
      },
      "text/plain": [
       "Epoch 80/100:   0%|          | 0/352 [00:00<?, ?it/s]"
      ]
     },
     "metadata": {},
     "output_type": "display_data"
    },
    {
     "name": "stdout",
     "output_type": "stream",
     "text": [
      "\n",
      "Epoch 80: New best F1-weighted: 0.9062\n",
      "  F1-Macro: 0.8996, AUC-Macro: 0.0000, Accuracy: 0.9064\n",
      "Saving best model artifacts to C:\\Users\\PC\\Downloads\\Melspectrogram_finetune_NEW\\PestLarvaNet_AudioTwin_Run_5\\data_100.0percent\n"
     ]
    },
    {
     "data": {
      "application/vnd.jupyter.widget-view+json": {
       "model_id": "7aff2ada032845b088b81c38931b4565",
       "version_major": 2,
       "version_minor": 0
      },
      "text/plain": [
       "Epoch 81/100:   0%|          | 0/352 [00:00<?, ?it/s]"
      ]
     },
     "metadata": {},
     "output_type": "display_data"
    },
    {
     "data": {
      "application/vnd.jupyter.widget-view+json": {
       "model_id": "08fd911e7cea493d8c8026fe4b7028d9",
       "version_major": 2,
       "version_minor": 0
      },
      "text/plain": [
       "Epoch 82/100:   0%|          | 0/352 [00:00<?, ?it/s]"
      ]
     },
     "metadata": {},
     "output_type": "display_data"
    },
    {
     "name": "stdout",
     "output_type": "stream",
     "text": [
      "\n",
      "Epoch 82: New best F1-weighted: 0.9090\n",
      "  F1-Macro: 0.9062, AUC-Macro: 0.0000, Accuracy: 0.9085\n",
      "Saving best model artifacts to C:\\Users\\PC\\Downloads\\Melspectrogram_finetune_NEW\\PestLarvaNet_AudioTwin_Run_5\\data_100.0percent\n"
     ]
    },
    {
     "data": {
      "application/vnd.jupyter.widget-view+json": {
       "model_id": "db10073506db412e9339ed00c5e4ef58",
       "version_major": 2,
       "version_minor": 0
      },
      "text/plain": [
       "Epoch 83/100:   0%|          | 0/352 [00:00<?, ?it/s]"
      ]
     },
     "metadata": {},
     "output_type": "display_data"
    },
    {
     "data": {
      "application/vnd.jupyter.widget-view+json": {
       "model_id": "395b4e21cf4247d98c27149ca263ce45",
       "version_major": 2,
       "version_minor": 0
      },
      "text/plain": [
       "Epoch 84/100:   0%|          | 0/352 [00:00<?, ?it/s]"
      ]
     },
     "metadata": {},
     "output_type": "display_data"
    },
    {
     "name": "stdout",
     "output_type": "stream",
     "text": [
      "\n",
      "Epoch 84: New best F1-weighted: 0.9138\n",
      "  F1-Macro: 0.9078, AUC-Macro: 0.0000, Accuracy: 0.9135\n",
      "Saving best model artifacts to C:\\Users\\PC\\Downloads\\Melspectrogram_finetune_NEW\\PestLarvaNet_AudioTwin_Run_5\\data_100.0percent\n"
     ]
    },
    {
     "data": {
      "application/vnd.jupyter.widget-view+json": {
       "model_id": "d6fbf6cc1a1f4e4286943cbbd6af5895",
       "version_major": 2,
       "version_minor": 0
      },
      "text/plain": [
       "Epoch 85/100:   0%|          | 0/352 [00:00<?, ?it/s]"
      ]
     },
     "metadata": {},
     "output_type": "display_data"
    },
    {
     "data": {
      "application/vnd.jupyter.widget-view+json": {
       "model_id": "94287a8d65f14d4c870912cfaa9d1965",
       "version_major": 2,
       "version_minor": 0
      },
      "text/plain": [
       "Epoch 86/100:   0%|          | 0/352 [00:00<?, ?it/s]"
      ]
     },
     "metadata": {},
     "output_type": "display_data"
    },
    {
     "data": {
      "application/vnd.jupyter.widget-view+json": {
       "model_id": "632bb51c4d57483a9260b05a01a34ce6",
       "version_major": 2,
       "version_minor": 0
      },
      "text/plain": [
       "Epoch 87/100:   0%|          | 0/352 [00:00<?, ?it/s]"
      ]
     },
     "metadata": {},
     "output_type": "display_data"
    },
    {
     "data": {
      "application/vnd.jupyter.widget-view+json": {
       "model_id": "25acfcc197f34681915762bb3af7e47e",
       "version_major": 2,
       "version_minor": 0
      },
      "text/plain": [
       "Epoch 88/100:   0%|          | 0/352 [00:00<?, ?it/s]"
      ]
     },
     "metadata": {},
     "output_type": "display_data"
    },
    {
     "data": {
      "application/vnd.jupyter.widget-view+json": {
       "model_id": "f5c5e9f94a214d49b40968e4a7184622",
       "version_major": 2,
       "version_minor": 0
      },
      "text/plain": [
       "Epoch 89/100:   0%|          | 0/352 [00:00<?, ?it/s]"
      ]
     },
     "metadata": {},
     "output_type": "display_data"
    },
    {
     "data": {
      "application/vnd.jupyter.widget-view+json": {
       "model_id": "f524f74073484f1eb4fdeb4d6d0de12f",
       "version_major": 2,
       "version_minor": 0
      },
      "text/plain": [
       "Epoch 90/100:   0%|          | 0/352 [00:00<?, ?it/s]"
      ]
     },
     "metadata": {},
     "output_type": "display_data"
    },
    {
     "data": {
      "application/vnd.jupyter.widget-view+json": {
       "model_id": "7f117ad610964c0f9c2b166b05444cf8",
       "version_major": 2,
       "version_minor": 0
      },
      "text/plain": [
       "Epoch 91/100:   0%|          | 0/352 [00:00<?, ?it/s]"
      ]
     },
     "metadata": {},
     "output_type": "display_data"
    },
    {
     "name": "stdout",
     "output_type": "stream",
     "text": [
      "\n",
      "Epoch 91: New best F1-weighted: 0.9166\n",
      "  F1-Macro: 0.9129, AUC-Macro: 0.0000, Accuracy: 0.9164\n",
      "Saving best model artifacts to C:\\Users\\PC\\Downloads\\Melspectrogram_finetune_NEW\\PestLarvaNet_AudioTwin_Run_5\\data_100.0percent\n"
     ]
    },
    {
     "data": {
      "application/vnd.jupyter.widget-view+json": {
       "model_id": "d4cc4f61dde349e0b858ddac1d9c915a",
       "version_major": 2,
       "version_minor": 0
      },
      "text/plain": [
       "Epoch 92/100:   0%|          | 0/352 [00:00<?, ?it/s]"
      ]
     },
     "metadata": {},
     "output_type": "display_data"
    },
    {
     "name": "stdout",
     "output_type": "stream",
     "text": [
      "\n",
      "Epoch 92: New best F1-weighted: 0.9185\n",
      "  F1-Macro: 0.9145, AUC-Macro: 0.0000, Accuracy: 0.9185\n",
      "Saving best model artifacts to C:\\Users\\PC\\Downloads\\Melspectrogram_finetune_NEW\\PestLarvaNet_AudioTwin_Run_5\\data_100.0percent\n"
     ]
    },
    {
     "data": {
      "application/vnd.jupyter.widget-view+json": {
       "model_id": "d8aa7a7b6f634b5fa42ec51809c12347",
       "version_major": 2,
       "version_minor": 0
      },
      "text/plain": [
       "Epoch 93/100:   0%|          | 0/352 [00:00<?, ?it/s]"
      ]
     },
     "metadata": {},
     "output_type": "display_data"
    },
    {
     "name": "stdout",
     "output_type": "stream",
     "text": [
      "\n",
      "Epoch 93: New best F1-weighted: 0.9202\n",
      "  F1-Macro: 0.9167, AUC-Macro: 0.0000, Accuracy: 0.9203\n",
      "Saving best model artifacts to C:\\Users\\PC\\Downloads\\Melspectrogram_finetune_NEW\\PestLarvaNet_AudioTwin_Run_5\\data_100.0percent\n"
     ]
    },
    {
     "data": {
      "application/vnd.jupyter.widget-view+json": {
       "model_id": "23ca21e7841b4541b162dbaeaa914adb",
       "version_major": 2,
       "version_minor": 0
      },
      "text/plain": [
       "Epoch 94/100:   0%|          | 0/352 [00:00<?, ?it/s]"
      ]
     },
     "metadata": {},
     "output_type": "display_data"
    },
    {
     "name": "stdout",
     "output_type": "stream",
     "text": [
      "\n",
      "Epoch 94: New best F1-weighted: 0.9218\n",
      "  F1-Macro: 0.9175, AUC-Macro: 0.0000, Accuracy: 0.9217\n",
      "Saving best model artifacts to C:\\Users\\PC\\Downloads\\Melspectrogram_finetune_NEW\\PestLarvaNet_AudioTwin_Run_5\\data_100.0percent\n"
     ]
    },
    {
     "data": {
      "application/vnd.jupyter.widget-view+json": {
       "model_id": "522ba3c73a3a4cb48804649a3ffd9b6e",
       "version_major": 2,
       "version_minor": 0
      },
      "text/plain": [
       "Epoch 95/100:   0%|          | 0/352 [00:00<?, ?it/s]"
      ]
     },
     "metadata": {},
     "output_type": "display_data"
    },
    {
     "data": {
      "application/vnd.jupyter.widget-view+json": {
       "model_id": "3dfc503fdce24ee5a335c061eaa5f678",
       "version_major": 2,
       "version_minor": 0
      },
      "text/plain": [
       "Epoch 96/100:   0%|          | 0/352 [00:00<?, ?it/s]"
      ]
     },
     "metadata": {},
     "output_type": "display_data"
    },
    {
     "data": {
      "application/vnd.jupyter.widget-view+json": {
       "model_id": "8e34a83a80694fbc9bd7b9e29e862eeb",
       "version_major": 2,
       "version_minor": 0
      },
      "text/plain": [
       "Epoch 97/100:   0%|          | 0/352 [00:00<?, ?it/s]"
      ]
     },
     "metadata": {},
     "output_type": "display_data"
    },
    {
     "data": {
      "application/vnd.jupyter.widget-view+json": {
       "model_id": "f9d10d309f5a434489e334aef68e38cf",
       "version_major": 2,
       "version_minor": 0
      },
      "text/plain": [
       "Epoch 98/100:   0%|          | 0/352 [00:00<?, ?it/s]"
      ]
     },
     "metadata": {},
     "output_type": "display_data"
    },
    {
     "data": {
      "application/vnd.jupyter.widget-view+json": {
       "model_id": "753daa7c632b4a038f031dd96a3f776a",
       "version_major": 2,
       "version_minor": 0
      },
      "text/plain": [
       "Epoch 99/100:   0%|          | 0/352 [00:00<?, ?it/s]"
      ]
     },
     "metadata": {},
     "output_type": "display_data"
    },
    {
     "data": {
      "application/vnd.jupyter.widget-view+json": {
       "model_id": "9295c8dcb4ae4ff7b7943826f72f3443",
       "version_major": 2,
       "version_minor": 0
      },
      "text/plain": [
       "Epoch 100/100:   0%|          | 0/352 [00:00<?, ?it/s]"
      ]
     },
     "metadata": {},
     "output_type": "display_data"
    },
    {
     "name": "stdout",
     "output_type": "stream",
     "text": [
      "Finished Training for this run. Best F1-weighted: 0.9218\n",
      "==> Results with 100.0% data: Best F1-Weighted = 0.9218\n",
      "\n",
      "--- FINAL RESULTS (Summary) ---\n",
      "\n",
      "Model: PestLarvaNet (AudioTwin Run 1)\n",
      "  25.0% data: F1-W=0.7847 | F1-M=0.7560 | AUC=0.0000 | Acc=0.7854\n",
      "  50.0% data: F1-W=0.8532 | F1-M=0.8362 | AUC=0.0000 | Acc=0.8534\n",
      "  100.0% data: F1-W=0.9200 | F1-M=0.9174 | AUC=0.0000 | Acc=0.9199\n",
      "\n",
      "Model: PestLarvaNet (AudioTwin Run 2)\n",
      "  25.0% data: F1-W=0.7731 | F1-M=0.7433 | AUC=0.0000 | Acc=0.7737\n",
      "  50.0% data: F1-W=0.8456 | F1-M=0.8281 | AUC=0.0000 | Acc=0.8459\n",
      "  100.0% data: F1-W=0.9208 | F1-M=0.9156 | AUC=0.0000 | Acc=0.9206\n",
      "\n",
      "Model: PestLarvaNet (AudioTwin Run 3)\n",
      "  25.0% data: F1-W=0.8001 | F1-M=0.7767 | AUC=0.0000 | Acc=0.8007\n",
      "  50.0% data: F1-W=0.8601 | F1-M=0.8448 | AUC=0.0000 | Acc=0.8598\n",
      "  100.0% data: F1-W=0.9189 | F1-M=0.9119 | AUC=0.0000 | Acc=0.9189\n",
      "\n",
      "Model: PestLarvaNet (AudioTwin Run 4)\n",
      "  25.0% data: F1-W=0.7745 | F1-M=0.7400 | AUC=0.0000 | Acc=0.7754\n",
      "  50.0% data: F1-W=0.8567 | F1-M=0.8422 | AUC=0.0000 | Acc=0.8566\n",
      "  100.0% data: F1-W=0.9144 | F1-M=0.9082 | AUC=0.0000 | Acc=0.9142\n",
      "\n",
      "Model: PestLarvaNet (AudioTwin Run 5)\n",
      "  25.0% data: F1-W=0.7622 | F1-M=0.7337 | AUC=0.0000 | Acc=0.7633\n",
      "  50.0% data: F1-W=0.8662 | F1-M=0.8556 | AUC=0.0000 | Acc=0.8662\n",
      "  100.0% data: F1-W=0.9218 | F1-M=0.9175 | AUC=0.0000 | Acc=0.9217\n"
     ]
    }
   ],
   "source": [
    "for model_name, config in model_configs.items():\n",
    "    print(f\"\\n{'='*20} Evaluating: {model_name} {'='*20}\")\n",
    "    model_results = []\n",
    "    \n",
    "    # <<< MỚI: Tạo thư mục cho mô hình này\n",
    "    model_folder_name = model_name.replace(' ', '_').replace('(', '').replace(')', '')\n",
    "    model_output_dir = os.path.join(BASE_OUTPUT_DIR, model_folder_name)\n",
    "    os.makedirs(model_output_dir, exist_ok=True)\n",
    "    print(f\"Lưu kết quả của model này vào: {model_output_dir}\")\n",
    "\n",
    "    for percent in DATA_PERCENTAGES:\n",
    "        print(f\"--- Training with {percent*100:.1f}% of labeled data ---\")\n",
    "\n",
    "        if percent < 1.0:\n",
    "            stratify_labels = full_metadata['label'].iloc[train_indices].values\n",
    "            subset_train_indices, _ = train_test_split(\n",
    "                train_indices, train_size=percent, random_state=SEED, stratify=stratify_labels\n",
    "            )\n",
    "        else:\n",
    "            subset_train_indices = train_indices\n",
    "\n",
    "        train_metadata_subset = full_metadata.iloc[subset_train_indices]\n",
    "        train_dataset = SpectrogramDataset(metadata_df=train_metadata_subset, melspec_dir=MELSPEC_DIR, transform=train_transform)\n",
    "        train_loader = DataLoader(train_dataset, batch_size=32, shuffle=True, num_workers=0, collate_fn=collate_fn_remove_none)\n",
    "        \n",
    "        # <<< MỚI: Tạo thư mục con cho % dữ liệu này\n",
    "        percent_str = f\"data_{percent*100:.1f}percent\"\n",
    "        run_output_dir = os.path.join(model_output_dir, percent_str)\n",
    "        os.makedirs(run_output_dir, exist_ok=True)\n",
    "        \n",
    "        # <<< MỚI: Tạo tên cơ sở (base name) cho lần chạy\n",
    "        run_base_name = f\"{model_folder_name}_{percent_str}\"\n",
    "        \n",
    "        model = config[\"model_class\"](**config[\"args\"]).to(device)\n",
    "        \n",
    "        # <<< MỚI: Lời gọi hàm train_and_evaluate đã thay đổi\n",
    "        best_metrics = train_and_evaluate(\n",
    "            model, \n",
    "            train_loader, \n",
    "            test_loader, \n",
    "            epochs=100, \n",
    "            results_dir=run_output_dir,    # Đường dẫn đến thư mục con (VD: .../data_25.0percent/)\n",
    "            run_base_name=run_base_name,   # Tên cơ sở (VD: 'PestLarvaNet_Run_1_data_25.0percent')\n",
    "            class_names=class_names_list \n",
    "        )\n",
    "        \n",
    "        model_results.append({'percent': percent, 'metrics': best_metrics})\n",
    "        if best_metrics: # Kiểm tra xem best_metrics có rỗng không\n",
    "            print(f\"==> Results with {percent*100:.1f}% data: Best F1-Weighted = {best_metrics.get('F1_w', 0):.4f}\")\n",
    "        else:\n",
    "            print(f\"==> No valid results for {percent*100:.1f}% data.\")\n",
    "\n",
    "    results[model_name] = model_results\n",
    "\n",
    "print(\"\\n--- FINAL RESULTS (Summary) ---\")\n",
    "for model_name, result_list in results.items():\n",
    "    print(f\"\\nModel: {model_name}\")\n",
    "    for res in result_list:\n",
    "        percent_str = f\"{res['percent']*100:.1f}% data\"\n",
    "        if res['metrics']:\n",
    "            print(f\"  {percent_str}: F1-W={res['metrics']['F1_w']:.4f} | F1-M={res['metrics']['F1_macro']:.4f} | AUC={res['metrics']['AUC_macro']:.4f} | Acc={res['metrics']['Accuracy']:.4f}\")\n",
    "        else:\n",
    "            print(f\"  {percent_str}: No valid metrics recorded.\")"
   ]
  },
  {
   "cell_type": "code",
   "execution_count": null,
   "id": "b42a5ffe-f4ed-4029-a0bf-da13c91a302f",
   "metadata": {},
   "outputs": [],
   "source": []
  }
 ],
 "metadata": {
  "kernelspec": {
   "display_name": "Python 3 (ipykernel)",
   "language": "python",
   "name": "python3"
  },
  "language_info": {
   "codemirror_mode": {
    "name": "ipython",
    "version": 3
   },
   "file_extension": ".py",
   "mimetype": "text/x-python",
   "name": "python",
   "nbconvert_exporter": "python",
   "pygments_lexer": "ipython3",
   "version": "3.10.16"
  }
 },
 "nbformat": 4,
 "nbformat_minor": 5
}
