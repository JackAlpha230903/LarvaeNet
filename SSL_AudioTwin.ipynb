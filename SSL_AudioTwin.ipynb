{
 "cells": [
  {
   "cell_type": "code",
   "execution_count": 1,
   "id": "b3977203-3f35-46a6-8090-4a6373487d7a",
   "metadata": {},
   "outputs": [],
   "source": [
    "import os\n",
    "import csv\n",
    "import pandas as pd\n",
    "import numpy as np\n",
    "import torch\n",
    "import torch.nn as nn\n",
    "import torch.nn.functional as F\n",
    "import torchaudio\n",
    "import torchaudio.transforms as T_audio\n",
    "from torch.utils.data import Dataset, DataLoader\n",
    "from transformers import Wav2Vec2Model, logging as hf_logging\n",
    "from torch_audiomentations import Compose, AddColoredNoise, PitchShift\n",
    "from tqdm import tqdm\n",
    "import matplotlib.pyplot as plt\n",
    "from sklearn.model_selection import train_test_split\n",
    "from sklearn.metrics import f1_score\n",
    "import timm\n",
    "import random\n",
    "import glob\n",
    "import torchvision.transforms as T_vision\n",
    "from torch.optim.lr_scheduler import ReduceLROnPlateau\n",
    "import logging"
   ]
  },
  {
   "cell_type": "code",
   "execution_count": 2,
   "id": "ae640c43-c768-408b-8613-956a8347085b",
   "metadata": {},
   "outputs": [
    {
     "name": "stdout",
     "output_type": "stream",
     "text": [
      "Using device: cuda\n",
      "GPU: NVIDIA GeForce RTX 3060\n"
     ]
    }
   ],
   "source": [
    "logging.basicConfig(filename='debug_log.txt', level=logging.DEBUG, format='%(asctime)s %(message)s')\n",
    "hf_logging.set_verbosity_error()\n",
    "device = torch.device(\"cuda\" if torch.cuda.is_available() else \"cpu\")\n",
    "print(f\"Using device: {device}\")\n",
    "if torch.cuda.is_available():\n",
    "    print(f\"GPU: {torch.cuda.get_device_name(0)}\")"
   ]
  },
  {
   "cell_type": "code",
   "execution_count": 3,
   "id": "53e5d4ad-71aa-428e-96a8-05dfec9b46a2",
   "metadata": {},
   "outputs": [],
   "source": [
    "SEED = 42\n",
    "random.seed(SEED)\n",
    "np.random.seed(SEED)\n",
    "torch.manual_seed(SEED)\n",
    "if torch.cuda.is_available():\n",
    "    torch.cuda.manual_seed_all(SEED)"
   ]
  },
  {
   "cell_type": "code",
   "execution_count": 4,
   "id": "e922abe7-6b62-4fc9-a998-ae2d682ad0dc",
   "metadata": {},
   "outputs": [],
   "source": [
    "torch.cuda.empty_cache()"
   ]
  },
  {
   "cell_type": "code",
   "execution_count": 5,
   "id": "ea45bcf5-f4e7-4aa9-a7e8-52374d689716",
   "metadata": {},
   "outputs": [],
   "source": [
    "class DynamicGraphAttention(nn.Module):\n",
    "    def __init__(self, in_channels, num_nodes=32, heads=8, dropout=0.1):\n",
    "        super().__init__()\n",
    "        self.num_nodes = num_nodes\n",
    "        self.heads = heads\n",
    "        self.head_dim = in_channels // heads\n",
    "        self.dropout = nn.Dropout(dropout)\n",
    "        self.query = nn.Linear(in_channels, in_channels)\n",
    "        self.key = nn.Linear(in_channels, in_channels)\n",
    "        self.value = nn.Linear(in_channels, in_channels)\n",
    "        self.out = nn.Linear(in_channels, in_channels)\n",
    "        self.scale = nn.Parameter(torch.tensor(self.head_dim**-0.5))\n",
    "        self.pos_enc = nn.Parameter(torch.randn(1, num_nodes, in_channels))\n",
    "    \n",
    "    def forward(self, x):\n",
    "        B, C, H, W = x.size()\n",
    "        x_flat = x.flatten(2).transpose(1, 2)\n",
    "        num_pixels = H * W\n",
    "        N = min(self.num_nodes, num_pixels)\n",
    "        norms = torch.norm(x_flat, dim=-1)\n",
    "        _, indices = torch.topk(norms, N, dim=-1)\n",
    "        indices_expanded = indices.unsqueeze(-1).expand(-1, -1, C)\n",
    "        x_nodes = torch.gather(x_flat, 1, indices_expanded)\n",
    "        if self.pos_enc.size(1) >= N:\n",
    "            x_nodes = x_nodes + self.pos_enc[:, :N, :]\n",
    "        q = self.query(x_nodes).view(B, N, self.heads, self.head_dim).transpose(1, 2)\n",
    "        k = self.key(x_nodes).view(B, N, self.heads, self.head_dim).transpose(1, 2)\n",
    "        v = self.value(x_nodes).view(B, N, self.heads, self.head_dim).transpose(1, 2)\n",
    "        attn_weights = torch.matmul(q, k.transpose(-2, -1)) * self.scale\n",
    "        attn_weights = F.softmax(attn_weights, dim=-1)\n",
    "        attn_weights = self.dropout(attn_weights)\n",
    "        attn_output = torch.matmul(attn_weights, v).transpose(1, 2).contiguous().view(B, N, C)\n",
    "        out_nodes = self.out(attn_output)\n",
    "        out_flat = torch.zeros_like(x_flat)\n",
    "        out_flat.scatter_(1, indices_expanded, out_nodes)\n",
    "        out = out_flat.transpose(1, 2).view(B, C, H, W)\n",
    "        return x + out\n",
    "\n",
    "class TemporalAttentionAggregator(nn.Module):\n",
    "    def __init__(self, in_channels, num_heads=4):\n",
    "        super().__init__()\n",
    "        self.attention_net = nn.MultiheadAttention(embed_dim=in_channels, num_heads=num_heads, batch_first=True)\n",
    "        self.norm = nn.LayerNorm(in_channels)\n",
    "    \n",
    "    def forward(self, x):\n",
    "        if x.dim() == 4:\n",
    "            B, C, H, W = x.size()\n",
    "            x_flat = x.flatten(2).transpose(1, 2)\n",
    "        else:\n",
    "            raise ValueError(\"Input must be 4D tensor\")\n",
    "        x_norm = self.norm(x_flat)\n",
    "        attn_output, _ = self.attention_net(x_norm, x_norm, x_norm)\n",
    "        return torch.mean(attn_output, dim=1)\n",
    "\n",
    "class InvertedResidual(nn.Module):\n",
    "    def __init__(self, in_channels, out_channels, stride, expansion=6):\n",
    "        super().__init__()\n",
    "        hidden_dim = in_channels * expansion\n",
    "        self.use_residual = in_channels == out_channels and stride == 1\n",
    "        self.conv = nn.Sequential(\n",
    "            nn.Conv2d(in_channels, hidden_dim, 1, bias=False),\n",
    "            nn.BatchNorm2d(hidden_dim),\n",
    "            nn.SiLU(inplace=True),\n",
    "            nn.Conv2d(hidden_dim, hidden_dim, 3, stride, 1, groups=hidden_dim, bias=False),\n",
    "            nn.BatchNorm2d(hidden_dim),\n",
    "            nn.SiLU(inplace=True),\n",
    "            nn.Conv2d(hidden_dim, out_channels, 1, bias=False),\n",
    "            nn.BatchNorm2d(out_channels)\n",
    "        )\n",
    "        self.se = nn.Sequential(\n",
    "            nn.AdaptiveAvgPool2d(1),\n",
    "            nn.Conv2d(out_channels, out_channels // 16, 1),\n",
    "            nn.SiLU(),\n",
    "            nn.Conv2d(out_channels // 16, out_channels, 1),\n",
    "            nn.Sigmoid()\n",
    "        )\n",
    "    \n",
    "    def forward(self, x):\n",
    "        out = self.conv(x)\n",
    "        out = out * self.se(out)\n",
    "        return x + out if self.use_residual else out"
   ]
  },
  {
   "cell_type": "code",
   "execution_count": 6,
   "id": "4de34d65-d181-4640-874b-b9738713f93a",
   "metadata": {},
   "outputs": [],
   "source": [
    "class PestLarvaNet_Medium_Encoder(nn.Module):\n",
    "    def __init__(self):\n",
    "        super().__init__()\n",
    "        self.config = [[1, 24, 2, 1], [6, 40, 3, 2], [6, 64, 3, 2], [6, 120, 3, 2], [6, 160, 2, 1]]\n",
    "        self.stem = nn.Sequential(\n",
    "            nn.Conv2d(1, 24, 3, 2, 1, bias=False),\n",
    "            nn.BatchNorm2d(24),\n",
    "            nn.SiLU(inplace=True)\n",
    "        )\n",
    "        layers = []\n",
    "        in_channels = 24\n",
    "        for t, c, n, s in self.config:\n",
    "            for i in range(n):\n",
    "                stride = s if i == 0 else 1\n",
    "                layers.append(InvertedResidual(in_channels, c, stride, expansion=t))\n",
    "                in_channels = c\n",
    "            if c == 40:\n",
    "                layers.append(DynamicGraphAttention(in_channels, num_nodes=32, heads=8))\n",
    "        self.body = nn.Sequential(*layers)\n",
    "        self.head_conv = nn.Conv2d(160, 384, 1, bias=False)\n",
    "        self.aggregator = TemporalAttentionAggregator(384, num_heads=8)\n",
    "    \n",
    "    def forward(self, x):\n",
    "        if x.dim() == 3:\n",
    "            x = x.unsqueeze(1)\n",
    "        x = self.stem(x)\n",
    "        x = self.body(x)\n",
    "        x = self.head_conv(x)\n",
    "        x = self.aggregator(x)\n",
    "        return x\n",
    "\n",
    "class PestLarvaNet_Medium_Classifier(nn.Module):\n",
    "    def __init__(self, num_classes):\n",
    "        super().__init__()\n",
    "        self.encoder = PestLarvaNet_Medium_Encoder()\n",
    "        self.classifier = nn.Sequential(\n",
    "            nn.Linear(384, 192),\n",
    "            nn.SiLU(inplace=True),\n",
    "            nn.Dropout(0.4),\n",
    "            nn.Linear(192, num_classes)\n",
    "        )\n",
    "    \n",
    "    def forward(self, x):\n",
    "        x = self.encoder(x)\n",
    "        return self.classifier(x)"
   ]
  },
  {
   "cell_type": "code",
   "execution_count": 7,
   "id": "de699424-ec89-4dee-9395-61974f4a7b71",
   "metadata": {},
   "outputs": [],
   "source": [
    "class DualInputSSLDataset(Dataset):\n",
    "    def __init__(self, wav_dir, target_sample_rate=16000, target_duration_sec=5, hop_length=512, n_mels=128, n_fft=2048):\n",
    "        super().__init__()\n",
    "        self.wav_dir = wav_dir\n",
    "        self.target_sample_rate = target_sample_rate\n",
    "        self.target_num_samples = target_sample_rate * target_duration_sec\n",
    "        self.target_time_frames = (self.target_num_samples // hop_length) + 1\n",
    "        self.mel_spectrogram = T_audio.MelSpectrogram(\n",
    "            sample_rate=target_sample_rate,\n",
    "            n_fft=n_fft,\n",
    "            hop_length=hop_length,\n",
    "            n_mels=n_mels,\n",
    "            f_min=0.0,\n",
    "            f_max=target_sample_rate // 2\n",
    "        )\n",
    "        self.wav_files = glob.glob(os.path.join(wav_dir, '**', '*.wav'), recursive=True)\n",
    "        if not self.wav_files:\n",
    "            raise FileNotFoundError(f\"No valid .wav files found in directory: {wav_dir}\")\n",
    "        print(f\"Dataset initialized with {len(self.wav_files)} valid .wav files\")\n",
    "    \n",
    "    def __len__(self):\n",
    "        return len(self.wav_files)\n",
    "    \n",
    "    def __getitem__(self, idx):\n",
    "        wav_path = self.wav_files[idx]\n",
    "        try:\n",
    "            waveform, sample_rate = torchaudio.load(wav_path)\n",
    "            logging.debug(f\"Loaded waveform from {wav_path}: shape={waveform.shape}, min={waveform.min()}, max={waveform.max()}\")\n",
    "            if waveform.numel() == 0:\n",
    "                logging.warning(f\"Empty waveform: {wav_path}. Skipping...\")\n",
    "                return None\n",
    "            if sample_rate != self.target_sample_rate:\n",
    "                waveform = torchaudio.functional.resample(waveform, sample_rate, self.target_sample_rate)\n",
    "            if waveform.shape[0] > 1:\n",
    "                waveform = torch.mean(waveform, dim=0, keepdim=True)\n",
    "            current_len = waveform.shape[1]\n",
    "            if current_len != self.target_num_samples:\n",
    "                logging.warning(f\"Waveform length {current_len} does not match expected {self.target_num_samples} for {wav_path}\")\n",
    "                return None\n",
    "            \n",
    "            # Check if waveform has sufficient variance\n",
    "            if torch.std(waveform) < 1e-6:\n",
    "                logging.warning(f\"Low variance detected in {wav_path}. Skipping...\")\n",
    "                return None\n",
    "            \n",
    "            # Normalize waveform\n",
    "            waveform = (waveform - waveform.mean()) / (waveform.std() + 1e-8)\n",
    "            \n",
    "            # Compute Mel spectrogram on-the-fly\n",
    "            spectrogram = self.mel_spectrogram(waveform)\n",
    "            spectrogram = torch.log(spectrogram + 1e-9)  # Log-mel for numerical stability\n",
    "            \n",
    "            # Standardize spectrogram time dimension\n",
    "            current_time_frames = spectrogram.shape[-1]\n",
    "            if current_time_frames > self.target_time_frames:\n",
    "                spectrogram = spectrogram[:, :, :self.target_time_frames]\n",
    "            elif current_time_frames < self.target_time_frames:\n",
    "                spectrogram = F.pad(spectrogram, (0, self.target_time_frames - current_time_frames))\n",
    "            \n",
    "            # Normalize spectrogram (z-score)\n",
    "            spectrogram_mean = spectrogram.mean()\n",
    "            spectrogram_std = spectrogram.std() + 1e-8\n",
    "            spectrogram = (spectrogram - spectrogram_mean) / spectrogram_std\n",
    "            logging.debug(f\"Spectrogram shape: {spectrogram.shape}, min={spectrogram.min()}, max={spectrogram.max()}\")\n",
    "            \n",
    "            return waveform, spectrogram\n",
    "        except Exception as e:\n",
    "            logging.error(f\"Error loading item {idx} ({wav_path}): {e}. Skipping...\")\n",
    "            return None"
   ]
  },
  {
   "cell_type": "code",
   "execution_count": 8,
   "id": "b674fd89-36c7-4e4b-90ea-ff5cf73f0a7e",
   "metadata": {},
   "outputs": [],
   "source": [
    "def collate_fn_remove_none_ssl(batch):\n",
    "    batch = [item for item in batch if item is not None]\n",
    "    if len(batch) < 1:\n",
    "        logging.warning(\"Batch is empty after filtering None items\")\n",
    "        return None\n",
    "    waveforms, spectrograms = zip(*batch)\n",
    "    logging.debug(f\"Batch shapes: waveforms={waveforms[0].shape}, spectrograms={spectrograms[0].shape}\")\n",
    "    return torch.stack(waveforms), torch.stack(spectrograms)\n",
    "\n",
    "# Custom BatchNorm1d to handle single-sample batches\n",
    "class SafeBatchNorm1d(nn.BatchNorm1d):\n",
    "    def forward(self, input):\n",
    "        logging.debug(f\"SafeBatchNorm1d input shape: {input.shape}\")\n",
    "        if input.size(0) == 1 and self.training:\n",
    "            # Switch to eval mode for single-sample batches\n",
    "            self.eval()\n",
    "            out = super().forward(input)\n",
    "            self.train()\n",
    "            return out\n",
    "        return super().forward(input)"
   ]
  },
  {
   "cell_type": "code",
   "execution_count": 9,
   "id": "9f6d6c43-ac89-473e-8be8-52db3feca95c",
   "metadata": {},
   "outputs": [],
   "source": [
    "class TimeShift(torch.nn.Module):\n",
    "    def __init__(self, p=0.5, max_shift_percent=0.4):\n",
    "        super().__init__()\n",
    "        self.p = p\n",
    "        self.max_shift_percent = max_shift_percent\n",
    "\n",
    "    def forward(self, spec):\n",
    "        if torch.rand(1) < self.p:\n",
    "            time_steps = spec.shape[-1]\n",
    "            shift_amount = int(torch.rand(1) * self.max_shift_percent * time_steps)\n",
    "            if torch.rand(1) < 0.5:\n",
    "                shift_amount = -shift_amount\n",
    "            return torch.roll(spec, shifts=shift_amount, dims=-1)\n",
    "        return spec\n",
    "\n",
    "class SpecNoise(torch.nn.Module):\n",
    "    def __init__(self, p=0.5, noise_level=0.05):\n",
    "        super().__init__()\n",
    "        self.p = p\n",
    "        self.noise_level = noise_level\n",
    "\n",
    "    def forward(self, spec):\n",
    "        if torch.rand(1) < self.p:\n",
    "            noise = torch.randn_like(spec) * self.noise_level\n",
    "            return spec + noise\n",
    "        return spec"
   ]
  },
  {
   "cell_type": "code",
   "execution_count": 10,
   "id": "92da11d0-c5b3-4a22-8b8f-0a48fe1b80ec",
   "metadata": {},
   "outputs": [],
   "source": [
    "def run_audiotwin_pretraining(supervised_checkpoint_path=None):\n",
    "    def create_mlp(input_dim, hidden_dim, output_dim, num_layers):\n",
    "        layers = [nn.Linear(input_dim, hidden_dim), SafeBatchNorm1d(hidden_dim), nn.ReLU(inplace=True)]\n",
    "        for _ in range(num_layers - 2):\n",
    "            layers.extend([nn.Linear(hidden_dim, hidden_dim), SafeBatchNorm1d(hidden_dim), nn.ReLU(inplace=True)])\n",
    "        layers.append(nn.Linear(hidden_dim, output_dim))\n",
    "        return nn.Sequential(*layers)\n",
    "    \n",
    "    class AudioTwin(nn.Module):\n",
    "        def __init__(self, waveform_encoder, spectrogram_encoder, proj_dim=512, pred_dim=128):\n",
    "            super().__init__()\n",
    "            self.waveform_encoder = waveform_encoder\n",
    "            self.spectrogram_encoder = spectrogram_encoder\n",
    "            waveform_out_dim = 768\n",
    "            spectrogram_out_dim = 384\n",
    "            self.waveform_projector = create_mlp(waveform_out_dim, proj_dim, proj_dim, 3)\n",
    "            self.spectrogram_projector = create_mlp(spectrogram_out_dim, proj_dim, proj_dim, 3)\n",
    "            self.waveform_predictor = create_mlp(proj_dim, pred_dim, proj_dim, 2)\n",
    "            self.spectrogram_predictor = create_mlp(proj_dim, pred_dim, proj_dim, 2)\n",
    "        \n",
    "        def forward(self, waveform_aug, spectrogram_aug):\n",
    "            logging.debug(f\"AudioTwin input shapes: waveform={waveform_aug.shape}, spectrogram={spectrogram_aug.shape}\")\n",
    "            if waveform_aug.dim() == 3:\n",
    "                waveform_aug = waveform_aug.squeeze(1)\n",
    "            h_w = self.waveform_encoder(waveform_aug).last_hidden_state.mean(dim=1)\n",
    "            logging.debug(f\"h_w shape: {h_w.shape}, min={h_w.min()}, max={h_w.max()}\")\n",
    "            z_w = F.normalize(self.waveform_projector(h_w), dim=-1)\n",
    "            p_w = self.waveform_predictor(z_w)\n",
    "            h_s = self.spectrogram_encoder(spectrogram_aug)\n",
    "            logging.debug(f\"h_s shape: {h_s.shape}, min={h_s.min()}, max={h_s.max()}\")\n",
    "            z_s = F.normalize(self.spectrogram_projector(h_s), dim=-1)\n",
    "            p_s = self.spectrogram_predictor(z_s)\n",
    "            logging.debug(f\"z_w={z_w.min().item():.4f}-{z_w.max().item():.4f}, z_s={z_s.min().item():.4f}-{z_s.max().item():.4f}\")\n",
    "            return z_w, z_s, p_w, p_s\n",
    "    \n",
    "    class SimSiamLoss(nn.Module):\n",
    "        def __init__(self, epsilon=1e-6):\n",
    "            super().__init__()\n",
    "            self.epsilon = epsilon\n",
    "        \n",
    "        def forward(self, p1, z2, p2, z1):\n",
    "            logging.debug(f\"SimSiamLoss input shapes: p1={p1.shape}, z2={z2.shape}, p2={p2.shape}, z1={z1.shape}\")\n",
    "            z1, z2 = z1.detach(), z2.detach()\n",
    "            p1 = F.normalize(p1, dim=-1)\n",
    "            p2 = F.normalize(p2, dim=-1)\n",
    "            loss = (-(p1 * z2).sum(dim=1).mean() - (p2 * z1).sum(dim=1).mean()) / 2\n",
    "            logging.debug(f\"SimSiamLoss value: {loss.item()}\")\n",
    "            return loss\n",
    "    \n",
    "    class BarlowTwinsLoss(nn.Module):\n",
    "        def __init__(self, lambda_param=5e-3, epsilon=1e-6):\n",
    "            super().__init__()\n",
    "            self.lambda_param = lambda_param\n",
    "            self.epsilon = epsilon\n",
    "        \n",
    "        def forward(self, z1, z2):\n",
    "            logging.debug(f\"BarlowTwinsLoss input shapes: z1={z1.shape}, z2={z2.shape}\")\n",
    "            B, D = z1.size(0), z1.size(1)\n",
    "            z1_mean = z1.mean(0)\n",
    "            z2_mean = z2.mean(0)\n",
    "            z1_std = z1.std(0) + self.epsilon\n",
    "            z2_std = z2.std(0) + self.epsilon\n",
    "            z1 = (z1 - z1_mean) / z1_std\n",
    "            z2 = (z2 - z2_mean) / z2_std\n",
    "            c = (z1.T @ z2) / B\n",
    "            on_diag = torch.diagonal(c).add_(-1).pow_(2).sum()\n",
    "            off_diag = c.pow_(2).sum() - on_diag\n",
    "            loss = on_diag + self.lambda_param * off_diag\n",
    "            logging.debug(f\"BarlowTwinsLoss value: {loss.item()}, z1_std={z1_std.min().item():.4f}-{z1_std.max().item():.4f}, z2_std={z2_std.min().item():.4f}-{z2_std.max().item():.4f}\")\n",
    "            return loss\n",
    "    \n",
    "    # Định nghĩa các bộ siêu tham số\n",
    "    hyperparameter_sets = [\n",
    "        {'lambda_param': 1e-4, 'epsilon': 1e-6, 'lambda_barlow': 0.001},\n",
    "        {'lambda_param': 5e-4, 'epsilon': 1e-6, 'lambda_barlow': 0.0025},\n",
    "        {'lambda_param': 1e-3, 'epsilon': 1e-6, 'lambda_barlow': 0.005},\n",
    "        {'lambda_param': 5e-3, 'epsilon': 1e-6, 'lambda_barlow': 0.0075},\n",
    "        {'lambda_param': 1e-2, 'epsilon': 1e-6, 'lambda_barlow': 0.01}\n",
    "    ]\n",
    "\n",
    "    waveform_augment = Compose([\n",
    "        AddColoredNoise(min_snr_in_db=3.0, max_snr_in_db=30.0, min_f_decay=0.0, max_f_decay=1e-6, p=0.5, sample_rate=16000, output_type='tensor'),\n",
    "        PitchShift(min_transpose_semitones=-4, max_transpose_semitones=4, p=0.5, sample_rate=16000, output_type='tensor')\n",
    "    ], output_type='tensor')\n",
    "    \n",
    "    spectrogram_augment = T_vision.Compose([\n",
    "        T_vision.RandomApply([T_vision.GaussianBlur(kernel_size=(5, 9), sigma=(0.1, 5))], p=0.5),\n",
    "        T_vision.RandomAutocontrast(p=0.5),\n",
    "        TimeShift(p=0.5, max_shift_percent=0.4),\n",
    "        SpecNoise(p=0.5, noise_level=0.05)\n",
    "    ])\n",
    "    \n",
    "    # Use preprocessed directory\n",
    "    WAV_DIR = r\"F:\\Working Sync\\LAB projects\\InsectSELD\\Dataset\\SSL_Wav_Preprocessed\"\n",
    "    ssl_dataset = DualInputSSLDataset(wav_dir=WAV_DIR)\n",
    "    ssl_loader = DataLoader(ssl_dataset, batch_size=32, shuffle=True, num_workers=0, collate_fn=collate_fn_remove_none_ssl)\n",
    "    \n",
    "    waveform_encoder = Wav2Vec2Model.from_pretrained(\"facebook/wav2vec2-base-960h\")\n",
    "    for param in waveform_encoder.parameters():\n",
    "        param.requires_grad = False\n",
    "    \n",
    "    spectrogram_encoder = PestLarvaNet_Medium_Encoder()\n",
    "\n",
    "    if supervised_checkpoint_path and os.path.exists(supervised_checkpoint_path):\n",
    "        print(f\"Initializing AudioTwin with weights from: {supervised_checkpoint_path}\")\n",
    "        try:\n",
    "            checkpoint_data = torch.load(supervised_checkpoint_path, map_location=device, weights_only=True)\n",
    "            if 'model_state_dict' in checkpoint_data:\n",
    "                full_model_state_dict = checkpoint_data['model_state_dict']\n",
    "            else:\n",
    "                full_model_state_dict = checkpoint_data\n",
    "            \n",
    "            adjusted_state_dict = {}\n",
    "            for key, value in full_model_state_dict.items():\n",
    "                if key.startswith(('stem.', 'body.', 'head_conv.', 'aggregator.')):\n",
    "                    new_key = f\"encoder.{key}\"\n",
    "                    adjusted_state_dict[new_key] = value\n",
    "                elif key.startswith(('classifier.')):\n",
    "                    continue\n",
    "                else:\n",
    "                    adjusted_state_dict[key] = value\n",
    "            \n",
    "            spectrogram_encoder.load_state_dict(adjusted_state_dict, strict=False)\n",
    "            print(\"Successfully initialized spectrogram branch!\")\n",
    "        except Exception as e:\n",
    "            print(f\"Error loading Experiment 1 checkpoint: {e}. Continuing with random weights.\")\n",
    "\n",
    "    for idx, params in enumerate(hyperparameter_sets):\n",
    "        lambda_param = params['lambda_param']\n",
    "        epsilon = params['epsilon']\n",
    "        lambda_barlow = params['lambda_barlow']\n",
    "        run_id = f\"run_{idx+1}_lp{lambda_param:.0e}_ep{epsilon:.0e}_lb{lambda_barlow:.3f}\"\n",
    "        CHECKPOINT_DIR = os.path.join('audiotwin_checkpoints_medium', run_id)\n",
    "        os.makedirs(CHECKPOINT_DIR, exist_ok=True)\n",
    "        CSV_PATH = os.path.join(CHECKPOINT_DIR, f'{run_id}_training_log.csv')\n",
    "        \n",
    "        print(f\"\\nStarting Pre-training with AudioTwin - {run_id}\")\n",
    "        model = AudioTwin(waveform_encoder, spectrogram_encoder).to(device)\n",
    "        optimizer = torch.optim.AdamW(model.parameters(), lr=5e-6, weight_decay=1e-5)\n",
    "        scheduler = ReduceLROnPlateau(optimizer, mode='min', factor=0.1, patience=5)\n",
    "        scaler = torch.amp.GradScaler('cuda')\n",
    "        simsiam_loss_fn = SimSiamLoss(epsilon=epsilon).to(device)\n",
    "        barlow_loss_fn = BarlowTwinsLoss(lambda_param=lambda_param, epsilon=epsilon).to(device)\n",
    "\n",
    "        EPOCHS = 100\n",
    "        with open(CSV_PATH, 'w', newline='') as csvfile:\n",
    "            fieldnames = ['epoch', 'avg_loss', 'avg_grad_norm', 'valid_batches', 'learning_rate']\n",
    "            writer = csv.DictWriter(csvfile, fieldnames=fieldnames)\n",
    "            writer.writeheader()\n",
    "\n",
    "            for epoch in range(EPOCHS):\n",
    "                model.train()\n",
    "                total_loss = 0.0\n",
    "                total_grad_norm = 0.0\n",
    "                total_batches = 0\n",
    "                progress_bar = tqdm(ssl_loader, desc=f\"{run_id} Epoch {epoch+1}/{EPOCHS}\")\n",
    "\n",
    "                for i, data_batch in enumerate(progress_bar):\n",
    "                    if data_batch is None:\n",
    "                        continue\n",
    "                    waveforms, spectrograms = data_batch\n",
    "                    waveforms, spectrograms = waveforms.to(device), spectrograms.to(device)\n",
    "                    \n",
    "                    optimizer.zero_grad()\n",
    "                \n",
    "                    with torch.amp.autocast('cuda'):\n",
    "                        waveform_aug = waveform_augment(waveforms)\n",
    "                        spectrogram_aug = spectrogram_augment(spectrograms)\n",
    "                        logging.debug(f\"Augmented shapes: waveform={waveform_aug.shape}, spectrogram={spectrogram_aug.shape}\")\n",
    "                        \n",
    "                        z_w, z_s, p_w, p_s = model(waveform_aug, spectrogram_aug)\n",
    "                        \n",
    "                        # Kiểm tra đầu ra không hợp lệ từ model trước khi tính loss\n",
    "                        if torch.isnan(z_w).any() or torch.isnan(z_s).any() or torch.isinf(z_w).any() or torch.isinf(z_s).any():\n",
    "                            logging.error(f\"NaN/Inf detected in model outputs at batch {i}. Skipping batch.\")\n",
    "                            continue\n",
    "                        \n",
    "                        loss_simsiam = simsiam_loss_fn(p_w, z_s, p_s, z_w)\n",
    "                        loss_barlow = barlow_loss_fn(z_w, z_s)\n",
    "                        \n",
    "                        if torch.isnan(loss_simsiam) or torch.isnan(loss_barlow):\n",
    "                            logging.error(f\"NaN/Inf detected in loss at batch {i}. Skipping batch.\")\n",
    "                            continue\n",
    "                            \n",
    "                        loss = loss_simsiam + lambda_barlow * loss_barlow\n",
    "\n",
    "                    scaler.scale(loss).backward()\n",
    "                    \n",
    "                    scaler.unscale_(optimizer)\n",
    "                    \n",
    "                    # Clip gradients\n",
    "                    grad_norm = torch.nn.utils.clip_grad_norm_(model.parameters(), max_norm=1.0)\n",
    "                    \n",
    "   \n",
    "                    scaler.step(optimizer)\n",
    "                    \n",
    "                    scaler.update()\n",
    "                    \n",
    "                    total_loss += loss.item()\n",
    "                    if torch.isfinite(grad_norm): # Chỉ ghi lại grad norm hữu hạn\n",
    "                        total_grad_norm += grad_norm.item()\n",
    "                    total_batches += 1\n",
    "                    progress_bar.set_postfix(loss=f\"{loss.item():.4f}\", grad_norm=f\"{grad_norm.item():.4f}\")\n",
    "\n",
    "                if total_batches > 0:\n",
    "                    avg_loss = total_loss / total_batches\n",
    "                    avg_grad_norm = total_grad_norm / total_batches\n",
    "                    lr = optimizer.param_groups[0]['lr']\n",
    "                    print(f\"{run_id} Epoch {epoch+1}/{EPOCHS} | Avg Loss: {avg_loss:.4f}, Avg Grad Norm: {avg_grad_norm:.4f}, LR: {lr:.6f}\")\n",
    "                    writer.writerow({'epoch': epoch + 1, 'avg_loss': avg_loss, 'avg_grad_norm': avg_grad_norm, 'valid_batches': total_batches, 'learning_rate': lr})\n",
    "                else:\n",
    "                    print(f\"{run_id} Epoch {epoch+1}/{EPOCHS} | No valid batches processed\")\n",
    "                    writer.writerow({'epoch': epoch + 1, 'avg_loss': 0.0, 'avg_grad_norm': 0.0, 'valid_batches': 0, 'learning_rate': optimizer.param_groups[0]['lr']})\n",
    "                \n",
    "                scheduler.step(avg_loss)\n",
    "                \n",
    "                if (epoch + 1) % 5 == 0:\n",
    "                    checkpoint_path = os.path.join(CHECKPOINT_DIR, f'audiotwin_pestlarvanet_medium_epoch_{epoch+1}.pth')\n",
    "                    torch.save({\n",
    "                        'epoch': epoch + 1,\n",
    "                        'model_state_dict': model.state_dict(),\n",
    "                        'optimizer_state_dict': optimizer.state_dict(),\n",
    "                        'scaler_state_dict': scaler.state_dict(),\n",
    "                        'loss': avg_loss\n",
    "                    }, checkpoint_path)\n",
    "                    print(f\"Checkpoint saved at '{checkpoint_path}'\")"
   ]
  },
  {
   "cell_type": "code",
   "execution_count": 11,
   "id": "1525182a-53fc-46cb-be4e-eeb1006a740d",
   "metadata": {},
   "outputs": [
    {
     "name": "stdout",
     "output_type": "stream",
     "text": [
      "Dataset initialized with 49772 valid .wav files\n",
      "Initializing AudioTwin with weights from: F:\\Working Sync\\LAB projects\\InsectSELD\\Dataset\\best_model_medium.pth\n",
      "Successfully initialized spectrogram branch!\n",
      "\n",
      "Starting Pre-training with AudioTwin - run_1_lp1e-04_ep1e-06_lb0.001\n"
     ]
    },
    {
     "name": "stderr",
     "output_type": "stream",
     "text": [
      "run_1_lp1e-04_ep1e-06_lb0.001 Epoch 1/100: 100%|████| 1556/1556 [21:54<00:00,  1.18it/s, grad_norm=4.4675, loss=0.0773]\n"
     ]
    },
    {
     "name": "stdout",
     "output_type": "stream",
     "text": [
      "run_1_lp1e-04_ep1e-06_lb0.001 Epoch 1/100 | Avg Loss: 0.2949, Avg Grad Norm: 3.6616, LR: 0.000005\n"
     ]
    },
    {
     "name": "stderr",
     "output_type": "stream",
     "text": [
      "run_1_lp1e-04_ep1e-06_lb0.001 Epoch 2/100: 100%|███| 1556/1556 [18:41<00:00,  1.39it/s, grad_norm=4.4592, loss=-0.5373]\n"
     ]
    },
    {
     "name": "stdout",
     "output_type": "stream",
     "text": [
      "run_1_lp1e-04_ep1e-06_lb0.001 Epoch 2/100 | Avg Loss: -0.1374, Avg Grad Norm: 4.1719, LR: 0.000005\n"
     ]
    },
    {
     "name": "stderr",
     "output_type": "stream",
     "text": [
      "run_1_lp1e-04_ep1e-06_lb0.001 Epoch 3/100: 100%|███| 1556/1556 [18:17<00:00,  1.42it/s, grad_norm=7.1598, loss=-0.4025]\n"
     ]
    },
    {
     "name": "stdout",
     "output_type": "stream",
     "text": [
      "run_1_lp1e-04_ep1e-06_lb0.001 Epoch 3/100 | Avg Loss: -0.4456, Avg Grad Norm: 4.5798, LR: 0.000005\n"
     ]
    },
    {
     "name": "stderr",
     "output_type": "stream",
     "text": [
      "run_1_lp1e-04_ep1e-06_lb0.001 Epoch 4/100: 100%|███| 1556/1556 [18:18<00:00,  1.42it/s, grad_norm=7.2354, loss=-0.2733]\n"
     ]
    },
    {
     "name": "stdout",
     "output_type": "stream",
     "text": [
      "run_1_lp1e-04_ep1e-06_lb0.001 Epoch 4/100 | Avg Loss: -0.6027, Avg Grad Norm: 4.4682, LR: 0.000005\n"
     ]
    },
    {
     "name": "stderr",
     "output_type": "stream",
     "text": [
      "run_1_lp1e-04_ep1e-06_lb0.001 Epoch 5/100: 100%|███| 1556/1556 [18:17<00:00,  1.42it/s, grad_norm=3.9483, loss=-0.8237]\n"
     ]
    },
    {
     "name": "stdout",
     "output_type": "stream",
     "text": [
      "run_1_lp1e-04_ep1e-06_lb0.001 Epoch 5/100 | Avg Loss: -0.6910, Avg Grad Norm: 4.5558, LR: 0.000005\n",
      "Checkpoint saved at 'audiotwin_checkpoints_medium\\run_1_lp1e-04_ep1e-06_lb0.001\\audiotwin_pestlarvanet_medium_epoch_5.pth'\n"
     ]
    },
    {
     "name": "stderr",
     "output_type": "stream",
     "text": [
      "run_1_lp1e-04_ep1e-06_lb0.001 Epoch 6/100: 100%|██| 1556/1556 [18:17<00:00,  1.42it/s, grad_norm=19.0537, loss=-0.3183]\n"
     ]
    },
    {
     "name": "stdout",
     "output_type": "stream",
     "text": [
      "run_1_lp1e-04_ep1e-06_lb0.001 Epoch 6/100 | Avg Loss: -0.7439, Avg Grad Norm: 4.4800, LR: 0.000005\n"
     ]
    },
    {
     "name": "stderr",
     "output_type": "stream",
     "text": [
      "run_1_lp1e-04_ep1e-06_lb0.001 Epoch 7/100: 100%|██| 1556/1556 [18:15<00:00,  1.42it/s, grad_norm=16.6923, loss=-0.5528]\n"
     ]
    },
    {
     "name": "stdout",
     "output_type": "stream",
     "text": [
      "run_1_lp1e-04_ep1e-06_lb0.001 Epoch 7/100 | Avg Loss: -0.7802, Avg Grad Norm: 4.2628, LR: 0.000005\n"
     ]
    },
    {
     "name": "stderr",
     "output_type": "stream",
     "text": [
      "run_1_lp1e-04_ep1e-06_lb0.001 Epoch 8/100: 100%|███| 1556/1556 [18:17<00:00,  1.42it/s, grad_norm=3.9091, loss=-0.9091]\n"
     ]
    },
    {
     "name": "stdout",
     "output_type": "stream",
     "text": [
      "run_1_lp1e-04_ep1e-06_lb0.001 Epoch 8/100 | Avg Loss: -0.8094, Avg Grad Norm: 4.2313, LR: 0.000005\n"
     ]
    },
    {
     "name": "stderr",
     "output_type": "stream",
     "text": [
      "run_1_lp1e-04_ep1e-06_lb0.001 Epoch 9/100: 100%|██| 1556/1556 [18:17<00:00,  1.42it/s, grad_norm=10.6670, loss=-0.8874]\n"
     ]
    },
    {
     "name": "stdout",
     "output_type": "stream",
     "text": [
      "run_1_lp1e-04_ep1e-06_lb0.001 Epoch 9/100 | Avg Loss: -0.8258, Avg Grad Norm: 4.0614, LR: 0.000005\n"
     ]
    },
    {
     "name": "stderr",
     "output_type": "stream",
     "text": [
      "run_1_lp1e-04_ep1e-06_lb0.001 Epoch 10/100: 100%|█| 1556/1556 [18:19<00:00,  1.41it/s, grad_norm=12.7934, loss=-0.8554]\n"
     ]
    },
    {
     "name": "stdout",
     "output_type": "stream",
     "text": [
      "run_1_lp1e-04_ep1e-06_lb0.001 Epoch 10/100 | Avg Loss: -0.8439, Avg Grad Norm: 3.8680, LR: 0.000005\n",
      "Checkpoint saved at 'audiotwin_checkpoints_medium\\run_1_lp1e-04_ep1e-06_lb0.001\\audiotwin_pestlarvanet_medium_epoch_10.pth'\n"
     ]
    },
    {
     "name": "stderr",
     "output_type": "stream",
     "text": [
      "run_1_lp1e-04_ep1e-06_lb0.001 Epoch 11/100: 100%|██| 1556/1556 [18:16<00:00,  1.42it/s, grad_norm=6.8530, loss=-0.8300]\n"
     ]
    },
    {
     "name": "stdout",
     "output_type": "stream",
     "text": [
      "run_1_lp1e-04_ep1e-06_lb0.001 Epoch 11/100 | Avg Loss: -0.8580, Avg Grad Norm: 3.5539, LR: 0.000005\n"
     ]
    },
    {
     "name": "stderr",
     "output_type": "stream",
     "text": [
      "run_1_lp1e-04_ep1e-06_lb0.001 Epoch 12/100: 100%|██| 1556/1556 [18:16<00:00,  1.42it/s, grad_norm=8.1537, loss=-0.3183]\n"
     ]
    },
    {
     "name": "stdout",
     "output_type": "stream",
     "text": [
      "run_1_lp1e-04_ep1e-06_lb0.001 Epoch 12/100 | Avg Loss: -0.8677, Avg Grad Norm: 3.6158, LR: 0.000005\n"
     ]
    },
    {
     "name": "stderr",
     "output_type": "stream",
     "text": [
      "run_1_lp1e-04_ep1e-06_lb0.001 Epoch 13/100: 100%|██| 1556/1556 [18:14<00:00,  1.42it/s, grad_norm=1.7912, loss=-0.9289]\n"
     ]
    },
    {
     "name": "stdout",
     "output_type": "stream",
     "text": [
      "run_1_lp1e-04_ep1e-06_lb0.001 Epoch 13/100 | Avg Loss: -0.8711, Avg Grad Norm: 3.6397, LR: 0.000005\n"
     ]
    },
    {
     "name": "stderr",
     "output_type": "stream",
     "text": [
      "run_1_lp1e-04_ep1e-06_lb0.001 Epoch 14/100: 100%|█| 1556/1556 [18:45<00:00,  1.38it/s, grad_norm=18.8137, loss=-0.6581]\n"
     ]
    },
    {
     "name": "stdout",
     "output_type": "stream",
     "text": [
      "run_1_lp1e-04_ep1e-06_lb0.001 Epoch 14/100 | Avg Loss: -0.8775, Avg Grad Norm: 3.6360, LR: 0.000005\n"
     ]
    },
    {
     "name": "stderr",
     "output_type": "stream",
     "text": [
      "run_1_lp1e-04_ep1e-06_lb0.001 Epoch 15/100: 100%|██| 1556/1556 [18:47<00:00,  1.38it/s, grad_norm=4.1041, loss=-0.9266]\n"
     ]
    },
    {
     "name": "stdout",
     "output_type": "stream",
     "text": [
      "run_1_lp1e-04_ep1e-06_lb0.001 Epoch 15/100 | Avg Loss: -0.8811, Avg Grad Norm: 3.5073, LR: 0.000005\n",
      "Checkpoint saved at 'audiotwin_checkpoints_medium\\run_1_lp1e-04_ep1e-06_lb0.001\\audiotwin_pestlarvanet_medium_epoch_15.pth'\n"
     ]
    },
    {
     "name": "stderr",
     "output_type": "stream",
     "text": [
      "run_1_lp1e-04_ep1e-06_lb0.001 Epoch 16/100: 100%|█| 1556/1556 [18:44<00:00,  1.38it/s, grad_norm=12.1457, loss=-0.4828]\n"
     ]
    },
    {
     "name": "stdout",
     "output_type": "stream",
     "text": [
      "run_1_lp1e-04_ep1e-06_lb0.001 Epoch 16/100 | Avg Loss: -0.8849, Avg Grad Norm: 3.3845, LR: 0.000005\n"
     ]
    },
    {
     "name": "stderr",
     "output_type": "stream",
     "text": [
      "run_1_lp1e-04_ep1e-06_lb0.001 Epoch 17/100: 100%|██| 1556/1556 [18:44<00:00,  1.38it/s, grad_norm=1.7162, loss=-0.9493]\n"
     ]
    },
    {
     "name": "stdout",
     "output_type": "stream",
     "text": [
      "run_1_lp1e-04_ep1e-06_lb0.001 Epoch 17/100 | Avg Loss: -0.8937, Avg Grad Norm: 3.2155, LR: 0.000005\n"
     ]
    },
    {
     "name": "stderr",
     "output_type": "stream",
     "text": [
      "run_1_lp1e-04_ep1e-06_lb0.001 Epoch 18/100: 100%|██| 1556/1556 [18:44<00:00,  1.38it/s, grad_norm=1.9534, loss=-0.9451]\n"
     ]
    },
    {
     "name": "stdout",
     "output_type": "stream",
     "text": [
      "run_1_lp1e-04_ep1e-06_lb0.001 Epoch 18/100 | Avg Loss: -0.8948, Avg Grad Norm: 3.2292, LR: 0.000005\n"
     ]
    },
    {
     "name": "stderr",
     "output_type": "stream",
     "text": [
      "run_1_lp1e-04_ep1e-06_lb0.001 Epoch 19/100: 100%|█| 1556/1556 [18:45<00:00,  1.38it/s, grad_norm=18.5460, loss=-0.8494]\n"
     ]
    },
    {
     "name": "stdout",
     "output_type": "stream",
     "text": [
      "run_1_lp1e-04_ep1e-06_lb0.001 Epoch 19/100 | Avg Loss: -0.8973, Avg Grad Norm: 3.1372, LR: 0.000005\n"
     ]
    },
    {
     "name": "stderr",
     "output_type": "stream",
     "text": [
      "run_1_lp1e-04_ep1e-06_lb0.001 Epoch 20/100: 100%|██| 1556/1556 [18:42<00:00,  1.39it/s, grad_norm=2.1033, loss=-0.9470]\n"
     ]
    },
    {
     "name": "stdout",
     "output_type": "stream",
     "text": [
      "run_1_lp1e-04_ep1e-06_lb0.001 Epoch 20/100 | Avg Loss: -0.8987, Avg Grad Norm: 3.1254, LR: 0.000005\n",
      "Checkpoint saved at 'audiotwin_checkpoints_medium\\run_1_lp1e-04_ep1e-06_lb0.001\\audiotwin_pestlarvanet_medium_epoch_20.pth'\n"
     ]
    },
    {
     "name": "stderr",
     "output_type": "stream",
     "text": [
      "run_1_lp1e-04_ep1e-06_lb0.001 Epoch 21/100: 100%|██| 1556/1556 [20:43<00:00,  1.25it/s, grad_norm=0.3358, loss=-0.9614]\n"
     ]
    },
    {
     "name": "stdout",
     "output_type": "stream",
     "text": [
      "run_1_lp1e-04_ep1e-06_lb0.001 Epoch 21/100 | Avg Loss: -0.9070, Avg Grad Norm: 2.8317, LR: 0.000005\n"
     ]
    },
    {
     "name": "stderr",
     "output_type": "stream",
     "text": [
      "run_1_lp1e-04_ep1e-06_lb0.001 Epoch 22/100: 100%|██| 1556/1556 [21:23<00:00,  1.21it/s, grad_norm=0.8427, loss=-0.9550]\n"
     ]
    },
    {
     "name": "stdout",
     "output_type": "stream",
     "text": [
      "run_1_lp1e-04_ep1e-06_lb0.001 Epoch 22/100 | Avg Loss: -0.9014, Avg Grad Norm: 2.9917, LR: 0.000005\n"
     ]
    },
    {
     "name": "stderr",
     "output_type": "stream",
     "text": [
      "run_1_lp1e-04_ep1e-06_lb0.001 Epoch 23/100: 100%|██| 1556/1556 [18:13<00:00,  1.42it/s, grad_norm=9.2561, loss=-0.3197]\n"
     ]
    },
    {
     "name": "stdout",
     "output_type": "stream",
     "text": [
      "run_1_lp1e-04_ep1e-06_lb0.001 Epoch 23/100 | Avg Loss: -0.9034, Avg Grad Norm: 2.8957, LR: 0.000005\n"
     ]
    },
    {
     "name": "stderr",
     "output_type": "stream",
     "text": [
      "run_1_lp1e-04_ep1e-06_lb0.001 Epoch 24/100: 100%|██| 1556/1556 [18:14<00:00,  1.42it/s, grad_norm=5.5071, loss=-0.8725]\n"
     ]
    },
    {
     "name": "stdout",
     "output_type": "stream",
     "text": [
      "run_1_lp1e-04_ep1e-06_lb0.001 Epoch 24/100 | Avg Loss: -0.9072, Avg Grad Norm: 2.8882, LR: 0.000005\n"
     ]
    },
    {
     "name": "stderr",
     "output_type": "stream",
     "text": [
      "run_1_lp1e-04_ep1e-06_lb0.001 Epoch 25/100: 100%|█| 1556/1556 [18:14<00:00,  1.42it/s, grad_norm=13.8769, loss=-0.5030]\n"
     ]
    },
    {
     "name": "stdout",
     "output_type": "stream",
     "text": [
      "run_1_lp1e-04_ep1e-06_lb0.001 Epoch 25/100 | Avg Loss: -0.9107, Avg Grad Norm: 2.7746, LR: 0.000005\n",
      "Checkpoint saved at 'audiotwin_checkpoints_medium\\run_1_lp1e-04_ep1e-06_lb0.001\\audiotwin_pestlarvanet_medium_epoch_25.pth'\n"
     ]
    },
    {
     "name": "stderr",
     "output_type": "stream",
     "text": [
      "run_1_lp1e-04_ep1e-06_lb0.001 Epoch 26/100: 100%|██| 1556/1556 [18:15<00:00,  1.42it/s, grad_norm=5.3376, loss=-0.9174]\n"
     ]
    },
    {
     "name": "stdout",
     "output_type": "stream",
     "text": [
      "run_1_lp1e-04_ep1e-06_lb0.001 Epoch 26/100 | Avg Loss: -0.9096, Avg Grad Norm: 2.7346, LR: 0.000005\n"
     ]
    },
    {
     "name": "stderr",
     "output_type": "stream",
     "text": [
      "run_1_lp1e-04_ep1e-06_lb0.001 Epoch 27/100: 100%|█| 1556/1556 [18:15<00:00,  1.42it/s, grad_norm=15.5281, loss=-0.5224]\n"
     ]
    },
    {
     "name": "stdout",
     "output_type": "stream",
     "text": [
      "run_1_lp1e-04_ep1e-06_lb0.001 Epoch 27/100 | Avg Loss: -0.9162, Avg Grad Norm: 2.6737, LR: 0.000005\n"
     ]
    },
    {
     "name": "stderr",
     "output_type": "stream",
     "text": [
      "run_1_lp1e-04_ep1e-06_lb0.001 Epoch 28/100: 100%|██| 1556/1556 [18:15<00:00,  1.42it/s, grad_norm=0.1768, loss=-0.9704]\n"
     ]
    },
    {
     "name": "stdout",
     "output_type": "stream",
     "text": [
      "run_1_lp1e-04_ep1e-06_lb0.001 Epoch 28/100 | Avg Loss: -0.9166, Avg Grad Norm: 2.5647, LR: 0.000005\n"
     ]
    },
    {
     "name": "stderr",
     "output_type": "stream",
     "text": [
      "run_1_lp1e-04_ep1e-06_lb0.001 Epoch 29/100: 100%|██| 1556/1556 [18:13<00:00,  1.42it/s, grad_norm=6.4228, loss=-0.9092]\n"
     ]
    },
    {
     "name": "stdout",
     "output_type": "stream",
     "text": [
      "run_1_lp1e-04_ep1e-06_lb0.001 Epoch 29/100 | Avg Loss: -0.9145, Avg Grad Norm: 2.6224, LR: 0.000005\n"
     ]
    },
    {
     "name": "stderr",
     "output_type": "stream",
     "text": [
      "run_1_lp1e-04_ep1e-06_lb0.001 Epoch 30/100: 100%|██| 1556/1556 [18:16<00:00,  1.42it/s, grad_norm=8.8874, loss=-0.6735]\n"
     ]
    },
    {
     "name": "stdout",
     "output_type": "stream",
     "text": [
      "run_1_lp1e-04_ep1e-06_lb0.001 Epoch 30/100 | Avg Loss: -0.9186, Avg Grad Norm: 2.5489, LR: 0.000005\n",
      "Checkpoint saved at 'audiotwin_checkpoints_medium\\run_1_lp1e-04_ep1e-06_lb0.001\\audiotwin_pestlarvanet_medium_epoch_30.pth'\n"
     ]
    },
    {
     "name": "stderr",
     "output_type": "stream",
     "text": [
      "run_1_lp1e-04_ep1e-06_lb0.001 Epoch 31/100: 100%|██| 1556/1556 [18:15<00:00,  1.42it/s, grad_norm=1.0668, loss=-0.9540]\n"
     ]
    },
    {
     "name": "stdout",
     "output_type": "stream",
     "text": [
      "run_1_lp1e-04_ep1e-06_lb0.001 Epoch 31/100 | Avg Loss: -0.9196, Avg Grad Norm: 2.4907, LR: 0.000005\n"
     ]
    },
    {
     "name": "stderr",
     "output_type": "stream",
     "text": [
      "run_1_lp1e-04_ep1e-06_lb0.001 Epoch 32/100: 100%|█| 1556/1556 [18:13<00:00,  1.42it/s, grad_norm=14.2756, loss=-0.6721]\n"
     ]
    },
    {
     "name": "stdout",
     "output_type": "stream",
     "text": [
      "run_1_lp1e-04_ep1e-06_lb0.001 Epoch 32/100 | Avg Loss: -0.9174, Avg Grad Norm: 2.5637, LR: 0.000005\n"
     ]
    },
    {
     "name": "stderr",
     "output_type": "stream",
     "text": [
      "run_1_lp1e-04_ep1e-06_lb0.001 Epoch 33/100: 100%|█| 1556/1556 [18:20<00:00,  1.41it/s, grad_norm=11.0626, loss=-0.8302]\n"
     ]
    },
    {
     "name": "stdout",
     "output_type": "stream",
     "text": [
      "run_1_lp1e-04_ep1e-06_lb0.001 Epoch 33/100 | Avg Loss: -0.9243, Avg Grad Norm: 2.3795, LR: 0.000005\n"
     ]
    },
    {
     "name": "stderr",
     "output_type": "stream",
     "text": [
      "run_1_lp1e-04_ep1e-06_lb0.001 Epoch 34/100: 100%|██| 1556/1556 [18:14<00:00,  1.42it/s, grad_norm=0.2720, loss=-0.9701]\n"
     ]
    },
    {
     "name": "stdout",
     "output_type": "stream",
     "text": [
      "run_1_lp1e-04_ep1e-06_lb0.001 Epoch 34/100 | Avg Loss: -0.9212, Avg Grad Norm: 2.4508, LR: 0.000005\n"
     ]
    },
    {
     "name": "stderr",
     "output_type": "stream",
     "text": [
      "run_1_lp1e-04_ep1e-06_lb0.001 Epoch 35/100: 100%|█| 1556/1556 [18:14<00:00,  1.42it/s, grad_norm=11.4930, loss=-0.8894]\n"
     ]
    },
    {
     "name": "stdout",
     "output_type": "stream",
     "text": [
      "run_1_lp1e-04_ep1e-06_lb0.001 Epoch 35/100 | Avg Loss: -0.9220, Avg Grad Norm: 2.5539, LR: 0.000005\n",
      "Checkpoint saved at 'audiotwin_checkpoints_medium\\run_1_lp1e-04_ep1e-06_lb0.001\\audiotwin_pestlarvanet_medium_epoch_35.pth'\n"
     ]
    },
    {
     "name": "stderr",
     "output_type": "stream",
     "text": [
      "run_1_lp1e-04_ep1e-06_lb0.001 Epoch 36/100: 100%|██| 1556/1556 [18:13<00:00,  1.42it/s, grad_norm=0.3427, loss=-0.9681]\n"
     ]
    },
    {
     "name": "stdout",
     "output_type": "stream",
     "text": [
      "run_1_lp1e-04_ep1e-06_lb0.001 Epoch 36/100 | Avg Loss: -0.9286, Avg Grad Norm: 2.2383, LR: 0.000005\n"
     ]
    },
    {
     "name": "stderr",
     "output_type": "stream",
     "text": [
      "run_1_lp1e-04_ep1e-06_lb0.001 Epoch 37/100: 100%|██| 1556/1556 [18:15<00:00,  1.42it/s, grad_norm=0.5131, loss=-0.9606]\n"
     ]
    },
    {
     "name": "stdout",
     "output_type": "stream",
     "text": [
      "run_1_lp1e-04_ep1e-06_lb0.001 Epoch 37/100 | Avg Loss: -0.9242, Avg Grad Norm: 2.3312, LR: 0.000005\n"
     ]
    },
    {
     "name": "stderr",
     "output_type": "stream",
     "text": [
      "run_1_lp1e-04_ep1e-06_lb0.001 Epoch 38/100: 100%|██| 1556/1556 [18:14<00:00,  1.42it/s, grad_norm=0.5070, loss=-0.9636]\n"
     ]
    },
    {
     "name": "stdout",
     "output_type": "stream",
     "text": [
      "run_1_lp1e-04_ep1e-06_lb0.001 Epoch 38/100 | Avg Loss: -0.9280, Avg Grad Norm: 2.2894, LR: 0.000005\n"
     ]
    },
    {
     "name": "stderr",
     "output_type": "stream",
     "text": [
      "run_1_lp1e-04_ep1e-06_lb0.001 Epoch 39/100: 100%|█| 1556/1556 [18:14<00:00,  1.42it/s, grad_norm=11.0663, loss=-0.8491]\n"
     ]
    },
    {
     "name": "stdout",
     "output_type": "stream",
     "text": [
      "run_1_lp1e-04_ep1e-06_lb0.001 Epoch 39/100 | Avg Loss: -0.9231, Avg Grad Norm: 2.4821, LR: 0.000005\n"
     ]
    },
    {
     "name": "stderr",
     "output_type": "stream",
     "text": [
      "run_1_lp1e-04_ep1e-06_lb0.001 Epoch 40/100: 100%|██| 1556/1556 [18:13<00:00,  1.42it/s, grad_norm=1.4639, loss=-0.9559]\n"
     ]
    },
    {
     "name": "stdout",
     "output_type": "stream",
     "text": [
      "run_1_lp1e-04_ep1e-06_lb0.001 Epoch 40/100 | Avg Loss: -0.9285, Avg Grad Norm: 2.2802, LR: 0.000005\n",
      "Checkpoint saved at 'audiotwin_checkpoints_medium\\run_1_lp1e-04_ep1e-06_lb0.001\\audiotwin_pestlarvanet_medium_epoch_40.pth'\n"
     ]
    },
    {
     "name": "stderr",
     "output_type": "stream",
     "text": [
      "run_1_lp1e-04_ep1e-06_lb0.001 Epoch 41/100: 100%|██| 1556/1556 [18:12<00:00,  1.42it/s, grad_norm=0.2624, loss=-0.9684]\n"
     ]
    },
    {
     "name": "stdout",
     "output_type": "stream",
     "text": [
      "run_1_lp1e-04_ep1e-06_lb0.001 Epoch 41/100 | Avg Loss: -0.9271, Avg Grad Norm: 2.2958, LR: 0.000005\n"
     ]
    },
    {
     "name": "stderr",
     "output_type": "stream",
     "text": [
      "run_1_lp1e-04_ep1e-06_lb0.001 Epoch 42/100: 100%|██| 1556/1556 [18:14<00:00,  1.42it/s, grad_norm=2.2330, loss=-0.9576]\n"
     ]
    },
    {
     "name": "stdout",
     "output_type": "stream",
     "text": [
      "run_1_lp1e-04_ep1e-06_lb0.001 Epoch 42/100 | Avg Loss: -0.9314, Avg Grad Norm: 2.1531, LR: 0.000005\n"
     ]
    },
    {
     "name": "stderr",
     "output_type": "stream",
     "text": [
      "run_1_lp1e-04_ep1e-06_lb0.001 Epoch 43/100: 100%|█| 1556/1556 [18:11<00:00,  1.43it/s, grad_norm=11.5660, loss=-0.7870]\n"
     ]
    },
    {
     "name": "stdout",
     "output_type": "stream",
     "text": [
      "run_1_lp1e-04_ep1e-06_lb0.001 Epoch 43/100 | Avg Loss: -0.9286, Avg Grad Norm: 2.3720, LR: 0.000005\n"
     ]
    },
    {
     "name": "stderr",
     "output_type": "stream",
     "text": [
      "run_1_lp1e-04_ep1e-06_lb0.001 Epoch 44/100: 100%|█| 1556/1556 [18:12<00:00,  1.42it/s, grad_norm=21.9638, loss=-0.4525]\n"
     ]
    },
    {
     "name": "stdout",
     "output_type": "stream",
     "text": [
      "run_1_lp1e-04_ep1e-06_lb0.001 Epoch 44/100 | Avg Loss: -0.9270, Avg Grad Norm: 2.2775, LR: 0.000005\n"
     ]
    },
    {
     "name": "stderr",
     "output_type": "stream",
     "text": [
      "run_1_lp1e-04_ep1e-06_lb0.001 Epoch 45/100: 100%|██| 1556/1556 [18:10<00:00,  1.43it/s, grad_norm=9.9871, loss=-0.7974]\n"
     ]
    },
    {
     "name": "stdout",
     "output_type": "stream",
     "text": [
      "run_1_lp1e-04_ep1e-06_lb0.001 Epoch 45/100 | Avg Loss: -0.9312, Avg Grad Norm: 2.2395, LR: 0.000005\n",
      "Checkpoint saved at 'audiotwin_checkpoints_medium\\run_1_lp1e-04_ep1e-06_lb0.001\\audiotwin_pestlarvanet_medium_epoch_45.pth'\n"
     ]
    },
    {
     "name": "stderr",
     "output_type": "stream",
     "text": [
      "run_1_lp1e-04_ep1e-06_lb0.001 Epoch 46/100: 100%|█| 1556/1556 [18:12<00:00,  1.42it/s, grad_norm=30.2715, loss=-0.2416]\n"
     ]
    },
    {
     "name": "stdout",
     "output_type": "stream",
     "text": [
      "run_1_lp1e-04_ep1e-06_lb0.001 Epoch 46/100 | Avg Loss: -0.9261, Avg Grad Norm: 2.3475, LR: 0.000005\n"
     ]
    },
    {
     "name": "stderr",
     "output_type": "stream",
     "text": [
      "run_1_lp1e-04_ep1e-06_lb0.001 Epoch 47/100: 100%|██| 1556/1556 [18:15<00:00,  1.42it/s, grad_norm=2.5239, loss=-0.9461]\n"
     ]
    },
    {
     "name": "stdout",
     "output_type": "stream",
     "text": [
      "run_1_lp1e-04_ep1e-06_lb0.001 Epoch 47/100 | Avg Loss: -0.9314, Avg Grad Norm: 2.2173, LR: 0.000005\n"
     ]
    },
    {
     "name": "stderr",
     "output_type": "stream",
     "text": [
      "run_1_lp1e-04_ep1e-06_lb0.001 Epoch 48/100: 100%|██| 1556/1556 [18:14<00:00,  1.42it/s, grad_norm=3.0326, loss=-0.9450]\n"
     ]
    },
    {
     "name": "stdout",
     "output_type": "stream",
     "text": [
      "run_1_lp1e-04_ep1e-06_lb0.001 Epoch 48/100 | Avg Loss: -0.9344, Avg Grad Norm: 2.0760, LR: 0.000005\n"
     ]
    },
    {
     "name": "stderr",
     "output_type": "stream",
     "text": [
      "run_1_lp1e-04_ep1e-06_lb0.001 Epoch 49/100: 100%|██| 1556/1556 [18:14<00:00,  1.42it/s, grad_norm=0.2354, loss=-0.9641]\n"
     ]
    },
    {
     "name": "stdout",
     "output_type": "stream",
     "text": [
      "run_1_lp1e-04_ep1e-06_lb0.001 Epoch 49/100 | Avg Loss: -0.9295, Avg Grad Norm: 2.2693, LR: 0.000005\n"
     ]
    },
    {
     "name": "stderr",
     "output_type": "stream",
     "text": [
      "run_1_lp1e-04_ep1e-06_lb0.001 Epoch 50/100: 100%|██| 1556/1556 [18:13<00:00,  1.42it/s, grad_norm=0.4181, loss=-0.9653]\n"
     ]
    },
    {
     "name": "stdout",
     "output_type": "stream",
     "text": [
      "run_1_lp1e-04_ep1e-06_lb0.001 Epoch 50/100 | Avg Loss: -0.9328, Avg Grad Norm: 2.1458, LR: 0.000005\n",
      "Checkpoint saved at 'audiotwin_checkpoints_medium\\run_1_lp1e-04_ep1e-06_lb0.001\\audiotwin_pestlarvanet_medium_epoch_50.pth'\n"
     ]
    },
    {
     "name": "stderr",
     "output_type": "stream",
     "text": [
      "run_1_lp1e-04_ep1e-06_lb0.001 Epoch 51/100: 100%|██| 1556/1556 [18:16<00:00,  1.42it/s, grad_norm=0.7933, loss=-0.9632]\n"
     ]
    },
    {
     "name": "stdout",
     "output_type": "stream",
     "text": [
      "run_1_lp1e-04_ep1e-06_lb0.001 Epoch 51/100 | Avg Loss: -0.9323, Avg Grad Norm: 2.1874, LR: 0.000005\n"
     ]
    },
    {
     "name": "stderr",
     "output_type": "stream",
     "text": [
      "run_1_lp1e-04_ep1e-06_lb0.001 Epoch 52/100: 100%|██| 1556/1556 [18:14<00:00,  1.42it/s, grad_norm=0.1962, loss=-0.9711]\n"
     ]
    },
    {
     "name": "stdout",
     "output_type": "stream",
     "text": [
      "run_1_lp1e-04_ep1e-06_lb0.001 Epoch 52/100 | Avg Loss: -0.9318, Avg Grad Norm: 2.1763, LR: 0.000005\n"
     ]
    },
    {
     "name": "stderr",
     "output_type": "stream",
     "text": [
      "run_1_lp1e-04_ep1e-06_lb0.001 Epoch 53/100: 100%|█| 1556/1556 [18:14<00:00,  1.42it/s, grad_norm=19.3419, loss=-0.5797]\n"
     ]
    },
    {
     "name": "stdout",
     "output_type": "stream",
     "text": [
      "run_1_lp1e-04_ep1e-06_lb0.001 Epoch 53/100 | Avg Loss: -0.9341, Avg Grad Norm: 2.1747, LR: 0.000005\n"
     ]
    },
    {
     "name": "stderr",
     "output_type": "stream",
     "text": [
      "run_1_lp1e-04_ep1e-06_lb0.001 Epoch 54/100: 100%|██| 1556/1556 [18:15<00:00,  1.42it/s, grad_norm=2.0389, loss=-0.9539]\n"
     ]
    },
    {
     "name": "stdout",
     "output_type": "stream",
     "text": [
      "run_1_lp1e-04_ep1e-06_lb0.001 Epoch 54/100 | Avg Loss: -0.9350, Avg Grad Norm: 2.1846, LR: 0.000005\n"
     ]
    },
    {
     "name": "stderr",
     "output_type": "stream",
     "text": [
      "run_1_lp1e-04_ep1e-06_lb0.001 Epoch 55/100: 100%|██| 1556/1556 [18:31<00:00,  1.40it/s, grad_norm=0.3783, loss=-0.9680]\n"
     ]
    },
    {
     "name": "stdout",
     "output_type": "stream",
     "text": [
      "run_1_lp1e-04_ep1e-06_lb0.001 Epoch 55/100 | Avg Loss: -0.9356, Avg Grad Norm: 2.0800, LR: 0.000005\n",
      "Checkpoint saved at 'audiotwin_checkpoints_medium\\run_1_lp1e-04_ep1e-06_lb0.001\\audiotwin_pestlarvanet_medium_epoch_55.pth'\n"
     ]
    },
    {
     "name": "stderr",
     "output_type": "stream",
     "text": [
      "run_1_lp1e-04_ep1e-06_lb0.001 Epoch 56/100: 100%|██| 1556/1556 [18:30<00:00,  1.40it/s, grad_norm=1.6239, loss=-0.9513]\n"
     ]
    },
    {
     "name": "stdout",
     "output_type": "stream",
     "text": [
      "run_1_lp1e-04_ep1e-06_lb0.001 Epoch 56/100 | Avg Loss: -0.9353, Avg Grad Norm: 2.0183, LR: 0.000005\n"
     ]
    },
    {
     "name": "stderr",
     "output_type": "stream",
     "text": [
      "run_1_lp1e-04_ep1e-06_lb0.001 Epoch 57/100: 100%|██| 1556/1556 [18:33<00:00,  1.40it/s, grad_norm=0.3303, loss=-0.9691]\n"
     ]
    },
    {
     "name": "stdout",
     "output_type": "stream",
     "text": [
      "run_1_lp1e-04_ep1e-06_lb0.001 Epoch 57/100 | Avg Loss: -0.9354, Avg Grad Norm: 2.0504, LR: 0.000005\n"
     ]
    },
    {
     "name": "stderr",
     "output_type": "stream",
     "text": [
      "run_1_lp1e-04_ep1e-06_lb0.001 Epoch 58/100: 100%|██| 1556/1556 [18:39<00:00,  1.39it/s, grad_norm=9.6879, loss=-0.7777]\n"
     ]
    },
    {
     "name": "stdout",
     "output_type": "stream",
     "text": [
      "run_1_lp1e-04_ep1e-06_lb0.001 Epoch 58/100 | Avg Loss: -0.9377, Avg Grad Norm: 2.0912, LR: 0.000005\n"
     ]
    },
    {
     "name": "stderr",
     "output_type": "stream",
     "text": [
      "run_1_lp1e-04_ep1e-06_lb0.001 Epoch 59/100: 100%|██| 1556/1556 [18:52<00:00,  1.37it/s, grad_norm=7.2193, loss=-0.9169]\n"
     ]
    },
    {
     "name": "stdout",
     "output_type": "stream",
     "text": [
      "run_1_lp1e-04_ep1e-06_lb0.001 Epoch 59/100 | Avg Loss: -0.9368, Avg Grad Norm: 2.0219, LR: 0.000005\n"
     ]
    },
    {
     "name": "stderr",
     "output_type": "stream",
     "text": [
      "run_1_lp1e-04_ep1e-06_lb0.001 Epoch 60/100: 100%|█| 1556/1556 [18:26<00:00,  1.41it/s, grad_norm=23.2745, loss=-0.6640]\n"
     ]
    },
    {
     "name": "stdout",
     "output_type": "stream",
     "text": [
      "run_1_lp1e-04_ep1e-06_lb0.001 Epoch 60/100 | Avg Loss: -0.9354, Avg Grad Norm: 2.2302, LR: 0.000005\n",
      "Checkpoint saved at 'audiotwin_checkpoints_medium\\run_1_lp1e-04_ep1e-06_lb0.001\\audiotwin_pestlarvanet_medium_epoch_60.pth'\n"
     ]
    },
    {
     "name": "stderr",
     "output_type": "stream",
     "text": [
      "run_1_lp1e-04_ep1e-06_lb0.001 Epoch 61/100: 100%|██| 1556/1556 [18:26<00:00,  1.41it/s, grad_norm=5.8124, loss=-0.9393]\n"
     ]
    },
    {
     "name": "stdout",
     "output_type": "stream",
     "text": [
      "run_1_lp1e-04_ep1e-06_lb0.001 Epoch 61/100 | Avg Loss: -0.9391, Avg Grad Norm: 1.9752, LR: 0.000005\n"
     ]
    },
    {
     "name": "stderr",
     "output_type": "stream",
     "text": [
      "run_1_lp1e-04_ep1e-06_lb0.001 Epoch 62/100: 100%|██| 1556/1556 [18:26<00:00,  1.41it/s, grad_norm=0.4811, loss=-0.9645]\n"
     ]
    },
    {
     "name": "stdout",
     "output_type": "stream",
     "text": [
      "run_1_lp1e-04_ep1e-06_lb0.001 Epoch 62/100 | Avg Loss: -0.9370, Avg Grad Norm: 2.0795, LR: 0.000005\n"
     ]
    },
    {
     "name": "stderr",
     "output_type": "stream",
     "text": [
      "run_1_lp1e-04_ep1e-06_lb0.001 Epoch 63/100: 100%|█| 1556/1556 [18:26<00:00,  1.41it/s, grad_norm=23.9340, loss=-0.5780]\n"
     ]
    },
    {
     "name": "stdout",
     "output_type": "stream",
     "text": [
      "run_1_lp1e-04_ep1e-06_lb0.001 Epoch 63/100 | Avg Loss: -0.9375, Avg Grad Norm: 1.9892, LR: 0.000005\n"
     ]
    },
    {
     "name": "stderr",
     "output_type": "stream",
     "text": [
      "run_1_lp1e-04_ep1e-06_lb0.001 Epoch 64/100: 100%|██| 1556/1556 [18:26<00:00,  1.41it/s, grad_norm=1.7747, loss=-0.9653]\n"
     ]
    },
    {
     "name": "stdout",
     "output_type": "stream",
     "text": [
      "run_1_lp1e-04_ep1e-06_lb0.001 Epoch 64/100 | Avg Loss: -0.9373, Avg Grad Norm: 2.1279, LR: 0.000005\n"
     ]
    },
    {
     "name": "stderr",
     "output_type": "stream",
     "text": [
      "run_1_lp1e-04_ep1e-06_lb0.001 Epoch 65/100: 100%|█| 1556/1556 [18:26<00:00,  1.41it/s, grad_norm=15.1322, loss=-0.3707]\n"
     ]
    },
    {
     "name": "stdout",
     "output_type": "stream",
     "text": [
      "run_1_lp1e-04_ep1e-06_lb0.001 Epoch 65/100 | Avg Loss: -0.9378, Avg Grad Norm: 1.9053, LR: 0.000005\n",
      "Checkpoint saved at 'audiotwin_checkpoints_medium\\run_1_lp1e-04_ep1e-06_lb0.001\\audiotwin_pestlarvanet_medium_epoch_65.pth'\n"
     ]
    },
    {
     "name": "stderr",
     "output_type": "stream",
     "text": [
      "run_1_lp1e-04_ep1e-06_lb0.001 Epoch 66/100: 100%|██| 1556/1556 [18:25<00:00,  1.41it/s, grad_norm=3.1112, loss=-0.9424]\n"
     ]
    },
    {
     "name": "stdout",
     "output_type": "stream",
     "text": [
      "run_1_lp1e-04_ep1e-06_lb0.001 Epoch 66/100 | Avg Loss: -0.9390, Avg Grad Norm: 1.9658, LR: 0.000005\n"
     ]
    },
    {
     "name": "stderr",
     "output_type": "stream",
     "text": [
      "run_1_lp1e-04_ep1e-06_lb0.001 Epoch 67/100: 100%|██| 1556/1556 [18:26<00:00,  1.41it/s, grad_norm=0.8896, loss=-0.9675]\n"
     ]
    },
    {
     "name": "stdout",
     "output_type": "stream",
     "text": [
      "run_1_lp1e-04_ep1e-06_lb0.001 Epoch 67/100 | Avg Loss: -0.9375, Avg Grad Norm: 1.9969, LR: 0.000005\n"
     ]
    },
    {
     "name": "stderr",
     "output_type": "stream",
     "text": [
      "run_1_lp1e-04_ep1e-06_lb0.001 Epoch 68/100: 100%|██| 1556/1556 [18:25<00:00,  1.41it/s, grad_norm=0.7814, loss=-0.9668]\n"
     ]
    },
    {
     "name": "stdout",
     "output_type": "stream",
     "text": [
      "run_1_lp1e-04_ep1e-06_lb0.001 Epoch 68/100 | Avg Loss: -0.9368, Avg Grad Norm: 2.0017, LR: 0.000005\n"
     ]
    },
    {
     "name": "stderr",
     "output_type": "stream",
     "text": [
      "run_1_lp1e-04_ep1e-06_lb0.001 Epoch 69/100: 100%|█| 1556/1556 [19:10<00:00,  1.35it/s, grad_norm=16.4560, loss=-0.7767]\n"
     ]
    },
    {
     "name": "stdout",
     "output_type": "stream",
     "text": [
      "run_1_lp1e-04_ep1e-06_lb0.001 Epoch 69/100 | Avg Loss: -0.9385, Avg Grad Norm: 2.0324, LR: 0.000005\n"
     ]
    },
    {
     "name": "stderr",
     "output_type": "stream",
     "text": [
      "run_1_lp1e-04_ep1e-06_lb0.001 Epoch 70/100: 100%|██| 1556/1556 [22:43<00:00,  1.14it/s, grad_norm=0.1696, loss=-0.9715]\n"
     ]
    },
    {
     "name": "stdout",
     "output_type": "stream",
     "text": [
      "run_1_lp1e-04_ep1e-06_lb0.001 Epoch 70/100 | Avg Loss: -0.9422, Avg Grad Norm: 1.9333, LR: 0.000005\n",
      "Checkpoint saved at 'audiotwin_checkpoints_medium\\run_1_lp1e-04_ep1e-06_lb0.001\\audiotwin_pestlarvanet_medium_epoch_70.pth'\n"
     ]
    },
    {
     "name": "stderr",
     "output_type": "stream",
     "text": [
      "run_1_lp1e-04_ep1e-06_lb0.001 Epoch 71/100: 100%|██| 1556/1556 [18:27<00:00,  1.41it/s, grad_norm=2.4281, loss=-0.9484]\n"
     ]
    },
    {
     "name": "stdout",
     "output_type": "stream",
     "text": [
      "run_1_lp1e-04_ep1e-06_lb0.001 Epoch 71/100 | Avg Loss: -0.9405, Avg Grad Norm: 1.9304, LR: 0.000005\n"
     ]
    },
    {
     "name": "stderr",
     "output_type": "stream",
     "text": [
      "run_1_lp1e-04_ep1e-06_lb0.001 Epoch 72/100: 100%|██| 1556/1556 [18:25<00:00,  1.41it/s, grad_norm=0.7706, loss=-0.9634]\n"
     ]
    },
    {
     "name": "stdout",
     "output_type": "stream",
     "text": [
      "run_1_lp1e-04_ep1e-06_lb0.001 Epoch 72/100 | Avg Loss: -0.9414, Avg Grad Norm: 1.9115, LR: 0.000005\n"
     ]
    },
    {
     "name": "stderr",
     "output_type": "stream",
     "text": [
      "run_1_lp1e-04_ep1e-06_lb0.001 Epoch 73/100: 100%|██| 1556/1556 [18:25<00:00,  1.41it/s, grad_norm=5.5362, loss=-0.8376]\n"
     ]
    },
    {
     "name": "stdout",
     "output_type": "stream",
     "text": [
      "run_1_lp1e-04_ep1e-06_lb0.001 Epoch 73/100 | Avg Loss: -0.9397, Avg Grad Norm: 1.9550, LR: 0.000005\n"
     ]
    },
    {
     "name": "stderr",
     "output_type": "stream",
     "text": [
      "run_1_lp1e-04_ep1e-06_lb0.001 Epoch 74/100: 100%|█| 1556/1556 [20:04<00:00,  1.29it/s, grad_norm=20.4764, loss=-0.8696]\n"
     ]
    },
    {
     "name": "stdout",
     "output_type": "stream",
     "text": [
      "run_1_lp1e-04_ep1e-06_lb0.001 Epoch 74/100 | Avg Loss: -0.9412, Avg Grad Norm: 1.9546, LR: 0.000005\n"
     ]
    },
    {
     "name": "stderr",
     "output_type": "stream",
     "text": [
      "run_1_lp1e-04_ep1e-06_lb0.001 Epoch 75/100: 100%|██| 1556/1556 [22:07<00:00,  1.17it/s, grad_norm=1.9860, loss=-0.9616]\n"
     ]
    },
    {
     "name": "stdout",
     "output_type": "stream",
     "text": [
      "run_1_lp1e-04_ep1e-06_lb0.001 Epoch 75/100 | Avg Loss: -0.9433, Avg Grad Norm: 1.8269, LR: 0.000005\n",
      "Checkpoint saved at 'audiotwin_checkpoints_medium\\run_1_lp1e-04_ep1e-06_lb0.001\\audiotwin_pestlarvanet_medium_epoch_75.pth'\n"
     ]
    },
    {
     "name": "stderr",
     "output_type": "stream",
     "text": [
      "run_1_lp1e-04_ep1e-06_lb0.001 Epoch 76/100: 100%|██| 1556/1556 [18:25<00:00,  1.41it/s, grad_norm=8.3495, loss=-0.8846]\n"
     ]
    },
    {
     "name": "stdout",
     "output_type": "stream",
     "text": [
      "run_1_lp1e-04_ep1e-06_lb0.001 Epoch 76/100 | Avg Loss: -0.9383, Avg Grad Norm: 2.0894, LR: 0.000005\n"
     ]
    },
    {
     "name": "stderr",
     "output_type": "stream",
     "text": [
      "run_1_lp1e-04_ep1e-06_lb0.001 Epoch 77/100: 100%|██| 1556/1556 [18:24<00:00,  1.41it/s, grad_norm=1.4921, loss=-0.9555]\n"
     ]
    },
    {
     "name": "stdout",
     "output_type": "stream",
     "text": [
      "run_1_lp1e-04_ep1e-06_lb0.001 Epoch 77/100 | Avg Loss: -0.9403, Avg Grad Norm: 1.9746, LR: 0.000005\n"
     ]
    },
    {
     "name": "stderr",
     "output_type": "stream",
     "text": [
      "run_1_lp1e-04_ep1e-06_lb0.001 Epoch 78/100: 100%|██| 1556/1556 [18:28<00:00,  1.40it/s, grad_norm=0.5078, loss=-0.9660]\n"
     ]
    },
    {
     "name": "stdout",
     "output_type": "stream",
     "text": [
      "run_1_lp1e-04_ep1e-06_lb0.001 Epoch 78/100 | Avg Loss: -0.9416, Avg Grad Norm: 1.8911, LR: 0.000005\n"
     ]
    },
    {
     "name": "stderr",
     "output_type": "stream",
     "text": [
      "run_1_lp1e-04_ep1e-06_lb0.001 Epoch 79/100: 100%|██| 1556/1556 [18:25<00:00,  1.41it/s, grad_norm=1.0925, loss=-0.9548]\n"
     ]
    },
    {
     "name": "stdout",
     "output_type": "stream",
     "text": [
      "run_1_lp1e-04_ep1e-06_lb0.001 Epoch 79/100 | Avg Loss: -0.9393, Avg Grad Norm: 1.9120, LR: 0.000005\n"
     ]
    },
    {
     "name": "stderr",
     "output_type": "stream",
     "text": [
      "run_1_lp1e-04_ep1e-06_lb0.001 Epoch 80/100: 100%|██| 1556/1556 [18:27<00:00,  1.41it/s, grad_norm=0.4881, loss=-0.9570]\n"
     ]
    },
    {
     "name": "stdout",
     "output_type": "stream",
     "text": [
      "run_1_lp1e-04_ep1e-06_lb0.001 Epoch 80/100 | Avg Loss: -0.9435, Avg Grad Norm: 1.8356, LR: 0.000005\n",
      "Checkpoint saved at 'audiotwin_checkpoints_medium\\run_1_lp1e-04_ep1e-06_lb0.001\\audiotwin_pestlarvanet_medium_epoch_80.pth'\n"
     ]
    },
    {
     "name": "stderr",
     "output_type": "stream",
     "text": [
      "run_1_lp1e-04_ep1e-06_lb0.001 Epoch 81/100: 100%|██| 1556/1556 [18:28<00:00,  1.40it/s, grad_norm=8.4735, loss=-0.9126]\n"
     ]
    },
    {
     "name": "stdout",
     "output_type": "stream",
     "text": [
      "run_1_lp1e-04_ep1e-06_lb0.001 Epoch 81/100 | Avg Loss: -0.9412, Avg Grad Norm: 1.9120, LR: 0.000005\n"
     ]
    },
    {
     "name": "stderr",
     "output_type": "stream",
     "text": [
      "run_1_lp1e-04_ep1e-06_lb0.001 Epoch 82/100: 100%|██| 1556/1556 [18:28<00:00,  1.40it/s, grad_norm=0.8652, loss=-0.9582]\n"
     ]
    },
    {
     "name": "stdout",
     "output_type": "stream",
     "text": [
      "run_1_lp1e-04_ep1e-06_lb0.001 Epoch 82/100 | Avg Loss: -0.9415, Avg Grad Norm: 1.8626, LR: 0.000005\n"
     ]
    },
    {
     "name": "stderr",
     "output_type": "stream",
     "text": [
      "run_1_lp1e-04_ep1e-06_lb0.001 Epoch 83/100: 100%|█| 1556/1556 [18:28<00:00,  1.40it/s, grad_norm=14.7371, loss=-0.6812]\n"
     ]
    },
    {
     "name": "stdout",
     "output_type": "stream",
     "text": [
      "run_1_lp1e-04_ep1e-06_lb0.001 Epoch 83/100 | Avg Loss: -0.9438, Avg Grad Norm: 1.7629, LR: 0.000005\n"
     ]
    },
    {
     "name": "stderr",
     "output_type": "stream",
     "text": [
      "run_1_lp1e-04_ep1e-06_lb0.001 Epoch 84/100: 100%|██| 1556/1556 [18:27<00:00,  1.40it/s, grad_norm=0.6305, loss=-0.9682]\n"
     ]
    },
    {
     "name": "stdout",
     "output_type": "stream",
     "text": [
      "run_1_lp1e-04_ep1e-06_lb0.001 Epoch 84/100 | Avg Loss: -0.9411, Avg Grad Norm: 1.9813, LR: 0.000005\n"
     ]
    },
    {
     "name": "stderr",
     "output_type": "stream",
     "text": [
      "run_1_lp1e-04_ep1e-06_lb0.001 Epoch 85/100: 100%|██| 1556/1556 [18:27<00:00,  1.40it/s, grad_norm=0.2562, loss=-0.9701]\n"
     ]
    },
    {
     "name": "stdout",
     "output_type": "stream",
     "text": [
      "run_1_lp1e-04_ep1e-06_lb0.001 Epoch 85/100 | Avg Loss: -0.9399, Avg Grad Norm: 1.8542, LR: 0.000005\n",
      "Checkpoint saved at 'audiotwin_checkpoints_medium\\run_1_lp1e-04_ep1e-06_lb0.001\\audiotwin_pestlarvanet_medium_epoch_85.pth'\n"
     ]
    },
    {
     "name": "stderr",
     "output_type": "stream",
     "text": [
      "run_1_lp1e-04_ep1e-06_lb0.001 Epoch 86/100: 100%|█| 1556/1556 [18:28<00:00,  1.40it/s, grad_norm=34.5610, loss=-0.5990]\n"
     ]
    },
    {
     "name": "stdout",
     "output_type": "stream",
     "text": [
      "run_1_lp1e-04_ep1e-06_lb0.001 Epoch 86/100 | Avg Loss: -0.9428, Avg Grad Norm: 1.9402, LR: 0.000005\n"
     ]
    },
    {
     "name": "stderr",
     "output_type": "stream",
     "text": [
      "run_1_lp1e-04_ep1e-06_lb0.001 Epoch 87/100: 100%|██| 1556/1556 [18:27<00:00,  1.41it/s, grad_norm=7.2640, loss=-0.9225]\n"
     ]
    },
    {
     "name": "stdout",
     "output_type": "stream",
     "text": [
      "run_1_lp1e-04_ep1e-06_lb0.001 Epoch 87/100 | Avg Loss: -0.9430, Avg Grad Norm: 1.8504, LR: 0.000005\n"
     ]
    },
    {
     "name": "stderr",
     "output_type": "stream",
     "text": [
      "run_1_lp1e-04_ep1e-06_lb0.001 Epoch 88/100: 100%|██| 1556/1556 [18:28<00:00,  1.40it/s, grad_norm=4.0594, loss=-0.9245]\n"
     ]
    },
    {
     "name": "stdout",
     "output_type": "stream",
     "text": [
      "run_1_lp1e-04_ep1e-06_lb0.001 Epoch 88/100 | Avg Loss: -0.9413, Avg Grad Norm: 1.8679, LR: 0.000005\n"
     ]
    },
    {
     "name": "stderr",
     "output_type": "stream",
     "text": [
      "run_1_lp1e-04_ep1e-06_lb0.001 Epoch 89/100: 100%|█████| 1556/1556 [18:29<00:00,  1.40it/s, grad_norm=nan, loss=-0.2992]\n"
     ]
    },
    {
     "name": "stdout",
     "output_type": "stream",
     "text": [
      "run_1_lp1e-04_ep1e-06_lb0.001 Epoch 89/100 | Avg Loss: -0.9444, Avg Grad Norm: 1.7319, LR: 0.000005\n"
     ]
    },
    {
     "name": "stderr",
     "output_type": "stream",
     "text": [
      "run_1_lp1e-04_ep1e-06_lb0.001 Epoch 90/100: 100%|██| 1556/1556 [18:28<00:00,  1.40it/s, grad_norm=0.4936, loss=-0.9648]\n"
     ]
    },
    {
     "name": "stdout",
     "output_type": "stream",
     "text": [
      "run_1_lp1e-04_ep1e-06_lb0.001 Epoch 90/100 | Avg Loss: -0.9431, Avg Grad Norm: 1.8090, LR: 0.000005\n",
      "Checkpoint saved at 'audiotwin_checkpoints_medium\\run_1_lp1e-04_ep1e-06_lb0.001\\audiotwin_pestlarvanet_medium_epoch_90.pth'\n"
     ]
    },
    {
     "name": "stderr",
     "output_type": "stream",
     "text": [
      "run_1_lp1e-04_ep1e-06_lb0.001 Epoch 91/100: 100%|██| 1556/1556 [18:26<00:00,  1.41it/s, grad_norm=3.0897, loss=-0.9439]\n"
     ]
    },
    {
     "name": "stdout",
     "output_type": "stream",
     "text": [
      "run_1_lp1e-04_ep1e-06_lb0.001 Epoch 91/100 | Avg Loss: -0.9428, Avg Grad Norm: 1.8263, LR: 0.000005\n"
     ]
    },
    {
     "name": "stderr",
     "output_type": "stream",
     "text": [
      "run_1_lp1e-04_ep1e-06_lb0.001 Epoch 92/100: 100%|██| 1556/1556 [18:31<00:00,  1.40it/s, grad_norm=5.5393, loss=-0.8941]\n"
     ]
    },
    {
     "name": "stdout",
     "output_type": "stream",
     "text": [
      "run_1_lp1e-04_ep1e-06_lb0.001 Epoch 92/100 | Avg Loss: -0.9449, Avg Grad Norm: 1.7185, LR: 0.000005\n"
     ]
    },
    {
     "name": "stderr",
     "output_type": "stream",
     "text": [
      "run_1_lp1e-04_ep1e-06_lb0.001 Epoch 93/100: 100%|██| 1556/1556 [18:30<00:00,  1.40it/s, grad_norm=0.2031, loss=-0.9712]\n"
     ]
    },
    {
     "name": "stdout",
     "output_type": "stream",
     "text": [
      "run_1_lp1e-04_ep1e-06_lb0.001 Epoch 93/100 | Avg Loss: -0.9418, Avg Grad Norm: 1.9054, LR: 0.000005\n"
     ]
    },
    {
     "name": "stderr",
     "output_type": "stream",
     "text": [
      "run_1_lp1e-04_ep1e-06_lb0.001 Epoch 94/100: 100%|██| 1556/1556 [18:30<00:00,  1.40it/s, grad_norm=7.8508, loss=-0.9245]\n"
     ]
    },
    {
     "name": "stdout",
     "output_type": "stream",
     "text": [
      "run_1_lp1e-04_ep1e-06_lb0.001 Epoch 94/100 | Avg Loss: -0.9434, Avg Grad Norm: 1.8256, LR: 0.000005\n"
     ]
    },
    {
     "name": "stderr",
     "output_type": "stream",
     "text": [
      "run_1_lp1e-04_ep1e-06_lb0.001 Epoch 95/100: 100%|██| 1556/1556 [18:25<00:00,  1.41it/s, grad_norm=0.2873, loss=-0.9689]\n"
     ]
    },
    {
     "name": "stdout",
     "output_type": "stream",
     "text": [
      "run_1_lp1e-04_ep1e-06_lb0.001 Epoch 95/100 | Avg Loss: -0.9439, Avg Grad Norm: 1.8424, LR: 0.000005\n",
      "Checkpoint saved at 'audiotwin_checkpoints_medium\\run_1_lp1e-04_ep1e-06_lb0.001\\audiotwin_pestlarvanet_medium_epoch_95.pth'\n"
     ]
    },
    {
     "name": "stderr",
     "output_type": "stream",
     "text": [
      "run_1_lp1e-04_ep1e-06_lb0.001 Epoch 96/100: 100%|█| 1556/1556 [18:26<00:00,  1.41it/s, grad_norm=41.9065, loss=-0.7900]\n"
     ]
    },
    {
     "name": "stdout",
     "output_type": "stream",
     "text": [
      "run_1_lp1e-04_ep1e-06_lb0.001 Epoch 96/100 | Avg Loss: -0.9437, Avg Grad Norm: 1.8539, LR: 0.000005\n"
     ]
    },
    {
     "name": "stderr",
     "output_type": "stream",
     "text": [
      "run_1_lp1e-04_ep1e-06_lb0.001 Epoch 97/100: 100%|█| 1556/1556 [18:26<00:00,  1.41it/s, grad_norm=11.3872, loss=-0.7230]\n"
     ]
    },
    {
     "name": "stdout",
     "output_type": "stream",
     "text": [
      "run_1_lp1e-04_ep1e-06_lb0.001 Epoch 97/100 | Avg Loss: -0.9441, Avg Grad Norm: 1.8227, LR: 0.000005\n"
     ]
    },
    {
     "name": "stderr",
     "output_type": "stream",
     "text": [
      "run_1_lp1e-04_ep1e-06_lb0.001 Epoch 98/100: 100%|██| 1556/1556 [18:26<00:00,  1.41it/s, grad_norm=0.3047, loss=-0.9676]\n"
     ]
    },
    {
     "name": "stdout",
     "output_type": "stream",
     "text": [
      "run_1_lp1e-04_ep1e-06_lb0.001 Epoch 98/100 | Avg Loss: -0.9439, Avg Grad Norm: 1.7921, LR: 0.000005\n"
     ]
    },
    {
     "name": "stderr",
     "output_type": "stream",
     "text": [
      "run_1_lp1e-04_ep1e-06_lb0.001 Epoch 99/100: 100%|█| 1556/1556 [23:06<00:00,  1.12it/s, grad_norm=17.7258, loss=-0.8501]\n"
     ]
    },
    {
     "name": "stdout",
     "output_type": "stream",
     "text": [
      "run_1_lp1e-04_ep1e-06_lb0.001 Epoch 99/100 | Avg Loss: -0.9463, Avg Grad Norm: 1.7095, LR: 0.000001\n"
     ]
    },
    {
     "name": "stderr",
     "output_type": "stream",
     "text": [
      "run_1_lp1e-04_ep1e-06_lb0.001 Epoch 100/100: 100%|█| 1556/1556 [19:04<00:00,  1.36it/s, grad_norm=0.2661, loss=-0.9715]\n"
     ]
    },
    {
     "name": "stdout",
     "output_type": "stream",
     "text": [
      "run_1_lp1e-04_ep1e-06_lb0.001 Epoch 100/100 | Avg Loss: -0.9427, Avg Grad Norm: 1.9213, LR: 0.000001\n",
      "Checkpoint saved at 'audiotwin_checkpoints_medium\\run_1_lp1e-04_ep1e-06_lb0.001\\audiotwin_pestlarvanet_medium_epoch_100.pth'\n",
      "\n",
      "Starting Pre-training with AudioTwin - run_2_lp5e-04_ep1e-06_lb0.003\n"
     ]
    },
    {
     "name": "stderr",
     "output_type": "stream",
     "text": [
      "run_2_lp5e-04_ep1e-06_lb0.003 Epoch 1/100: 100%|████| 1556/1556 [18:27<00:00,  1.40it/s, grad_norm=5.8187, loss=0.0188]\n"
     ]
    },
    {
     "name": "stdout",
     "output_type": "stream",
     "text": [
      "run_2_lp5e-04_ep1e-06_lb0.003 Epoch 1/100 | Avg Loss: 0.6734, Avg Grad Norm: 3.9386, LR: 0.000005\n"
     ]
    },
    {
     "name": "stderr",
     "output_type": "stream",
     "text": [
      "run_2_lp5e-04_ep1e-06_lb0.003 Epoch 2/100: 100%|███| 1556/1556 [18:26<00:00,  1.41it/s, grad_norm=9.8382, loss=-0.1386]\n"
     ]
    },
    {
     "name": "stdout",
     "output_type": "stream",
     "text": [
      "run_2_lp5e-04_ep1e-06_lb0.003 Epoch 2/100 | Avg Loss: -0.0451, Avg Grad Norm: 4.0308, LR: 0.000005\n"
     ]
    },
    {
     "name": "stderr",
     "output_type": "stream",
     "text": [
      "run_2_lp5e-04_ep1e-06_lb0.003 Epoch 3/100: 100%|██| 1556/1556 [18:26<00:00,  1.41it/s, grad_norm=13.1138, loss=-0.0667]\n"
     ]
    },
    {
     "name": "stdout",
     "output_type": "stream",
     "text": [
      "run_2_lp5e-04_ep1e-06_lb0.003 Epoch 3/100 | Avg Loss: -0.3243, Avg Grad Norm: 4.3007, LR: 0.000005\n"
     ]
    },
    {
     "name": "stderr",
     "output_type": "stream",
     "text": [
      "run_2_lp5e-04_ep1e-06_lb0.003 Epoch 4/100: 100%|███| 1556/1556 [18:26<00:00,  1.41it/s, grad_norm=6.1661, loss=-0.6158]\n"
     ]
    },
    {
     "name": "stdout",
     "output_type": "stream",
     "text": [
      "run_2_lp5e-04_ep1e-06_lb0.003 Epoch 4/100 | Avg Loss: -0.4459, Avg Grad Norm: 4.2227, LR: 0.000005\n"
     ]
    },
    {
     "name": "stderr",
     "output_type": "stream",
     "text": [
      "run_2_lp5e-04_ep1e-06_lb0.003 Epoch 5/100: 100%|███| 1556/1556 [18:27<00:00,  1.40it/s, grad_norm=0.8969, loss=-0.7520]\n"
     ]
    },
    {
     "name": "stdout",
     "output_type": "stream",
     "text": [
      "run_2_lp5e-04_ep1e-06_lb0.003 Epoch 5/100 | Avg Loss: -0.5065, Avg Grad Norm: 4.2266, LR: 0.000005\n",
      "Checkpoint saved at 'audiotwin_checkpoints_medium\\run_2_lp5e-04_ep1e-06_lb0.003\\audiotwin_pestlarvanet_medium_epoch_5.pth'\n"
     ]
    },
    {
     "name": "stderr",
     "output_type": "stream",
     "text": [
      "run_2_lp5e-04_ep1e-06_lb0.003 Epoch 6/100: 100%|██| 1556/1556 [18:26<00:00,  1.41it/s, grad_norm=20.7640, loss=-0.1873]\n"
     ]
    },
    {
     "name": "stdout",
     "output_type": "stream",
     "text": [
      "run_2_lp5e-04_ep1e-06_lb0.003 Epoch 6/100 | Avg Loss: -0.5401, Avg Grad Norm: 4.2517, LR: 0.000005\n"
     ]
    },
    {
     "name": "stderr",
     "output_type": "stream",
     "text": [
      "run_2_lp5e-04_ep1e-06_lb0.003 Epoch 7/100: 100%|██| 1556/1556 [18:30<00:00,  1.40it/s, grad_norm=12.8461, loss=-0.2137]\n"
     ]
    },
    {
     "name": "stdout",
     "output_type": "stream",
     "text": [
      "run_2_lp5e-04_ep1e-06_lb0.003 Epoch 7/100 | Avg Loss: -0.5734, Avg Grad Norm: 4.2862, LR: 0.000005\n"
     ]
    },
    {
     "name": "stderr",
     "output_type": "stream",
     "text": [
      "run_2_lp5e-04_ep1e-06_lb0.003 Epoch 8/100: 100%|███| 1556/1556 [18:26<00:00,  1.41it/s, grad_norm=2.7297, loss=-0.7549]\n"
     ]
    },
    {
     "name": "stdout",
     "output_type": "stream",
     "text": [
      "run_2_lp5e-04_ep1e-06_lb0.003 Epoch 8/100 | Avg Loss: -0.5994, Avg Grad Norm: 4.2243, LR: 0.000005\n"
     ]
    },
    {
     "name": "stderr",
     "output_type": "stream",
     "text": [
      "run_2_lp5e-04_ep1e-06_lb0.003 Epoch 9/100: 100%|██| 1556/1556 [18:26<00:00,  1.41it/s, grad_norm=15.0705, loss=-0.1364]\n"
     ]
    },
    {
     "name": "stdout",
     "output_type": "stream",
     "text": [
      "run_2_lp5e-04_ep1e-06_lb0.003 Epoch 9/100 | Avg Loss: -0.5977, Avg Grad Norm: 4.2264, LR: 0.000005\n"
     ]
    },
    {
     "name": "stderr",
     "output_type": "stream",
     "text": [
      "run_2_lp5e-04_ep1e-06_lb0.003 Epoch 10/100: 100%|█| 1556/1556 [18:28<00:00,  1.40it/s, grad_norm=11.9634, loss=-0.5107]\n"
     ]
    },
    {
     "name": "stdout",
     "output_type": "stream",
     "text": [
      "run_2_lp5e-04_ep1e-06_lb0.003 Epoch 10/100 | Avg Loss: -0.6286, Avg Grad Norm: 4.2439, LR: 0.000005\n",
      "Checkpoint saved at 'audiotwin_checkpoints_medium\\run_2_lp5e-04_ep1e-06_lb0.003\\audiotwin_pestlarvanet_medium_epoch_10.pth'\n"
     ]
    },
    {
     "name": "stderr",
     "output_type": "stream",
     "text": [
      "run_2_lp5e-04_ep1e-06_lb0.003 Epoch 11/100: 100%|██| 1556/1556 [18:27<00:00,  1.40it/s, grad_norm=7.2405, loss=-0.6979]\n"
     ]
    },
    {
     "name": "stdout",
     "output_type": "stream",
     "text": [
      "run_2_lp5e-04_ep1e-06_lb0.003 Epoch 11/100 | Avg Loss: -0.6384, Avg Grad Norm: 4.2243, LR: 0.000005\n"
     ]
    },
    {
     "name": "stderr",
     "output_type": "stream",
     "text": [
      "run_2_lp5e-04_ep1e-06_lb0.003 Epoch 12/100: 100%|██| 1556/1556 [18:28<00:00,  1.40it/s, grad_norm=24.3815, loss=0.4536]\n"
     ]
    },
    {
     "name": "stdout",
     "output_type": "stream",
     "text": [
      "run_2_lp5e-04_ep1e-06_lb0.003 Epoch 12/100 | Avg Loss: -0.6505, Avg Grad Norm: 4.1988, LR: 0.000005\n"
     ]
    },
    {
     "name": "stderr",
     "output_type": "stream",
     "text": [
      "run_2_lp5e-04_ep1e-06_lb0.003 Epoch 13/100: 100%|██| 1556/1556 [18:30<00:00,  1.40it/s, grad_norm=6.7092, loss=-0.6024]\n"
     ]
    },
    {
     "name": "stdout",
     "output_type": "stream",
     "text": [
      "run_2_lp5e-04_ep1e-06_lb0.003 Epoch 13/100 | Avg Loss: -0.6611, Avg Grad Norm: 4.1448, LR: 0.000005\n"
     ]
    },
    {
     "name": "stderr",
     "output_type": "stream",
     "text": [
      "run_2_lp5e-04_ep1e-06_lb0.003 Epoch 14/100: 100%|█| 1556/1556 [18:29<00:00,  1.40it/s, grad_norm=17.9844, loss=-0.3633]\n"
     ]
    },
    {
     "name": "stdout",
     "output_type": "stream",
     "text": [
      "run_2_lp5e-04_ep1e-06_lb0.003 Epoch 14/100 | Avg Loss: -0.6625, Avg Grad Norm: 4.2145, LR: 0.000005\n"
     ]
    },
    {
     "name": "stderr",
     "output_type": "stream",
     "text": [
      "run_2_lp5e-04_ep1e-06_lb0.003 Epoch 15/100: 100%|█| 1556/1556 [18:28<00:00,  1.40it/s, grad_norm=14.4499, loss=-0.2860]\n"
     ]
    },
    {
     "name": "stdout",
     "output_type": "stream",
     "text": [
      "run_2_lp5e-04_ep1e-06_lb0.003 Epoch 15/100 | Avg Loss: -0.6711, Avg Grad Norm: 4.2863, LR: 0.000005\n",
      "Checkpoint saved at 'audiotwin_checkpoints_medium\\run_2_lp5e-04_ep1e-06_lb0.003\\audiotwin_pestlarvanet_medium_epoch_15.pth'\n"
     ]
    },
    {
     "name": "stderr",
     "output_type": "stream",
     "text": [
      "run_2_lp5e-04_ep1e-06_lb0.003 Epoch 16/100: 100%|█| 1556/1556 [18:30<00:00,  1.40it/s, grad_norm=12.2512, loss=-0.5338]\n"
     ]
    },
    {
     "name": "stdout",
     "output_type": "stream",
     "text": [
      "run_2_lp5e-04_ep1e-06_lb0.003 Epoch 16/100 | Avg Loss: -0.6790, Avg Grad Norm: 4.1710, LR: 0.000005\n"
     ]
    },
    {
     "name": "stderr",
     "output_type": "stream",
     "text": [
      "run_2_lp5e-04_ep1e-06_lb0.003 Epoch 17/100: 100%|█████| 1556/1556 [18:30<00:00,  1.40it/s, grad_norm=inf, loss=-0.5606]\n"
     ]
    },
    {
     "name": "stdout",
     "output_type": "stream",
     "text": [
      "run_2_lp5e-04_ep1e-06_lb0.003 Epoch 17/100 | Avg Loss: -0.6875, Avg Grad Norm: 4.1952, LR: 0.000005\n"
     ]
    },
    {
     "name": "stderr",
     "output_type": "stream",
     "text": [
      "run_2_lp5e-04_ep1e-06_lb0.003 Epoch 18/100: 100%|██| 1556/1556 [18:30<00:00,  1.40it/s, grad_norm=1.4721, loss=-0.8209]\n"
     ]
    },
    {
     "name": "stdout",
     "output_type": "stream",
     "text": [
      "run_2_lp5e-04_ep1e-06_lb0.003 Epoch 18/100 | Avg Loss: -0.6944, Avg Grad Norm: 4.1315, LR: 0.000005\n"
     ]
    },
    {
     "name": "stderr",
     "output_type": "stream",
     "text": [
      "run_2_lp5e-04_ep1e-06_lb0.003 Epoch 19/100: 100%|██| 1556/1556 [18:28<00:00,  1.40it/s, grad_norm=7.2159, loss=-0.7716]\n"
     ]
    },
    {
     "name": "stdout",
     "output_type": "stream",
     "text": [
      "run_2_lp5e-04_ep1e-06_lb0.003 Epoch 19/100 | Avg Loss: -0.6986, Avg Grad Norm: 4.1675, LR: 0.000005\n"
     ]
    },
    {
     "name": "stderr",
     "output_type": "stream",
     "text": [
      "run_2_lp5e-04_ep1e-06_lb0.003 Epoch 20/100: 100%|██| 1556/1556 [18:29<00:00,  1.40it/s, grad_norm=7.7961, loss=-0.5072]\n"
     ]
    },
    {
     "name": "stdout",
     "output_type": "stream",
     "text": [
      "run_2_lp5e-04_ep1e-06_lb0.003 Epoch 20/100 | Avg Loss: -0.6999, Avg Grad Norm: 4.2569, LR: 0.000005\n",
      "Checkpoint saved at 'audiotwin_checkpoints_medium\\run_2_lp5e-04_ep1e-06_lb0.003\\audiotwin_pestlarvanet_medium_epoch_20.pth'\n"
     ]
    },
    {
     "name": "stderr",
     "output_type": "stream",
     "text": [
      "run_2_lp5e-04_ep1e-06_lb0.003 Epoch 21/100: 100%|██| 1556/1556 [18:28<00:00,  1.40it/s, grad_norm=5.6175, loss=-0.6822]\n"
     ]
    },
    {
     "name": "stdout",
     "output_type": "stream",
     "text": [
      "run_2_lp5e-04_ep1e-06_lb0.003 Epoch 21/100 | Avg Loss: -0.6998, Avg Grad Norm: 4.2412, LR: 0.000005\n"
     ]
    },
    {
     "name": "stderr",
     "output_type": "stream",
     "text": [
      "run_2_lp5e-04_ep1e-06_lb0.003 Epoch 22/100: 100%|██| 1556/1556 [18:30<00:00,  1.40it/s, grad_norm=3.0815, loss=-0.7845]\n"
     ]
    },
    {
     "name": "stdout",
     "output_type": "stream",
     "text": [
      "run_2_lp5e-04_ep1e-06_lb0.003 Epoch 22/100 | Avg Loss: -0.7226, Avg Grad Norm: 3.8791, LR: 0.000005\n"
     ]
    },
    {
     "name": "stderr",
     "output_type": "stream",
     "text": [
      "run_2_lp5e-04_ep1e-06_lb0.003 Epoch 23/100: 100%|██| 1556/1556 [18:28<00:00,  1.40it/s, grad_norm=4.6122, loss=-0.7247]\n"
     ]
    },
    {
     "name": "stdout",
     "output_type": "stream",
     "text": [
      "run_2_lp5e-04_ep1e-06_lb0.003 Epoch 23/100 | Avg Loss: -0.7190, Avg Grad Norm: 4.0056, LR: 0.000005\n"
     ]
    },
    {
     "name": "stderr",
     "output_type": "stream",
     "text": [
      "run_2_lp5e-04_ep1e-06_lb0.003 Epoch 24/100: 100%|██| 1556/1556 [18:29<00:00,  1.40it/s, grad_norm=8.3609, loss=-0.6891]\n"
     ]
    },
    {
     "name": "stdout",
     "output_type": "stream",
     "text": [
      "run_2_lp5e-04_ep1e-06_lb0.003 Epoch 24/100 | Avg Loss: -0.7117, Avg Grad Norm: 4.1526, LR: 0.000005\n"
     ]
    },
    {
     "name": "stderr",
     "output_type": "stream",
     "text": [
      "run_2_lp5e-04_ep1e-06_lb0.003 Epoch 25/100: 100%|██| 1556/1556 [18:30<00:00,  1.40it/s, grad_norm=4.9488, loss=-0.7599]\n"
     ]
    },
    {
     "name": "stdout",
     "output_type": "stream",
     "text": [
      "run_2_lp5e-04_ep1e-06_lb0.003 Epoch 25/100 | Avg Loss: -0.7203, Avg Grad Norm: 3.9999, LR: 0.000005\n",
      "Checkpoint saved at 'audiotwin_checkpoints_medium\\run_2_lp5e-04_ep1e-06_lb0.003\\audiotwin_pestlarvanet_medium_epoch_25.pth'\n"
     ]
    },
    {
     "name": "stderr",
     "output_type": "stream",
     "text": [
      "run_2_lp5e-04_ep1e-06_lb0.003 Epoch 26/100: 100%|██| 1556/1556 [18:29<00:00,  1.40it/s, grad_norm=25.3263, loss=0.4992]\n"
     ]
    },
    {
     "name": "stdout",
     "output_type": "stream",
     "text": [
      "run_2_lp5e-04_ep1e-06_lb0.003 Epoch 26/100 | Avg Loss: -0.7234, Avg Grad Norm: 3.9912, LR: 0.000005\n"
     ]
    },
    {
     "name": "stderr",
     "output_type": "stream",
     "text": [
      "run_2_lp5e-04_ep1e-06_lb0.003 Epoch 27/100: 100%|██| 1556/1556 [18:28<00:00,  1.40it/s, grad_norm=2.0702, loss=-0.8094]\n"
     ]
    },
    {
     "name": "stdout",
     "output_type": "stream",
     "text": [
      "run_2_lp5e-04_ep1e-06_lb0.003 Epoch 27/100 | Avg Loss: -0.7301, Avg Grad Norm: 3.8613, LR: 0.000005\n"
     ]
    },
    {
     "name": "stderr",
     "output_type": "stream",
     "text": [
      "run_2_lp5e-04_ep1e-06_lb0.003 Epoch 28/100: 100%|█| 1556/1556 [18:28<00:00,  1.40it/s, grad_norm=18.9194, loss=-0.5264]\n"
     ]
    },
    {
     "name": "stdout",
     "output_type": "stream",
     "text": [
      "run_2_lp5e-04_ep1e-06_lb0.003 Epoch 28/100 | Avg Loss: -0.7268, Avg Grad Norm: 4.0316, LR: 0.000005\n"
     ]
    },
    {
     "name": "stderr",
     "output_type": "stream",
     "text": [
      "run_2_lp5e-04_ep1e-06_lb0.003 Epoch 29/100: 100%|█| 1556/1556 [18:28<00:00,  1.40it/s, grad_norm=16.3222, loss=-0.4485]\n"
     ]
    },
    {
     "name": "stdout",
     "output_type": "stream",
     "text": [
      "run_2_lp5e-04_ep1e-06_lb0.003 Epoch 29/100 | Avg Loss: -0.7296, Avg Grad Norm: 4.0198, LR: 0.000005\n"
     ]
    },
    {
     "name": "stderr",
     "output_type": "stream",
     "text": [
      "run_2_lp5e-04_ep1e-06_lb0.003 Epoch 30/100: 100%|█| 1556/1556 [18:27<00:00,  1.40it/s, grad_norm=15.0716, loss=-0.5057]\n"
     ]
    },
    {
     "name": "stdout",
     "output_type": "stream",
     "text": [
      "run_2_lp5e-04_ep1e-06_lb0.003 Epoch 30/100 | Avg Loss: -0.7270, Avg Grad Norm: 4.0594, LR: 0.000005\n",
      "Checkpoint saved at 'audiotwin_checkpoints_medium\\run_2_lp5e-04_ep1e-06_lb0.003\\audiotwin_pestlarvanet_medium_epoch_30.pth'\n"
     ]
    },
    {
     "name": "stderr",
     "output_type": "stream",
     "text": [
      "run_2_lp5e-04_ep1e-06_lb0.003 Epoch 31/100: 100%|█| 1556/1556 [18:27<00:00,  1.40it/s, grad_norm=12.7881, loss=-0.4240]\n"
     ]
    },
    {
     "name": "stdout",
     "output_type": "stream",
     "text": [
      "run_2_lp5e-04_ep1e-06_lb0.003 Epoch 31/100 | Avg Loss: -0.7360, Avg Grad Norm: 3.9747, LR: 0.000005\n"
     ]
    },
    {
     "name": "stderr",
     "output_type": "stream",
     "text": [
      "run_2_lp5e-04_ep1e-06_lb0.003 Epoch 32/100: 100%|██| 1556/1556 [18:29<00:00,  1.40it/s, grad_norm=6.0926, loss=-0.7777]\n"
     ]
    },
    {
     "name": "stdout",
     "output_type": "stream",
     "text": [
      "run_2_lp5e-04_ep1e-06_lb0.003 Epoch 32/100 | Avg Loss: -0.7355, Avg Grad Norm: 3.9702, LR: 0.000005\n"
     ]
    },
    {
     "name": "stderr",
     "output_type": "stream",
     "text": [
      "run_2_lp5e-04_ep1e-06_lb0.003 Epoch 33/100: 100%|█| 1556/1556 [18:28<00:00,  1.40it/s, grad_norm=17.7425, loss=-0.4753]\n"
     ]
    },
    {
     "name": "stdout",
     "output_type": "stream",
     "text": [
      "run_2_lp5e-04_ep1e-06_lb0.003 Epoch 33/100 | Avg Loss: -0.7313, Avg Grad Norm: 4.2170, LR: 0.000005\n"
     ]
    },
    {
     "name": "stderr",
     "output_type": "stream",
     "text": [
      "run_2_lp5e-04_ep1e-06_lb0.003 Epoch 34/100: 100%|██| 1556/1556 [18:29<00:00,  1.40it/s, grad_norm=1.4617, loss=-0.8129]\n"
     ]
    },
    {
     "name": "stdout",
     "output_type": "stream",
     "text": [
      "run_2_lp5e-04_ep1e-06_lb0.003 Epoch 34/100 | Avg Loss: -0.7441, Avg Grad Norm: 3.7832, LR: 0.000005\n"
     ]
    },
    {
     "name": "stderr",
     "output_type": "stream",
     "text": [
      "run_2_lp5e-04_ep1e-06_lb0.003 Epoch 35/100: 100%|██| 1556/1556 [18:31<00:00,  1.40it/s, grad_norm=2.7022, loss=-0.7934]\n"
     ]
    },
    {
     "name": "stdout",
     "output_type": "stream",
     "text": [
      "run_2_lp5e-04_ep1e-06_lb0.003 Epoch 35/100 | Avg Loss: -0.7422, Avg Grad Norm: 3.9114, LR: 0.000005\n",
      "Checkpoint saved at 'audiotwin_checkpoints_medium\\run_2_lp5e-04_ep1e-06_lb0.003\\audiotwin_pestlarvanet_medium_epoch_35.pth'\n"
     ]
    },
    {
     "name": "stderr",
     "output_type": "stream",
     "text": [
      "run_2_lp5e-04_ep1e-06_lb0.003 Epoch 36/100: 100%|██| 1556/1556 [18:28<00:00,  1.40it/s, grad_norm=3.7909, loss=-0.7802]\n"
     ]
    },
    {
     "name": "stdout",
     "output_type": "stream",
     "text": [
      "run_2_lp5e-04_ep1e-06_lb0.003 Epoch 36/100 | Avg Loss: -0.7388, Avg Grad Norm: 3.9854, LR: 0.000005\n"
     ]
    },
    {
     "name": "stderr",
     "output_type": "stream",
     "text": [
      "run_2_lp5e-04_ep1e-06_lb0.003 Epoch 37/100: 100%|██| 1556/1556 [18:28<00:00,  1.40it/s, grad_norm=1.5350, loss=-0.8394]\n"
     ]
    },
    {
     "name": "stdout",
     "output_type": "stream",
     "text": [
      "run_2_lp5e-04_ep1e-06_lb0.003 Epoch 37/100 | Avg Loss: -0.7430, Avg Grad Norm: 3.9425, LR: 0.000005\n"
     ]
    },
    {
     "name": "stderr",
     "output_type": "stream",
     "text": [
      "run_2_lp5e-04_ep1e-06_lb0.003 Epoch 38/100: 100%|█| 1556/1556 [18:29<00:00,  1.40it/s, grad_norm=16.9345, loss=-0.4767]\n"
     ]
    },
    {
     "name": "stdout",
     "output_type": "stream",
     "text": [
      "run_2_lp5e-04_ep1e-06_lb0.003 Epoch 38/100 | Avg Loss: -0.7398, Avg Grad Norm: 4.0258, LR: 0.000005\n"
     ]
    },
    {
     "name": "stderr",
     "output_type": "stream",
     "text": [
      "run_2_lp5e-04_ep1e-06_lb0.003 Epoch 39/100: 100%|█| 1556/1556 [18:28<00:00,  1.40it/s, grad_norm=12.8631, loss=-0.5969]\n"
     ]
    },
    {
     "name": "stdout",
     "output_type": "stream",
     "text": [
      "run_2_lp5e-04_ep1e-06_lb0.003 Epoch 39/100 | Avg Loss: -0.7425, Avg Grad Norm: 3.9326, LR: 0.000005\n"
     ]
    },
    {
     "name": "stderr",
     "output_type": "stream",
     "text": [
      "run_2_lp5e-04_ep1e-06_lb0.003 Epoch 40/100: 100%|█| 1556/1556 [18:27<00:00,  1.40it/s, grad_norm=10.2382, loss=-0.6506]\n"
     ]
    },
    {
     "name": "stdout",
     "output_type": "stream",
     "text": [
      "run_2_lp5e-04_ep1e-06_lb0.003 Epoch 40/100 | Avg Loss: -0.7474, Avg Grad Norm: 3.9968, LR: 0.000005\n",
      "Checkpoint saved at 'audiotwin_checkpoints_medium\\run_2_lp5e-04_ep1e-06_lb0.003\\audiotwin_pestlarvanet_medium_epoch_40.pth'\n"
     ]
    },
    {
     "name": "stderr",
     "output_type": "stream",
     "text": [
      "run_2_lp5e-04_ep1e-06_lb0.003 Epoch 41/100: 100%|██| 1556/1556 [18:27<00:00,  1.40it/s, grad_norm=1.1451, loss=-0.8350]\n"
     ]
    },
    {
     "name": "stdout",
     "output_type": "stream",
     "text": [
      "run_2_lp5e-04_ep1e-06_lb0.003 Epoch 41/100 | Avg Loss: -0.7432, Avg Grad Norm: 3.9985, LR: 0.000005\n"
     ]
    },
    {
     "name": "stderr",
     "output_type": "stream",
     "text": [
      "run_2_lp5e-04_ep1e-06_lb0.003 Epoch 42/100: 100%|██| 1556/1556 [18:28<00:00,  1.40it/s, grad_norm=8.1113, loss=-0.7071]\n"
     ]
    },
    {
     "name": "stdout",
     "output_type": "stream",
     "text": [
      "run_2_lp5e-04_ep1e-06_lb0.003 Epoch 42/100 | Avg Loss: -0.7519, Avg Grad Norm: 3.7593, LR: 0.000005\n"
     ]
    },
    {
     "name": "stderr",
     "output_type": "stream",
     "text": [
      "run_2_lp5e-04_ep1e-06_lb0.003 Epoch 43/100: 100%|██| 1556/1556 [18:29<00:00,  1.40it/s, grad_norm=2.6781, loss=-0.8170]\n"
     ]
    },
    {
     "name": "stdout",
     "output_type": "stream",
     "text": [
      "run_2_lp5e-04_ep1e-06_lb0.003 Epoch 43/100 | Avg Loss: -0.7454, Avg Grad Norm: 3.9829, LR: 0.000005\n"
     ]
    },
    {
     "name": "stderr",
     "output_type": "stream",
     "text": [
      "run_2_lp5e-04_ep1e-06_lb0.003 Epoch 44/100: 100%|█| 1556/1556 [18:27<00:00,  1.40it/s, grad_norm=11.7461, loss=-0.6818]\n"
     ]
    },
    {
     "name": "stdout",
     "output_type": "stream",
     "text": [
      "run_2_lp5e-04_ep1e-06_lb0.003 Epoch 44/100 | Avg Loss: -0.7454, Avg Grad Norm: 3.9978, LR: 0.000005\n"
     ]
    },
    {
     "name": "stderr",
     "output_type": "stream",
     "text": [
      "run_2_lp5e-04_ep1e-06_lb0.003 Epoch 45/100: 100%|██| 1556/1556 [18:28<00:00,  1.40it/s, grad_norm=7.2733, loss=-0.7561]\n"
     ]
    },
    {
     "name": "stdout",
     "output_type": "stream",
     "text": [
      "run_2_lp5e-04_ep1e-06_lb0.003 Epoch 45/100 | Avg Loss: -0.7482, Avg Grad Norm: 3.9510, LR: 0.000005\n",
      "Checkpoint saved at 'audiotwin_checkpoints_medium\\run_2_lp5e-04_ep1e-06_lb0.003\\audiotwin_pestlarvanet_medium_epoch_45.pth'\n"
     ]
    },
    {
     "name": "stderr",
     "output_type": "stream",
     "text": [
      "run_2_lp5e-04_ep1e-06_lb0.003 Epoch 46/100: 100%|██| 1556/1556 [18:39<00:00,  1.39it/s, grad_norm=4.1744, loss=-0.7619]\n"
     ]
    },
    {
     "name": "stdout",
     "output_type": "stream",
     "text": [
      "run_2_lp5e-04_ep1e-06_lb0.003 Epoch 46/100 | Avg Loss: -0.7513, Avg Grad Norm: 3.8942, LR: 0.000005\n"
     ]
    },
    {
     "name": "stderr",
     "output_type": "stream",
     "text": [
      "run_2_lp5e-04_ep1e-06_lb0.003 Epoch 47/100: 100%|█| 1556/1556 [23:30<00:00,  1.10it/s, grad_norm=26.8483, loss=-0.2422]\n"
     ]
    },
    {
     "name": "stdout",
     "output_type": "stream",
     "text": [
      "run_2_lp5e-04_ep1e-06_lb0.003 Epoch 47/100 | Avg Loss: -0.7504, Avg Grad Norm: 3.8608, LR: 0.000005\n"
     ]
    },
    {
     "name": "stderr",
     "output_type": "stream",
     "text": [
      "run_2_lp5e-04_ep1e-06_lb0.003 Epoch 48/100: 100%|██| 1556/1556 [23:35<00:00,  1.10it/s, grad_norm=6.8967, loss=-0.7184]\n"
     ]
    },
    {
     "name": "stdout",
     "output_type": "stream",
     "text": [
      "run_2_lp5e-04_ep1e-06_lb0.003 Epoch 48/100 | Avg Loss: -0.7549, Avg Grad Norm: 3.7875, LR: 0.000005\n"
     ]
    },
    {
     "name": "stderr",
     "output_type": "stream",
     "text": [
      "run_2_lp5e-04_ep1e-06_lb0.003 Epoch 49/100: 100%|██| 1556/1556 [20:57<00:00,  1.24it/s, grad_norm=3.7336, loss=-0.8127]\n"
     ]
    },
    {
     "name": "stdout",
     "output_type": "stream",
     "text": [
      "run_2_lp5e-04_ep1e-06_lb0.003 Epoch 49/100 | Avg Loss: -0.7582, Avg Grad Norm: 3.6720, LR: 0.000005\n"
     ]
    },
    {
     "name": "stderr",
     "output_type": "stream",
     "text": [
      "run_2_lp5e-04_ep1e-06_lb0.003 Epoch 50/100: 100%|██| 1556/1556 [18:29<00:00,  1.40it/s, grad_norm=8.7163, loss=-0.7150]\n"
     ]
    },
    {
     "name": "stdout",
     "output_type": "stream",
     "text": [
      "run_2_lp5e-04_ep1e-06_lb0.003 Epoch 50/100 | Avg Loss: -0.7600, Avg Grad Norm: 3.6319, LR: 0.000005\n",
      "Checkpoint saved at 'audiotwin_checkpoints_medium\\run_2_lp5e-04_ep1e-06_lb0.003\\audiotwin_pestlarvanet_medium_epoch_50.pth'\n"
     ]
    },
    {
     "name": "stderr",
     "output_type": "stream",
     "text": [
      "run_2_lp5e-04_ep1e-06_lb0.003 Epoch 51/100: 100%|██| 1556/1556 [18:30<00:00,  1.40it/s, grad_norm=7.9569, loss=-0.7033]\n"
     ]
    },
    {
     "name": "stdout",
     "output_type": "stream",
     "text": [
      "run_2_lp5e-04_ep1e-06_lb0.003 Epoch 51/100 | Avg Loss: -0.7570, Avg Grad Norm: 3.8923, LR: 0.000005\n"
     ]
    },
    {
     "name": "stderr",
     "output_type": "stream",
     "text": [
      "run_2_lp5e-04_ep1e-06_lb0.003 Epoch 52/100: 100%|██| 1556/1556 [18:28<00:00,  1.40it/s, grad_norm=1.3152, loss=-0.8377]\n"
     ]
    },
    {
     "name": "stdout",
     "output_type": "stream",
     "text": [
      "run_2_lp5e-04_ep1e-06_lb0.003 Epoch 52/100 | Avg Loss: -0.7594, Avg Grad Norm: 3.7838, LR: 0.000005\n"
     ]
    },
    {
     "name": "stderr",
     "output_type": "stream",
     "text": [
      "run_2_lp5e-04_ep1e-06_lb0.003 Epoch 53/100: 100%|██| 1556/1556 [18:35<00:00,  1.40it/s, grad_norm=2.9018, loss=-0.8123]\n"
     ]
    },
    {
     "name": "stdout",
     "output_type": "stream",
     "text": [
      "run_2_lp5e-04_ep1e-06_lb0.003 Epoch 53/100 | Avg Loss: -0.7597, Avg Grad Norm: 3.7728, LR: 0.000005\n"
     ]
    },
    {
     "name": "stderr",
     "output_type": "stream",
     "text": [
      "run_2_lp5e-04_ep1e-06_lb0.003 Epoch 54/100: 100%|██| 1556/1556 [19:05<00:00,  1.36it/s, grad_norm=7.4561, loss=-0.7500]\n"
     ]
    },
    {
     "name": "stdout",
     "output_type": "stream",
     "text": [
      "run_2_lp5e-04_ep1e-06_lb0.003 Epoch 54/100 | Avg Loss: -0.7568, Avg Grad Norm: 3.8903, LR: 0.000005\n"
     ]
    },
    {
     "name": "stderr",
     "output_type": "stream",
     "text": [
      "run_2_lp5e-04_ep1e-06_lb0.003 Epoch 55/100: 100%|█| 1556/1556 [18:54<00:00,  1.37it/s, grad_norm=17.6989, loss=-0.5861]\n"
     ]
    },
    {
     "name": "stdout",
     "output_type": "stream",
     "text": [
      "run_2_lp5e-04_ep1e-06_lb0.003 Epoch 55/100 | Avg Loss: -0.7572, Avg Grad Norm: 3.9407, LR: 0.000005\n",
      "Checkpoint saved at 'audiotwin_checkpoints_medium\\run_2_lp5e-04_ep1e-06_lb0.003\\audiotwin_pestlarvanet_medium_epoch_55.pth'\n"
     ]
    },
    {
     "name": "stderr",
     "output_type": "stream",
     "text": [
      "run_2_lp5e-04_ep1e-06_lb0.003 Epoch 56/100: 100%|█| 1556/1556 [18:45<00:00,  1.38it/s, grad_norm=27.4265, loss=-0.3677]\n"
     ]
    },
    {
     "name": "stdout",
     "output_type": "stream",
     "text": [
      "run_2_lp5e-04_ep1e-06_lb0.003 Epoch 56/100 | Avg Loss: -0.7561, Avg Grad Norm: 3.8858, LR: 0.000005\n"
     ]
    },
    {
     "name": "stderr",
     "output_type": "stream",
     "text": [
      "run_2_lp5e-04_ep1e-06_lb0.003 Epoch 57/100: 100%|██| 1556/1556 [18:42<00:00,  1.39it/s, grad_norm=1.5868, loss=-0.8189]\n"
     ]
    },
    {
     "name": "stdout",
     "output_type": "stream",
     "text": [
      "run_2_lp5e-04_ep1e-06_lb0.003 Epoch 57/100 | Avg Loss: -0.7583, Avg Grad Norm: 3.8393, LR: 0.000001\n"
     ]
    },
    {
     "name": "stderr",
     "output_type": "stream",
     "text": [
      "run_2_lp5e-04_ep1e-06_lb0.003 Epoch 58/100: 100%|██| 1556/1556 [18:45<00:00,  1.38it/s, grad_norm=1.1473, loss=-0.8375]\n"
     ]
    },
    {
     "name": "stdout",
     "output_type": "stream",
     "text": [
      "run_2_lp5e-04_ep1e-06_lb0.003 Epoch 58/100 | Avg Loss: -0.7600, Avg Grad Norm: 3.8321, LR: 0.000001\n"
     ]
    },
    {
     "name": "stderr",
     "output_type": "stream",
     "text": [
      "run_2_lp5e-04_ep1e-06_lb0.003 Epoch 59/100: 100%|█| 1556/1556 [18:16<00:00,  1.42it/s, grad_norm=10.3478, loss=-0.6703]\n"
     ]
    },
    {
     "name": "stdout",
     "output_type": "stream",
     "text": [
      "run_2_lp5e-04_ep1e-06_lb0.003 Epoch 59/100 | Avg Loss: -0.7623, Avg Grad Norm: 3.8094, LR: 0.000001\n"
     ]
    },
    {
     "name": "stderr",
     "output_type": "stream",
     "text": [
      "run_2_lp5e-04_ep1e-06_lb0.003 Epoch 60/100: 100%|██| 1556/1556 [18:18<00:00,  1.42it/s, grad_norm=3.2657, loss=-0.7643]\n"
     ]
    },
    {
     "name": "stdout",
     "output_type": "stream",
     "text": [
      "run_2_lp5e-04_ep1e-06_lb0.003 Epoch 60/100 | Avg Loss: -0.7603, Avg Grad Norm: 3.7550, LR: 0.000001\n",
      "Checkpoint saved at 'audiotwin_checkpoints_medium\\run_2_lp5e-04_ep1e-06_lb0.003\\audiotwin_pestlarvanet_medium_epoch_60.pth'\n"
     ]
    },
    {
     "name": "stderr",
     "output_type": "stream",
     "text": [
      "run_2_lp5e-04_ep1e-06_lb0.003 Epoch 61/100: 100%|██| 1556/1556 [18:18<00:00,  1.42it/s, grad_norm=1.5472, loss=-0.8302]\n"
     ]
    },
    {
     "name": "stdout",
     "output_type": "stream",
     "text": [
      "run_2_lp5e-04_ep1e-06_lb0.003 Epoch 61/100 | Avg Loss: -0.7585, Avg Grad Norm: 3.8993, LR: 0.000001\n"
     ]
    },
    {
     "name": "stderr",
     "output_type": "stream",
     "text": [
      "run_2_lp5e-04_ep1e-06_lb0.003 Epoch 62/100: 100%|██| 1556/1556 [18:17<00:00,  1.42it/s, grad_norm=7.3579, loss=-0.7357]\n"
     ]
    },
    {
     "name": "stdout",
     "output_type": "stream",
     "text": [
      "run_2_lp5e-04_ep1e-06_lb0.003 Epoch 62/100 | Avg Loss: -0.7579, Avg Grad Norm: 3.9419, LR: 0.000001\n"
     ]
    },
    {
     "name": "stderr",
     "output_type": "stream",
     "text": [
      "run_2_lp5e-04_ep1e-06_lb0.003 Epoch 63/100: 100%|█| 1556/1556 [18:16<00:00,  1.42it/s, grad_norm=12.8025, loss=-0.6355]\n"
     ]
    },
    {
     "name": "stdout",
     "output_type": "stream",
     "text": [
      "run_2_lp5e-04_ep1e-06_lb0.003 Epoch 63/100 | Avg Loss: -0.7557, Avg Grad Norm: 3.9665, LR: 0.000001\n"
     ]
    },
    {
     "name": "stderr",
     "output_type": "stream",
     "text": [
      "run_2_lp5e-04_ep1e-06_lb0.003 Epoch 64/100: 100%|██| 1556/1556 [18:16<00:00,  1.42it/s, grad_norm=4.8964, loss=-0.7395]\n"
     ]
    },
    {
     "name": "stdout",
     "output_type": "stream",
     "text": [
      "run_2_lp5e-04_ep1e-06_lb0.003 Epoch 64/100 | Avg Loss: -0.7568, Avg Grad Norm: 3.9526, LR: 0.000001\n"
     ]
    },
    {
     "name": "stderr",
     "output_type": "stream",
     "text": [
      "run_2_lp5e-04_ep1e-06_lb0.003 Epoch 65/100: 100%|██| 1556/1556 [18:18<00:00,  1.42it/s, grad_norm=2.7309, loss=-0.8100]\n"
     ]
    },
    {
     "name": "stdout",
     "output_type": "stream",
     "text": [
      "run_2_lp5e-04_ep1e-06_lb0.003 Epoch 65/100 | Avg Loss: -0.7638, Avg Grad Norm: 3.8457, LR: 0.000001\n",
      "Checkpoint saved at 'audiotwin_checkpoints_medium\\run_2_lp5e-04_ep1e-06_lb0.003\\audiotwin_pestlarvanet_medium_epoch_65.pth'\n"
     ]
    },
    {
     "name": "stderr",
     "output_type": "stream",
     "text": [
      "run_2_lp5e-04_ep1e-06_lb0.003 Epoch 66/100: 100%|██| 1556/1556 [18:17<00:00,  1.42it/s, grad_norm=2.5340, loss=-0.7693]\n"
     ]
    },
    {
     "name": "stdout",
     "output_type": "stream",
     "text": [
      "run_2_lp5e-04_ep1e-06_lb0.003 Epoch 66/100 | Avg Loss: -0.7597, Avg Grad Norm: 3.9608, LR: 0.000001\n"
     ]
    },
    {
     "name": "stderr",
     "output_type": "stream",
     "text": [
      "run_2_lp5e-04_ep1e-06_lb0.003 Epoch 67/100: 100%|█| 1556/1556 [18:19<00:00,  1.42it/s, grad_norm=13.9452, loss=-0.6289]\n"
     ]
    },
    {
     "name": "stdout",
     "output_type": "stream",
     "text": [
      "run_2_lp5e-04_ep1e-06_lb0.003 Epoch 67/100 | Avg Loss: -0.7686, Avg Grad Norm: 3.6918, LR: 0.000001\n"
     ]
    },
    {
     "name": "stderr",
     "output_type": "stream",
     "text": [
      "run_2_lp5e-04_ep1e-06_lb0.003 Epoch 68/100: 100%|██| 1556/1556 [18:17<00:00,  1.42it/s, grad_norm=8.6876, loss=-0.7679]\n"
     ]
    },
    {
     "name": "stdout",
     "output_type": "stream",
     "text": [
      "run_2_lp5e-04_ep1e-06_lb0.003 Epoch 68/100 | Avg Loss: -0.7587, Avg Grad Norm: 3.9193, LR: 0.000001\n"
     ]
    },
    {
     "name": "stderr",
     "output_type": "stream",
     "text": [
      "run_2_lp5e-04_ep1e-06_lb0.003 Epoch 69/100: 100%|██| 1556/1556 [18:18<00:00,  1.42it/s, grad_norm=5.2115, loss=-0.7810]\n"
     ]
    },
    {
     "name": "stdout",
     "output_type": "stream",
     "text": [
      "run_2_lp5e-04_ep1e-06_lb0.003 Epoch 69/100 | Avg Loss: -0.7615, Avg Grad Norm: 3.9243, LR: 0.000001\n"
     ]
    },
    {
     "name": "stderr",
     "output_type": "stream",
     "text": [
      "run_2_lp5e-04_ep1e-06_lb0.003 Epoch 70/100: 100%|██| 1556/1556 [18:17<00:00,  1.42it/s, grad_norm=5.1409, loss=-0.7904]\n"
     ]
    },
    {
     "name": "stdout",
     "output_type": "stream",
     "text": [
      "run_2_lp5e-04_ep1e-06_lb0.003 Epoch 70/100 | Avg Loss: -0.7589, Avg Grad Norm: 3.9458, LR: 0.000001\n",
      "Checkpoint saved at 'audiotwin_checkpoints_medium\\run_2_lp5e-04_ep1e-06_lb0.003\\audiotwin_pestlarvanet_medium_epoch_70.pth'\n"
     ]
    },
    {
     "name": "stderr",
     "output_type": "stream",
     "text": [
      "run_2_lp5e-04_ep1e-06_lb0.003 Epoch 71/100: 100%|██| 1556/1556 [18:19<00:00,  1.42it/s, grad_norm=6.0540, loss=-0.7767]\n"
     ]
    },
    {
     "name": "stdout",
     "output_type": "stream",
     "text": [
      "run_2_lp5e-04_ep1e-06_lb0.003 Epoch 71/100 | Avg Loss: -0.7617, Avg Grad Norm: 3.8164, LR: 0.000001\n"
     ]
    },
    {
     "name": "stderr",
     "output_type": "stream",
     "text": [
      "run_2_lp5e-04_ep1e-06_lb0.003 Epoch 72/100: 100%|█| 1556/1556 [18:16<00:00,  1.42it/s, grad_norm=17.4613, loss=-0.3325]\n"
     ]
    },
    {
     "name": "stdout",
     "output_type": "stream",
     "text": [
      "run_2_lp5e-04_ep1e-06_lb0.003 Epoch 72/100 | Avg Loss: -0.7559, Avg Grad Norm: 4.0144, LR: 0.000001\n"
     ]
    },
    {
     "name": "stderr",
     "output_type": "stream",
     "text": [
      "run_2_lp5e-04_ep1e-06_lb0.003 Epoch 73/100: 100%|██| 1556/1556 [18:14<00:00,  1.42it/s, grad_norm=0.7698, loss=-0.8378]\n"
     ]
    },
    {
     "name": "stdout",
     "output_type": "stream",
     "text": [
      "run_2_lp5e-04_ep1e-06_lb0.003 Epoch 73/100 | Avg Loss: -0.7550, Avg Grad Norm: 4.0441, LR: 0.000001\n"
     ]
    },
    {
     "name": "stderr",
     "output_type": "stream",
     "text": [
      "run_2_lp5e-04_ep1e-06_lb0.003 Epoch 74/100: 100%|██| 1556/1556 [18:15<00:00,  1.42it/s, grad_norm=6.7997, loss=-0.7908]\n"
     ]
    },
    {
     "name": "stdout",
     "output_type": "stream",
     "text": [
      "run_2_lp5e-04_ep1e-06_lb0.003 Epoch 74/100 | Avg Loss: -0.7529, Avg Grad Norm: 4.0097, LR: 0.000000\n"
     ]
    },
    {
     "name": "stderr",
     "output_type": "stream",
     "text": [
      "run_2_lp5e-04_ep1e-06_lb0.003 Epoch 75/100: 100%|██| 1556/1556 [18:14<00:00,  1.42it/s, grad_norm=38.3610, loss=0.3007]\n"
     ]
    },
    {
     "name": "stdout",
     "output_type": "stream",
     "text": [
      "run_2_lp5e-04_ep1e-06_lb0.003 Epoch 75/100 | Avg Loss: -0.7558, Avg Grad Norm: 4.0553, LR: 0.000000\n",
      "Checkpoint saved at 'audiotwin_checkpoints_medium\\run_2_lp5e-04_ep1e-06_lb0.003\\audiotwin_pestlarvanet_medium_epoch_75.pth'\n"
     ]
    },
    {
     "name": "stderr",
     "output_type": "stream",
     "text": [
      "run_2_lp5e-04_ep1e-06_lb0.003 Epoch 76/100: 100%|█| 1556/1556 [18:17<00:00,  1.42it/s, grad_norm=15.9911, loss=-0.5258]\n"
     ]
    },
    {
     "name": "stdout",
     "output_type": "stream",
     "text": [
      "run_2_lp5e-04_ep1e-06_lb0.003 Epoch 76/100 | Avg Loss: -0.7632, Avg Grad Norm: 3.8287, LR: 0.000000\n"
     ]
    },
    {
     "name": "stderr",
     "output_type": "stream",
     "text": [
      "run_2_lp5e-04_ep1e-06_lb0.003 Epoch 77/100: 100%|█| 1556/1556 [18:15<00:00,  1.42it/s, grad_norm=12.8082, loss=-0.6290]\n"
     ]
    },
    {
     "name": "stdout",
     "output_type": "stream",
     "text": [
      "run_2_lp5e-04_ep1e-06_lb0.003 Epoch 77/100 | Avg Loss: -0.7639, Avg Grad Norm: 3.8676, LR: 0.000000\n"
     ]
    },
    {
     "name": "stderr",
     "output_type": "stream",
     "text": [
      "run_2_lp5e-04_ep1e-06_lb0.003 Epoch 78/100: 100%|██| 1556/1556 [18:15<00:00,  1.42it/s, grad_norm=7.1870, loss=-0.7248]\n"
     ]
    },
    {
     "name": "stdout",
     "output_type": "stream",
     "text": [
      "run_2_lp5e-04_ep1e-06_lb0.003 Epoch 78/100 | Avg Loss: -0.7565, Avg Grad Norm: 4.0792, LR: 0.000000\n"
     ]
    },
    {
     "name": "stderr",
     "output_type": "stream",
     "text": [
      "run_2_lp5e-04_ep1e-06_lb0.003 Epoch 79/100: 100%|█████| 1556/1556 [18:17<00:00,  1.42it/s, grad_norm=nan, loss=-0.0952]\n"
     ]
    },
    {
     "name": "stdout",
     "output_type": "stream",
     "text": [
      "run_2_lp5e-04_ep1e-06_lb0.003 Epoch 79/100 | Avg Loss: -0.7605, Avg Grad Norm: 3.9229, LR: 0.000000\n"
     ]
    },
    {
     "name": "stderr",
     "output_type": "stream",
     "text": [
      "run_2_lp5e-04_ep1e-06_lb0.003 Epoch 80/100: 100%|██| 1556/1556 [18:16<00:00,  1.42it/s, grad_norm=4.7399, loss=-0.7853]\n"
     ]
    },
    {
     "name": "stdout",
     "output_type": "stream",
     "text": [
      "run_2_lp5e-04_ep1e-06_lb0.003 Epoch 80/100 | Avg Loss: -0.7649, Avg Grad Norm: 3.7873, LR: 0.000000\n",
      "Checkpoint saved at 'audiotwin_checkpoints_medium\\run_2_lp5e-04_ep1e-06_lb0.003\\audiotwin_pestlarvanet_medium_epoch_80.pth'\n"
     ]
    },
    {
     "name": "stderr",
     "output_type": "stream",
     "text": [
      "run_2_lp5e-04_ep1e-06_lb0.003 Epoch 81/100: 100%|█| 1556/1556 [18:17<00:00,  1.42it/s, grad_norm=12.2774, loss=-0.5624]\n"
     ]
    },
    {
     "name": "stdout",
     "output_type": "stream",
     "text": [
      "run_2_lp5e-04_ep1e-06_lb0.003 Epoch 81/100 | Avg Loss: -0.7666, Avg Grad Norm: 3.7097, LR: 0.000000\n"
     ]
    },
    {
     "name": "stderr",
     "output_type": "stream",
     "text": [
      "run_2_lp5e-04_ep1e-06_lb0.003 Epoch 82/100: 100%|█| 1556/1556 [18:16<00:00,  1.42it/s, grad_norm=15.6197, loss=-0.5653]\n"
     ]
    },
    {
     "name": "stdout",
     "output_type": "stream",
     "text": [
      "run_2_lp5e-04_ep1e-06_lb0.003 Epoch 82/100 | Avg Loss: -0.7600, Avg Grad Norm: 3.9608, LR: 0.000000\n"
     ]
    },
    {
     "name": "stderr",
     "output_type": "stream",
     "text": [
      "run_2_lp5e-04_ep1e-06_lb0.003 Epoch 83/100: 100%|██| 1556/1556 [18:16<00:00,  1.42it/s, grad_norm=5.1983, loss=-0.7786]\n"
     ]
    },
    {
     "name": "stdout",
     "output_type": "stream",
     "text": [
      "run_2_lp5e-04_ep1e-06_lb0.003 Epoch 83/100 | Avg Loss: -0.7653, Avg Grad Norm: 3.6790, LR: 0.000000\n"
     ]
    },
    {
     "name": "stderr",
     "output_type": "stream",
     "text": [
      "run_2_lp5e-04_ep1e-06_lb0.003 Epoch 84/100: 100%|██| 1556/1556 [18:17<00:00,  1.42it/s, grad_norm=9.5535, loss=-0.6769]\n"
     ]
    },
    {
     "name": "stdout",
     "output_type": "stream",
     "text": [
      "run_2_lp5e-04_ep1e-06_lb0.003 Epoch 84/100 | Avg Loss: -0.7670, Avg Grad Norm: 3.6980, LR: 0.000000\n"
     ]
    },
    {
     "name": "stderr",
     "output_type": "stream",
     "text": [
      "run_2_lp5e-04_ep1e-06_lb0.003 Epoch 85/100: 100%|██| 1556/1556 [18:16<00:00,  1.42it/s, grad_norm=3.0212, loss=-0.7766]\n"
     ]
    },
    {
     "name": "stdout",
     "output_type": "stream",
     "text": [
      "run_2_lp5e-04_ep1e-06_lb0.003 Epoch 85/100 | Avg Loss: -0.7578, Avg Grad Norm: 3.9568, LR: 0.000000\n",
      "Checkpoint saved at 'audiotwin_checkpoints_medium\\run_2_lp5e-04_ep1e-06_lb0.003\\audiotwin_pestlarvanet_medium_epoch_85.pth'\n"
     ]
    },
    {
     "name": "stderr",
     "output_type": "stream",
     "text": [
      "run_2_lp5e-04_ep1e-06_lb0.003 Epoch 86/100: 100%|█| 1556/1556 [18:17<00:00,  1.42it/s, grad_norm=33.2600, loss=-0.1733]\n"
     ]
    },
    {
     "name": "stdout",
     "output_type": "stream",
     "text": [
      "run_2_lp5e-04_ep1e-06_lb0.003 Epoch 86/100 | Avg Loss: -0.7626, Avg Grad Norm: 3.7942, LR: 0.000000\n"
     ]
    },
    {
     "name": "stderr",
     "output_type": "stream",
     "text": [
      "run_2_lp5e-04_ep1e-06_lb0.003 Epoch 87/100: 100%|██| 1556/1556 [18:16<00:00,  1.42it/s, grad_norm=3.7412, loss=-0.8061]\n"
     ]
    },
    {
     "name": "stdout",
     "output_type": "stream",
     "text": [
      "run_2_lp5e-04_ep1e-06_lb0.003 Epoch 87/100 | Avg Loss: -0.7703, Avg Grad Norm: 3.5799, LR: 0.000000\n"
     ]
    },
    {
     "name": "stderr",
     "output_type": "stream",
     "text": [
      "run_2_lp5e-04_ep1e-06_lb0.003 Epoch 88/100: 100%|██| 1556/1556 [18:16<00:00,  1.42it/s, grad_norm=7.0328, loss=-0.6776]\n"
     ]
    },
    {
     "name": "stdout",
     "output_type": "stream",
     "text": [
      "run_2_lp5e-04_ep1e-06_lb0.003 Epoch 88/100 | Avg Loss: -0.7592, Avg Grad Norm: 3.9681, LR: 0.000000\n"
     ]
    },
    {
     "name": "stderr",
     "output_type": "stream",
     "text": [
      "run_2_lp5e-04_ep1e-06_lb0.003 Epoch 89/100: 100%|██| 1556/1556 [18:14<00:00,  1.42it/s, grad_norm=1.8868, loss=-0.8266]\n"
     ]
    },
    {
     "name": "stdout",
     "output_type": "stream",
     "text": [
      "run_2_lp5e-04_ep1e-06_lb0.003 Epoch 89/100 | Avg Loss: -0.7627, Avg Grad Norm: 3.8030, LR: 0.000000\n"
     ]
    },
    {
     "name": "stderr",
     "output_type": "stream",
     "text": [
      "run_2_lp5e-04_ep1e-06_lb0.003 Epoch 90/100: 100%|█| 1556/1556 [18:16<00:00,  1.42it/s, grad_norm=15.9814, loss=-0.7145]\n"
     ]
    },
    {
     "name": "stdout",
     "output_type": "stream",
     "text": [
      "run_2_lp5e-04_ep1e-06_lb0.003 Epoch 90/100 | Avg Loss: -0.7585, Avg Grad Norm: 3.9392, LR: 0.000000\n",
      "Checkpoint saved at 'audiotwin_checkpoints_medium\\run_2_lp5e-04_ep1e-06_lb0.003\\audiotwin_pestlarvanet_medium_epoch_90.pth'\n"
     ]
    },
    {
     "name": "stderr",
     "output_type": "stream",
     "text": [
      "run_2_lp5e-04_ep1e-06_lb0.003 Epoch 91/100: 100%|██| 1556/1556 [18:17<00:00,  1.42it/s, grad_norm=4.6126, loss=-0.7897]\n"
     ]
    },
    {
     "name": "stdout",
     "output_type": "stream",
     "text": [
      "run_2_lp5e-04_ep1e-06_lb0.003 Epoch 91/100 | Avg Loss: -0.7670, Avg Grad Norm: 3.6956, LR: 0.000000\n"
     ]
    },
    {
     "name": "stderr",
     "output_type": "stream",
     "text": [
      "run_2_lp5e-04_ep1e-06_lb0.003 Epoch 92/100: 100%|██| 1556/1556 [18:17<00:00,  1.42it/s, grad_norm=7.8085, loss=-0.7545]\n"
     ]
    },
    {
     "name": "stdout",
     "output_type": "stream",
     "text": [
      "run_2_lp5e-04_ep1e-06_lb0.003 Epoch 92/100 | Avg Loss: -0.7604, Avg Grad Norm: 3.8366, LR: 0.000000\n"
     ]
    },
    {
     "name": "stderr",
     "output_type": "stream",
     "text": [
      "run_2_lp5e-04_ep1e-06_lb0.003 Epoch 93/100: 100%|██| 1556/1556 [18:15<00:00,  1.42it/s, grad_norm=3.1161, loss=-0.7942]\n"
     ]
    },
    {
     "name": "stdout",
     "output_type": "stream",
     "text": [
      "run_2_lp5e-04_ep1e-06_lb0.003 Epoch 93/100 | Avg Loss: -0.7615, Avg Grad Norm: 3.8630, LR: 0.000000\n"
     ]
    },
    {
     "name": "stderr",
     "output_type": "stream",
     "text": [
      "run_2_lp5e-04_ep1e-06_lb0.003 Epoch 94/100: 100%|█| 1556/1556 [18:11<00:00,  1.43it/s, grad_norm=16.1058, loss=-0.5562]\n"
     ]
    },
    {
     "name": "stdout",
     "output_type": "stream",
     "text": [
      "run_2_lp5e-04_ep1e-06_lb0.003 Epoch 94/100 | Avg Loss: -0.7650, Avg Grad Norm: 3.7042, LR: 0.000000\n"
     ]
    },
    {
     "name": "stderr",
     "output_type": "stream",
     "text": [
      "run_2_lp5e-04_ep1e-06_lb0.003 Epoch 95/100: 100%|██| 1556/1556 [18:11<00:00,  1.43it/s, grad_norm=5.9510, loss=-0.7648]\n"
     ]
    },
    {
     "name": "stdout",
     "output_type": "stream",
     "text": [
      "run_2_lp5e-04_ep1e-06_lb0.003 Epoch 95/100 | Avg Loss: -0.7656, Avg Grad Norm: 3.7326, LR: 0.000000\n",
      "Checkpoint saved at 'audiotwin_checkpoints_medium\\run_2_lp5e-04_ep1e-06_lb0.003\\audiotwin_pestlarvanet_medium_epoch_95.pth'\n"
     ]
    },
    {
     "name": "stderr",
     "output_type": "stream",
     "text": [
      "run_2_lp5e-04_ep1e-06_lb0.003 Epoch 96/100: 100%|██| 1556/1556 [18:12<00:00,  1.42it/s, grad_norm=3.1705, loss=-0.8190]\n"
     ]
    },
    {
     "name": "stdout",
     "output_type": "stream",
     "text": [
      "run_2_lp5e-04_ep1e-06_lb0.003 Epoch 96/100 | Avg Loss: -0.7606, Avg Grad Norm: 3.8927, LR: 0.000000\n"
     ]
    },
    {
     "name": "stderr",
     "output_type": "stream",
     "text": [
      "run_2_lp5e-04_ep1e-06_lb0.003 Epoch 97/100: 100%|██| 1556/1556 [18:13<00:00,  1.42it/s, grad_norm=3.9108, loss=-0.7817]\n"
     ]
    },
    {
     "name": "stdout",
     "output_type": "stream",
     "text": [
      "run_2_lp5e-04_ep1e-06_lb0.003 Epoch 97/100 | Avg Loss: -0.7634, Avg Grad Norm: 3.7639, LR: 0.000000\n"
     ]
    },
    {
     "name": "stderr",
     "output_type": "stream",
     "text": [
      "run_2_lp5e-04_ep1e-06_lb0.003 Epoch 98/100: 100%|██| 1556/1556 [18:11<00:00,  1.43it/s, grad_norm=30.9828, loss=0.0706]\n"
     ]
    },
    {
     "name": "stdout",
     "output_type": "stream",
     "text": [
      "run_2_lp5e-04_ep1e-06_lb0.003 Epoch 98/100 | Avg Loss: -0.7654, Avg Grad Norm: 3.7179, LR: 0.000000\n"
     ]
    },
    {
     "name": "stderr",
     "output_type": "stream",
     "text": [
      "run_2_lp5e-04_ep1e-06_lb0.003 Epoch 99/100: 100%|█████| 1556/1556 [18:12<00:00,  1.42it/s, grad_norm=inf, loss=-0.6779]\n"
     ]
    },
    {
     "name": "stdout",
     "output_type": "stream",
     "text": [
      "run_2_lp5e-04_ep1e-06_lb0.003 Epoch 99/100 | Avg Loss: -0.7671, Avg Grad Norm: 3.6998, LR: 0.000000\n"
     ]
    },
    {
     "name": "stderr",
     "output_type": "stream",
     "text": [
      "run_2_lp5e-04_ep1e-06_lb0.003 Epoch 100/100: 100%|█| 1556/1556 [18:12<00:00,  1.42it/s, grad_norm=3.3913, loss=-0.7968]\n"
     ]
    },
    {
     "name": "stdout",
     "output_type": "stream",
     "text": [
      "run_2_lp5e-04_ep1e-06_lb0.003 Epoch 100/100 | Avg Loss: -0.7629, Avg Grad Norm: 3.8390, LR: 0.000000\n",
      "Checkpoint saved at 'audiotwin_checkpoints_medium\\run_2_lp5e-04_ep1e-06_lb0.003\\audiotwin_pestlarvanet_medium_epoch_100.pth'\n",
      "\n",
      "Starting Pre-training with AudioTwin - run_3_lp1e-03_ep1e-06_lb0.005\n"
     ]
    },
    {
     "name": "stderr",
     "output_type": "stream",
     "text": [
      "run_3_lp1e-03_ep1e-06_lb0.005 Epoch 1/100: 100%|████| 1556/1556 [18:11<00:00,  1.42it/s, grad_norm=8.0976, loss=0.6941]\n"
     ]
    },
    {
     "name": "stdout",
     "output_type": "stream",
     "text": [
      "run_3_lp1e-03_ep1e-06_lb0.005 Epoch 1/100 | Avg Loss: 1.6455, Avg Grad Norm: 6.9716, LR: 0.000005\n"
     ]
    },
    {
     "name": "stderr",
     "output_type": "stream",
     "text": [
      "run_3_lp1e-03_ep1e-06_lb0.005 Epoch 2/100: 100%|███| 1556/1556 [18:13<00:00,  1.42it/s, grad_norm=13.0810, loss=0.2014]\n"
     ]
    },
    {
     "name": "stdout",
     "output_type": "stream",
     "text": [
      "run_3_lp1e-03_ep1e-06_lb0.005 Epoch 2/100 | Avg Loss: 0.6437, Avg Grad Norm: 6.5479, LR: 0.000005\n"
     ]
    },
    {
     "name": "stderr",
     "output_type": "stream",
     "text": [
      "run_3_lp1e-03_ep1e-06_lb0.005 Epoch 3/100: 100%|███| 1556/1556 [18:13<00:00,  1.42it/s, grad_norm=24.8403, loss=0.8030]\n"
     ]
    },
    {
     "name": "stdout",
     "output_type": "stream",
     "text": [
      "run_3_lp1e-03_ep1e-06_lb0.005 Epoch 3/100 | Avg Loss: 0.3285, Avg Grad Norm: 6.7604, LR: 0.000005\n"
     ]
    },
    {
     "name": "stderr",
     "output_type": "stream",
     "text": [
      "run_3_lp1e-03_ep1e-06_lb0.005 Epoch 4/100: 100%|███| 1556/1556 [18:11<00:00,  1.42it/s, grad_norm=15.7880, loss=0.3121]\n"
     ]
    },
    {
     "name": "stdout",
     "output_type": "stream",
     "text": [
      "run_3_lp1e-03_ep1e-06_lb0.005 Epoch 4/100 | Avg Loss: 0.1735, Avg Grad Norm: 6.6822, LR: 0.000005\n"
     ]
    },
    {
     "name": "stderr",
     "output_type": "stream",
     "text": [
      "run_3_lp1e-03_ep1e-06_lb0.005 Epoch 5/100: 100%|███████| 1556/1556 [18:11<00:00,  1.43it/s, grad_norm=inf, loss=1.1519]\n"
     ]
    },
    {
     "name": "stdout",
     "output_type": "stream",
     "text": [
      "run_3_lp1e-03_ep1e-06_lb0.005 Epoch 5/100 | Avg Loss: 0.0966, Avg Grad Norm: 6.8770, LR: 0.000005\n",
      "Checkpoint saved at 'audiotwin_checkpoints_medium\\run_3_lp1e-03_ep1e-06_lb0.005\\audiotwin_pestlarvanet_medium_epoch_5.pth'\n"
     ]
    },
    {
     "name": "stderr",
     "output_type": "stream",
     "text": [
      "run_3_lp1e-03_ep1e-06_lb0.005 Epoch 6/100: 100%|███| 1556/1556 [18:12<00:00,  1.42it/s, grad_norm=23.5557, loss=0.5724]\n"
     ]
    },
    {
     "name": "stdout",
     "output_type": "stream",
     "text": [
      "run_3_lp1e-03_ep1e-06_lb0.005 Epoch 6/100 | Avg Loss: 0.0034, Avg Grad Norm: 6.7355, LR: 0.000005\n"
     ]
    },
    {
     "name": "stderr",
     "output_type": "stream",
     "text": [
      "run_3_lp1e-03_ep1e-06_lb0.005 Epoch 7/100: 100%|███| 1556/1556 [18:11<00:00,  1.43it/s, grad_norm=15.4866, loss=0.4271]\n"
     ]
    },
    {
     "name": "stdout",
     "output_type": "stream",
     "text": [
      "run_3_lp1e-03_ep1e-06_lb0.005 Epoch 7/100 | Avg Loss: -0.0407, Avg Grad Norm: 7.0740, LR: 0.000005\n"
     ]
    },
    {
     "name": "stderr",
     "output_type": "stream",
     "text": [
      "run_3_lp1e-03_ep1e-06_lb0.005 Epoch 8/100: 100%|███| 1556/1556 [18:13<00:00,  1.42it/s, grad_norm=15.0852, loss=0.2147]\n"
     ]
    },
    {
     "name": "stdout",
     "output_type": "stream",
     "text": [
      "run_3_lp1e-03_ep1e-06_lb0.005 Epoch 8/100 | Avg Loss: -0.0932, Avg Grad Norm: 7.0218, LR: 0.000005\n"
     ]
    },
    {
     "name": "stderr",
     "output_type": "stream",
     "text": [
      "run_3_lp1e-03_ep1e-06_lb0.005 Epoch 9/100: 100%|███| 1556/1556 [18:11<00:00,  1.43it/s, grad_norm=21.0818, loss=0.1618]\n"
     ]
    },
    {
     "name": "stdout",
     "output_type": "stream",
     "text": [
      "run_3_lp1e-03_ep1e-06_lb0.005 Epoch 9/100 | Avg Loss: -0.1110, Avg Grad Norm: 7.3684, LR: 0.000005\n"
     ]
    },
    {
     "name": "stderr",
     "output_type": "stream",
     "text": [
      "run_3_lp1e-03_ep1e-06_lb0.005 Epoch 10/100: 100%|██| 1556/1556 [18:10<00:00,  1.43it/s, grad_norm=14.2666, loss=0.0231]\n"
     ]
    },
    {
     "name": "stdout",
     "output_type": "stream",
     "text": [
      "run_3_lp1e-03_ep1e-06_lb0.005 Epoch 10/100 | Avg Loss: -0.1448, Avg Grad Norm: 7.0976, LR: 0.000005\n",
      "Checkpoint saved at 'audiotwin_checkpoints_medium\\run_3_lp1e-03_ep1e-06_lb0.005\\audiotwin_pestlarvanet_medium_epoch_10.pth'\n"
     ]
    },
    {
     "name": "stderr",
     "output_type": "stream",
     "text": [
      "run_3_lp1e-03_ep1e-06_lb0.005 Epoch 11/100: 100%|██| 1556/1556 [18:11<00:00,  1.43it/s, grad_norm=8.6652, loss=-0.1444]\n"
     ]
    },
    {
     "name": "stdout",
     "output_type": "stream",
     "text": [
      "run_3_lp1e-03_ep1e-06_lb0.005 Epoch 11/100 | Avg Loss: -0.1544, Avg Grad Norm: 7.3744, LR: 0.000005\n"
     ]
    },
    {
     "name": "stderr",
     "output_type": "stream",
     "text": [
      "run_3_lp1e-03_ep1e-06_lb0.005 Epoch 12/100: 100%|██| 1556/1556 [18:14<00:00,  1.42it/s, grad_norm=32.2384, loss=0.2999]\n"
     ]
    },
    {
     "name": "stdout",
     "output_type": "stream",
     "text": [
      "run_3_lp1e-03_ep1e-06_lb0.005 Epoch 12/100 | Avg Loss: -0.1929, Avg Grad Norm: 7.1676, LR: 0.000005\n"
     ]
    },
    {
     "name": "stderr",
     "output_type": "stream",
     "text": [
      "run_3_lp1e-03_ep1e-06_lb0.005 Epoch 13/100: 100%|██| 1556/1556 [18:15<00:00,  1.42it/s, grad_norm=7.5421, loss=-0.2359]\n"
     ]
    },
    {
     "name": "stdout",
     "output_type": "stream",
     "text": [
      "run_3_lp1e-03_ep1e-06_lb0.005 Epoch 13/100 | Avg Loss: -0.1944, Avg Grad Norm: 7.3474, LR: 0.000005\n"
     ]
    },
    {
     "name": "stderr",
     "output_type": "stream",
     "text": [
      "run_3_lp1e-03_ep1e-06_lb0.005 Epoch 14/100: 100%|██| 1556/1556 [18:14<00:00,  1.42it/s, grad_norm=7.0566, loss=-0.3902]\n"
     ]
    },
    {
     "name": "stdout",
     "output_type": "stream",
     "text": [
      "run_3_lp1e-03_ep1e-06_lb0.005 Epoch 14/100 | Avg Loss: -0.2220, Avg Grad Norm: 7.3107, LR: 0.000005\n"
     ]
    },
    {
     "name": "stderr",
     "output_type": "stream",
     "text": [
      "run_3_lp1e-03_ep1e-06_lb0.005 Epoch 15/100: 100%|██| 1556/1556 [19:04<00:00,  1.36it/s, grad_norm=33.2272, loss=0.7507]\n"
     ]
    },
    {
     "name": "stdout",
     "output_type": "stream",
     "text": [
      "run_3_lp1e-03_ep1e-06_lb0.005 Epoch 15/100 | Avg Loss: -0.2202, Avg Grad Norm: 7.6019, LR: 0.000005\n",
      "Checkpoint saved at 'audiotwin_checkpoints_medium\\run_3_lp1e-03_ep1e-06_lb0.005\\audiotwin_pestlarvanet_medium_epoch_15.pth'\n"
     ]
    },
    {
     "name": "stderr",
     "output_type": "stream",
     "text": [
      "run_3_lp1e-03_ep1e-06_lb0.005 Epoch 16/100: 100%|██| 1556/1556 [22:42<00:00,  1.14it/s, grad_norm=31.2735, loss=0.2345]\n"
     ]
    },
    {
     "name": "stdout",
     "output_type": "stream",
     "text": [
      "run_3_lp1e-03_ep1e-06_lb0.005 Epoch 16/100 | Avg Loss: -0.2275, Avg Grad Norm: 7.7392, LR: 0.000005\n"
     ]
    },
    {
     "name": "stderr",
     "output_type": "stream",
     "text": [
      "run_3_lp1e-03_ep1e-06_lb0.005 Epoch 17/100: 100%|██| 1556/1556 [18:12<00:00,  1.42it/s, grad_norm=16.6485, loss=0.0625]\n"
     ]
    },
    {
     "name": "stdout",
     "output_type": "stream",
     "text": [
      "run_3_lp1e-03_ep1e-06_lb0.005 Epoch 17/100 | Avg Loss: -0.2299, Avg Grad Norm: 8.0256, LR: 0.000005\n"
     ]
    },
    {
     "name": "stderr",
     "output_type": "stream",
     "text": [
      "run_3_lp1e-03_ep1e-06_lb0.005 Epoch 18/100: 100%|██| 1556/1556 [18:16<00:00,  1.42it/s, grad_norm=22.8349, loss=0.0575]\n"
     ]
    },
    {
     "name": "stdout",
     "output_type": "stream",
     "text": [
      "run_3_lp1e-03_ep1e-06_lb0.005 Epoch 18/100 | Avg Loss: -0.2635, Avg Grad Norm: 7.5828, LR: 0.000005\n"
     ]
    },
    {
     "name": "stderr",
     "output_type": "stream",
     "text": [
      "run_3_lp1e-03_ep1e-06_lb0.005 Epoch 19/100: 100%|██| 1556/1556 [18:16<00:00,  1.42it/s, grad_norm=5.6502, loss=-0.4295]\n"
     ]
    },
    {
     "name": "stdout",
     "output_type": "stream",
     "text": [
      "run_3_lp1e-03_ep1e-06_lb0.005 Epoch 19/100 | Avg Loss: -0.2587, Avg Grad Norm: 7.7831, LR: 0.000005\n"
     ]
    },
    {
     "name": "stderr",
     "output_type": "stream",
     "text": [
      "run_3_lp1e-03_ep1e-06_lb0.005 Epoch 20/100: 100%|██| 1556/1556 [18:13<00:00,  1.42it/s, grad_norm=40.3619, loss=0.8613]\n"
     ]
    },
    {
     "name": "stdout",
     "output_type": "stream",
     "text": [
      "run_3_lp1e-03_ep1e-06_lb0.005 Epoch 20/100 | Avg Loss: -0.2577, Avg Grad Norm: 8.1633, LR: 0.000005\n",
      "Checkpoint saved at 'audiotwin_checkpoints_medium\\run_3_lp1e-03_ep1e-06_lb0.005\\audiotwin_pestlarvanet_medium_epoch_20.pth'\n"
     ]
    },
    {
     "name": "stderr",
     "output_type": "stream",
     "text": [
      "run_3_lp1e-03_ep1e-06_lb0.005 Epoch 21/100: 100%|██| 1556/1556 [18:13<00:00,  1.42it/s, grad_norm=26.8614, loss=0.6033]\n"
     ]
    },
    {
     "name": "stdout",
     "output_type": "stream",
     "text": [
      "run_3_lp1e-03_ep1e-06_lb0.005 Epoch 21/100 | Avg Loss: -0.2763, Avg Grad Norm: 7.9607, LR: 0.000005\n"
     ]
    },
    {
     "name": "stderr",
     "output_type": "stream",
     "text": [
      "run_3_lp1e-03_ep1e-06_lb0.005 Epoch 22/100: 100%|██| 1556/1556 [18:14<00:00,  1.42it/s, grad_norm=32.4613, loss=0.6035]\n"
     ]
    },
    {
     "name": "stdout",
     "output_type": "stream",
     "text": [
      "run_3_lp1e-03_ep1e-06_lb0.005 Epoch 22/100 | Avg Loss: -0.2852, Avg Grad Norm: 8.1490, LR: 0.000005\n"
     ]
    },
    {
     "name": "stderr",
     "output_type": "stream",
     "text": [
      "run_3_lp1e-03_ep1e-06_lb0.005 Epoch 23/100: 100%|█| 1556/1556 [18:14<00:00,  1.42it/s, grad_norm=12.4551, loss=-0.3566]\n"
     ]
    },
    {
     "name": "stdout",
     "output_type": "stream",
     "text": [
      "run_3_lp1e-03_ep1e-06_lb0.005 Epoch 23/100 | Avg Loss: -0.2975, Avg Grad Norm: 8.0948, LR: 0.000005\n"
     ]
    },
    {
     "name": "stderr",
     "output_type": "stream",
     "text": [
      "run_3_lp1e-03_ep1e-06_lb0.005 Epoch 24/100: 100%|██| 1556/1556 [18:12<00:00,  1.42it/s, grad_norm=23.1858, loss=0.1087]\n"
     ]
    },
    {
     "name": "stdout",
     "output_type": "stream",
     "text": [
      "run_3_lp1e-03_ep1e-06_lb0.005 Epoch 24/100 | Avg Loss: -0.2914, Avg Grad Norm: 8.1995, LR: 0.000005\n"
     ]
    },
    {
     "name": "stderr",
     "output_type": "stream",
     "text": [
      "run_3_lp1e-03_ep1e-06_lb0.005 Epoch 25/100: 100%|█| 1556/1556 [18:11<00:00,  1.43it/s, grad_norm=11.9558, loss=-0.4331]\n"
     ]
    },
    {
     "name": "stdout",
     "output_type": "stream",
     "text": [
      "run_3_lp1e-03_ep1e-06_lb0.005 Epoch 25/100 | Avg Loss: -0.2868, Avg Grad Norm: 8.5902, LR: 0.000005\n",
      "Checkpoint saved at 'audiotwin_checkpoints_medium\\run_3_lp1e-03_ep1e-06_lb0.005\\audiotwin_pestlarvanet_medium_epoch_25.pth'\n"
     ]
    },
    {
     "name": "stderr",
     "output_type": "stream",
     "text": [
      "run_3_lp1e-03_ep1e-06_lb0.005 Epoch 26/100: 100%|██| 1556/1556 [21:21<00:00,  1.21it/s, grad_norm=14.0289, loss=0.0555]\n"
     ]
    },
    {
     "name": "stdout",
     "output_type": "stream",
     "text": [
      "run_3_lp1e-03_ep1e-06_lb0.005 Epoch 26/100 | Avg Loss: -0.3083, Avg Grad Norm: 8.3242, LR: 0.000005\n"
     ]
    },
    {
     "name": "stderr",
     "output_type": "stream",
     "text": [
      "run_3_lp1e-03_ep1e-06_lb0.005 Epoch 27/100: 100%|██| 1556/1556 [21:23<00:00,  1.21it/s, grad_norm=8.1166, loss=-0.3822]\n"
     ]
    },
    {
     "name": "stdout",
     "output_type": "stream",
     "text": [
      "run_3_lp1e-03_ep1e-06_lb0.005 Epoch 27/100 | Avg Loss: -0.3080, Avg Grad Norm: 8.4402, LR: 0.000005\n"
     ]
    },
    {
     "name": "stderr",
     "output_type": "stream",
     "text": [
      "run_3_lp1e-03_ep1e-06_lb0.005 Epoch 28/100: 100%|█| 1556/1556 [21:42<00:00,  1.19it/s, grad_norm=23.1651, loss=-0.2471]\n"
     ]
    },
    {
     "name": "stdout",
     "output_type": "stream",
     "text": [
      "run_3_lp1e-03_ep1e-06_lb0.005 Epoch 28/100 | Avg Loss: -0.3108, Avg Grad Norm: 8.5457, LR: 0.000005\n"
     ]
    },
    {
     "name": "stderr",
     "output_type": "stream",
     "text": [
      "run_3_lp1e-03_ep1e-06_lb0.005 Epoch 29/100: 100%|██| 1556/1556 [18:13<00:00,  1.42it/s, grad_norm=14.6453, loss=0.0180]\n"
     ]
    },
    {
     "name": "stdout",
     "output_type": "stream",
     "text": [
      "run_3_lp1e-03_ep1e-06_lb0.005 Epoch 29/100 | Avg Loss: -0.3224, Avg Grad Norm: 8.4695, LR: 0.000005\n"
     ]
    },
    {
     "name": "stderr",
     "output_type": "stream",
     "text": [
      "run_3_lp1e-03_ep1e-06_lb0.005 Epoch 30/100: 100%|██| 1556/1556 [18:11<00:00,  1.42it/s, grad_norm=6.0077, loss=-0.4471]\n"
     ]
    },
    {
     "name": "stdout",
     "output_type": "stream",
     "text": [
      "run_3_lp1e-03_ep1e-06_lb0.005 Epoch 30/100 | Avg Loss: -0.3168, Avg Grad Norm: 8.5693, LR: 0.000005\n",
      "Checkpoint saved at 'audiotwin_checkpoints_medium\\run_3_lp1e-03_ep1e-06_lb0.005\\audiotwin_pestlarvanet_medium_epoch_30.pth'\n"
     ]
    },
    {
     "name": "stderr",
     "output_type": "stream",
     "text": [
      "run_3_lp1e-03_ep1e-06_lb0.005 Epoch 31/100: 100%|█| 1556/1556 [18:14<00:00,  1.42it/s, grad_norm=13.0501, loss=-0.0782]\n"
     ]
    },
    {
     "name": "stdout",
     "output_type": "stream",
     "text": [
      "run_3_lp1e-03_ep1e-06_lb0.005 Epoch 31/100 | Avg Loss: -0.3266, Avg Grad Norm: 8.6136, LR: 0.000005\n"
     ]
    },
    {
     "name": "stderr",
     "output_type": "stream",
     "text": [
      "run_3_lp1e-03_ep1e-06_lb0.005 Epoch 32/100: 100%|█| 1556/1556 [18:15<00:00,  1.42it/s, grad_norm=19.6625, loss=-0.3041]\n"
     ]
    },
    {
     "name": "stdout",
     "output_type": "stream",
     "text": [
      "run_3_lp1e-03_ep1e-06_lb0.005 Epoch 32/100 | Avg Loss: -0.3427, Avg Grad Norm: 8.3662, LR: 0.000005\n"
     ]
    },
    {
     "name": "stderr",
     "output_type": "stream",
     "text": [
      "run_3_lp1e-03_ep1e-06_lb0.005 Epoch 33/100: 100%|██| 1556/1556 [18:14<00:00,  1.42it/s, grad_norm=39.4933, loss=1.5345]\n"
     ]
    },
    {
     "name": "stdout",
     "output_type": "stream",
     "text": [
      "run_3_lp1e-03_ep1e-06_lb0.005 Epoch 33/100 | Avg Loss: -0.3373, Avg Grad Norm: 8.4666, LR: 0.000005\n"
     ]
    },
    {
     "name": "stderr",
     "output_type": "stream",
     "text": [
      "run_3_lp1e-03_ep1e-06_lb0.005 Epoch 34/100: 100%|██| 1556/1556 [18:13<00:00,  1.42it/s, grad_norm=6.8707, loss=-0.4776]\n"
     ]
    },
    {
     "name": "stdout",
     "output_type": "stream",
     "text": [
      "run_3_lp1e-03_ep1e-06_lb0.005 Epoch 34/100 | Avg Loss: -0.3418, Avg Grad Norm: 8.5001, LR: 0.000005\n"
     ]
    },
    {
     "name": "stderr",
     "output_type": "stream",
     "text": [
      "run_3_lp1e-03_ep1e-06_lb0.005 Epoch 35/100: 100%|██| 1556/1556 [18:13<00:00,  1.42it/s, grad_norm=4.0947, loss=-0.5490]\n"
     ]
    },
    {
     "name": "stdout",
     "output_type": "stream",
     "text": [
      "run_3_lp1e-03_ep1e-06_lb0.005 Epoch 35/100 | Avg Loss: -0.3493, Avg Grad Norm: 8.3919, LR: 0.000005\n",
      "Checkpoint saved at 'audiotwin_checkpoints_medium\\run_3_lp1e-03_ep1e-06_lb0.005\\audiotwin_pestlarvanet_medium_epoch_35.pth'\n"
     ]
    },
    {
     "name": "stderr",
     "output_type": "stream",
     "text": [
      "run_3_lp1e-03_ep1e-06_lb0.005 Epoch 36/100: 100%|██| 1556/1556 [18:13<00:00,  1.42it/s, grad_norm=8.4999, loss=-0.2893]\n"
     ]
    },
    {
     "name": "stdout",
     "output_type": "stream",
     "text": [
      "run_3_lp1e-03_ep1e-06_lb0.005 Epoch 36/100 | Avg Loss: -0.3532, Avg Grad Norm: 8.4206, LR: 0.000005\n"
     ]
    },
    {
     "name": "stderr",
     "output_type": "stream",
     "text": [
      "run_3_lp1e-03_ep1e-06_lb0.005 Epoch 37/100: 100%|██████| 1556/1556 [18:14<00:00,  1.42it/s, grad_norm=nan, loss=0.9277]\n"
     ]
    },
    {
     "name": "stdout",
     "output_type": "stream",
     "text": [
      "run_3_lp1e-03_ep1e-06_lb0.005 Epoch 37/100 | Avg Loss: -0.3602, Avg Grad Norm: 8.2283, LR: 0.000005\n"
     ]
    },
    {
     "name": "stderr",
     "output_type": "stream",
     "text": [
      "run_3_lp1e-03_ep1e-06_lb0.005 Epoch 38/100: 100%|██| 1556/1556 [18:13<00:00,  1.42it/s, grad_norm=6.8759, loss=-0.5071]\n"
     ]
    },
    {
     "name": "stdout",
     "output_type": "stream",
     "text": [
      "run_3_lp1e-03_ep1e-06_lb0.005 Epoch 38/100 | Avg Loss: -0.3548, Avg Grad Norm: 8.4626, LR: 0.000005\n"
     ]
    },
    {
     "name": "stderr",
     "output_type": "stream",
     "text": [
      "run_3_lp1e-03_ep1e-06_lb0.005 Epoch 39/100: 100%|██| 1556/1556 [18:13<00:00,  1.42it/s, grad_norm=50.9947, loss=0.5641]\n"
     ]
    },
    {
     "name": "stdout",
     "output_type": "stream",
     "text": [
      "run_3_lp1e-03_ep1e-06_lb0.005 Epoch 39/100 | Avg Loss: -0.3518, Avg Grad Norm: 8.6958, LR: 0.000005\n"
     ]
    },
    {
     "name": "stderr",
     "output_type": "stream",
     "text": [
      "run_3_lp1e-03_ep1e-06_lb0.005 Epoch 40/100: 100%|██████| 1556/1556 [18:13<00:00,  1.42it/s, grad_norm=nan, loss=1.5761]\n"
     ]
    },
    {
     "name": "stdout",
     "output_type": "stream",
     "text": [
      "run_3_lp1e-03_ep1e-06_lb0.005 Epoch 40/100 | Avg Loss: -0.3586, Avg Grad Norm: 8.5573, LR: 0.000005\n",
      "Checkpoint saved at 'audiotwin_checkpoints_medium\\run_3_lp1e-03_ep1e-06_lb0.005\\audiotwin_pestlarvanet_medium_epoch_40.pth'\n"
     ]
    },
    {
     "name": "stderr",
     "output_type": "stream",
     "text": [
      "run_3_lp1e-03_ep1e-06_lb0.005 Epoch 41/100: 100%|██| 1556/1556 [18:13<00:00,  1.42it/s, grad_norm=29.9481, loss=0.8864]\n"
     ]
    },
    {
     "name": "stdout",
     "output_type": "stream",
     "text": [
      "run_3_lp1e-03_ep1e-06_lb0.005 Epoch 41/100 | Avg Loss: -0.3733, Avg Grad Norm: 8.2611, LR: 0.000005\n"
     ]
    },
    {
     "name": "stderr",
     "output_type": "stream",
     "text": [
      "run_3_lp1e-03_ep1e-06_lb0.005 Epoch 42/100: 100%|█| 1556/1556 [18:13<00:00,  1.42it/s, grad_norm=33.9041, loss=-0.0769]\n"
     ]
    },
    {
     "name": "stdout",
     "output_type": "stream",
     "text": [
      "run_3_lp1e-03_ep1e-06_lb0.005 Epoch 42/100 | Avg Loss: -0.3668, Avg Grad Norm: 8.5872, LR: 0.000005\n"
     ]
    },
    {
     "name": "stderr",
     "output_type": "stream",
     "text": [
      "run_3_lp1e-03_ep1e-06_lb0.005 Epoch 43/100: 100%|██| 1556/1556 [18:14<00:00,  1.42it/s, grad_norm=36.1177, loss=0.1853]\n"
     ]
    },
    {
     "name": "stdout",
     "output_type": "stream",
     "text": [
      "run_3_lp1e-03_ep1e-06_lb0.005 Epoch 43/100 | Avg Loss: -0.3689, Avg Grad Norm: 8.5333, LR: 0.000005\n"
     ]
    },
    {
     "name": "stderr",
     "output_type": "stream",
     "text": [
      "run_3_lp1e-03_ep1e-06_lb0.005 Epoch 44/100: 100%|██████| 1556/1556 [18:16<00:00,  1.42it/s, grad_norm=nan, loss=0.4889]\n"
     ]
    },
    {
     "name": "stdout",
     "output_type": "stream",
     "text": [
      "run_3_lp1e-03_ep1e-06_lb0.005 Epoch 44/100 | Avg Loss: -0.3707, Avg Grad Norm: 8.5179, LR: 0.000005\n"
     ]
    },
    {
     "name": "stderr",
     "output_type": "stream",
     "text": [
      "run_3_lp1e-03_ep1e-06_lb0.005 Epoch 45/100: 100%|█| 1556/1556 [18:14<00:00,  1.42it/s, grad_norm=26.4871, loss=-0.0142]\n"
     ]
    },
    {
     "name": "stdout",
     "output_type": "stream",
     "text": [
      "run_3_lp1e-03_ep1e-06_lb0.005 Epoch 45/100 | Avg Loss: -0.3739, Avg Grad Norm: 8.4462, LR: 0.000005\n",
      "Checkpoint saved at 'audiotwin_checkpoints_medium\\run_3_lp1e-03_ep1e-06_lb0.005\\audiotwin_pestlarvanet_medium_epoch_45.pth'\n"
     ]
    },
    {
     "name": "stderr",
     "output_type": "stream",
     "text": [
      "run_3_lp1e-03_ep1e-06_lb0.005 Epoch 46/100: 100%|██| 1556/1556 [18:14<00:00,  1.42it/s, grad_norm=6.2459, loss=-0.5047]\n"
     ]
    },
    {
     "name": "stdout",
     "output_type": "stream",
     "text": [
      "run_3_lp1e-03_ep1e-06_lb0.005 Epoch 46/100 | Avg Loss: -0.3868, Avg Grad Norm: 8.2221, LR: 0.000005\n"
     ]
    },
    {
     "name": "stderr",
     "output_type": "stream",
     "text": [
      "run_3_lp1e-03_ep1e-06_lb0.005 Epoch 47/100: 100%|█| 1556/1556 [18:16<00:00,  1.42it/s, grad_norm=33.7726, loss=-0.0649]\n"
     ]
    },
    {
     "name": "stdout",
     "output_type": "stream",
     "text": [
      "run_3_lp1e-03_ep1e-06_lb0.005 Epoch 47/100 | Avg Loss: -0.3815, Avg Grad Norm: 8.4808, LR: 0.000005\n"
     ]
    },
    {
     "name": "stderr",
     "output_type": "stream",
     "text": [
      "run_3_lp1e-03_ep1e-06_lb0.005 Epoch 48/100: 100%|██| 1556/1556 [18:13<00:00,  1.42it/s, grad_norm=4.7658, loss=-0.5578]\n"
     ]
    },
    {
     "name": "stdout",
     "output_type": "stream",
     "text": [
      "run_3_lp1e-03_ep1e-06_lb0.005 Epoch 48/100 | Avg Loss: -0.3726, Avg Grad Norm: 8.6319, LR: 0.000005\n"
     ]
    },
    {
     "name": "stderr",
     "output_type": "stream",
     "text": [
      "run_3_lp1e-03_ep1e-06_lb0.005 Epoch 49/100: 100%|█| 1556/1556 [18:14<00:00,  1.42it/s, grad_norm=10.8684, loss=-0.4545]\n"
     ]
    },
    {
     "name": "stdout",
     "output_type": "stream",
     "text": [
      "run_3_lp1e-03_ep1e-06_lb0.005 Epoch 49/100 | Avg Loss: -0.3842, Avg Grad Norm: 8.5280, LR: 0.000005\n"
     ]
    },
    {
     "name": "stderr",
     "output_type": "stream",
     "text": [
      "run_3_lp1e-03_ep1e-06_lb0.005 Epoch 50/100: 100%|██| 1556/1556 [18:13<00:00,  1.42it/s, grad_norm=9.0752, loss=-0.4014]\n"
     ]
    },
    {
     "name": "stdout",
     "output_type": "stream",
     "text": [
      "run_3_lp1e-03_ep1e-06_lb0.005 Epoch 50/100 | Avg Loss: -0.3868, Avg Grad Norm: 8.4886, LR: 0.000005\n",
      "Checkpoint saved at 'audiotwin_checkpoints_medium\\run_3_lp1e-03_ep1e-06_lb0.005\\audiotwin_pestlarvanet_medium_epoch_50.pth'\n"
     ]
    },
    {
     "name": "stderr",
     "output_type": "stream",
     "text": [
      "run_3_lp1e-03_ep1e-06_lb0.005 Epoch 51/100: 100%|█| 1556/1556 [18:14<00:00,  1.42it/s, grad_norm=24.0189, loss=-0.0737]\n"
     ]
    },
    {
     "name": "stdout",
     "output_type": "stream",
     "text": [
      "run_3_lp1e-03_ep1e-06_lb0.005 Epoch 51/100 | Avg Loss: -0.3755, Avg Grad Norm: 8.5570, LR: 0.000005\n"
     ]
    },
    {
     "name": "stderr",
     "output_type": "stream",
     "text": [
      "run_3_lp1e-03_ep1e-06_lb0.005 Epoch 52/100: 100%|██| 1556/1556 [18:11<00:00,  1.43it/s, grad_norm=4.2893, loss=-0.5630]\n"
     ]
    },
    {
     "name": "stdout",
     "output_type": "stream",
     "text": [
      "run_3_lp1e-03_ep1e-06_lb0.005 Epoch 52/100 | Avg Loss: -0.3886, Avg Grad Norm: 8.3807, LR: 0.000005\n"
     ]
    },
    {
     "name": "stderr",
     "output_type": "stream",
     "text": [
      "run_3_lp1e-03_ep1e-06_lb0.005 Epoch 53/100: 100%|█| 1556/1556 [18:11<00:00,  1.43it/s, grad_norm=12.3562, loss=-0.1970]\n"
     ]
    },
    {
     "name": "stdout",
     "output_type": "stream",
     "text": [
      "run_3_lp1e-03_ep1e-06_lb0.005 Epoch 53/100 | Avg Loss: -0.3949, Avg Grad Norm: 8.3583, LR: 0.000005\n"
     ]
    },
    {
     "name": "stderr",
     "output_type": "stream",
     "text": [
      "run_3_lp1e-03_ep1e-06_lb0.005 Epoch 54/100: 100%|██| 1556/1556 [18:11<00:00,  1.43it/s, grad_norm=42.7998, loss=0.6335]\n"
     ]
    },
    {
     "name": "stdout",
     "output_type": "stream",
     "text": [
      "run_3_lp1e-03_ep1e-06_lb0.005 Epoch 54/100 | Avg Loss: -0.3892, Avg Grad Norm: 8.5971, LR: 0.000005\n"
     ]
    },
    {
     "name": "stderr",
     "output_type": "stream",
     "text": [
      "run_3_lp1e-03_ep1e-06_lb0.005 Epoch 55/100: 100%|██| 1556/1556 [18:12<00:00,  1.42it/s, grad_norm=3.3004, loss=-0.6045]\n"
     ]
    },
    {
     "name": "stdout",
     "output_type": "stream",
     "text": [
      "run_3_lp1e-03_ep1e-06_lb0.005 Epoch 55/100 | Avg Loss: -0.3920, Avg Grad Norm: 8.5823, LR: 0.000005\n",
      "Checkpoint saved at 'audiotwin_checkpoints_medium\\run_3_lp1e-03_ep1e-06_lb0.005\\audiotwin_pestlarvanet_medium_epoch_55.pth'\n"
     ]
    },
    {
     "name": "stderr",
     "output_type": "stream",
     "text": [
      "run_3_lp1e-03_ep1e-06_lb0.005 Epoch 56/100: 100%|█| 1556/1556 [18:12<00:00,  1.42it/s, grad_norm=10.2293, loss=-0.4954]\n"
     ]
    },
    {
     "name": "stdout",
     "output_type": "stream",
     "text": [
      "run_3_lp1e-03_ep1e-06_lb0.005 Epoch 56/100 | Avg Loss: -0.3917, Avg Grad Norm: 8.6231, LR: 0.000005\n"
     ]
    },
    {
     "name": "stderr",
     "output_type": "stream",
     "text": [
      "run_3_lp1e-03_ep1e-06_lb0.005 Epoch 57/100: 100%|█| 1556/1556 [18:11<00:00,  1.43it/s, grad_norm=16.9228, loss=-0.2998]\n"
     ]
    },
    {
     "name": "stdout",
     "output_type": "stream",
     "text": [
      "run_3_lp1e-03_ep1e-06_lb0.005 Epoch 57/100 | Avg Loss: -0.3978, Avg Grad Norm: 8.5568, LR: 0.000005\n"
     ]
    },
    {
     "name": "stderr",
     "output_type": "stream",
     "text": [
      "run_3_lp1e-03_ep1e-06_lb0.005 Epoch 58/100: 100%|██| 1556/1556 [18:05<00:00,  1.43it/s, grad_norm=2.7814, loss=-0.5706]\n"
     ]
    },
    {
     "name": "stdout",
     "output_type": "stream",
     "text": [
      "run_3_lp1e-03_ep1e-06_lb0.005 Epoch 58/100 | Avg Loss: -0.3932, Avg Grad Norm: 8.4607, LR: 0.000005\n"
     ]
    },
    {
     "name": "stderr",
     "output_type": "stream",
     "text": [
      "run_3_lp1e-03_ep1e-06_lb0.005 Epoch 59/100: 100%|█| 1556/1556 [18:05<00:00,  1.43it/s, grad_norm=13.2249, loss=-0.4005]\n"
     ]
    },
    {
     "name": "stdout",
     "output_type": "stream",
     "text": [
      "run_3_lp1e-03_ep1e-06_lb0.005 Epoch 59/100 | Avg Loss: -0.4060, Avg Grad Norm: 8.4379, LR: 0.000005\n"
     ]
    },
    {
     "name": "stderr",
     "output_type": "stream",
     "text": [
      "run_3_lp1e-03_ep1e-06_lb0.005 Epoch 60/100: 100%|█| 1556/1556 [18:05<00:00,  1.43it/s, grad_norm=38.1308, loss=-0.0641]\n"
     ]
    },
    {
     "name": "stdout",
     "output_type": "stream",
     "text": [
      "run_3_lp1e-03_ep1e-06_lb0.005 Epoch 60/100 | Avg Loss: -0.4068, Avg Grad Norm: 8.4449, LR: 0.000005\n",
      "Checkpoint saved at 'audiotwin_checkpoints_medium\\run_3_lp1e-03_ep1e-06_lb0.005\\audiotwin_pestlarvanet_medium_epoch_60.pth'\n"
     ]
    },
    {
     "name": "stderr",
     "output_type": "stream",
     "text": [
      "run_3_lp1e-03_ep1e-06_lb0.005 Epoch 61/100: 100%|██| 1556/1556 [18:07<00:00,  1.43it/s, grad_norm=8.9604, loss=-0.3712]\n"
     ]
    },
    {
     "name": "stdout",
     "output_type": "stream",
     "text": [
      "run_3_lp1e-03_ep1e-06_lb0.005 Epoch 61/100 | Avg Loss: -0.4080, Avg Grad Norm: 8.4911, LR: 0.000005\n"
     ]
    },
    {
     "name": "stderr",
     "output_type": "stream",
     "text": [
      "run_3_lp1e-03_ep1e-06_lb0.005 Epoch 62/100: 100%|█| 1556/1556 [18:04<00:00,  1.44it/s, grad_norm=10.7219, loss=-0.2403]\n"
     ]
    },
    {
     "name": "stdout",
     "output_type": "stream",
     "text": [
      "run_3_lp1e-03_ep1e-06_lb0.005 Epoch 62/100 | Avg Loss: -0.4078, Avg Grad Norm: 8.4884, LR: 0.000005\n"
     ]
    },
    {
     "name": "stderr",
     "output_type": "stream",
     "text": [
      "run_3_lp1e-03_ep1e-06_lb0.005 Epoch 63/100: 100%|█| 1556/1556 [18:10<00:00,  1.43it/s, grad_norm=34.8470, loss=-0.0933]\n"
     ]
    },
    {
     "name": "stdout",
     "output_type": "stream",
     "text": [
      "run_3_lp1e-03_ep1e-06_lb0.005 Epoch 63/100 | Avg Loss: -0.4098, Avg Grad Norm: 8.5791, LR: 0.000005\n"
     ]
    },
    {
     "name": "stderr",
     "output_type": "stream",
     "text": [
      "run_3_lp1e-03_ep1e-06_lb0.005 Epoch 64/100: 100%|██| 1556/1556 [18:04<00:00,  1.44it/s, grad_norm=29.9887, loss=0.2516]\n"
     ]
    },
    {
     "name": "stdout",
     "output_type": "stream",
     "text": [
      "run_3_lp1e-03_ep1e-06_lb0.005 Epoch 64/100 | Avg Loss: -0.4060, Avg Grad Norm: 8.5387, LR: 0.000005\n"
     ]
    },
    {
     "name": "stderr",
     "output_type": "stream",
     "text": [
      "run_3_lp1e-03_ep1e-06_lb0.005 Epoch 65/100: 100%|█| 1556/1556 [18:05<00:00,  1.43it/s, grad_norm=11.4209, loss=-0.4770]\n"
     ]
    },
    {
     "name": "stdout",
     "output_type": "stream",
     "text": [
      "run_3_lp1e-03_ep1e-06_lb0.005 Epoch 65/100 | Avg Loss: -0.4053, Avg Grad Norm: 8.5748, LR: 0.000005\n",
      "Checkpoint saved at 'audiotwin_checkpoints_medium\\run_3_lp1e-03_ep1e-06_lb0.005\\audiotwin_pestlarvanet_medium_epoch_65.pth'\n"
     ]
    },
    {
     "name": "stderr",
     "output_type": "stream",
     "text": [
      "run_3_lp1e-03_ep1e-06_lb0.005 Epoch 66/100: 100%|██| 1556/1556 [18:06<00:00,  1.43it/s, grad_norm=38.5014, loss=0.1953]\n"
     ]
    },
    {
     "name": "stdout",
     "output_type": "stream",
     "text": [
      "run_3_lp1e-03_ep1e-06_lb0.005 Epoch 66/100 | Avg Loss: -0.4141, Avg Grad Norm: 8.5268, LR: 0.000005\n"
     ]
    },
    {
     "name": "stderr",
     "output_type": "stream",
     "text": [
      "run_3_lp1e-03_ep1e-06_lb0.005 Epoch 67/100: 100%|██| 1556/1556 [18:05<00:00,  1.43it/s, grad_norm=54.4766, loss=0.4951]\n"
     ]
    },
    {
     "name": "stdout",
     "output_type": "stream",
     "text": [
      "run_3_lp1e-03_ep1e-06_lb0.005 Epoch 67/100 | Avg Loss: -0.4020, Avg Grad Norm: 8.7302, LR: 0.000005\n"
     ]
    },
    {
     "name": "stderr",
     "output_type": "stream",
     "text": [
      "run_3_lp1e-03_ep1e-06_lb0.005 Epoch 68/100: 100%|██| 1556/1556 [18:03<00:00,  1.44it/s, grad_norm=3.2013, loss=-0.4057]\n"
     ]
    },
    {
     "name": "stdout",
     "output_type": "stream",
     "text": [
      "run_3_lp1e-03_ep1e-06_lb0.005 Epoch 68/100 | Avg Loss: -0.4165, Avg Grad Norm: 8.3372, LR: 0.000005\n"
     ]
    },
    {
     "name": "stderr",
     "output_type": "stream",
     "text": [
      "run_3_lp1e-03_ep1e-06_lb0.005 Epoch 69/100: 100%|██| 1556/1556 [18:05<00:00,  1.43it/s, grad_norm=4.9159, loss=-0.5270]\n"
     ]
    },
    {
     "name": "stdout",
     "output_type": "stream",
     "text": [
      "run_3_lp1e-03_ep1e-06_lb0.005 Epoch 69/100 | Avg Loss: -0.4207, Avg Grad Norm: 8.4559, LR: 0.000005\n"
     ]
    },
    {
     "name": "stderr",
     "output_type": "stream",
     "text": [
      "run_3_lp1e-03_ep1e-06_lb0.005 Epoch 70/100: 100%|█| 1556/1556 [18:08<00:00,  1.43it/s, grad_norm=17.8890, loss=-0.1815]\n"
     ]
    },
    {
     "name": "stdout",
     "output_type": "stream",
     "text": [
      "run_3_lp1e-03_ep1e-06_lb0.005 Epoch 70/100 | Avg Loss: -0.4111, Avg Grad Norm: 8.8095, LR: 0.000005\n",
      "Checkpoint saved at 'audiotwin_checkpoints_medium\\run_3_lp1e-03_ep1e-06_lb0.005\\audiotwin_pestlarvanet_medium_epoch_70.pth'\n"
     ]
    },
    {
     "name": "stderr",
     "output_type": "stream",
     "text": [
      "run_3_lp1e-03_ep1e-06_lb0.005 Epoch 71/100: 100%|█| 1556/1556 [18:08<00:00,  1.43it/s, grad_norm=12.2812, loss=-0.4547]\n"
     ]
    },
    {
     "name": "stdout",
     "output_type": "stream",
     "text": [
      "run_3_lp1e-03_ep1e-06_lb0.005 Epoch 71/100 | Avg Loss: -0.4124, Avg Grad Norm: 8.7954, LR: 0.000005\n"
     ]
    },
    {
     "name": "stderr",
     "output_type": "stream",
     "text": [
      "run_3_lp1e-03_ep1e-06_lb0.005 Epoch 72/100: 100%|█| 1556/1556 [18:08<00:00,  1.43it/s, grad_norm=24.1863, loss=-0.1157]\n"
     ]
    },
    {
     "name": "stdout",
     "output_type": "stream",
     "text": [
      "run_3_lp1e-03_ep1e-06_lb0.005 Epoch 72/100 | Avg Loss: -0.4179, Avg Grad Norm: 8.5923, LR: 0.000005\n"
     ]
    },
    {
     "name": "stderr",
     "output_type": "stream",
     "text": [
      "run_3_lp1e-03_ep1e-06_lb0.005 Epoch 73/100: 100%|██████| 1556/1556 [18:08<00:00,  1.43it/s, grad_norm=nan, loss=0.3551]\n"
     ]
    },
    {
     "name": "stdout",
     "output_type": "stream",
     "text": [
      "run_3_lp1e-03_ep1e-06_lb0.005 Epoch 73/100 | Avg Loss: -0.4220, Avg Grad Norm: 8.4348, LR: 0.000005\n"
     ]
    },
    {
     "name": "stderr",
     "output_type": "stream",
     "text": [
      "run_3_lp1e-03_ep1e-06_lb0.005 Epoch 74/100: 100%|██| 1556/1556 [18:08<00:00,  1.43it/s, grad_norm=58.5145, loss=0.3181]\n"
     ]
    },
    {
     "name": "stdout",
     "output_type": "stream",
     "text": [
      "run_3_lp1e-03_ep1e-06_lb0.005 Epoch 74/100 | Avg Loss: -0.4136, Avg Grad Norm: 8.6714, LR: 0.000005\n"
     ]
    },
    {
     "name": "stderr",
     "output_type": "stream",
     "text": [
      "run_3_lp1e-03_ep1e-06_lb0.005 Epoch 75/100: 100%|██| 1556/1556 [18:09<00:00,  1.43it/s, grad_norm=34.3004, loss=0.5970]\n"
     ]
    },
    {
     "name": "stdout",
     "output_type": "stream",
     "text": [
      "run_3_lp1e-03_ep1e-06_lb0.005 Epoch 75/100 | Avg Loss: -0.4266, Avg Grad Norm: 8.4693, LR: 0.000005\n",
      "Checkpoint saved at 'audiotwin_checkpoints_medium\\run_3_lp1e-03_ep1e-06_lb0.005\\audiotwin_pestlarvanet_medium_epoch_75.pth'\n"
     ]
    },
    {
     "name": "stderr",
     "output_type": "stream",
     "text": [
      "run_3_lp1e-03_ep1e-06_lb0.005 Epoch 76/100: 100%|██| 1556/1556 [18:07<00:00,  1.43it/s, grad_norm=2.3371, loss=-0.5852]\n"
     ]
    },
    {
     "name": "stdout",
     "output_type": "stream",
     "text": [
      "run_3_lp1e-03_ep1e-06_lb0.005 Epoch 76/100 | Avg Loss: -0.4289, Avg Grad Norm: 8.4188, LR: 0.000005\n"
     ]
    },
    {
     "name": "stderr",
     "output_type": "stream",
     "text": [
      "run_3_lp1e-03_ep1e-06_lb0.005 Epoch 77/100: 100%|██| 1556/1556 [18:07<00:00,  1.43it/s, grad_norm=43.6507, loss=0.2340]\n"
     ]
    },
    {
     "name": "stdout",
     "output_type": "stream",
     "text": [
      "run_3_lp1e-03_ep1e-06_lb0.005 Epoch 77/100 | Avg Loss: -0.4205, Avg Grad Norm: 8.6989, LR: 0.000005\n"
     ]
    },
    {
     "name": "stderr",
     "output_type": "stream",
     "text": [
      "run_3_lp1e-03_ep1e-06_lb0.005 Epoch 78/100: 100%|██| 1556/1556 [18:06<00:00,  1.43it/s, grad_norm=22.4583, loss=0.0842]\n"
     ]
    },
    {
     "name": "stdout",
     "output_type": "stream",
     "text": [
      "run_3_lp1e-03_ep1e-06_lb0.005 Epoch 78/100 | Avg Loss: -0.4215, Avg Grad Norm: 8.6217, LR: 0.000005\n"
     ]
    },
    {
     "name": "stderr",
     "output_type": "stream",
     "text": [
      "run_3_lp1e-03_ep1e-06_lb0.005 Epoch 79/100: 100%|█| 1556/1556 [18:08<00:00,  1.43it/s, grad_norm=16.6146, loss=-0.4557]\n"
     ]
    },
    {
     "name": "stdout",
     "output_type": "stream",
     "text": [
      "run_3_lp1e-03_ep1e-06_lb0.005 Epoch 79/100 | Avg Loss: -0.4290, Avg Grad Norm: 8.4708, LR: 0.000005\n"
     ]
    },
    {
     "name": "stderr",
     "output_type": "stream",
     "text": [
      "run_3_lp1e-03_ep1e-06_lb0.005 Epoch 80/100: 100%|█| 1556/1556 [18:07<00:00,  1.43it/s, grad_norm=39.2944, loss=-0.1578]\n"
     ]
    },
    {
     "name": "stdout",
     "output_type": "stream",
     "text": [
      "run_3_lp1e-03_ep1e-06_lb0.005 Epoch 80/100 | Avg Loss: -0.4184, Avg Grad Norm: 8.9042, LR: 0.000005\n",
      "Checkpoint saved at 'audiotwin_checkpoints_medium\\run_3_lp1e-03_ep1e-06_lb0.005\\audiotwin_pestlarvanet_medium_epoch_80.pth'\n"
     ]
    },
    {
     "name": "stderr",
     "output_type": "stream",
     "text": [
      "run_3_lp1e-03_ep1e-06_lb0.005 Epoch 81/100: 100%|█| 1556/1556 [18:08<00:00,  1.43it/s, grad_norm=19.7643, loss=-0.2191]\n"
     ]
    },
    {
     "name": "stdout",
     "output_type": "stream",
     "text": [
      "run_3_lp1e-03_ep1e-06_lb0.005 Epoch 81/100 | Avg Loss: -0.4386, Avg Grad Norm: 8.3798, LR: 0.000005\n"
     ]
    },
    {
     "name": "stderr",
     "output_type": "stream",
     "text": [
      "run_3_lp1e-03_ep1e-06_lb0.005 Epoch 82/100: 100%|█| 1556/1556 [18:08<00:00,  1.43it/s, grad_norm=19.7746, loss=-0.2879]\n"
     ]
    },
    {
     "name": "stdout",
     "output_type": "stream",
     "text": [
      "run_3_lp1e-03_ep1e-06_lb0.005 Epoch 82/100 | Avg Loss: -0.4257, Avg Grad Norm: 8.8197, LR: 0.000005\n"
     ]
    },
    {
     "name": "stderr",
     "output_type": "stream",
     "text": [
      "run_3_lp1e-03_ep1e-06_lb0.005 Epoch 83/100: 100%|██| 1556/1556 [18:08<00:00,  1.43it/s, grad_norm=36.3552, loss=0.1471]\n"
     ]
    },
    {
     "name": "stdout",
     "output_type": "stream",
     "text": [
      "run_3_lp1e-03_ep1e-06_lb0.005 Epoch 83/100 | Avg Loss: -0.4264, Avg Grad Norm: 8.6319, LR: 0.000005\n"
     ]
    },
    {
     "name": "stderr",
     "output_type": "stream",
     "text": [
      "run_3_lp1e-03_ep1e-06_lb0.005 Epoch 84/100: 100%|██| 1556/1556 [18:10<00:00,  1.43it/s, grad_norm=2.5559, loss=-0.5792]\n"
     ]
    },
    {
     "name": "stdout",
     "output_type": "stream",
     "text": [
      "run_3_lp1e-03_ep1e-06_lb0.005 Epoch 84/100 | Avg Loss: -0.4285, Avg Grad Norm: 8.8982, LR: 0.000005\n"
     ]
    },
    {
     "name": "stderr",
     "output_type": "stream",
     "text": [
      "run_3_lp1e-03_ep1e-06_lb0.005 Epoch 85/100: 100%|██| 1556/1556 [18:09<00:00,  1.43it/s, grad_norm=2.4200, loss=-0.6440]\n"
     ]
    },
    {
     "name": "stdout",
     "output_type": "stream",
     "text": [
      "run_3_lp1e-03_ep1e-06_lb0.005 Epoch 85/100 | Avg Loss: -0.4248, Avg Grad Norm: 8.7370, LR: 0.000005\n",
      "Checkpoint saved at 'audiotwin_checkpoints_medium\\run_3_lp1e-03_ep1e-06_lb0.005\\audiotwin_pestlarvanet_medium_epoch_85.pth'\n"
     ]
    },
    {
     "name": "stderr",
     "output_type": "stream",
     "text": [
      "run_3_lp1e-03_ep1e-06_lb0.005 Epoch 86/100: 100%|██████| 1556/1556 [18:07<00:00,  1.43it/s, grad_norm=inf, loss=0.4808]\n"
     ]
    },
    {
     "name": "stdout",
     "output_type": "stream",
     "text": [
      "run_3_lp1e-03_ep1e-06_lb0.005 Epoch 86/100 | Avg Loss: -0.4271, Avg Grad Norm: 8.8436, LR: 0.000005\n"
     ]
    },
    {
     "name": "stderr",
     "output_type": "stream",
     "text": [
      "run_3_lp1e-03_ep1e-06_lb0.005 Epoch 87/100: 100%|██| 1556/1556 [18:08<00:00,  1.43it/s, grad_norm=4.3325, loss=-0.5443]\n"
     ]
    },
    {
     "name": "stdout",
     "output_type": "stream",
     "text": [
      "run_3_lp1e-03_ep1e-06_lb0.005 Epoch 87/100 | Avg Loss: -0.4348, Avg Grad Norm: 8.6010, LR: 0.000005\n"
     ]
    },
    {
     "name": "stderr",
     "output_type": "stream",
     "text": [
      "run_3_lp1e-03_ep1e-06_lb0.005 Epoch 88/100: 100%|██| 1556/1556 [22:11<00:00,  1.17it/s, grad_norm=35.0712, loss=0.1691]\n"
     ]
    },
    {
     "name": "stdout",
     "output_type": "stream",
     "text": [
      "run_3_lp1e-03_ep1e-06_lb0.005 Epoch 88/100 | Avg Loss: -0.4285, Avg Grad Norm: 8.8595, LR: 0.000001\n"
     ]
    },
    {
     "name": "stderr",
     "output_type": "stream",
     "text": [
      "run_3_lp1e-03_ep1e-06_lb0.005 Epoch 89/100: 100%|█| 1556/1556 [19:16<00:00,  1.35it/s, grad_norm=19.8655, loss=-0.1757]\n"
     ]
    },
    {
     "name": "stdout",
     "output_type": "stream",
     "text": [
      "run_3_lp1e-03_ep1e-06_lb0.005 Epoch 89/100 | Avg Loss: -0.4354, Avg Grad Norm: 8.4383, LR: 0.000001\n"
     ]
    },
    {
     "name": "stderr",
     "output_type": "stream",
     "text": [
      "run_3_lp1e-03_ep1e-06_lb0.005 Epoch 90/100: 100%|█| 1556/1556 [18:30<00:00,  1.40it/s, grad_norm=27.3604, loss=-0.0599]\n"
     ]
    },
    {
     "name": "stdout",
     "output_type": "stream",
     "text": [
      "run_3_lp1e-03_ep1e-06_lb0.005 Epoch 90/100 | Avg Loss: -0.4338, Avg Grad Norm: 8.6192, LR: 0.000001\n",
      "Checkpoint saved at 'audiotwin_checkpoints_medium\\run_3_lp1e-03_ep1e-06_lb0.005\\audiotwin_pestlarvanet_medium_epoch_90.pth'\n"
     ]
    },
    {
     "name": "stderr",
     "output_type": "stream",
     "text": [
      "run_3_lp1e-03_ep1e-06_lb0.005 Epoch 91/100: 100%|██████| 1556/1556 [18:33<00:00,  1.40it/s, grad_norm=inf, loss=0.8500]\n"
     ]
    },
    {
     "name": "stdout",
     "output_type": "stream",
     "text": [
      "run_3_lp1e-03_ep1e-06_lb0.005 Epoch 91/100 | Avg Loss: -0.4328, Avg Grad Norm: 8.7076, LR: 0.000001\n"
     ]
    },
    {
     "name": "stderr",
     "output_type": "stream",
     "text": [
      "run_3_lp1e-03_ep1e-06_lb0.005 Epoch 92/100: 100%|██| 1556/1556 [18:33<00:00,  1.40it/s, grad_norm=8.4024, loss=-0.5415]\n"
     ]
    },
    {
     "name": "stdout",
     "output_type": "stream",
     "text": [
      "run_3_lp1e-03_ep1e-06_lb0.005 Epoch 92/100 | Avg Loss: -0.4340, Avg Grad Norm: 8.6497, LR: 0.000001\n"
     ]
    },
    {
     "name": "stderr",
     "output_type": "stream",
     "text": [
      "run_3_lp1e-03_ep1e-06_lb0.005 Epoch 93/100: 100%|██| 1556/1556 [18:18<00:00,  1.42it/s, grad_norm=23.1777, loss=0.0369]\n"
     ]
    },
    {
     "name": "stdout",
     "output_type": "stream",
     "text": [
      "run_3_lp1e-03_ep1e-06_lb0.005 Epoch 93/100 | Avg Loss: -0.4457, Avg Grad Norm: 8.4400, LR: 0.000001\n"
     ]
    },
    {
     "name": "stderr",
     "output_type": "stream",
     "text": [
      "run_3_lp1e-03_ep1e-06_lb0.005 Epoch 94/100: 100%|██| 1556/1556 [18:03<00:00,  1.44it/s, grad_norm=28.8490, loss=0.4580]\n"
     ]
    },
    {
     "name": "stdout",
     "output_type": "stream",
     "text": [
      "run_3_lp1e-03_ep1e-06_lb0.005 Epoch 94/100 | Avg Loss: -0.4226, Avg Grad Norm: 8.9773, LR: 0.000001\n"
     ]
    },
    {
     "name": "stderr",
     "output_type": "stream",
     "text": [
      "run_3_lp1e-03_ep1e-06_lb0.005 Epoch 95/100: 100%|█| 1556/1556 [18:05<00:00,  1.43it/s, grad_norm=17.5380, loss=-0.3305]\n"
     ]
    },
    {
     "name": "stdout",
     "output_type": "stream",
     "text": [
      "run_3_lp1e-03_ep1e-06_lb0.005 Epoch 95/100 | Avg Loss: -0.4410, Avg Grad Norm: 8.5736, LR: 0.000001\n",
      "Checkpoint saved at 'audiotwin_checkpoints_medium\\run_3_lp1e-03_ep1e-06_lb0.005\\audiotwin_pestlarvanet_medium_epoch_95.pth'\n"
     ]
    },
    {
     "name": "stderr",
     "output_type": "stream",
     "text": [
      "run_3_lp1e-03_ep1e-06_lb0.005 Epoch 96/100: 100%|██| 1556/1556 [18:09<00:00,  1.43it/s, grad_norm=4.5632, loss=-0.5948]\n"
     ]
    },
    {
     "name": "stdout",
     "output_type": "stream",
     "text": [
      "run_3_lp1e-03_ep1e-06_lb0.005 Epoch 96/100 | Avg Loss: -0.4429, Avg Grad Norm: 8.4329, LR: 0.000001\n"
     ]
    },
    {
     "name": "stderr",
     "output_type": "stream",
     "text": [
      "run_3_lp1e-03_ep1e-06_lb0.005 Epoch 97/100: 100%|██| 1556/1556 [18:10<00:00,  1.43it/s, grad_norm=6.6627, loss=-0.5501]\n"
     ]
    },
    {
     "name": "stdout",
     "output_type": "stream",
     "text": [
      "run_3_lp1e-03_ep1e-06_lb0.005 Epoch 97/100 | Avg Loss: -0.4508, Avg Grad Norm: 8.4350, LR: 0.000001\n"
     ]
    },
    {
     "name": "stderr",
     "output_type": "stream",
     "text": [
      "run_3_lp1e-03_ep1e-06_lb0.005 Epoch 98/100: 100%|█| 1556/1556 [18:06<00:00,  1.43it/s, grad_norm=27.9637, loss=-0.0107]\n"
     ]
    },
    {
     "name": "stdout",
     "output_type": "stream",
     "text": [
      "run_3_lp1e-03_ep1e-06_lb0.005 Epoch 98/100 | Avg Loss: -0.4297, Avg Grad Norm: 8.8347, LR: 0.000001\n"
     ]
    },
    {
     "name": "stderr",
     "output_type": "stream",
     "text": [
      "run_3_lp1e-03_ep1e-06_lb0.005 Epoch 99/100: 100%|██| 1556/1556 [18:06<00:00,  1.43it/s, grad_norm=43.1571, loss=0.3638]\n"
     ]
    },
    {
     "name": "stdout",
     "output_type": "stream",
     "text": [
      "run_3_lp1e-03_ep1e-06_lb0.005 Epoch 99/100 | Avg Loss: -0.4501, Avg Grad Norm: 8.3119, LR: 0.000001\n"
     ]
    },
    {
     "name": "stderr",
     "output_type": "stream",
     "text": [
      "run_3_lp1e-03_ep1e-06_lb0.005 Epoch 100/100: 100%|█| 1556/1556 [18:09<00:00,  1.43it/s, grad_norm=22.7671, loss=-0.0354\n"
     ]
    },
    {
     "name": "stdout",
     "output_type": "stream",
     "text": [
      "run_3_lp1e-03_ep1e-06_lb0.005 Epoch 100/100 | Avg Loss: -0.4341, Avg Grad Norm: 8.7080, LR: 0.000001\n",
      "Checkpoint saved at 'audiotwin_checkpoints_medium\\run_3_lp1e-03_ep1e-06_lb0.005\\audiotwin_pestlarvanet_medium_epoch_100.pth'\n",
      "\n",
      "Starting Pre-training with AudioTwin - run_4_lp5e-03_ep1e-06_lb0.007\n"
     ]
    },
    {
     "name": "stderr",
     "output_type": "stream",
     "text": [
      "run_4_lp5e-03_ep1e-06_lb0.007 Epoch 1/100: 100%|███| 1556/1556 [18:12<00:00,  1.42it/s, grad_norm=12.5612, loss=2.5179]\n"
     ]
    },
    {
     "name": "stdout",
     "output_type": "stream",
     "text": [
      "run_4_lp5e-03_ep1e-06_lb0.007 Epoch 1/100 | Avg Loss: 3.1635, Avg Grad Norm: 9.8210, LR: 0.000005\n"
     ]
    },
    {
     "name": "stderr",
     "output_type": "stream",
     "text": [
      "run_4_lp5e-03_ep1e-06_lb0.007 Epoch 2/100: 100%|███| 1556/1556 [18:12<00:00,  1.42it/s, grad_norm=16.2674, loss=2.8950]\n"
     ]
    },
    {
     "name": "stdout",
     "output_type": "stream",
     "text": [
      "run_4_lp5e-03_ep1e-06_lb0.007 Epoch 2/100 | Avg Loss: 2.2106, Avg Grad Norm: 7.9554, LR: 0.000005\n"
     ]
    },
    {
     "name": "stderr",
     "output_type": "stream",
     "text": [
      "run_4_lp5e-03_ep1e-06_lb0.007 Epoch 3/100: 100%|████| 1556/1556 [18:09<00:00,  1.43it/s, grad_norm=7.2500, loss=1.6377]\n"
     ]
    },
    {
     "name": "stdout",
     "output_type": "stream",
     "text": [
      "run_4_lp5e-03_ep1e-06_lb0.007 Epoch 3/100 | Avg Loss: 1.9513, Avg Grad Norm: 8.1615, LR: 0.000005\n"
     ]
    },
    {
     "name": "stderr",
     "output_type": "stream",
     "text": [
      "run_4_lp5e-03_ep1e-06_lb0.007 Epoch 4/100: 100%|███| 1556/1556 [19:36<00:00,  1.32it/s, grad_norm=18.4291, loss=2.5768]\n"
     ]
    },
    {
     "name": "stdout",
     "output_type": "stream",
     "text": [
      "run_4_lp5e-03_ep1e-06_lb0.007 Epoch 4/100 | Avg Loss: 1.7908, Avg Grad Norm: 8.5114, LR: 0.000005\n"
     ]
    },
    {
     "name": "stderr",
     "output_type": "stream",
     "text": [
      "run_4_lp5e-03_ep1e-06_lb0.007 Epoch 5/100: 100%|███| 1556/1556 [22:03<00:00,  1.18it/s, grad_norm=14.5325, loss=1.7916]\n"
     ]
    },
    {
     "name": "stdout",
     "output_type": "stream",
     "text": [
      "run_4_lp5e-03_ep1e-06_lb0.007 Epoch 5/100 | Avg Loss: 1.6936, Avg Grad Norm: 8.9932, LR: 0.000005\n",
      "Checkpoint saved at 'audiotwin_checkpoints_medium\\run_4_lp5e-03_ep1e-06_lb0.007\\audiotwin_pestlarvanet_medium_epoch_5.pth'\n"
     ]
    },
    {
     "name": "stderr",
     "output_type": "stream",
     "text": [
      "run_4_lp5e-03_ep1e-06_lb0.007 Epoch 6/100: 100%|███████| 1556/1556 [18:10<00:00,  1.43it/s, grad_norm=inf, loss=3.6787]\n"
     ]
    },
    {
     "name": "stdout",
     "output_type": "stream",
     "text": [
      "run_4_lp5e-03_ep1e-06_lb0.007 Epoch 6/100 | Avg Loss: 1.6227, Avg Grad Norm: 9.2561, LR: 0.000005\n"
     ]
    },
    {
     "name": "stderr",
     "output_type": "stream",
     "text": [
      "run_4_lp5e-03_ep1e-06_lb0.007 Epoch 7/100: 100%|███| 1556/1556 [22:37<00:00,  1.15it/s, grad_norm=11.1971, loss=1.7711]\n"
     ]
    },
    {
     "name": "stdout",
     "output_type": "stream",
     "text": [
      "run_4_lp5e-03_ep1e-06_lb0.007 Epoch 7/100 | Avg Loss: 1.5234, Avg Grad Norm: 9.3530, LR: 0.000005\n"
     ]
    },
    {
     "name": "stderr",
     "output_type": "stream",
     "text": [
      "run_4_lp5e-03_ep1e-06_lb0.007 Epoch 8/100: 100%|███| 1556/1556 [19:01<00:00,  1.36it/s, grad_norm=15.7119, loss=1.9609]\n"
     ]
    },
    {
     "name": "stdout",
     "output_type": "stream",
     "text": [
      "run_4_lp5e-03_ep1e-06_lb0.007 Epoch 8/100 | Avg Loss: 1.4842, Avg Grad Norm: 9.6949, LR: 0.000005\n"
     ]
    },
    {
     "name": "stderr",
     "output_type": "stream",
     "text": [
      "run_4_lp5e-03_ep1e-06_lb0.007 Epoch 9/100: 100%|███| 1556/1556 [18:11<00:00,  1.43it/s, grad_norm=16.1918, loss=1.7584]\n"
     ]
    },
    {
     "name": "stdout",
     "output_type": "stream",
     "text": [
      "run_4_lp5e-03_ep1e-06_lb0.007 Epoch 9/100 | Avg Loss: 1.4405, Avg Grad Norm: 10.0150, LR: 0.000005\n"
     ]
    },
    {
     "name": "stderr",
     "output_type": "stream",
     "text": [
      "run_4_lp5e-03_ep1e-06_lb0.007 Epoch 10/100: 100%|██████| 1556/1556 [18:12<00:00,  1.42it/s, grad_norm=inf, loss=2.9765]\n"
     ]
    },
    {
     "name": "stdout",
     "output_type": "stream",
     "text": [
      "run_4_lp5e-03_ep1e-06_lb0.007 Epoch 10/100 | Avg Loss: 1.4077, Avg Grad Norm: 10.3979, LR: 0.000005\n",
      "Checkpoint saved at 'audiotwin_checkpoints_medium\\run_4_lp5e-03_ep1e-06_lb0.007\\audiotwin_pestlarvanet_medium_epoch_10.pth'\n"
     ]
    },
    {
     "name": "stderr",
     "output_type": "stream",
     "text": [
      "run_4_lp5e-03_ep1e-06_lb0.007 Epoch 11/100: 100%|██| 1556/1556 [18:09<00:00,  1.43it/s, grad_norm=12.6166, loss=1.4354]\n"
     ]
    },
    {
     "name": "stdout",
     "output_type": "stream",
     "text": [
      "run_4_lp5e-03_ep1e-06_lb0.007 Epoch 11/100 | Avg Loss: 1.3520, Avg Grad Norm: 10.4704, LR: 0.000005\n"
     ]
    },
    {
     "name": "stderr",
     "output_type": "stream",
     "text": [
      "run_4_lp5e-03_ep1e-06_lb0.007 Epoch 12/100: 100%|██| 1556/1556 [18:12<00:00,  1.42it/s, grad_norm=20.8558, loss=1.9383]\n"
     ]
    },
    {
     "name": "stdout",
     "output_type": "stream",
     "text": [
      "run_4_lp5e-03_ep1e-06_lb0.007 Epoch 12/100 | Avg Loss: 1.3389, Avg Grad Norm: 10.7660, LR: 0.000005\n"
     ]
    },
    {
     "name": "stderr",
     "output_type": "stream",
     "text": [
      "run_4_lp5e-03_ep1e-06_lb0.007 Epoch 13/100: 100%|██| 1556/1556 [18:12<00:00,  1.42it/s, grad_norm=23.9727, loss=2.1974]\n"
     ]
    },
    {
     "name": "stdout",
     "output_type": "stream",
     "text": [
      "run_4_lp5e-03_ep1e-06_lb0.007 Epoch 13/100 | Avg Loss: 1.3090, Avg Grad Norm: 11.1363, LR: 0.000005\n"
     ]
    },
    {
     "name": "stderr",
     "output_type": "stream",
     "text": [
      "run_4_lp5e-03_ep1e-06_lb0.007 Epoch 14/100: 100%|██| 1556/1556 [18:15<00:00,  1.42it/s, grad_norm=19.5540, loss=1.8255]\n"
     ]
    },
    {
     "name": "stdout",
     "output_type": "stream",
     "text": [
      "run_4_lp5e-03_ep1e-06_lb0.007 Epoch 14/100 | Avg Loss: 1.2810, Avg Grad Norm: 11.0043, LR: 0.000005\n"
     ]
    },
    {
     "name": "stderr",
     "output_type": "stream",
     "text": [
      "run_4_lp5e-03_ep1e-06_lb0.007 Epoch 15/100: 100%|██| 1556/1556 [18:13<00:00,  1.42it/s, grad_norm=30.5629, loss=2.2199]\n"
     ]
    },
    {
     "name": "stdout",
     "output_type": "stream",
     "text": [
      "run_4_lp5e-03_ep1e-06_lb0.007 Epoch 15/100 | Avg Loss: 1.2383, Avg Grad Norm: 11.1053, LR: 0.000005\n",
      "Checkpoint saved at 'audiotwin_checkpoints_medium\\run_4_lp5e-03_ep1e-06_lb0.007\\audiotwin_pestlarvanet_medium_epoch_15.pth'\n"
     ]
    },
    {
     "name": "stderr",
     "output_type": "stream",
     "text": [
      "run_4_lp5e-03_ep1e-06_lb0.007 Epoch 16/100: 100%|███| 1556/1556 [18:11<00:00,  1.42it/s, grad_norm=6.4916, loss=0.8971]\n"
     ]
    },
    {
     "name": "stdout",
     "output_type": "stream",
     "text": [
      "run_4_lp5e-03_ep1e-06_lb0.007 Epoch 16/100 | Avg Loss: 1.2321, Avg Grad Norm: 11.1915, LR: 0.000005\n"
     ]
    },
    {
     "name": "stderr",
     "output_type": "stream",
     "text": [
      "run_4_lp5e-03_ep1e-06_lb0.007 Epoch 17/100: 100%|██| 1556/1556 [18:11<00:00,  1.43it/s, grad_norm=40.6770, loss=3.3669]\n"
     ]
    },
    {
     "name": "stdout",
     "output_type": "stream",
     "text": [
      "run_4_lp5e-03_ep1e-06_lb0.007 Epoch 17/100 | Avg Loss: 1.2274, Avg Grad Norm: 11.3361, LR: 0.000005\n"
     ]
    },
    {
     "name": "stderr",
     "output_type": "stream",
     "text": [
      "run_4_lp5e-03_ep1e-06_lb0.007 Epoch 18/100: 100%|███| 1556/1556 [18:13<00:00,  1.42it/s, grad_norm=4.2112, loss=0.7444]\n"
     ]
    },
    {
     "name": "stdout",
     "output_type": "stream",
     "text": [
      "run_4_lp5e-03_ep1e-06_lb0.007 Epoch 18/100 | Avg Loss: 1.1905, Avg Grad Norm: 11.2584, LR: 0.000005\n"
     ]
    },
    {
     "name": "stderr",
     "output_type": "stream",
     "text": [
      "run_4_lp5e-03_ep1e-06_lb0.007 Epoch 19/100: 100%|███| 1556/1556 [18:09<00:00,  1.43it/s, grad_norm=7.5296, loss=1.1245]\n"
     ]
    },
    {
     "name": "stdout",
     "output_type": "stream",
     "text": [
      "run_4_lp5e-03_ep1e-06_lb0.007 Epoch 19/100 | Avg Loss: 1.1798, Avg Grad Norm: 11.2649, LR: 0.000005\n"
     ]
    },
    {
     "name": "stderr",
     "output_type": "stream",
     "text": [
      "run_4_lp5e-03_ep1e-06_lb0.007 Epoch 20/100: 100%|██| 1556/1556 [18:08<00:00,  1.43it/s, grad_norm=24.2008, loss=1.8506]\n"
     ]
    },
    {
     "name": "stdout",
     "output_type": "stream",
     "text": [
      "run_4_lp5e-03_ep1e-06_lb0.007 Epoch 20/100 | Avg Loss: 1.1905, Avg Grad Norm: 11.7913, LR: 0.000005\n",
      "Checkpoint saved at 'audiotwin_checkpoints_medium\\run_4_lp5e-03_ep1e-06_lb0.007\\audiotwin_pestlarvanet_medium_epoch_20.pth'\n"
     ]
    },
    {
     "name": "stderr",
     "output_type": "stream",
     "text": [
      "run_4_lp5e-03_ep1e-06_lb0.007 Epoch 21/100: 100%|██| 1556/1556 [18:09<00:00,  1.43it/s, grad_norm=35.3435, loss=2.5506]\n"
     ]
    },
    {
     "name": "stdout",
     "output_type": "stream",
     "text": [
      "run_4_lp5e-03_ep1e-06_lb0.007 Epoch 21/100 | Avg Loss: 1.1723, Avg Grad Norm: 11.6781, LR: 0.000005\n"
     ]
    },
    {
     "name": "stderr",
     "output_type": "stream",
     "text": [
      "run_4_lp5e-03_ep1e-06_lb0.007 Epoch 22/100: 100%|██| 1556/1556 [18:05<00:00,  1.43it/s, grad_norm=11.2658, loss=1.3931]\n"
     ]
    },
    {
     "name": "stdout",
     "output_type": "stream",
     "text": [
      "run_4_lp5e-03_ep1e-06_lb0.007 Epoch 22/100 | Avg Loss: 1.1557, Avg Grad Norm: 11.6330, LR: 0.000005\n"
     ]
    },
    {
     "name": "stderr",
     "output_type": "stream",
     "text": [
      "run_4_lp5e-03_ep1e-06_lb0.007 Epoch 23/100: 100%|███| 1556/1556 [18:12<00:00,  1.42it/s, grad_norm=8.6460, loss=1.3875]\n"
     ]
    },
    {
     "name": "stdout",
     "output_type": "stream",
     "text": [
      "run_4_lp5e-03_ep1e-06_lb0.007 Epoch 23/100 | Avg Loss: 1.1493, Avg Grad Norm: 11.8275, LR: 0.000005\n"
     ]
    },
    {
     "name": "stderr",
     "output_type": "stream",
     "text": [
      "run_4_lp5e-03_ep1e-06_lb0.007 Epoch 24/100: 100%|██| 1556/1556 [18:11<00:00,  1.42it/s, grad_norm=49.9219, loss=4.5245]\n"
     ]
    },
    {
     "name": "stdout",
     "output_type": "stream",
     "text": [
      "run_4_lp5e-03_ep1e-06_lb0.007 Epoch 24/100 | Avg Loss: 1.1451, Avg Grad Norm: 11.6789, LR: 0.000005\n"
     ]
    },
    {
     "name": "stderr",
     "output_type": "stream",
     "text": [
      "run_4_lp5e-03_ep1e-06_lb0.007 Epoch 25/100: 100%|███| 1556/1556 [18:13<00:00,  1.42it/s, grad_norm=7.6099, loss=1.1415]\n"
     ]
    },
    {
     "name": "stdout",
     "output_type": "stream",
     "text": [
      "run_4_lp5e-03_ep1e-06_lb0.007 Epoch 25/100 | Avg Loss: 1.1340, Avg Grad Norm: 11.8844, LR: 0.000005\n",
      "Checkpoint saved at 'audiotwin_checkpoints_medium\\run_4_lp5e-03_ep1e-06_lb0.007\\audiotwin_pestlarvanet_medium_epoch_25.pth'\n"
     ]
    },
    {
     "name": "stderr",
     "output_type": "stream",
     "text": [
      "run_4_lp5e-03_ep1e-06_lb0.007 Epoch 26/100: 100%|██| 1556/1556 [18:06<00:00,  1.43it/s, grad_norm=25.4112, loss=1.9269]\n"
     ]
    },
    {
     "name": "stdout",
     "output_type": "stream",
     "text": [
      "run_4_lp5e-03_ep1e-06_lb0.007 Epoch 26/100 | Avg Loss: 1.0987, Avg Grad Norm: 11.5540, LR: 0.000005\n"
     ]
    },
    {
     "name": "stderr",
     "output_type": "stream",
     "text": [
      "run_4_lp5e-03_ep1e-06_lb0.007 Epoch 27/100: 100%|██| 1556/1556 [18:13<00:00,  1.42it/s, grad_norm=20.5881, loss=1.5940]\n"
     ]
    },
    {
     "name": "stdout",
     "output_type": "stream",
     "text": [
      "run_4_lp5e-03_ep1e-06_lb0.007 Epoch 27/100 | Avg Loss: 1.0857, Avg Grad Norm: 11.6399, LR: 0.000005\n"
     ]
    },
    {
     "name": "stderr",
     "output_type": "stream",
     "text": [
      "run_4_lp5e-03_ep1e-06_lb0.007 Epoch 28/100: 100%|██| 1556/1556 [18:09<00:00,  1.43it/s, grad_norm=15.0195, loss=1.2563]\n"
     ]
    },
    {
     "name": "stdout",
     "output_type": "stream",
     "text": [
      "run_4_lp5e-03_ep1e-06_lb0.007 Epoch 28/100 | Avg Loss: 1.0924, Avg Grad Norm: 11.8691, LR: 0.000005\n"
     ]
    },
    {
     "name": "stderr",
     "output_type": "stream",
     "text": [
      "run_4_lp5e-03_ep1e-06_lb0.007 Epoch 29/100: 100%|██| 1556/1556 [18:08<00:00,  1.43it/s, grad_norm=46.1740, loss=1.8365]\n"
     ]
    },
    {
     "name": "stdout",
     "output_type": "stream",
     "text": [
      "run_4_lp5e-03_ep1e-06_lb0.007 Epoch 29/100 | Avg Loss: 1.0857, Avg Grad Norm: 11.8960, LR: 0.000005\n"
     ]
    },
    {
     "name": "stderr",
     "output_type": "stream",
     "text": [
      "run_4_lp5e-03_ep1e-06_lb0.007 Epoch 30/100: 100%|██| 1556/1556 [18:03<00:00,  1.44it/s, grad_norm=21.2019, loss=1.6688]\n"
     ]
    },
    {
     "name": "stdout",
     "output_type": "stream",
     "text": [
      "run_4_lp5e-03_ep1e-06_lb0.007 Epoch 30/100 | Avg Loss: 1.1088, Avg Grad Norm: 12.1527, LR: 0.000005\n",
      "Checkpoint saved at 'audiotwin_checkpoints_medium\\run_4_lp5e-03_ep1e-06_lb0.007\\audiotwin_pestlarvanet_medium_epoch_30.pth'\n"
     ]
    },
    {
     "name": "stderr",
     "output_type": "stream",
     "text": [
      "run_4_lp5e-03_ep1e-06_lb0.007 Epoch 31/100: 100%|██| 1556/1556 [18:21<00:00,  1.41it/s, grad_norm=16.4317, loss=1.4499]\n"
     ]
    },
    {
     "name": "stdout",
     "output_type": "stream",
     "text": [
      "run_4_lp5e-03_ep1e-06_lb0.007 Epoch 31/100 | Avg Loss: 1.0744, Avg Grad Norm: 11.9761, LR: 0.000005\n"
     ]
    },
    {
     "name": "stderr",
     "output_type": "stream",
     "text": [
      "run_4_lp5e-03_ep1e-06_lb0.007 Epoch 32/100: 100%|██| 1556/1556 [18:44<00:00,  1.38it/s, grad_norm=36.8746, loss=1.9076]\n"
     ]
    },
    {
     "name": "stdout",
     "output_type": "stream",
     "text": [
      "run_4_lp5e-03_ep1e-06_lb0.007 Epoch 32/100 | Avg Loss: 1.0564, Avg Grad Norm: 11.8374, LR: 0.000005\n"
     ]
    },
    {
     "name": "stderr",
     "output_type": "stream",
     "text": [
      "run_4_lp5e-03_ep1e-06_lb0.007 Epoch 33/100: 100%|██| 1556/1556 [18:50<00:00,  1.38it/s, grad_norm=76.1273, loss=2.3135]\n"
     ]
    },
    {
     "name": "stdout",
     "output_type": "stream",
     "text": [
      "run_4_lp5e-03_ep1e-06_lb0.007 Epoch 33/100 | Avg Loss: 1.0586, Avg Grad Norm: 12.1159, LR: 0.000005\n"
     ]
    },
    {
     "name": "stderr",
     "output_type": "stream",
     "text": [
      "run_4_lp5e-03_ep1e-06_lb0.007 Epoch 34/100: 100%|██| 1556/1556 [18:52<00:00,  1.37it/s, grad_norm=32.1560, loss=1.7114]\n"
     ]
    },
    {
     "name": "stdout",
     "output_type": "stream",
     "text": [
      "run_4_lp5e-03_ep1e-06_lb0.007 Epoch 34/100 | Avg Loss: 1.0537, Avg Grad Norm: 12.0609, LR: 0.000005\n"
     ]
    },
    {
     "name": "stderr",
     "output_type": "stream",
     "text": [
      "run_4_lp5e-03_ep1e-06_lb0.007 Epoch 35/100: 100%|███| 1556/1556 [18:53<00:00,  1.37it/s, grad_norm=8.6617, loss=1.2526]\n"
     ]
    },
    {
     "name": "stdout",
     "output_type": "stream",
     "text": [
      "run_4_lp5e-03_ep1e-06_lb0.007 Epoch 35/100 | Avg Loss: 1.0433, Avg Grad Norm: 11.9030, LR: 0.000005\n",
      "Checkpoint saved at 'audiotwin_checkpoints_medium\\run_4_lp5e-03_ep1e-06_lb0.007\\audiotwin_pestlarvanet_medium_epoch_35.pth'\n"
     ]
    },
    {
     "name": "stderr",
     "output_type": "stream",
     "text": [
      "run_4_lp5e-03_ep1e-06_lb0.007 Epoch 36/100: 100%|██| 1556/1556 [18:57<00:00,  1.37it/s, grad_norm=12.6951, loss=1.1742]\n"
     ]
    },
    {
     "name": "stdout",
     "output_type": "stream",
     "text": [
      "run_4_lp5e-03_ep1e-06_lb0.007 Epoch 36/100 | Avg Loss: 1.0447, Avg Grad Norm: 12.1958, LR: 0.000005\n"
     ]
    },
    {
     "name": "stderr",
     "output_type": "stream",
     "text": [
      "run_4_lp5e-03_ep1e-06_lb0.007 Epoch 37/100: 100%|██| 1556/1556 [18:50<00:00,  1.38it/s, grad_norm=31.8775, loss=1.6562]\n"
     ]
    },
    {
     "name": "stdout",
     "output_type": "stream",
     "text": [
      "run_4_lp5e-03_ep1e-06_lb0.007 Epoch 37/100 | Avg Loss: 1.0297, Avg Grad Norm: 11.9937, LR: 0.000005\n"
     ]
    },
    {
     "name": "stderr",
     "output_type": "stream",
     "text": [
      "run_4_lp5e-03_ep1e-06_lb0.007 Epoch 38/100: 100%|██| 1556/1556 [19:10<00:00,  1.35it/s, grad_norm=14.0261, loss=1.1103]\n"
     ]
    },
    {
     "name": "stdout",
     "output_type": "stream",
     "text": [
      "run_4_lp5e-03_ep1e-06_lb0.007 Epoch 38/100 | Avg Loss: 1.0361, Avg Grad Norm: 12.1401, LR: 0.000005\n"
     ]
    },
    {
     "name": "stderr",
     "output_type": "stream",
     "text": [
      "run_4_lp5e-03_ep1e-06_lb0.007 Epoch 39/100: 100%|██| 1556/1556 [19:05<00:00,  1.36it/s, grad_norm=99.0965, loss=2.9127]\n"
     ]
    },
    {
     "name": "stdout",
     "output_type": "stream",
     "text": [
      "run_4_lp5e-03_ep1e-06_lb0.007 Epoch 39/100 | Avg Loss: 1.0243, Avg Grad Norm: 12.1204, LR: 0.000005\n"
     ]
    },
    {
     "name": "stderr",
     "output_type": "stream",
     "text": [
      "run_4_lp5e-03_ep1e-06_lb0.007 Epoch 40/100: 100%|██| 1556/1556 [18:18<00:00,  1.42it/s, grad_norm=59.1740, loss=2.8643]\n"
     ]
    },
    {
     "name": "stdout",
     "output_type": "stream",
     "text": [
      "run_4_lp5e-03_ep1e-06_lb0.007 Epoch 40/100 | Avg Loss: 1.0169, Avg Grad Norm: 12.0329, LR: 0.000005\n",
      "Checkpoint saved at 'audiotwin_checkpoints_medium\\run_4_lp5e-03_ep1e-06_lb0.007\\audiotwin_pestlarvanet_medium_epoch_40.pth'\n"
     ]
    },
    {
     "name": "stderr",
     "output_type": "stream",
     "text": [
      "run_4_lp5e-03_ep1e-06_lb0.007 Epoch 41/100: 100%|██| 1556/1556 [18:14<00:00,  1.42it/s, grad_norm=52.5308, loss=2.1465]\n"
     ]
    },
    {
     "name": "stdout",
     "output_type": "stream",
     "text": [
      "run_4_lp5e-03_ep1e-06_lb0.007 Epoch 41/100 | Avg Loss: 1.0157, Avg Grad Norm: 12.3215, LR: 0.000005\n"
     ]
    },
    {
     "name": "stderr",
     "output_type": "stream",
     "text": [
      "run_4_lp5e-03_ep1e-06_lb0.007 Epoch 42/100: 100%|██| 1556/1556 [18:04<00:00,  1.43it/s, grad_norm=13.6525, loss=0.8850]\n"
     ]
    },
    {
     "name": "stdout",
     "output_type": "stream",
     "text": [
      "run_4_lp5e-03_ep1e-06_lb0.007 Epoch 42/100 | Avg Loss: 1.0070, Avg Grad Norm: 12.1671, LR: 0.000005\n"
     ]
    },
    {
     "name": "stderr",
     "output_type": "stream",
     "text": [
      "run_4_lp5e-03_ep1e-06_lb0.007 Epoch 43/100: 100%|██| 1556/1556 [18:04<00:00,  1.43it/s, grad_norm=59.4494, loss=3.7578]\n"
     ]
    },
    {
     "name": "stdout",
     "output_type": "stream",
     "text": [
      "run_4_lp5e-03_ep1e-06_lb0.007 Epoch 43/100 | Avg Loss: 1.0046, Avg Grad Norm: 12.2354, LR: 0.000005\n"
     ]
    },
    {
     "name": "stderr",
     "output_type": "stream",
     "text": [
      "run_4_lp5e-03_ep1e-06_lb0.007 Epoch 44/100: 100%|██| 1556/1556 [18:04<00:00,  1.43it/s, grad_norm=15.9224, loss=1.0319]\n"
     ]
    },
    {
     "name": "stdout",
     "output_type": "stream",
     "text": [
      "run_4_lp5e-03_ep1e-06_lb0.007 Epoch 44/100 | Avg Loss: 0.9907, Avg Grad Norm: 12.1994, LR: 0.000005\n"
     ]
    },
    {
     "name": "stderr",
     "output_type": "stream",
     "text": [
      "run_4_lp5e-03_ep1e-06_lb0.007 Epoch 45/100: 100%|██| 1556/1556 [18:02<00:00,  1.44it/s, grad_norm=33.0986, loss=1.3435]\n"
     ]
    },
    {
     "name": "stdout",
     "output_type": "stream",
     "text": [
      "run_4_lp5e-03_ep1e-06_lb0.007 Epoch 45/100 | Avg Loss: 0.9937, Avg Grad Norm: 12.2286, LR: 0.000005\n",
      "Checkpoint saved at 'audiotwin_checkpoints_medium\\run_4_lp5e-03_ep1e-06_lb0.007\\audiotwin_pestlarvanet_medium_epoch_45.pth'\n"
     ]
    },
    {
     "name": "stderr",
     "output_type": "stream",
     "text": [
      "run_4_lp5e-03_ep1e-06_lb0.007 Epoch 46/100: 100%|███| 1556/1556 [18:04<00:00,  1.44it/s, grad_norm=9.5415, loss=1.2148]\n"
     ]
    },
    {
     "name": "stdout",
     "output_type": "stream",
     "text": [
      "run_4_lp5e-03_ep1e-06_lb0.007 Epoch 46/100 | Avg Loss: 0.9864, Avg Grad Norm: 12.0963, LR: 0.000005\n"
     ]
    },
    {
     "name": "stderr",
     "output_type": "stream",
     "text": [
      "run_4_lp5e-03_ep1e-06_lb0.007 Epoch 47/100: 100%|██| 1556/1556 [18:03<00:00,  1.44it/s, grad_norm=37.7850, loss=1.5740]\n"
     ]
    },
    {
     "name": "stdout",
     "output_type": "stream",
     "text": [
      "run_4_lp5e-03_ep1e-06_lb0.007 Epoch 47/100 | Avg Loss: 0.9723, Avg Grad Norm: 12.4650, LR: 0.000005\n"
     ]
    },
    {
     "name": "stderr",
     "output_type": "stream",
     "text": [
      "run_4_lp5e-03_ep1e-06_lb0.007 Epoch 48/100: 100%|███| 1556/1556 [18:04<00:00,  1.43it/s, grad_norm=9.3668, loss=0.7176]\n"
     ]
    },
    {
     "name": "stdout",
     "output_type": "stream",
     "text": [
      "run_4_lp5e-03_ep1e-06_lb0.007 Epoch 48/100 | Avg Loss: 0.9990, Avg Grad Norm: 12.7216, LR: 0.000005\n"
     ]
    },
    {
     "name": "stderr",
     "output_type": "stream",
     "text": [
      "run_4_lp5e-03_ep1e-06_lb0.007 Epoch 49/100: 100%|██| 1556/1556 [18:03<00:00,  1.44it/s, grad_norm=70.4193, loss=3.1434]\n"
     ]
    },
    {
     "name": "stdout",
     "output_type": "stream",
     "text": [
      "run_4_lp5e-03_ep1e-06_lb0.007 Epoch 49/100 | Avg Loss: 0.9850, Avg Grad Norm: 12.4365, LR: 0.000005\n"
     ]
    },
    {
     "name": "stderr",
     "output_type": "stream",
     "text": [
      "run_4_lp5e-03_ep1e-06_lb0.007 Epoch 50/100: 100%|██| 1556/1556 [18:03<00:00,  1.44it/s, grad_norm=31.0247, loss=1.7977]\n"
     ]
    },
    {
     "name": "stdout",
     "output_type": "stream",
     "text": [
      "run_4_lp5e-03_ep1e-06_lb0.007 Epoch 50/100 | Avg Loss: 0.9824, Avg Grad Norm: 12.3652, LR: 0.000005\n",
      "Checkpoint saved at 'audiotwin_checkpoints_medium\\run_4_lp5e-03_ep1e-06_lb0.007\\audiotwin_pestlarvanet_medium_epoch_50.pth'\n"
     ]
    },
    {
     "name": "stderr",
     "output_type": "stream",
     "text": [
      "run_4_lp5e-03_ep1e-06_lb0.007 Epoch 51/100: 100%|██| 1556/1556 [18:02<00:00,  1.44it/s, grad_norm=16.8206, loss=1.6451]\n"
     ]
    },
    {
     "name": "stdout",
     "output_type": "stream",
     "text": [
      "run_4_lp5e-03_ep1e-06_lb0.007 Epoch 51/100 | Avg Loss: 0.9791, Avg Grad Norm: 12.5075, LR: 0.000005\n"
     ]
    },
    {
     "name": "stderr",
     "output_type": "stream",
     "text": [
      "run_4_lp5e-03_ep1e-06_lb0.007 Epoch 52/100: 100%|██| 1556/1556 [18:04<00:00,  1.44it/s, grad_norm=52.1303, loss=2.3031]\n"
     ]
    },
    {
     "name": "stdout",
     "output_type": "stream",
     "text": [
      "run_4_lp5e-03_ep1e-06_lb0.007 Epoch 52/100 | Avg Loss: 0.9695, Avg Grad Norm: 12.4531, LR: 0.000005\n"
     ]
    },
    {
     "name": "stderr",
     "output_type": "stream",
     "text": [
      "run_4_lp5e-03_ep1e-06_lb0.007 Epoch 53/100: 100%|██| 1556/1556 [18:03<00:00,  1.44it/s, grad_norm=33.8134, loss=1.8742]\n"
     ]
    },
    {
     "name": "stdout",
     "output_type": "stream",
     "text": [
      "run_4_lp5e-03_ep1e-06_lb0.007 Epoch 53/100 | Avg Loss: 0.9620, Avg Grad Norm: 12.2056, LR: 0.000005\n"
     ]
    },
    {
     "name": "stderr",
     "output_type": "stream",
     "text": [
      "run_4_lp5e-03_ep1e-06_lb0.007 Epoch 54/100: 100%|██| 1556/1556 [18:04<00:00,  1.44it/s, grad_norm=39.8313, loss=1.2792]\n"
     ]
    },
    {
     "name": "stdout",
     "output_type": "stream",
     "text": [
      "run_4_lp5e-03_ep1e-06_lb0.007 Epoch 54/100 | Avg Loss: 0.9495, Avg Grad Norm: 12.3652, LR: 0.000005\n"
     ]
    },
    {
     "name": "stderr",
     "output_type": "stream",
     "text": [
      "run_4_lp5e-03_ep1e-06_lb0.007 Epoch 55/100: 100%|██| 1556/1556 [18:02<00:00,  1.44it/s, grad_norm=16.5609, loss=1.6151]\n"
     ]
    },
    {
     "name": "stdout",
     "output_type": "stream",
     "text": [
      "run_4_lp5e-03_ep1e-06_lb0.007 Epoch 55/100 | Avg Loss: 0.9549, Avg Grad Norm: 12.3854, LR: 0.000005\n",
      "Checkpoint saved at 'audiotwin_checkpoints_medium\\run_4_lp5e-03_ep1e-06_lb0.007\\audiotwin_pestlarvanet_medium_epoch_55.pth'\n"
     ]
    },
    {
     "name": "stderr",
     "output_type": "stream",
     "text": [
      "run_4_lp5e-03_ep1e-06_lb0.007 Epoch 56/100: 100%|██| 1556/1556 [18:04<00:00,  1.44it/s, grad_norm=12.8760, loss=0.9602]\n"
     ]
    },
    {
     "name": "stdout",
     "output_type": "stream",
     "text": [
      "run_4_lp5e-03_ep1e-06_lb0.007 Epoch 56/100 | Avg Loss: 0.9621, Avg Grad Norm: 12.7319, LR: 0.000005\n"
     ]
    },
    {
     "name": "stderr",
     "output_type": "stream",
     "text": [
      "run_4_lp5e-03_ep1e-06_lb0.007 Epoch 57/100: 100%|██| 1556/1556 [18:04<00:00,  1.43it/s, grad_norm=20.8556, loss=0.9636]\n"
     ]
    },
    {
     "name": "stdout",
     "output_type": "stream",
     "text": [
      "run_4_lp5e-03_ep1e-06_lb0.007 Epoch 57/100 | Avg Loss: 0.9452, Avg Grad Norm: 12.4225, LR: 0.000005\n"
     ]
    },
    {
     "name": "stderr",
     "output_type": "stream",
     "text": [
      "run_4_lp5e-03_ep1e-06_lb0.007 Epoch 58/100: 100%|██| 1556/1556 [18:03<00:00,  1.44it/s, grad_norm=10.1667, loss=0.9285]\n"
     ]
    },
    {
     "name": "stdout",
     "output_type": "stream",
     "text": [
      "run_4_lp5e-03_ep1e-06_lb0.007 Epoch 58/100 | Avg Loss: 0.9437, Avg Grad Norm: 12.8440, LR: 0.000005\n"
     ]
    },
    {
     "name": "stderr",
     "output_type": "stream",
     "text": [
      "run_4_lp5e-03_ep1e-06_lb0.007 Epoch 59/100: 100%|██| 1556/1556 [18:04<00:00,  1.44it/s, grad_norm=39.0947, loss=1.7118]\n"
     ]
    },
    {
     "name": "stdout",
     "output_type": "stream",
     "text": [
      "run_4_lp5e-03_ep1e-06_lb0.007 Epoch 59/100 | Avg Loss: 0.9421, Avg Grad Norm: 12.8198, LR: 0.000005\n"
     ]
    },
    {
     "name": "stderr",
     "output_type": "stream",
     "text": [
      "run_4_lp5e-03_ep1e-06_lb0.007 Epoch 60/100: 100%|██| 1556/1556 [20:35<00:00,  1.26it/s, grad_norm=36.8170, loss=1.8110]\n"
     ]
    },
    {
     "name": "stdout",
     "output_type": "stream",
     "text": [
      "run_4_lp5e-03_ep1e-06_lb0.007 Epoch 60/100 | Avg Loss: 0.9432, Avg Grad Norm: 13.0069, LR: 0.000005\n",
      "Checkpoint saved at 'audiotwin_checkpoints_medium\\run_4_lp5e-03_ep1e-06_lb0.007\\audiotwin_pestlarvanet_medium_epoch_60.pth'\n"
     ]
    },
    {
     "name": "stderr",
     "output_type": "stream",
     "text": [
      "run_4_lp5e-03_ep1e-06_lb0.007 Epoch 61/100: 100%|██| 1556/1556 [20:35<00:00,  1.26it/s, grad_norm=42.8249, loss=2.1305]\n"
     ]
    },
    {
     "name": "stdout",
     "output_type": "stream",
     "text": [
      "run_4_lp5e-03_ep1e-06_lb0.007 Epoch 61/100 | Avg Loss: 0.9280, Avg Grad Norm: 12.9645, LR: 0.000005\n"
     ]
    },
    {
     "name": "stderr",
     "output_type": "stream",
     "text": [
      "run_4_lp5e-03_ep1e-06_lb0.007 Epoch 62/100: 100%|██| 1556/1556 [18:03<00:00,  1.44it/s, grad_norm=38.7206, loss=1.1384]\n"
     ]
    },
    {
     "name": "stdout",
     "output_type": "stream",
     "text": [
      "run_4_lp5e-03_ep1e-06_lb0.007 Epoch 62/100 | Avg Loss: 0.9498, Avg Grad Norm: 13.3254, LR: 0.000005\n"
     ]
    },
    {
     "name": "stderr",
     "output_type": "stream",
     "text": [
      "run_4_lp5e-03_ep1e-06_lb0.007 Epoch 63/100: 100%|██| 1556/1556 [18:02<00:00,  1.44it/s, grad_norm=43.5904, loss=2.1847]\n"
     ]
    },
    {
     "name": "stdout",
     "output_type": "stream",
     "text": [
      "run_4_lp5e-03_ep1e-06_lb0.007 Epoch 63/100 | Avg Loss: 0.9257, Avg Grad Norm: 13.2318, LR: 0.000005\n"
     ]
    },
    {
     "name": "stderr",
     "output_type": "stream",
     "text": [
      "run_4_lp5e-03_ep1e-06_lb0.007 Epoch 64/100: 100%|██| 1556/1556 [18:02<00:00,  1.44it/s, grad_norm=12.4129, loss=1.0880]\n"
     ]
    },
    {
     "name": "stdout",
     "output_type": "stream",
     "text": [
      "run_4_lp5e-03_ep1e-06_lb0.007 Epoch 64/100 | Avg Loss: 0.9362, Avg Grad Norm: 13.5836, LR: 0.000005\n"
     ]
    },
    {
     "name": "stderr",
     "output_type": "stream",
     "text": [
      "run_4_lp5e-03_ep1e-06_lb0.007 Epoch 65/100: 100%|██| 1556/1556 [18:03<00:00,  1.44it/s, grad_norm=19.0385, loss=1.2979]\n"
     ]
    },
    {
     "name": "stdout",
     "output_type": "stream",
     "text": [
      "run_4_lp5e-03_ep1e-06_lb0.007 Epoch 65/100 | Avg Loss: 0.9265, Avg Grad Norm: 13.6470, LR: 0.000005\n",
      "Checkpoint saved at 'audiotwin_checkpoints_medium\\run_4_lp5e-03_ep1e-06_lb0.007\\audiotwin_pestlarvanet_medium_epoch_65.pth'\n"
     ]
    },
    {
     "name": "stderr",
     "output_type": "stream",
     "text": [
      "run_4_lp5e-03_ep1e-06_lb0.007 Epoch 66/100: 100%|██| 1556/1556 [18:03<00:00,  1.44it/s, grad_norm=29.4674, loss=1.5236]\n"
     ]
    },
    {
     "name": "stdout",
     "output_type": "stream",
     "text": [
      "run_4_lp5e-03_ep1e-06_lb0.007 Epoch 66/100 | Avg Loss: 0.9230, Avg Grad Norm: 13.5217, LR: 0.000005\n"
     ]
    },
    {
     "name": "stderr",
     "output_type": "stream",
     "text": [
      "run_4_lp5e-03_ep1e-06_lb0.007 Epoch 67/100: 100%|██| 1556/1556 [18:02<00:00,  1.44it/s, grad_norm=40.8603, loss=1.7099]\n"
     ]
    },
    {
     "name": "stdout",
     "output_type": "stream",
     "text": [
      "run_4_lp5e-03_ep1e-06_lb0.007 Epoch 67/100 | Avg Loss: 0.9244, Avg Grad Norm: 13.6578, LR: 0.000005\n"
     ]
    },
    {
     "name": "stderr",
     "output_type": "stream",
     "text": [
      "run_4_lp5e-03_ep1e-06_lb0.007 Epoch 68/100: 100%|██| 1556/1556 [18:04<00:00,  1.44it/s, grad_norm=33.6429, loss=1.3326]\n"
     ]
    },
    {
     "name": "stdout",
     "output_type": "stream",
     "text": [
      "run_4_lp5e-03_ep1e-06_lb0.007 Epoch 68/100 | Avg Loss: 0.9310, Avg Grad Norm: 13.6958, LR: 0.000005\n"
     ]
    },
    {
     "name": "stderr",
     "output_type": "stream",
     "text": [
      "run_4_lp5e-03_ep1e-06_lb0.007 Epoch 69/100: 100%|██| 1556/1556 [18:02<00:00,  1.44it/s, grad_norm=57.9510, loss=1.9332]\n"
     ]
    },
    {
     "name": "stdout",
     "output_type": "stream",
     "text": [
      "run_4_lp5e-03_ep1e-06_lb0.007 Epoch 69/100 | Avg Loss: 0.9074, Avg Grad Norm: 13.6270, LR: 0.000005\n"
     ]
    },
    {
     "name": "stderr",
     "output_type": "stream",
     "text": [
      "run_4_lp5e-03_ep1e-06_lb0.007 Epoch 70/100: 100%|██| 1556/1556 [18:02<00:00,  1.44it/s, grad_norm=21.1473, loss=0.8904]\n"
     ]
    },
    {
     "name": "stdout",
     "output_type": "stream",
     "text": [
      "run_4_lp5e-03_ep1e-06_lb0.007 Epoch 70/100 | Avg Loss: 0.9091, Avg Grad Norm: 13.8632, LR: 0.000005\n",
      "Checkpoint saved at 'audiotwin_checkpoints_medium\\run_4_lp5e-03_ep1e-06_lb0.007\\audiotwin_pestlarvanet_medium_epoch_70.pth'\n"
     ]
    },
    {
     "name": "stderr",
     "output_type": "stream",
     "text": [
      "run_4_lp5e-03_ep1e-06_lb0.007 Epoch 71/100: 100%|██| 1556/1556 [18:03<00:00,  1.44it/s, grad_norm=36.0727, loss=1.6232]\n"
     ]
    },
    {
     "name": "stdout",
     "output_type": "stream",
     "text": [
      "run_4_lp5e-03_ep1e-06_lb0.007 Epoch 71/100 | Avg Loss: 0.9057, Avg Grad Norm: 13.6724, LR: 0.000005\n"
     ]
    },
    {
     "name": "stderr",
     "output_type": "stream",
     "text": [
      "run_4_lp5e-03_ep1e-06_lb0.007 Epoch 72/100: 100%|██| 1556/1556 [18:02<00:00,  1.44it/s, grad_norm=45.7292, loss=1.7489]\n"
     ]
    },
    {
     "name": "stdout",
     "output_type": "stream",
     "text": [
      "run_4_lp5e-03_ep1e-06_lb0.007 Epoch 72/100 | Avg Loss: 0.9224, Avg Grad Norm: 14.2161, LR: 0.000005\n"
     ]
    },
    {
     "name": "stderr",
     "output_type": "stream",
     "text": [
      "run_4_lp5e-03_ep1e-06_lb0.007 Epoch 73/100: 100%|██| 1556/1556 [18:34<00:00,  1.40it/s, grad_norm=18.5035, loss=1.0354]\n"
     ]
    },
    {
     "name": "stdout",
     "output_type": "stream",
     "text": [
      "run_4_lp5e-03_ep1e-06_lb0.007 Epoch 73/100 | Avg Loss: 0.8999, Avg Grad Norm: 13.8305, LR: 0.000005\n"
     ]
    },
    {
     "name": "stderr",
     "output_type": "stream",
     "text": [
      "run_4_lp5e-03_ep1e-06_lb0.007 Epoch 74/100: 100%|██| 1556/1556 [18:24<00:00,  1.41it/s, grad_norm=20.7518, loss=0.8385]\n"
     ]
    },
    {
     "name": "stdout",
     "output_type": "stream",
     "text": [
      "run_4_lp5e-03_ep1e-06_lb0.007 Epoch 74/100 | Avg Loss: 0.8930, Avg Grad Norm: 13.6845, LR: 0.000005\n"
     ]
    },
    {
     "name": "stderr",
     "output_type": "stream",
     "text": [
      "run_4_lp5e-03_ep1e-06_lb0.007 Epoch 75/100: 100%|██| 1556/1556 [18:41<00:00,  1.39it/s, grad_norm=23.9654, loss=0.9603]\n"
     ]
    },
    {
     "name": "stdout",
     "output_type": "stream",
     "text": [
      "run_4_lp5e-03_ep1e-06_lb0.007 Epoch 75/100 | Avg Loss: 0.8866, Avg Grad Norm: 13.8495, LR: 0.000005\n",
      "Checkpoint saved at 'audiotwin_checkpoints_medium\\run_4_lp5e-03_ep1e-06_lb0.007\\audiotwin_pestlarvanet_medium_epoch_75.pth'\n"
     ]
    },
    {
     "name": "stderr",
     "output_type": "stream",
     "text": [
      "run_4_lp5e-03_ep1e-06_lb0.007 Epoch 76/100: 100%|██| 1556/1556 [18:44<00:00,  1.38it/s, grad_norm=11.5215, loss=0.9176]\n"
     ]
    },
    {
     "name": "stdout",
     "output_type": "stream",
     "text": [
      "run_4_lp5e-03_ep1e-06_lb0.007 Epoch 76/100 | Avg Loss: 0.8922, Avg Grad Norm: 13.9165, LR: 0.000005\n"
     ]
    },
    {
     "name": "stderr",
     "output_type": "stream",
     "text": [
      "run_4_lp5e-03_ep1e-06_lb0.007 Epoch 77/100: 100%|██| 1556/1556 [18:24<00:00,  1.41it/s, grad_norm=40.1656, loss=2.0684]\n"
     ]
    },
    {
     "name": "stdout",
     "output_type": "stream",
     "text": [
      "run_4_lp5e-03_ep1e-06_lb0.007 Epoch 77/100 | Avg Loss: 0.8924, Avg Grad Norm: 14.1283, LR: 0.000005\n"
     ]
    },
    {
     "name": "stderr",
     "output_type": "stream",
     "text": [
      "run_4_lp5e-03_ep1e-06_lb0.007 Epoch 78/100: 100%|██| 1556/1556 [18:06<00:00,  1.43it/s, grad_norm=65.0231, loss=3.5494]\n"
     ]
    },
    {
     "name": "stdout",
     "output_type": "stream",
     "text": [
      "run_4_lp5e-03_ep1e-06_lb0.007 Epoch 78/100 | Avg Loss: 0.9027, Avg Grad Norm: 14.4410, LR: 0.000005\n"
     ]
    },
    {
     "name": "stderr",
     "output_type": "stream",
     "text": [
      "run_4_lp5e-03_ep1e-06_lb0.007 Epoch 79/100: 100%|██| 1556/1556 [18:06<00:00,  1.43it/s, grad_norm=33.9230, loss=1.0901]\n"
     ]
    },
    {
     "name": "stdout",
     "output_type": "stream",
     "text": [
      "run_4_lp5e-03_ep1e-06_lb0.007 Epoch 79/100 | Avg Loss: 0.8758, Avg Grad Norm: 13.7475, LR: 0.000005\n"
     ]
    },
    {
     "name": "stderr",
     "output_type": "stream",
     "text": [
      "run_4_lp5e-03_ep1e-06_lb0.007 Epoch 80/100: 100%|██| 1556/1556 [18:05<00:00,  1.43it/s, grad_norm=13.7941, loss=0.9219]\n"
     ]
    },
    {
     "name": "stdout",
     "output_type": "stream",
     "text": [
      "run_4_lp5e-03_ep1e-06_lb0.007 Epoch 80/100 | Avg Loss: 0.8825, Avg Grad Norm: 14.3145, LR: 0.000005\n",
      "Checkpoint saved at 'audiotwin_checkpoints_medium\\run_4_lp5e-03_ep1e-06_lb0.007\\audiotwin_pestlarvanet_medium_epoch_80.pth'\n"
     ]
    },
    {
     "name": "stderr",
     "output_type": "stream",
     "text": [
      "run_4_lp5e-03_ep1e-06_lb0.007 Epoch 81/100: 100%|██| 1556/1556 [18:04<00:00,  1.44it/s, grad_norm=53.6109, loss=2.8054]\n"
     ]
    },
    {
     "name": "stdout",
     "output_type": "stream",
     "text": [
      "run_4_lp5e-03_ep1e-06_lb0.007 Epoch 81/100 | Avg Loss: 0.8796, Avg Grad Norm: 14.1920, LR: 0.000005\n"
     ]
    },
    {
     "name": "stderr",
     "output_type": "stream",
     "text": [
      "run_4_lp5e-03_ep1e-06_lb0.007 Epoch 82/100: 100%|██| 1556/1556 [19:01<00:00,  1.36it/s, grad_norm=17.8843, loss=1.1504]\n"
     ]
    },
    {
     "name": "stdout",
     "output_type": "stream",
     "text": [
      "run_4_lp5e-03_ep1e-06_lb0.007 Epoch 82/100 | Avg Loss: 0.8736, Avg Grad Norm: 14.0606, LR: 0.000005\n"
     ]
    },
    {
     "name": "stderr",
     "output_type": "stream",
     "text": [
      "run_4_lp5e-03_ep1e-06_lb0.007 Epoch 83/100: 100%|██| 1556/1556 [22:17<00:00,  1.16it/s, grad_norm=47.2054, loss=2.4237]\n"
     ]
    },
    {
     "name": "stdout",
     "output_type": "stream",
     "text": [
      "run_4_lp5e-03_ep1e-06_lb0.007 Epoch 83/100 | Avg Loss: 0.8651, Avg Grad Norm: 14.1438, LR: 0.000005\n"
     ]
    },
    {
     "name": "stderr",
     "output_type": "stream",
     "text": [
      "run_4_lp5e-03_ep1e-06_lb0.007 Epoch 84/100: 100%|██| 1556/1556 [18:04<00:00,  1.43it/s, grad_norm=21.8500, loss=0.7958]\n"
     ]
    },
    {
     "name": "stdout",
     "output_type": "stream",
     "text": [
      "run_4_lp5e-03_ep1e-06_lb0.007 Epoch 84/100 | Avg Loss: 0.8686, Avg Grad Norm: 14.1045, LR: 0.000005\n"
     ]
    },
    {
     "name": "stderr",
     "output_type": "stream",
     "text": [
      "run_4_lp5e-03_ep1e-06_lb0.007 Epoch 85/100: 100%|██| 1556/1556 [21:42<00:00,  1.19it/s, grad_norm=38.4483, loss=1.4580]\n"
     ]
    },
    {
     "name": "stdout",
     "output_type": "stream",
     "text": [
      "run_4_lp5e-03_ep1e-06_lb0.007 Epoch 85/100 | Avg Loss: 0.8651, Avg Grad Norm: 14.1558, LR: 0.000005\n",
      "Checkpoint saved at 'audiotwin_checkpoints_medium\\run_4_lp5e-03_ep1e-06_lb0.007\\audiotwin_pestlarvanet_medium_epoch_85.pth'\n"
     ]
    },
    {
     "name": "stderr",
     "output_type": "stream",
     "text": [
      "run_4_lp5e-03_ep1e-06_lb0.007 Epoch 86/100: 100%|██| 1556/1556 [19:35<00:00,  1.32it/s, grad_norm=36.4688, loss=1.6163]\n"
     ]
    },
    {
     "name": "stdout",
     "output_type": "stream",
     "text": [
      "run_4_lp5e-03_ep1e-06_lb0.007 Epoch 86/100 | Avg Loss: 0.8876, Avg Grad Norm: 14.6994, LR: 0.000005\n"
     ]
    },
    {
     "name": "stderr",
     "output_type": "stream",
     "text": [
      "run_4_lp5e-03_ep1e-06_lb0.007 Epoch 87/100: 100%|██| 1556/1556 [18:04<00:00,  1.43it/s, grad_norm=34.2768, loss=1.0662]\n"
     ]
    },
    {
     "name": "stdout",
     "output_type": "stream",
     "text": [
      "run_4_lp5e-03_ep1e-06_lb0.007 Epoch 87/100 | Avg Loss: 0.8612, Avg Grad Norm: 14.3626, LR: 0.000005\n"
     ]
    },
    {
     "name": "stderr",
     "output_type": "stream",
     "text": [
      "run_4_lp5e-03_ep1e-06_lb0.007 Epoch 88/100: 100%|██| 1556/1556 [18:04<00:00,  1.43it/s, grad_norm=55.3978, loss=2.1199]\n"
     ]
    },
    {
     "name": "stdout",
     "output_type": "stream",
     "text": [
      "run_4_lp5e-03_ep1e-06_lb0.007 Epoch 88/100 | Avg Loss: 0.8654, Avg Grad Norm: 14.4755, LR: 0.000005\n"
     ]
    },
    {
     "name": "stderr",
     "output_type": "stream",
     "text": [
      "run_4_lp5e-03_ep1e-06_lb0.007 Epoch 89/100: 100%|██| 1556/1556 [18:07<00:00,  1.43it/s, grad_norm=18.6660, loss=0.9383]\n"
     ]
    },
    {
     "name": "stdout",
     "output_type": "stream",
     "text": [
      "run_4_lp5e-03_ep1e-06_lb0.007 Epoch 89/100 | Avg Loss: 0.8553, Avg Grad Norm: 14.2071, LR: 0.000005\n"
     ]
    },
    {
     "name": "stderr",
     "output_type": "stream",
     "text": [
      "run_4_lp5e-03_ep1e-06_lb0.007 Epoch 90/100: 100%|██| 1556/1556 [18:09<00:00,  1.43it/s, grad_norm=44.5226, loss=1.6700]\n"
     ]
    },
    {
     "name": "stdout",
     "output_type": "stream",
     "text": [
      "run_4_lp5e-03_ep1e-06_lb0.007 Epoch 90/100 | Avg Loss: 0.8558, Avg Grad Norm: 14.4368, LR: 0.000005\n",
      "Checkpoint saved at 'audiotwin_checkpoints_medium\\run_4_lp5e-03_ep1e-06_lb0.007\\audiotwin_pestlarvanet_medium_epoch_90.pth'\n"
     ]
    },
    {
     "name": "stderr",
     "output_type": "stream",
     "text": [
      "run_4_lp5e-03_ep1e-06_lb0.007 Epoch 91/100: 100%|███| 1556/1556 [18:07<00:00,  1.43it/s, grad_norm=8.7147, loss=0.8308]\n"
     ]
    },
    {
     "name": "stdout",
     "output_type": "stream",
     "text": [
      "run_4_lp5e-03_ep1e-06_lb0.007 Epoch 91/100 | Avg Loss: 0.8534, Avg Grad Norm: 14.2227, LR: 0.000005\n"
     ]
    },
    {
     "name": "stderr",
     "output_type": "stream",
     "text": [
      "run_4_lp5e-03_ep1e-06_lb0.007 Epoch 92/100: 100%|██| 1556/1556 [18:08<00:00,  1.43it/s, grad_norm=61.3950, loss=2.0455]\n"
     ]
    },
    {
     "name": "stdout",
     "output_type": "stream",
     "text": [
      "run_4_lp5e-03_ep1e-06_lb0.007 Epoch 92/100 | Avg Loss: 0.8605, Avg Grad Norm: 14.3757, LR: 0.000005\n"
     ]
    },
    {
     "name": "stderr",
     "output_type": "stream",
     "text": [
      "run_4_lp5e-03_ep1e-06_lb0.007 Epoch 93/100: 100%|██| 1556/1556 [18:07<00:00,  1.43it/s, grad_norm=52.1079, loss=1.8730]\n"
     ]
    },
    {
     "name": "stdout",
     "output_type": "stream",
     "text": [
      "run_4_lp5e-03_ep1e-06_lb0.007 Epoch 93/100 | Avg Loss: 0.8612, Avg Grad Norm: 14.6411, LR: 0.000005\n"
     ]
    },
    {
     "name": "stderr",
     "output_type": "stream",
     "text": [
      "run_4_lp5e-03_ep1e-06_lb0.007 Epoch 94/100: 100%|██| 1556/1556 [18:06<00:00,  1.43it/s, grad_norm=41.7050, loss=1.0807]\n"
     ]
    },
    {
     "name": "stdout",
     "output_type": "stream",
     "text": [
      "run_4_lp5e-03_ep1e-06_lb0.007 Epoch 94/100 | Avg Loss: 0.8557, Avg Grad Norm: 14.4509, LR: 0.000005\n"
     ]
    },
    {
     "name": "stderr",
     "output_type": "stream",
     "text": [
      "run_4_lp5e-03_ep1e-06_lb0.007 Epoch 95/100: 100%|██| 1556/1556 [18:05<00:00,  1.43it/s, grad_norm=40.5887, loss=1.6734]\n"
     ]
    },
    {
     "name": "stdout",
     "output_type": "stream",
     "text": [
      "run_4_lp5e-03_ep1e-06_lb0.007 Epoch 95/100 | Avg Loss: 0.8727, Avg Grad Norm: 14.8848, LR: 0.000005\n",
      "Checkpoint saved at 'audiotwin_checkpoints_medium\\run_4_lp5e-03_ep1e-06_lb0.007\\audiotwin_pestlarvanet_medium_epoch_95.pth'\n"
     ]
    },
    {
     "name": "stderr",
     "output_type": "stream",
     "text": [
      "run_4_lp5e-03_ep1e-06_lb0.007 Epoch 96/100: 100%|██| 1556/1556 [18:08<00:00,  1.43it/s, grad_norm=19.8020, loss=1.7751]\n"
     ]
    },
    {
     "name": "stdout",
     "output_type": "stream",
     "text": [
      "run_4_lp5e-03_ep1e-06_lb0.007 Epoch 96/100 | Avg Loss: 0.8570, Avg Grad Norm: 14.4827, LR: 0.000005\n"
     ]
    },
    {
     "name": "stderr",
     "output_type": "stream",
     "text": [
      "run_4_lp5e-03_ep1e-06_lb0.007 Epoch 97/100: 100%|██████| 1556/1556 [18:05<00:00,  1.43it/s, grad_norm=inf, loss=2.1529]\n"
     ]
    },
    {
     "name": "stdout",
     "output_type": "stream",
     "text": [
      "run_4_lp5e-03_ep1e-06_lb0.007 Epoch 97/100 | Avg Loss: 0.8538, Avg Grad Norm: 14.4582, LR: 0.000005\n"
     ]
    },
    {
     "name": "stderr",
     "output_type": "stream",
     "text": [
      "run_4_lp5e-03_ep1e-06_lb0.007 Epoch 98/100: 100%|██| 1556/1556 [18:06<00:00,  1.43it/s, grad_norm=48.2003, loss=2.2654]\n"
     ]
    },
    {
     "name": "stdout",
     "output_type": "stream",
     "text": [
      "run_4_lp5e-03_ep1e-06_lb0.007 Epoch 98/100 | Avg Loss: 0.8528, Avg Grad Norm: 14.7495, LR: 0.000001\n"
     ]
    },
    {
     "name": "stderr",
     "output_type": "stream",
     "text": [
      "run_4_lp5e-03_ep1e-06_lb0.007 Epoch 99/100: 100%|██| 1556/1556 [18:07<00:00,  1.43it/s, grad_norm=42.9176, loss=1.4109]\n"
     ]
    },
    {
     "name": "stdout",
     "output_type": "stream",
     "text": [
      "run_4_lp5e-03_ep1e-06_lb0.007 Epoch 99/100 | Avg Loss: 0.8398, Avg Grad Norm: 14.4588, LR: 0.000001\n"
     ]
    },
    {
     "name": "stderr",
     "output_type": "stream",
     "text": [
      "run_4_lp5e-03_ep1e-06_lb0.007 Epoch 100/100: 100%|█| 1556/1556 [18:07<00:00,  1.43it/s, grad_norm=23.5471, loss=1.0621]\n"
     ]
    },
    {
     "name": "stdout",
     "output_type": "stream",
     "text": [
      "run_4_lp5e-03_ep1e-06_lb0.007 Epoch 100/100 | Avg Loss: 0.8384, Avg Grad Norm: 14.3629, LR: 0.000001\n",
      "Checkpoint saved at 'audiotwin_checkpoints_medium\\run_4_lp5e-03_ep1e-06_lb0.007\\audiotwin_pestlarvanet_medium_epoch_100.pth'\n",
      "\n",
      "Starting Pre-training with AudioTwin - run_5_lp1e-02_ep1e-06_lb0.010\n"
     ]
    },
    {
     "name": "stderr",
     "output_type": "stream",
     "text": [
      "run_5_lp1e-02_ep1e-06_lb0.010 Epoch 1/100: 100%|███| 1556/1556 [18:07<00:00,  1.43it/s, grad_norm=26.8248, loss=6.0720]\n"
     ]
    },
    {
     "name": "stdout",
     "output_type": "stream",
     "text": [
      "run_5_lp1e-02_ep1e-06_lb0.010 Epoch 1/100 | Avg Loss: 5.0130, Avg Grad Norm: 13.9503, LR: 0.000005\n"
     ]
    },
    {
     "name": "stderr",
     "output_type": "stream",
     "text": [
      "run_5_lp1e-02_ep1e-06_lb0.010 Epoch 2/100: 100%|███| 1556/1556 [18:06<00:00,  1.43it/s, grad_norm=32.3106, loss=6.6172]\n"
     ]
    },
    {
     "name": "stdout",
     "output_type": "stream",
     "text": [
      "run_5_lp1e-02_ep1e-06_lb0.010 Epoch 2/100 | Avg Loss: 4.0519, Avg Grad Norm: 11.9492, LR: 0.000005\n"
     ]
    },
    {
     "name": "stderr",
     "output_type": "stream",
     "text": [
      "run_5_lp1e-02_ep1e-06_lb0.010 Epoch 3/100: 100%|███| 1556/1556 [18:08<00:00,  1.43it/s, grad_norm=33.9963, loss=3.9381]\n"
     ]
    },
    {
     "name": "stdout",
     "output_type": "stream",
     "text": [
      "run_5_lp1e-02_ep1e-06_lb0.010 Epoch 3/100 | Avg Loss: 3.7195, Avg Grad Norm: 12.1760, LR: 0.000005\n"
     ]
    },
    {
     "name": "stderr",
     "output_type": "stream",
     "text": [
      "run_5_lp1e-02_ep1e-06_lb0.010 Epoch 4/100: 100%|████| 1556/1556 [18:28<00:00,  1.40it/s, grad_norm=9.7138, loss=3.1839]\n"
     ]
    },
    {
     "name": "stdout",
     "output_type": "stream",
     "text": [
      "run_5_lp1e-02_ep1e-06_lb0.010 Epoch 4/100 | Avg Loss: 3.5372, Avg Grad Norm: 12.3621, LR: 0.000005\n"
     ]
    },
    {
     "name": "stderr",
     "output_type": "stream",
     "text": [
      "run_5_lp1e-02_ep1e-06_lb0.010 Epoch 5/100: 100%|███| 1556/1556 [18:43<00:00,  1.39it/s, grad_norm=38.7586, loss=4.9813]\n"
     ]
    },
    {
     "name": "stdout",
     "output_type": "stream",
     "text": [
      "run_5_lp1e-02_ep1e-06_lb0.010 Epoch 5/100 | Avg Loss: 3.4250, Avg Grad Norm: 12.8121, LR: 0.000005\n",
      "Checkpoint saved at 'audiotwin_checkpoints_medium\\run_5_lp1e-02_ep1e-06_lb0.010\\audiotwin_pestlarvanet_medium_epoch_5.pth'\n"
     ]
    },
    {
     "name": "stderr",
     "output_type": "stream",
     "text": [
      "run_5_lp1e-02_ep1e-06_lb0.010 Epoch 6/100: 100%|███| 1556/1556 [18:39<00:00,  1.39it/s, grad_norm=38.6559, loss=6.3260]\n"
     ]
    },
    {
     "name": "stdout",
     "output_type": "stream",
     "text": [
      "run_5_lp1e-02_ep1e-06_lb0.010 Epoch 6/100 | Avg Loss: 3.2782, Avg Grad Norm: 12.5106, LR: 0.000005\n"
     ]
    },
    {
     "name": "stderr",
     "output_type": "stream",
     "text": [
      "run_5_lp1e-02_ep1e-06_lb0.010 Epoch 7/100: 100%|███████| 1556/1556 [18:39<00:00,  1.39it/s, grad_norm=nan, loss=4.9808]\n"
     ]
    },
    {
     "name": "stdout",
     "output_type": "stream",
     "text": [
      "run_5_lp1e-02_ep1e-06_lb0.010 Epoch 7/100 | Avg Loss: 3.2386, Avg Grad Norm: 12.9618, LR: 0.000005\n"
     ]
    },
    {
     "name": "stderr",
     "output_type": "stream",
     "text": [
      "run_5_lp1e-02_ep1e-06_lb0.010 Epoch 8/100: 100%|███| 1556/1556 [18:37<00:00,  1.39it/s, grad_norm=15.3449, loss=3.2665]\n"
     ]
    },
    {
     "name": "stdout",
     "output_type": "stream",
     "text": [
      "run_5_lp1e-02_ep1e-06_lb0.010 Epoch 8/100 | Avg Loss: 3.1520, Avg Grad Norm: 13.0052, LR: 0.000005\n"
     ]
    },
    {
     "name": "stderr",
     "output_type": "stream",
     "text": [
      "run_5_lp1e-02_ep1e-06_lb0.010 Epoch 9/100: 100%|███| 1556/1556 [18:38<00:00,  1.39it/s, grad_norm=18.0188, loss=3.0331]\n"
     ]
    },
    {
     "name": "stdout",
     "output_type": "stream",
     "text": [
      "run_5_lp1e-02_ep1e-06_lb0.010 Epoch 9/100 | Avg Loss: 3.0619, Avg Grad Norm: 12.9705, LR: 0.000005\n"
     ]
    },
    {
     "name": "stderr",
     "output_type": "stream",
     "text": [
      "run_5_lp1e-02_ep1e-06_lb0.010 Epoch 10/100: 100%|██| 1556/1556 [18:26<00:00,  1.41it/s, grad_norm=18.5922, loss=3.3720]\n"
     ]
    },
    {
     "name": "stdout",
     "output_type": "stream",
     "text": [
      "run_5_lp1e-02_ep1e-06_lb0.010 Epoch 10/100 | Avg Loss: 3.0273, Avg Grad Norm: 13.5205, LR: 0.000005\n",
      "Checkpoint saved at 'audiotwin_checkpoints_medium\\run_5_lp1e-02_ep1e-06_lb0.010\\audiotwin_pestlarvanet_medium_epoch_10.pth'\n"
     ]
    },
    {
     "name": "stderr",
     "output_type": "stream",
     "text": [
      "run_5_lp1e-02_ep1e-06_lb0.010 Epoch 11/100: 100%|██| 1556/1556 [18:06<00:00,  1.43it/s, grad_norm=12.3134, loss=2.8915]\n"
     ]
    },
    {
     "name": "stdout",
     "output_type": "stream",
     "text": [
      "run_5_lp1e-02_ep1e-06_lb0.010 Epoch 11/100 | Avg Loss: 2.9922, Avg Grad Norm: 13.4085, LR: 0.000005\n"
     ]
    },
    {
     "name": "stderr",
     "output_type": "stream",
     "text": [
      "run_5_lp1e-02_ep1e-06_lb0.010 Epoch 12/100: 100%|██| 1556/1556 [18:05<00:00,  1.43it/s, grad_norm=58.9624, loss=5.5331]\n"
     ]
    },
    {
     "name": "stdout",
     "output_type": "stream",
     "text": [
      "run_5_lp1e-02_ep1e-06_lb0.010 Epoch 12/100 | Avg Loss: 2.9381, Avg Grad Norm: 13.8737, LR: 0.000005\n"
     ]
    },
    {
     "name": "stderr",
     "output_type": "stream",
     "text": [
      "run_5_lp1e-02_ep1e-06_lb0.010 Epoch 13/100: 100%|██| 1556/1556 [18:05<00:00,  1.43it/s, grad_norm=28.0752, loss=2.8584]\n"
     ]
    },
    {
     "name": "stdout",
     "output_type": "stream",
     "text": [
      "run_5_lp1e-02_ep1e-06_lb0.010 Epoch 13/100 | Avg Loss: 2.9232, Avg Grad Norm: 14.2541, LR: 0.000005\n"
     ]
    },
    {
     "name": "stderr",
     "output_type": "stream",
     "text": [
      "run_5_lp1e-02_ep1e-06_lb0.010 Epoch 14/100: 100%|██| 1556/1556 [18:06<00:00,  1.43it/s, grad_norm=29.2349, loss=4.2367]\n"
     ]
    },
    {
     "name": "stdout",
     "output_type": "stream",
     "text": [
      "run_5_lp1e-02_ep1e-06_lb0.010 Epoch 14/100 | Avg Loss: 2.8638, Avg Grad Norm: 13.8547, LR: 0.000005\n"
     ]
    },
    {
     "name": "stderr",
     "output_type": "stream",
     "text": [
      "run_5_lp1e-02_ep1e-06_lb0.010 Epoch 15/100: 100%|██| 1556/1556 [18:05<00:00,  1.43it/s, grad_norm=60.5152, loss=4.8836]\n"
     ]
    },
    {
     "name": "stdout",
     "output_type": "stream",
     "text": [
      "run_5_lp1e-02_ep1e-06_lb0.010 Epoch 15/100 | Avg Loss: 2.8513, Avg Grad Norm: 14.2353, LR: 0.000005\n",
      "Checkpoint saved at 'audiotwin_checkpoints_medium\\run_5_lp1e-02_ep1e-06_lb0.010\\audiotwin_pestlarvanet_medium_epoch_15.pth'\n"
     ]
    },
    {
     "name": "stderr",
     "output_type": "stream",
     "text": [
      "run_5_lp1e-02_ep1e-06_lb0.010 Epoch 16/100: 100%|██| 1556/1556 [18:06<00:00,  1.43it/s, grad_norm=20.1172, loss=4.2186]\n"
     ]
    },
    {
     "name": "stdout",
     "output_type": "stream",
     "text": [
      "run_5_lp1e-02_ep1e-06_lb0.010 Epoch 16/100 | Avg Loss: 2.8097, Avg Grad Norm: 14.2088, LR: 0.000005\n"
     ]
    },
    {
     "name": "stderr",
     "output_type": "stream",
     "text": [
      "run_5_lp1e-02_ep1e-06_lb0.010 Epoch 17/100: 100%|██| 1556/1556 [18:07<00:00,  1.43it/s, grad_norm=27.5133, loss=3.2137]\n"
     ]
    },
    {
     "name": "stdout",
     "output_type": "stream",
     "text": [
      "run_5_lp1e-02_ep1e-06_lb0.010 Epoch 17/100 | Avg Loss: 2.7921, Avg Grad Norm: 14.1214, LR: 0.000005\n"
     ]
    },
    {
     "name": "stderr",
     "output_type": "stream",
     "text": [
      "run_5_lp1e-02_ep1e-06_lb0.010 Epoch 18/100: 100%|██| 1556/1556 [18:06<00:00,  1.43it/s, grad_norm=30.9500, loss=4.3607]\n"
     ]
    },
    {
     "name": "stdout",
     "output_type": "stream",
     "text": [
      "run_5_lp1e-02_ep1e-06_lb0.010 Epoch 18/100 | Avg Loss: 2.7343, Avg Grad Norm: 13.8362, LR: 0.000005\n"
     ]
    },
    {
     "name": "stderr",
     "output_type": "stream",
     "text": [
      "run_5_lp1e-02_ep1e-06_lb0.010 Epoch 19/100: 100%|██| 1556/1556 [18:05<00:00,  1.43it/s, grad_norm=53.7046, loss=5.0247]\n"
     ]
    },
    {
     "name": "stdout",
     "output_type": "stream",
     "text": [
      "run_5_lp1e-02_ep1e-06_lb0.010 Epoch 19/100 | Avg Loss: 2.7437, Avg Grad Norm: 14.4510, LR: 0.000005\n"
     ]
    },
    {
     "name": "stderr",
     "output_type": "stream",
     "text": [
      "run_5_lp1e-02_ep1e-06_lb0.010 Epoch 20/100: 100%|██| 1556/1556 [18:07<00:00,  1.43it/s, grad_norm=38.4168, loss=4.1228]\n"
     ]
    },
    {
     "name": "stdout",
     "output_type": "stream",
     "text": [
      "run_5_lp1e-02_ep1e-06_lb0.010 Epoch 20/100 | Avg Loss: 2.7040, Avg Grad Norm: 14.2142, LR: 0.000005\n",
      "Checkpoint saved at 'audiotwin_checkpoints_medium\\run_5_lp1e-02_ep1e-06_lb0.010\\audiotwin_pestlarvanet_medium_epoch_20.pth'\n"
     ]
    },
    {
     "name": "stderr",
     "output_type": "stream",
     "text": [
      "run_5_lp1e-02_ep1e-06_lb0.010 Epoch 21/100: 100%|██| 1556/1556 [18:06<00:00,  1.43it/s, grad_norm=68.6016, loss=5.2606]\n"
     ]
    },
    {
     "name": "stdout",
     "output_type": "stream",
     "text": [
      "run_5_lp1e-02_ep1e-06_lb0.010 Epoch 21/100 | Avg Loss: 2.6953, Avg Grad Norm: 14.3975, LR: 0.000005\n"
     ]
    },
    {
     "name": "stderr",
     "output_type": "stream",
     "text": [
      "run_5_lp1e-02_ep1e-06_lb0.010 Epoch 22/100: 100%|██| 1556/1556 [18:05<00:00,  1.43it/s, grad_norm=40.1996, loss=3.4675]\n"
     ]
    },
    {
     "name": "stdout",
     "output_type": "stream",
     "text": [
      "run_5_lp1e-02_ep1e-06_lb0.010 Epoch 22/100 | Avg Loss: 2.6740, Avg Grad Norm: 14.7746, LR: 0.000005\n"
     ]
    },
    {
     "name": "stderr",
     "output_type": "stream",
     "text": [
      "run_5_lp1e-02_ep1e-06_lb0.010 Epoch 23/100: 100%|██| 1556/1556 [18:06<00:00,  1.43it/s, grad_norm=27.6257, loss=2.8854]\n"
     ]
    },
    {
     "name": "stdout",
     "output_type": "stream",
     "text": [
      "run_5_lp1e-02_ep1e-06_lb0.010 Epoch 23/100 | Avg Loss: 2.6802, Avg Grad Norm: 14.8979, LR: 0.000005\n"
     ]
    },
    {
     "name": "stderr",
     "output_type": "stream",
     "text": [
      "run_5_lp1e-02_ep1e-06_lb0.010 Epoch 24/100: 100%|██| 1556/1556 [18:05<00:00,  1.43it/s, grad_norm=35.7614, loss=3.8310]\n"
     ]
    },
    {
     "name": "stdout",
     "output_type": "stream",
     "text": [
      "run_5_lp1e-02_ep1e-06_lb0.010 Epoch 24/100 | Avg Loss: 2.6536, Avg Grad Norm: 14.5997, LR: 0.000005\n"
     ]
    },
    {
     "name": "stderr",
     "output_type": "stream",
     "text": [
      "run_5_lp1e-02_ep1e-06_lb0.010 Epoch 25/100: 100%|██| 1556/1556 [18:05<00:00,  1.43it/s, grad_norm=13.7714, loss=2.8603]\n"
     ]
    },
    {
     "name": "stdout",
     "output_type": "stream",
     "text": [
      "run_5_lp1e-02_ep1e-06_lb0.010 Epoch 25/100 | Avg Loss: 2.6380, Avg Grad Norm: 14.6622, LR: 0.000005\n",
      "Checkpoint saved at 'audiotwin_checkpoints_medium\\run_5_lp1e-02_ep1e-06_lb0.010\\audiotwin_pestlarvanet_medium_epoch_25.pth'\n"
     ]
    },
    {
     "name": "stderr",
     "output_type": "stream",
     "text": [
      "run_5_lp1e-02_ep1e-06_lb0.010 Epoch 26/100: 100%|██| 1556/1556 [18:06<00:00,  1.43it/s, grad_norm=24.4246, loss=3.4842]\n"
     ]
    },
    {
     "name": "stdout",
     "output_type": "stream",
     "text": [
      "run_5_lp1e-02_ep1e-06_lb0.010 Epoch 26/100 | Avg Loss: 2.6031, Avg Grad Norm: 14.7070, LR: 0.000005\n"
     ]
    },
    {
     "name": "stderr",
     "output_type": "stream",
     "text": [
      "run_5_lp1e-02_ep1e-06_lb0.010 Epoch 27/100: 100%|██| 1556/1556 [18:06<00:00,  1.43it/s, grad_norm=25.0779, loss=2.7152]\n"
     ]
    },
    {
     "name": "stdout",
     "output_type": "stream",
     "text": [
      "run_5_lp1e-02_ep1e-06_lb0.010 Epoch 27/100 | Avg Loss: 2.6052, Avg Grad Norm: 14.7077, LR: 0.000005\n"
     ]
    },
    {
     "name": "stderr",
     "output_type": "stream",
     "text": [
      "run_5_lp1e-02_ep1e-06_lb0.010 Epoch 28/100: 100%|██| 1556/1556 [18:07<00:00,  1.43it/s, grad_norm=39.8353, loss=3.6948]\n"
     ]
    },
    {
     "name": "stdout",
     "output_type": "stream",
     "text": [
      "run_5_lp1e-02_ep1e-06_lb0.010 Epoch 28/100 | Avg Loss: 2.5825, Avg Grad Norm: 14.6452, LR: 0.000005\n"
     ]
    },
    {
     "name": "stderr",
     "output_type": "stream",
     "text": [
      "run_5_lp1e-02_ep1e-06_lb0.010 Epoch 29/100: 100%|█| 1556/1556 [18:09<00:00,  1.43it/s, grad_norm=105.7297, loss=5.6612]\n"
     ]
    },
    {
     "name": "stdout",
     "output_type": "stream",
     "text": [
      "run_5_lp1e-02_ep1e-06_lb0.010 Epoch 29/100 | Avg Loss: 2.5722, Avg Grad Norm: 14.8561, LR: 0.000005\n"
     ]
    },
    {
     "name": "stderr",
     "output_type": "stream",
     "text": [
      "run_5_lp1e-02_ep1e-06_lb0.010 Epoch 30/100: 100%|██████| 1556/1556 [18:09<00:00,  1.43it/s, grad_norm=inf, loss=5.6917]\n"
     ]
    },
    {
     "name": "stdout",
     "output_type": "stream",
     "text": [
      "run_5_lp1e-02_ep1e-06_lb0.010 Epoch 30/100 | Avg Loss: 2.5871, Avg Grad Norm: 15.0506, LR: 0.000005\n",
      "Checkpoint saved at 'audiotwin_checkpoints_medium\\run_5_lp1e-02_ep1e-06_lb0.010\\audiotwin_pestlarvanet_medium_epoch_30.pth'\n"
     ]
    },
    {
     "name": "stderr",
     "output_type": "stream",
     "text": [
      "run_5_lp1e-02_ep1e-06_lb0.010 Epoch 31/100: 100%|██| 1556/1556 [18:08<00:00,  1.43it/s, grad_norm=29.5645, loss=2.6723]\n"
     ]
    },
    {
     "name": "stdout",
     "output_type": "stream",
     "text": [
      "run_5_lp1e-02_ep1e-06_lb0.010 Epoch 31/100 | Avg Loss: 2.5750, Avg Grad Norm: 15.3883, LR: 0.000005\n"
     ]
    },
    {
     "name": "stderr",
     "output_type": "stream",
     "text": [
      "run_5_lp1e-02_ep1e-06_lb0.010 Epoch 32/100: 100%|██| 1556/1556 [18:07<00:00,  1.43it/s, grad_norm=30.7686, loss=3.1093]\n"
     ]
    },
    {
     "name": "stdout",
     "output_type": "stream",
     "text": [
      "run_5_lp1e-02_ep1e-06_lb0.010 Epoch 32/100 | Avg Loss: 2.5612, Avg Grad Norm: 15.1801, LR: 0.000005\n"
     ]
    },
    {
     "name": "stderr",
     "output_type": "stream",
     "text": [
      "run_5_lp1e-02_ep1e-06_lb0.010 Epoch 33/100: 100%|██| 1556/1556 [19:00<00:00,  1.36it/s, grad_norm=90.1945, loss=4.8882]\n"
     ]
    },
    {
     "name": "stdout",
     "output_type": "stream",
     "text": [
      "run_5_lp1e-02_ep1e-06_lb0.010 Epoch 33/100 | Avg Loss: 2.5348, Avg Grad Norm: 15.0809, LR: 0.000005\n"
     ]
    },
    {
     "name": "stderr",
     "output_type": "stream",
     "text": [
      "run_5_lp1e-02_ep1e-06_lb0.010 Epoch 34/100: 100%|██| 1556/1556 [22:29<00:00,  1.15it/s, grad_norm=51.0491, loss=3.8872]\n"
     ]
    },
    {
     "name": "stdout",
     "output_type": "stream",
     "text": [
      "run_5_lp1e-02_ep1e-06_lb0.010 Epoch 34/100 | Avg Loss: 2.5393, Avg Grad Norm: 15.3266, LR: 0.000005\n"
     ]
    },
    {
     "name": "stderr",
     "output_type": "stream",
     "text": [
      "run_5_lp1e-02_ep1e-06_lb0.010 Epoch 35/100: 100%|██| 1556/1556 [18:08<00:00,  1.43it/s, grad_norm=46.6425, loss=4.9444]\n"
     ]
    },
    {
     "name": "stdout",
     "output_type": "stream",
     "text": [
      "run_5_lp1e-02_ep1e-06_lb0.010 Epoch 35/100 | Avg Loss: 2.5435, Avg Grad Norm: 15.2349, LR: 0.000005\n",
      "Checkpoint saved at 'audiotwin_checkpoints_medium\\run_5_lp1e-02_ep1e-06_lb0.010\\audiotwin_pestlarvanet_medium_epoch_35.pth'\n"
     ]
    },
    {
     "name": "stderr",
     "output_type": "stream",
     "text": [
      "run_5_lp1e-02_ep1e-06_lb0.010 Epoch 36/100: 100%|█| 1556/1556 [18:10<00:00,  1.43it/s, grad_norm=116.9157, loss=4.9184]\n"
     ]
    },
    {
     "name": "stdout",
     "output_type": "stream",
     "text": [
      "run_5_lp1e-02_ep1e-06_lb0.010 Epoch 36/100 | Avg Loss: 2.5034, Avg Grad Norm: 15.2721, LR: 0.000005\n"
     ]
    },
    {
     "name": "stderr",
     "output_type": "stream",
     "text": [
      "run_5_lp1e-02_ep1e-06_lb0.010 Epoch 37/100: 100%|██| 1556/1556 [18:08<00:00,  1.43it/s, grad_norm=21.4476, loss=2.4312]\n"
     ]
    },
    {
     "name": "stdout",
     "output_type": "stream",
     "text": [
      "run_5_lp1e-02_ep1e-06_lb0.010 Epoch 37/100 | Avg Loss: 2.5146, Avg Grad Norm: 14.9433, LR: 0.000005\n"
     ]
    },
    {
     "name": "stderr",
     "output_type": "stream",
     "text": [
      "run_5_lp1e-02_ep1e-06_lb0.010 Epoch 38/100: 100%|██| 1556/1556 [18:08<00:00,  1.43it/s, grad_norm=14.4573, loss=2.4648]\n"
     ]
    },
    {
     "name": "stdout",
     "output_type": "stream",
     "text": [
      "run_5_lp1e-02_ep1e-06_lb0.010 Epoch 38/100 | Avg Loss: 2.5212, Avg Grad Norm: 15.5003, LR: 0.000005\n"
     ]
    },
    {
     "name": "stderr",
     "output_type": "stream",
     "text": [
      "run_5_lp1e-02_ep1e-06_lb0.010 Epoch 39/100: 100%|██| 1556/1556 [18:08<00:00,  1.43it/s, grad_norm=33.5942, loss=3.3266]\n"
     ]
    },
    {
     "name": "stdout",
     "output_type": "stream",
     "text": [
      "run_5_lp1e-02_ep1e-06_lb0.010 Epoch 39/100 | Avg Loss: 2.5162, Avg Grad Norm: 15.7183, LR: 0.000005\n"
     ]
    },
    {
     "name": "stderr",
     "output_type": "stream",
     "text": [
      "run_5_lp1e-02_ep1e-06_lb0.010 Epoch 40/100: 100%|██| 1556/1556 [18:07<00:00,  1.43it/s, grad_norm=29.3158, loss=3.3001]\n"
     ]
    },
    {
     "name": "stdout",
     "output_type": "stream",
     "text": [
      "run_5_lp1e-02_ep1e-06_lb0.010 Epoch 40/100 | Avg Loss: 2.4924, Avg Grad Norm: 15.1936, LR: 0.000005\n",
      "Checkpoint saved at 'audiotwin_checkpoints_medium\\run_5_lp1e-02_ep1e-06_lb0.010\\audiotwin_pestlarvanet_medium_epoch_40.pth'\n"
     ]
    },
    {
     "name": "stderr",
     "output_type": "stream",
     "text": [
      "run_5_lp1e-02_ep1e-06_lb0.010 Epoch 41/100: 100%|██| 1556/1556 [18:08<00:00,  1.43it/s, grad_norm=28.1407, loss=3.5486]\n"
     ]
    },
    {
     "name": "stdout",
     "output_type": "stream",
     "text": [
      "run_5_lp1e-02_ep1e-06_lb0.010 Epoch 41/100 | Avg Loss: 2.4917, Avg Grad Norm: 15.4452, LR: 0.000005\n"
     ]
    },
    {
     "name": "stderr",
     "output_type": "stream",
     "text": [
      "run_5_lp1e-02_ep1e-06_lb0.010 Epoch 42/100: 100%|██| 1556/1556 [18:06<00:00,  1.43it/s, grad_norm=24.6888, loss=2.7359]\n"
     ]
    },
    {
     "name": "stdout",
     "output_type": "stream",
     "text": [
      "run_5_lp1e-02_ep1e-06_lb0.010 Epoch 42/100 | Avg Loss: 2.4790, Avg Grad Norm: 15.4468, LR: 0.000005\n"
     ]
    },
    {
     "name": "stderr",
     "output_type": "stream",
     "text": [
      "run_5_lp1e-02_ep1e-06_lb0.010 Epoch 43/100: 100%|██| 1556/1556 [18:06<00:00,  1.43it/s, grad_norm=32.7523, loss=3.3283]\n"
     ]
    },
    {
     "name": "stdout",
     "output_type": "stream",
     "text": [
      "run_5_lp1e-02_ep1e-06_lb0.010 Epoch 43/100 | Avg Loss: 2.4845, Avg Grad Norm: 15.5523, LR: 0.000005\n"
     ]
    },
    {
     "name": "stderr",
     "output_type": "stream",
     "text": [
      "run_5_lp1e-02_ep1e-06_lb0.010 Epoch 44/100: 100%|██| 1556/1556 [18:07<00:00,  1.43it/s, grad_norm=21.2687, loss=3.0953]\n"
     ]
    },
    {
     "name": "stdout",
     "output_type": "stream",
     "text": [
      "run_5_lp1e-02_ep1e-06_lb0.010 Epoch 44/100 | Avg Loss: 2.4906, Avg Grad Norm: 15.8132, LR: 0.000005\n"
     ]
    },
    {
     "name": "stderr",
     "output_type": "stream",
     "text": [
      "run_5_lp1e-02_ep1e-06_lb0.010 Epoch 45/100: 100%|███| 1556/1556 [18:08<00:00,  1.43it/s, grad_norm=9.9423, loss=2.2124]\n"
     ]
    },
    {
     "name": "stdout",
     "output_type": "stream",
     "text": [
      "run_5_lp1e-02_ep1e-06_lb0.010 Epoch 45/100 | Avg Loss: 2.4782, Avg Grad Norm: 15.9095, LR: 0.000005\n",
      "Checkpoint saved at 'audiotwin_checkpoints_medium\\run_5_lp1e-02_ep1e-06_lb0.010\\audiotwin_pestlarvanet_medium_epoch_45.pth'\n"
     ]
    },
    {
     "name": "stderr",
     "output_type": "stream",
     "text": [
      "run_5_lp1e-02_ep1e-06_lb0.010 Epoch 46/100: 100%|██| 1556/1556 [18:05<00:00,  1.43it/s, grad_norm=34.9484, loss=3.5111]\n"
     ]
    },
    {
     "name": "stdout",
     "output_type": "stream",
     "text": [
      "run_5_lp1e-02_ep1e-06_lb0.010 Epoch 46/100 | Avg Loss: 2.4602, Avg Grad Norm: 15.5641, LR: 0.000005\n"
     ]
    },
    {
     "name": "stderr",
     "output_type": "stream",
     "text": [
      "run_5_lp1e-02_ep1e-06_lb0.010 Epoch 47/100: 100%|██| 1556/1556 [18:09<00:00,  1.43it/s, grad_norm=17.0089, loss=2.4729]\n"
     ]
    },
    {
     "name": "stdout",
     "output_type": "stream",
     "text": [
      "run_5_lp1e-02_ep1e-06_lb0.010 Epoch 47/100 | Avg Loss: 2.4572, Avg Grad Norm: 15.5710, LR: 0.000005\n"
     ]
    },
    {
     "name": "stderr",
     "output_type": "stream",
     "text": [
      "run_5_lp1e-02_ep1e-06_lb0.010 Epoch 48/100: 100%|██| 1556/1556 [18:10<00:00,  1.43it/s, grad_norm=35.7250, loss=3.6543]\n"
     ]
    },
    {
     "name": "stdout",
     "output_type": "stream",
     "text": [
      "run_5_lp1e-02_ep1e-06_lb0.010 Epoch 48/100 | Avg Loss: 2.4488, Avg Grad Norm: 15.5675, LR: 0.000005\n"
     ]
    },
    {
     "name": "stderr",
     "output_type": "stream",
     "text": [
      "run_5_lp1e-02_ep1e-06_lb0.010 Epoch 49/100: 100%|██| 1556/1556 [18:09<00:00,  1.43it/s, grad_norm=37.9329, loss=3.3687]\n"
     ]
    },
    {
     "name": "stdout",
     "output_type": "stream",
     "text": [
      "run_5_lp1e-02_ep1e-06_lb0.010 Epoch 49/100 | Avg Loss: 2.4371, Avg Grad Norm: 15.5007, LR: 0.000005\n"
     ]
    },
    {
     "name": "stderr",
     "output_type": "stream",
     "text": [
      "run_5_lp1e-02_ep1e-06_lb0.010 Epoch 50/100: 100%|██| 1556/1556 [18:21<00:00,  1.41it/s, grad_norm=56.7920, loss=3.1561]\n"
     ]
    },
    {
     "name": "stdout",
     "output_type": "stream",
     "text": [
      "run_5_lp1e-02_ep1e-06_lb0.010 Epoch 50/100 | Avg Loss: 2.4233, Avg Grad Norm: 15.3749, LR: 0.000005\n",
      "Checkpoint saved at 'audiotwin_checkpoints_medium\\run_5_lp1e-02_ep1e-06_lb0.010\\audiotwin_pestlarvanet_medium_epoch_50.pth'\n"
     ]
    },
    {
     "name": "stderr",
     "output_type": "stream",
     "text": [
      "run_5_lp1e-02_ep1e-06_lb0.010 Epoch 51/100: 100%|██| 1556/1556 [18:11<00:00,  1.43it/s, grad_norm=38.4167, loss=3.3192]\n"
     ]
    },
    {
     "name": "stdout",
     "output_type": "stream",
     "text": [
      "run_5_lp1e-02_ep1e-06_lb0.010 Epoch 51/100 | Avg Loss: 2.4349, Avg Grad Norm: 15.7484, LR: 0.000005\n"
     ]
    },
    {
     "name": "stderr",
     "output_type": "stream",
     "text": [
      "run_5_lp1e-02_ep1e-06_lb0.010 Epoch 52/100: 100%|██| 1556/1556 [18:08<00:00,  1.43it/s, grad_norm=61.5843, loss=3.0361]\n"
     ]
    },
    {
     "name": "stdout",
     "output_type": "stream",
     "text": [
      "run_5_lp1e-02_ep1e-06_lb0.010 Epoch 52/100 | Avg Loss: 2.4292, Avg Grad Norm: 16.0181, LR: 0.000005\n"
     ]
    },
    {
     "name": "stderr",
     "output_type": "stream",
     "text": [
      "run_5_lp1e-02_ep1e-06_lb0.010 Epoch 53/100: 100%|██| 1556/1556 [18:05<00:00,  1.43it/s, grad_norm=33.9383, loss=3.1156]\n"
     ]
    },
    {
     "name": "stdout",
     "output_type": "stream",
     "text": [
      "run_5_lp1e-02_ep1e-06_lb0.010 Epoch 53/100 | Avg Loss: 2.4185, Avg Grad Norm: 16.2621, LR: 0.000005\n"
     ]
    },
    {
     "name": "stderr",
     "output_type": "stream",
     "text": [
      "run_5_lp1e-02_ep1e-06_lb0.010 Epoch 54/100: 100%|██| 1556/1556 [18:09<00:00,  1.43it/s, grad_norm=63.1656, loss=4.0684]\n"
     ]
    },
    {
     "name": "stdout",
     "output_type": "stream",
     "text": [
      "run_5_lp1e-02_ep1e-06_lb0.010 Epoch 54/100 | Avg Loss: 2.4090, Avg Grad Norm: 15.9927, LR: 0.000005\n"
     ]
    },
    {
     "name": "stderr",
     "output_type": "stream",
     "text": [
      "run_5_lp1e-02_ep1e-06_lb0.010 Epoch 55/100: 100%|██| 1556/1556 [18:09<00:00,  1.43it/s, grad_norm=80.2107, loss=5.4357]\n"
     ]
    },
    {
     "name": "stdout",
     "output_type": "stream",
     "text": [
      "run_5_lp1e-02_ep1e-06_lb0.010 Epoch 55/100 | Avg Loss: 2.4206, Avg Grad Norm: 16.4649, LR: 0.000005\n",
      "Checkpoint saved at 'audiotwin_checkpoints_medium\\run_5_lp1e-02_ep1e-06_lb0.010\\audiotwin_pestlarvanet_medium_epoch_55.pth'\n"
     ]
    },
    {
     "name": "stderr",
     "output_type": "stream",
     "text": [
      "run_5_lp1e-02_ep1e-06_lb0.010 Epoch 56/100: 100%|██| 1556/1556 [18:07<00:00,  1.43it/s, grad_norm=34.7295, loss=2.9504]\n"
     ]
    },
    {
     "name": "stdout",
     "output_type": "stream",
     "text": [
      "run_5_lp1e-02_ep1e-06_lb0.010 Epoch 56/100 | Avg Loss: 2.4175, Avg Grad Norm: 16.5294, LR: 0.000005\n"
     ]
    },
    {
     "name": "stderr",
     "output_type": "stream",
     "text": [
      "run_5_lp1e-02_ep1e-06_lb0.010 Epoch 57/100: 100%|██| 1556/1556 [18:06<00:00,  1.43it/s, grad_norm=50.3002, loss=4.1364]\n"
     ]
    },
    {
     "name": "stdout",
     "output_type": "stream",
     "text": [
      "run_5_lp1e-02_ep1e-06_lb0.010 Epoch 57/100 | Avg Loss: 2.4216, Avg Grad Norm: 17.0065, LR: 0.000005\n"
     ]
    },
    {
     "name": "stderr",
     "output_type": "stream",
     "text": [
      "run_5_lp1e-02_ep1e-06_lb0.010 Epoch 58/100: 100%|██| 1556/1556 [18:08<00:00,  1.43it/s, grad_norm=66.2040, loss=3.9368]\n"
     ]
    },
    {
     "name": "stdout",
     "output_type": "stream",
     "text": [
      "run_5_lp1e-02_ep1e-06_lb0.010 Epoch 58/100 | Avg Loss: 2.3888, Avg Grad Norm: 16.6614, LR: 0.000005\n"
     ]
    },
    {
     "name": "stderr",
     "output_type": "stream",
     "text": [
      "run_5_lp1e-02_ep1e-06_lb0.010 Epoch 59/100: 100%|██| 1556/1556 [18:09<00:00,  1.43it/s, grad_norm=27.6102, loss=3.0026]\n"
     ]
    },
    {
     "name": "stdout",
     "output_type": "stream",
     "text": [
      "run_5_lp1e-02_ep1e-06_lb0.010 Epoch 59/100 | Avg Loss: 2.3799, Avg Grad Norm: 16.7849, LR: 0.000005\n"
     ]
    },
    {
     "name": "stderr",
     "output_type": "stream",
     "text": [
      "run_5_lp1e-02_ep1e-06_lb0.010 Epoch 60/100: 100%|██| 1556/1556 [18:10<00:00,  1.43it/s, grad_norm=41.3807, loss=3.2568]\n"
     ]
    },
    {
     "name": "stdout",
     "output_type": "stream",
     "text": [
      "run_5_lp1e-02_ep1e-06_lb0.010 Epoch 60/100 | Avg Loss: 2.3867, Avg Grad Norm: 17.0014, LR: 0.000005\n",
      "Checkpoint saved at 'audiotwin_checkpoints_medium\\run_5_lp1e-02_ep1e-06_lb0.010\\audiotwin_pestlarvanet_medium_epoch_60.pth'\n"
     ]
    },
    {
     "name": "stderr",
     "output_type": "stream",
     "text": [
      "run_5_lp1e-02_ep1e-06_lb0.010 Epoch 61/100: 100%|██| 1556/1556 [22:11<00:00,  1.17it/s, grad_norm=27.3235, loss=2.9941]\n"
     ]
    },
    {
     "name": "stdout",
     "output_type": "stream",
     "text": [
      "run_5_lp1e-02_ep1e-06_lb0.010 Epoch 61/100 | Avg Loss: 2.3801, Avg Grad Norm: 16.8507, LR: 0.000005\n"
     ]
    },
    {
     "name": "stderr",
     "output_type": "stream",
     "text": [
      "run_5_lp1e-02_ep1e-06_lb0.010 Epoch 62/100: 100%|██| 1556/1556 [19:19<00:00,  1.34it/s, grad_norm=65.9953, loss=3.7822]\n"
     ]
    },
    {
     "name": "stdout",
     "output_type": "stream",
     "text": [
      "run_5_lp1e-02_ep1e-06_lb0.010 Epoch 62/100 | Avg Loss: 2.3907, Avg Grad Norm: 17.1316, LR: 0.000005\n"
     ]
    },
    {
     "name": "stderr",
     "output_type": "stream",
     "text": [
      "run_5_lp1e-02_ep1e-06_lb0.010 Epoch 63/100: 100%|██| 1556/1556 [19:52<00:00,  1.30it/s, grad_norm=36.5587, loss=3.2300]\n"
     ]
    },
    {
     "name": "stdout",
     "output_type": "stream",
     "text": [
      "run_5_lp1e-02_ep1e-06_lb0.010 Epoch 63/100 | Avg Loss: 2.3581, Avg Grad Norm: 16.8260, LR: 0.000005\n"
     ]
    },
    {
     "name": "stderr",
     "output_type": "stream",
     "text": [
      "run_5_lp1e-02_ep1e-06_lb0.010 Epoch 64/100: 100%|██| 1556/1556 [22:07<00:00,  1.17it/s, grad_norm=15.9489, loss=2.2237]\n"
     ]
    },
    {
     "name": "stdout",
     "output_type": "stream",
     "text": [
      "run_5_lp1e-02_ep1e-06_lb0.010 Epoch 64/100 | Avg Loss: 2.3594, Avg Grad Norm: 17.1062, LR: 0.000005\n"
     ]
    },
    {
     "name": "stderr",
     "output_type": "stream",
     "text": [
      "run_5_lp1e-02_ep1e-06_lb0.010 Epoch 65/100: 100%|██| 1556/1556 [18:50<00:00,  1.38it/s, grad_norm=29.3986, loss=2.8617]\n"
     ]
    },
    {
     "name": "stdout",
     "output_type": "stream",
     "text": [
      "run_5_lp1e-02_ep1e-06_lb0.010 Epoch 65/100 | Avg Loss: 2.3590, Avg Grad Norm: 17.2356, LR: 0.000005\n",
      "Checkpoint saved at 'audiotwin_checkpoints_medium\\run_5_lp1e-02_ep1e-06_lb0.010\\audiotwin_pestlarvanet_medium_epoch_65.pth'\n"
     ]
    },
    {
     "name": "stderr",
     "output_type": "stream",
     "text": [
      "run_5_lp1e-02_ep1e-06_lb0.010 Epoch 66/100: 100%|██| 1556/1556 [18:54<00:00,  1.37it/s, grad_norm=45.8277, loss=2.6789]\n"
     ]
    },
    {
     "name": "stdout",
     "output_type": "stream",
     "text": [
      "run_5_lp1e-02_ep1e-06_lb0.010 Epoch 66/100 | Avg Loss: 2.3545, Avg Grad Norm: 17.4258, LR: 0.000005\n"
     ]
    },
    {
     "name": "stderr",
     "output_type": "stream",
     "text": [
      "run_5_lp1e-02_ep1e-06_lb0.010 Epoch 67/100: 100%|██| 1556/1556 [18:26<00:00,  1.41it/s, grad_norm=51.8761, loss=3.1992]\n"
     ]
    },
    {
     "name": "stdout",
     "output_type": "stream",
     "text": [
      "run_5_lp1e-02_ep1e-06_lb0.010 Epoch 67/100 | Avg Loss: 2.3583, Avg Grad Norm: 17.5785, LR: 0.000005\n"
     ]
    },
    {
     "name": "stderr",
     "output_type": "stream",
     "text": [
      "run_5_lp1e-02_ep1e-06_lb0.010 Epoch 68/100: 100%|██| 1556/1556 [18:33<00:00,  1.40it/s, grad_norm=30.8294, loss=2.7894]\n"
     ]
    },
    {
     "name": "stdout",
     "output_type": "stream",
     "text": [
      "run_5_lp1e-02_ep1e-06_lb0.010 Epoch 68/100 | Avg Loss: 2.3427, Avg Grad Norm: 17.4996, LR: 0.000005\n"
     ]
    },
    {
     "name": "stderr",
     "output_type": "stream",
     "text": [
      "run_5_lp1e-02_ep1e-06_lb0.010 Epoch 69/100: 100%|██| 1556/1556 [18:23<00:00,  1.41it/s, grad_norm=94.9901, loss=4.9226]\n"
     ]
    },
    {
     "name": "stdout",
     "output_type": "stream",
     "text": [
      "run_5_lp1e-02_ep1e-06_lb0.010 Epoch 69/100 | Avg Loss: 2.3304, Avg Grad Norm: 17.4442, LR: 0.000005\n"
     ]
    },
    {
     "name": "stderr",
     "output_type": "stream",
     "text": [
      "run_5_lp1e-02_ep1e-06_lb0.010 Epoch 70/100: 100%|██| 1556/1556 [18:23<00:00,  1.41it/s, grad_norm=85.1857, loss=4.4770]\n"
     ]
    },
    {
     "name": "stdout",
     "output_type": "stream",
     "text": [
      "run_5_lp1e-02_ep1e-06_lb0.010 Epoch 70/100 | Avg Loss: 2.3331, Avg Grad Norm: 17.5835, LR: 0.000005\n",
      "Checkpoint saved at 'audiotwin_checkpoints_medium\\run_5_lp1e-02_ep1e-06_lb0.010\\audiotwin_pestlarvanet_medium_epoch_70.pth'\n"
     ]
    },
    {
     "name": "stderr",
     "output_type": "stream",
     "text": [
      "run_5_lp1e-02_ep1e-06_lb0.010 Epoch 71/100: 100%|██| 1556/1556 [18:18<00:00,  1.42it/s, grad_norm=40.7684, loss=3.3846]\n"
     ]
    },
    {
     "name": "stdout",
     "output_type": "stream",
     "text": [
      "run_5_lp1e-02_ep1e-06_lb0.010 Epoch 71/100 | Avg Loss: 2.3416, Avg Grad Norm: 17.7553, LR: 0.000005\n"
     ]
    },
    {
     "name": "stderr",
     "output_type": "stream",
     "text": [
      "run_5_lp1e-02_ep1e-06_lb0.010 Epoch 72/100: 100%|██| 1556/1556 [18:28<00:00,  1.40it/s, grad_norm=18.7885, loss=2.7198]\n"
     ]
    },
    {
     "name": "stdout",
     "output_type": "stream",
     "text": [
      "run_5_lp1e-02_ep1e-06_lb0.010 Epoch 72/100 | Avg Loss: 2.3322, Avg Grad Norm: 17.8687, LR: 0.000005\n"
     ]
    },
    {
     "name": "stderr",
     "output_type": "stream",
     "text": [
      "run_5_lp1e-02_ep1e-06_lb0.010 Epoch 73/100: 100%|██| 1556/1556 [18:33<00:00,  1.40it/s, grad_norm=44.6155, loss=3.6803]\n"
     ]
    },
    {
     "name": "stdout",
     "output_type": "stream",
     "text": [
      "run_5_lp1e-02_ep1e-06_lb0.010 Epoch 73/100 | Avg Loss: 2.3263, Avg Grad Norm: 17.7092, LR: 0.000005\n"
     ]
    },
    {
     "name": "stderr",
     "output_type": "stream",
     "text": [
      "run_5_lp1e-02_ep1e-06_lb0.010 Epoch 74/100: 100%|█| 1556/1556 [18:59<00:00,  1.37it/s, grad_norm=115.1015, loss=5.7456]\n"
     ]
    },
    {
     "name": "stdout",
     "output_type": "stream",
     "text": [
      "run_5_lp1e-02_ep1e-06_lb0.010 Epoch 74/100 | Avg Loss: 2.3334, Avg Grad Norm: 18.1083, LR: 0.000005\n"
     ]
    },
    {
     "name": "stderr",
     "output_type": "stream",
     "text": [
      "run_5_lp1e-02_ep1e-06_lb0.010 Epoch 75/100: 100%|██| 1556/1556 [19:32<00:00,  1.33it/s, grad_norm=50.5072, loss=3.4266]\n"
     ]
    },
    {
     "name": "stdout",
     "output_type": "stream",
     "text": [
      "run_5_lp1e-02_ep1e-06_lb0.010 Epoch 75/100 | Avg Loss: 2.3279, Avg Grad Norm: 17.7310, LR: 0.000005\n",
      "Checkpoint saved at 'audiotwin_checkpoints_medium\\run_5_lp1e-02_ep1e-06_lb0.010\\audiotwin_pestlarvanet_medium_epoch_75.pth'\n"
     ]
    },
    {
     "name": "stderr",
     "output_type": "stream",
     "text": [
      "run_5_lp1e-02_ep1e-06_lb0.010 Epoch 76/100: 100%|██| 1556/1556 [19:27<00:00,  1.33it/s, grad_norm=29.6053, loss=2.9322]\n"
     ]
    },
    {
     "name": "stdout",
     "output_type": "stream",
     "text": [
      "run_5_lp1e-02_ep1e-06_lb0.010 Epoch 76/100 | Avg Loss: 2.3161, Avg Grad Norm: 17.7056, LR: 0.000005\n"
     ]
    },
    {
     "name": "stderr",
     "output_type": "stream",
     "text": [
      "run_5_lp1e-02_ep1e-06_lb0.010 Epoch 77/100: 100%|██| 1556/1556 [19:19<00:00,  1.34it/s, grad_norm=28.9492, loss=2.7031]\n"
     ]
    },
    {
     "name": "stdout",
     "output_type": "stream",
     "text": [
      "run_5_lp1e-02_ep1e-06_lb0.010 Epoch 77/100 | Avg Loss: 2.3178, Avg Grad Norm: 18.0050, LR: 0.000005\n"
     ]
    },
    {
     "name": "stderr",
     "output_type": "stream",
     "text": [
      "run_5_lp1e-02_ep1e-06_lb0.010 Epoch 78/100: 100%|██| 1556/1556 [20:02<00:00,  1.29it/s, grad_norm=33.6098, loss=3.6697]\n"
     ]
    },
    {
     "name": "stdout",
     "output_type": "stream",
     "text": [
      "run_5_lp1e-02_ep1e-06_lb0.010 Epoch 78/100 | Avg Loss: 2.3188, Avg Grad Norm: 17.9375, LR: 0.000005\n"
     ]
    },
    {
     "name": "stderr",
     "output_type": "stream",
     "text": [
      "run_5_lp1e-02_ep1e-06_lb0.010 Epoch 79/100: 100%|██| 1556/1556 [19:09<00:00,  1.35it/s, grad_norm=49.5083, loss=3.4889]\n"
     ]
    },
    {
     "name": "stdout",
     "output_type": "stream",
     "text": [
      "run_5_lp1e-02_ep1e-06_lb0.010 Epoch 79/100 | Avg Loss: 2.3137, Avg Grad Norm: 18.0910, LR: 0.000005\n"
     ]
    },
    {
     "name": "stderr",
     "output_type": "stream",
     "text": [
      "run_5_lp1e-02_ep1e-06_lb0.010 Epoch 80/100: 100%|██| 1556/1556 [18:14<00:00,  1.42it/s, grad_norm=62.8038, loss=4.0281]\n"
     ]
    },
    {
     "name": "stdout",
     "output_type": "stream",
     "text": [
      "run_5_lp1e-02_ep1e-06_lb0.010 Epoch 80/100 | Avg Loss: 2.2820, Avg Grad Norm: 17.9476, LR: 0.000005\n",
      "Checkpoint saved at 'audiotwin_checkpoints_medium\\run_5_lp1e-02_ep1e-06_lb0.010\\audiotwin_pestlarvanet_medium_epoch_80.pth'\n"
     ]
    },
    {
     "name": "stderr",
     "output_type": "stream",
     "text": [
      "run_5_lp1e-02_ep1e-06_lb0.010 Epoch 81/100: 100%|██| 1556/1556 [18:16<00:00,  1.42it/s, grad_norm=72.0550, loss=4.4483]\n"
     ]
    },
    {
     "name": "stdout",
     "output_type": "stream",
     "text": [
      "run_5_lp1e-02_ep1e-06_lb0.010 Epoch 81/100 | Avg Loss: 2.3042, Avg Grad Norm: 18.3693, LR: 0.000005\n"
     ]
    },
    {
     "name": "stderr",
     "output_type": "stream",
     "text": [
      "run_5_lp1e-02_ep1e-06_lb0.010 Epoch 82/100: 100%|██| 1556/1556 [18:15<00:00,  1.42it/s, grad_norm=49.5135, loss=3.4701]\n"
     ]
    },
    {
     "name": "stdout",
     "output_type": "stream",
     "text": [
      "run_5_lp1e-02_ep1e-06_lb0.010 Epoch 82/100 | Avg Loss: 2.2982, Avg Grad Norm: 17.9958, LR: 0.000005\n"
     ]
    },
    {
     "name": "stderr",
     "output_type": "stream",
     "text": [
      "run_5_lp1e-02_ep1e-06_lb0.010 Epoch 83/100: 100%|██| 1556/1556 [18:14<00:00,  1.42it/s, grad_norm=19.7394, loss=2.3439]\n"
     ]
    },
    {
     "name": "stdout",
     "output_type": "stream",
     "text": [
      "run_5_lp1e-02_ep1e-06_lb0.010 Epoch 83/100 | Avg Loss: 2.2965, Avg Grad Norm: 18.3054, LR: 0.000005\n"
     ]
    },
    {
     "name": "stderr",
     "output_type": "stream",
     "text": [
      "run_5_lp1e-02_ep1e-06_lb0.010 Epoch 84/100: 100%|██| 1556/1556 [18:16<00:00,  1.42it/s, grad_norm=24.8209, loss=2.7999]\n"
     ]
    },
    {
     "name": "stdout",
     "output_type": "stream",
     "text": [
      "run_5_lp1e-02_ep1e-06_lb0.010 Epoch 84/100 | Avg Loss: 2.3119, Avg Grad Norm: 18.2255, LR: 0.000005\n"
     ]
    },
    {
     "name": "stderr",
     "output_type": "stream",
     "text": [
      "run_5_lp1e-02_ep1e-06_lb0.010 Epoch 85/100: 100%|██| 1556/1556 [18:10<00:00,  1.43it/s, grad_norm=36.5440, loss=3.5069]\n"
     ]
    },
    {
     "name": "stdout",
     "output_type": "stream",
     "text": [
      "run_5_lp1e-02_ep1e-06_lb0.010 Epoch 85/100 | Avg Loss: 2.3124, Avg Grad Norm: 18.5059, LR: 0.000005\n",
      "Checkpoint saved at 'audiotwin_checkpoints_medium\\run_5_lp1e-02_ep1e-06_lb0.010\\audiotwin_pestlarvanet_medium_epoch_85.pth'\n"
     ]
    },
    {
     "name": "stderr",
     "output_type": "stream",
     "text": [
      "run_5_lp1e-02_ep1e-06_lb0.010 Epoch 86/100: 100%|██| 1556/1556 [18:11<00:00,  1.43it/s, grad_norm=49.9994, loss=3.2048]\n"
     ]
    },
    {
     "name": "stdout",
     "output_type": "stream",
     "text": [
      "run_5_lp1e-02_ep1e-06_lb0.010 Epoch 86/100 | Avg Loss: 2.2973, Avg Grad Norm: 18.2973, LR: 0.000005\n"
     ]
    },
    {
     "name": "stderr",
     "output_type": "stream",
     "text": [
      "run_5_lp1e-02_ep1e-06_lb0.010 Epoch 87/100: 100%|██| 1556/1556 [18:12<00:00,  1.42it/s, grad_norm=97.4180, loss=3.3041]\n"
     ]
    },
    {
     "name": "stdout",
     "output_type": "stream",
     "text": [
      "run_5_lp1e-02_ep1e-06_lb0.010 Epoch 87/100 | Avg Loss: 2.3278, Avg Grad Norm: 18.9624, LR: 0.000001\n"
     ]
    },
    {
     "name": "stderr",
     "output_type": "stream",
     "text": [
      "run_5_lp1e-02_ep1e-06_lb0.010 Epoch 88/100: 100%|██| 1556/1556 [18:14<00:00,  1.42it/s, grad_norm=32.5525, loss=3.4421]\n"
     ]
    },
    {
     "name": "stdout",
     "output_type": "stream",
     "text": [
      "run_5_lp1e-02_ep1e-06_lb0.010 Epoch 88/100 | Avg Loss: 2.2942, Avg Grad Norm: 18.4475, LR: 0.000001\n"
     ]
    },
    {
     "name": "stderr",
     "output_type": "stream",
     "text": [
      "run_5_lp1e-02_ep1e-06_lb0.010 Epoch 89/100: 100%|██| 1556/1556 [18:15<00:00,  1.42it/s, grad_norm=48.2359, loss=3.3422]\n"
     ]
    },
    {
     "name": "stdout",
     "output_type": "stream",
     "text": [
      "run_5_lp1e-02_ep1e-06_lb0.010 Epoch 89/100 | Avg Loss: 2.3018, Avg Grad Norm: 18.5624, LR: 0.000001\n"
     ]
    },
    {
     "name": "stderr",
     "output_type": "stream",
     "text": [
      "run_5_lp1e-02_ep1e-06_lb0.010 Epoch 90/100: 100%|██| 1556/1556 [18:14<00:00,  1.42it/s, grad_norm=23.5053, loss=2.6163]\n"
     ]
    },
    {
     "name": "stdout",
     "output_type": "stream",
     "text": [
      "run_5_lp1e-02_ep1e-06_lb0.010 Epoch 90/100 | Avg Loss: 2.2729, Avg Grad Norm: 17.9589, LR: 0.000001\n",
      "Checkpoint saved at 'audiotwin_checkpoints_medium\\run_5_lp1e-02_ep1e-06_lb0.010\\audiotwin_pestlarvanet_medium_epoch_90.pth'\n"
     ]
    },
    {
     "name": "stderr",
     "output_type": "stream",
     "text": [
      "run_5_lp1e-02_ep1e-06_lb0.010 Epoch 91/100: 100%|██| 1556/1556 [18:46<00:00,  1.38it/s, grad_norm=26.4781, loss=2.7655]\n"
     ]
    },
    {
     "name": "stdout",
     "output_type": "stream",
     "text": [
      "run_5_lp1e-02_ep1e-06_lb0.010 Epoch 91/100 | Avg Loss: 2.2751, Avg Grad Norm: 18.0499, LR: 0.000001\n"
     ]
    },
    {
     "name": "stderr",
     "output_type": "stream",
     "text": [
      "run_5_lp1e-02_ep1e-06_lb0.010 Epoch 92/100: 100%|██| 1556/1556 [18:56<00:00,  1.37it/s, grad_norm=53.8716, loss=4.1915]\n"
     ]
    },
    {
     "name": "stdout",
     "output_type": "stream",
     "text": [
      "run_5_lp1e-02_ep1e-06_lb0.010 Epoch 92/100 | Avg Loss: 2.2880, Avg Grad Norm: 18.5291, LR: 0.000001\n"
     ]
    },
    {
     "name": "stderr",
     "output_type": "stream",
     "text": [
      "run_5_lp1e-02_ep1e-06_lb0.010 Epoch 93/100: 100%|██████| 1556/1556 [18:54<00:00,  1.37it/s, grad_norm=inf, loss=5.2776]\n"
     ]
    },
    {
     "name": "stdout",
     "output_type": "stream",
     "text": [
      "run_5_lp1e-02_ep1e-06_lb0.010 Epoch 93/100 | Avg Loss: 2.2987, Avg Grad Norm: 18.8417, LR: 0.000001\n"
     ]
    },
    {
     "name": "stderr",
     "output_type": "stream",
     "text": [
      "run_5_lp1e-02_ep1e-06_lb0.010 Epoch 94/100: 100%|██| 1556/1556 [19:06<00:00,  1.36it/s, grad_norm=90.9147, loss=4.7065]\n"
     ]
    },
    {
     "name": "stdout",
     "output_type": "stream",
     "text": [
      "run_5_lp1e-02_ep1e-06_lb0.010 Epoch 94/100 | Avg Loss: 2.2989, Avg Grad Norm: 18.8428, LR: 0.000001\n"
     ]
    },
    {
     "name": "stderr",
     "output_type": "stream",
     "text": [
      "run_5_lp1e-02_ep1e-06_lb0.010 Epoch 95/100: 100%|█| 1556/1556 [18:24<00:00,  1.41it/s, grad_norm=102.2667, loss=4.2168]\n"
     ]
    },
    {
     "name": "stdout",
     "output_type": "stream",
     "text": [
      "run_5_lp1e-02_ep1e-06_lb0.010 Epoch 95/100 | Avg Loss: 2.2905, Avg Grad Norm: 18.7216, LR: 0.000001\n",
      "Checkpoint saved at 'audiotwin_checkpoints_medium\\run_5_lp1e-02_ep1e-06_lb0.010\\audiotwin_pestlarvanet_medium_epoch_95.pth'\n"
     ]
    },
    {
     "name": "stderr",
     "output_type": "stream",
     "text": [
      "run_5_lp1e-02_ep1e-06_lb0.010 Epoch 96/100: 100%|██| 1556/1556 [18:06<00:00,  1.43it/s, grad_norm=14.8621, loss=2.3148]\n"
     ]
    },
    {
     "name": "stdout",
     "output_type": "stream",
     "text": [
      "run_5_lp1e-02_ep1e-06_lb0.010 Epoch 96/100 | Avg Loss: 2.2859, Avg Grad Norm: 18.5215, LR: 0.000001\n"
     ]
    },
    {
     "name": "stderr",
     "output_type": "stream",
     "text": [
      "run_5_lp1e-02_ep1e-06_lb0.010 Epoch 97/100: 100%|██| 1556/1556 [18:04<00:00,  1.43it/s, grad_norm=30.6699, loss=2.2079]\n"
     ]
    },
    {
     "name": "stdout",
     "output_type": "stream",
     "text": [
      "run_5_lp1e-02_ep1e-06_lb0.010 Epoch 97/100 | Avg Loss: 2.2880, Avg Grad Norm: 18.4401, LR: 0.000000\n"
     ]
    },
    {
     "name": "stderr",
     "output_type": "stream",
     "text": [
      "run_5_lp1e-02_ep1e-06_lb0.010 Epoch 98/100: 100%|██| 1556/1556 [18:04<00:00,  1.44it/s, grad_norm=74.1681, loss=4.0431]\n"
     ]
    },
    {
     "name": "stdout",
     "output_type": "stream",
     "text": [
      "run_5_lp1e-02_ep1e-06_lb0.010 Epoch 98/100 | Avg Loss: 2.3000, Avg Grad Norm: 18.7522, LR: 0.000000\n"
     ]
    },
    {
     "name": "stderr",
     "output_type": "stream",
     "text": [
      "run_5_lp1e-02_ep1e-06_lb0.010 Epoch 99/100: 100%|██| 1556/1556 [18:05<00:00,  1.43it/s, grad_norm=27.3255, loss=3.0634]\n"
     ]
    },
    {
     "name": "stdout",
     "output_type": "stream",
     "text": [
      "run_5_lp1e-02_ep1e-06_lb0.010 Epoch 99/100 | Avg Loss: 2.2745, Avg Grad Norm: 18.2573, LR: 0.000000\n"
     ]
    },
    {
     "name": "stderr",
     "output_type": "stream",
     "text": [
      "run_5_lp1e-02_ep1e-06_lb0.010 Epoch 100/100: 100%|█| 1556/1556 [18:05<00:00,  1.43it/s, grad_norm=81.9110, loss=4.8150]\n"
     ]
    },
    {
     "name": "stdout",
     "output_type": "stream",
     "text": [
      "run_5_lp1e-02_ep1e-06_lb0.010 Epoch 100/100 | Avg Loss: 2.2794, Avg Grad Norm: 18.4198, LR: 0.000000\n",
      "Checkpoint saved at 'audiotwin_checkpoints_medium\\run_5_lp1e-02_ep1e-06_lb0.010\\audiotwin_pestlarvanet_medium_epoch_100.pth'\n"
     ]
    }
   ],
   "source": [
    "SUPERVISED_CHECKPOINT = r'F:\\Working Sync\\LAB projects\\InsectSELD\\Dataset\\best_model_medium.pth'\n",
    "run_audiotwin_pretraining(supervised_checkpoint_path=SUPERVISED_CHECKPOINT)"
   ]
  },
  {
   "cell_type": "code",
   "execution_count": null,
   "id": "7f53431c-f9ea-409a-b320-4213feace3a5",
   "metadata": {},
   "outputs": [],
   "source": []
  }
 ],
 "metadata": {
  "kernelspec": {
   "display_name": "Python 3 (ipykernel)",
   "language": "python",
   "name": "python3"
  },
  "language_info": {
   "codemirror_mode": {
    "name": "ipython",
    "version": 3
   },
   "file_extension": ".py",
   "mimetype": "text/x-python",
   "name": "python",
   "nbconvert_exporter": "python",
   "pygments_lexer": "ipython3",
   "version": "3.10.16"
  }
 },
 "nbformat": 4,
 "nbformat_minor": 5
}
