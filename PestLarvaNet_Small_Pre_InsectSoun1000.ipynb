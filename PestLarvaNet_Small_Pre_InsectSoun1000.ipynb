{
 "cells": [
  {
   "cell_type": "code",
   "execution_count": 1,
   "id": "0d3e0393-aca8-43f5-b00f-6a5393e3e4e9",
   "metadata": {},
   "outputs": [],
   "source": [
    "import os\n",
    "import csv\n",
    "import pandas as pd\n",
    "import numpy as np\n",
    "import torch\n",
    "import torch.nn as nn\n",
    "import torch.nn.functional as F\n",
    "import torchaudio\n",
    "from torch.utils.data import Dataset, DataLoader, random_split\n",
    "from torchvision.transforms import v2 as T\n",
    "from tqdm.notebook import tqdm\n",
    "import matplotlib.pyplot as plt\n",
    "from sklearn.metrics import (accuracy_score, precision_score, recall_score, \n",
    "                             f1_score, confusion_matrix)\n",
    "import seaborn as sns"
   ]
  },
  {
   "cell_type": "code",
   "execution_count": 2,
   "id": "259083cb-d01e-4988-8a5e-a3d339d8b2df",
   "metadata": {},
   "outputs": [
    {
     "name": "stdout",
     "output_type": "stream",
     "text": [
      "Sử dụng thiết bị: cuda\n"
     ]
    }
   ],
   "source": [
    "device = torch.device(\"cuda\" if torch.cuda.is_available() else \"cpu\")\n",
    "print(f\"Sử dụng thiết bị: {device}\")"
   ]
  },
  {
   "cell_type": "code",
   "execution_count": 3,
   "id": "878275a1-c5a6-4ec7-a1f8-6ffae4b83570",
   "metadata": {},
   "outputs": [],
   "source": [
    "class DynamicGraphAttention(nn.Module):\n",
    "    def __init__(self, in_channels, num_nodes=32, heads=8, dropout=0.1):  # Tăng num_nodes/heads mặc định\n",
    "        super().__init__()\n",
    "        self.num_nodes = num_nodes\n",
    "        self.heads = heads\n",
    "        self.head_dim = in_channels // heads\n",
    "        self.dropout = nn.Dropout(dropout)\n",
    "\n",
    "        self.query = nn.Linear(in_channels, in_channels)\n",
    "        self.key = nn.Linear(in_channels, in_channels)\n",
    "        self.value = nn.Linear(in_channels, in_channels)\n",
    "        self.out = nn.Linear(in_channels, in_channels)\n",
    "        self.scale = nn.Parameter(torch.tensor(self.head_dim**-0.5))\n",
    "\n",
    "        # Positional encoding (simple learnable)\n",
    "        self.pos_enc = nn.Parameter(torch.randn(1, num_nodes, in_channels))\n",
    "\n",
    "    def forward(self, x):\n",
    "        B, C, H, W = x.size()\n",
    "        x_flat = x.flatten(2).transpose(1, 2)  # (B, H*W, C)\n",
    "        \n",
    "        num_pixels = H * W\n",
    "        N = min(self.num_nodes, num_pixels)\n",
    "        \n",
    "        # Importance sampling: Chọn top-k pixels dựa trên L2 norm (thay vì random/linspace)\n",
    "        norms = torch.norm(x_flat, dim=-1)  # (B, H*W)\n",
    "        _, indices = torch.topk(norms, N, dim=-1)  # Top-k indices\n",
    "        indices = indices.sort(dim=-1).indices  # Sort để ổn định\n",
    "        x_nodes = torch.gather(x_flat, 1, indices.unsqueeze(-1).expand(-1, -1, C))  # (B, N, C)\n",
    "        \n",
    "        # Thêm positional encoding\n",
    "        x_nodes = x_nodes + self.pos_enc.expand(B, -1, -1)\n",
    "        \n",
    "        q = self.query(x_nodes).view(B, N, self.heads, self.head_dim).transpose(1, 2)\n",
    "        k = self.key(x_nodes).view(B, N, self.heads, self.head_dim).transpose(1, 2)\n",
    "        v = self.value(x_nodes).view(B, N, self.heads, self.head_dim).transpose(1, 2)\n",
    "        \n",
    "        attn_weights = torch.matmul(q, k.transpose(-2, -1)) * self.scale\n",
    "        attn_weights = F.softmax(attn_weights, dim=-1)\n",
    "        attn_weights = self.dropout(attn_weights)  # Thêm dropout\n",
    "        attn_output = torch.matmul(attn_weights, v)\n",
    "        attn_output = attn_output.transpose(1, 2).contiguous().view(B, N, C)\n",
    "        \n",
    "        out_nodes = self.out(attn_output)\n",
    "        \n",
    "        out_flat = torch.zeros_like(x_flat)\n",
    "        out_flat.scatter_(1, indices.unsqueeze(-1).expand(-1, -1, C), out_nodes)\n",
    "        out = out_flat.transpose(1, 2).view(B, C, H, W)\n",
    "        \n",
    "        return x + out  # Residual connection\n",
    "\n",
    "class TemporalAttentionAggregator(nn.Module):\n",
    "    def __init__(self, in_channels, num_heads=4):\n",
    "        super().__init__()\n",
    "        self.attention_net = nn.MultiheadAttention(embed_dim=in_channels, num_heads=num_heads)  # Thay MLP bằng MultiheadAttention\n",
    "        self.norm = nn.LayerNorm(in_channels)\n",
    "\n",
    "    def forward(self, x):\n",
    "        if len(x.shape) == 4:  # (B, C, H, W) -> Giả sử single frame, flatten spatial\n",
    "            B, C, H, W = x.size()\n",
    "            x_flat = x.flatten(2).transpose(1, 2)  # (B, H*W, C)\n",
    "        elif len(x.shape) == 5:  # (B, T, C, H, W) -> Flatten temporal-spatial\n",
    "            B, T, C, H, W = x.size()\n",
    "            x_flat = x.flatten(3).transpose(2, 3).reshape(B, T * H * W, C)  # (B, T*H*W, C)\n",
    "        else:\n",
    "            raise ValueError(\"Input must be 4D or 5D tensor\")\n",
    "        \n",
    "        # Temporal-spatial attention\n",
    "        x_flat = self.norm(x_flat)\n",
    "        attn_output, _ = self.attention_net(x_flat, x_flat, x_flat)  # Self-attention\n",
    "        \n",
    "        # Aggregate\n",
    "        aggregated_vector = torch.mean(attn_output, dim=1)  # Mean pooling thay sum để ổn định\n",
    "        return aggregated_vector\n",
    "\n",
    "class InvertedResidual(nn.Module):\n",
    "    def __init__(self, in_channels, out_channels, stride, expansion=6):  # Tăng expansion mặc định\n",
    "        super().__init__()\n",
    "        hidden_dim = in_channels * expansion\n",
    "        self.use_residual = in_channels == out_channels and stride == 1\n",
    "        \n",
    "        self.conv = nn.Sequential(\n",
    "            nn.Conv2d(in_channels, hidden_dim, 1, bias=False),\n",
    "            nn.BatchNorm2d(hidden_dim),\n",
    "            nn.SiLU(inplace=True),  # Thay ReLU6 bằng SiLU (Swish)\n",
    "            nn.Conv2d(hidden_dim, hidden_dim, 3, stride, 1, groups=hidden_dim, bias=False),\n",
    "            nn.BatchNorm2d(hidden_dim),\n",
    "            nn.SiLU(inplace=True),\n",
    "            nn.Conv2d(hidden_dim, out_channels, 1, bias=False),\n",
    "            nn.BatchNorm2d(out_channels),\n",
    "        )\n",
    "        \n",
    "        # Thêm SE block\n",
    "        self.se = nn.Sequential(\n",
    "            nn.AdaptiveAvgPool2d(1),\n",
    "            nn.Conv2d(out_channels, out_channels // 16, 1),\n",
    "            nn.SiLU(),\n",
    "            nn.Conv2d(out_channels // 16, out_channels, 1),\n",
    "            nn.Sigmoid()\n",
    "        )\n",
    "\n",
    "    def forward(self, x):\n",
    "        out = self.conv(x)\n",
    "        out = out * self.se(out)  # Áp dụng SE\n",
    "        return x + out if self.use_residual else out"
   ]
  },
  {
   "cell_type": "code",
   "execution_count": 4,
   "id": "561c9475-5f99-4695-8cbf-1b2c5422e1a3",
   "metadata": {},
   "outputs": [],
   "source": [
    "class PestLarvaNet_Small(nn.Module):\n",
    "    def __init__(self, num_classes, input_channels=1):\n",
    "        super().__init__()\n",
    "        self.config = [[1, 24, 2, 1], [4, 32, 2, 2], [4, 56, 3, 2], [6, 96, 2, 2]]\n",
    "        self.stem = nn.Sequential(\n",
    "            nn.Conv2d(input_channels, 24, 3, 2, 1, bias=False),\n",
    "            nn.BatchNorm2d(24), nn.SiLU(inplace=True))\n",
    "        \n",
    "        layers = []\n",
    "        in_channels = 24\n",
    "        for t, c, n, s in self.config:\n",
    "            for i in range(n):\n",
    "                stride = s if i == 0 else 1\n",
    "                layers.append(InvertedResidual(in_channels, c, stride, expansion=t))\n",
    "                in_channels = c\n",
    "            if c == 32:\n",
    "                layers.append(DynamicGraphAttention(in_channels, num_nodes=24, heads=4))\n",
    "        self.body = nn.Sequential(*layers)\n",
    "\n",
    "        self.head_conv = nn.Conv2d(96, 256, 1, bias=False)\n",
    "        self.aggregator = TemporalAttentionAggregator(256, num_heads=8)\n",
    "        self.classifier = nn.Sequential(\n",
    "            nn.Linear(256, 128), nn.SiLU(inplace=True), nn.Dropout(0.3),\n",
    "            nn.Linear(128, num_classes))\n",
    "    \n",
    "    def forward(self, x):\n",
    "        x = self.stem(x); x = self.body(x); x = self.head_conv(x)\n",
    "        x = self.aggregator(x); x = self.classifier(x); return x"
   ]
  },
  {
   "cell_type": "code",
   "execution_count": 5,
   "id": "2f5c3927-b694-47e6-ba38-cecf04d3fdf8",
   "metadata": {},
   "outputs": [],
   "source": [
    "def count_parameters(model):\n",
    "    total = sum(p.numel() for p in model.parameters())\n",
    "    trainable = sum(p.numel() for p in model.parameters() if p.requires_grad)\n",
    "    return total, trainable"
   ]
  },
  {
   "cell_type": "code",
   "execution_count": 6,
   "id": "81a46c0f-6c6c-4d56-81ca-5ab689474f1e",
   "metadata": {},
   "outputs": [],
   "source": [
    "class InsectSpectrogramDataset(Dataset):\n",
    "    \"\"\"Dataset tùy chỉnh để đọc các file spectrogram .pt\"\"\"\n",
    "    def __init__(self, metadata_file, data_dir, transform=None):\n",
    "        self.metadata = pd.read_csv(metadata_file)\n",
    "        self.data_dir = data_dir\n",
    "        self.transform = transform\n",
    "        self.file_column = 'file_name'\n",
    "        self.label_column = 'label'\n",
    "        \n",
    "        self.class_names = sorted(self.metadata[self.label_column].unique())\n",
    "        self.class_to_id = {name: i for i, name in enumerate(self.class_names)}\n",
    "        self.id_to_class = {i: name for name, i in self.class_to_id.items()}\n",
    "\n",
    "    def __len__(self):\n",
    "        return len(self.metadata)\n",
    "\n",
    "    def __getitem__(self, idx):\n",
    "        file_name = self.metadata.iloc[idx][self.file_column]\n",
    "        file_path = os.path.join(self.data_dir, file_name)\n",
    "        label_name = self.metadata.iloc[idx][self.label_column]\n",
    "        label = self.class_to_id[label_name]\n",
    "        \n",
    "        try:\n",
    "            spectrogram = torch.load(file_path)\n",
    "            if spectrogram.dim() == 2:\n",
    "                spectrogram = spectrogram.unsqueeze(0)\n",
    "            if self.transform:\n",
    "                spectrogram = self.transform(spectrogram)\n",
    "            return spectrogram, label\n",
    "        except Exception as e:\n",
    "            print(f\"Lỗi khi tải file {file_path}: {e}\")\n",
    "            return torch.zeros(1, 128, 259), -1 # Trả về mẫu lỗi"
   ]
  },
  {
   "cell_type": "code",
   "execution_count": 7,
   "id": "e3d4cf3d-4921-4deb-9d76-1878d0ccc5c2",
   "metadata": {},
   "outputs": [],
   "source": [
    "METADATA_PATH = r'F:/Working Sync/LAB projects/InsectSELD/Dataset/metadata_Mel.csv' \n",
    "DATA_DIR = r'F:/Working Sync/LAB projects/InsectSELD/Dataset/MelSpectrograms'"
   ]
  },
  {
   "cell_type": "code",
   "execution_count": 8,
   "id": "dbd3bd2b-9f18-42eb-96c9-c748d1bd9386",
   "metadata": {},
   "outputs": [],
   "source": [
    "class TimeShift(torch.nn.Module):\n",
    "    \"\"\" Dịch chuyển spectrogram theo trục thời gian một cách ngẫu nhiên. \"\"\"\n",
    "    def __init__(self, p=0.5, max_shift_percent=0.4):\n",
    "        super().__init__()\n",
    "        self.p = p\n",
    "        self.max_shift_percent = max_shift_percent\n",
    "\n",
    "    def forward(self, spec):\n",
    "        if torch.rand(1) < self.p:\n",
    "            time_steps = spec.shape[-1]\n",
    "            # Chọn một lượng dịch chuyển ngẫu nhiên\n",
    "            shift_amount = int(torch.rand(1) * self.max_shift_percent * time_steps)\n",
    "            # Dịch ngẫu nhiên sang trái hoặc phải\n",
    "            if torch.rand(1) < 0.5:\n",
    "                shift_amount = -shift_amount\n",
    "            return torch.roll(spec, shifts=shift_amount, dims=-1)\n",
    "        return spec\n",
    "\n",
    "class SpecNoise(torch.nn.Module):\n",
    "    \"\"\" Thêm nhiễu Gaussian trực tiếp vào spectrogram. \"\"\"\n",
    "    def __init__(self, p=0.5, noise_level=0.05):\n",
    "        super().__init__()\n",
    "        self.p = p\n",
    "        self.noise_level = noise_level\n",
    "\n",
    "    def forward(self, spec):\n",
    "        if torch.rand(1) < self.p:\n",
    "            noise = torch.randn_like(spec) * self.noise_level\n",
    "            return spec + noise\n",
    "        return spec"
   ]
  },
  {
   "cell_type": "code",
   "execution_count": 9,
   "id": "d18f938b-e3c8-4d8f-bd08-19b4d0c7b19f",
   "metadata": {},
   "outputs": [
    {
     "name": "stdout",
     "output_type": "stream",
     "text": [
      "Đã định nghĩa xong pipeline Augmentation cho Spectrogram.\n"
     ]
    }
   ],
   "source": [
    "train_transform = T.Compose([\n",
    "    # Kỹ thuật 1: SpecAugment (Time & Frequency Masking)\n",
    "    torchaudio.transforms.TimeMasking(time_mask_param=80),\n",
    "    torchaudio.transforms.FrequencyMasking(freq_mask_param=25),\n",
    "    \n",
    "    # Kỹ thuật 2: Time Shifting\n",
    "    TimeShift(p=0.5, max_shift_percent=0.4),\n",
    "    \n",
    "    # Kỹ thuật 3: Spectrogram Noise\n",
    "    SpecNoise(p=0.3, noise_level=0.03),\n",
    "])\n",
    "\n",
    "# Tập validation không sử dụng augmentation\n",
    "val_transform = None\n",
    "\n",
    "print(\"Đã định nghĩa xong pipeline Augmentation cho Spectrogram.\")"
   ]
  },
  {
   "cell_type": "code",
   "execution_count": 10,
   "id": "4f33aa01-1795-4515-a580-c23fad5fa635",
   "metadata": {},
   "outputs": [],
   "source": [
    "def mixup_data(x, y, alpha=0.4, use_cuda=True):\n",
    "    \"\"\"\n",
    "    Trộn dữ liệu trong một batch.\n",
    "    Trả về input đã trộn, và hai bộ nhãn gốc cùng với hệ số trộn lambda.\n",
    "    \"\"\"\n",
    "    if alpha > 0:\n",
    "        lam = np.random.beta(alpha, alpha)\n",
    "    else:\n",
    "        lam = 1\n",
    "\n",
    "    batch_size = x.size()[0]\n",
    "    if use_cuda:\n",
    "        index = torch.randperm(batch_size).cuda()\n",
    "    else:\n",
    "        index = torch.randperm(batch_size)\n",
    "\n",
    "    mixed_x = lam * x + (1 - lam) * x[index, :]\n",
    "    y_a, y_b = y, y[index]\n",
    "    return mixed_x, y_a, y_b, lam\n",
    "\n",
    "\n",
    "def mixup_criterion(criterion, pred, y_a, y_b, lam):\n",
    "    \"\"\"\n",
    "    Hàm tính loss đặc biệt cho Mixup.\n",
    "    \"\"\"\n",
    "    return lam * criterion(pred, y_a) + (1 - lam) * criterion(pred, y_b)"
   ]
  },
  {
   "cell_type": "code",
   "execution_count": 11,
   "id": "18a940e3-05da-449c-8207-c38aa6ad0de3",
   "metadata": {},
   "outputs": [
    {
     "name": "stdout",
     "output_type": "stream",
     "text": [
      "Tải dữ liệu thành công: 165982 mẫu, 12 lớp.\n"
     ]
    }
   ],
   "source": [
    "if not os.path.exists(METADATA_PATH) or not os.path.isdir(DATA_DIR):\n",
    "    print(\"!!! LỖI: Vui lòng kiểm tra lại đường dẫn METADATA_PATH và DATA_DIR.\")\n",
    "else:\n",
    "    full_dataset = InsectSpectrogramDataset(METADATA_PATH, DATA_DIR)\n",
    "    num_classes = len(full_dataset.class_names)\n",
    "    print(f\"Tải dữ liệu thành công: {len(full_dataset)} mẫu, {num_classes} lớp.\")\n",
    "\n",
    "    train_size = int(0.8 * len(full_dataset))\n",
    "    val_size = len(full_dataset) - train_size\n",
    "    generator = torch.Generator().manual_seed(42)\n",
    "    train_dataset, val_dataset = random_split(full_dataset, [train_size, val_size], generator)\n",
    "\n",
    "    train_dataset.dataset.transform = train_transform\n",
    "    val_dataset.dataset.transform = val_transform\n",
    "\n",
    "    BATCH_SIZE = 32\n",
    "    train_loader = DataLoader(train_dataset, batch_size=BATCH_SIZE, shuffle=True, num_workers=0)\n",
    "    val_loader = DataLoader(val_dataset, batch_size=BATCH_SIZE, shuffle=False, num_workers=0)"
   ]
  },
  {
   "cell_type": "code",
   "execution_count": 12,
   "id": "d6d3d42a-f0a9-491b-89a1-e90a76d33bdf",
   "metadata": {},
   "outputs": [],
   "source": [
    "EPOCHS = 100\n",
    "LEARNING_RATE = 0.001\n",
    "WEIGHT_DECAY = 1e-4\n",
    "\n",
    "CHECKPOINT_DIR = r'F:/Working Sync/LAB projects/InsectSELD/Dataset/checkpoints_small'\n",
    "LOG_CSV_PATH = 'F:/Working Sync/LAB projects/InsectSELD/Dataset/training_log_small.csv'\n",
    "os.makedirs(CHECKPOINT_DIR, exist_ok=True)"
   ]
  },
  {
   "cell_type": "code",
   "execution_count": 13,
   "id": "3b0a5983-805b-46c5-8e8c-5f0a07fa8b7b",
   "metadata": {},
   "outputs": [
    {
     "name": "stdout",
     "output_type": "stream",
     "text": [
      "Khởi tạo mô hình PestLarvaNet-GMA với 0.59M tham số.\n"
     ]
    }
   ],
   "source": [
    "model = PestLarvaNet_Small(num_classes=num_classes).to(device)\n",
    "total_params, _ = count_parameters(model)\n",
    "print(f\"Khởi tạo mô hình PestLarvaNet-GMA với {total_params/1e6:.2f}M tham số.\")\n",
    "\n",
    "criterion = nn.CrossEntropyLoss()\n",
    "optimizer = torch.optim.AdamW(model.parameters(), lr=LEARNING_RATE, weight_decay=WEIGHT_DECAY)\n",
    "scheduler = torch.optim.lr_scheduler.CosineAnnealingLR(optimizer, T_max=EPOCHS)"
   ]
  },
  {
   "cell_type": "code",
   "execution_count": 15,
   "id": "d53eaa89-a519-4d94-93b6-7481ae606df8",
   "metadata": {},
   "outputs": [
    {
     "name": "stdout",
     "output_type": "stream",
     "text": [
      "\n",
      "Bắt đầu huấn luyện... Checkpoints sẽ được lưu tại 'F:/Working Sync/LAB projects/InsectSELD/Dataset/checkpoints_small' và log tại 'F:/Working Sync/LAB projects/InsectSELD/Dataset/training_log_small.csv'\n"
     ]
    }
   ],
   "source": [
    "log_header = [\n",
    "    'epoch', 'train_loss', 'val_loss', 'learning_rate',\n",
    "    'accuracy', 'precision', 'recall', 'f1'\n",
    "]\n",
    "# --- KẾT THÚC THAY ĐỔI ---\n",
    "\n",
    "with open(LOG_CSV_PATH, 'w', newline='', encoding='utf-8') as f:\n",
    "    csv.writer(f).writerow(log_header)\n",
    "\n",
    "print(f\"\\nBắt đầu huấn luyện... Checkpoints sẽ được lưu tại '{CHECKPOINT_DIR}' và log tại '{LOG_CSV_PATH}'\")\n",
    "\n",
    "# --- Vòng lặp huấn luyện chính ---\n",
    "best_val_f1 = 0.0"
   ]
  },
  {
   "cell_type": "code",
   "execution_count": 16,
   "id": "5f0161a7-f3ca-4c11-96a6-778ab7d83042",
   "metadata": {},
   "outputs": [
    {
     "data": {
      "application/vnd.jupyter.widget-view+json": {
       "model_id": "231f9369fa784ad69c78a9e6b62a2048",
       "version_major": 2,
       "version_minor": 0
      },
      "text/plain": [
       "Epoch 1/100 [Training]:   0%|          | 0/4150 [00:00<?, ?it/s]"
      ]
     },
     "metadata": {},
     "output_type": "display_data"
    },
    {
     "data": {
      "application/vnd.jupyter.widget-view+json": {
       "model_id": "c53a06080d8c4edca0c410774cefc940",
       "version_major": 2,
       "version_minor": 0
      },
      "text/plain": [
       "Epoch 1/100 [Validation]:   0%|          | 0/1038 [00:00<?, ?it/s]"
      ]
     },
     "metadata": {},
     "output_type": "display_data"
    },
    {
     "name": "stdout",
     "output_type": "stream",
     "text": [
      "\n",
      "--- Epoch 1/100 Summary ---\n",
      "  Train Loss: 1.2711 | Val Loss: 1.1898\n",
      "  Accuracy: 0.6208 | Precision: 0.6208 | Recall: 0.6208 | F1: 0.6208\n",
      "  Learning Rate: 0.001000\n",
      "  => 🎉 New best model saved to 'F:/Working Sync/LAB projects/InsectSELD/Dataset/checkpoints_small\\best_model.pth' (F1: 0.6208)\n",
      "\n"
     ]
    },
    {
     "data": {
      "application/vnd.jupyter.widget-view+json": {
       "model_id": "179adcecd22b446b85f7b376cb28fa85",
       "version_major": 2,
       "version_minor": 0
      },
      "text/plain": [
       "Epoch 2/100 [Training]:   0%|          | 0/4150 [00:00<?, ?it/s]"
      ]
     },
     "metadata": {},
     "output_type": "display_data"
    },
    {
     "data": {
      "application/vnd.jupyter.widget-view+json": {
       "model_id": "9cb9744d41c24810bf3c86bcd37dbbbd",
       "version_major": 2,
       "version_minor": 0
      },
      "text/plain": [
       "Epoch 2/100 [Validation]:   0%|          | 0/1038 [00:00<?, ?it/s]"
      ]
     },
     "metadata": {},
     "output_type": "display_data"
    },
    {
     "name": "stdout",
     "output_type": "stream",
     "text": [
      "\n",
      "--- Epoch 2/100 Summary ---\n",
      "  Train Loss: 1.0462 | Val Loss: 0.7073\n",
      "  Accuracy: 0.7588 | Precision: 0.7588 | Recall: 0.7588 | F1: 0.7588\n",
      "  Learning Rate: 0.001000\n",
      "  => 🎉 New best model saved to 'F:/Working Sync/LAB projects/InsectSELD/Dataset/checkpoints_small\\best_model.pth' (F1: 0.7588)\n",
      "\n"
     ]
    },
    {
     "data": {
      "application/vnd.jupyter.widget-view+json": {
       "model_id": "c0a311f46492456ab07a5917f6e49b09",
       "version_major": 2,
       "version_minor": 0
      },
      "text/plain": [
       "Epoch 3/100 [Training]:   0%|          | 0/4150 [00:00<?, ?it/s]"
      ]
     },
     "metadata": {},
     "output_type": "display_data"
    },
    {
     "data": {
      "application/vnd.jupyter.widget-view+json": {
       "model_id": "771b292c174a40dda1b2da6a8c43c81c",
       "version_major": 2,
       "version_minor": 0
      },
      "text/plain": [
       "Epoch 3/100 [Validation]:   0%|          | 0/1038 [00:00<?, ?it/s]"
      ]
     },
     "metadata": {},
     "output_type": "display_data"
    },
    {
     "name": "stdout",
     "output_type": "stream",
     "text": [
      "\n",
      "--- Epoch 3/100 Summary ---\n",
      "  Train Loss: 0.9409 | Val Loss: 0.7907\n",
      "  Accuracy: 0.7266 | Precision: 0.7266 | Recall: 0.7266 | F1: 0.7266\n",
      "  Learning Rate: 0.000999\n"
     ]
    },
    {
     "data": {
      "application/vnd.jupyter.widget-view+json": {
       "model_id": "6d9886dd30f2481599c937764f6ed9da",
       "version_major": 2,
       "version_minor": 0
      },
      "text/plain": [
       "Epoch 4/100 [Training]:   0%|          | 0/4150 [00:00<?, ?it/s]"
      ]
     },
     "metadata": {},
     "output_type": "display_data"
    },
    {
     "data": {
      "application/vnd.jupyter.widget-view+json": {
       "model_id": "f80c713c236d4bf4b806d2fa90bcf881",
       "version_major": 2,
       "version_minor": 0
      },
      "text/plain": [
       "Epoch 4/100 [Validation]:   0%|          | 0/1038 [00:00<?, ?it/s]"
      ]
     },
     "metadata": {},
     "output_type": "display_data"
    },
    {
     "name": "stdout",
     "output_type": "stream",
     "text": [
      "\n",
      "--- Epoch 4/100 Summary ---\n",
      "  Train Loss: 0.8769 | Val Loss: 1.0227\n",
      "  Accuracy: 0.6690 | Precision: 0.6690 | Recall: 0.6690 | F1: 0.6690\n",
      "  Learning Rate: 0.000998\n"
     ]
    },
    {
     "data": {
      "application/vnd.jupyter.widget-view+json": {
       "model_id": "e2852de178e6447789cad29b8cddbb83",
       "version_major": 2,
       "version_minor": 0
      },
      "text/plain": [
       "Epoch 5/100 [Training]:   0%|          | 0/4150 [00:00<?, ?it/s]"
      ]
     },
     "metadata": {},
     "output_type": "display_data"
    },
    {
     "data": {
      "application/vnd.jupyter.widget-view+json": {
       "model_id": "846dd76bc2444925ba59ac80df3c2409",
       "version_major": 2,
       "version_minor": 0
      },
      "text/plain": [
       "Epoch 5/100 [Validation]:   0%|          | 0/1038 [00:00<?, ?it/s]"
      ]
     },
     "metadata": {},
     "output_type": "display_data"
    },
    {
     "name": "stdout",
     "output_type": "stream",
     "text": [
      "\n",
      "--- Epoch 5/100 Summary ---\n",
      "  Train Loss: 0.8385 | Val Loss: 0.8022\n",
      "  Accuracy: 0.7271 | Precision: 0.7271 | Recall: 0.7271 | F1: 0.7271\n",
      "  Learning Rate: 0.000996\n"
     ]
    },
    {
     "data": {
      "application/vnd.jupyter.widget-view+json": {
       "model_id": "a47a21e4fd524f6a92d6a750e1efda88",
       "version_major": 2,
       "version_minor": 0
      },
      "text/plain": [
       "Epoch 6/100 [Training]:   0%|          | 0/4150 [00:00<?, ?it/s]"
      ]
     },
     "metadata": {},
     "output_type": "display_data"
    },
    {
     "data": {
      "application/vnd.jupyter.widget-view+json": {
       "model_id": "7aeeca7459944e26971e5f55a2b6a6e7",
       "version_major": 2,
       "version_minor": 0
      },
      "text/plain": [
       "Epoch 6/100 [Validation]:   0%|          | 0/1038 [00:00<?, ?it/s]"
      ]
     },
     "metadata": {},
     "output_type": "display_data"
    },
    {
     "name": "stdout",
     "output_type": "stream",
     "text": [
      "\n",
      "--- Epoch 6/100 Summary ---\n",
      "  Train Loss: 0.7807 | Val Loss: 0.8685\n",
      "  Accuracy: 0.7054 | Precision: 0.7054 | Recall: 0.7054 | F1: 0.7054\n",
      "  Learning Rate: 0.000994\n"
     ]
    },
    {
     "data": {
      "application/vnd.jupyter.widget-view+json": {
       "model_id": "292cca7168c04379a24eacf0df417207",
       "version_major": 2,
       "version_minor": 0
      },
      "text/plain": [
       "Epoch 7/100 [Training]:   0%|          | 0/4150 [00:00<?, ?it/s]"
      ]
     },
     "metadata": {},
     "output_type": "display_data"
    },
    {
     "data": {
      "application/vnd.jupyter.widget-view+json": {
       "model_id": "00a4cb91cb0446ee95ead109c3fe3b9f",
       "version_major": 2,
       "version_minor": 0
      },
      "text/plain": [
       "Epoch 7/100 [Validation]:   0%|          | 0/1038 [00:00<?, ?it/s]"
      ]
     },
     "metadata": {},
     "output_type": "display_data"
    },
    {
     "name": "stdout",
     "output_type": "stream",
     "text": [
      "\n",
      "--- Epoch 7/100 Summary ---\n",
      "  Train Loss: 0.7387 | Val Loss: 1.6399\n",
      "  Accuracy: 0.5169 | Precision: 0.5169 | Recall: 0.5169 | F1: 0.5169\n",
      "  Learning Rate: 0.000991\n"
     ]
    },
    {
     "data": {
      "application/vnd.jupyter.widget-view+json": {
       "model_id": "efee388030af4b24936272b275e9a166",
       "version_major": 2,
       "version_minor": 0
      },
      "text/plain": [
       "Epoch 8/100 [Training]:   0%|          | 0/4150 [00:00<?, ?it/s]"
      ]
     },
     "metadata": {},
     "output_type": "display_data"
    },
    {
     "data": {
      "application/vnd.jupyter.widget-view+json": {
       "model_id": "652b51eed1c84344942d8f5f19aa1f0e",
       "version_major": 2,
       "version_minor": 0
      },
      "text/plain": [
       "Epoch 8/100 [Validation]:   0%|          | 0/1038 [00:00<?, ?it/s]"
      ]
     },
     "metadata": {},
     "output_type": "display_data"
    },
    {
     "name": "stdout",
     "output_type": "stream",
     "text": [
      "\n",
      "--- Epoch 8/100 Summary ---\n",
      "  Train Loss: 0.6960 | Val Loss: 0.4904\n",
      "  Accuracy: 0.8309 | Precision: 0.8309 | Recall: 0.8309 | F1: 0.8309\n",
      "  Learning Rate: 0.000988\n",
      "  => 🎉 New best model saved to 'F:/Working Sync/LAB projects/InsectSELD/Dataset/checkpoints_small\\best_model.pth' (F1: 0.8309)\n",
      "\n"
     ]
    },
    {
     "data": {
      "application/vnd.jupyter.widget-view+json": {
       "model_id": "8b4f2e74f0794bd2b445b92c5fb37d02",
       "version_major": 2,
       "version_minor": 0
      },
      "text/plain": [
       "Epoch 9/100 [Training]:   0%|          | 0/4150 [00:00<?, ?it/s]"
      ]
     },
     "metadata": {},
     "output_type": "display_data"
    },
    {
     "data": {
      "application/vnd.jupyter.widget-view+json": {
       "model_id": "a237ad85350645e489d2cd3ceca28cde",
       "version_major": 2,
       "version_minor": 0
      },
      "text/plain": [
       "Epoch 9/100 [Validation]:   0%|          | 0/1038 [00:00<?, ?it/s]"
      ]
     },
     "metadata": {},
     "output_type": "display_data"
    },
    {
     "name": "stdout",
     "output_type": "stream",
     "text": [
      "\n",
      "--- Epoch 9/100 Summary ---\n",
      "  Train Loss: 0.6663 | Val Loss: 0.4924\n",
      "  Accuracy: 0.8307 | Precision: 0.8307 | Recall: 0.8307 | F1: 0.8307\n",
      "  Learning Rate: 0.000984\n"
     ]
    },
    {
     "data": {
      "application/vnd.jupyter.widget-view+json": {
       "model_id": "eee3074b92614e5c9b9fd8fd3354dcf5",
       "version_major": 2,
       "version_minor": 0
      },
      "text/plain": [
       "Epoch 10/100 [Training]:   0%|          | 0/4150 [00:00<?, ?it/s]"
      ]
     },
     "metadata": {},
     "output_type": "display_data"
    },
    {
     "data": {
      "application/vnd.jupyter.widget-view+json": {
       "model_id": "72b362f0f79546438e2d6717fcca591d",
       "version_major": 2,
       "version_minor": 0
      },
      "text/plain": [
       "Epoch 10/100 [Validation]:   0%|          | 0/1038 [00:00<?, ?it/s]"
      ]
     },
     "metadata": {},
     "output_type": "display_data"
    },
    {
     "name": "stdout",
     "output_type": "stream",
     "text": [
      "\n",
      "--- Epoch 10/100 Summary ---\n",
      "  Train Loss: 0.6424 | Val Loss: 0.6137\n",
      "  Accuracy: 0.7966 | Precision: 0.7966 | Recall: 0.7966 | F1: 0.7966\n",
      "  Learning Rate: 0.000980\n"
     ]
    },
    {
     "data": {
      "application/vnd.jupyter.widget-view+json": {
       "model_id": "ca2d5047ef13461fb154265832ab776e",
       "version_major": 2,
       "version_minor": 0
      },
      "text/plain": [
       "Epoch 11/100 [Training]:   0%|          | 0/4150 [00:00<?, ?it/s]"
      ]
     },
     "metadata": {},
     "output_type": "display_data"
    },
    {
     "data": {
      "application/vnd.jupyter.widget-view+json": {
       "model_id": "0a05ae96c2f84606a62cbc763192c1ff",
       "version_major": 2,
       "version_minor": 0
      },
      "text/plain": [
       "Epoch 11/100 [Validation]:   0%|          | 0/1038 [00:00<?, ?it/s]"
      ]
     },
     "metadata": {},
     "output_type": "display_data"
    },
    {
     "name": "stdout",
     "output_type": "stream",
     "text": [
      "\n",
      "--- Epoch 11/100 Summary ---\n",
      "  Train Loss: 0.6029 | Val Loss: 0.4998\n",
      "  Accuracy: 0.8328 | Precision: 0.8328 | Recall: 0.8328 | F1: 0.8328\n",
      "  Learning Rate: 0.000976\n",
      "  => 🎉 New best model saved to 'F:/Working Sync/LAB projects/InsectSELD/Dataset/checkpoints_small\\best_model.pth' (F1: 0.8328)\n",
      "\n"
     ]
    },
    {
     "data": {
      "application/vnd.jupyter.widget-view+json": {
       "model_id": "7d07b038f42949ef85909f84fadcfb90",
       "version_major": 2,
       "version_minor": 0
      },
      "text/plain": [
       "Epoch 12/100 [Training]:   0%|          | 0/4150 [00:00<?, ?it/s]"
      ]
     },
     "metadata": {},
     "output_type": "display_data"
    },
    {
     "data": {
      "application/vnd.jupyter.widget-view+json": {
       "model_id": "5e3e82be73dc43b4aca3124c7403b38b",
       "version_major": 2,
       "version_minor": 0
      },
      "text/plain": [
       "Epoch 12/100 [Validation]:   0%|          | 0/1038 [00:00<?, ?it/s]"
      ]
     },
     "metadata": {},
     "output_type": "display_data"
    },
    {
     "name": "stdout",
     "output_type": "stream",
     "text": [
      "\n",
      "--- Epoch 12/100 Summary ---\n",
      "  Train Loss: 0.5830 | Val Loss: 0.7576\n",
      "  Accuracy: 0.7672 | Precision: 0.7672 | Recall: 0.7672 | F1: 0.7672\n",
      "  Learning Rate: 0.000970\n"
     ]
    },
    {
     "data": {
      "application/vnd.jupyter.widget-view+json": {
       "model_id": "1c43b205aef1487cb8c8c90c164c9eec",
       "version_major": 2,
       "version_minor": 0
      },
      "text/plain": [
       "Epoch 13/100 [Training]:   0%|          | 0/4150 [00:00<?, ?it/s]"
      ]
     },
     "metadata": {},
     "output_type": "display_data"
    },
    {
     "data": {
      "application/vnd.jupyter.widget-view+json": {
       "model_id": "869eee9b617f4729abb246ae91c190cc",
       "version_major": 2,
       "version_minor": 0
      },
      "text/plain": [
       "Epoch 13/100 [Validation]:   0%|          | 0/1038 [00:00<?, ?it/s]"
      ]
     },
     "metadata": {},
     "output_type": "display_data"
    },
    {
     "name": "stdout",
     "output_type": "stream",
     "text": [
      "\n",
      "--- Epoch 13/100 Summary ---\n",
      "  Train Loss: 0.5686 | Val Loss: 0.3054\n",
      "  Accuracy: 0.8946 | Precision: 0.8946 | Recall: 0.8946 | F1: 0.8946\n",
      "  Learning Rate: 0.000965\n",
      "  => 🎉 New best model saved to 'F:/Working Sync/LAB projects/InsectSELD/Dataset/checkpoints_small\\best_model.pth' (F1: 0.8946)\n",
      "\n"
     ]
    },
    {
     "data": {
      "application/vnd.jupyter.widget-view+json": {
       "model_id": "0d32f97dc88549c7a15c788643635286",
       "version_major": 2,
       "version_minor": 0
      },
      "text/plain": [
       "Epoch 14/100 [Training]:   0%|          | 0/4150 [00:00<?, ?it/s]"
      ]
     },
     "metadata": {},
     "output_type": "display_data"
    },
    {
     "data": {
      "application/vnd.jupyter.widget-view+json": {
       "model_id": "d5478a1a984b4fa8b0130960f87ba32a",
       "version_major": 2,
       "version_minor": 0
      },
      "text/plain": [
       "Epoch 14/100 [Validation]:   0%|          | 0/1038 [00:00<?, ?it/s]"
      ]
     },
     "metadata": {},
     "output_type": "display_data"
    },
    {
     "name": "stdout",
     "output_type": "stream",
     "text": [
      "\n",
      "--- Epoch 14/100 Summary ---\n",
      "  Train Loss: 0.5621 | Val Loss: 0.5643\n",
      "  Accuracy: 0.8209 | Precision: 0.8209 | Recall: 0.8209 | F1: 0.8209\n",
      "  Learning Rate: 0.000959\n"
     ]
    },
    {
     "data": {
      "application/vnd.jupyter.widget-view+json": {
       "model_id": "e0c3951b7abb4053b7d945d13b6ba843",
       "version_major": 2,
       "version_minor": 0
      },
      "text/plain": [
       "Epoch 15/100 [Training]:   0%|          | 0/4150 [00:00<?, ?it/s]"
      ]
     },
     "metadata": {},
     "output_type": "display_data"
    },
    {
     "data": {
      "application/vnd.jupyter.widget-view+json": {
       "model_id": "ddf05ef2551940bda645518860c8cd76",
       "version_major": 2,
       "version_minor": 0
      },
      "text/plain": [
       "Epoch 15/100 [Validation]:   0%|          | 0/1038 [00:00<?, ?it/s]"
      ]
     },
     "metadata": {},
     "output_type": "display_data"
    },
    {
     "name": "stdout",
     "output_type": "stream",
     "text": [
      "\n",
      "--- Epoch 15/100 Summary ---\n",
      "  Train Loss: 0.5468 | Val Loss: 0.4421\n",
      "  Accuracy: 0.8532 | Precision: 0.8532 | Recall: 0.8532 | F1: 0.8532\n",
      "  Learning Rate: 0.000952\n"
     ]
    },
    {
     "data": {
      "application/vnd.jupyter.widget-view+json": {
       "model_id": "c2ba1c1338c3406ca59f8c892435e939",
       "version_major": 2,
       "version_minor": 0
      },
      "text/plain": [
       "Epoch 16/100 [Training]:   0%|          | 0/4150 [00:00<?, ?it/s]"
      ]
     },
     "metadata": {},
     "output_type": "display_data"
    },
    {
     "data": {
      "application/vnd.jupyter.widget-view+json": {
       "model_id": "366170007f9045889c9ef6b945de855a",
       "version_major": 2,
       "version_minor": 0
      },
      "text/plain": [
       "Epoch 16/100 [Validation]:   0%|          | 0/1038 [00:00<?, ?it/s]"
      ]
     },
     "metadata": {},
     "output_type": "display_data"
    },
    {
     "name": "stdout",
     "output_type": "stream",
     "text": [
      "\n",
      "--- Epoch 16/100 Summary ---\n",
      "  Train Loss: 0.5350 | Val Loss: 0.2747\n",
      "  Accuracy: 0.9060 | Precision: 0.9060 | Recall: 0.9060 | F1: 0.9060\n",
      "  Learning Rate: 0.000946\n",
      "  => 🎉 New best model saved to 'F:/Working Sync/LAB projects/InsectSELD/Dataset/checkpoints_small\\best_model.pth' (F1: 0.9060)\n",
      "\n"
     ]
    },
    {
     "data": {
      "application/vnd.jupyter.widget-view+json": {
       "model_id": "773966881afe4c949bdb4fa91d076aa0",
       "version_major": 2,
       "version_minor": 0
      },
      "text/plain": [
       "Epoch 17/100 [Training]:   0%|          | 0/4150 [00:00<?, ?it/s]"
      ]
     },
     "metadata": {},
     "output_type": "display_data"
    },
    {
     "data": {
      "application/vnd.jupyter.widget-view+json": {
       "model_id": "be92df7adc614fcc966102d26ad6008f",
       "version_major": 2,
       "version_minor": 0
      },
      "text/plain": [
       "Epoch 17/100 [Validation]:   0%|          | 0/1038 [00:00<?, ?it/s]"
      ]
     },
     "metadata": {},
     "output_type": "display_data"
    },
    {
     "name": "stdout",
     "output_type": "stream",
     "text": [
      "\n",
      "--- Epoch 17/100 Summary ---\n",
      "  Train Loss: 0.5286 | Val Loss: 0.5185\n",
      "  Accuracy: 0.8278 | Precision: 0.8278 | Recall: 0.8278 | F1: 0.8278\n",
      "  Learning Rate: 0.000938\n"
     ]
    },
    {
     "data": {
      "application/vnd.jupyter.widget-view+json": {
       "model_id": "4345b5a9929a4901b017cecdcc50e331",
       "version_major": 2,
       "version_minor": 0
      },
      "text/plain": [
       "Epoch 18/100 [Training]:   0%|          | 0/4150 [00:00<?, ?it/s]"
      ]
     },
     "metadata": {},
     "output_type": "display_data"
    },
    {
     "data": {
      "application/vnd.jupyter.widget-view+json": {
       "model_id": "dc75437cd7e944919485834edc11a9b1",
       "version_major": 2,
       "version_minor": 0
      },
      "text/plain": [
       "Epoch 18/100 [Validation]:   0%|          | 0/1038 [00:00<?, ?it/s]"
      ]
     },
     "metadata": {},
     "output_type": "display_data"
    },
    {
     "name": "stdout",
     "output_type": "stream",
     "text": [
      "\n",
      "--- Epoch 18/100 Summary ---\n",
      "  Train Loss: 0.5170 | Val Loss: 1.1604\n",
      "  Accuracy: 0.6623 | Precision: 0.6623 | Recall: 0.6623 | F1: 0.6623\n",
      "  Learning Rate: 0.000930\n"
     ]
    },
    {
     "data": {
      "application/vnd.jupyter.widget-view+json": {
       "model_id": "cbc3fc6588ab45a3b5e9503e4b952e81",
       "version_major": 2,
       "version_minor": 0
      },
      "text/plain": [
       "Epoch 19/100 [Training]:   0%|          | 0/4150 [00:00<?, ?it/s]"
      ]
     },
     "metadata": {},
     "output_type": "display_data"
    },
    {
     "data": {
      "application/vnd.jupyter.widget-view+json": {
       "model_id": "87e84ce618144d3695891a9be7000e1a",
       "version_major": 2,
       "version_minor": 0
      },
      "text/plain": [
       "Epoch 19/100 [Validation]:   0%|          | 0/1038 [00:00<?, ?it/s]"
      ]
     },
     "metadata": {},
     "output_type": "display_data"
    },
    {
     "name": "stdout",
     "output_type": "stream",
     "text": [
      "\n",
      "--- Epoch 19/100 Summary ---\n",
      "  Train Loss: 0.5055 | Val Loss: 0.5232\n",
      "  Accuracy: 0.8296 | Precision: 0.8296 | Recall: 0.8296 | F1: 0.8296\n",
      "  Learning Rate: 0.000922\n"
     ]
    },
    {
     "data": {
      "application/vnd.jupyter.widget-view+json": {
       "model_id": "616d51c8af0d41a38846d57098f16742",
       "version_major": 2,
       "version_minor": 0
      },
      "text/plain": [
       "Epoch 20/100 [Training]:   0%|          | 0/4150 [00:00<?, ?it/s]"
      ]
     },
     "metadata": {},
     "output_type": "display_data"
    },
    {
     "data": {
      "application/vnd.jupyter.widget-view+json": {
       "model_id": "589a0c41523748dfbdf7b362e594c8da",
       "version_major": 2,
       "version_minor": 0
      },
      "text/plain": [
       "Epoch 20/100 [Validation]:   0%|          | 0/1038 [00:00<?, ?it/s]"
      ]
     },
     "metadata": {},
     "output_type": "display_data"
    },
    {
     "name": "stdout",
     "output_type": "stream",
     "text": [
      "\n",
      "--- Epoch 20/100 Summary ---\n",
      "  Train Loss: 0.4979 | Val Loss: 0.2825\n",
      "  Accuracy: 0.9033 | Precision: 0.9033 | Recall: 0.9033 | F1: 0.9033\n",
      "  Learning Rate: 0.000914\n"
     ]
    },
    {
     "data": {
      "application/vnd.jupyter.widget-view+json": {
       "model_id": "ffdb5258d7fb42c3b82057fb7bdfdcee",
       "version_major": 2,
       "version_minor": 0
      },
      "text/plain": [
       "Epoch 21/100 [Training]:   0%|          | 0/4150 [00:00<?, ?it/s]"
      ]
     },
     "metadata": {},
     "output_type": "display_data"
    },
    {
     "data": {
      "application/vnd.jupyter.widget-view+json": {
       "model_id": "078e1340ee854b968e2c91e5555a01ea",
       "version_major": 2,
       "version_minor": 0
      },
      "text/plain": [
       "Epoch 21/100 [Validation]:   0%|          | 0/1038 [00:00<?, ?it/s]"
      ]
     },
     "metadata": {},
     "output_type": "display_data"
    },
    {
     "name": "stdout",
     "output_type": "stream",
     "text": [
      "\n",
      "--- Epoch 21/100 Summary ---\n",
      "  Train Loss: 0.4876 | Val Loss: 0.3790\n",
      "  Accuracy: 0.8766 | Precision: 0.8766 | Recall: 0.8766 | F1: 0.8766\n",
      "  Learning Rate: 0.000905\n"
     ]
    },
    {
     "data": {
      "application/vnd.jupyter.widget-view+json": {
       "model_id": "23d9b32cf6f44b0dbabf97c026a506d8",
       "version_major": 2,
       "version_minor": 0
      },
      "text/plain": [
       "Epoch 22/100 [Training]:   0%|          | 0/4150 [00:00<?, ?it/s]"
      ]
     },
     "metadata": {},
     "output_type": "display_data"
    },
    {
     "data": {
      "application/vnd.jupyter.widget-view+json": {
       "model_id": "580850e380a54005af2e20c56dd7ffd7",
       "version_major": 2,
       "version_minor": 0
      },
      "text/plain": [
       "Epoch 22/100 [Validation]:   0%|          | 0/1038 [00:00<?, ?it/s]"
      ]
     },
     "metadata": {},
     "output_type": "display_data"
    },
    {
     "name": "stdout",
     "output_type": "stream",
     "text": [
      "\n",
      "--- Epoch 22/100 Summary ---\n",
      "  Train Loss: 0.4798 | Val Loss: 0.3241\n",
      "  Accuracy: 0.8936 | Precision: 0.8936 | Recall: 0.8936 | F1: 0.8936\n",
      "  Learning Rate: 0.000895\n"
     ]
    },
    {
     "data": {
      "application/vnd.jupyter.widget-view+json": {
       "model_id": "8bc43b55c954479a91ef4636e5b915e1",
       "version_major": 2,
       "version_minor": 0
      },
      "text/plain": [
       "Epoch 23/100 [Training]:   0%|          | 0/4150 [00:00<?, ?it/s]"
      ]
     },
     "metadata": {},
     "output_type": "display_data"
    },
    {
     "data": {
      "application/vnd.jupyter.widget-view+json": {
       "model_id": "0977dcebab5541d09791dde95dffdfdb",
       "version_major": 2,
       "version_minor": 0
      },
      "text/plain": [
       "Epoch 23/100 [Validation]:   0%|          | 0/1038 [00:00<?, ?it/s]"
      ]
     },
     "metadata": {},
     "output_type": "display_data"
    },
    {
     "name": "stdout",
     "output_type": "stream",
     "text": [
      "\n",
      "--- Epoch 23/100 Summary ---\n",
      "  Train Loss: 0.4697 | Val Loss: 0.8296\n",
      "  Accuracy: 0.7741 | Precision: 0.7741 | Recall: 0.7741 | F1: 0.7741\n",
      "  Learning Rate: 0.000885\n"
     ]
    },
    {
     "data": {
      "application/vnd.jupyter.widget-view+json": {
       "model_id": "3c69692fff00495ba392ef4779469baa",
       "version_major": 2,
       "version_minor": 0
      },
      "text/plain": [
       "Epoch 24/100 [Training]:   0%|          | 0/4150 [00:00<?, ?it/s]"
      ]
     },
     "metadata": {},
     "output_type": "display_data"
    },
    {
     "data": {
      "application/vnd.jupyter.widget-view+json": {
       "model_id": "73519221db7d4f15913e4ac36774a262",
       "version_major": 2,
       "version_minor": 0
      },
      "text/plain": [
       "Epoch 24/100 [Validation]:   0%|          | 0/1038 [00:00<?, ?it/s]"
      ]
     },
     "metadata": {},
     "output_type": "display_data"
    },
    {
     "name": "stdout",
     "output_type": "stream",
     "text": [
      "\n",
      "--- Epoch 24/100 Summary ---\n",
      "  Train Loss: 0.4631 | Val Loss: 0.3197\n",
      "  Accuracy: 0.8957 | Precision: 0.8957 | Recall: 0.8957 | F1: 0.8957\n",
      "  Learning Rate: 0.000875\n"
     ]
    },
    {
     "data": {
      "application/vnd.jupyter.widget-view+json": {
       "model_id": "59cb4503e0254f8a97dd9175d7a005b5",
       "version_major": 2,
       "version_minor": 0
      },
      "text/plain": [
       "Epoch 25/100 [Training]:   0%|          | 0/4150 [00:00<?, ?it/s]"
      ]
     },
     "metadata": {},
     "output_type": "display_data"
    },
    {
     "data": {
      "application/vnd.jupyter.widget-view+json": {
       "model_id": "38c80481557948f8a088835fdd956994",
       "version_major": 2,
       "version_minor": 0
      },
      "text/plain": [
       "Epoch 25/100 [Validation]:   0%|          | 0/1038 [00:00<?, ?it/s]"
      ]
     },
     "metadata": {},
     "output_type": "display_data"
    },
    {
     "name": "stdout",
     "output_type": "stream",
     "text": [
      "\n",
      "--- Epoch 25/100 Summary ---\n",
      "  Train Loss: 0.4698 | Val Loss: 0.2747\n",
      "  Accuracy: 0.9096 | Precision: 0.9096 | Recall: 0.9096 | F1: 0.9096\n",
      "  Learning Rate: 0.000864\n",
      "  => 🎉 New best model saved to 'F:/Working Sync/LAB projects/InsectSELD/Dataset/checkpoints_small\\best_model.pth' (F1: 0.9096)\n",
      "\n"
     ]
    },
    {
     "data": {
      "application/vnd.jupyter.widget-view+json": {
       "model_id": "1c3d10982510407fbf522ba3f008a4df",
       "version_major": 2,
       "version_minor": 0
      },
      "text/plain": [
       "Epoch 26/100 [Training]:   0%|          | 0/4150 [00:00<?, ?it/s]"
      ]
     },
     "metadata": {},
     "output_type": "display_data"
    },
    {
     "data": {
      "application/vnd.jupyter.widget-view+json": {
       "model_id": "b49e7fe0c3ae4891b0cd32de70f01461",
       "version_major": 2,
       "version_minor": 0
      },
      "text/plain": [
       "Epoch 26/100 [Validation]:   0%|          | 0/1038 [00:00<?, ?it/s]"
      ]
     },
     "metadata": {},
     "output_type": "display_data"
    },
    {
     "name": "stdout",
     "output_type": "stream",
     "text": [
      "\n",
      "--- Epoch 26/100 Summary ---\n",
      "  Train Loss: 0.4475 | Val Loss: 0.4551\n",
      "  Accuracy: 0.8609 | Precision: 0.8609 | Recall: 0.8609 | F1: 0.8609\n",
      "  Learning Rate: 0.000854\n"
     ]
    },
    {
     "data": {
      "application/vnd.jupyter.widget-view+json": {
       "model_id": "be8c1618f16f47b08c156a1d89222550",
       "version_major": 2,
       "version_minor": 0
      },
      "text/plain": [
       "Epoch 27/100 [Training]:   0%|          | 0/4150 [00:00<?, ?it/s]"
      ]
     },
     "metadata": {},
     "output_type": "display_data"
    },
    {
     "data": {
      "application/vnd.jupyter.widget-view+json": {
       "model_id": "1339798688b942a486a6825dea42bf04",
       "version_major": 2,
       "version_minor": 0
      },
      "text/plain": [
       "Epoch 27/100 [Validation]:   0%|          | 0/1038 [00:00<?, ?it/s]"
      ]
     },
     "metadata": {},
     "output_type": "display_data"
    },
    {
     "name": "stdout",
     "output_type": "stream",
     "text": [
      "\n",
      "--- Epoch 27/100 Summary ---\n",
      "  Train Loss: 0.4340 | Val Loss: 0.7660\n",
      "  Accuracy: 0.8074 | Precision: 0.8074 | Recall: 0.8074 | F1: 0.8074\n",
      "  Learning Rate: 0.000842\n"
     ]
    },
    {
     "data": {
      "application/vnd.jupyter.widget-view+json": {
       "model_id": "93aefd0a9b1a480f8a3c13bdd77f0681",
       "version_major": 2,
       "version_minor": 0
      },
      "text/plain": [
       "Epoch 28/100 [Training]:   0%|          | 0/4150 [00:00<?, ?it/s]"
      ]
     },
     "metadata": {},
     "output_type": "display_data"
    },
    {
     "data": {
      "application/vnd.jupyter.widget-view+json": {
       "model_id": "9e6153a4d0ae4f159ca91fa153095bfc",
       "version_major": 2,
       "version_minor": 0
      },
      "text/plain": [
       "Epoch 28/100 [Validation]:   0%|          | 0/1038 [00:00<?, ?it/s]"
      ]
     },
     "metadata": {},
     "output_type": "display_data"
    },
    {
     "name": "stdout",
     "output_type": "stream",
     "text": [
      "\n",
      "--- Epoch 28/100 Summary ---\n",
      "  Train Loss: 0.4374 | Val Loss: 0.3691\n",
      "  Accuracy: 0.8881 | Precision: 0.8881 | Recall: 0.8881 | F1: 0.8881\n",
      "  Learning Rate: 0.000831\n"
     ]
    },
    {
     "data": {
      "application/vnd.jupyter.widget-view+json": {
       "model_id": "09d15c364b9f450bab92d7ef830eefe2",
       "version_major": 2,
       "version_minor": 0
      },
      "text/plain": [
       "Epoch 29/100 [Training]:   0%|          | 0/4150 [00:00<?, ?it/s]"
      ]
     },
     "metadata": {},
     "output_type": "display_data"
    },
    {
     "data": {
      "application/vnd.jupyter.widget-view+json": {
       "model_id": "3ecdd70776714de2957c7d4ee2b1bad4",
       "version_major": 2,
       "version_minor": 0
      },
      "text/plain": [
       "Epoch 29/100 [Validation]:   0%|          | 0/1038 [00:00<?, ?it/s]"
      ]
     },
     "metadata": {},
     "output_type": "display_data"
    },
    {
     "name": "stdout",
     "output_type": "stream",
     "text": [
      "\n",
      "--- Epoch 29/100 Summary ---\n",
      "  Train Loss: 0.4300 | Val Loss: 0.2803\n",
      "  Accuracy: 0.9113 | Precision: 0.9113 | Recall: 0.9113 | F1: 0.9113\n",
      "  Learning Rate: 0.000819\n",
      "  => 🎉 New best model saved to 'F:/Working Sync/LAB projects/InsectSELD/Dataset/checkpoints_small\\best_model.pth' (F1: 0.9113)\n",
      "\n"
     ]
    },
    {
     "data": {
      "application/vnd.jupyter.widget-view+json": {
       "model_id": "f83471f3e9de46c9a4059dcdc3b1d62c",
       "version_major": 2,
       "version_minor": 0
      },
      "text/plain": [
       "Epoch 30/100 [Training]:   0%|          | 0/4150 [00:00<?, ?it/s]"
      ]
     },
     "metadata": {},
     "output_type": "display_data"
    },
    {
     "data": {
      "application/vnd.jupyter.widget-view+json": {
       "model_id": "422604fece8c41dfade95bb4129e83a1",
       "version_major": 2,
       "version_minor": 0
      },
      "text/plain": [
       "Epoch 30/100 [Validation]:   0%|          | 0/1038 [00:00<?, ?it/s]"
      ]
     },
     "metadata": {},
     "output_type": "display_data"
    },
    {
     "name": "stdout",
     "output_type": "stream",
     "text": [
      "\n",
      "--- Epoch 30/100 Summary ---\n",
      "  Train Loss: 0.4312 | Val Loss: 0.2732\n",
      "  Accuracy: 0.9137 | Precision: 0.9137 | Recall: 0.9137 | F1: 0.9137\n",
      "  Learning Rate: 0.000806\n",
      "  => 🎉 New best model saved to 'F:/Working Sync/LAB projects/InsectSELD/Dataset/checkpoints_small\\best_model.pth' (F1: 0.9137)\n",
      "\n"
     ]
    },
    {
     "data": {
      "application/vnd.jupyter.widget-view+json": {
       "model_id": "09c3b8a36c484df28765bcb85a2c2c1e",
       "version_major": 2,
       "version_minor": 0
      },
      "text/plain": [
       "Epoch 31/100 [Training]:   0%|          | 0/4150 [00:00<?, ?it/s]"
      ]
     },
     "metadata": {},
     "output_type": "display_data"
    },
    {
     "data": {
      "application/vnd.jupyter.widget-view+json": {
       "model_id": "9a09290132b34b168129ec1b1d89af3e",
       "version_major": 2,
       "version_minor": 0
      },
      "text/plain": [
       "Epoch 31/100 [Validation]:   0%|          | 0/1038 [00:00<?, ?it/s]"
      ]
     },
     "metadata": {},
     "output_type": "display_data"
    },
    {
     "name": "stdout",
     "output_type": "stream",
     "text": [
      "\n",
      "--- Epoch 31/100 Summary ---\n",
      "  Train Loss: 0.4226 | Val Loss: 0.5104\n",
      "  Accuracy: 0.8546 | Precision: 0.8546 | Recall: 0.8546 | F1: 0.8546\n",
      "  Learning Rate: 0.000794\n"
     ]
    },
    {
     "data": {
      "application/vnd.jupyter.widget-view+json": {
       "model_id": "002f92b88cda4e70833f856f21efbed3",
       "version_major": 2,
       "version_minor": 0
      },
      "text/plain": [
       "Epoch 32/100 [Training]:   0%|          | 0/4150 [00:00<?, ?it/s]"
      ]
     },
     "metadata": {},
     "output_type": "display_data"
    },
    {
     "data": {
      "application/vnd.jupyter.widget-view+json": {
       "model_id": "8181c6aca0c344c39940d5a37bc4226e",
       "version_major": 2,
       "version_minor": 0
      },
      "text/plain": [
       "Epoch 32/100 [Validation]:   0%|          | 0/1038 [00:00<?, ?it/s]"
      ]
     },
     "metadata": {},
     "output_type": "display_data"
    },
    {
     "name": "stdout",
     "output_type": "stream",
     "text": [
      "\n",
      "--- Epoch 32/100 Summary ---\n",
      "  Train Loss: 0.4194 | Val Loss: 0.3019\n",
      "  Accuracy: 0.9084 | Precision: 0.9084 | Recall: 0.9084 | F1: 0.9084\n",
      "  Learning Rate: 0.000781\n"
     ]
    },
    {
     "data": {
      "application/vnd.jupyter.widget-view+json": {
       "model_id": "80315b8502284f20b68811b311373efc",
       "version_major": 2,
       "version_minor": 0
      },
      "text/plain": [
       "Epoch 33/100 [Training]:   0%|          | 0/4150 [00:00<?, ?it/s]"
      ]
     },
     "metadata": {},
     "output_type": "display_data"
    },
    {
     "data": {
      "application/vnd.jupyter.widget-view+json": {
       "model_id": "541790a235684f1c82d3f0b4927a993f",
       "version_major": 2,
       "version_minor": 0
      },
      "text/plain": [
       "Epoch 33/100 [Validation]:   0%|          | 0/1038 [00:00<?, ?it/s]"
      ]
     },
     "metadata": {},
     "output_type": "display_data"
    },
    {
     "name": "stdout",
     "output_type": "stream",
     "text": [
      "\n",
      "--- Epoch 33/100 Summary ---\n",
      "  Train Loss: 0.3998 | Val Loss: 0.2676\n",
      "  Accuracy: 0.9160 | Precision: 0.9160 | Recall: 0.9160 | F1: 0.9160\n",
      "  Learning Rate: 0.000768\n",
      "  => 🎉 New best model saved to 'F:/Working Sync/LAB projects/InsectSELD/Dataset/checkpoints_small\\best_model.pth' (F1: 0.9160)\n",
      "\n"
     ]
    },
    {
     "data": {
      "application/vnd.jupyter.widget-view+json": {
       "model_id": "647cb90e805a4c7988828788e96c6946",
       "version_major": 2,
       "version_minor": 0
      },
      "text/plain": [
       "Epoch 34/100 [Training]:   0%|          | 0/4150 [00:00<?, ?it/s]"
      ]
     },
     "metadata": {},
     "output_type": "display_data"
    },
    {
     "data": {
      "application/vnd.jupyter.widget-view+json": {
       "model_id": "994c1e18f98e447e8a6c17f2696a5640",
       "version_major": 2,
       "version_minor": 0
      },
      "text/plain": [
       "Epoch 34/100 [Validation]:   0%|          | 0/1038 [00:00<?, ?it/s]"
      ]
     },
     "metadata": {},
     "output_type": "display_data"
    },
    {
     "name": "stdout",
     "output_type": "stream",
     "text": [
      "\n",
      "--- Epoch 34/100 Summary ---\n",
      "  Train Loss: 0.3975 | Val Loss: 0.3088\n",
      "  Accuracy: 0.9079 | Precision: 0.9079 | Recall: 0.9079 | F1: 0.9079\n",
      "  Learning Rate: 0.000755\n"
     ]
    },
    {
     "data": {
      "application/vnd.jupyter.widget-view+json": {
       "model_id": "ed4df47eb748447cb8ff2761adb9575f",
       "version_major": 2,
       "version_minor": 0
      },
      "text/plain": [
       "Epoch 35/100 [Training]:   0%|          | 0/4150 [00:00<?, ?it/s]"
      ]
     },
     "metadata": {},
     "output_type": "display_data"
    },
    {
     "data": {
      "application/vnd.jupyter.widget-view+json": {
       "model_id": "707d83de00e84911bd0358c13e114623",
       "version_major": 2,
       "version_minor": 0
      },
      "text/plain": [
       "Epoch 35/100 [Validation]:   0%|          | 0/1038 [00:00<?, ?it/s]"
      ]
     },
     "metadata": {},
     "output_type": "display_data"
    },
    {
     "name": "stdout",
     "output_type": "stream",
     "text": [
      "\n",
      "--- Epoch 35/100 Summary ---\n",
      "  Train Loss: 0.4057 | Val Loss: 0.2998\n",
      "  Accuracy: 0.9116 | Precision: 0.9116 | Recall: 0.9116 | F1: 0.9116\n",
      "  Learning Rate: 0.000741\n"
     ]
    },
    {
     "data": {
      "application/vnd.jupyter.widget-view+json": {
       "model_id": "e04e9096116a4fdfa93d9616ba394594",
       "version_major": 2,
       "version_minor": 0
      },
      "text/plain": [
       "Epoch 36/100 [Training]:   0%|          | 0/4150 [00:00<?, ?it/s]"
      ]
     },
     "metadata": {},
     "output_type": "display_data"
    },
    {
     "data": {
      "application/vnd.jupyter.widget-view+json": {
       "model_id": "c810c3e3d22d487d83d729002e466728",
       "version_major": 2,
       "version_minor": 0
      },
      "text/plain": [
       "Epoch 36/100 [Validation]:   0%|          | 0/1038 [00:00<?, ?it/s]"
      ]
     },
     "metadata": {},
     "output_type": "display_data"
    },
    {
     "name": "stdout",
     "output_type": "stream",
     "text": [
      "\n",
      "--- Epoch 36/100 Summary ---\n",
      "  Train Loss: 0.3990 | Val Loss: 0.3037\n",
      "  Accuracy: 0.9100 | Precision: 0.9100 | Recall: 0.9100 | F1: 0.9100\n",
      "  Learning Rate: 0.000727\n"
     ]
    },
    {
     "data": {
      "application/vnd.jupyter.widget-view+json": {
       "model_id": "56703c1aeced4b6d8ecb09bb8f38ab3d",
       "version_major": 2,
       "version_minor": 0
      },
      "text/plain": [
       "Epoch 37/100 [Training]:   0%|          | 0/4150 [00:00<?, ?it/s]"
      ]
     },
     "metadata": {},
     "output_type": "display_data"
    },
    {
     "data": {
      "application/vnd.jupyter.widget-view+json": {
       "model_id": "8a5b22af5c1842fe81679fbd96a15d30",
       "version_major": 2,
       "version_minor": 0
      },
      "text/plain": [
       "Epoch 37/100 [Validation]:   0%|          | 0/1038 [00:00<?, ?it/s]"
      ]
     },
     "metadata": {},
     "output_type": "display_data"
    },
    {
     "name": "stdout",
     "output_type": "stream",
     "text": [
      "\n",
      "--- Epoch 37/100 Summary ---\n",
      "  Train Loss: 0.3965 | Val Loss: 0.3985\n",
      "  Accuracy: 0.8887 | Precision: 0.8887 | Recall: 0.8887 | F1: 0.8887\n",
      "  Learning Rate: 0.000713\n"
     ]
    },
    {
     "data": {
      "application/vnd.jupyter.widget-view+json": {
       "model_id": "f518920b9a6c4f2ca28aebb9cfaae229",
       "version_major": 2,
       "version_minor": 0
      },
      "text/plain": [
       "Epoch 38/100 [Training]:   0%|          | 0/4150 [00:00<?, ?it/s]"
      ]
     },
     "metadata": {},
     "output_type": "display_data"
    },
    {
     "data": {
      "application/vnd.jupyter.widget-view+json": {
       "model_id": "cfdfeb0cb0b54df1a3b43eb849d499b0",
       "version_major": 2,
       "version_minor": 0
      },
      "text/plain": [
       "Epoch 38/100 [Validation]:   0%|          | 0/1038 [00:00<?, ?it/s]"
      ]
     },
     "metadata": {},
     "output_type": "display_data"
    },
    {
     "name": "stdout",
     "output_type": "stream",
     "text": [
      "\n",
      "--- Epoch 38/100 Summary ---\n",
      "  Train Loss: 0.3816 | Val Loss: 0.4187\n",
      "  Accuracy: 0.8936 | Precision: 0.8936 | Recall: 0.8936 | F1: 0.8936\n",
      "  Learning Rate: 0.000699\n"
     ]
    },
    {
     "data": {
      "application/vnd.jupyter.widget-view+json": {
       "model_id": "f9292f2103f241cbaa30504d8b058db4",
       "version_major": 2,
       "version_minor": 0
      },
      "text/plain": [
       "Epoch 39/100 [Training]:   0%|          | 0/4150 [00:00<?, ?it/s]"
      ]
     },
     "metadata": {},
     "output_type": "display_data"
    },
    {
     "data": {
      "application/vnd.jupyter.widget-view+json": {
       "model_id": "763861d5edb64ee1aa7f1b8be8a3588b",
       "version_major": 2,
       "version_minor": 0
      },
      "text/plain": [
       "Epoch 39/100 [Validation]:   0%|          | 0/1038 [00:00<?, ?it/s]"
      ]
     },
     "metadata": {},
     "output_type": "display_data"
    },
    {
     "name": "stdout",
     "output_type": "stream",
     "text": [
      "\n",
      "--- Epoch 39/100 Summary ---\n",
      "  Train Loss: 0.3722 | Val Loss: 0.3157\n",
      "  Accuracy: 0.9113 | Precision: 0.9113 | Recall: 0.9113 | F1: 0.9113\n",
      "  Learning Rate: 0.000684\n"
     ]
    },
    {
     "data": {
      "application/vnd.jupyter.widget-view+json": {
       "model_id": "f305377f60ed44b98148f78d0c1fd64e",
       "version_major": 2,
       "version_minor": 0
      },
      "text/plain": [
       "Epoch 40/100 [Training]:   0%|          | 0/4150 [00:00<?, ?it/s]"
      ]
     },
     "metadata": {},
     "output_type": "display_data"
    },
    {
     "data": {
      "application/vnd.jupyter.widget-view+json": {
       "model_id": "4574283a4b4947a2a0b39f91b7b983ff",
       "version_major": 2,
       "version_minor": 0
      },
      "text/plain": [
       "Epoch 40/100 [Validation]:   0%|          | 0/1038 [00:00<?, ?it/s]"
      ]
     },
     "metadata": {},
     "output_type": "display_data"
    },
    {
     "name": "stdout",
     "output_type": "stream",
     "text": [
      "\n",
      "--- Epoch 40/100 Summary ---\n",
      "  Train Loss: 0.3714 | Val Loss: 0.6454\n",
      "  Accuracy: 0.8510 | Precision: 0.8510 | Recall: 0.8510 | F1: 0.8510\n",
      "  Learning Rate: 0.000669\n"
     ]
    },
    {
     "data": {
      "application/vnd.jupyter.widget-view+json": {
       "model_id": "01d051a0c84044d5ab50f994063eae87",
       "version_major": 2,
       "version_minor": 0
      },
      "text/plain": [
       "Epoch 41/100 [Training]:   0%|          | 0/4150 [00:00<?, ?it/s]"
      ]
     },
     "metadata": {},
     "output_type": "display_data"
    },
    {
     "data": {
      "application/vnd.jupyter.widget-view+json": {
       "model_id": "137ca359793d45939d3ac0e14f744fa5",
       "version_major": 2,
       "version_minor": 0
      },
      "text/plain": [
       "Epoch 41/100 [Validation]:   0%|          | 0/1038 [00:00<?, ?it/s]"
      ]
     },
     "metadata": {},
     "output_type": "display_data"
    },
    {
     "name": "stdout",
     "output_type": "stream",
     "text": [
      "\n",
      "--- Epoch 41/100 Summary ---\n",
      "  Train Loss: 0.3638 | Val Loss: 0.4477\n",
      "  Accuracy: 0.8801 | Precision: 0.8801 | Recall: 0.8801 | F1: 0.8801\n",
      "  Learning Rate: 0.000655\n"
     ]
    },
    {
     "data": {
      "application/vnd.jupyter.widget-view+json": {
       "model_id": "d3cfb87e7c8147c6af552d6d8dae3893",
       "version_major": 2,
       "version_minor": 0
      },
      "text/plain": [
       "Epoch 42/100 [Training]:   0%|          | 0/4150 [00:00<?, ?it/s]"
      ]
     },
     "metadata": {},
     "output_type": "display_data"
    },
    {
     "data": {
      "application/vnd.jupyter.widget-view+json": {
       "model_id": "d705360c08d64799a5f4b9e99d84bfd5",
       "version_major": 2,
       "version_minor": 0
      },
      "text/plain": [
       "Epoch 42/100 [Validation]:   0%|          | 0/1038 [00:00<?, ?it/s]"
      ]
     },
     "metadata": {},
     "output_type": "display_data"
    },
    {
     "name": "stdout",
     "output_type": "stream",
     "text": [
      "\n",
      "--- Epoch 42/100 Summary ---\n",
      "  Train Loss: 0.3799 | Val Loss: 0.3060\n",
      "  Accuracy: 0.9158 | Precision: 0.9158 | Recall: 0.9158 | F1: 0.9158\n",
      "  Learning Rate: 0.000639\n"
     ]
    },
    {
     "data": {
      "application/vnd.jupyter.widget-view+json": {
       "model_id": "12afa8a3fa194e0ca7013ff6b1b5aebf",
       "version_major": 2,
       "version_minor": 0
      },
      "text/plain": [
       "Epoch 43/100 [Training]:   0%|          | 0/4150 [00:00<?, ?it/s]"
      ]
     },
     "metadata": {},
     "output_type": "display_data"
    },
    {
     "data": {
      "application/vnd.jupyter.widget-view+json": {
       "model_id": "82202e06f5634334b8a32b7dfe9abd55",
       "version_major": 2,
       "version_minor": 0
      },
      "text/plain": [
       "Epoch 43/100 [Validation]:   0%|          | 0/1038 [00:00<?, ?it/s]"
      ]
     },
     "metadata": {},
     "output_type": "display_data"
    },
    {
     "name": "stdout",
     "output_type": "stream",
     "text": [
      "\n",
      "--- Epoch 43/100 Summary ---\n",
      "  Train Loss: 0.3640 | Val Loss: 0.3167\n",
      "  Accuracy: 0.9128 | Precision: 0.9128 | Recall: 0.9128 | F1: 0.9128\n",
      "  Learning Rate: 0.000624\n"
     ]
    },
    {
     "data": {
      "application/vnd.jupyter.widget-view+json": {
       "model_id": "575c72a3082843b1a7b2cb7a01839162",
       "version_major": 2,
       "version_minor": 0
      },
      "text/plain": [
       "Epoch 44/100 [Training]:   0%|          | 0/4150 [00:00<?, ?it/s]"
      ]
     },
     "metadata": {},
     "output_type": "display_data"
    },
    {
     "data": {
      "application/vnd.jupyter.widget-view+json": {
       "model_id": "432d05df05c142088c412e133326c79e",
       "version_major": 2,
       "version_minor": 0
      },
      "text/plain": [
       "Epoch 44/100 [Validation]:   0%|          | 0/1038 [00:00<?, ?it/s]"
      ]
     },
     "metadata": {},
     "output_type": "display_data"
    },
    {
     "name": "stdout",
     "output_type": "stream",
     "text": [
      "\n",
      "--- Epoch 44/100 Summary ---\n",
      "  Train Loss: 0.3726 | Val Loss: 0.3422\n",
      "  Accuracy: 0.9081 | Precision: 0.9081 | Recall: 0.9081 | F1: 0.9081\n",
      "  Learning Rate: 0.000609\n"
     ]
    },
    {
     "data": {
      "application/vnd.jupyter.widget-view+json": {
       "model_id": "87833df39a0144a78d7d8d3b190a3e34",
       "version_major": 2,
       "version_minor": 0
      },
      "text/plain": [
       "Epoch 45/100 [Training]:   0%|          | 0/4150 [00:00<?, ?it/s]"
      ]
     },
     "metadata": {},
     "output_type": "display_data"
    },
    {
     "data": {
      "application/vnd.jupyter.widget-view+json": {
       "model_id": "ea38ebb9dea34441bf0df023b8a593d7",
       "version_major": 2,
       "version_minor": 0
      },
      "text/plain": [
       "Epoch 45/100 [Validation]:   0%|          | 0/1038 [00:00<?, ?it/s]"
      ]
     },
     "metadata": {},
     "output_type": "display_data"
    },
    {
     "name": "stdout",
     "output_type": "stream",
     "text": [
      "\n",
      "--- Epoch 45/100 Summary ---\n",
      "  Train Loss: 0.3621 | Val Loss: 0.3170\n",
      "  Accuracy: 0.9074 | Precision: 0.9074 | Recall: 0.9074 | F1: 0.9074\n",
      "  Learning Rate: 0.000594\n"
     ]
    },
    {
     "data": {
      "application/vnd.jupyter.widget-view+json": {
       "model_id": "0dada37f16d249e9a2de3b1a98af937c",
       "version_major": 2,
       "version_minor": 0
      },
      "text/plain": [
       "Epoch 46/100 [Training]:   0%|          | 0/4150 [00:00<?, ?it/s]"
      ]
     },
     "metadata": {},
     "output_type": "display_data"
    },
    {
     "data": {
      "application/vnd.jupyter.widget-view+json": {
       "model_id": "fda91d06fb15482fbd698ed20c939bd3",
       "version_major": 2,
       "version_minor": 0
      },
      "text/plain": [
       "Epoch 46/100 [Validation]:   0%|          | 0/1038 [00:00<?, ?it/s]"
      ]
     },
     "metadata": {},
     "output_type": "display_data"
    },
    {
     "name": "stdout",
     "output_type": "stream",
     "text": [
      "\n",
      "--- Epoch 46/100 Summary ---\n",
      "  Train Loss: 0.3568 | Val Loss: 0.4332\n",
      "  Accuracy: 0.8778 | Precision: 0.8778 | Recall: 0.8778 | F1: 0.8778\n",
      "  Learning Rate: 0.000578\n"
     ]
    },
    {
     "data": {
      "application/vnd.jupyter.widget-view+json": {
       "model_id": "12592388e5a74ce490a5fbdb811a6886",
       "version_major": 2,
       "version_minor": 0
      },
      "text/plain": [
       "Epoch 47/100 [Training]:   0%|          | 0/4150 [00:00<?, ?it/s]"
      ]
     },
     "metadata": {},
     "output_type": "display_data"
    },
    {
     "data": {
      "application/vnd.jupyter.widget-view+json": {
       "model_id": "2f1241153de6473fa9a3a58414728115",
       "version_major": 2,
       "version_minor": 0
      },
      "text/plain": [
       "Epoch 47/100 [Validation]:   0%|          | 0/1038 [00:00<?, ?it/s]"
      ]
     },
     "metadata": {},
     "output_type": "display_data"
    },
    {
     "name": "stdout",
     "output_type": "stream",
     "text": [
      "\n",
      "--- Epoch 47/100 Summary ---\n",
      "  Train Loss: 0.3676 | Val Loss: 0.3229\n",
      "  Accuracy: 0.9177 | Precision: 0.9177 | Recall: 0.9177 | F1: 0.9177\n",
      "  Learning Rate: 0.000563\n",
      "  => 🎉 New best model saved to 'F:/Working Sync/LAB projects/InsectSELD/Dataset/checkpoints_small\\best_model.pth' (F1: 0.9177)\n",
      "\n"
     ]
    },
    {
     "data": {
      "application/vnd.jupyter.widget-view+json": {
       "model_id": "8abe644c55d4458997b2ce19a7c1e24f",
       "version_major": 2,
       "version_minor": 0
      },
      "text/plain": [
       "Epoch 48/100 [Training]:   0%|          | 0/4150 [00:00<?, ?it/s]"
      ]
     },
     "metadata": {},
     "output_type": "display_data"
    },
    {
     "data": {
      "application/vnd.jupyter.widget-view+json": {
       "model_id": "b519780571df4b5ca397e14ddc99786a",
       "version_major": 2,
       "version_minor": 0
      },
      "text/plain": [
       "Epoch 48/100 [Validation]:   0%|          | 0/1038 [00:00<?, ?it/s]"
      ]
     },
     "metadata": {},
     "output_type": "display_data"
    },
    {
     "name": "stdout",
     "output_type": "stream",
     "text": [
      "\n",
      "--- Epoch 48/100 Summary ---\n",
      "  Train Loss: 0.3583 | Val Loss: 0.3441\n",
      "  Accuracy: 0.9134 | Precision: 0.9134 | Recall: 0.9134 | F1: 0.9134\n",
      "  Learning Rate: 0.000547\n"
     ]
    },
    {
     "data": {
      "application/vnd.jupyter.widget-view+json": {
       "model_id": "5ce0cbf1f07c4cd49a78054a49c8bd64",
       "version_major": 2,
       "version_minor": 0
      },
      "text/plain": [
       "Epoch 49/100 [Training]:   0%|          | 0/4150 [00:00<?, ?it/s]"
      ]
     },
     "metadata": {},
     "output_type": "display_data"
    },
    {
     "data": {
      "application/vnd.jupyter.widget-view+json": {
       "model_id": "730c11accfc84193b27d957478940dab",
       "version_major": 2,
       "version_minor": 0
      },
      "text/plain": [
       "Epoch 49/100 [Validation]:   0%|          | 0/1038 [00:00<?, ?it/s]"
      ]
     },
     "metadata": {},
     "output_type": "display_data"
    },
    {
     "name": "stdout",
     "output_type": "stream",
     "text": [
      "\n",
      "--- Epoch 49/100 Summary ---\n",
      "  Train Loss: 0.3471 | Val Loss: 0.4674\n",
      "  Accuracy: 0.8626 | Precision: 0.8626 | Recall: 0.8626 | F1: 0.8626\n",
      "  Learning Rate: 0.000531\n"
     ]
    },
    {
     "data": {
      "application/vnd.jupyter.widget-view+json": {
       "model_id": "e66c7d5c7d314d578e28c4df00251678",
       "version_major": 2,
       "version_minor": 0
      },
      "text/plain": [
       "Epoch 50/100 [Training]:   0%|          | 0/4150 [00:00<?, ?it/s]"
      ]
     },
     "metadata": {},
     "output_type": "display_data"
    },
    {
     "data": {
      "application/vnd.jupyter.widget-view+json": {
       "model_id": "ddf79075ed92498fa221dfd969af6f3a",
       "version_major": 2,
       "version_minor": 0
      },
      "text/plain": [
       "Epoch 50/100 [Validation]:   0%|          | 0/1038 [00:00<?, ?it/s]"
      ]
     },
     "metadata": {},
     "output_type": "display_data"
    },
    {
     "name": "stdout",
     "output_type": "stream",
     "text": [
      "\n",
      "--- Epoch 50/100 Summary ---\n",
      "  Train Loss: 0.3505 | Val Loss: 0.3355\n",
      "  Accuracy: 0.9160 | Precision: 0.9160 | Recall: 0.9160 | F1: 0.9160\n",
      "  Learning Rate: 0.000516\n"
     ]
    },
    {
     "data": {
      "application/vnd.jupyter.widget-view+json": {
       "model_id": "c2cf7770368f4a7c9a63997cbdbea299",
       "version_major": 2,
       "version_minor": 0
      },
      "text/plain": [
       "Epoch 51/100 [Training]:   0%|          | 0/4150 [00:00<?, ?it/s]"
      ]
     },
     "metadata": {},
     "output_type": "display_data"
    },
    {
     "data": {
      "application/vnd.jupyter.widget-view+json": {
       "model_id": "9c331c8c2de54dd1b2bf43ae5e1f57ff",
       "version_major": 2,
       "version_minor": 0
      },
      "text/plain": [
       "Epoch 51/100 [Validation]:   0%|          | 0/1038 [00:00<?, ?it/s]"
      ]
     },
     "metadata": {},
     "output_type": "display_data"
    },
    {
     "name": "stdout",
     "output_type": "stream",
     "text": [
      "\n",
      "--- Epoch 51/100 Summary ---\n",
      "  Train Loss: 0.3511 | Val Loss: 0.4091\n",
      "  Accuracy: 0.9004 | Precision: 0.9004 | Recall: 0.9004 | F1: 0.9004\n",
      "  Learning Rate: 0.000500\n"
     ]
    },
    {
     "data": {
      "application/vnd.jupyter.widget-view+json": {
       "model_id": "5b5a8a244e3e4b6ab04f7c501e6f3489",
       "version_major": 2,
       "version_minor": 0
      },
      "text/plain": [
       "Epoch 52/100 [Training]:   0%|          | 0/4150 [00:00<?, ?it/s]"
      ]
     },
     "metadata": {},
     "output_type": "display_data"
    },
    {
     "data": {
      "application/vnd.jupyter.widget-view+json": {
       "model_id": "08f3a04301da407a887e2630a2ea9257",
       "version_major": 2,
       "version_minor": 0
      },
      "text/plain": [
       "Epoch 52/100 [Validation]:   0%|          | 0/1038 [00:00<?, ?it/s]"
      ]
     },
     "metadata": {},
     "output_type": "display_data"
    },
    {
     "name": "stdout",
     "output_type": "stream",
     "text": [
      "\n",
      "--- Epoch 52/100 Summary ---\n",
      "  Train Loss: 0.3336 | Val Loss: 0.3451\n",
      "  Accuracy: 0.9173 | Precision: 0.9173 | Recall: 0.9173 | F1: 0.9173\n",
      "  Learning Rate: 0.000484\n"
     ]
    },
    {
     "data": {
      "application/vnd.jupyter.widget-view+json": {
       "model_id": "01c12e8b5d58473fbc0273290fd2edc7",
       "version_major": 2,
       "version_minor": 0
      },
      "text/plain": [
       "Epoch 53/100 [Training]:   0%|          | 0/4150 [00:00<?, ?it/s]"
      ]
     },
     "metadata": {},
     "output_type": "display_data"
    },
    {
     "data": {
      "application/vnd.jupyter.widget-view+json": {
       "model_id": "d1eb45f446a7429b95923fa1d91dff4d",
       "version_major": 2,
       "version_minor": 0
      },
      "text/plain": [
       "Epoch 53/100 [Validation]:   0%|          | 0/1038 [00:00<?, ?it/s]"
      ]
     },
     "metadata": {},
     "output_type": "display_data"
    },
    {
     "name": "stdout",
     "output_type": "stream",
     "text": [
      "\n",
      "--- Epoch 53/100 Summary ---\n",
      "  Train Loss: 0.3505 | Val Loss: 0.3329\n",
      "  Accuracy: 0.9107 | Precision: 0.9107 | Recall: 0.9107 | F1: 0.9107\n",
      "  Learning Rate: 0.000469\n"
     ]
    },
    {
     "data": {
      "application/vnd.jupyter.widget-view+json": {
       "model_id": "1c95da16beb34d61850969373c05cf1a",
       "version_major": 2,
       "version_minor": 0
      },
      "text/plain": [
       "Epoch 54/100 [Training]:   0%|          | 0/4150 [00:00<?, ?it/s]"
      ]
     },
     "metadata": {},
     "output_type": "display_data"
    },
    {
     "data": {
      "application/vnd.jupyter.widget-view+json": {
       "model_id": "38ce7ab24dfd47cc8a94f6a735437e82",
       "version_major": 2,
       "version_minor": 0
      },
      "text/plain": [
       "Epoch 54/100 [Validation]:   0%|          | 0/1038 [00:00<?, ?it/s]"
      ]
     },
     "metadata": {},
     "output_type": "display_data"
    },
    {
     "name": "stdout",
     "output_type": "stream",
     "text": [
      "\n",
      "--- Epoch 54/100 Summary ---\n",
      "  Train Loss: 0.3457 | Val Loss: 0.3325\n",
      "  Accuracy: 0.9132 | Precision: 0.9132 | Recall: 0.9132 | F1: 0.9132\n",
      "  Learning Rate: 0.000453\n"
     ]
    },
    {
     "data": {
      "application/vnd.jupyter.widget-view+json": {
       "model_id": "b98d08b424c94f68a3d3c2f70a378ab2",
       "version_major": 2,
       "version_minor": 0
      },
      "text/plain": [
       "Epoch 55/100 [Training]:   0%|          | 0/4150 [00:00<?, ?it/s]"
      ]
     },
     "metadata": {},
     "output_type": "display_data"
    },
    {
     "data": {
      "application/vnd.jupyter.widget-view+json": {
       "model_id": "68829ee288794cd5968f8170d352cc18",
       "version_major": 2,
       "version_minor": 0
      },
      "text/plain": [
       "Epoch 55/100 [Validation]:   0%|          | 0/1038 [00:00<?, ?it/s]"
      ]
     },
     "metadata": {},
     "output_type": "display_data"
    },
    {
     "name": "stdout",
     "output_type": "stream",
     "text": [
      "\n",
      "--- Epoch 55/100 Summary ---\n",
      "  Train Loss: 0.3444 | Val Loss: 0.3401\n",
      "  Accuracy: 0.9162 | Precision: 0.9162 | Recall: 0.9162 | F1: 0.9162\n",
      "  Learning Rate: 0.000437\n"
     ]
    },
    {
     "data": {
      "application/vnd.jupyter.widget-view+json": {
       "model_id": "4315a5acfbda48ef92852e65e1190b64",
       "version_major": 2,
       "version_minor": 0
      },
      "text/plain": [
       "Epoch 56/100 [Training]:   0%|          | 0/4150 [00:00<?, ?it/s]"
      ]
     },
     "metadata": {},
     "output_type": "display_data"
    },
    {
     "data": {
      "application/vnd.jupyter.widget-view+json": {
       "model_id": "0f7c55847b6443ecbd146da27eba4abe",
       "version_major": 2,
       "version_minor": 0
      },
      "text/plain": [
       "Epoch 56/100 [Validation]:   0%|          | 0/1038 [00:00<?, ?it/s]"
      ]
     },
     "metadata": {},
     "output_type": "display_data"
    },
    {
     "name": "stdout",
     "output_type": "stream",
     "text": [
      "\n",
      "--- Epoch 56/100 Summary ---\n",
      "  Train Loss: 0.3311 | Val Loss: 0.3314\n",
      "  Accuracy: 0.9195 | Precision: 0.9195 | Recall: 0.9195 | F1: 0.9195\n",
      "  Learning Rate: 0.000422\n",
      "  => 🎉 New best model saved to 'F:/Working Sync/LAB projects/InsectSELD/Dataset/checkpoints_small\\best_model.pth' (F1: 0.9195)\n",
      "\n"
     ]
    },
    {
     "data": {
      "application/vnd.jupyter.widget-view+json": {
       "model_id": "d8b3ed407a1749eea5f2eb3355902604",
       "version_major": 2,
       "version_minor": 0
      },
      "text/plain": [
       "Epoch 57/100 [Training]:   0%|          | 0/4150 [00:00<?, ?it/s]"
      ]
     },
     "metadata": {},
     "output_type": "display_data"
    },
    {
     "data": {
      "application/vnd.jupyter.widget-view+json": {
       "model_id": "9798652d57bd496fad850cdf7a43459c",
       "version_major": 2,
       "version_minor": 0
      },
      "text/plain": [
       "Epoch 57/100 [Validation]:   0%|          | 0/1038 [00:00<?, ?it/s]"
      ]
     },
     "metadata": {},
     "output_type": "display_data"
    },
    {
     "name": "stdout",
     "output_type": "stream",
     "text": [
      "\n",
      "--- Epoch 57/100 Summary ---\n",
      "  Train Loss: 0.3367 | Val Loss: 0.3491\n",
      "  Accuracy: 0.9197 | Precision: 0.9197 | Recall: 0.9197 | F1: 0.9197\n",
      "  Learning Rate: 0.000406\n",
      "  => 🎉 New best model saved to 'F:/Working Sync/LAB projects/InsectSELD/Dataset/checkpoints_small\\best_model.pth' (F1: 0.9197)\n",
      "\n"
     ]
    },
    {
     "data": {
      "application/vnd.jupyter.widget-view+json": {
       "model_id": "83d43a5cb6124808bf0a2909da0d2766",
       "version_major": 2,
       "version_minor": 0
      },
      "text/plain": [
       "Epoch 58/100 [Training]:   0%|          | 0/4150 [00:00<?, ?it/s]"
      ]
     },
     "metadata": {},
     "output_type": "display_data"
    },
    {
     "data": {
      "application/vnd.jupyter.widget-view+json": {
       "model_id": "6451189ed3d34dadb3547de2285d2d78",
       "version_major": 2,
       "version_minor": 0
      },
      "text/plain": [
       "Epoch 58/100 [Validation]:   0%|          | 0/1038 [00:00<?, ?it/s]"
      ]
     },
     "metadata": {},
     "output_type": "display_data"
    },
    {
     "name": "stdout",
     "output_type": "stream",
     "text": [
      "\n",
      "--- Epoch 58/100 Summary ---\n",
      "  Train Loss: 0.3299 | Val Loss: 0.3418\n",
      "  Accuracy: 0.9152 | Precision: 0.9152 | Recall: 0.9152 | F1: 0.9152\n",
      "  Learning Rate: 0.000391\n"
     ]
    },
    {
     "data": {
      "application/vnd.jupyter.widget-view+json": {
       "model_id": "de7d6e2d536f48bd80aab86ef6bda4a1",
       "version_major": 2,
       "version_minor": 0
      },
      "text/plain": [
       "Epoch 59/100 [Training]:   0%|          | 0/4150 [00:00<?, ?it/s]"
      ]
     },
     "metadata": {},
     "output_type": "display_data"
    },
    {
     "data": {
      "application/vnd.jupyter.widget-view+json": {
       "model_id": "045d8e40f013412ea752e7634d268f0f",
       "version_major": 2,
       "version_minor": 0
      },
      "text/plain": [
       "Epoch 59/100 [Validation]:   0%|          | 0/1038 [00:00<?, ?it/s]"
      ]
     },
     "metadata": {},
     "output_type": "display_data"
    },
    {
     "name": "stdout",
     "output_type": "stream",
     "text": [
      "\n",
      "--- Epoch 59/100 Summary ---\n",
      "  Train Loss: 0.3315 | Val Loss: 0.3563\n",
      "  Accuracy: 0.9199 | Precision: 0.9199 | Recall: 0.9199 | F1: 0.9199\n",
      "  Learning Rate: 0.000376\n",
      "  => 🎉 New best model saved to 'F:/Working Sync/LAB projects/InsectSELD/Dataset/checkpoints_small\\best_model.pth' (F1: 0.9199)\n",
      "\n"
     ]
    },
    {
     "data": {
      "application/vnd.jupyter.widget-view+json": {
       "model_id": "bb4ad31730c9421aaa2a075a7096fcec",
       "version_major": 2,
       "version_minor": 0
      },
      "text/plain": [
       "Epoch 60/100 [Training]:   0%|          | 0/4150 [00:00<?, ?it/s]"
      ]
     },
     "metadata": {},
     "output_type": "display_data"
    },
    {
     "data": {
      "application/vnd.jupyter.widget-view+json": {
       "model_id": "ebee39dc0b6b48a8b18249a6ca579d36",
       "version_major": 2,
       "version_minor": 0
      },
      "text/plain": [
       "Epoch 60/100 [Validation]:   0%|          | 0/1038 [00:00<?, ?it/s]"
      ]
     },
     "metadata": {},
     "output_type": "display_data"
    },
    {
     "name": "stdout",
     "output_type": "stream",
     "text": [
      "\n",
      "--- Epoch 60/100 Summary ---\n",
      "  Train Loss: 0.3309 | Val Loss: 0.3445\n",
      "  Accuracy: 0.9188 | Precision: 0.9188 | Recall: 0.9188 | F1: 0.9188\n",
      "  Learning Rate: 0.000361\n"
     ]
    },
    {
     "data": {
      "application/vnd.jupyter.widget-view+json": {
       "model_id": "92317b07e7e14785bf064b5d02c613e1",
       "version_major": 2,
       "version_minor": 0
      },
      "text/plain": [
       "Epoch 61/100 [Training]:   0%|          | 0/4150 [00:00<?, ?it/s]"
      ]
     },
     "metadata": {},
     "output_type": "display_data"
    },
    {
     "data": {
      "application/vnd.jupyter.widget-view+json": {
       "model_id": "609a246dd06247f0be953d693cc16cd9",
       "version_major": 2,
       "version_minor": 0
      },
      "text/plain": [
       "Epoch 61/100 [Validation]:   0%|          | 0/1038 [00:00<?, ?it/s]"
      ]
     },
     "metadata": {},
     "output_type": "display_data"
    },
    {
     "name": "stdout",
     "output_type": "stream",
     "text": [
      "\n",
      "--- Epoch 61/100 Summary ---\n",
      "  Train Loss: 0.3304 | Val Loss: 0.3644\n",
      "  Accuracy: 0.9156 | Precision: 0.9156 | Recall: 0.9156 | F1: 0.9156\n",
      "  Learning Rate: 0.000345\n"
     ]
    },
    {
     "data": {
      "application/vnd.jupyter.widget-view+json": {
       "model_id": "29df062eecf54db09dcaca2ae9a0a952",
       "version_major": 2,
       "version_minor": 0
      },
      "text/plain": [
       "Epoch 62/100 [Training]:   0%|          | 0/4150 [00:00<?, ?it/s]"
      ]
     },
     "metadata": {},
     "output_type": "display_data"
    },
    {
     "data": {
      "application/vnd.jupyter.widget-view+json": {
       "model_id": "3f530d27c9f843d8a6adbf131dbbafad",
       "version_major": 2,
       "version_minor": 0
      },
      "text/plain": [
       "Epoch 62/100 [Validation]:   0%|          | 0/1038 [00:00<?, ?it/s]"
      ]
     },
     "metadata": {},
     "output_type": "display_data"
    },
    {
     "name": "stdout",
     "output_type": "stream",
     "text": [
      "\n",
      "--- Epoch 62/100 Summary ---\n",
      "  Train Loss: 0.3091 | Val Loss: 0.3626\n",
      "  Accuracy: 0.9183 | Precision: 0.9183 | Recall: 0.9183 | F1: 0.9183\n",
      "  Learning Rate: 0.000331\n"
     ]
    },
    {
     "data": {
      "application/vnd.jupyter.widget-view+json": {
       "model_id": "b55296b6018b46f4991c465a508e151d",
       "version_major": 2,
       "version_minor": 0
      },
      "text/plain": [
       "Epoch 63/100 [Training]:   0%|          | 0/4150 [00:00<?, ?it/s]"
      ]
     },
     "metadata": {},
     "output_type": "display_data"
    },
    {
     "data": {
      "application/vnd.jupyter.widget-view+json": {
       "model_id": "3d028a3a3bdb4324bb8b89335b876064",
       "version_major": 2,
       "version_minor": 0
      },
      "text/plain": [
       "Epoch 63/100 [Validation]:   0%|          | 0/1038 [00:00<?, ?it/s]"
      ]
     },
     "metadata": {},
     "output_type": "display_data"
    },
    {
     "name": "stdout",
     "output_type": "stream",
     "text": [
      "\n",
      "--- Epoch 63/100 Summary ---\n",
      "  Train Loss: 0.3250 | Val Loss: 0.3511\n",
      "  Accuracy: 0.9141 | Precision: 0.9141 | Recall: 0.9141 | F1: 0.9141\n",
      "  Learning Rate: 0.000316\n"
     ]
    },
    {
     "data": {
      "application/vnd.jupyter.widget-view+json": {
       "model_id": "270895b7fbc74dc6aed48f4becb31c7e",
       "version_major": 2,
       "version_minor": 0
      },
      "text/plain": [
       "Epoch 64/100 [Training]:   0%|          | 0/4150 [00:00<?, ?it/s]"
      ]
     },
     "metadata": {},
     "output_type": "display_data"
    },
    {
     "data": {
      "application/vnd.jupyter.widget-view+json": {
       "model_id": "303bec23433d4ea6b27a5ae7ef4bca9e",
       "version_major": 2,
       "version_minor": 0
      },
      "text/plain": [
       "Epoch 64/100 [Validation]:   0%|          | 0/1038 [00:00<?, ?it/s]"
      ]
     },
     "metadata": {},
     "output_type": "display_data"
    },
    {
     "name": "stdout",
     "output_type": "stream",
     "text": [
      "\n",
      "--- Epoch 64/100 Summary ---\n",
      "  Train Loss: 0.3173 | Val Loss: 0.3719\n",
      "  Accuracy: 0.9164 | Precision: 0.9164 | Recall: 0.9164 | F1: 0.9164\n",
      "  Learning Rate: 0.000301\n"
     ]
    },
    {
     "data": {
      "application/vnd.jupyter.widget-view+json": {
       "model_id": "4d9316e268824a65b263ee333012bdff",
       "version_major": 2,
       "version_minor": 0
      },
      "text/plain": [
       "Epoch 65/100 [Training]:   0%|          | 0/4150 [00:00<?, ?it/s]"
      ]
     },
     "metadata": {},
     "output_type": "display_data"
    },
    {
     "data": {
      "application/vnd.jupyter.widget-view+json": {
       "model_id": "6a810da5ae154e0ab017a53702ae175e",
       "version_major": 2,
       "version_minor": 0
      },
      "text/plain": [
       "Epoch 65/100 [Validation]:   0%|          | 0/1038 [00:00<?, ?it/s]"
      ]
     },
     "metadata": {},
     "output_type": "display_data"
    },
    {
     "name": "stdout",
     "output_type": "stream",
     "text": [
      "\n",
      "--- Epoch 65/100 Summary ---\n",
      "  Train Loss: 0.3229 | Val Loss: 0.3853\n",
      "  Accuracy: 0.9188 | Precision: 0.9188 | Recall: 0.9188 | F1: 0.9188\n",
      "  Learning Rate: 0.000287\n"
     ]
    },
    {
     "data": {
      "application/vnd.jupyter.widget-view+json": {
       "model_id": "57d30af50eec440289f09035786f32be",
       "version_major": 2,
       "version_minor": 0
      },
      "text/plain": [
       "Epoch 66/100 [Training]:   0%|          | 0/4150 [00:00<?, ?it/s]"
      ]
     },
     "metadata": {},
     "output_type": "display_data"
    },
    {
     "data": {
      "application/vnd.jupyter.widget-view+json": {
       "model_id": "d85435d58a154472b5f384fa4b451ecc",
       "version_major": 2,
       "version_minor": 0
      },
      "text/plain": [
       "Epoch 66/100 [Validation]:   0%|          | 0/1038 [00:00<?, ?it/s]"
      ]
     },
     "metadata": {},
     "output_type": "display_data"
    },
    {
     "name": "stdout",
     "output_type": "stream",
     "text": [
      "\n",
      "--- Epoch 66/100 Summary ---\n",
      "  Train Loss: 0.3146 | Val Loss: 0.3532\n",
      "  Accuracy: 0.9230 | Precision: 0.9230 | Recall: 0.9230 | F1: 0.9230\n",
      "  Learning Rate: 0.000273\n",
      "  => 🎉 New best model saved to 'F:/Working Sync/LAB projects/InsectSELD/Dataset/checkpoints_small\\best_model.pth' (F1: 0.9230)\n",
      "\n"
     ]
    },
    {
     "data": {
      "application/vnd.jupyter.widget-view+json": {
       "model_id": "2bf19cfd369b4670bba9073ebaadaf71",
       "version_major": 2,
       "version_minor": 0
      },
      "text/plain": [
       "Epoch 67/100 [Training]:   0%|          | 0/4150 [00:00<?, ?it/s]"
      ]
     },
     "metadata": {},
     "output_type": "display_data"
    },
    {
     "data": {
      "application/vnd.jupyter.widget-view+json": {
       "model_id": "9b9c428d93214caeba47c5d8c78700dc",
       "version_major": 2,
       "version_minor": 0
      },
      "text/plain": [
       "Epoch 67/100 [Validation]:   0%|          | 0/1038 [00:00<?, ?it/s]"
      ]
     },
     "metadata": {},
     "output_type": "display_data"
    },
    {
     "name": "stdout",
     "output_type": "stream",
     "text": [
      "\n",
      "--- Epoch 67/100 Summary ---\n",
      "  Train Loss: 0.3173 | Val Loss: 0.3677\n",
      "  Accuracy: 0.9197 | Precision: 0.9197 | Recall: 0.9197 | F1: 0.9197\n",
      "  Learning Rate: 0.000259\n"
     ]
    },
    {
     "data": {
      "application/vnd.jupyter.widget-view+json": {
       "model_id": "ac04899fb2b34fec87e91fa72dbb350c",
       "version_major": 2,
       "version_minor": 0
      },
      "text/plain": [
       "Epoch 68/100 [Training]:   0%|          | 0/4150 [00:00<?, ?it/s]"
      ]
     },
     "metadata": {},
     "output_type": "display_data"
    },
    {
     "data": {
      "application/vnd.jupyter.widget-view+json": {
       "model_id": "6fd878924f974d9a867e5046e06529f8",
       "version_major": 2,
       "version_minor": 0
      },
      "text/plain": [
       "Epoch 68/100 [Validation]:   0%|          | 0/1038 [00:00<?, ?it/s]"
      ]
     },
     "metadata": {},
     "output_type": "display_data"
    },
    {
     "name": "stdout",
     "output_type": "stream",
     "text": [
      "\n",
      "--- Epoch 68/100 Summary ---\n",
      "  Train Loss: 0.3185 | Val Loss: 0.3675\n",
      "  Accuracy: 0.9163 | Precision: 0.9163 | Recall: 0.9163 | F1: 0.9163\n",
      "  Learning Rate: 0.000245\n"
     ]
    },
    {
     "data": {
      "application/vnd.jupyter.widget-view+json": {
       "model_id": "76decac82ca244c582c1450d9d7de6f2",
       "version_major": 2,
       "version_minor": 0
      },
      "text/plain": [
       "Epoch 69/100 [Training]:   0%|          | 0/4150 [00:00<?, ?it/s]"
      ]
     },
     "metadata": {},
     "output_type": "display_data"
    },
    {
     "data": {
      "application/vnd.jupyter.widget-view+json": {
       "model_id": "cd25841c7d0849d2a6e89371d0a45a41",
       "version_major": 2,
       "version_minor": 0
      },
      "text/plain": [
       "Epoch 69/100 [Validation]:   0%|          | 0/1038 [00:00<?, ?it/s]"
      ]
     },
     "metadata": {},
     "output_type": "display_data"
    },
    {
     "name": "stdout",
     "output_type": "stream",
     "text": [
      "\n",
      "--- Epoch 69/100 Summary ---\n",
      "  Train Loss: 0.3066 | Val Loss: 0.3574\n",
      "  Accuracy: 0.9212 | Precision: 0.9212 | Recall: 0.9212 | F1: 0.9212\n",
      "  Learning Rate: 0.000232\n"
     ]
    },
    {
     "data": {
      "application/vnd.jupyter.widget-view+json": {
       "model_id": "70c7c668af634608ab01af30b74b3154",
       "version_major": 2,
       "version_minor": 0
      },
      "text/plain": [
       "Epoch 70/100 [Training]:   0%|          | 0/4150 [00:00<?, ?it/s]"
      ]
     },
     "metadata": {},
     "output_type": "display_data"
    },
    {
     "data": {
      "application/vnd.jupyter.widget-view+json": {
       "model_id": "5013f3493cda4e8a92f40fc6d5b7954a",
       "version_major": 2,
       "version_minor": 0
      },
      "text/plain": [
       "Epoch 70/100 [Validation]:   0%|          | 0/1038 [00:00<?, ?it/s]"
      ]
     },
     "metadata": {},
     "output_type": "display_data"
    },
    {
     "name": "stdout",
     "output_type": "stream",
     "text": [
      "\n",
      "--- Epoch 70/100 Summary ---\n",
      "  Train Loss: 0.3071 | Val Loss: 0.3471\n",
      "  Accuracy: 0.9204 | Precision: 0.9204 | Recall: 0.9204 | F1: 0.9204\n",
      "  Learning Rate: 0.000219\n"
     ]
    },
    {
     "data": {
      "application/vnd.jupyter.widget-view+json": {
       "model_id": "32f6ee9237cf4115a23d10f154796e0b",
       "version_major": 2,
       "version_minor": 0
      },
      "text/plain": [
       "Epoch 71/100 [Training]:   0%|          | 0/4150 [00:00<?, ?it/s]"
      ]
     },
     "metadata": {},
     "output_type": "display_data"
    },
    {
     "data": {
      "application/vnd.jupyter.widget-view+json": {
       "model_id": "1a0f91817f094ab7846a0de034c0900f",
       "version_major": 2,
       "version_minor": 0
      },
      "text/plain": [
       "Epoch 71/100 [Validation]:   0%|          | 0/1038 [00:00<?, ?it/s]"
      ]
     },
     "metadata": {},
     "output_type": "display_data"
    },
    {
     "name": "stdout",
     "output_type": "stream",
     "text": [
      "\n",
      "--- Epoch 71/100 Summary ---\n",
      "  Train Loss: 0.3053 | Val Loss: 0.3617\n",
      "  Accuracy: 0.9225 | Precision: 0.9225 | Recall: 0.9225 | F1: 0.9225\n",
      "  Learning Rate: 0.000206\n"
     ]
    },
    {
     "data": {
      "application/vnd.jupyter.widget-view+json": {
       "model_id": "6ba0dd5d6992437ea1e97298d21bf874",
       "version_major": 2,
       "version_minor": 0
      },
      "text/plain": [
       "Epoch 72/100 [Training]:   0%|          | 0/4150 [00:00<?, ?it/s]"
      ]
     },
     "metadata": {},
     "output_type": "display_data"
    },
    {
     "data": {
      "application/vnd.jupyter.widget-view+json": {
       "model_id": "060a3f6c583944ef9e594e8bb2f37275",
       "version_major": 2,
       "version_minor": 0
      },
      "text/plain": [
       "Epoch 72/100 [Validation]:   0%|          | 0/1038 [00:00<?, ?it/s]"
      ]
     },
     "metadata": {},
     "output_type": "display_data"
    },
    {
     "name": "stdout",
     "output_type": "stream",
     "text": [
      "\n",
      "--- Epoch 72/100 Summary ---\n",
      "  Train Loss: 0.3098 | Val Loss: 0.3954\n",
      "  Accuracy: 0.9197 | Precision: 0.9197 | Recall: 0.9197 | F1: 0.9197\n",
      "  Learning Rate: 0.000194\n"
     ]
    },
    {
     "data": {
      "application/vnd.jupyter.widget-view+json": {
       "model_id": "6e7654afbcde4b6dbc454ab5f80123a5",
       "version_major": 2,
       "version_minor": 0
      },
      "text/plain": [
       "Epoch 73/100 [Training]:   0%|          | 0/4150 [00:00<?, ?it/s]"
      ]
     },
     "metadata": {},
     "output_type": "display_data"
    },
    {
     "data": {
      "application/vnd.jupyter.widget-view+json": {
       "model_id": "1dc185a93cc34b9399655bb6d58f612a",
       "version_major": 2,
       "version_minor": 0
      },
      "text/plain": [
       "Epoch 73/100 [Validation]:   0%|          | 0/1038 [00:00<?, ?it/s]"
      ]
     },
     "metadata": {},
     "output_type": "display_data"
    },
    {
     "name": "stdout",
     "output_type": "stream",
     "text": [
      "\n",
      "--- Epoch 73/100 Summary ---\n",
      "  Train Loss: 0.3132 | Val Loss: 0.3536\n",
      "  Accuracy: 0.9226 | Precision: 0.9226 | Recall: 0.9226 | F1: 0.9226\n",
      "  Learning Rate: 0.000181\n"
     ]
    },
    {
     "data": {
      "application/vnd.jupyter.widget-view+json": {
       "model_id": "f7e66e856c5b4b0a898047b0085db9b3",
       "version_major": 2,
       "version_minor": 0
      },
      "text/plain": [
       "Epoch 74/100 [Training]:   0%|          | 0/4150 [00:00<?, ?it/s]"
      ]
     },
     "metadata": {},
     "output_type": "display_data"
    },
    {
     "data": {
      "application/vnd.jupyter.widget-view+json": {
       "model_id": "87a52b465f3c41fe8c2723bdaeaeb485",
       "version_major": 2,
       "version_minor": 0
      },
      "text/plain": [
       "Epoch 74/100 [Validation]:   0%|          | 0/1038 [00:00<?, ?it/s]"
      ]
     },
     "metadata": {},
     "output_type": "display_data"
    },
    {
     "name": "stdout",
     "output_type": "stream",
     "text": [
      "\n",
      "--- Epoch 74/100 Summary ---\n",
      "  Train Loss: 0.3006 | Val Loss: 0.3602\n",
      "  Accuracy: 0.9220 | Precision: 0.9220 | Recall: 0.9220 | F1: 0.9220\n",
      "  Learning Rate: 0.000169\n"
     ]
    },
    {
     "data": {
      "application/vnd.jupyter.widget-view+json": {
       "model_id": "7830a6de5b6f4a9eaa4ed0fe52dc7d3b",
       "version_major": 2,
       "version_minor": 0
      },
      "text/plain": [
       "Epoch 75/100 [Training]:   0%|          | 0/4150 [00:00<?, ?it/s]"
      ]
     },
     "metadata": {},
     "output_type": "display_data"
    },
    {
     "data": {
      "application/vnd.jupyter.widget-view+json": {
       "model_id": "c0161ea3a42a4995ba4b8af46ce0f3a8",
       "version_major": 2,
       "version_minor": 0
      },
      "text/plain": [
       "Epoch 75/100 [Validation]:   0%|          | 0/1038 [00:00<?, ?it/s]"
      ]
     },
     "metadata": {},
     "output_type": "display_data"
    },
    {
     "name": "stdout",
     "output_type": "stream",
     "text": [
      "\n",
      "--- Epoch 75/100 Summary ---\n",
      "  Train Loss: 0.3073 | Val Loss: 0.3784\n",
      "  Accuracy: 0.9220 | Precision: 0.9220 | Recall: 0.9220 | F1: 0.9220\n",
      "  Learning Rate: 0.000158\n"
     ]
    },
    {
     "data": {
      "application/vnd.jupyter.widget-view+json": {
       "model_id": "71ecfc580db449ad81e132c6955d134f",
       "version_major": 2,
       "version_minor": 0
      },
      "text/plain": [
       "Epoch 76/100 [Training]:   0%|          | 0/4150 [00:00<?, ?it/s]"
      ]
     },
     "metadata": {},
     "output_type": "display_data"
    },
    {
     "data": {
      "application/vnd.jupyter.widget-view+json": {
       "model_id": "239837ef464d44fe815fc3d9cb18dc1d",
       "version_major": 2,
       "version_minor": 0
      },
      "text/plain": [
       "Epoch 76/100 [Validation]:   0%|          | 0/1038 [00:00<?, ?it/s]"
      ]
     },
     "metadata": {},
     "output_type": "display_data"
    },
    {
     "name": "stdout",
     "output_type": "stream",
     "text": [
      "\n",
      "--- Epoch 76/100 Summary ---\n",
      "  Train Loss: 0.2978 | Val Loss: 0.4150\n",
      "  Accuracy: 0.9183 | Precision: 0.9183 | Recall: 0.9183 | F1: 0.9183\n",
      "  Learning Rate: 0.000146\n"
     ]
    },
    {
     "data": {
      "application/vnd.jupyter.widget-view+json": {
       "model_id": "513559efe02d4546abdc0474f26a9929",
       "version_major": 2,
       "version_minor": 0
      },
      "text/plain": [
       "Epoch 77/100 [Training]:   0%|          | 0/4150 [00:00<?, ?it/s]"
      ]
     },
     "metadata": {},
     "output_type": "display_data"
    },
    {
     "data": {
      "application/vnd.jupyter.widget-view+json": {
       "model_id": "b7e7c92fff56424e910534df5f0ab19c",
       "version_major": 2,
       "version_minor": 0
      },
      "text/plain": [
       "Epoch 77/100 [Validation]:   0%|          | 0/1038 [00:00<?, ?it/s]"
      ]
     },
     "metadata": {},
     "output_type": "display_data"
    },
    {
     "name": "stdout",
     "output_type": "stream",
     "text": [
      "\n",
      "--- Epoch 77/100 Summary ---\n",
      "  Train Loss: 0.3085 | Val Loss: 0.3418\n",
      "  Accuracy: 0.9205 | Precision: 0.9205 | Recall: 0.9205 | F1: 0.9205\n",
      "  Learning Rate: 0.000136\n"
     ]
    },
    {
     "data": {
      "application/vnd.jupyter.widget-view+json": {
       "model_id": "b5307f6700d2411b86d79751d9f3b549",
       "version_major": 2,
       "version_minor": 0
      },
      "text/plain": [
       "Epoch 78/100 [Training]:   0%|          | 0/4150 [00:00<?, ?it/s]"
      ]
     },
     "metadata": {},
     "output_type": "display_data"
    },
    {
     "data": {
      "application/vnd.jupyter.widget-view+json": {
       "model_id": "a99c3709d41747e6813cb6f6570941a9",
       "version_major": 2,
       "version_minor": 0
      },
      "text/plain": [
       "Epoch 78/100 [Validation]:   0%|          | 0/1038 [00:00<?, ?it/s]"
      ]
     },
     "metadata": {},
     "output_type": "display_data"
    },
    {
     "name": "stdout",
     "output_type": "stream",
     "text": [
      "\n",
      "--- Epoch 78/100 Summary ---\n",
      "  Train Loss: 0.3077 | Val Loss: 0.3834\n",
      "  Accuracy: 0.9222 | Precision: 0.9222 | Recall: 0.9222 | F1: 0.9222\n",
      "  Learning Rate: 0.000125\n"
     ]
    },
    {
     "data": {
      "application/vnd.jupyter.widget-view+json": {
       "model_id": "1822e6ce668e47c2945c6bd515316a87",
       "version_major": 2,
       "version_minor": 0
      },
      "text/plain": [
       "Epoch 79/100 [Training]:   0%|          | 0/4150 [00:00<?, ?it/s]"
      ]
     },
     "metadata": {},
     "output_type": "display_data"
    },
    {
     "data": {
      "application/vnd.jupyter.widget-view+json": {
       "model_id": "433ee811e1464a26ab986362c8d451b7",
       "version_major": 2,
       "version_minor": 0
      },
      "text/plain": [
       "Epoch 79/100 [Validation]:   0%|          | 0/1038 [00:00<?, ?it/s]"
      ]
     },
     "metadata": {},
     "output_type": "display_data"
    },
    {
     "name": "stdout",
     "output_type": "stream",
     "text": [
      "\n",
      "--- Epoch 79/100 Summary ---\n",
      "  Train Loss: 0.3129 | Val Loss: 0.3594\n",
      "  Accuracy: 0.9216 | Precision: 0.9216 | Recall: 0.9216 | F1: 0.9216\n",
      "  Learning Rate: 0.000115\n"
     ]
    },
    {
     "data": {
      "application/vnd.jupyter.widget-view+json": {
       "model_id": "43a3c773d6374a7e8b299f4a1e90b514",
       "version_major": 2,
       "version_minor": 0
      },
      "text/plain": [
       "Epoch 80/100 [Training]:   0%|          | 0/4150 [00:00<?, ?it/s]"
      ]
     },
     "metadata": {},
     "output_type": "display_data"
    },
    {
     "data": {
      "application/vnd.jupyter.widget-view+json": {
       "model_id": "f9c7e1634b3d436dbedfaf02282e1817",
       "version_major": 2,
       "version_minor": 0
      },
      "text/plain": [
       "Epoch 80/100 [Validation]:   0%|          | 0/1038 [00:00<?, ?it/s]"
      ]
     },
     "metadata": {},
     "output_type": "display_data"
    },
    {
     "name": "stdout",
     "output_type": "stream",
     "text": [
      "\n",
      "--- Epoch 80/100 Summary ---\n",
      "  Train Loss: 0.2961 | Val Loss: 0.3764\n",
      "  Accuracy: 0.9173 | Precision: 0.9173 | Recall: 0.9173 | F1: 0.9173\n",
      "  Learning Rate: 0.000105\n"
     ]
    },
    {
     "data": {
      "application/vnd.jupyter.widget-view+json": {
       "model_id": "3a2b158c490349558d0502e8c2ed91f0",
       "version_major": 2,
       "version_minor": 0
      },
      "text/plain": [
       "Epoch 81/100 [Training]:   0%|          | 0/4150 [00:00<?, ?it/s]"
      ]
     },
     "metadata": {},
     "output_type": "display_data"
    },
    {
     "data": {
      "application/vnd.jupyter.widget-view+json": {
       "model_id": "f214e93df9db46168774e0ae50336664",
       "version_major": 2,
       "version_minor": 0
      },
      "text/plain": [
       "Epoch 81/100 [Validation]:   0%|          | 0/1038 [00:00<?, ?it/s]"
      ]
     },
     "metadata": {},
     "output_type": "display_data"
    },
    {
     "name": "stdout",
     "output_type": "stream",
     "text": [
      "\n",
      "--- Epoch 81/100 Summary ---\n",
      "  Train Loss: 0.3066 | Val Loss: 0.3637\n",
      "  Accuracy: 0.9232 | Precision: 0.9232 | Recall: 0.9232 | F1: 0.9232\n",
      "  Learning Rate: 0.000095\n",
      "  => 🎉 New best model saved to 'F:/Working Sync/LAB projects/InsectSELD/Dataset/checkpoints_small\\best_model.pth' (F1: 0.9232)\n",
      "\n"
     ]
    },
    {
     "data": {
      "application/vnd.jupyter.widget-view+json": {
       "model_id": "e4c3120346204755aa8cee474278ec44",
       "version_major": 2,
       "version_minor": 0
      },
      "text/plain": [
       "Epoch 82/100 [Training]:   0%|          | 0/4150 [00:00<?, ?it/s]"
      ]
     },
     "metadata": {},
     "output_type": "display_data"
    },
    {
     "data": {
      "application/vnd.jupyter.widget-view+json": {
       "model_id": "88b0a76a21c44822b3d892d9d394e356",
       "version_major": 2,
       "version_minor": 0
      },
      "text/plain": [
       "Epoch 82/100 [Validation]:   0%|          | 0/1038 [00:00<?, ?it/s]"
      ]
     },
     "metadata": {},
     "output_type": "display_data"
    },
    {
     "name": "stdout",
     "output_type": "stream",
     "text": [
      "\n",
      "--- Epoch 82/100 Summary ---\n",
      "  Train Loss: 0.2898 | Val Loss: 0.3702\n",
      "  Accuracy: 0.9229 | Precision: 0.9229 | Recall: 0.9229 | F1: 0.9229\n",
      "  Learning Rate: 0.000086\n"
     ]
    },
    {
     "data": {
      "application/vnd.jupyter.widget-view+json": {
       "model_id": "ec81b5804fde42b8854f89609e4f270f",
       "version_major": 2,
       "version_minor": 0
      },
      "text/plain": [
       "Epoch 83/100 [Training]:   0%|          | 0/4150 [00:00<?, ?it/s]"
      ]
     },
     "metadata": {},
     "output_type": "display_data"
    },
    {
     "data": {
      "application/vnd.jupyter.widget-view+json": {
       "model_id": "9499c3ecb4e8455c81938ba235e978ce",
       "version_major": 2,
       "version_minor": 0
      },
      "text/plain": [
       "Epoch 83/100 [Validation]:   0%|          | 0/1038 [00:00<?, ?it/s]"
      ]
     },
     "metadata": {},
     "output_type": "display_data"
    },
    {
     "name": "stdout",
     "output_type": "stream",
     "text": [
      "\n",
      "--- Epoch 83/100 Summary ---\n",
      "  Train Loss: 0.3054 | Val Loss: 0.4076\n",
      "  Accuracy: 0.9149 | Precision: 0.9149 | Recall: 0.9149 | F1: 0.9149\n",
      "  Learning Rate: 0.000078\n"
     ]
    },
    {
     "data": {
      "application/vnd.jupyter.widget-view+json": {
       "model_id": "36709c21b62c463692b41b335d6406d1",
       "version_major": 2,
       "version_minor": 0
      },
      "text/plain": [
       "Epoch 84/100 [Training]:   0%|          | 0/4150 [00:00<?, ?it/s]"
      ]
     },
     "metadata": {},
     "output_type": "display_data"
    },
    {
     "data": {
      "application/vnd.jupyter.widget-view+json": {
       "model_id": "21b326d26566439fa2e8df86081ccb02",
       "version_major": 2,
       "version_minor": 0
      },
      "text/plain": [
       "Epoch 84/100 [Validation]:   0%|          | 0/1038 [00:00<?, ?it/s]"
      ]
     },
     "metadata": {},
     "output_type": "display_data"
    },
    {
     "name": "stdout",
     "output_type": "stream",
     "text": [
      "\n",
      "--- Epoch 84/100 Summary ---\n",
      "  Train Loss: 0.3059 | Val Loss: 0.3663\n",
      "  Accuracy: 0.9232 | Precision: 0.9232 | Recall: 0.9232 | F1: 0.9232\n",
      "  Learning Rate: 0.000070\n"
     ]
    },
    {
     "data": {
      "application/vnd.jupyter.widget-view+json": {
       "model_id": "59bb777b966b48b39907d2ab862288e8",
       "version_major": 2,
       "version_minor": 0
      },
      "text/plain": [
       "Epoch 85/100 [Training]:   0%|          | 0/4150 [00:00<?, ?it/s]"
      ]
     },
     "metadata": {},
     "output_type": "display_data"
    },
    {
     "data": {
      "application/vnd.jupyter.widget-view+json": {
       "model_id": "5b8886350fbc481b8bea599eb1c1b1f5",
       "version_major": 2,
       "version_minor": 0
      },
      "text/plain": [
       "Epoch 85/100 [Validation]:   0%|          | 0/1038 [00:00<?, ?it/s]"
      ]
     },
     "metadata": {},
     "output_type": "display_data"
    },
    {
     "name": "stdout",
     "output_type": "stream",
     "text": [
      "\n",
      "--- Epoch 85/100 Summary ---\n",
      "  Train Loss: 0.3022 | Val Loss: 0.3679\n",
      "  Accuracy: 0.9213 | Precision: 0.9213 | Recall: 0.9213 | F1: 0.9213\n",
      "  Learning Rate: 0.000062\n"
     ]
    },
    {
     "data": {
      "application/vnd.jupyter.widget-view+json": {
       "model_id": "afa332d3f4e941108c0b3bf921aa72b2",
       "version_major": 2,
       "version_minor": 0
      },
      "text/plain": [
       "Epoch 86/100 [Training]:   0%|          | 0/4150 [00:00<?, ?it/s]"
      ]
     },
     "metadata": {},
     "output_type": "display_data"
    },
    {
     "data": {
      "application/vnd.jupyter.widget-view+json": {
       "model_id": "6fbcbf28e13747db9b11622d1846b049",
       "version_major": 2,
       "version_minor": 0
      },
      "text/plain": [
       "Epoch 86/100 [Validation]:   0%|          | 0/1038 [00:00<?, ?it/s]"
      ]
     },
     "metadata": {},
     "output_type": "display_data"
    },
    {
     "name": "stdout",
     "output_type": "stream",
     "text": [
      "\n",
      "--- Epoch 86/100 Summary ---\n",
      "  Train Loss: 0.3039 | Val Loss: 0.3821\n",
      "  Accuracy: 0.9213 | Precision: 0.9213 | Recall: 0.9213 | F1: 0.9213\n",
      "  Learning Rate: 0.000054\n"
     ]
    },
    {
     "data": {
      "application/vnd.jupyter.widget-view+json": {
       "model_id": "17af33b3fd6c4cb8ba6692ddbf0506b4",
       "version_major": 2,
       "version_minor": 0
      },
      "text/plain": [
       "Epoch 87/100 [Training]:   0%|          | 0/4150 [00:00<?, ?it/s]"
      ]
     },
     "metadata": {},
     "output_type": "display_data"
    },
    {
     "data": {
      "application/vnd.jupyter.widget-view+json": {
       "model_id": "5358f219033343a8b850bc8fd5d9db67",
       "version_major": 2,
       "version_minor": 0
      },
      "text/plain": [
       "Epoch 87/100 [Validation]:   0%|          | 0/1038 [00:00<?, ?it/s]"
      ]
     },
     "metadata": {},
     "output_type": "display_data"
    },
    {
     "name": "stdout",
     "output_type": "stream",
     "text": [
      "\n",
      "--- Epoch 87/100 Summary ---\n",
      "  Train Loss: 0.3049 | Val Loss: 0.3717\n",
      "  Accuracy: 0.9237 | Precision: 0.9237 | Recall: 0.9237 | F1: 0.9237\n",
      "  Learning Rate: 0.000048\n",
      "  => 🎉 New best model saved to 'F:/Working Sync/LAB projects/InsectSELD/Dataset/checkpoints_small\\best_model.pth' (F1: 0.9237)\n",
      "\n"
     ]
    },
    {
     "data": {
      "application/vnd.jupyter.widget-view+json": {
       "model_id": "5e23eb7676d643e4ac20db6dca43f30a",
       "version_major": 2,
       "version_minor": 0
      },
      "text/plain": [
       "Epoch 88/100 [Training]:   0%|          | 0/4150 [00:00<?, ?it/s]"
      ]
     },
     "metadata": {},
     "output_type": "display_data"
    },
    {
     "data": {
      "application/vnd.jupyter.widget-view+json": {
       "model_id": "990e1c3b4cc64dc99838072a10647a9a",
       "version_major": 2,
       "version_minor": 0
      },
      "text/plain": [
       "Epoch 88/100 [Validation]:   0%|          | 0/1038 [00:00<?, ?it/s]"
      ]
     },
     "metadata": {},
     "output_type": "display_data"
    },
    {
     "name": "stdout",
     "output_type": "stream",
     "text": [
      "\n",
      "--- Epoch 88/100 Summary ---\n",
      "  Train Loss: 0.2911 | Val Loss: 0.3738\n",
      "  Accuracy: 0.9245 | Precision: 0.9245 | Recall: 0.9245 | F1: 0.9245\n",
      "  Learning Rate: 0.000041\n",
      "  => 🎉 New best model saved to 'F:/Working Sync/LAB projects/InsectSELD/Dataset/checkpoints_small\\best_model.pth' (F1: 0.9245)\n",
      "\n"
     ]
    },
    {
     "data": {
      "application/vnd.jupyter.widget-view+json": {
       "model_id": "22cd4df2c6c743d2bc3f8382158473e9",
       "version_major": 2,
       "version_minor": 0
      },
      "text/plain": [
       "Epoch 89/100 [Training]:   0%|          | 0/4150 [00:00<?, ?it/s]"
      ]
     },
     "metadata": {},
     "output_type": "display_data"
    },
    {
     "data": {
      "application/vnd.jupyter.widget-view+json": {
       "model_id": "dcde51c3ac164451b94272a3d789475f",
       "version_major": 2,
       "version_minor": 0
      },
      "text/plain": [
       "Epoch 89/100 [Validation]:   0%|          | 0/1038 [00:00<?, ?it/s]"
      ]
     },
     "metadata": {},
     "output_type": "display_data"
    },
    {
     "name": "stdout",
     "output_type": "stream",
     "text": [
      "\n",
      "--- Epoch 89/100 Summary ---\n",
      "  Train Loss: 0.2885 | Val Loss: 0.3612\n",
      "  Accuracy: 0.9246 | Precision: 0.9246 | Recall: 0.9246 | F1: 0.9246\n",
      "  Learning Rate: 0.000035\n",
      "  => 🎉 New best model saved to 'F:/Working Sync/LAB projects/InsectSELD/Dataset/checkpoints_small\\best_model.pth' (F1: 0.9246)\n",
      "\n"
     ]
    },
    {
     "data": {
      "application/vnd.jupyter.widget-view+json": {
       "model_id": "3bb9bb3ad3384c22a3b601ff7627cab1",
       "version_major": 2,
       "version_minor": 0
      },
      "text/plain": [
       "Epoch 90/100 [Training]:   0%|          | 0/4150 [00:00<?, ?it/s]"
      ]
     },
     "metadata": {},
     "output_type": "display_data"
    },
    {
     "data": {
      "application/vnd.jupyter.widget-view+json": {
       "model_id": "05944e8ef74e410fbf93614254df643a",
       "version_major": 2,
       "version_minor": 0
      },
      "text/plain": [
       "Epoch 90/100 [Validation]:   0%|          | 0/1038 [00:00<?, ?it/s]"
      ]
     },
     "metadata": {},
     "output_type": "display_data"
    },
    {
     "name": "stdout",
     "output_type": "stream",
     "text": [
      "\n",
      "--- Epoch 90/100 Summary ---\n",
      "  Train Loss: 0.2967 | Val Loss: 0.3783\n",
      "  Accuracy: 0.9235 | Precision: 0.9235 | Recall: 0.9235 | F1: 0.9235\n",
      "  Learning Rate: 0.000030\n"
     ]
    },
    {
     "data": {
      "application/vnd.jupyter.widget-view+json": {
       "model_id": "fddaa5eb4dcc4ea6a8ef9fbb5846bdf6",
       "version_major": 2,
       "version_minor": 0
      },
      "text/plain": [
       "Epoch 91/100 [Training]:   0%|          | 0/4150 [00:00<?, ?it/s]"
      ]
     },
     "metadata": {},
     "output_type": "display_data"
    },
    {
     "data": {
      "application/vnd.jupyter.widget-view+json": {
       "model_id": "342407f50e85412c9d6259c4fac92323",
       "version_major": 2,
       "version_minor": 0
      },
      "text/plain": [
       "Epoch 91/100 [Validation]:   0%|          | 0/1038 [00:00<?, ?it/s]"
      ]
     },
     "metadata": {},
     "output_type": "display_data"
    },
    {
     "name": "stdout",
     "output_type": "stream",
     "text": [
      "\n",
      "--- Epoch 91/100 Summary ---\n",
      "  Train Loss: 0.3081 | Val Loss: 0.3654\n",
      "  Accuracy: 0.9233 | Precision: 0.9233 | Recall: 0.9233 | F1: 0.9233\n",
      "  Learning Rate: 0.000024\n"
     ]
    },
    {
     "data": {
      "application/vnd.jupyter.widget-view+json": {
       "model_id": "38e350996cb946f19cf893c4b32fc249",
       "version_major": 2,
       "version_minor": 0
      },
      "text/plain": [
       "Epoch 92/100 [Training]:   0%|          | 0/4150 [00:00<?, ?it/s]"
      ]
     },
     "metadata": {},
     "output_type": "display_data"
    },
    {
     "data": {
      "application/vnd.jupyter.widget-view+json": {
       "model_id": "6bebf700e07b438593eabae249c9f627",
       "version_major": 2,
       "version_minor": 0
      },
      "text/plain": [
       "Epoch 92/100 [Validation]:   0%|          | 0/1038 [00:00<?, ?it/s]"
      ]
     },
     "metadata": {},
     "output_type": "display_data"
    },
    {
     "name": "stdout",
     "output_type": "stream",
     "text": [
      "\n",
      "--- Epoch 92/100 Summary ---\n",
      "  Train Loss: 0.3056 | Val Loss: 0.3655\n",
      "  Accuracy: 0.9246 | Precision: 0.9246 | Recall: 0.9246 | F1: 0.9246\n",
      "  Learning Rate: 0.000020\n"
     ]
    },
    {
     "data": {
      "application/vnd.jupyter.widget-view+json": {
       "model_id": "d077cd127e0f423494556e3ac7af8b57",
       "version_major": 2,
       "version_minor": 0
      },
      "text/plain": [
       "Epoch 93/100 [Training]:   0%|          | 0/4150 [00:00<?, ?it/s]"
      ]
     },
     "metadata": {},
     "output_type": "display_data"
    },
    {
     "data": {
      "application/vnd.jupyter.widget-view+json": {
       "model_id": "f9c85664d8064f0ba7c2caf969d3874e",
       "version_major": 2,
       "version_minor": 0
      },
      "text/plain": [
       "Epoch 93/100 [Validation]:   0%|          | 0/1038 [00:00<?, ?it/s]"
      ]
     },
     "metadata": {},
     "output_type": "display_data"
    },
    {
     "name": "stdout",
     "output_type": "stream",
     "text": [
      "\n",
      "--- Epoch 93/100 Summary ---\n",
      "  Train Loss: 0.2980 | Val Loss: 0.3713\n",
      "  Accuracy: 0.9257 | Precision: 0.9257 | Recall: 0.9257 | F1: 0.9257\n",
      "  Learning Rate: 0.000016\n",
      "  => 🎉 New best model saved to 'F:/Working Sync/LAB projects/InsectSELD/Dataset/checkpoints_small\\best_model.pth' (F1: 0.9257)\n",
      "\n"
     ]
    },
    {
     "data": {
      "application/vnd.jupyter.widget-view+json": {
       "model_id": "3731cae4a855427d98d966a6d583e706",
       "version_major": 2,
       "version_minor": 0
      },
      "text/plain": [
       "Epoch 94/100 [Training]:   0%|          | 0/4150 [00:00<?, ?it/s]"
      ]
     },
     "metadata": {},
     "output_type": "display_data"
    },
    {
     "data": {
      "application/vnd.jupyter.widget-view+json": {
       "model_id": "34fb543d3c1e4b9ca2a5db6f7e93557a",
       "version_major": 2,
       "version_minor": 0
      },
      "text/plain": [
       "Epoch 94/100 [Validation]:   0%|          | 0/1038 [00:00<?, ?it/s]"
      ]
     },
     "metadata": {},
     "output_type": "display_data"
    },
    {
     "name": "stdout",
     "output_type": "stream",
     "text": [
      "\n",
      "--- Epoch 94/100 Summary ---\n",
      "  Train Loss: 0.3046 | Val Loss: 0.3677\n",
      "  Accuracy: 0.9225 | Precision: 0.9225 | Recall: 0.9225 | F1: 0.9225\n",
      "  Learning Rate: 0.000012\n"
     ]
    },
    {
     "data": {
      "application/vnd.jupyter.widget-view+json": {
       "model_id": "6f8fdf3839cd46e282e603a11a199fa0",
       "version_major": 2,
       "version_minor": 0
      },
      "text/plain": [
       "Epoch 95/100 [Training]:   0%|          | 0/4150 [00:00<?, ?it/s]"
      ]
     },
     "metadata": {},
     "output_type": "display_data"
    },
    {
     "data": {
      "application/vnd.jupyter.widget-view+json": {
       "model_id": "ec680e1062944cc38618dc1c9903828e",
       "version_major": 2,
       "version_minor": 0
      },
      "text/plain": [
       "Epoch 95/100 [Validation]:   0%|          | 0/1038 [00:00<?, ?it/s]"
      ]
     },
     "metadata": {},
     "output_type": "display_data"
    },
    {
     "name": "stdout",
     "output_type": "stream",
     "text": [
      "\n",
      "--- Epoch 95/100 Summary ---\n",
      "  Train Loss: 0.2898 | Val Loss: 0.3606\n",
      "  Accuracy: 0.9241 | Precision: 0.9241 | Recall: 0.9241 | F1: 0.9241\n",
      "  Learning Rate: 0.000009\n"
     ]
    },
    {
     "data": {
      "application/vnd.jupyter.widget-view+json": {
       "model_id": "ec8279234eb54113ac378dfe4af8ba4d",
       "version_major": 2,
       "version_minor": 0
      },
      "text/plain": [
       "Epoch 96/100 [Training]:   0%|          | 0/4150 [00:00<?, ?it/s]"
      ]
     },
     "metadata": {},
     "output_type": "display_data"
    },
    {
     "data": {
      "application/vnd.jupyter.widget-view+json": {
       "model_id": "c907e24db4914a1481ff08a18b174836",
       "version_major": 2,
       "version_minor": 0
      },
      "text/plain": [
       "Epoch 96/100 [Validation]:   0%|          | 0/1038 [00:00<?, ?it/s]"
      ]
     },
     "metadata": {},
     "output_type": "display_data"
    },
    {
     "name": "stdout",
     "output_type": "stream",
     "text": [
      "\n",
      "--- Epoch 96/100 Summary ---\n",
      "  Train Loss: 0.3065 | Val Loss: 0.3774\n",
      "  Accuracy: 0.9247 | Precision: 0.9247 | Recall: 0.9247 | F1: 0.9247\n",
      "  Learning Rate: 0.000006\n"
     ]
    },
    {
     "data": {
      "application/vnd.jupyter.widget-view+json": {
       "model_id": "4a99bc80bd624eb9b5122ecafe6c989f",
       "version_major": 2,
       "version_minor": 0
      },
      "text/plain": [
       "Epoch 97/100 [Training]:   0%|          | 0/4150 [00:00<?, ?it/s]"
      ]
     },
     "metadata": {},
     "output_type": "display_data"
    },
    {
     "data": {
      "application/vnd.jupyter.widget-view+json": {
       "model_id": "21c91103a9e2495bacf47204c4c6c830",
       "version_major": 2,
       "version_minor": 0
      },
      "text/plain": [
       "Epoch 97/100 [Validation]:   0%|          | 0/1038 [00:00<?, ?it/s]"
      ]
     },
     "metadata": {},
     "output_type": "display_data"
    },
    {
     "name": "stdout",
     "output_type": "stream",
     "text": [
      "\n",
      "--- Epoch 97/100 Summary ---\n",
      "  Train Loss: 0.3084 | Val Loss: 0.3647\n",
      "  Accuracy: 0.9211 | Precision: 0.9211 | Recall: 0.9211 | F1: 0.9211\n",
      "  Learning Rate: 0.000004\n"
     ]
    },
    {
     "data": {
      "application/vnd.jupyter.widget-view+json": {
       "model_id": "2468ac630bb24088941fc361c7459d5d",
       "version_major": 2,
       "version_minor": 0
      },
      "text/plain": [
       "Epoch 98/100 [Training]:   0%|          | 0/4150 [00:00<?, ?it/s]"
      ]
     },
     "metadata": {},
     "output_type": "display_data"
    },
    {
     "data": {
      "application/vnd.jupyter.widget-view+json": {
       "model_id": "0f0543be720046828693d299eca86fad",
       "version_major": 2,
       "version_minor": 0
      },
      "text/plain": [
       "Epoch 98/100 [Validation]:   0%|          | 0/1038 [00:00<?, ?it/s]"
      ]
     },
     "metadata": {},
     "output_type": "display_data"
    },
    {
     "name": "stdout",
     "output_type": "stream",
     "text": [
      "\n",
      "--- Epoch 98/100 Summary ---\n",
      "  Train Loss: 0.2876 | Val Loss: 0.3708\n",
      "  Accuracy: 0.9248 | Precision: 0.9248 | Recall: 0.9248 | F1: 0.9248\n",
      "  Learning Rate: 0.000002\n"
     ]
    },
    {
     "data": {
      "application/vnd.jupyter.widget-view+json": {
       "model_id": "c16659184dab443c970f9c26c05ce79b",
       "version_major": 2,
       "version_minor": 0
      },
      "text/plain": [
       "Epoch 99/100 [Training]:   0%|          | 0/4150 [00:00<?, ?it/s]"
      ]
     },
     "metadata": {},
     "output_type": "display_data"
    },
    {
     "data": {
      "application/vnd.jupyter.widget-view+json": {
       "model_id": "1bee08f503514a6ab946e788c652928b",
       "version_major": 2,
       "version_minor": 0
      },
      "text/plain": [
       "Epoch 99/100 [Validation]:   0%|          | 0/1038 [00:00<?, ?it/s]"
      ]
     },
     "metadata": {},
     "output_type": "display_data"
    },
    {
     "name": "stdout",
     "output_type": "stream",
     "text": [
      "\n",
      "--- Epoch 99/100 Summary ---\n",
      "  Train Loss: 0.3101 | Val Loss: 0.3721\n",
      "  Accuracy: 0.9221 | Precision: 0.9221 | Recall: 0.9221 | F1: 0.9221\n",
      "  Learning Rate: 0.000001\n"
     ]
    },
    {
     "data": {
      "application/vnd.jupyter.widget-view+json": {
       "model_id": "ce4e35bb43b549dba59bb92c8e02eef0",
       "version_major": 2,
       "version_minor": 0
      },
      "text/plain": [
       "Epoch 100/100 [Training]:   0%|          | 0/4150 [00:00<?, ?it/s]"
      ]
     },
     "metadata": {},
     "output_type": "display_data"
    },
    {
     "data": {
      "application/vnd.jupyter.widget-view+json": {
       "model_id": "09c166a4f79b4e7b8781677ed18bc669",
       "version_major": 2,
       "version_minor": 0
      },
      "text/plain": [
       "Epoch 100/100 [Validation]:   0%|          | 0/1038 [00:00<?, ?it/s]"
      ]
     },
     "metadata": {},
     "output_type": "display_data"
    },
    {
     "name": "stdout",
     "output_type": "stream",
     "text": [
      "\n",
      "--- Epoch 100/100 Summary ---\n",
      "  Train Loss: 0.2971 | Val Loss: 0.3705\n",
      "  Accuracy: 0.9245 | Precision: 0.9245 | Recall: 0.9245 | F1: 0.9245\n",
      "  Learning Rate: 0.000000\n",
      "\n",
      "✅ Hoàn tất huấn luyện!\n"
     ]
    }
   ],
   "source": [
    "for epoch in range(EPOCHS):\n",
    "    # ---- Train ----\n",
    "    model.train()\n",
    "    running_loss = 0.0\n",
    "    progress_bar = tqdm(train_loader, desc=f\"Epoch {epoch+1}/{EPOCHS} [Training]\")\n",
    "    \n",
    "    for inputs, labels in progress_bar:\n",
    "        if -1 in labels:\n",
    "            continue  \n",
    "        inputs, labels = inputs.to(device), labels.to(device)\n",
    "\n",
    "        # Mixup 50%\n",
    "        optimizer.zero_grad()\n",
    "        if torch.rand(1).item() < 0.5:\n",
    "            inputs, targets_a, targets_b, lam = mixup_data(inputs, labels, alpha=0.4)\n",
    "            outputs = model(inputs)\n",
    "            loss = mixup_criterion(criterion, outputs, targets_a, targets_b, lam)\n",
    "        else:\n",
    "            outputs = model(inputs)\n",
    "            loss = criterion(outputs, labels)\n",
    "\n",
    "        loss.backward()\n",
    "        optimizer.step()\n",
    "        running_loss += loss.item() * inputs.size(0)\n",
    "        progress_bar.set_postfix(loss=f\"{loss.item():.4f}\")\n",
    "\n",
    "    # ---- Validate ----\n",
    "    model.eval()\n",
    "    val_loss = 0.0\n",
    "    val_preds, val_labels = [], []\n",
    "    with torch.no_grad():\n",
    "        for inputs, labels in tqdm(val_loader, desc=f\"Epoch {epoch+1}/{EPOCHS} [Validation]\"):\n",
    "            if -1 in labels:\n",
    "                continue\n",
    "            inputs, labels = inputs.to(device), labels.to(device)\n",
    "            outputs = model(inputs)\n",
    "            loss = criterion(outputs, labels)\n",
    "            val_loss += loss.item() * inputs.size(0)\n",
    "\n",
    "            _, predicted = torch.max(outputs.data, 1)\n",
    "            val_preds.extend(predicted.cpu().numpy())\n",
    "            val_labels.extend(labels.cpu().numpy())\n",
    "\n",
    "    epoch_train_loss = running_loss / len(train_dataset)\n",
    "    epoch_val_loss   = val_loss / len(val_dataset)\n",
    "\n",
    "    # ==== METRICS (micro-average “bình thường”) ====\n",
    "    accuracy  = accuracy_score(val_labels, val_preds)\n",
    "    precision = precision_score(val_labels, val_preds, average='micro', zero_division=0)\n",
    "    recall    = recall_score(val_labels, val_preds, average='micro', zero_division=0)\n",
    "    f1        = f1_score(val_labels, val_preds, average='micro', zero_division=0)\n",
    "\n",
    "    current_lr = scheduler.get_last_lr()[0]\n",
    "    scheduler.step()\n",
    "\n",
    "    # ---- Print summary ----\n",
    "    print(f\"\\n--- Epoch {epoch+1}/{EPOCHS} Summary ---\")\n",
    "    print(f\"  Train Loss: {epoch_train_loss:.4f} | Val Loss: {epoch_val_loss:.4f}\")\n",
    "    print(f\"  Accuracy: {accuracy:.4f} | Precision: {precision:.4f} | Recall: {recall:.4f} | F1: {f1:.4f}\")\n",
    "    print(f\"  Learning Rate: {current_lr:.6f}\")\n",
    "\n",
    "    # ---- Log CSV ----\n",
    "    log_data = [epoch + 1, epoch_train_loss, epoch_val_loss, current_lr,\n",
    "                accuracy, precision, recall, f1]\n",
    "    with open(LOG_CSV_PATH, 'a', newline='', encoding='utf-8') as f:\n",
    "        csv.writer(f).writerow(log_data)\n",
    "\n",
    "    # ---- Save checkpoint ----\n",
    "    checkpoint_path = os.path.join(CHECKPOINT_DIR, f'checkpoint_epoch_{epoch+1}.pth')\n",
    "    torch.save({\n",
    "        'epoch': epoch + 1,\n",
    "        'model_state_dict': model.state_dict(),\n",
    "        'optimizer_state_dict': optimizer.state_dict(),\n",
    "    }, checkpoint_path)\n",
    "\n",
    "    # ---- Best model theo F1 (micro) ----\n",
    "    if f1 > best_val_f1:\n",
    "        best_val_f1 = f1\n",
    "        best_model_path = os.path.join(CHECKPOINT_DIR, 'best_model.pth')\n",
    "        torch.save(model.state_dict(), best_model_path)\n",
    "        print(f\"  => 🎉 New best model saved to '{best_model_path}' (F1: {best_val_f1:.4f})\\n\")\n",
    "\n",
    "print(\"\\n✅ Hoàn tất huấn luyện!\")"
   ]
  },
  {
   "cell_type": "code",
   "execution_count": 17,
   "id": "14308d2d-1055-4d95-8a25-7b3a75712b70",
   "metadata": {},
   "outputs": [
    {
     "data": {
      "image/png": "[encoded data removed]",
      "text/plain": [
       "<Figure size 1800x600 with 2 Axes>"
      ]
     },
     "metadata": {},
     "output_type": "display_data"
    }
   ],
   "source": [
    "log_df = pd.read_csv(LOG_CSV_PATH)\n",
    "\n",
    "fig, (ax1, ax2) = plt.subplots(1, 2, figsize=(18, 6))\n",
    "\n",
    "ax1.plot(log_df['epoch'], log_df['train_loss'], label='Train Loss', marker='o')\n",
    "ax1.plot(log_df['epoch'], log_df['val_loss'], label='Validation Loss', marker='o')\n",
    "ax1.set_title('Training & Validation Loss', fontsize=16)\n",
    "ax1.set_xlabel('Epoch', fontsize=12)\n",
    "ax1.set_ylabel('Loss', fontsize=12)\n",
    "ax1.legend()\n",
    "ax1.grid(True)\n",
    "\n",
    "ax2.plot(log_df['epoch'], log_df['accuracy'], label='Accuracy', marker='o')\n",
    "ax2.plot(log_df['epoch'], log_df['precision'], label='Precision', marker='o')\n",
    "ax2.plot(log_df['epoch'], log_df['recall'], label='Recall', marker='o')\n",
    "ax2.plot(log_df['epoch'], log_df['f1'], label='F1-score', marker='o')\n",
    "ax2.set_title('Validation Metrics', fontsize=16)\n",
    "ax2.set_xlabel('Epoch', fontsize=12)\n",
    "ax2.set_ylabel('Score', fontsize=12)\n",
    "ax2.legend()\n",
    "ax2.grid(True)\n",
    "\n",
    "plt.suptitle('Kết quả Huấn luyện PestLarvaNet-Tiny', fontsize=20)\n",
    "plt.show()"
   ]
  },
  {
   "cell_type": "code",
   "execution_count": 18,
   "id": "46bf939c-47a1-4a9b-9466-b1062c0da483",
   "metadata": {},
   "outputs": [
    {
     "name": "stdout",
     "output_type": "stream",
     "text": [
      "\n",
      "Tải trọng số model tốt nhất để vẽ Confusion Matrix.\n"
     ]
    },
    {
     "data": {
      "image/png": "[encoded data removed]",
      "text/plain": [
       "<Figure size 1200x1000 with 2 Axes>"
      ]
     },
     "metadata": {},
     "output_type": "display_data"
    }
   ],
   "source": [
    "best_model_path = os.path.join(CHECKPOINT_DIR, 'best_model.pth')\n",
    "if os.path.exists(best_model_path):\n",
    "    model.load_state_dict(torch.load(best_model_path, map_location=device))\n",
    "    print(\"\\nTải trọng số model tốt nhất để vẽ Confusion Matrix.\")\n",
    "    \n",
    "model.eval()\n",
    "all_preds, all_labels = [], []\n",
    "with torch.no_grad():\n",
    "    for inputs, labels in val_loader:\n",
    "        if -1 in labels: continue\n",
    "        inputs, labels = inputs.to(device), labels.to(device)\n",
    "        outputs = model(inputs)\n",
    "        _, predicted = torch.max(outputs.data, 1)\n",
    "        all_preds.extend(predicted.cpu().numpy())\n",
    "        all_labels.extend(labels.cpu().numpy())\n",
    "\n",
    "cm = confusion_matrix(all_labels, all_preds)\n",
    "plt.figure(figsize=(12, 10))\n",
    "sns.heatmap(cm, annot=True, fmt='d', cmap='Blues', \n",
    "            xticklabels=full_dataset.class_names, \n",
    "            yticklabels=full_dataset.class_names)\n",
    "plt.title('Confusion Matrix on Validation Set (Best Model)', fontsize=18)\n",
    "plt.xlabel('Predicted Label', fontsize=14)\n",
    "plt.ylabel('True Label', fontsize=14)\n",
    "plt.show()"
   ]
  },
  {
   "cell_type": "code",
   "execution_count": null,
   "id": "ab33d75e-2f8f-4e0a-b658-633805d4546b",
   "metadata": {},
   "outputs": [],
   "source": []
  }
 ],
 "metadata": {
  "kernelspec": {
   "display_name": "Python 3 (ipykernel)",
   "language": "python",
   "name": "python3"
  },
  "language_info": {
   "codemirror_mode": {
    "name": "ipython",
    "version": 3
   },
   "file_extension": ".py",
   "mimetype": "text/x-python",
   "name": "python",
   "nbconvert_exporter": "python",
   "pygments_lexer": "ipython3",
   "version": "3.10.16"
  }
 },
 "nbformat": 4,
 "nbformat_minor": 5
}
