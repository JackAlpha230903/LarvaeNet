{
 "cells": [
  {
   "cell_type": "code",
   "execution_count": 2,
   "id": "0d3e0393-aca8-43f5-b00f-6a5393e3e4e9",
   "metadata": {},
   "outputs": [],
   "source": [
    "import os\n",
    "import csv\n",
    "import pandas as pd\n",
    "import numpy as np\n",
    "import torch\n",
    "import torch.nn as nn\n",
    "import torch.nn.functional as F\n",
    "import torchaudio\n",
    "from torch.utils.data import Dataset, DataLoader, random_split\n",
    "from torchvision.transforms import v2 as T\n",
    "from tqdm.notebook import tqdm\n",
    "import matplotlib.pyplot as plt\n",
    "from sklearn.metrics import (accuracy_score, precision_score, recall_score, \n",
    "                             f1_score, confusion_matrix)\n",
    "import seaborn as sns\n",
    "from transformers import Wav2Vec2Model, logging as hf_logging\n",
    "\n",
    "hf_logging.set_verbosity_error()\n"
   ]
  },
  {
   "cell_type": "code",
   "execution_count": 3,
   "id": "259083cb-d01e-4988-8a5e-a3d339d8b2df",
   "metadata": {},
   "outputs": [
    {
     "name": "stdout",
     "output_type": "stream",
     "text": [
      "Sử dụng thiết bị: cuda\n"
     ]
    }
   ],
   "source": [
    "device = torch.device(\"cuda\" if torch.cuda.is_available() else \"cpu\")\n",
    "print(f\"Sử dụng thiết bị: {device}\")"
   ]
  },
  {
   "cell_type": "code",
   "execution_count": 4,
   "id": "878275a1-c5a6-4ec7-a1f8-6ffae4b83570",
   "metadata": {},
   "outputs": [],
   "source": [
    "class DynamicGraphAttention(nn.Module):\n",
    "    def __init__(self, in_channels, num_nodes=32, heads=8, dropout=0.1):  # Tăng num_nodes/heads mặc định\n",
    "        super().__init__()\n",
    "        self.num_nodes = num_nodes\n",
    "        self.heads = heads\n",
    "        self.head_dim = in_channels // heads\n",
    "        self.dropout = nn.Dropout(dropout)\n",
    "\n",
    "        self.query = nn.Linear(in_channels, in_channels)\n",
    "        self.key = nn.Linear(in_channels, in_channels)\n",
    "        self.value = nn.Linear(in_channels, in_channels)\n",
    "        self.out = nn.Linear(in_channels, in_channels)\n",
    "        self.scale = nn.Parameter(torch.tensor(self.head_dim**-0.5))\n",
    "\n",
    "        # Positional encoding (simple learnable)\n",
    "        self.pos_enc = nn.Parameter(torch.randn(1, num_nodes, in_channels))\n",
    "\n",
    "    def forward(self, x):\n",
    "        B, C, H, W = x.size()\n",
    "        x_flat = x.flatten(2).transpose(1, 2)  # (B, H*W, C)\n",
    "        \n",
    "        num_pixels = H * W\n",
    "        N = min(self.num_nodes, num_pixels)\n",
    "        \n",
    "        # Importance sampling: Chọn top-k pixels dựa trên L2 norm (thay vì random/linspace)\n",
    "        norms = torch.norm(x_flat, dim=-1)  # (B, H*W)\n",
    "        _, indices = torch.topk(norms, N, dim=-1)  # Top-k indices\n",
    "        indices = indices.sort(dim=-1).indices  # Sort để ổn định\n",
    "        x_nodes = torch.gather(x_flat, 1, indices.unsqueeze(-1).expand(-1, -1, C))  # (B, N, C)\n",
    "        \n",
    "        # Thêm positional encoding\n",
    "        x_nodes = x_nodes + self.pos_enc.expand(B, -1, -1)\n",
    "        \n",
    "        q = self.query(x_nodes).view(B, N, self.heads, self.head_dim).transpose(1, 2)\n",
    "        k = self.key(x_nodes).view(B, N, self.heads, self.head_dim).transpose(1, 2)\n",
    "        v = self.value(x_nodes).view(B, N, self.heads, self.head_dim).transpose(1, 2)\n",
    "        \n",
    "        attn_weights = torch.matmul(q, k.transpose(-2, -1)) * self.scale\n",
    "        attn_weights = F.softmax(attn_weights, dim=-1)\n",
    "        attn_weights = self.dropout(attn_weights)  # Thêm dropout\n",
    "        attn_output = torch.matmul(attn_weights, v)\n",
    "        attn_output = attn_output.transpose(1, 2).contiguous().view(B, N, C)\n",
    "        \n",
    "        out_nodes = self.out(attn_output)\n",
    "        \n",
    "        out_flat = torch.zeros_like(x_flat)\n",
    "        out_flat.scatter_(1, indices.unsqueeze(-1).expand(-1, -1, C), out_nodes)\n",
    "        out = out_flat.transpose(1, 2).view(B, C, H, W)\n",
    "        \n",
    "        return x + out  # Residual connection\n",
    "\n",
    "class TemporalAttentionAggregator(nn.Module):\n",
    "    def __init__(self, in_channels, num_heads=4):\n",
    "        super().__init__()\n",
    "        self.attention_net = nn.MultiheadAttention(embed_dim=in_channels, num_heads=num_heads)  # Thay MLP bằng MultiheadAttention\n",
    "        self.norm = nn.LayerNorm(in_channels)\n",
    "\n",
    "    def forward(self, x):\n",
    "        if len(x.shape) == 4:  # (B, C, H, W) -> Giả sử single frame, flatten spatial\n",
    "            B, C, H, W = x.size()\n",
    "            x_flat = x.flatten(2).transpose(1, 2)  # (B, H*W, C)\n",
    "        elif len(x.shape) == 5:  # (B, T, C, H, W) -> Flatten temporal-spatial\n",
    "            B, T, C, H, W = x.size()\n",
    "            x_flat = x.flatten(3).transpose(2, 3).reshape(B, T * H * W, C)  # (B, T*H*W, C)\n",
    "        else:\n",
    "            raise ValueError(\"Input must be 4D or 5D tensor\")\n",
    "        \n",
    "        # Temporal-spatial attention\n",
    "        x_flat = self.norm(x_flat)\n",
    "        attn_output, _ = self.attention_net(x_flat, x_flat, x_flat)  # Self-attention\n",
    "        \n",
    "        # Aggregate\n",
    "        aggregated_vector = torch.mean(attn_output, dim=1)  # Mean pooling thay sum để ổn định\n",
    "        return aggregated_vector\n",
    "\n",
    "class InvertedResidual(nn.Module):\n",
    "    def __init__(self, in_channels, out_channels, stride, expansion=6):  # Tăng expansion mặc định\n",
    "        super().__init__()\n",
    "        hidden_dim = in_channels * expansion\n",
    "        self.use_residual = in_channels == out_channels and stride == 1\n",
    "        \n",
    "        self.conv = nn.Sequential(\n",
    "            nn.Conv2d(in_channels, hidden_dim, 1, bias=False),\n",
    "            nn.BatchNorm2d(hidden_dim),\n",
    "            nn.SiLU(inplace=True),  # Thay ReLU6 bằng SiLU (Swish)\n",
    "            nn.Conv2d(hidden_dim, hidden_dim, 3, stride, 1, groups=hidden_dim, bias=False),\n",
    "            nn.BatchNorm2d(hidden_dim),\n",
    "            nn.SiLU(inplace=True),\n",
    "            nn.Conv2d(hidden_dim, out_channels, 1, bias=False),\n",
    "            nn.BatchNorm2d(out_channels),\n",
    "        )\n",
    "        \n",
    "        # Thêm SE block\n",
    "        self.se = nn.Sequential(\n",
    "            nn.AdaptiveAvgPool2d(1),\n",
    "            nn.Conv2d(out_channels, out_channels // 16, 1),\n",
    "            nn.SiLU(),\n",
    "            nn.Conv2d(out_channels // 16, out_channels, 1),\n",
    "            nn.Sigmoid()\n",
    "        )\n",
    "\n",
    "    def forward(self, x):\n",
    "        out = self.conv(x)\n",
    "        out = out * self.se(out)  # Áp dụng SE\n",
    "        return x + out if self.use_residual else out"
   ]
  },
  {
   "cell_type": "code",
   "execution_count": 5,
   "id": "561c9475-5f99-4695-8cbf-1b2c5422e1a3",
   "metadata": {},
   "outputs": [],
   "source": [
    "class PestLarvaNet_Tiny(nn.Module):\n",
    "    def __init__(self, num_classes, input_channels=1):\n",
    "        super().__init__()\n",
    "        self.config = [[1, 16, 1, 1], [4, 24, 2, 2], [4, 48, 2, 2]]\n",
    "        self.stem = nn.Sequential(\n",
    "            nn.Conv2d(input_channels, 16, 3, 2, 1, bias=False),\n",
    "            nn.BatchNorm2d(16), nn.SiLU(inplace=True))\n",
    "        \n",
    "        layers = []\n",
    "        in_channels = 16\n",
    "        for t, c, n, s in self.config:\n",
    "            for i in range(n):\n",
    "                stride = s if i == 0 else 1\n",
    "                layers.append(InvertedResidual(in_channels, c, stride, expansion=t))\n",
    "                in_channels = c\n",
    "        self.body = nn.Sequential(*layers)\n",
    "        \n",
    "        self.head_conv = nn.Conv2d(48, 128, 1, bias=False)\n",
    "        self.aggregator = TemporalAttentionAggregator(128, num_heads=4)\n",
    "        self.classifier = nn.Sequential(\n",
    "            nn.Linear(128, num_classes))\n",
    "\n",
    "    def forward(self, x):\n",
    "        x = self.stem(x); x = self.body(x); x = self.head_conv(x)\n",
    "        x = self.aggregator(x); x = self.classifier(x); return x"
   ]
  },
  {
   "cell_type": "code",
   "execution_count": 6,
   "id": "2f5c3927-b694-47e6-ba38-cecf04d3fdf8",
   "metadata": {},
   "outputs": [],
   "source": [
    "def count_parameters(model):\n",
    "    total = sum(p.numel() for p in model.parameters())\n",
    "    trainable = sum(p.numel() for p in model.parameters() if p.requires_grad)\n",
    "    return total, trainable"
   ]
  },
  {
   "cell_type": "code",
   "execution_count": 7,
   "id": "81a46c0f-6c6c-4d56-81ca-5ab689474f1e",
   "metadata": {},
   "outputs": [],
   "source": [
    "class InsectSpectrogramDataset(Dataset):\n",
    "    \"\"\"Dataset tùy chỉnh để đọc các file spectrogram .pt\"\"\"\n",
    "    def __init__(self, metadata_file, data_dir, transform=None):\n",
    "        self.metadata = pd.read_csv(metadata_file)\n",
    "        self.data_dir = data_dir\n",
    "        self.transform = transform\n",
    "        self.file_column = 'file_name'\n",
    "        self.label_column = 'label'\n",
    "        \n",
    "        self.class_names = sorted(self.metadata[self.label_column].unique())\n",
    "        self.class_to_id = {name: i for i, name in enumerate(self.class_names)}\n",
    "        self.id_to_class = {i: name for name, i in self.class_to_id.items()}\n",
    "\n",
    "    def __len__(self):\n",
    "        return len(self.metadata)\n",
    "\n",
    "    def __getitem__(self, idx):\n",
    "        file_name = self.metadata.iloc[idx][self.file_column]\n",
    "        file_path = os.path.join(self.data_dir, file_name)\n",
    "        label_name = self.metadata.iloc[idx][self.label_column]\n",
    "        label = self.class_to_id[label_name]\n",
    "        \n",
    "        try:\n",
    "            spectrogram = torch.load(file_path)\n",
    "            if spectrogram.dim() == 2:\n",
    "                spectrogram = spectrogram.unsqueeze(0)\n",
    "            if self.transform:\n",
    "                spectrogram = self.transform(spectrogram)\n",
    "            return spectrogram, label\n",
    "        except Exception as e:\n",
    "            print(f\"Lỗi khi tải file {file_path}: {e}\")\n",
    "            return torch.zeros(1, 128, 259), -1 # Trả về mẫu lỗi"
   ]
  },
  {
   "cell_type": "code",
   "execution_count": 8,
   "id": "e3d4cf3d-4921-4deb-9d76-1878d0ccc5c2",
   "metadata": {},
   "outputs": [],
   "source": [
    "METADATA_PATH = r'F:/Working Sync/LAB projects/InsectSELD/Dataset/metadata_Mel.csv' \n",
    "DATA_DIR = r'F:/Working Sync/LAB projects/InsectSELD/Dataset/MelSpectrograms'"
   ]
  },
  {
   "cell_type": "code",
   "execution_count": 9,
   "id": "dbd3bd2b-9f18-42eb-96c9-c748d1bd9386",
   "metadata": {},
   "outputs": [],
   "source": [
    "class TimeShift(torch.nn.Module):\n",
    "    \"\"\" Dịch chuyển spectrogram theo trục thời gian một cách ngẫu nhiên. \"\"\"\n",
    "    def __init__(self, p=0.5, max_shift_percent=0.4):\n",
    "        super().__init__()\n",
    "        self.p = p\n",
    "        self.max_shift_percent = max_shift_percent\n",
    "\n",
    "    def forward(self, spec):\n",
    "        if torch.rand(1) < self.p:\n",
    "            time_steps = spec.shape[-1]\n",
    "            # Chọn một lượng dịch chuyển ngẫu nhiên\n",
    "            shift_amount = int(torch.rand(1) * self.max_shift_percent * time_steps)\n",
    "            # Dịch ngẫu nhiên sang trái hoặc phải\n",
    "            if torch.rand(1) < 0.5:\n",
    "                shift_amount = -shift_amount\n",
    "            return torch.roll(spec, shifts=shift_amount, dims=-1)\n",
    "        return spec\n",
    "\n",
    "class SpecNoise(torch.nn.Module):\n",
    "    \"\"\" Thêm nhiễu Gaussian trực tiếp vào spectrogram. \"\"\"\n",
    "    def __init__(self, p=0.5, noise_level=0.05):\n",
    "        super().__init__()\n",
    "        self.p = p\n",
    "        self.noise_level = noise_level\n",
    "\n",
    "    def forward(self, spec):\n",
    "        if torch.rand(1) < self.p:\n",
    "            noise = torch.randn_like(spec) * self.noise_level\n",
    "            return spec + noise\n",
    "        return spec"
   ]
  },
  {
   "cell_type": "code",
   "execution_count": 10,
   "id": "d18f938b-e3c8-4d8f-bd08-19b4d0c7b19f",
   "metadata": {},
   "outputs": [
    {
     "name": "stdout",
     "output_type": "stream",
     "text": [
      "Đã định nghĩa xong pipeline Augmentation cho Spectrogram.\n"
     ]
    }
   ],
   "source": [
    "train_transform = T.Compose([\n",
    "    # Kỹ thuật 1: SpecAugment (Time & Frequency Masking)\n",
    "    torchaudio.transforms.TimeMasking(time_mask_param=80),\n",
    "    torchaudio.transforms.FrequencyMasking(freq_mask_param=25),\n",
    "    \n",
    "    # Kỹ thuật 2: Time Shifting\n",
    "    TimeShift(p=0.5, max_shift_percent=0.4),\n",
    "    \n",
    "    # Kỹ thuật 3: Spectrogram Noise\n",
    "    SpecNoise(p=0.3, noise_level=0.03),\n",
    "])\n",
    "\n",
    "# Tập validation không sử dụng augmentation\n",
    "val_transform = None\n",
    "\n",
    "print(\"Đã định nghĩa xong pipeline Augmentation cho Spectrogram.\")"
   ]
  },
  {
   "cell_type": "code",
   "execution_count": 11,
   "id": "4f33aa01-1795-4515-a580-c23fad5fa635",
   "metadata": {},
   "outputs": [],
   "source": [
    "def mixup_data(x, y, alpha=0.4, use_cuda=True):\n",
    "    \"\"\"\n",
    "    Trộn dữ liệu trong một batch.\n",
    "    Trả về input đã trộn, và hai bộ nhãn gốc cùng với hệ số trộn lambda.\n",
    "    \"\"\"\n",
    "    if alpha > 0:\n",
    "        lam = np.random.beta(alpha, alpha)\n",
    "    else:\n",
    "        lam = 1\n",
    "\n",
    "    batch_size = x.size()[0]\n",
    "    if use_cuda:\n",
    "        index = torch.randperm(batch_size).cuda()\n",
    "    else:\n",
    "        index = torch.randperm(batch_size)\n",
    "\n",
    "    mixed_x = lam * x + (1 - lam) * x[index, :]\n",
    "    y_a, y_b = y, y[index]\n",
    "    return mixed_x, y_a, y_b, lam\n",
    "\n",
    "\n",
    "def mixup_criterion(criterion, pred, y_a, y_b, lam):\n",
    "    \"\"\"\n",
    "    Hàm tính loss đặc biệt cho Mixup.\n",
    "    \"\"\"\n",
    "    return lam * criterion(pred, y_a) + (1 - lam) * criterion(pred, y_b)"
   ]
  },
  {
   "cell_type": "code",
   "execution_count": 12,
   "id": "18a940e3-05da-449c-8207-c38aa6ad0de3",
   "metadata": {},
   "outputs": [
    {
     "name": "stdout",
     "output_type": "stream",
     "text": [
      "Tải dữ liệu thành công: 165982 mẫu, 12 lớp.\n"
     ]
    }
   ],
   "source": [
    "if not os.path.exists(METADATA_PATH) or not os.path.isdir(DATA_DIR):\n",
    "    print(\"!!! LỖI: Vui lòng kiểm tra lại đường dẫn METADATA_PATH và DATA_DIR.\")\n",
    "else:\n",
    "    full_dataset = InsectSpectrogramDataset(METADATA_PATH, DATA_DIR)\n",
    "    num_classes = len(full_dataset.class_names)\n",
    "    print(f\"Tải dữ liệu thành công: {len(full_dataset)} mẫu, {num_classes} lớp.\")\n",
    "\n",
    "    train_size = int(0.8 * len(full_dataset))\n",
    "    val_size = len(full_dataset) - train_size\n",
    "    generator = torch.Generator().manual_seed(42)\n",
    "    train_dataset, val_dataset = random_split(full_dataset, [train_size, val_size], generator)\n",
    "\n",
    "    train_dataset.dataset.transform = train_transform\n",
    "    val_dataset.dataset.transform = val_transform\n",
    "\n",
    "    BATCH_SIZE = 32\n",
    "    train_loader = DataLoader(train_dataset, batch_size=BATCH_SIZE, shuffle=True, num_workers=0)\n",
    "    val_loader = DataLoader(val_dataset, batch_size=BATCH_SIZE, shuffle=False, num_workers=0)"
   ]
  },
  {
   "cell_type": "code",
   "execution_count": 13,
   "id": "d6d3d42a-f0a9-491b-89a1-e90a76d33bdf",
   "metadata": {},
   "outputs": [],
   "source": [
    "EPOCHS = 100\n",
    "LEARNING_RATE = 0.001\n",
    "WEIGHT_DECAY = 1e-4\n",
    "\n",
    "CHECKPOINT_DIR = r'F:/Working Sync/LAB projects/InsectSELD/Dataset/checkpoints_tiny'\n",
    "LOG_CSV_PATH = 'F:/Working Sync/LAB projects/InsectSELD/Dataset/training_log_tiny.csv'\n",
    "os.makedirs(CHECKPOINT_DIR, exist_ok=True)"
   ]
  },
  {
   "cell_type": "code",
   "execution_count": 14,
   "id": "3b0a5983-805b-46c5-8e8c-5f0a07fa8b7b",
   "metadata": {},
   "outputs": [
    {
     "name": "stdout",
     "output_type": "stream",
     "text": [
      "Khởi tạo mô hình PestLarvaNet-GMA với 0.11M tham số.\n"
     ]
    }
   ],
   "source": [
    "model = PestLarvaNet_Tiny(num_classes=num_classes).to(device)\n",
    "total_params, _ = count_parameters(model)\n",
    "print(f\"Khởi tạo mô hình PestLarvaNet-GMA với {total_params/1e6:.2f}M tham số.\")\n",
    "\n",
    "criterion = nn.CrossEntropyLoss()\n",
    "optimizer = torch.optim.AdamW(model.parameters(), lr=LEARNING_RATE, weight_decay=WEIGHT_DECAY)\n",
    "scheduler = torch.optim.lr_scheduler.CosineAnnealingLR(optimizer, T_max=EPOCHS)"
   ]
  },
  {
   "cell_type": "code",
   "execution_count": 16,
   "id": "d53eaa89-a519-4d94-93b6-7481ae606df8",
   "metadata": {},
   "outputs": [
    {
     "name": "stdout",
     "output_type": "stream",
     "text": [
      "\n",
      "Bắt đầu huấn luyện... Checkpoints sẽ được lưu tại 'F:/Working Sync/LAB projects/InsectSELD/Dataset/checkpoints_tiny' và log tại 'F:/Working Sync/LAB projects/InsectSELD/Dataset/training_log_tiny.csv'\n"
     ]
    }
   ],
   "source": [
    "log_header = [\n",
    "    'epoch', 'train_loss', 'val_loss', 'learning_rate',\n",
    "    'accuracy', 'precision', 'recall', 'f1'\n",
    "]\n",
    "with open(LOG_CSV_PATH, 'w', newline='', encoding='utf-8') as f:\n",
    "    csv.writer(f).writerow(log_header)\n",
    "\n",
    "print(f\"\\nBắt đầu huấn luyện... Checkpoints sẽ được lưu tại '{CHECKPOINT_DIR}' và log tại '{LOG_CSV_PATH}'\")\n",
    "\n",
    "# --- Vòng lặp huấn luyện chính ---\n",
    "best_val_f1 = 0.0"
   ]
  },
  {
   "cell_type": "code",
   "execution_count": 17,
   "id": "5f0161a7-f3ca-4c11-96a6-778ab7d83042",
   "metadata": {},
   "outputs": [
    {
     "data": {
      "application/vnd.jupyter.widget-view+json": {
       "model_id": "68d7da7169d94df08eb39f416d50109c",
       "version_major": 2,
       "version_minor": 0
      },
      "text/plain": [
       "Epoch 1/100 [Training]:   0%|          | 0/4150 [00:00<?, ?it/s]"
      ]
     },
     "metadata": {},
     "output_type": "display_data"
    },
    {
     "data": {
      "application/vnd.jupyter.widget-view+json": {
       "model_id": "7e4b264d74df4c4b9b373a46d48d30c9",
       "version_major": 2,
       "version_minor": 0
      },
      "text/plain": [
       "Epoch 1/100 [Validation]:   0%|          | 0/1038 [00:00<?, ?it/s]"
      ]
     },
     "metadata": {},
     "output_type": "display_data"
    },
    {
     "name": "stdout",
     "output_type": "stream",
     "text": [
      "\n",
      "--- Epoch 1/100 Summary ---\n",
      "  Train Loss: 1.2473 | Val Loss: 0.9148\n",
      "  Accuracy: 0.6822 | Precision: 0.6822 | Recall: 0.6822 | F1: 0.6822\n",
      "  Learning Rate: 0.001000\n",
      "  => 🎉 New best model saved to 'F:/Working Sync/LAB projects/InsectSELD/Dataset/checkpoints_tiny\\best_model.pth' (F1: 0.6822)\n",
      "\n"
     ]
    },
    {
     "data": {
      "application/vnd.jupyter.widget-view+json": {
       "model_id": "1e66b7acc92a4746986624d6ee5c4c0d",
       "version_major": 2,
       "version_minor": 0
      },
      "text/plain": [
       "Epoch 2/100 [Training]:   0%|          | 0/4150 [00:00<?, ?it/s]"
      ]
     },
     "metadata": {},
     "output_type": "display_data"
    },
    {
     "data": {
      "application/vnd.jupyter.widget-view+json": {
       "model_id": "b73aec0415704ee096874d3ff4bb1f25",
       "version_major": 2,
       "version_minor": 0
      },
      "text/plain": [
       "Epoch 2/100 [Validation]:   0%|          | 0/1038 [00:00<?, ?it/s]"
      ]
     },
     "metadata": {},
     "output_type": "display_data"
    },
    {
     "name": "stdout",
     "output_type": "stream",
     "text": [
      "\n",
      "--- Epoch 2/100 Summary ---\n",
      "  Train Loss: 1.0112 | Val Loss: 1.0313\n",
      "  Accuracy: 0.6530 | Precision: 0.6530 | Recall: 0.6530 | F1: 0.6530\n",
      "  Learning Rate: 0.001000\n"
     ]
    },
    {
     "data": {
      "application/vnd.jupyter.widget-view+json": {
       "model_id": "583882176935475281ab25ea6bce1367",
       "version_major": 2,
       "version_minor": 0
      },
      "text/plain": [
       "Epoch 3/100 [Training]:   0%|          | 0/4150 [00:00<?, ?it/s]"
      ]
     },
     "metadata": {},
     "output_type": "display_data"
    },
    {
     "data": {
      "application/vnd.jupyter.widget-view+json": {
       "model_id": "04069654d07e434aa1d763aaa1159c43",
       "version_major": 2,
       "version_minor": 0
      },
      "text/plain": [
       "Epoch 3/100 [Validation]:   0%|          | 0/1038 [00:00<?, ?it/s]"
      ]
     },
     "metadata": {},
     "output_type": "display_data"
    },
    {
     "name": "stdout",
     "output_type": "stream",
     "text": [
      "\n",
      "--- Epoch 3/100 Summary ---\n",
      "  Train Loss: 0.9280 | Val Loss: 0.7669\n",
      "  Accuracy: 0.7333 | Precision: 0.7333 | Recall: 0.7333 | F1: 0.7333\n",
      "  Learning Rate: 0.000999\n",
      "  => 🎉 New best model saved to 'F:/Working Sync/LAB projects/InsectSELD/Dataset/checkpoints_tiny\\best_model.pth' (F1: 0.7333)\n",
      "\n"
     ]
    },
    {
     "data": {
      "application/vnd.jupyter.widget-view+json": {
       "model_id": "3777c24b86bb4ee581156fdd1315f36e",
       "version_major": 2,
       "version_minor": 0
      },
      "text/plain": [
       "Epoch 4/100 [Training]:   0%|          | 0/4150 [00:00<?, ?it/s]"
      ]
     },
     "metadata": {},
     "output_type": "display_data"
    },
    {
     "data": {
      "application/vnd.jupyter.widget-view+json": {
       "model_id": "ac495586be2f4ac5b325f9ca86d5d9c9",
       "version_major": 2,
       "version_minor": 0
      },
      "text/plain": [
       "Epoch 4/100 [Validation]:   0%|          | 0/1038 [00:00<?, ?it/s]"
      ]
     },
     "metadata": {},
     "output_type": "display_data"
    },
    {
     "name": "stdout",
     "output_type": "stream",
     "text": [
      "\n",
      "--- Epoch 4/100 Summary ---\n",
      "  Train Loss: 0.8607 | Val Loss: 0.6657\n",
      "  Accuracy: 0.7698 | Precision: 0.7698 | Recall: 0.7698 | F1: 0.7698\n",
      "  Learning Rate: 0.000998\n",
      "  => 🎉 New best model saved to 'F:/Working Sync/LAB projects/InsectSELD/Dataset/checkpoints_tiny\\best_model.pth' (F1: 0.7698)\n",
      "\n"
     ]
    },
    {
     "data": {
      "application/vnd.jupyter.widget-view+json": {
       "model_id": "876a3dc83afb43f096c9c88b4b32e377",
       "version_major": 2,
       "version_minor": 0
      },
      "text/plain": [
       "Epoch 5/100 [Training]:   0%|          | 0/4150 [00:00<?, ?it/s]"
      ]
     },
     "metadata": {},
     "output_type": "display_data"
    },
    {
     "data": {
      "application/vnd.jupyter.widget-view+json": {
       "model_id": "15aa322b759b47a5855683d352056f5a",
       "version_major": 2,
       "version_minor": 0
      },
      "text/plain": [
       "Epoch 5/100 [Validation]:   0%|          | 0/1038 [00:00<?, ?it/s]"
      ]
     },
     "metadata": {},
     "output_type": "display_data"
    },
    {
     "name": "stdout",
     "output_type": "stream",
     "text": [
      "\n",
      "--- Epoch 5/100 Summary ---\n",
      "  Train Loss: 0.8098 | Val Loss: 0.5550\n",
      "  Accuracy: 0.8054 | Precision: 0.8054 | Recall: 0.8054 | F1: 0.8054\n",
      "  Learning Rate: 0.000996\n",
      "  => 🎉 New best model saved to 'F:/Working Sync/LAB projects/InsectSELD/Dataset/checkpoints_tiny\\best_model.pth' (F1: 0.8054)\n",
      "\n"
     ]
    },
    {
     "data": {
      "application/vnd.jupyter.widget-view+json": {
       "model_id": "709015261e4346a39b99b95454e58b11",
       "version_major": 2,
       "version_minor": 0
      },
      "text/plain": [
       "Epoch 6/100 [Training]:   0%|          | 0/4150 [00:00<?, ?it/s]"
      ]
     },
     "metadata": {},
     "output_type": "display_data"
    },
    {
     "data": {
      "application/vnd.jupyter.widget-view+json": {
       "model_id": "29519365ffcb401b8b915f64bada3925",
       "version_major": 2,
       "version_minor": 0
      },
      "text/plain": [
       "Epoch 6/100 [Validation]:   0%|          | 0/1038 [00:00<?, ?it/s]"
      ]
     },
     "metadata": {},
     "output_type": "display_data"
    },
    {
     "name": "stdout",
     "output_type": "stream",
     "text": [
      "\n",
      "--- Epoch 6/100 Summary ---\n",
      "  Train Loss: 0.7771 | Val Loss: 0.8527\n",
      "  Accuracy: 0.7085 | Precision: 0.7085 | Recall: 0.7085 | F1: 0.7085\n",
      "  Learning Rate: 0.000994\n"
     ]
    },
    {
     "data": {
      "application/vnd.jupyter.widget-view+json": {
       "model_id": "788a1cbb575849b9a99b668a8276973d",
       "version_major": 2,
       "version_minor": 0
      },
      "text/plain": [
       "Epoch 7/100 [Training]:   0%|          | 0/4150 [00:00<?, ?it/s]"
      ]
     },
     "metadata": {},
     "output_type": "display_data"
    },
    {
     "data": {
      "application/vnd.jupyter.widget-view+json": {
       "model_id": "eb17cd40ecd04e5db2f462188fd831d1",
       "version_major": 2,
       "version_minor": 0
      },
      "text/plain": [
       "Epoch 7/100 [Validation]:   0%|          | 0/1038 [00:00<?, ?it/s]"
      ]
     },
     "metadata": {},
     "output_type": "display_data"
    },
    {
     "name": "stdout",
     "output_type": "stream",
     "text": [
      "\n",
      "--- Epoch 7/100 Summary ---\n",
      "  Train Loss: 0.7619 | Val Loss: 0.6998\n",
      "  Accuracy: 0.7660 | Precision: 0.7660 | Recall: 0.7660 | F1: 0.7660\n",
      "  Learning Rate: 0.000991\n"
     ]
    },
    {
     "data": {
      "application/vnd.jupyter.widget-view+json": {
       "model_id": "2432431c0f6f4ed4aa465595bffa780c",
       "version_major": 2,
       "version_minor": 0
      },
      "text/plain": [
       "Epoch 8/100 [Training]:   0%|          | 0/4150 [00:00<?, ?it/s]"
      ]
     },
     "metadata": {},
     "output_type": "display_data"
    },
    {
     "data": {
      "application/vnd.jupyter.widget-view+json": {
       "model_id": "e7351f75dc5840dda21a633707e7e2e3",
       "version_major": 2,
       "version_minor": 0
      },
      "text/plain": [
       "Epoch 8/100 [Validation]:   0%|          | 0/1038 [00:00<?, ?it/s]"
      ]
     },
     "metadata": {},
     "output_type": "display_data"
    },
    {
     "name": "stdout",
     "output_type": "stream",
     "text": [
      "\n",
      "--- Epoch 8/100 Summary ---\n",
      "  Train Loss: 0.7241 | Val Loss: 0.9215\n",
      "  Accuracy: 0.6893 | Precision: 0.6893 | Recall: 0.6893 | F1: 0.6893\n",
      "  Learning Rate: 0.000988\n"
     ]
    },
    {
     "data": {
      "application/vnd.jupyter.widget-view+json": {
       "model_id": "e2178be924b84d558816591f26840a95",
       "version_major": 2,
       "version_minor": 0
      },
      "text/plain": [
       "Epoch 9/100 [Training]:   0%|          | 0/4150 [00:00<?, ?it/s]"
      ]
     },
     "metadata": {},
     "output_type": "display_data"
    },
    {
     "data": {
      "application/vnd.jupyter.widget-view+json": {
       "model_id": "473eeb4bb5df465f8436ccd95f973cc1",
       "version_major": 2,
       "version_minor": 0
      },
      "text/plain": [
       "Epoch 9/100 [Validation]:   0%|          | 0/1038 [00:00<?, ?it/s]"
      ]
     },
     "metadata": {},
     "output_type": "display_data"
    },
    {
     "name": "stdout",
     "output_type": "stream",
     "text": [
      "\n",
      "--- Epoch 9/100 Summary ---\n",
      "  Train Loss: 0.6933 | Val Loss: 0.7048\n",
      "  Accuracy: 0.7593 | Precision: 0.7593 | Recall: 0.7593 | F1: 0.7593\n",
      "  Learning Rate: 0.000984\n"
     ]
    },
    {
     "data": {
      "application/vnd.jupyter.widget-view+json": {
       "model_id": "25d4598001aa4793b1fb156d4b7549e9",
       "version_major": 2,
       "version_minor": 0
      },
      "text/plain": [
       "Epoch 10/100 [Training]:   0%|          | 0/4150 [00:00<?, ?it/s]"
      ]
     },
     "metadata": {},
     "output_type": "display_data"
    },
    {
     "data": {
      "application/vnd.jupyter.widget-view+json": {
       "model_id": "b77dc90784134ade9d1758b713fa589d",
       "version_major": 2,
       "version_minor": 0
      },
      "text/plain": [
       "Epoch 10/100 [Validation]:   0%|          | 0/1038 [00:00<?, ?it/s]"
      ]
     },
     "metadata": {},
     "output_type": "display_data"
    },
    {
     "name": "stdout",
     "output_type": "stream",
     "text": [
      "\n",
      "--- Epoch 10/100 Summary ---\n",
      "  Train Loss: 0.6870 | Val Loss: 0.7517\n",
      "  Accuracy: 0.7413 | Precision: 0.7413 | Recall: 0.7413 | F1: 0.7413\n",
      "  Learning Rate: 0.000980\n"
     ]
    },
    {
     "data": {
      "application/vnd.jupyter.widget-view+json": {
       "model_id": "16b97232bcd2454ea69949a48d95357e",
       "version_major": 2,
       "version_minor": 0
      },
      "text/plain": [
       "Epoch 11/100 [Training]:   0%|          | 0/4150 [00:00<?, ?it/s]"
      ]
     },
     "metadata": {},
     "output_type": "display_data"
    },
    {
     "data": {
      "application/vnd.jupyter.widget-view+json": {
       "model_id": "b31d7df8f96e49bc95dea044a6f3c4ba",
       "version_major": 2,
       "version_minor": 0
      },
      "text/plain": [
       "Epoch 11/100 [Validation]:   0%|          | 0/1038 [00:00<?, ?it/s]"
      ]
     },
     "metadata": {},
     "output_type": "display_data"
    },
    {
     "name": "stdout",
     "output_type": "stream",
     "text": [
      "\n",
      "--- Epoch 11/100 Summary ---\n",
      "  Train Loss: 0.6675 | Val Loss: 0.5048\n",
      "  Accuracy: 0.8260 | Precision: 0.8260 | Recall: 0.8260 | F1: 0.8260\n",
      "  Learning Rate: 0.000976\n",
      "  => 🎉 New best model saved to 'F:/Working Sync/LAB projects/InsectSELD/Dataset/checkpoints_tiny\\best_model.pth' (F1: 0.8260)\n",
      "\n"
     ]
    },
    {
     "data": {
      "application/vnd.jupyter.widget-view+json": {
       "model_id": "11c64f16237f433eaca0c816a539a79e",
       "version_major": 2,
       "version_minor": 0
      },
      "text/plain": [
       "Epoch 12/100 [Training]:   0%|          | 0/4150 [00:00<?, ?it/s]"
      ]
     },
     "metadata": {},
     "output_type": "display_data"
    },
    {
     "data": {
      "application/vnd.jupyter.widget-view+json": {
       "model_id": "7c8b43d91fb840448a64555694f8c161",
       "version_major": 2,
       "version_minor": 0
      },
      "text/plain": [
       "Epoch 12/100 [Validation]:   0%|          | 0/1038 [00:00<?, ?it/s]"
      ]
     },
     "metadata": {},
     "output_type": "display_data"
    },
    {
     "name": "stdout",
     "output_type": "stream",
     "text": [
      "\n",
      "--- Epoch 12/100 Summary ---\n",
      "  Train Loss: 0.6450 | Val Loss: 0.7306\n",
      "  Accuracy: 0.7500 | Precision: 0.7500 | Recall: 0.7500 | F1: 0.7500\n",
      "  Learning Rate: 0.000970\n"
     ]
    },
    {
     "data": {
      "application/vnd.jupyter.widget-view+json": {
       "model_id": "ffbc6687e36c4e039dd8bf0689c096ac",
       "version_major": 2,
       "version_minor": 0
      },
      "text/plain": [
       "Epoch 13/100 [Training]:   0%|          | 0/4150 [00:00<?, ?it/s]"
      ]
     },
     "metadata": {},
     "output_type": "display_data"
    },
    {
     "data": {
      "application/vnd.jupyter.widget-view+json": {
       "model_id": "014f7afbd18942659bfc74c3621e6710",
       "version_major": 2,
       "version_minor": 0
      },
      "text/plain": [
       "Epoch 13/100 [Validation]:   0%|          | 0/1038 [00:00<?, ?it/s]"
      ]
     },
     "metadata": {},
     "output_type": "display_data"
    },
    {
     "name": "stdout",
     "output_type": "stream",
     "text": [
      "\n",
      "--- Epoch 13/100 Summary ---\n",
      "  Train Loss: 0.6451 | Val Loss: 0.7401\n",
      "  Accuracy: 0.7501 | Precision: 0.7501 | Recall: 0.7501 | F1: 0.7501\n",
      "  Learning Rate: 0.000965\n"
     ]
    },
    {
     "data": {
      "application/vnd.jupyter.widget-view+json": {
       "model_id": "b82e1010dc3841c88942b22bb56f6e79",
       "version_major": 2,
       "version_minor": 0
      },
      "text/plain": [
       "Epoch 14/100 [Training]:   0%|          | 0/4150 [00:00<?, ?it/s]"
      ]
     },
     "metadata": {},
     "output_type": "display_data"
    },
    {
     "data": {
      "application/vnd.jupyter.widget-view+json": {
       "model_id": "f1d785fafedc479599266d20583f0e21",
       "version_major": 2,
       "version_minor": 0
      },
      "text/plain": [
       "Epoch 14/100 [Validation]:   0%|          | 0/1038 [00:00<?, ?it/s]"
      ]
     },
     "metadata": {},
     "output_type": "display_data"
    },
    {
     "name": "stdout",
     "output_type": "stream",
     "text": [
      "\n",
      "--- Epoch 14/100 Summary ---\n",
      "  Train Loss: 0.6385 | Val Loss: 0.3709\n",
      "  Accuracy: 0.8712 | Precision: 0.8712 | Recall: 0.8712 | F1: 0.8712\n",
      "  Learning Rate: 0.000959\n",
      "  => 🎉 New best model saved to 'F:/Working Sync/LAB projects/InsectSELD/Dataset/checkpoints_tiny\\best_model.pth' (F1: 0.8712)\n",
      "\n"
     ]
    },
    {
     "data": {
      "application/vnd.jupyter.widget-view+json": {
       "model_id": "b58a54be45f64214b35e341835f0410e",
       "version_major": 2,
       "version_minor": 0
      },
      "text/plain": [
       "Epoch 15/100 [Training]:   0%|          | 0/4150 [00:00<?, ?it/s]"
      ]
     },
     "metadata": {},
     "output_type": "display_data"
    },
    {
     "data": {
      "application/vnd.jupyter.widget-view+json": {
       "model_id": "c53aa627b1684fbc93a4224e7b6e3d8c",
       "version_major": 2,
       "version_minor": 0
      },
      "text/plain": [
       "Epoch 15/100 [Validation]:   0%|          | 0/1038 [00:00<?, ?it/s]"
      ]
     },
     "metadata": {},
     "output_type": "display_data"
    },
    {
     "name": "stdout",
     "output_type": "stream",
     "text": [
      "\n",
      "--- Epoch 15/100 Summary ---\n",
      "  Train Loss: 0.6245 | Val Loss: 0.3705\n",
      "  Accuracy: 0.8688 | Precision: 0.8688 | Recall: 0.8688 | F1: 0.8688\n",
      "  Learning Rate: 0.000952\n"
     ]
    },
    {
     "data": {
      "application/vnd.jupyter.widget-view+json": {
       "model_id": "555982a3aef64fe38eea3a45c497cc03",
       "version_major": 2,
       "version_minor": 0
      },
      "text/plain": [
       "Epoch 16/100 [Training]:   0%|          | 0/4150 [00:00<?, ?it/s]"
      ]
     },
     "metadata": {},
     "output_type": "display_data"
    },
    {
     "data": {
      "application/vnd.jupyter.widget-view+json": {
       "model_id": "3d9fdd91d97c474c829dd19dd454ee05",
       "version_major": 2,
       "version_minor": 0
      },
      "text/plain": [
       "Epoch 16/100 [Validation]:   0%|          | 0/1038 [00:00<?, ?it/s]"
      ]
     },
     "metadata": {},
     "output_type": "display_data"
    },
    {
     "name": "stdout",
     "output_type": "stream",
     "text": [
      "\n",
      "--- Epoch 16/100 Summary ---\n",
      "  Train Loss: 0.6209 | Val Loss: 0.6277\n",
      "  Accuracy: 0.7852 | Precision: 0.7852 | Recall: 0.7852 | F1: 0.7852\n",
      "  Learning Rate: 0.000946\n"
     ]
    },
    {
     "data": {
      "application/vnd.jupyter.widget-view+json": {
       "model_id": "431217a2d60a4e35a1bcc6035b1e789f",
       "version_major": 2,
       "version_minor": 0
      },
      "text/plain": [
       "Epoch 17/100 [Training]:   0%|          | 0/4150 [00:00<?, ?it/s]"
      ]
     },
     "metadata": {},
     "output_type": "display_data"
    },
    {
     "data": {
      "application/vnd.jupyter.widget-view+json": {
       "model_id": "8734222448054720acbf45d8e69d0088",
       "version_major": 2,
       "version_minor": 0
      },
      "text/plain": [
       "Epoch 17/100 [Validation]:   0%|          | 0/1038 [00:00<?, ?it/s]"
      ]
     },
     "metadata": {},
     "output_type": "display_data"
    },
    {
     "name": "stdout",
     "output_type": "stream",
     "text": [
      "\n",
      "--- Epoch 17/100 Summary ---\n",
      "  Train Loss: 0.6140 | Val Loss: 0.4700\n",
      "  Accuracy: 0.8413 | Precision: 0.8413 | Recall: 0.8413 | F1: 0.8413\n",
      "  Learning Rate: 0.000938\n"
     ]
    },
    {
     "data": {
      "application/vnd.jupyter.widget-view+json": {
       "model_id": "5baf07e8ad424e559bc19984d6723072",
       "version_major": 2,
       "version_minor": 0
      },
      "text/plain": [
       "Epoch 18/100 [Training]:   0%|          | 0/4150 [00:00<?, ?it/s]"
      ]
     },
     "metadata": {},
     "output_type": "display_data"
    },
    {
     "data": {
      "application/vnd.jupyter.widget-view+json": {
       "model_id": "a8580798d6644ac2bed6ae2ab1d12a36",
       "version_major": 2,
       "version_minor": 0
      },
      "text/plain": [
       "Epoch 18/100 [Validation]:   0%|          | 0/1038 [00:00<?, ?it/s]"
      ]
     },
     "metadata": {},
     "output_type": "display_data"
    },
    {
     "name": "stdout",
     "output_type": "stream",
     "text": [
      "\n",
      "--- Epoch 18/100 Summary ---\n",
      "  Train Loss: 0.6039 | Val Loss: 0.6294\n",
      "  Accuracy: 0.7834 | Precision: 0.7834 | Recall: 0.7834 | F1: 0.7834\n",
      "  Learning Rate: 0.000930\n"
     ]
    },
    {
     "data": {
      "application/vnd.jupyter.widget-view+json": {
       "model_id": "ccf79081cd6245f08bec814dcd588ada",
       "version_major": 2,
       "version_minor": 0
      },
      "text/plain": [
       "Epoch 19/100 [Training]:   0%|          | 0/4150 [00:00<?, ?it/s]"
      ]
     },
     "metadata": {},
     "output_type": "display_data"
    },
    {
     "data": {
      "application/vnd.jupyter.widget-view+json": {
       "model_id": "5c6586be95974afeb0dcbb13cff7d4da",
       "version_major": 2,
       "version_minor": 0
      },
      "text/plain": [
       "Epoch 19/100 [Validation]:   0%|          | 0/1038 [00:00<?, ?it/s]"
      ]
     },
     "metadata": {},
     "output_type": "display_data"
    },
    {
     "name": "stdout",
     "output_type": "stream",
     "text": [
      "\n",
      "--- Epoch 19/100 Summary ---\n",
      "  Train Loss: 0.5949 | Val Loss: 0.4176\n",
      "  Accuracy: 0.8589 | Precision: 0.8589 | Recall: 0.8589 | F1: 0.8589\n",
      "  Learning Rate: 0.000922\n"
     ]
    },
    {
     "data": {
      "application/vnd.jupyter.widget-view+json": {
       "model_id": "ef8cae7a056745d3adbeaf73ebba391a",
       "version_major": 2,
       "version_minor": 0
      },
      "text/plain": [
       "Epoch 20/100 [Training]:   0%|          | 0/4150 [00:00<?, ?it/s]"
      ]
     },
     "metadata": {},
     "output_type": "display_data"
    },
    {
     "data": {
      "application/vnd.jupyter.widget-view+json": {
       "model_id": "c212c8c95c744cd49d7e9339f12752e7",
       "version_major": 2,
       "version_minor": 0
      },
      "text/plain": [
       "Epoch 20/100 [Validation]:   0%|          | 0/1038 [00:00<?, ?it/s]"
      ]
     },
     "metadata": {},
     "output_type": "display_data"
    },
    {
     "name": "stdout",
     "output_type": "stream",
     "text": [
      "\n",
      "--- Epoch 20/100 Summary ---\n",
      "  Train Loss: 0.5894 | Val Loss: 0.3949\n",
      "  Accuracy: 0.8700 | Precision: 0.8700 | Recall: 0.8700 | F1: 0.8700\n",
      "  Learning Rate: 0.000914\n"
     ]
    },
    {
     "data": {
      "application/vnd.jupyter.widget-view+json": {
       "model_id": "c4cb1dd6880d4d7bbebbd5f7dd0ff0fa",
       "version_major": 2,
       "version_minor": 0
      },
      "text/plain": [
       "Epoch 21/100 [Training]:   0%|          | 0/4150 [00:00<?, ?it/s]"
      ]
     },
     "metadata": {},
     "output_type": "display_data"
    },
    {
     "data": {
      "application/vnd.jupyter.widget-view+json": {
       "model_id": "baeac25399fb47dab1065a4474aa11dc",
       "version_major": 2,
       "version_minor": 0
      },
      "text/plain": [
       "Epoch 21/100 [Validation]:   0%|          | 0/1038 [00:00<?, ?it/s]"
      ]
     },
     "metadata": {},
     "output_type": "display_data"
    },
    {
     "name": "stdout",
     "output_type": "stream",
     "text": [
      "\n",
      "--- Epoch 21/100 Summary ---\n",
      "  Train Loss: 0.5873 | Val Loss: 0.3873\n",
      "  Accuracy: 0.8674 | Precision: 0.8674 | Recall: 0.8674 | F1: 0.8674\n",
      "  Learning Rate: 0.000905\n"
     ]
    },
    {
     "data": {
      "application/vnd.jupyter.widget-view+json": {
       "model_id": "7e7a412edabc41f98e522a0db2e2c677",
       "version_major": 2,
       "version_minor": 0
      },
      "text/plain": [
       "Epoch 22/100 [Training]:   0%|          | 0/4150 [00:00<?, ?it/s]"
      ]
     },
     "metadata": {},
     "output_type": "display_data"
    },
    {
     "data": {
      "application/vnd.jupyter.widget-view+json": {
       "model_id": "80fb74d147c046efb5e383b668d2fbe8",
       "version_major": 2,
       "version_minor": 0
      },
      "text/plain": [
       "Epoch 22/100 [Validation]:   0%|          | 0/1038 [00:00<?, ?it/s]"
      ]
     },
     "metadata": {},
     "output_type": "display_data"
    },
    {
     "name": "stdout",
     "output_type": "stream",
     "text": [
      "\n",
      "--- Epoch 22/100 Summary ---\n",
      "  Train Loss: 0.5765 | Val Loss: 0.7816\n",
      "  Accuracy: 0.7327 | Precision: 0.7327 | Recall: 0.7327 | F1: 0.7327\n",
      "  Learning Rate: 0.000895\n"
     ]
    },
    {
     "data": {
      "application/vnd.jupyter.widget-view+json": {
       "model_id": "38767fcef4ef4969aa69161521fcef00",
       "version_major": 2,
       "version_minor": 0
      },
      "text/plain": [
       "Epoch 23/100 [Training]:   0%|          | 0/4150 [00:00<?, ?it/s]"
      ]
     },
     "metadata": {},
     "output_type": "display_data"
    },
    {
     "data": {
      "application/vnd.jupyter.widget-view+json": {
       "model_id": "c121768d3de447a2acfb9a29943757e8",
       "version_major": 2,
       "version_minor": 0
      },
      "text/plain": [
       "Epoch 23/100 [Validation]:   0%|          | 0/1038 [00:00<?, ?it/s]"
      ]
     },
     "metadata": {},
     "output_type": "display_data"
    },
    {
     "name": "stdout",
     "output_type": "stream",
     "text": [
      "\n",
      "--- Epoch 23/100 Summary ---\n",
      "  Train Loss: 0.5792 | Val Loss: 0.3895\n",
      "  Accuracy: 0.8690 | Precision: 0.8690 | Recall: 0.8690 | F1: 0.8690\n",
      "  Learning Rate: 0.000885\n"
     ]
    },
    {
     "data": {
      "application/vnd.jupyter.widget-view+json": {
       "model_id": "d6e43ba2838044a8b3c76f1cc3d43579",
       "version_major": 2,
       "version_minor": 0
      },
      "text/plain": [
       "Epoch 24/100 [Training]:   0%|          | 0/4150 [00:00<?, ?it/s]"
      ]
     },
     "metadata": {},
     "output_type": "display_data"
    },
    {
     "data": {
      "application/vnd.jupyter.widget-view+json": {
       "model_id": "a2c4505ab3b54da0bb626041ddb9d49d",
       "version_major": 2,
       "version_minor": 0
      },
      "text/plain": [
       "Epoch 24/100 [Validation]:   0%|          | 0/1038 [00:00<?, ?it/s]"
      ]
     },
     "metadata": {},
     "output_type": "display_data"
    },
    {
     "name": "stdout",
     "output_type": "stream",
     "text": [
      "\n",
      "--- Epoch 24/100 Summary ---\n",
      "  Train Loss: 0.5780 | Val Loss: 0.4162\n",
      "  Accuracy: 0.8614 | Precision: 0.8614 | Recall: 0.8614 | F1: 0.8614\n",
      "  Learning Rate: 0.000875\n"
     ]
    },
    {
     "data": {
      "application/vnd.jupyter.widget-view+json": {
       "model_id": "bd7ea1734d18460d870ebecf9d3cb794",
       "version_major": 2,
       "version_minor": 0
      },
      "text/plain": [
       "Epoch 25/100 [Training]:   0%|          | 0/4150 [00:00<?, ?it/s]"
      ]
     },
     "metadata": {},
     "output_type": "display_data"
    },
    {
     "data": {
      "application/vnd.jupyter.widget-view+json": {
       "model_id": "2fcd023608744eb59b9f4cc477aeaee4",
       "version_major": 2,
       "version_minor": 0
      },
      "text/plain": [
       "Epoch 25/100 [Validation]:   0%|          | 0/1038 [00:00<?, ?it/s]"
      ]
     },
     "metadata": {},
     "output_type": "display_data"
    },
    {
     "name": "stdout",
     "output_type": "stream",
     "text": [
      "\n",
      "--- Epoch 25/100 Summary ---\n",
      "  Train Loss: 0.5662 | Val Loss: 0.5495\n",
      "  Accuracy: 0.8123 | Precision: 0.8123 | Recall: 0.8123 | F1: 0.8123\n",
      "  Learning Rate: 0.000864\n"
     ]
    },
    {
     "data": {
      "application/vnd.jupyter.widget-view+json": {
       "model_id": "c2e935bbcf394507960349a236f3e37e",
       "version_major": 2,
       "version_minor": 0
      },
      "text/plain": [
       "Epoch 26/100 [Training]:   0%|          | 0/4150 [00:00<?, ?it/s]"
      ]
     },
     "metadata": {},
     "output_type": "display_data"
    },
    {
     "data": {
      "application/vnd.jupyter.widget-view+json": {
       "model_id": "58c140a135844acaad55f7f89c09b285",
       "version_major": 2,
       "version_minor": 0
      },
      "text/plain": [
       "Epoch 26/100 [Validation]:   0%|          | 0/1038 [00:00<?, ?it/s]"
      ]
     },
     "metadata": {},
     "output_type": "display_data"
    },
    {
     "name": "stdout",
     "output_type": "stream",
     "text": [
      "\n",
      "--- Epoch 26/100 Summary ---\n",
      "  Train Loss: 0.5602 | Val Loss: 0.4818\n",
      "  Accuracy: 0.8367 | Precision: 0.8367 | Recall: 0.8367 | F1: 0.8367\n",
      "  Learning Rate: 0.000854\n"
     ]
    },
    {
     "data": {
      "application/vnd.jupyter.widget-view+json": {
       "model_id": "1133bae152b14d3baba8a8a8fe523a8b",
       "version_major": 2,
       "version_minor": 0
      },
      "text/plain": [
       "Epoch 27/100 [Training]:   0%|          | 0/4150 [00:00<?, ?it/s]"
      ]
     },
     "metadata": {},
     "output_type": "display_data"
    },
    {
     "data": {
      "application/vnd.jupyter.widget-view+json": {
       "model_id": "d007ed957b044836bd20464ad4c88c83",
       "version_major": 2,
       "version_minor": 0
      },
      "text/plain": [
       "Epoch 27/100 [Validation]:   0%|          | 0/1038 [00:00<?, ?it/s]"
      ]
     },
     "metadata": {},
     "output_type": "display_data"
    },
    {
     "name": "stdout",
     "output_type": "stream",
     "text": [
      "\n",
      "--- Epoch 27/100 Summary ---\n",
      "  Train Loss: 0.5501 | Val Loss: 0.4796\n",
      "  Accuracy: 0.8345 | Precision: 0.8345 | Recall: 0.8345 | F1: 0.8345\n",
      "  Learning Rate: 0.000842\n"
     ]
    },
    {
     "data": {
      "application/vnd.jupyter.widget-view+json": {
       "model_id": "becda91b08714997af977b5871b578c5",
       "version_major": 2,
       "version_minor": 0
      },
      "text/plain": [
       "Epoch 28/100 [Training]:   0%|          | 0/4150 [00:00<?, ?it/s]"
      ]
     },
     "metadata": {},
     "output_type": "display_data"
    },
    {
     "data": {
      "application/vnd.jupyter.widget-view+json": {
       "model_id": "86835dd394194bf4812a7d65e94306ce",
       "version_major": 2,
       "version_minor": 0
      },
      "text/plain": [
       "Epoch 28/100 [Validation]:   0%|          | 0/1038 [00:00<?, ?it/s]"
      ]
     },
     "metadata": {},
     "output_type": "display_data"
    },
    {
     "name": "stdout",
     "output_type": "stream",
     "text": [
      "\n",
      "--- Epoch 28/100 Summary ---\n",
      "  Train Loss: 0.5424 | Val Loss: 0.5889\n",
      "  Accuracy: 0.7973 | Precision: 0.7973 | Recall: 0.7973 | F1: 0.7973\n",
      "  Learning Rate: 0.000831\n"
     ]
    },
    {
     "data": {
      "application/vnd.jupyter.widget-view+json": {
       "model_id": "75de7cd2126c472ea02aec66e821b436",
       "version_major": 2,
       "version_minor": 0
      },
      "text/plain": [
       "Epoch 29/100 [Training]:   0%|          | 0/4150 [00:00<?, ?it/s]"
      ]
     },
     "metadata": {},
     "output_type": "display_data"
    },
    {
     "data": {
      "application/vnd.jupyter.widget-view+json": {
       "model_id": "73aaebddbd054d82a6b1549a9176c36f",
       "version_major": 2,
       "version_minor": 0
      },
      "text/plain": [
       "Epoch 29/100 [Validation]:   0%|          | 0/1038 [00:00<?, ?it/s]"
      ]
     },
     "metadata": {},
     "output_type": "display_data"
    },
    {
     "name": "stdout",
     "output_type": "stream",
     "text": [
      "\n",
      "--- Epoch 29/100 Summary ---\n",
      "  Train Loss: 0.5451 | Val Loss: 0.3894\n",
      "  Accuracy: 0.8678 | Precision: 0.8678 | Recall: 0.8678 | F1: 0.8678\n",
      "  Learning Rate: 0.000819\n"
     ]
    },
    {
     "data": {
      "application/vnd.jupyter.widget-view+json": {
       "model_id": "a4281fb4a58e4df682a1b346db894049",
       "version_major": 2,
       "version_minor": 0
      },
      "text/plain": [
       "Epoch 30/100 [Training]:   0%|          | 0/4150 [00:00<?, ?it/s]"
      ]
     },
     "metadata": {},
     "output_type": "display_data"
    },
    {
     "data": {
      "application/vnd.jupyter.widget-view+json": {
       "model_id": "86325e952cd0433aa31a071aa436aae1",
       "version_major": 2,
       "version_minor": 0
      },
      "text/plain": [
       "Epoch 30/100 [Validation]:   0%|          | 0/1038 [00:00<?, ?it/s]"
      ]
     },
     "metadata": {},
     "output_type": "display_data"
    },
    {
     "name": "stdout",
     "output_type": "stream",
     "text": [
      "\n",
      "--- Epoch 30/100 Summary ---\n",
      "  Train Loss: 0.5388 | Val Loss: 0.3411\n",
      "  Accuracy: 0.8834 | Precision: 0.8834 | Recall: 0.8834 | F1: 0.8834\n",
      "  Learning Rate: 0.000806\n",
      "  => 🎉 New best model saved to 'F:/Working Sync/LAB projects/InsectSELD/Dataset/checkpoints_tiny\\best_model.pth' (F1: 0.8834)\n",
      "\n"
     ]
    },
    {
     "data": {
      "application/vnd.jupyter.widget-view+json": {
       "model_id": "5f21c19606fe4ea589c10e14bd7181ba",
       "version_major": 2,
       "version_minor": 0
      },
      "text/plain": [
       "Epoch 31/100 [Training]:   0%|          | 0/4150 [00:00<?, ?it/s]"
      ]
     },
     "metadata": {},
     "output_type": "display_data"
    },
    {
     "data": {
      "application/vnd.jupyter.widget-view+json": {
       "model_id": "5b1b3415bd2b4281bc5f299c3f29111c",
       "version_major": 2,
       "version_minor": 0
      },
      "text/plain": [
       "Epoch 31/100 [Validation]:   0%|          | 0/1038 [00:00<?, ?it/s]"
      ]
     },
     "metadata": {},
     "output_type": "display_data"
    },
    {
     "name": "stdout",
     "output_type": "stream",
     "text": [
      "\n",
      "--- Epoch 31/100 Summary ---\n",
      "  Train Loss: 0.5362 | Val Loss: 0.3434\n",
      "  Accuracy: 0.8861 | Precision: 0.8861 | Recall: 0.8861 | F1: 0.8861\n",
      "  Learning Rate: 0.000794\n",
      "  => 🎉 New best model saved to 'F:/Working Sync/LAB projects/InsectSELD/Dataset/checkpoints_tiny\\best_model.pth' (F1: 0.8861)\n",
      "\n"
     ]
    },
    {
     "data": {
      "application/vnd.jupyter.widget-view+json": {
       "model_id": "239c879e4f1643b1a05a5b2f243fbb5e",
       "version_major": 2,
       "version_minor": 0
      },
      "text/plain": [
       "Epoch 32/100 [Training]:   0%|          | 0/4150 [00:00<?, ?it/s]"
      ]
     },
     "metadata": {},
     "output_type": "display_data"
    },
    {
     "data": {
      "application/vnd.jupyter.widget-view+json": {
       "model_id": "249fc66efe524bb6bb4fc77390ff6b10",
       "version_major": 2,
       "version_minor": 0
      },
      "text/plain": [
       "Epoch 32/100 [Validation]:   0%|          | 0/1038 [00:00<?, ?it/s]"
      ]
     },
     "metadata": {},
     "output_type": "display_data"
    },
    {
     "name": "stdout",
     "output_type": "stream",
     "text": [
      "\n",
      "--- Epoch 32/100 Summary ---\n",
      "  Train Loss: 0.5342 | Val Loss: 0.3129\n",
      "  Accuracy: 0.8954 | Precision: 0.8954 | Recall: 0.8954 | F1: 0.8954\n",
      "  Learning Rate: 0.000781\n",
      "  => 🎉 New best model saved to 'F:/Working Sync/LAB projects/InsectSELD/Dataset/checkpoints_tiny\\best_model.pth' (F1: 0.8954)\n",
      "\n"
     ]
    },
    {
     "data": {
      "application/vnd.jupyter.widget-view+json": {
       "model_id": "816cb9b218b44793b4748d22b96c826d",
       "version_major": 2,
       "version_minor": 0
      },
      "text/plain": [
       "Epoch 33/100 [Training]:   0%|          | 0/4150 [00:00<?, ?it/s]"
      ]
     },
     "metadata": {},
     "output_type": "display_data"
    },
    {
     "data": {
      "application/vnd.jupyter.widget-view+json": {
       "model_id": "1c7d3861bcfb462db8a28023a83d26b5",
       "version_major": 2,
       "version_minor": 0
      },
      "text/plain": [
       "Epoch 33/100 [Validation]:   0%|          | 0/1038 [00:00<?, ?it/s]"
      ]
     },
     "metadata": {},
     "output_type": "display_data"
    },
    {
     "name": "stdout",
     "output_type": "stream",
     "text": [
      "\n",
      "--- Epoch 33/100 Summary ---\n",
      "  Train Loss: 0.5341 | Val Loss: 0.3732\n",
      "  Accuracy: 0.8769 | Precision: 0.8769 | Recall: 0.8769 | F1: 0.8769\n",
      "  Learning Rate: 0.000768\n"
     ]
    },
    {
     "data": {
      "application/vnd.jupyter.widget-view+json": {
       "model_id": "76075c33b6ec4dd59ac4710073beb423",
       "version_major": 2,
       "version_minor": 0
      },
      "text/plain": [
       "Epoch 34/100 [Training]:   0%|          | 0/4150 [00:00<?, ?it/s]"
      ]
     },
     "metadata": {},
     "output_type": "display_data"
    },
    {
     "data": {
      "application/vnd.jupyter.widget-view+json": {
       "model_id": "ca0c784f1dd74caba5e9755a44bdf892",
       "version_major": 2,
       "version_minor": 0
      },
      "text/plain": [
       "Epoch 34/100 [Validation]:   0%|          | 0/1038 [00:00<?, ?it/s]"
      ]
     },
     "metadata": {},
     "output_type": "display_data"
    },
    {
     "name": "stdout",
     "output_type": "stream",
     "text": [
      "\n",
      "--- Epoch 34/100 Summary ---\n",
      "  Train Loss: 0.5287 | Val Loss: 0.3042\n",
      "  Accuracy: 0.8953 | Precision: 0.8953 | Recall: 0.8953 | F1: 0.8953\n",
      "  Learning Rate: 0.000755\n"
     ]
    },
    {
     "data": {
      "application/vnd.jupyter.widget-view+json": {
       "model_id": "77cbd326286a4bd5b5af6f2aa83858c4",
       "version_major": 2,
       "version_minor": 0
      },
      "text/plain": [
       "Epoch 35/100 [Training]:   0%|          | 0/4150 [00:00<?, ?it/s]"
      ]
     },
     "metadata": {},
     "output_type": "display_data"
    },
    {
     "data": {
      "application/vnd.jupyter.widget-view+json": {
       "model_id": "55985e6c2733427392ea8cf7a15a1cc0",
       "version_major": 2,
       "version_minor": 0
      },
      "text/plain": [
       "Epoch 35/100 [Validation]:   0%|          | 0/1038 [00:00<?, ?it/s]"
      ]
     },
     "metadata": {},
     "output_type": "display_data"
    },
    {
     "name": "stdout",
     "output_type": "stream",
     "text": [
      "\n",
      "--- Epoch 35/100 Summary ---\n",
      "  Train Loss: 0.5243 | Val Loss: 0.5925\n",
      "  Accuracy: 0.8016 | Precision: 0.8016 | Recall: 0.8016 | F1: 0.8016\n",
      "  Learning Rate: 0.000741\n"
     ]
    },
    {
     "data": {
      "application/vnd.jupyter.widget-view+json": {
       "model_id": "170781b4b32240c1984c21b9483c13dd",
       "version_major": 2,
       "version_minor": 0
      },
      "text/plain": [
       "Epoch 36/100 [Training]:   0%|          | 0/4150 [00:00<?, ?it/s]"
      ]
     },
     "metadata": {},
     "output_type": "display_data"
    },
    {
     "data": {
      "application/vnd.jupyter.widget-view+json": {
       "model_id": "87f5552367f840f68b695c2196ea7d89",
       "version_major": 2,
       "version_minor": 0
      },
      "text/plain": [
       "Epoch 36/100 [Validation]:   0%|          | 0/1038 [00:00<?, ?it/s]"
      ]
     },
     "metadata": {},
     "output_type": "display_data"
    },
    {
     "name": "stdout",
     "output_type": "stream",
     "text": [
      "\n",
      "--- Epoch 36/100 Summary ---\n",
      "  Train Loss: 0.5237 | Val Loss: 0.2959\n",
      "  Accuracy: 0.8948 | Precision: 0.8948 | Recall: 0.8948 | F1: 0.8948\n",
      "  Learning Rate: 0.000727\n"
     ]
    },
    {
     "data": {
      "application/vnd.jupyter.widget-view+json": {
       "model_id": "a47867a756e247c2bcfdc0478297e88a",
       "version_major": 2,
       "version_minor": 0
      },
      "text/plain": [
       "Epoch 37/100 [Training]:   0%|          | 0/4150 [00:00<?, ?it/s]"
      ]
     },
     "metadata": {},
     "output_type": "display_data"
    },
    {
     "data": {
      "application/vnd.jupyter.widget-view+json": {
       "model_id": "33ad87a194cd462f9d550a2bbd57c658",
       "version_major": 2,
       "version_minor": 0
      },
      "text/plain": [
       "Epoch 37/100 [Validation]:   0%|          | 0/1038 [00:00<?, ?it/s]"
      ]
     },
     "metadata": {},
     "output_type": "display_data"
    },
    {
     "name": "stdout",
     "output_type": "stream",
     "text": [
      "\n",
      "--- Epoch 37/100 Summary ---\n",
      "  Train Loss: 0.5281 | Val Loss: 0.3139\n",
      "  Accuracy: 0.8920 | Precision: 0.8920 | Recall: 0.8920 | F1: 0.8920\n",
      "  Learning Rate: 0.000713\n"
     ]
    },
    {
     "data": {
      "application/vnd.jupyter.widget-view+json": {
       "model_id": "9ec5748797d8422cb8baaa111a27d4ed",
       "version_major": 2,
       "version_minor": 0
      },
      "text/plain": [
       "Epoch 38/100 [Training]:   0%|          | 0/4150 [00:00<?, ?it/s]"
      ]
     },
     "metadata": {},
     "output_type": "display_data"
    },
    {
     "data": {
      "application/vnd.jupyter.widget-view+json": {
       "model_id": "121a1a80e8d54942aba7bd964ba945f4",
       "version_major": 2,
       "version_minor": 0
      },
      "text/plain": [
       "Epoch 38/100 [Validation]:   0%|          | 0/1038 [00:00<?, ?it/s]"
      ]
     },
     "metadata": {},
     "output_type": "display_data"
    },
    {
     "name": "stdout",
     "output_type": "stream",
     "text": [
      "\n",
      "--- Epoch 38/100 Summary ---\n",
      "  Train Loss: 0.5184 | Val Loss: 0.5420\n",
      "  Accuracy: 0.8159 | Precision: 0.8159 | Recall: 0.8159 | F1: 0.8159\n",
      "  Learning Rate: 0.000699\n"
     ]
    },
    {
     "data": {
      "application/vnd.jupyter.widget-view+json": {
       "model_id": "4818e7b1da8049c787d6054c6ad3b1ec",
       "version_major": 2,
       "version_minor": 0
      },
      "text/plain": [
       "Epoch 39/100 [Training]:   0%|          | 0/4150 [00:00<?, ?it/s]"
      ]
     },
     "metadata": {},
     "output_type": "display_data"
    },
    {
     "data": {
      "application/vnd.jupyter.widget-view+json": {
       "model_id": "403557a193e34646a9a8070b2f4331a1",
       "version_major": 2,
       "version_minor": 0
      },
      "text/plain": [
       "Epoch 39/100 [Validation]:   0%|          | 0/1038 [00:00<?, ?it/s]"
      ]
     },
     "metadata": {},
     "output_type": "display_data"
    },
    {
     "name": "stdout",
     "output_type": "stream",
     "text": [
      "\n",
      "--- Epoch 39/100 Summary ---\n",
      "  Train Loss: 0.5227 | Val Loss: 0.3463\n",
      "  Accuracy: 0.8820 | Precision: 0.8820 | Recall: 0.8820 | F1: 0.8820\n",
      "  Learning Rate: 0.000684\n"
     ]
    },
    {
     "data": {
      "application/vnd.jupyter.widget-view+json": {
       "model_id": "77940d4e24fd465d93d2ad0ee14e60c3",
       "version_major": 2,
       "version_minor": 0
      },
      "text/plain": [
       "Epoch 40/100 [Training]:   0%|          | 0/4150 [00:00<?, ?it/s]"
      ]
     },
     "metadata": {},
     "output_type": "display_data"
    },
    {
     "data": {
      "application/vnd.jupyter.widget-view+json": {
       "model_id": "319b6bb3793345adbb54d08487b074d3",
       "version_major": 2,
       "version_minor": 0
      },
      "text/plain": [
       "Epoch 40/100 [Validation]:   0%|          | 0/1038 [00:00<?, ?it/s]"
      ]
     },
     "metadata": {},
     "output_type": "display_data"
    },
    {
     "name": "stdout",
     "output_type": "stream",
     "text": [
      "\n",
      "--- Epoch 40/100 Summary ---\n",
      "  Train Loss: 0.5158 | Val Loss: 0.3133\n",
      "  Accuracy: 0.8947 | Precision: 0.8947 | Recall: 0.8947 | F1: 0.8947\n",
      "  Learning Rate: 0.000669\n"
     ]
    },
    {
     "data": {
      "application/vnd.jupyter.widget-view+json": {
       "model_id": "0ca1d851833f48239113b1d4555209e0",
       "version_major": 2,
       "version_minor": 0
      },
      "text/plain": [
       "Epoch 41/100 [Training]:   0%|          | 0/4150 [00:00<?, ?it/s]"
      ]
     },
     "metadata": {},
     "output_type": "display_data"
    },
    {
     "data": {
      "application/vnd.jupyter.widget-view+json": {
       "model_id": "8d68d3aeb24b4289918518d841efbc46",
       "version_major": 2,
       "version_minor": 0
      },
      "text/plain": [
       "Epoch 41/100 [Validation]:   0%|          | 0/1038 [00:00<?, ?it/s]"
      ]
     },
     "metadata": {},
     "output_type": "display_data"
    },
    {
     "name": "stdout",
     "output_type": "stream",
     "text": [
      "\n",
      "--- Epoch 41/100 Summary ---\n",
      "  Train Loss: 0.4939 | Val Loss: 0.3052\n",
      "  Accuracy: 0.8963 | Precision: 0.8963 | Recall: 0.8963 | F1: 0.8963\n",
      "  Learning Rate: 0.000655\n",
      "  => 🎉 New best model saved to 'F:/Working Sync/LAB projects/InsectSELD/Dataset/checkpoints_tiny\\best_model.pth' (F1: 0.8963)\n",
      "\n"
     ]
    },
    {
     "data": {
      "application/vnd.jupyter.widget-view+json": {
       "model_id": "987eaab5b86247c39febedeb74c685e8",
       "version_major": 2,
       "version_minor": 0
      },
      "text/plain": [
       "Epoch 42/100 [Training]:   0%|          | 0/4150 [00:00<?, ?it/s]"
      ]
     },
     "metadata": {},
     "output_type": "display_data"
    },
    {
     "data": {
      "application/vnd.jupyter.widget-view+json": {
       "model_id": "8e2008f138054365881aa633d285e28f",
       "version_major": 2,
       "version_minor": 0
      },
      "text/plain": [
       "Epoch 42/100 [Validation]:   0%|          | 0/1038 [00:00<?, ?it/s]"
      ]
     },
     "metadata": {},
     "output_type": "display_data"
    },
    {
     "name": "stdout",
     "output_type": "stream",
     "text": [
      "\n",
      "--- Epoch 42/100 Summary ---\n",
      "  Train Loss: 0.5028 | Val Loss: 0.3173\n",
      "  Accuracy: 0.8916 | Precision: 0.8916 | Recall: 0.8916 | F1: 0.8916\n",
      "  Learning Rate: 0.000639\n"
     ]
    },
    {
     "data": {
      "application/vnd.jupyter.widget-view+json": {
       "model_id": "860f2ea38fc548a38c94caeeb54d95f5",
       "version_major": 2,
       "version_minor": 0
      },
      "text/plain": [
       "Epoch 43/100 [Training]:   0%|          | 0/4150 [00:00<?, ?it/s]"
      ]
     },
     "metadata": {},
     "output_type": "display_data"
    },
    {
     "data": {
      "application/vnd.jupyter.widget-view+json": {
       "model_id": "232965500a8449868ef220abc42d7a47",
       "version_major": 2,
       "version_minor": 0
      },
      "text/plain": [
       "Epoch 43/100 [Validation]:   0%|          | 0/1038 [00:00<?, ?it/s]"
      ]
     },
     "metadata": {},
     "output_type": "display_data"
    },
    {
     "name": "stdout",
     "output_type": "stream",
     "text": [
      "\n",
      "--- Epoch 43/100 Summary ---\n",
      "  Train Loss: 0.5008 | Val Loss: 0.3205\n",
      "  Accuracy: 0.8980 | Precision: 0.8980 | Recall: 0.8980 | F1: 0.8980\n",
      "  Learning Rate: 0.000624\n",
      "  => 🎉 New best model saved to 'F:/Working Sync/LAB projects/InsectSELD/Dataset/checkpoints_tiny\\best_model.pth' (F1: 0.8980)\n",
      "\n"
     ]
    },
    {
     "data": {
      "application/vnd.jupyter.widget-view+json": {
       "model_id": "9cd200266fcc497cb4092ea6b7c2fe79",
       "version_major": 2,
       "version_minor": 0
      },
      "text/plain": [
       "Epoch 44/100 [Training]:   0%|          | 0/4150 [00:00<?, ?it/s]"
      ]
     },
     "metadata": {},
     "output_type": "display_data"
    },
    {
     "data": {
      "application/vnd.jupyter.widget-view+json": {
       "model_id": "9d5acb11281b4f5f9743c7f2a891bf9a",
       "version_major": 2,
       "version_minor": 0
      },
      "text/plain": [
       "Epoch 44/100 [Validation]:   0%|          | 0/1038 [00:00<?, ?it/s]"
      ]
     },
     "metadata": {},
     "output_type": "display_data"
    },
    {
     "name": "stdout",
     "output_type": "stream",
     "text": [
      "\n",
      "--- Epoch 44/100 Summary ---\n",
      "  Train Loss: 0.5035 | Val Loss: 0.4094\n",
      "  Accuracy: 0.8650 | Precision: 0.8650 | Recall: 0.8650 | F1: 0.8650\n",
      "  Learning Rate: 0.000609\n"
     ]
    },
    {
     "data": {
      "application/vnd.jupyter.widget-view+json": {
       "model_id": "ab695e09afc447c59af38b6c9f5fc616",
       "version_major": 2,
       "version_minor": 0
      },
      "text/plain": [
       "Epoch 45/100 [Training]:   0%|          | 0/4150 [00:00<?, ?it/s]"
      ]
     },
     "metadata": {},
     "output_type": "display_data"
    },
    {
     "data": {
      "application/vnd.jupyter.widget-view+json": {
       "model_id": "e5dce5194dec4bafb3b0e448971dfd16",
       "version_major": 2,
       "version_minor": 0
      },
      "text/plain": [
       "Epoch 45/100 [Validation]:   0%|          | 0/1038 [00:00<?, ?it/s]"
      ]
     },
     "metadata": {},
     "output_type": "display_data"
    },
    {
     "name": "stdout",
     "output_type": "stream",
     "text": [
      "\n",
      "--- Epoch 45/100 Summary ---\n",
      "  Train Loss: 0.4938 | Val Loss: 0.3208\n",
      "  Accuracy: 0.8917 | Precision: 0.8917 | Recall: 0.8917 | F1: 0.8917\n",
      "  Learning Rate: 0.000594\n"
     ]
    },
    {
     "data": {
      "application/vnd.jupyter.widget-view+json": {
       "model_id": "e3d572af3eef4ee8ab064020cc1f3a7e",
       "version_major": 2,
       "version_minor": 0
      },
      "text/plain": [
       "Epoch 46/100 [Training]:   0%|          | 0/4150 [00:00<?, ?it/s]"
      ]
     },
     "metadata": {},
     "output_type": "display_data"
    },
    {
     "data": {
      "application/vnd.jupyter.widget-view+json": {
       "model_id": "d55b5c3f3ca84dd8a03c32a27b7e1946",
       "version_major": 2,
       "version_minor": 0
      },
      "text/plain": [
       "Epoch 46/100 [Validation]:   0%|          | 0/1038 [00:00<?, ?it/s]"
      ]
     },
     "metadata": {},
     "output_type": "display_data"
    },
    {
     "name": "stdout",
     "output_type": "stream",
     "text": [
      "\n",
      "--- Epoch 46/100 Summary ---\n",
      "  Train Loss: 0.5033 | Val Loss: 0.2987\n",
      "  Accuracy: 0.8988 | Precision: 0.8988 | Recall: 0.8988 | F1: 0.8988\n",
      "  Learning Rate: 0.000578\n",
      "  => 🎉 New best model saved to 'F:/Working Sync/LAB projects/InsectSELD/Dataset/checkpoints_tiny\\best_model.pth' (F1: 0.8988)\n",
      "\n"
     ]
    },
    {
     "data": {
      "application/vnd.jupyter.widget-view+json": {
       "model_id": "ca357c33e65f482b853e3d093fe778bc",
       "version_major": 2,
       "version_minor": 0
      },
      "text/plain": [
       "Epoch 47/100 [Training]:   0%|          | 0/4150 [00:00<?, ?it/s]"
      ]
     },
     "metadata": {},
     "output_type": "display_data"
    },
    {
     "data": {
      "application/vnd.jupyter.widget-view+json": {
       "model_id": "189fc81afa1d4d43bafbdcfe32176744",
       "version_major": 2,
       "version_minor": 0
      },
      "text/plain": [
       "Epoch 47/100 [Validation]:   0%|          | 0/1038 [00:00<?, ?it/s]"
      ]
     },
     "metadata": {},
     "output_type": "display_data"
    },
    {
     "name": "stdout",
     "output_type": "stream",
     "text": [
      "\n",
      "--- Epoch 47/100 Summary ---\n",
      "  Train Loss: 0.4921 | Val Loss: 0.5531\n",
      "  Accuracy: 0.8057 | Precision: 0.8057 | Recall: 0.8057 | F1: 0.8057\n",
      "  Learning Rate: 0.000563\n"
     ]
    },
    {
     "data": {
      "application/vnd.jupyter.widget-view+json": {
       "model_id": "694ffaabcdf14805854f8af5e32cc32d",
       "version_major": 2,
       "version_minor": 0
      },
      "text/plain": [
       "Epoch 48/100 [Training]:   0%|          | 0/4150 [00:00<?, ?it/s]"
      ]
     },
     "metadata": {},
     "output_type": "display_data"
    },
    {
     "data": {
      "application/vnd.jupyter.widget-view+json": {
       "model_id": "8dbd518b8512446ba7494af4db150ff4",
       "version_major": 2,
       "version_minor": 0
      },
      "text/plain": [
       "Epoch 48/100 [Validation]:   0%|          | 0/1038 [00:00<?, ?it/s]"
      ]
     },
     "metadata": {},
     "output_type": "display_data"
    },
    {
     "name": "stdout",
     "output_type": "stream",
     "text": [
      "\n",
      "--- Epoch 48/100 Summary ---\n",
      "  Train Loss: 0.4989 | Val Loss: 0.3656\n",
      "  Accuracy: 0.8747 | Precision: 0.8747 | Recall: 0.8747 | F1: 0.8747\n",
      "  Learning Rate: 0.000547\n"
     ]
    },
    {
     "data": {
      "application/vnd.jupyter.widget-view+json": {
       "model_id": "15ec061013954e7c956dfc755cb94346",
       "version_major": 2,
       "version_minor": 0
      },
      "text/plain": [
       "Epoch 49/100 [Training]:   0%|          | 0/4150 [00:00<?, ?it/s]"
      ]
     },
     "metadata": {},
     "output_type": "display_data"
    },
    {
     "data": {
      "application/vnd.jupyter.widget-view+json": {
       "model_id": "294716d2c9504f4890d293d54d665532",
       "version_major": 2,
       "version_minor": 0
      },
      "text/plain": [
       "Epoch 49/100 [Validation]:   0%|          | 0/1038 [00:00<?, ?it/s]"
      ]
     },
     "metadata": {},
     "output_type": "display_data"
    },
    {
     "name": "stdout",
     "output_type": "stream",
     "text": [
      "\n",
      "--- Epoch 49/100 Summary ---\n",
      "  Train Loss: 0.4952 | Val Loss: 0.2807\n",
      "  Accuracy: 0.9026 | Precision: 0.9026 | Recall: 0.9026 | F1: 0.9026\n",
      "  Learning Rate: 0.000531\n",
      "  => 🎉 New best model saved to 'F:/Working Sync/LAB projects/InsectSELD/Dataset/checkpoints_tiny\\best_model.pth' (F1: 0.9026)\n",
      "\n"
     ]
    },
    {
     "data": {
      "application/vnd.jupyter.widget-view+json": {
       "model_id": "1748098000034fa0b6683eaf368f5329",
       "version_major": 2,
       "version_minor": 0
      },
      "text/plain": [
       "Epoch 50/100 [Training]:   0%|          | 0/4150 [00:00<?, ?it/s]"
      ]
     },
     "metadata": {},
     "output_type": "display_data"
    },
    {
     "data": {
      "application/vnd.jupyter.widget-view+json": {
       "model_id": "755f956bedc543c68dac7528acb45fc6",
       "version_major": 2,
       "version_minor": 0
      },
      "text/plain": [
       "Epoch 50/100 [Validation]:   0%|          | 0/1038 [00:00<?, ?it/s]"
      ]
     },
     "metadata": {},
     "output_type": "display_data"
    },
    {
     "name": "stdout",
     "output_type": "stream",
     "text": [
      "\n",
      "--- Epoch 50/100 Summary ---\n",
      "  Train Loss: 0.4935 | Val Loss: 0.2990\n",
      "  Accuracy: 0.8995 | Precision: 0.8995 | Recall: 0.8995 | F1: 0.8995\n",
      "  Learning Rate: 0.000516\n"
     ]
    },
    {
     "data": {
      "application/vnd.jupyter.widget-view+json": {
       "model_id": "8a5cc61231ce4c80ae3585ac5c35c767",
       "version_major": 2,
       "version_minor": 0
      },
      "text/plain": [
       "Epoch 51/100 [Training]:   0%|          | 0/4150 [00:00<?, ?it/s]"
      ]
     },
     "metadata": {},
     "output_type": "display_data"
    },
    {
     "data": {
      "application/vnd.jupyter.widget-view+json": {
       "model_id": "658fa2205b6a4735b7ca0e6b43066f64",
       "version_major": 2,
       "version_minor": 0
      },
      "text/plain": [
       "Epoch 51/100 [Validation]:   0%|          | 0/1038 [00:00<?, ?it/s]"
      ]
     },
     "metadata": {},
     "output_type": "display_data"
    },
    {
     "name": "stdout",
     "output_type": "stream",
     "text": [
      "\n",
      "--- Epoch 51/100 Summary ---\n",
      "  Train Loss: 0.4831 | Val Loss: 0.3036\n",
      "  Accuracy: 0.8947 | Precision: 0.8947 | Recall: 0.8947 | F1: 0.8947\n",
      "  Learning Rate: 0.000500\n"
     ]
    },
    {
     "data": {
      "application/vnd.jupyter.widget-view+json": {
       "model_id": "b5d488e063034a199b9fa0746b7c1bfb",
       "version_major": 2,
       "version_minor": 0
      },
      "text/plain": [
       "Epoch 52/100 [Training]:   0%|          | 0/4150 [00:00<?, ?it/s]"
      ]
     },
     "metadata": {},
     "output_type": "display_data"
    },
    {
     "data": {
      "application/vnd.jupyter.widget-view+json": {
       "model_id": "cd71aeae4b2c4893acf74cbbceea9e8b",
       "version_major": 2,
       "version_minor": 0
      },
      "text/plain": [
       "Epoch 52/100 [Validation]:   0%|          | 0/1038 [00:00<?, ?it/s]"
      ]
     },
     "metadata": {},
     "output_type": "display_data"
    },
    {
     "name": "stdout",
     "output_type": "stream",
     "text": [
      "\n",
      "--- Epoch 52/100 Summary ---\n",
      "  Train Loss: 0.4856 | Val Loss: 0.2752\n",
      "  Accuracy: 0.9041 | Precision: 0.9041 | Recall: 0.9041 | F1: 0.9041\n",
      "  Learning Rate: 0.000484\n",
      "  => 🎉 New best model saved to 'F:/Working Sync/LAB projects/InsectSELD/Dataset/checkpoints_tiny\\best_model.pth' (F1: 0.9041)\n",
      "\n"
     ]
    },
    {
     "data": {
      "application/vnd.jupyter.widget-view+json": {
       "model_id": "768b46da9d644da3a5009860218d2026",
       "version_major": 2,
       "version_minor": 0
      },
      "text/plain": [
       "Epoch 53/100 [Training]:   0%|          | 0/4150 [00:00<?, ?it/s]"
      ]
     },
     "metadata": {},
     "output_type": "display_data"
    },
    {
     "data": {
      "application/vnd.jupyter.widget-view+json": {
       "model_id": "b4ee7b21923649299188da83c4930d57",
       "version_major": 2,
       "version_minor": 0
      },
      "text/plain": [
       "Epoch 53/100 [Validation]:   0%|          | 0/1038 [00:00<?, ?it/s]"
      ]
     },
     "metadata": {},
     "output_type": "display_data"
    },
    {
     "name": "stdout",
     "output_type": "stream",
     "text": [
      "\n",
      "--- Epoch 53/100 Summary ---\n",
      "  Train Loss: 0.4894 | Val Loss: 0.3232\n",
      "  Accuracy: 0.8918 | Precision: 0.8918 | Recall: 0.8918 | F1: 0.8918\n",
      "  Learning Rate: 0.000469\n"
     ]
    },
    {
     "data": {
      "application/vnd.jupyter.widget-view+json": {
       "model_id": "f19a47614b314f24860825caee40c983",
       "version_major": 2,
       "version_minor": 0
      },
      "text/plain": [
       "Epoch 54/100 [Training]:   0%|          | 0/4150 [00:00<?, ?it/s]"
      ]
     },
     "metadata": {},
     "output_type": "display_data"
    },
    {
     "data": {
      "application/vnd.jupyter.widget-view+json": {
       "model_id": "ef619b987592419ba3024bcc88acfc4e",
       "version_major": 2,
       "version_minor": 0
      },
      "text/plain": [
       "Epoch 54/100 [Validation]:   0%|          | 0/1038 [00:00<?, ?it/s]"
      ]
     },
     "metadata": {},
     "output_type": "display_data"
    },
    {
     "name": "stdout",
     "output_type": "stream",
     "text": [
      "\n",
      "--- Epoch 54/100 Summary ---\n",
      "  Train Loss: 0.4907 | Val Loss: 0.3149\n",
      "  Accuracy: 0.8921 | Precision: 0.8921 | Recall: 0.8921 | F1: 0.8921\n",
      "  Learning Rate: 0.000453\n"
     ]
    },
    {
     "data": {
      "application/vnd.jupyter.widget-view+json": {
       "model_id": "cce6676ae4e34131b667f8781f5c01d2",
       "version_major": 2,
       "version_minor": 0
      },
      "text/plain": [
       "Epoch 55/100 [Training]:   0%|          | 0/4150 [00:00<?, ?it/s]"
      ]
     },
     "metadata": {},
     "output_type": "display_data"
    },
    {
     "data": {
      "application/vnd.jupyter.widget-view+json": {
       "model_id": "08dec143bc1243cb8dae1cd5114ce41b",
       "version_major": 2,
       "version_minor": 0
      },
      "text/plain": [
       "Epoch 55/100 [Validation]:   0%|          | 0/1038 [00:00<?, ?it/s]"
      ]
     },
     "metadata": {},
     "output_type": "display_data"
    },
    {
     "name": "stdout",
     "output_type": "stream",
     "text": [
      "\n",
      "--- Epoch 55/100 Summary ---\n",
      "  Train Loss: 0.4714 | Val Loss: 0.3445\n",
      "  Accuracy: 0.8805 | Precision: 0.8805 | Recall: 0.8805 | F1: 0.8805\n",
      "  Learning Rate: 0.000437\n"
     ]
    },
    {
     "data": {
      "application/vnd.jupyter.widget-view+json": {
       "model_id": "3f5cf2b8ba284a5eb3e29fd8bdda06f0",
       "version_major": 2,
       "version_minor": 0
      },
      "text/plain": [
       "Epoch 56/100 [Training]:   0%|          | 0/4150 [00:00<?, ?it/s]"
      ]
     },
     "metadata": {},
     "output_type": "display_data"
    },
    {
     "data": {
      "application/vnd.jupyter.widget-view+json": {
       "model_id": "35023dcb90204639ba1e5f3bb9b02cec",
       "version_major": 2,
       "version_minor": 0
      },
      "text/plain": [
       "Epoch 56/100 [Validation]:   0%|          | 0/1038 [00:00<?, ?it/s]"
      ]
     },
     "metadata": {},
     "output_type": "display_data"
    },
    {
     "name": "stdout",
     "output_type": "stream",
     "text": [
      "\n",
      "--- Epoch 56/100 Summary ---\n",
      "  Train Loss: 0.4698 | Val Loss: 0.2872\n",
      "  Accuracy: 0.8999 | Precision: 0.8999 | Recall: 0.8999 | F1: 0.8999\n",
      "  Learning Rate: 0.000422\n"
     ]
    },
    {
     "data": {
      "application/vnd.jupyter.widget-view+json": {
       "model_id": "94d40ed19e974fa382c56849bdb7ecc5",
       "version_major": 2,
       "version_minor": 0
      },
      "text/plain": [
       "Epoch 57/100 [Training]:   0%|          | 0/4150 [00:00<?, ?it/s]"
      ]
     },
     "metadata": {},
     "output_type": "display_data"
    },
    {
     "data": {
      "application/vnd.jupyter.widget-view+json": {
       "model_id": "8c0e0367f2d3483385ef32ea5c6f219e",
       "version_major": 2,
       "version_minor": 0
      },
      "text/plain": [
       "Epoch 57/100 [Validation]:   0%|          | 0/1038 [00:00<?, ?it/s]"
      ]
     },
     "metadata": {},
     "output_type": "display_data"
    },
    {
     "name": "stdout",
     "output_type": "stream",
     "text": [
      "\n",
      "--- Epoch 57/100 Summary ---\n",
      "  Train Loss: 0.4700 | Val Loss: 0.3007\n",
      "  Accuracy: 0.8985 | Precision: 0.8985 | Recall: 0.8985 | F1: 0.8985\n",
      "  Learning Rate: 0.000406\n"
     ]
    },
    {
     "data": {
      "application/vnd.jupyter.widget-view+json": {
       "model_id": "0d3dd014adc04dd6bbefd06d3a20989d",
       "version_major": 2,
       "version_minor": 0
      },
      "text/plain": [
       "Epoch 58/100 [Training]:   0%|          | 0/4150 [00:00<?, ?it/s]"
      ]
     },
     "metadata": {},
     "output_type": "display_data"
    },
    {
     "data": {
      "application/vnd.jupyter.widget-view+json": {
       "model_id": "1ee9f944d5564a8498de1bc60873f5b7",
       "version_major": 2,
       "version_minor": 0
      },
      "text/plain": [
       "Epoch 58/100 [Validation]:   0%|          | 0/1038 [00:00<?, ?it/s]"
      ]
     },
     "metadata": {},
     "output_type": "display_data"
    },
    {
     "name": "stdout",
     "output_type": "stream",
     "text": [
      "\n",
      "--- Epoch 58/100 Summary ---\n",
      "  Train Loss: 0.4635 | Val Loss: 0.4054\n",
      "  Accuracy: 0.8632 | Precision: 0.8632 | Recall: 0.8632 | F1: 0.8632\n",
      "  Learning Rate: 0.000391\n"
     ]
    },
    {
     "data": {
      "application/vnd.jupyter.widget-view+json": {
       "model_id": "fbdd4517b84647c6b419053b48e4dd11",
       "version_major": 2,
       "version_minor": 0
      },
      "text/plain": [
       "Epoch 59/100 [Training]:   0%|          | 0/4150 [00:00<?, ?it/s]"
      ]
     },
     "metadata": {},
     "output_type": "display_data"
    },
    {
     "data": {
      "application/vnd.jupyter.widget-view+json": {
       "model_id": "fe7b51a2b44c44da9a77f900e20a171f",
       "version_major": 2,
       "version_minor": 0
      },
      "text/plain": [
       "Epoch 59/100 [Validation]:   0%|          | 0/1038 [00:00<?, ?it/s]"
      ]
     },
     "metadata": {},
     "output_type": "display_data"
    },
    {
     "name": "stdout",
     "output_type": "stream",
     "text": [
      "\n",
      "--- Epoch 59/100 Summary ---\n",
      "  Train Loss: 0.4602 | Val Loss: 0.3242\n",
      "  Accuracy: 0.8902 | Precision: 0.8902 | Recall: 0.8902 | F1: 0.8902\n",
      "  Learning Rate: 0.000376\n"
     ]
    },
    {
     "data": {
      "application/vnd.jupyter.widget-view+json": {
       "model_id": "53fc5b880ecb4faf908c3d49c53805e3",
       "version_major": 2,
       "version_minor": 0
      },
      "text/plain": [
       "Epoch 60/100 [Training]:   0%|          | 0/4150 [00:00<?, ?it/s]"
      ]
     },
     "metadata": {},
     "output_type": "display_data"
    },
    {
     "data": {
      "application/vnd.jupyter.widget-view+json": {
       "model_id": "a3c69fed91f146e0bd99e43c5538af4d",
       "version_major": 2,
       "version_minor": 0
      },
      "text/plain": [
       "Epoch 60/100 [Validation]:   0%|          | 0/1038 [00:00<?, ?it/s]"
      ]
     },
     "metadata": {},
     "output_type": "display_data"
    },
    {
     "name": "stdout",
     "output_type": "stream",
     "text": [
      "\n",
      "--- Epoch 60/100 Summary ---\n",
      "  Train Loss: 0.4711 | Val Loss: 0.2778\n",
      "  Accuracy: 0.9037 | Precision: 0.9037 | Recall: 0.9037 | F1: 0.9037\n",
      "  Learning Rate: 0.000361\n"
     ]
    },
    {
     "data": {
      "application/vnd.jupyter.widget-view+json": {
       "model_id": "a878480f4daa4057a8d525cf9ba32487",
       "version_major": 2,
       "version_minor": 0
      },
      "text/plain": [
       "Epoch 61/100 [Training]:   0%|          | 0/4150 [00:00<?, ?it/s]"
      ]
     },
     "metadata": {},
     "output_type": "display_data"
    },
    {
     "data": {
      "application/vnd.jupyter.widget-view+json": {
       "model_id": "b724ad5fb4144af3aec2f6d45a4f503a",
       "version_major": 2,
       "version_minor": 0
      },
      "text/plain": [
       "Epoch 61/100 [Validation]:   0%|          | 0/1038 [00:00<?, ?it/s]"
      ]
     },
     "metadata": {},
     "output_type": "display_data"
    },
    {
     "name": "stdout",
     "output_type": "stream",
     "text": [
      "\n",
      "--- Epoch 61/100 Summary ---\n",
      "  Train Loss: 0.4730 | Val Loss: 0.2807\n",
      "  Accuracy: 0.9031 | Precision: 0.9031 | Recall: 0.9031 | F1: 0.9031\n",
      "  Learning Rate: 0.000345\n"
     ]
    },
    {
     "data": {
      "application/vnd.jupyter.widget-view+json": {
       "model_id": "e8795b6eed9744c3963cc70dd9324ddc",
       "version_major": 2,
       "version_minor": 0
      },
      "text/plain": [
       "Epoch 62/100 [Training]:   0%|          | 0/4150 [00:00<?, ?it/s]"
      ]
     },
     "metadata": {},
     "output_type": "display_data"
    },
    {
     "data": {
      "application/vnd.jupyter.widget-view+json": {
       "model_id": "cdb7c3b7513e449ab8996badcf469a96",
       "version_major": 2,
       "version_minor": 0
      },
      "text/plain": [
       "Epoch 62/100 [Validation]:   0%|          | 0/1038 [00:00<?, ?it/s]"
      ]
     },
     "metadata": {},
     "output_type": "display_data"
    },
    {
     "name": "stdout",
     "output_type": "stream",
     "text": [
      "\n",
      "--- Epoch 62/100 Summary ---\n",
      "  Train Loss: 0.4529 | Val Loss: 0.2883\n",
      "  Accuracy: 0.9018 | Precision: 0.9018 | Recall: 0.9018 | F1: 0.9018\n",
      "  Learning Rate: 0.000331\n"
     ]
    },
    {
     "data": {
      "application/vnd.jupyter.widget-view+json": {
       "model_id": "41bbfca978e24a59a8fd98d4c3a87977",
       "version_major": 2,
       "version_minor": 0
      },
      "text/plain": [
       "Epoch 63/100 [Training]:   0%|          | 0/4150 [00:00<?, ?it/s]"
      ]
     },
     "metadata": {},
     "output_type": "display_data"
    },
    {
     "data": {
      "application/vnd.jupyter.widget-view+json": {
       "model_id": "8bbb50976b654489a28520428c75d450",
       "version_major": 2,
       "version_minor": 0
      },
      "text/plain": [
       "Epoch 63/100 [Validation]:   0%|          | 0/1038 [00:00<?, ?it/s]"
      ]
     },
     "metadata": {},
     "output_type": "display_data"
    },
    {
     "name": "stdout",
     "output_type": "stream",
     "text": [
      "\n",
      "--- Epoch 63/100 Summary ---\n",
      "  Train Loss: 0.4545 | Val Loss: 0.2769\n",
      "  Accuracy: 0.9061 | Precision: 0.9061 | Recall: 0.9061 | F1: 0.9061\n",
      "  Learning Rate: 0.000316\n",
      "  => 🎉 New best model saved to 'F:/Working Sync/LAB projects/InsectSELD/Dataset/checkpoints_tiny\\best_model.pth' (F1: 0.9061)\n",
      "\n"
     ]
    },
    {
     "data": {
      "application/vnd.jupyter.widget-view+json": {
       "model_id": "41845b09def54fe1a677c74b3362d5c8",
       "version_major": 2,
       "version_minor": 0
      },
      "text/plain": [
       "Epoch 64/100 [Training]:   0%|          | 0/4150 [00:00<?, ?it/s]"
      ]
     },
     "metadata": {},
     "output_type": "display_data"
    },
    {
     "data": {
      "application/vnd.jupyter.widget-view+json": {
       "model_id": "a6f905ddc6a04e288fac6723783fbc12",
       "version_major": 2,
       "version_minor": 0
      },
      "text/plain": [
       "Epoch 64/100 [Validation]:   0%|          | 0/1038 [00:00<?, ?it/s]"
      ]
     },
     "metadata": {},
     "output_type": "display_data"
    },
    {
     "name": "stdout",
     "output_type": "stream",
     "text": [
      "\n",
      "--- Epoch 64/100 Summary ---\n",
      "  Train Loss: 0.4636 | Val Loss: 0.3117\n",
      "  Accuracy: 0.8941 | Precision: 0.8941 | Recall: 0.8941 | F1: 0.8941\n",
      "  Learning Rate: 0.000301\n"
     ]
    },
    {
     "data": {
      "application/vnd.jupyter.widget-view+json": {
       "model_id": "16960acebf6f420f92a66eb3b795bdc7",
       "version_major": 2,
       "version_minor": 0
      },
      "text/plain": [
       "Epoch 65/100 [Training]:   0%|          | 0/4150 [00:00<?, ?it/s]"
      ]
     },
     "metadata": {},
     "output_type": "display_data"
    },
    {
     "data": {
      "application/vnd.jupyter.widget-view+json": {
       "model_id": "6184d62861b740b4b124e83867d27bc8",
       "version_major": 2,
       "version_minor": 0
      },
      "text/plain": [
       "Epoch 65/100 [Validation]:   0%|          | 0/1038 [00:00<?, ?it/s]"
      ]
     },
     "metadata": {},
     "output_type": "display_data"
    },
    {
     "name": "stdout",
     "output_type": "stream",
     "text": [
      "\n",
      "--- Epoch 65/100 Summary ---\n",
      "  Train Loss: 0.4464 | Val Loss: 0.2854\n",
      "  Accuracy: 0.9026 | Precision: 0.9026 | Recall: 0.9026 | F1: 0.9026\n",
      "  Learning Rate: 0.000287\n"
     ]
    },
    {
     "data": {
      "application/vnd.jupyter.widget-view+json": {
       "model_id": "9a095354988d49968613b8cda194a745",
       "version_major": 2,
       "version_minor": 0
      },
      "text/plain": [
       "Epoch 66/100 [Training]:   0%|          | 0/4150 [00:00<?, ?it/s]"
      ]
     },
     "metadata": {},
     "output_type": "display_data"
    },
    {
     "data": {
      "application/vnd.jupyter.widget-view+json": {
       "model_id": "cd492dd009894c0c9f0cd07f5758d16c",
       "version_major": 2,
       "version_minor": 0
      },
      "text/plain": [
       "Epoch 66/100 [Validation]:   0%|          | 0/1038 [00:00<?, ?it/s]"
      ]
     },
     "metadata": {},
     "output_type": "display_data"
    },
    {
     "name": "stdout",
     "output_type": "stream",
     "text": [
      "\n",
      "--- Epoch 66/100 Summary ---\n",
      "  Train Loss: 0.4634 | Val Loss: 0.3867\n",
      "  Accuracy: 0.8687 | Precision: 0.8687 | Recall: 0.8687 | F1: 0.8687\n",
      "  Learning Rate: 0.000273\n"
     ]
    },
    {
     "data": {
      "application/vnd.jupyter.widget-view+json": {
       "model_id": "49c6dba9b56d47d2a21a204366c658d0",
       "version_major": 2,
       "version_minor": 0
      },
      "text/plain": [
       "Epoch 67/100 [Training]:   0%|          | 0/4150 [00:00<?, ?it/s]"
      ]
     },
     "metadata": {},
     "output_type": "display_data"
    },
    {
     "data": {
      "application/vnd.jupyter.widget-view+json": {
       "model_id": "188b1af3b6e44f888990eb3e3c420fbb",
       "version_major": 2,
       "version_minor": 0
      },
      "text/plain": [
       "Epoch 67/100 [Validation]:   0%|          | 0/1038 [00:00<?, ?it/s]"
      ]
     },
     "metadata": {},
     "output_type": "display_data"
    },
    {
     "name": "stdout",
     "output_type": "stream",
     "text": [
      "\n",
      "--- Epoch 67/100 Summary ---\n",
      "  Train Loss: 0.4535 | Val Loss: 0.2913\n",
      "  Accuracy: 0.9021 | Precision: 0.9021 | Recall: 0.9021 | F1: 0.9021\n",
      "  Learning Rate: 0.000259\n"
     ]
    },
    {
     "data": {
      "application/vnd.jupyter.widget-view+json": {
       "model_id": "2ab1b85aeced410ba9442185d4a6201f",
       "version_major": 2,
       "version_minor": 0
      },
      "text/plain": [
       "Epoch 68/100 [Training]:   0%|          | 0/4150 [00:00<?, ?it/s]"
      ]
     },
     "metadata": {},
     "output_type": "display_data"
    },
    {
     "data": {
      "application/vnd.jupyter.widget-view+json": {
       "model_id": "da30379b5f67406d8a081698e4ebddb7",
       "version_major": 2,
       "version_minor": 0
      },
      "text/plain": [
       "Epoch 68/100 [Validation]:   0%|          | 0/1038 [00:00<?, ?it/s]"
      ]
     },
     "metadata": {},
     "output_type": "display_data"
    },
    {
     "name": "stdout",
     "output_type": "stream",
     "text": [
      "\n",
      "--- Epoch 68/100 Summary ---\n",
      "  Train Loss: 0.4414 | Val Loss: 0.2935\n",
      "  Accuracy: 0.9019 | Precision: 0.9019 | Recall: 0.9019 | F1: 0.9019\n",
      "  Learning Rate: 0.000245\n"
     ]
    },
    {
     "data": {
      "application/vnd.jupyter.widget-view+json": {
       "model_id": "2e8e7b903e09499faf88a93864085836",
       "version_major": 2,
       "version_minor": 0
      },
      "text/plain": [
       "Epoch 69/100 [Training]:   0%|          | 0/4150 [00:00<?, ?it/s]"
      ]
     },
     "metadata": {},
     "output_type": "display_data"
    },
    {
     "data": {
      "application/vnd.jupyter.widget-view+json": {
       "model_id": "69fe4938039d4c57acab8fdd08927d38",
       "version_major": 2,
       "version_minor": 0
      },
      "text/plain": [
       "Epoch 69/100 [Validation]:   0%|          | 0/1038 [00:00<?, ?it/s]"
      ]
     },
     "metadata": {},
     "output_type": "display_data"
    },
    {
     "name": "stdout",
     "output_type": "stream",
     "text": [
      "\n",
      "--- Epoch 69/100 Summary ---\n",
      "  Train Loss: 0.4381 | Val Loss: 0.2771\n",
      "  Accuracy: 0.9060 | Precision: 0.9060 | Recall: 0.9060 | F1: 0.9060\n",
      "  Learning Rate: 0.000232\n"
     ]
    },
    {
     "data": {
      "application/vnd.jupyter.widget-view+json": {
       "model_id": "a1b4d3b63ce84a0e912eafe4393bce2d",
       "version_major": 2,
       "version_minor": 0
      },
      "text/plain": [
       "Epoch 70/100 [Training]:   0%|          | 0/4150 [00:00<?, ?it/s]"
      ]
     },
     "metadata": {},
     "output_type": "display_data"
    },
    {
     "data": {
      "application/vnd.jupyter.widget-view+json": {
       "model_id": "9cba76161d3c41068a14af3c517388bd",
       "version_major": 2,
       "version_minor": 0
      },
      "text/plain": [
       "Epoch 70/100 [Validation]:   0%|          | 0/1038 [00:00<?, ?it/s]"
      ]
     },
     "metadata": {},
     "output_type": "display_data"
    },
    {
     "name": "stdout",
     "output_type": "stream",
     "text": [
      "\n",
      "--- Epoch 70/100 Summary ---\n",
      "  Train Loss: 0.4327 | Val Loss: 0.2852\n",
      "  Accuracy: 0.9029 | Precision: 0.9029 | Recall: 0.9029 | F1: 0.9029\n",
      "  Learning Rate: 0.000219\n"
     ]
    },
    {
     "data": {
      "application/vnd.jupyter.widget-view+json": {
       "model_id": "de5b8afd027d479388a0d8276cb96faf",
       "version_major": 2,
       "version_minor": 0
      },
      "text/plain": [
       "Epoch 71/100 [Training]:   0%|          | 0/4150 [00:00<?, ?it/s]"
      ]
     },
     "metadata": {},
     "output_type": "display_data"
    },
    {
     "data": {
      "application/vnd.jupyter.widget-view+json": {
       "model_id": "812aef1983404d2d8ff1ac07176288c3",
       "version_major": 2,
       "version_minor": 0
      },
      "text/plain": [
       "Epoch 71/100 [Validation]:   0%|          | 0/1038 [00:00<?, ?it/s]"
      ]
     },
     "metadata": {},
     "output_type": "display_data"
    },
    {
     "name": "stdout",
     "output_type": "stream",
     "text": [
      "\n",
      "--- Epoch 71/100 Summary ---\n",
      "  Train Loss: 0.4509 | Val Loss: 0.3219\n",
      "  Accuracy: 0.8917 | Precision: 0.8917 | Recall: 0.8917 | F1: 0.8917\n",
      "  Learning Rate: 0.000206\n"
     ]
    },
    {
     "data": {
      "application/vnd.jupyter.widget-view+json": {
       "model_id": "79448ad4d82746f08e20ec3de0bdc1fb",
       "version_major": 2,
       "version_minor": 0
      },
      "text/plain": [
       "Epoch 72/100 [Training]:   0%|          | 0/4150 [00:00<?, ?it/s]"
      ]
     },
     "metadata": {},
     "output_type": "display_data"
    },
    {
     "data": {
      "application/vnd.jupyter.widget-view+json": {
       "model_id": "9978b26f70a6409494f765f451b4d5bf",
       "version_major": 2,
       "version_minor": 0
      },
      "text/plain": [
       "Epoch 72/100 [Validation]:   0%|          | 0/1038 [00:00<?, ?it/s]"
      ]
     },
     "metadata": {},
     "output_type": "display_data"
    },
    {
     "name": "stdout",
     "output_type": "stream",
     "text": [
      "\n",
      "--- Epoch 72/100 Summary ---\n",
      "  Train Loss: 0.4438 | Val Loss: 0.3050\n",
      "  Accuracy: 0.8963 | Precision: 0.8963 | Recall: 0.8963 | F1: 0.8963\n",
      "  Learning Rate: 0.000194\n"
     ]
    },
    {
     "data": {
      "application/vnd.jupyter.widget-view+json": {
       "model_id": "fb7d2b114fb44e5e98a26e1ba98026d2",
       "version_major": 2,
       "version_minor": 0
      },
      "text/plain": [
       "Epoch 73/100 [Training]:   0%|          | 0/4150 [00:00<?, ?it/s]"
      ]
     },
     "metadata": {},
     "output_type": "display_data"
    },
    {
     "data": {
      "application/vnd.jupyter.widget-view+json": {
       "model_id": "80c3a0011bdd486f814b9c9a7b6e1f2a",
       "version_major": 2,
       "version_minor": 0
      },
      "text/plain": [
       "Epoch 73/100 [Validation]:   0%|          | 0/1038 [00:00<?, ?it/s]"
      ]
     },
     "metadata": {},
     "output_type": "display_data"
    },
    {
     "name": "stdout",
     "output_type": "stream",
     "text": [
      "\n",
      "--- Epoch 73/100 Summary ---\n",
      "  Train Loss: 0.4465 | Val Loss: 0.2944\n",
      "  Accuracy: 0.9014 | Precision: 0.9014 | Recall: 0.9014 | F1: 0.9014\n",
      "  Learning Rate: 0.000181\n"
     ]
    },
    {
     "data": {
      "application/vnd.jupyter.widget-view+json": {
       "model_id": "238e7468c34a4564a26c9bbee045d688",
       "version_major": 2,
       "version_minor": 0
      },
      "text/plain": [
       "Epoch 74/100 [Training]:   0%|          | 0/4150 [00:00<?, ?it/s]"
      ]
     },
     "metadata": {},
     "output_type": "display_data"
    },
    {
     "data": {
      "application/vnd.jupyter.widget-view+json": {
       "model_id": "5b8486bd665e428aaa2d633f45cc9cf1",
       "version_major": 2,
       "version_minor": 0
      },
      "text/plain": [
       "Epoch 74/100 [Validation]:   0%|          | 0/1038 [00:00<?, ?it/s]"
      ]
     },
     "metadata": {},
     "output_type": "display_data"
    },
    {
     "name": "stdout",
     "output_type": "stream",
     "text": [
      "\n",
      "--- Epoch 74/100 Summary ---\n",
      "  Train Loss: 0.4343 | Val Loss: 0.2773\n",
      "  Accuracy: 0.9056 | Precision: 0.9056 | Recall: 0.9056 | F1: 0.9056\n",
      "  Learning Rate: 0.000169\n"
     ]
    },
    {
     "data": {
      "application/vnd.jupyter.widget-view+json": {
       "model_id": "56e0114d97d14bb99d0368e874dde016",
       "version_major": 2,
       "version_minor": 0
      },
      "text/plain": [
       "Epoch 75/100 [Training]:   0%|          | 0/4150 [00:00<?, ?it/s]"
      ]
     },
     "metadata": {},
     "output_type": "display_data"
    },
    {
     "data": {
      "application/vnd.jupyter.widget-view+json": {
       "model_id": "7fa1bf6018564ae1a74e498242205852",
       "version_major": 2,
       "version_minor": 0
      },
      "text/plain": [
       "Epoch 75/100 [Validation]:   0%|          | 0/1038 [00:00<?, ?it/s]"
      ]
     },
     "metadata": {},
     "output_type": "display_data"
    },
    {
     "name": "stdout",
     "output_type": "stream",
     "text": [
      "\n",
      "--- Epoch 75/100 Summary ---\n",
      "  Train Loss: 0.4539 | Val Loss: 0.3269\n",
      "  Accuracy: 0.8884 | Precision: 0.8884 | Recall: 0.8884 | F1: 0.8884\n",
      "  Learning Rate: 0.000158\n"
     ]
    },
    {
     "data": {
      "application/vnd.jupyter.widget-view+json": {
       "model_id": "88ec06ac884b4154bf8eaac3dcb1abb7",
       "version_major": 2,
       "version_minor": 0
      },
      "text/plain": [
       "Epoch 76/100 [Training]:   0%|          | 0/4150 [00:00<?, ?it/s]"
      ]
     },
     "metadata": {},
     "output_type": "display_data"
    },
    {
     "data": {
      "application/vnd.jupyter.widget-view+json": {
       "model_id": "ebdd975d24f34be18d4a127f70c01a84",
       "version_major": 2,
       "version_minor": 0
      },
      "text/plain": [
       "Epoch 76/100 [Validation]:   0%|          | 0/1038 [00:00<?, ?it/s]"
      ]
     },
     "metadata": {},
     "output_type": "display_data"
    },
    {
     "name": "stdout",
     "output_type": "stream",
     "text": [
      "\n",
      "--- Epoch 76/100 Summary ---\n",
      "  Train Loss: 0.4300 | Val Loss: 0.3435\n",
      "  Accuracy: 0.8830 | Precision: 0.8830 | Recall: 0.8830 | F1: 0.8830\n",
      "  Learning Rate: 0.000146\n"
     ]
    },
    {
     "data": {
      "application/vnd.jupyter.widget-view+json": {
       "model_id": "65e663b6f2cd42ab9682466f4d953a65",
       "version_major": 2,
       "version_minor": 0
      },
      "text/plain": [
       "Epoch 77/100 [Training]:   0%|          | 0/4150 [00:00<?, ?it/s]"
      ]
     },
     "metadata": {},
     "output_type": "display_data"
    },
    {
     "data": {
      "application/vnd.jupyter.widget-view+json": {
       "model_id": "ab98b7cb0b5e46149d6ef9bb1513d781",
       "version_major": 2,
       "version_minor": 0
      },
      "text/plain": [
       "Epoch 77/100 [Validation]:   0%|          | 0/1038 [00:00<?, ?it/s]"
      ]
     },
     "metadata": {},
     "output_type": "display_data"
    },
    {
     "name": "stdout",
     "output_type": "stream",
     "text": [
      "\n",
      "--- Epoch 77/100 Summary ---\n",
      "  Train Loss: 0.4359 | Val Loss: 0.3046\n",
      "  Accuracy: 0.8993 | Precision: 0.8993 | Recall: 0.8993 | F1: 0.8993\n",
      "  Learning Rate: 0.000136\n"
     ]
    },
    {
     "data": {
      "application/vnd.jupyter.widget-view+json": {
       "model_id": "d888b6bf87d443c69d8f6f4035d3fcf8",
       "version_major": 2,
       "version_minor": 0
      },
      "text/plain": [
       "Epoch 78/100 [Training]:   0%|          | 0/4150 [00:00<?, ?it/s]"
      ]
     },
     "metadata": {},
     "output_type": "display_data"
    },
    {
     "data": {
      "application/vnd.jupyter.widget-view+json": {
       "model_id": "78639d3f46594343b44be01473ec4995",
       "version_major": 2,
       "version_minor": 0
      },
      "text/plain": [
       "Epoch 78/100 [Validation]:   0%|          | 0/1038 [00:00<?, ?it/s]"
      ]
     },
     "metadata": {},
     "output_type": "display_data"
    },
    {
     "name": "stdout",
     "output_type": "stream",
     "text": [
      "\n",
      "--- Epoch 78/100 Summary ---\n",
      "  Train Loss: 0.4201 | Val Loss: 0.2900\n",
      "  Accuracy: 0.9019 | Precision: 0.9019 | Recall: 0.9019 | F1: 0.9019\n",
      "  Learning Rate: 0.000125\n"
     ]
    },
    {
     "data": {
      "application/vnd.jupyter.widget-view+json": {
       "model_id": "b91141b6bdbf4dd48b4afa6c2166c7cf",
       "version_major": 2,
       "version_minor": 0
      },
      "text/plain": [
       "Epoch 79/100 [Training]:   0%|          | 0/4150 [00:00<?, ?it/s]"
      ]
     },
     "metadata": {},
     "output_type": "display_data"
    },
    {
     "data": {
      "application/vnd.jupyter.widget-view+json": {
       "model_id": "6b6eff025a01417ea457d12330ff012d",
       "version_major": 2,
       "version_minor": 0
      },
      "text/plain": [
       "Epoch 79/100 [Validation]:   0%|          | 0/1038 [00:00<?, ?it/s]"
      ]
     },
     "metadata": {},
     "output_type": "display_data"
    },
    {
     "name": "stdout",
     "output_type": "stream",
     "text": [
      "\n",
      "--- Epoch 79/100 Summary ---\n",
      "  Train Loss: 0.4386 | Val Loss: 0.2773\n",
      "  Accuracy: 0.9064 | Precision: 0.9064 | Recall: 0.9064 | F1: 0.9064\n",
      "  Learning Rate: 0.000115\n",
      "  => 🎉 New best model saved to 'F:/Working Sync/LAB projects/InsectSELD/Dataset/checkpoints_tiny\\best_model.pth' (F1: 0.9064)\n",
      "\n"
     ]
    },
    {
     "data": {
      "application/vnd.jupyter.widget-view+json": {
       "model_id": "3977480ca6c0455fbee1ad4956780541",
       "version_major": 2,
       "version_minor": 0
      },
      "text/plain": [
       "Epoch 80/100 [Training]:   0%|          | 0/4150 [00:00<?, ?it/s]"
      ]
     },
     "metadata": {},
     "output_type": "display_data"
    },
    {
     "data": {
      "application/vnd.jupyter.widget-view+json": {
       "model_id": "47b6cd3b1e5a4bbd9907e8f8395cb8a7",
       "version_major": 2,
       "version_minor": 0
      },
      "text/plain": [
       "Epoch 80/100 [Validation]:   0%|          | 0/1038 [00:00<?, ?it/s]"
      ]
     },
     "metadata": {},
     "output_type": "display_data"
    },
    {
     "name": "stdout",
     "output_type": "stream",
     "text": [
      "\n",
      "--- Epoch 80/100 Summary ---\n",
      "  Train Loss: 0.4214 | Val Loss: 0.2782\n",
      "  Accuracy: 0.9073 | Precision: 0.9073 | Recall: 0.9073 | F1: 0.9073\n",
      "  Learning Rate: 0.000105\n",
      "  => 🎉 New best model saved to 'F:/Working Sync/LAB projects/InsectSELD/Dataset/checkpoints_tiny\\best_model.pth' (F1: 0.9073)\n",
      "\n"
     ]
    },
    {
     "data": {
      "application/vnd.jupyter.widget-view+json": {
       "model_id": "890284392c5e4e69ae27a386a1daca3f",
       "version_major": 2,
       "version_minor": 0
      },
      "text/plain": [
       "Epoch 81/100 [Training]:   0%|          | 0/4150 [00:00<?, ?it/s]"
      ]
     },
     "metadata": {},
     "output_type": "display_data"
    },
    {
     "data": {
      "application/vnd.jupyter.widget-view+json": {
       "model_id": "eebd8c72d3444950aa3874fc35c48350",
       "version_major": 2,
       "version_minor": 0
      },
      "text/plain": [
       "Epoch 81/100 [Validation]:   0%|          | 0/1038 [00:00<?, ?it/s]"
      ]
     },
     "metadata": {},
     "output_type": "display_data"
    },
    {
     "name": "stdout",
     "output_type": "stream",
     "text": [
      "\n",
      "--- Epoch 81/100 Summary ---\n",
      "  Train Loss: 0.4371 | Val Loss: 0.2718\n",
      "  Accuracy: 0.9074 | Precision: 0.9074 | Recall: 0.9074 | F1: 0.9074\n",
      "  Learning Rate: 0.000095\n",
      "  => 🎉 New best model saved to 'F:/Working Sync/LAB projects/InsectSELD/Dataset/checkpoints_tiny\\best_model.pth' (F1: 0.9074)\n",
      "\n"
     ]
    },
    {
     "data": {
      "application/vnd.jupyter.widget-view+json": {
       "model_id": "7f55a64cc97c4f80a0b8d5b69a91277a",
       "version_major": 2,
       "version_minor": 0
      },
      "text/plain": [
       "Epoch 82/100 [Training]:   0%|          | 0/4150 [00:00<?, ?it/s]"
      ]
     },
     "metadata": {},
     "output_type": "display_data"
    },
    {
     "data": {
      "application/vnd.jupyter.widget-view+json": {
       "model_id": "17370a5db6a0420c88ecb86aae2361f6",
       "version_major": 2,
       "version_minor": 0
      },
      "text/plain": [
       "Epoch 82/100 [Validation]:   0%|          | 0/1038 [00:00<?, ?it/s]"
      ]
     },
     "metadata": {},
     "output_type": "display_data"
    },
    {
     "name": "stdout",
     "output_type": "stream",
     "text": [
      "\n",
      "--- Epoch 82/100 Summary ---\n",
      "  Train Loss: 0.4375 | Val Loss: 0.2745\n",
      "  Accuracy: 0.9073 | Precision: 0.9073 | Recall: 0.9073 | F1: 0.9073\n",
      "  Learning Rate: 0.000086\n"
     ]
    },
    {
     "data": {
      "application/vnd.jupyter.widget-view+json": {
       "model_id": "5b92c4012e81434697185dcd7209739d",
       "version_major": 2,
       "version_minor": 0
      },
      "text/plain": [
       "Epoch 83/100 [Training]:   0%|          | 0/4150 [00:00<?, ?it/s]"
      ]
     },
     "metadata": {},
     "output_type": "display_data"
    },
    {
     "data": {
      "application/vnd.jupyter.widget-view+json": {
       "model_id": "0068050890804467a8287a5ae6ee9d22",
       "version_major": 2,
       "version_minor": 0
      },
      "text/plain": [
       "Epoch 83/100 [Validation]:   0%|          | 0/1038 [00:00<?, ?it/s]"
      ]
     },
     "metadata": {},
     "output_type": "display_data"
    },
    {
     "name": "stdout",
     "output_type": "stream",
     "text": [
      "\n",
      "--- Epoch 83/100 Summary ---\n",
      "  Train Loss: 0.4364 | Val Loss: 0.2932\n",
      "  Accuracy: 0.9029 | Precision: 0.9029 | Recall: 0.9029 | F1: 0.9029\n",
      "  Learning Rate: 0.000078\n"
     ]
    },
    {
     "data": {
      "application/vnd.jupyter.widget-view+json": {
       "model_id": "cb17896e27a84294b2748de25b54990e",
       "version_major": 2,
       "version_minor": 0
      },
      "text/plain": [
       "Epoch 84/100 [Training]:   0%|          | 0/4150 [00:00<?, ?it/s]"
      ]
     },
     "metadata": {},
     "output_type": "display_data"
    },
    {
     "data": {
      "application/vnd.jupyter.widget-view+json": {
       "model_id": "1c84acb05947475fa5bb83199494920f",
       "version_major": 2,
       "version_minor": 0
      },
      "text/plain": [
       "Epoch 84/100 [Validation]:   0%|          | 0/1038 [00:00<?, ?it/s]"
      ]
     },
     "metadata": {},
     "output_type": "display_data"
    },
    {
     "name": "stdout",
     "output_type": "stream",
     "text": [
      "\n",
      "--- Epoch 84/100 Summary ---\n",
      "  Train Loss: 0.4289 | Val Loss: 0.2851\n",
      "  Accuracy: 0.9041 | Precision: 0.9041 | Recall: 0.9041 | F1: 0.9041\n",
      "  Learning Rate: 0.000070\n"
     ]
    },
    {
     "data": {
      "application/vnd.jupyter.widget-view+json": {
       "model_id": "44a69a1a24d64064bda3a8abd260fe35",
       "version_major": 2,
       "version_minor": 0
      },
      "text/plain": [
       "Epoch 85/100 [Training]:   0%|          | 0/4150 [00:00<?, ?it/s]"
      ]
     },
     "metadata": {},
     "output_type": "display_data"
    },
    {
     "data": {
      "application/vnd.jupyter.widget-view+json": {
       "model_id": "927837ca85a74383a7aaa06cbe47daf9",
       "version_major": 2,
       "version_minor": 0
      },
      "text/plain": [
       "Epoch 85/100 [Validation]:   0%|          | 0/1038 [00:00<?, ?it/s]"
      ]
     },
     "metadata": {},
     "output_type": "display_data"
    },
    {
     "name": "stdout",
     "output_type": "stream",
     "text": [
      "\n",
      "--- Epoch 85/100 Summary ---\n",
      "  Train Loss: 0.4184 | Val Loss: 0.2901\n",
      "  Accuracy: 0.9029 | Precision: 0.9029 | Recall: 0.9029 | F1: 0.9029\n",
      "  Learning Rate: 0.000062\n"
     ]
    },
    {
     "data": {
      "application/vnd.jupyter.widget-view+json": {
       "model_id": "820c72c93b8a40528f266d7cd8699ebd",
       "version_major": 2,
       "version_minor": 0
      },
      "text/plain": [
       "Epoch 86/100 [Training]:   0%|          | 0/4150 [00:00<?, ?it/s]"
      ]
     },
     "metadata": {},
     "output_type": "display_data"
    },
    {
     "data": {
      "application/vnd.jupyter.widget-view+json": {
       "model_id": "c43a223b1e4840cbb5ff751e3b35412b",
       "version_major": 2,
       "version_minor": 0
      },
      "text/plain": [
       "Epoch 86/100 [Validation]:   0%|          | 0/1038 [00:00<?, ?it/s]"
      ]
     },
     "metadata": {},
     "output_type": "display_data"
    },
    {
     "name": "stdout",
     "output_type": "stream",
     "text": [
      "\n",
      "--- Epoch 86/100 Summary ---\n",
      "  Train Loss: 0.4226 | Val Loss: 0.2803\n",
      "  Accuracy: 0.9060 | Precision: 0.9060 | Recall: 0.9060 | F1: 0.9060\n",
      "  Learning Rate: 0.000054\n"
     ]
    },
    {
     "data": {
      "application/vnd.jupyter.widget-view+json": {
       "model_id": "4cace57701824b2f94d8a77f875fb6a2",
       "version_major": 2,
       "version_minor": 0
      },
      "text/plain": [
       "Epoch 87/100 [Training]:   0%|          | 0/4150 [00:00<?, ?it/s]"
      ]
     },
     "metadata": {},
     "output_type": "display_data"
    },
    {
     "data": {
      "application/vnd.jupyter.widget-view+json": {
       "model_id": "7838bbefddac46f192770be4a688cdf3",
       "version_major": 2,
       "version_minor": 0
      },
      "text/plain": [
       "Epoch 87/100 [Validation]:   0%|          | 0/1038 [00:00<?, ?it/s]"
      ]
     },
     "metadata": {},
     "output_type": "display_data"
    },
    {
     "name": "stdout",
     "output_type": "stream",
     "text": [
      "\n",
      "--- Epoch 87/100 Summary ---\n",
      "  Train Loss: 0.4304 | Val Loss: 0.2918\n",
      "  Accuracy: 0.9043 | Precision: 0.9043 | Recall: 0.9043 | F1: 0.9043\n",
      "  Learning Rate: 0.000048\n"
     ]
    },
    {
     "data": {
      "application/vnd.jupyter.widget-view+json": {
       "model_id": "d530a98327ac490cb1e80ba08a798c0a",
       "version_major": 2,
       "version_minor": 0
      },
      "text/plain": [
       "Epoch 88/100 [Training]:   0%|          | 0/4150 [00:00<?, ?it/s]"
      ]
     },
     "metadata": {},
     "output_type": "display_data"
    },
    {
     "data": {
      "application/vnd.jupyter.widget-view+json": {
       "model_id": "56cbf6fd400e4feba7c9e0e5ef55e3a9",
       "version_major": 2,
       "version_minor": 0
      },
      "text/plain": [
       "Epoch 88/100 [Validation]:   0%|          | 0/1038 [00:00<?, ?it/s]"
      ]
     },
     "metadata": {},
     "output_type": "display_data"
    },
    {
     "name": "stdout",
     "output_type": "stream",
     "text": [
      "\n",
      "--- Epoch 88/100 Summary ---\n",
      "  Train Loss: 0.4180 | Val Loss: 0.2908\n",
      "  Accuracy: 0.9044 | Precision: 0.9044 | Recall: 0.9044 | F1: 0.9044\n",
      "  Learning Rate: 0.000041\n"
     ]
    },
    {
     "data": {
      "application/vnd.jupyter.widget-view+json": {
       "model_id": "ee51f01e64904efab6c201ff9f3e6071",
       "version_major": 2,
       "version_minor": 0
      },
      "text/plain": [
       "Epoch 89/100 [Training]:   0%|          | 0/4150 [00:00<?, ?it/s]"
      ]
     },
     "metadata": {},
     "output_type": "display_data"
    },
    {
     "data": {
      "application/vnd.jupyter.widget-view+json": {
       "model_id": "a5725c40331141d9ad742e46532341eb",
       "version_major": 2,
       "version_minor": 0
      },
      "text/plain": [
       "Epoch 89/100 [Validation]:   0%|          | 0/1038 [00:00<?, ?it/s]"
      ]
     },
     "metadata": {},
     "output_type": "display_data"
    },
    {
     "name": "stdout",
     "output_type": "stream",
     "text": [
      "\n",
      "--- Epoch 89/100 Summary ---\n",
      "  Train Loss: 0.4225 | Val Loss: 0.2802\n",
      "  Accuracy: 0.9066 | Precision: 0.9066 | Recall: 0.9066 | F1: 0.9066\n",
      "  Learning Rate: 0.000035\n"
     ]
    },
    {
     "data": {
      "application/vnd.jupyter.widget-view+json": {
       "model_id": "5d53c2b904e947e6bca246e68ec988bc",
       "version_major": 2,
       "version_minor": 0
      },
      "text/plain": [
       "Epoch 90/100 [Training]:   0%|          | 0/4150 [00:00<?, ?it/s]"
      ]
     },
     "metadata": {},
     "output_type": "display_data"
    },
    {
     "data": {
      "application/vnd.jupyter.widget-view+json": {
       "model_id": "60a02d7b17104dd1a3274e94c7550adb",
       "version_major": 2,
       "version_minor": 0
      },
      "text/plain": [
       "Epoch 90/100 [Validation]:   0%|          | 0/1038 [00:00<?, ?it/s]"
      ]
     },
     "metadata": {},
     "output_type": "display_data"
    },
    {
     "name": "stdout",
     "output_type": "stream",
     "text": [
      "\n",
      "--- Epoch 90/100 Summary ---\n",
      "  Train Loss: 0.4230 | Val Loss: 0.2773\n",
      "  Accuracy: 0.9063 | Precision: 0.9063 | Recall: 0.9063 | F1: 0.9063\n",
      "  Learning Rate: 0.000030\n"
     ]
    },
    {
     "data": {
      "application/vnd.jupyter.widget-view+json": {
       "model_id": "d99c15dec30c40d092270b8609ed7828",
       "version_major": 2,
       "version_minor": 0
      },
      "text/plain": [
       "Epoch 91/100 [Training]:   0%|          | 0/4150 [00:00<?, ?it/s]"
      ]
     },
     "metadata": {},
     "output_type": "display_data"
    },
    {
     "data": {
      "application/vnd.jupyter.widget-view+json": {
       "model_id": "e6d3839dad554123bf4e6ecdc586e9c2",
       "version_major": 2,
       "version_minor": 0
      },
      "text/plain": [
       "Epoch 91/100 [Validation]:   0%|          | 0/1038 [00:00<?, ?it/s]"
      ]
     },
     "metadata": {},
     "output_type": "display_data"
    },
    {
     "name": "stdout",
     "output_type": "stream",
     "text": [
      "\n",
      "--- Epoch 91/100 Summary ---\n",
      "  Train Loss: 0.4313 | Val Loss: 0.2815\n",
      "  Accuracy: 0.9048 | Precision: 0.9048 | Recall: 0.9048 | F1: 0.9048\n",
      "  Learning Rate: 0.000024\n"
     ]
    },
    {
     "data": {
      "application/vnd.jupyter.widget-view+json": {
       "model_id": "4a971511611d4e2985c457ca5329fe08",
       "version_major": 2,
       "version_minor": 0
      },
      "text/plain": [
       "Epoch 92/100 [Training]:   0%|          | 0/4150 [00:00<?, ?it/s]"
      ]
     },
     "metadata": {},
     "output_type": "display_data"
    },
    {
     "data": {
      "application/vnd.jupyter.widget-view+json": {
       "model_id": "46b2704a52434f25afe575428df39a1a",
       "version_major": 2,
       "version_minor": 0
      },
      "text/plain": [
       "Epoch 92/100 [Validation]:   0%|          | 0/1038 [00:00<?, ?it/s]"
      ]
     },
     "metadata": {},
     "output_type": "display_data"
    },
    {
     "name": "stdout",
     "output_type": "stream",
     "text": [
      "\n",
      "--- Epoch 92/100 Summary ---\n",
      "  Train Loss: 0.4164 | Val Loss: 0.2779\n",
      "  Accuracy: 0.9067 | Precision: 0.9067 | Recall: 0.9067 | F1: 0.9067\n",
      "  Learning Rate: 0.000020\n"
     ]
    },
    {
     "data": {
      "application/vnd.jupyter.widget-view+json": {
       "model_id": "3b666ce84cc840b5a4ff2949f564c996",
       "version_major": 2,
       "version_minor": 0
      },
      "text/plain": [
       "Epoch 93/100 [Training]:   0%|          | 0/4150 [00:00<?, ?it/s]"
      ]
     },
     "metadata": {},
     "output_type": "display_data"
    },
    {
     "data": {
      "application/vnd.jupyter.widget-view+json": {
       "model_id": "440e7423920543238e8bfa28e5358a41",
       "version_major": 2,
       "version_minor": 0
      },
      "text/plain": [
       "Epoch 93/100 [Validation]:   0%|          | 0/1038 [00:00<?, ?it/s]"
      ]
     },
     "metadata": {},
     "output_type": "display_data"
    },
    {
     "name": "stdout",
     "output_type": "stream",
     "text": [
      "\n",
      "--- Epoch 93/100 Summary ---\n",
      "  Train Loss: 0.4118 | Val Loss: 0.2804\n",
      "  Accuracy: 0.9055 | Precision: 0.9055 | Recall: 0.9055 | F1: 0.9055\n",
      "  Learning Rate: 0.000016\n"
     ]
    },
    {
     "data": {
      "application/vnd.jupyter.widget-view+json": {
       "model_id": "c352c97376e44045a2bb004fd3119e42",
       "version_major": 2,
       "version_minor": 0
      },
      "text/plain": [
       "Epoch 94/100 [Training]:   0%|          | 0/4150 [00:00<?, ?it/s]"
      ]
     },
     "metadata": {},
     "output_type": "display_data"
    },
    {
     "data": {
      "application/vnd.jupyter.widget-view+json": {
       "model_id": "516f96c805184c859d8d46beaaabf5a6",
       "version_major": 2,
       "version_minor": 0
      },
      "text/plain": [
       "Epoch 94/100 [Validation]:   0%|          | 0/1038 [00:00<?, ?it/s]"
      ]
     },
     "metadata": {},
     "output_type": "display_data"
    },
    {
     "name": "stdout",
     "output_type": "stream",
     "text": [
      "\n",
      "--- Epoch 94/100 Summary ---\n",
      "  Train Loss: 0.4233 | Val Loss: 0.2731\n",
      "  Accuracy: 0.9074 | Precision: 0.9074 | Recall: 0.9074 | F1: 0.9074\n",
      "  Learning Rate: 0.000012\n"
     ]
    },
    {
     "data": {
      "application/vnd.jupyter.widget-view+json": {
       "model_id": "64934aa1d05343a4985298657616626a",
       "version_major": 2,
       "version_minor": 0
      },
      "text/plain": [
       "Epoch 95/100 [Training]:   0%|          | 0/4150 [00:00<?, ?it/s]"
      ]
     },
     "metadata": {},
     "output_type": "display_data"
    },
    {
     "data": {
      "application/vnd.jupyter.widget-view+json": {
       "model_id": "bf5c808d562a4b8fa7c7311e63ef974b",
       "version_major": 2,
       "version_minor": 0
      },
      "text/plain": [
       "Epoch 95/100 [Validation]:   0%|          | 0/1038 [00:00<?, ?it/s]"
      ]
     },
     "metadata": {},
     "output_type": "display_data"
    },
    {
     "name": "stdout",
     "output_type": "stream",
     "text": [
      "\n",
      "--- Epoch 95/100 Summary ---\n",
      "  Train Loss: 0.4263 | Val Loss: 0.2874\n",
      "  Accuracy: 0.9051 | Precision: 0.9051 | Recall: 0.9051 | F1: 0.9051\n",
      "  Learning Rate: 0.000009\n"
     ]
    },
    {
     "data": {
      "application/vnd.jupyter.widget-view+json": {
       "model_id": "e73f585b7e904306814aa029e9f8a14e",
       "version_major": 2,
       "version_minor": 0
      },
      "text/plain": [
       "Epoch 96/100 [Training]:   0%|          | 0/4150 [00:00<?, ?it/s]"
      ]
     },
     "metadata": {},
     "output_type": "display_data"
    },
    {
     "data": {
      "application/vnd.jupyter.widget-view+json": {
       "model_id": "3c36ef9d3de94a768f3a335cf38f05b0",
       "version_major": 2,
       "version_minor": 0
      },
      "text/plain": [
       "Epoch 96/100 [Validation]:   0%|          | 0/1038 [00:00<?, ?it/s]"
      ]
     },
     "metadata": {},
     "output_type": "display_data"
    },
    {
     "name": "stdout",
     "output_type": "stream",
     "text": [
      "\n",
      "--- Epoch 96/100 Summary ---\n",
      "  Train Loss: 0.4235 | Val Loss: 0.2846\n",
      "  Accuracy: 0.9054 | Precision: 0.9054 | Recall: 0.9054 | F1: 0.9054\n",
      "  Learning Rate: 0.000006\n"
     ]
    },
    {
     "data": {
      "application/vnd.jupyter.widget-view+json": {
       "model_id": "3c6ca542ce4e4c908c53159abbc66107",
       "version_major": 2,
       "version_minor": 0
      },
      "text/plain": [
       "Epoch 97/100 [Training]:   0%|          | 0/4150 [00:00<?, ?it/s]"
      ]
     },
     "metadata": {},
     "output_type": "display_data"
    },
    {
     "data": {
      "application/vnd.jupyter.widget-view+json": {
       "model_id": "b9e3d0c1de884c2f8532c36254a9aafb",
       "version_major": 2,
       "version_minor": 0
      },
      "text/plain": [
       "Epoch 97/100 [Validation]:   0%|          | 0/1038 [00:00<?, ?it/s]"
      ]
     },
     "metadata": {},
     "output_type": "display_data"
    },
    {
     "name": "stdout",
     "output_type": "stream",
     "text": [
      "\n",
      "--- Epoch 97/100 Summary ---\n",
      "  Train Loss: 0.4119 | Val Loss: 0.2725\n",
      "  Accuracy: 0.9073 | Precision: 0.9073 | Recall: 0.9073 | F1: 0.9073\n",
      "  Learning Rate: 0.000004\n"
     ]
    },
    {
     "data": {
      "application/vnd.jupyter.widget-view+json": {
       "model_id": "69f722bf7b864ff7b0ea4c412246941d",
       "version_major": 2,
       "version_minor": 0
      },
      "text/plain": [
       "Epoch 98/100 [Training]:   0%|          | 0/4150 [00:00<?, ?it/s]"
      ]
     },
     "metadata": {},
     "output_type": "display_data"
    },
    {
     "data": {
      "application/vnd.jupyter.widget-view+json": {
       "model_id": "ba9a827cbf2f4e3ebec115e61f3112b4",
       "version_major": 2,
       "version_minor": 0
      },
      "text/plain": [
       "Epoch 98/100 [Validation]:   0%|          | 0/1038 [00:00<?, ?it/s]"
      ]
     },
     "metadata": {},
     "output_type": "display_data"
    },
    {
     "name": "stdout",
     "output_type": "stream",
     "text": [
      "\n",
      "--- Epoch 98/100 Summary ---\n",
      "  Train Loss: 0.4170 | Val Loss: 0.2830\n",
      "  Accuracy: 0.9065 | Precision: 0.9065 | Recall: 0.9065 | F1: 0.9065\n",
      "  Learning Rate: 0.000002\n"
     ]
    },
    {
     "data": {
      "application/vnd.jupyter.widget-view+json": {
       "model_id": "d735f2b34598428a92a0a39fce2b14ce",
       "version_major": 2,
       "version_minor": 0
      },
      "text/plain": [
       "Epoch 99/100 [Training]:   0%|          | 0/4150 [00:00<?, ?it/s]"
      ]
     },
     "metadata": {},
     "output_type": "display_data"
    },
    {
     "data": {
      "application/vnd.jupyter.widget-view+json": {
       "model_id": "dc1ad6b1dda54fc893c02d878cce1d8d",
       "version_major": 2,
       "version_minor": 0
      },
      "text/plain": [
       "Epoch 99/100 [Validation]:   0%|          | 0/1038 [00:00<?, ?it/s]"
      ]
     },
     "metadata": {},
     "output_type": "display_data"
    },
    {
     "name": "stdout",
     "output_type": "stream",
     "text": [
      "\n",
      "--- Epoch 99/100 Summary ---\n",
      "  Train Loss: 0.4250 | Val Loss: 0.3115\n",
      "  Accuracy: 0.8988 | Precision: 0.8988 | Recall: 0.8988 | F1: 0.8988\n",
      "  Learning Rate: 0.000001\n"
     ]
    },
    {
     "data": {
      "application/vnd.jupyter.widget-view+json": {
       "model_id": "d2eaf3ce79e74d43bfe08a8d5255f2c6",
       "version_major": 2,
       "version_minor": 0
      },
      "text/plain": [
       "Epoch 100/100 [Training]:   0%|          | 0/4150 [00:00<?, ?it/s]"
      ]
     },
     "metadata": {},
     "output_type": "display_data"
    },
    {
     "data": {
      "application/vnd.jupyter.widget-view+json": {
       "model_id": "660440c3c1364f52a61f1fac178e13d2",
       "version_major": 2,
       "version_minor": 0
      },
      "text/plain": [
       "Epoch 100/100 [Validation]:   0%|          | 0/1038 [00:00<?, ?it/s]"
      ]
     },
     "metadata": {},
     "output_type": "display_data"
    },
    {
     "name": "stdout",
     "output_type": "stream",
     "text": [
      "\n",
      "--- Epoch 100/100 Summary ---\n",
      "  Train Loss: 0.4133 | Val Loss: 0.2862\n",
      "  Accuracy: 0.9057 | Precision: 0.9057 | Recall: 0.9057 | F1: 0.9057\n",
      "  Learning Rate: 0.000000\n",
      "\n",
      "✅ Hoàn tất huấn luyện!\n"
     ]
    }
   ],
   "source": [
    "for epoch in range(EPOCHS):\n",
    "    # ---- Train ----\n",
    "    model.train()\n",
    "    running_loss = 0.0\n",
    "    progress_bar = tqdm(train_loader, desc=f\"Epoch {epoch+1}/{EPOCHS} [Training]\")\n",
    "    \n",
    "    for inputs, labels in progress_bar:\n",
    "        if -1 in labels:\n",
    "            continue  # Bỏ qua các mẫu bị lỗi\n",
    "        inputs, labels = inputs.to(device), labels.to(device)\n",
    "\n",
    "        # Mixup 50%\n",
    "        optimizer.zero_grad()\n",
    "        if torch.rand(1).item() < 0.5:\n",
    "            inputs, targets_a, targets_b, lam = mixup_data(inputs, labels, alpha=0.4)\n",
    "            outputs = model(inputs)\n",
    "            loss = mixup_criterion(criterion, outputs, targets_a, targets_b, lam)\n",
    "        else:\n",
    "            outputs = model(inputs)\n",
    "            loss = criterion(outputs, labels)\n",
    "\n",
    "        loss.backward()\n",
    "        optimizer.step()\n",
    "        running_loss += loss.item() * inputs.size(0)\n",
    "        progress_bar.set_postfix(loss=f\"{loss.item():.4f}\")\n",
    "\n",
    "    # ---- Validate ----\n",
    "    model.eval()\n",
    "    val_loss = 0.0\n",
    "    val_preds, val_labels = [], []\n",
    "    with torch.no_grad():\n",
    "        for inputs, labels in tqdm(val_loader, desc=f\"Epoch {epoch+1}/{EPOCHS} [Validation]\"):\n",
    "            if -1 in labels:\n",
    "                continue\n",
    "            inputs, labels = inputs.to(device), labels.to(device)\n",
    "            outputs = model(inputs)\n",
    "            loss = criterion(outputs, labels)\n",
    "            val_loss += loss.item() * inputs.size(0)\n",
    "\n",
    "            _, predicted = torch.max(outputs.data, 1)\n",
    "            val_preds.extend(predicted.cpu().numpy())\n",
    "            val_labels.extend(labels.cpu().numpy())\n",
    "\n",
    "    epoch_train_loss = running_loss / len(train_dataset)\n",
    "    epoch_val_loss   = val_loss / len(val_dataset)\n",
    "\n",
    "    # ==== METRICS (micro-average “bình thường”) ====\n",
    "    accuracy  = accuracy_score(val_labels, val_preds)\n",
    "    precision = precision_score(val_labels, val_preds, average='micro', zero_division=0)\n",
    "    recall    = recall_score(val_labels, val_preds, average='micro', zero_division=0)\n",
    "    f1        = f1_score(val_labels, val_preds, average='micro', zero_division=0)\n",
    "\n",
    "    current_lr = scheduler.get_last_lr()[0]\n",
    "    scheduler.step()\n",
    "\n",
    "    # ---- Print summary ----\n",
    "    print(f\"\\n--- Epoch {epoch+1}/{EPOCHS} Summary ---\")\n",
    "    print(f\"  Train Loss: {epoch_train_loss:.4f} | Val Loss: {epoch_val_loss:.4f}\")\n",
    "    print(f\"  Accuracy: {accuracy:.4f} | Precision: {precision:.4f} | Recall: {recall:.4f} | F1: {f1:.4f}\")\n",
    "    print(f\"  Learning Rate: {current_lr:.6f}\")\n",
    "\n",
    "    # ---- Log CSV ----\n",
    "    log_data = [epoch + 1, epoch_train_loss, epoch_val_loss, current_lr,\n",
    "                accuracy, precision, recall, f1]\n",
    "    with open(LOG_CSV_PATH, 'a', newline='', encoding='utf-8') as f:\n",
    "        csv.writer(f).writerow(log_data)\n",
    "\n",
    "    # ---- Save checkpoint ----\n",
    "    checkpoint_path = os.path.join(CHECKPOINT_DIR, f'checkpoint_epoch_{epoch+1}.pth')\n",
    "    torch.save({\n",
    "        'epoch': epoch + 1,\n",
    "        'model_state_dict': model.state_dict(),\n",
    "        'optimizer_state_dict': optimizer.state_dict(),\n",
    "    }, checkpoint_path)\n",
    "\n",
    "    # ---- Best model theo F1 (micro) ----\n",
    "    if f1 > best_val_f1:\n",
    "        best_val_f1 = f1\n",
    "        best_model_path = os.path.join(CHECKPOINT_DIR, 'best_model.pth')\n",
    "        torch.save(model.state_dict(), best_model_path)\n",
    "        print(f\"  => 🎉 New best model saved to '{best_model_path}' (F1: {best_val_f1:.4f})\\n\")\n",
    "\n",
    "print(\"\\n✅ Hoàn tất huấn luyện!\")"
   ]
  },
  {
   "cell_type": "code",
   "execution_count": 20,
   "id": "14308d2d-1055-4d95-8a25-7b3a75712b70",
   "metadata": {},
   "outputs": [
    {
     "data": {
      "image/png": "[encoded data removed]",
      "text/plain": [
       "<Figure size 1800x600 with 2 Axes>"
      ]
     },
     "metadata": {},
     "output_type": "display_data"
    }
   ],
   "source": [
    "log_df = pd.read_csv(LOG_CSV_PATH)\n",
    "\n",
    "# --- Vẽ biểu đồ Loss & Metrics ---\n",
    "fig, (ax1, ax2) = plt.subplots(1, 2, figsize=(18, 6))\n",
    "\n",
    "# Loss\n",
    "ax1.plot(log_df['epoch'], log_df['train_loss'], label='Train Loss', marker='o')\n",
    "ax1.plot(log_df['epoch'], log_df['val_loss'], label='Validation Loss', marker='o')\n",
    "ax1.set_title('Training & Validation Loss', fontsize=16)\n",
    "ax1.set_xlabel('Epoch', fontsize=12)\n",
    "ax1.set_ylabel('Loss', fontsize=12)\n",
    "ax1.legend()\n",
    "ax1.grid(True)\n",
    "\n",
    "# Metrics (theo log mới: accuracy, precision, recall, f1 - đều là micro)\n",
    "ax2.plot(log_df['epoch'], log_df['accuracy'], label='Accuracy', marker='o')\n",
    "#ax2.plot(log_df['epoch'], log_df['precision'], label='Precision', marker='o')\n",
    "#ax2.plot(log_df['epoch'], log_df['recall'], label='Recall', marker='o')\n",
    "#ax2.plot(log_df['epoch'], log_df['f1'], label='F1-score', marker='o')\n",
    "ax2.set_title('Validation Metrics', fontsize=16)\n",
    "ax2.set_xlabel('Epoch', fontsize=12)\n",
    "ax2.set_ylabel('Score', fontsize=12)\n",
    "ax2.legend()\n",
    "ax2.grid(True)\n",
    "\n",
    "plt.suptitle('Kết quả Huấn luyện PestLarvaNet-Tiny', fontsize=20)\n",
    "plt.show()\n"
   ]
  },
  {
   "cell_type": "code",
   "execution_count": 19,
   "id": "46bf939c-47a1-4a9b-9466-b1062c0da483",
   "metadata": {},
   "outputs": [
    {
     "name": "stdout",
     "output_type": "stream",
     "text": [
      "\n",
      "Tải trọng số model tốt nhất để vẽ Confusion Matrix.\n"
     ]
    },
    {
     "data": {
      "image/png": "[encoded data removed]",
      "text/plain": [
       "<Figure size 1200x1000 with 2 Axes>"
      ]
     },
     "metadata": {},
     "output_type": "display_data"
    }
   ],
   "source": [
    "best_model_path = os.path.join(CHECKPOINT_DIR, 'best_model.pth')\n",
    "if os.path.exists(best_model_path):\n",
    "    model.load_state_dict(torch.load(best_model_path, map_location=device))\n",
    "    print(\"\\nTải trọng số model tốt nhất để vẽ Confusion Matrix.\")\n",
    "    \n",
    "model.eval()\n",
    "all_preds, all_labels = [], []\n",
    "with torch.no_grad():\n",
    "    for inputs, labels in val_loader:\n",
    "        if -1 in labels: continue\n",
    "        inputs, labels = inputs.to(device), labels.to(device)\n",
    "        outputs = model(inputs)\n",
    "        _, predicted = torch.max(outputs.data, 1)\n",
    "        all_preds.extend(predicted.cpu().numpy())\n",
    "        all_labels.extend(labels.cpu().numpy())\n",
    "\n",
    "cm = confusion_matrix(all_labels, all_preds)\n",
    "plt.figure(figsize=(12, 10))\n",
    "sns.heatmap(cm, annot=True, fmt='d', cmap='Blues', \n",
    "            xticklabels=full_dataset.class_names, \n",
    "            yticklabels=full_dataset.class_names)\n",
    "plt.title('Confusion Matrix on Validation Set (Best Model)', fontsize=18)\n",
    "plt.xlabel('Predicted Label', fontsize=14)\n",
    "plt.ylabel('True Label', fontsize=14)\n",
    "plt.show()"
   ]
  },
  {
   "cell_type": "code",
   "execution_count": null,
   "id": "8fbcbd8d-cd99-41e2-8aa7-d882627cea7b",
   "metadata": {},
   "outputs": [],
   "source": []
  }
 ],
 "metadata": {
  "kernelspec": {
   "display_name": "Python 3 (ipykernel)",
   "language": "python",
   "name": "python3"
  },
  "language_info": {
   "codemirror_mode": {
    "name": "ipython",
    "version": 3
   },
   "file_extension": ".py",
   "mimetype": "text/x-python",
   "name": "python",
   "nbconvert_exporter": "python",
   "pygments_lexer": "ipython3",
   "version": "3.10.16"
  }
 },
 "nbformat": 4,
 "nbformat_minor": 5
}
